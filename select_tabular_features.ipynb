{
 "cells": [
  {
   "cell_type": "code",
   "execution_count": 1,
   "metadata": {},
   "outputs": [
    {
     "name": "stdout",
     "output_type": "stream",
     "text": [
      "Selecting features for target: X4_mean\n",
      "Selecting features for target: X11_mean\n",
      "Selecting features for target: X18_mean\n"
     ]
    }
   ],
   "source": [
    "import numpy as np\n",
    "import pandas as pd\n",
    "from sklearn.feature_selection import SelectKBest,  mutual_info_regression\n",
    "from sklearn.model_selection import train_test_split\n",
    "import pickle\n",
    "\n",
    "pd.set_option('display.max_rows', None)\n",
    "pd.set_option('display.max_columns', None)\n",
    "\n",
    "pickle_file_path = './data/train_df.pickle'\n",
    "mean_columns = ['X4_mean', 'X11_mean', 'X18_mean', 'X50_mean', 'X26_mean', 'X3112_mean']\n",
    "\n",
    "with open(pickle_file_path, 'rb') as f:\n",
    "    df = pickle.load(f)\n",
    "\n",
    "# df.info()\n",
    "# print(df.head())\n",
    "\n",
    "column_names = df.columns[1:-18].tolist()    \n",
    "X = df[column_names]  # Oletetaan, että viimeiset 6 saraketta ovat kohteita\n",
    "\n",
    "num_select = X.shape[1] // 2\n",
    "feature_scores = {column: 0 for column in column_names}\n",
    "feature_scores_df = pd.DataFrame(index=column_names)\n",
    "\n",
    "for target in mean_columns:    \n",
    "    print(f\"Selecting features for target: {target}\")\n",
    "    \n",
    "    y = df[target]\n",
    "    # Oletetaan, että haluat valita K parasta ominaisuutta, esim. 20\n",
    "    selector = SelectKBest(score_func=mutual_info_regression, k=num_select)\n",
    "    selector.fit(X, y)\n",
    "    \n",
    "    # Merkitse valitut ominaisuudet\n",
    "    selected_features = X.columns[selector.get_support()]\n",
    "    \n",
    "    # Lisää valittujen ominaisuuksien pisteet\n",
    "    for feature in selected_features:\n",
    "        feature_scores[feature] += 1\n",
    "    \n",
    "    feature_scores_df[target] = pd.Series(selector.scores_, index=X.columns)\n",
    "    \n",
    "print(\"\\nFeature scores for each target:\")\n",
    "print(feature_scores_df.fillna(0))  # NaN arvot täytetään nollilla, jos jokin ominaisuus ei valittu \n",
    "\n",
    "sorted_features = sorted(feature_scores.items(), key=lambda x: x[1], reverse=True)\n",
    "top_features = [feature for feature, score in sorted_features[:len(sorted_features) // 2]]\n",
    "\n",
    "# Tulostetaan top-ominaisuudet ja niiden pisteet\n",
    "top_features_df = pd.DataFrame(sorted_features[:len(sorted_features) // 2], columns=['Feature', 'Score']).set_index('Feature')\n",
    "print(\"\\nTop features selected across all targets:\")\n",
    "print(top_features_df)\n",
    "\n",
    "selected_features_pickle_path = './data/selected_features_list.pickle'\n",
    "with open(selected_features_pickle_path, 'wb') as f:\n",
    "    pickle.dump(top_features, f)\n",
    "\n",
    "\n"
   ]
  }
 ],
 "metadata": {
  "kernelspec": {
   "display_name": "tf",
   "language": "python",
   "name": "python3"
  },
  "language_info": {
   "codemirror_mode": {
    "name": "ipython",
    "version": 3
   },
   "file_extension": ".py",
   "mimetype": "text/x-python",
   "name": "python",
   "nbconvert_exporter": "python",
   "pygments_lexer": "ipython3",
   "version": "3.9.19"
  }
 },
 "nbformat": 4,
 "nbformat_minor": 2
}
