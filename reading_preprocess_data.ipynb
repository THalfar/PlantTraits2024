{
 "cells": [
  {
   "cell_type": "code",
   "execution_count": 1,
   "metadata": {},
   "outputs": [
    {
     "name": "stderr",
     "output_type": "stream",
     "text": [
      "2024-04-08 13:47:47.953600: I tensorflow/core/platform/cpu_feature_guard.cc:182] This TensorFlow binary is optimized to use available CPU instructions in performance-critical operations.\n",
      "To enable the following instructions: AVX2 FMA, in other operations, rebuild TensorFlow with the appropriate compiler flags.\n",
      "2024-04-08 13:47:48.532689: W tensorflow/compiler/tf2tensorrt/utils/py_utils.cc:38] TF-TRT Warning: Could not find TensorRT\n"
     ]
    }
   ],
   "source": [
    "import pandas as pd \n",
    "import matplotlib.pyplot as plt\n",
    "import os \n",
    "import seaborn as sns\n",
    "from sklearn.model_selection import train_test_split\n",
    "from sklearn.preprocessing import StandardScaler, MinMaxScaler,  RobustScaler\n",
    "import pickle\n",
    "import tensorflow as tf\n",
    "from tensorflow.keras.applications import EfficientNetV2M\n",
    "import numpy as np\n",
    "import gc\n"
   ]
  },
  {
   "cell_type": "code",
   "execution_count": 2,
   "metadata": {},
   "outputs": [],
   "source": [
    "pickle_file_path = './data/test_df.pickle'\n",
    "\n",
    "with open(pickle_file_path, 'rb') as f:\n",
    "    test_df = pickle.load(f)\n",
    "\n",
    "pickle_file_path = './data/train_df.pickle'\n",
    "\n",
    "with open(pickle_file_path, 'rb') as f:\n",
    "    train_df = pickle.load(f)\n",
    "    \n",
    "\n"
   ]
  },
  {
   "cell_type": "code",
   "execution_count": 3,
   "metadata": {},
   "outputs": [
    {
     "name": "stdout",
     "output_type": "stream",
     "text": [
      "['WORLDCLIM_BIO1_annual_mean_temperature', 'WORLDCLIM_BIO12_annual_precipitation', 'WORLDCLIM_BIO13.BIO14_delta_precipitation_of_wettest_and_dryest_month', 'WORLDCLIM_BIO15_precipitation_seasonality', 'WORLDCLIM_BIO4_temperature_seasonality', 'WORLDCLIM_BIO7_temperature_annual_range', 'SOIL_bdod_0.5cm_mean_0.01_deg', 'SOIL_bdod_100.200cm_mean_0.01_deg', 'SOIL_bdod_15.30cm_mean_0.01_deg', 'SOIL_bdod_30.60cm_mean_0.01_deg', 'SOIL_bdod_5.15cm_mean_0.01_deg', 'SOIL_bdod_60.100cm_mean_0.01_deg', 'SOIL_cec_0.5cm_mean_0.01_deg', 'SOIL_cec_100.200cm_mean_0.01_deg', 'SOIL_cec_15.30cm_mean_0.01_deg', 'SOIL_cec_30.60cm_mean_0.01_deg', 'SOIL_cec_5.15cm_mean_0.01_deg', 'SOIL_cec_60.100cm_mean_0.01_deg', 'SOIL_cfvo_0.5cm_mean_0.01_deg', 'SOIL_cfvo_100.200cm_mean_0.01_deg', 'SOIL_cfvo_15.30cm_mean_0.01_deg', 'SOIL_cfvo_30.60cm_mean_0.01_deg', 'SOIL_cfvo_5.15cm_mean_0.01_deg', 'SOIL_cfvo_60.100cm_mean_0.01_deg', 'SOIL_clay_0.5cm_mean_0.01_deg', 'SOIL_clay_100.200cm_mean_0.01_deg', 'SOIL_clay_15.30cm_mean_0.01_deg', 'SOIL_clay_30.60cm_mean_0.01_deg', 'SOIL_clay_5.15cm_mean_0.01_deg', 'SOIL_clay_60.100cm_mean_0.01_deg', 'SOIL_nitrogen_0.5cm_mean_0.01_deg', 'SOIL_nitrogen_100.200cm_mean_0.01_deg', 'SOIL_nitrogen_15.30cm_mean_0.01_deg', 'SOIL_nitrogen_30.60cm_mean_0.01_deg', 'SOIL_nitrogen_5.15cm_mean_0.01_deg', 'SOIL_nitrogen_60.100cm_mean_0.01_deg', 'SOIL_ocd_0.5cm_mean_0.01_deg', 'SOIL_ocd_100.200cm_mean_0.01_deg', 'SOIL_ocd_15.30cm_mean_0.01_deg', 'SOIL_ocd_30.60cm_mean_0.01_deg', 'SOIL_ocd_5.15cm_mean_0.01_deg', 'SOIL_ocd_60.100cm_mean_0.01_deg', 'SOIL_ocs_0.30cm_mean_0.01_deg', 'SOIL_phh2o_0.5cm_mean_0.01_deg', 'SOIL_phh2o_100.200cm_mean_0.01_deg', 'SOIL_phh2o_15.30cm_mean_0.01_deg', 'SOIL_phh2o_30.60cm_mean_0.01_deg', 'SOIL_phh2o_5.15cm_mean_0.01_deg', 'SOIL_phh2o_60.100cm_mean_0.01_deg', 'SOIL_sand_0.5cm_mean_0.01_deg', 'SOIL_sand_100.200cm_mean_0.01_deg', 'SOIL_sand_15.30cm_mean_0.01_deg', 'SOIL_sand_30.60cm_mean_0.01_deg', 'SOIL_sand_5.15cm_mean_0.01_deg', 'SOIL_sand_60.100cm_mean_0.01_deg', 'SOIL_silt_0.5cm_mean_0.01_deg', 'SOIL_silt_100.200cm_mean_0.01_deg', 'SOIL_silt_15.30cm_mean_0.01_deg', 'SOIL_silt_30.60cm_mean_0.01_deg', 'SOIL_silt_5.15cm_mean_0.01_deg', 'SOIL_silt_60.100cm_mean_0.01_deg', 'SOIL_soc_0.5cm_mean_0.01_deg', 'SOIL_soc_100.200cm_mean_0.01_deg', 'SOIL_soc_15.30cm_mean_0.01_deg', 'SOIL_soc_30.60cm_mean_0.01_deg', 'SOIL_soc_5.15cm_mean_0.01_deg', 'SOIL_soc_60.100cm_mean_0.01_deg', 'MODIS_2000.2020_monthly_mean_surface_reflectance_band_01_._month_m1', 'MODIS_2000.2020_monthly_mean_surface_reflectance_band_02_._month_m1', 'MODIS_2000.2020_monthly_mean_surface_reflectance_band_03_._month_m1', 'MODIS_2000.2020_monthly_mean_surface_reflectance_band_04_._month_m1', 'MODIS_2000.2020_monthly_mean_surface_reflectance_band_05_._month_m1', 'MODIS_2000.2020_monthly_mean_surface_reflectance_band_01_._month_m10', 'MODIS_2000.2020_monthly_mean_surface_reflectance_band_02_._month_m10', 'MODIS_2000.2020_monthly_mean_surface_reflectance_band_03_._month_m10', 'MODIS_2000.2020_monthly_mean_surface_reflectance_band_04_._month_m10', 'MODIS_2000.2020_monthly_mean_surface_reflectance_band_05_._month_m10', 'MODIS_2000.2020_monthly_mean_surface_reflectance_band_01_._month_m11', 'MODIS_2000.2020_monthly_mean_surface_reflectance_band_02_._month_m11', 'MODIS_2000.2020_monthly_mean_surface_reflectance_band_03_._month_m11', 'MODIS_2000.2020_monthly_mean_surface_reflectance_band_04_._month_m11', 'MODIS_2000.2020_monthly_mean_surface_reflectance_band_05_._month_m11', 'MODIS_2000.2020_monthly_mean_surface_reflectance_band_01_._month_m12', 'MODIS_2000.2020_monthly_mean_surface_reflectance_band_02_._month_m12', 'MODIS_2000.2020_monthly_mean_surface_reflectance_band_03_._month_m12', 'MODIS_2000.2020_monthly_mean_surface_reflectance_band_04_._month_m12', 'MODIS_2000.2020_monthly_mean_surface_reflectance_band_05_._month_m12', 'MODIS_2000.2020_monthly_mean_surface_reflectance_band_01_._month_m2', 'MODIS_2000.2020_monthly_mean_surface_reflectance_band_02_._month_m2', 'MODIS_2000.2020_monthly_mean_surface_reflectance_band_03_._month_m2', 'MODIS_2000.2020_monthly_mean_surface_reflectance_band_04_._month_m2', 'MODIS_2000.2020_monthly_mean_surface_reflectance_band_05_._month_m2', 'MODIS_2000.2020_monthly_mean_surface_reflectance_band_01_._month_m3', 'MODIS_2000.2020_monthly_mean_surface_reflectance_band_02_._month_m3', 'MODIS_2000.2020_monthly_mean_surface_reflectance_band_03_._month_m3', 'MODIS_2000.2020_monthly_mean_surface_reflectance_band_04_._month_m3', 'MODIS_2000.2020_monthly_mean_surface_reflectance_band_05_._month_m3', 'MODIS_2000.2020_monthly_mean_surface_reflectance_band_01_._month_m4', 'MODIS_2000.2020_monthly_mean_surface_reflectance_band_02_._month_m4', 'MODIS_2000.2020_monthly_mean_surface_reflectance_band_03_._month_m4', 'MODIS_2000.2020_monthly_mean_surface_reflectance_band_04_._month_m4', 'MODIS_2000.2020_monthly_mean_surface_reflectance_band_05_._month_m4', 'MODIS_2000.2020_monthly_mean_surface_reflectance_band_01_._month_m5', 'MODIS_2000.2020_monthly_mean_surface_reflectance_band_02_._month_m5', 'MODIS_2000.2020_monthly_mean_surface_reflectance_band_03_._month_m5', 'MODIS_2000.2020_monthly_mean_surface_reflectance_band_04_._month_m5', 'MODIS_2000.2020_monthly_mean_surface_reflectance_band_05_._month_m5', 'MODIS_2000.2020_monthly_mean_surface_reflectance_band_01_._month_m6', 'MODIS_2000.2020_monthly_mean_surface_reflectance_band_02_._month_m6', 'MODIS_2000.2020_monthly_mean_surface_reflectance_band_03_._month_m6', 'MODIS_2000.2020_monthly_mean_surface_reflectance_band_04_._month_m6', 'MODIS_2000.2020_monthly_mean_surface_reflectance_band_05_._month_m6', 'MODIS_2000.2020_monthly_mean_surface_reflectance_band_01_._month_m7', 'MODIS_2000.2020_monthly_mean_surface_reflectance_band_02_._month_m7', 'MODIS_2000.2020_monthly_mean_surface_reflectance_band_03_._month_m7', 'MODIS_2000.2020_monthly_mean_surface_reflectance_band_04_._month_m7', 'MODIS_2000.2020_monthly_mean_surface_reflectance_band_05_._month_m7', 'MODIS_2000.2020_monthly_mean_surface_reflectance_band_01_._month_m8', 'MODIS_2000.2020_monthly_mean_surface_reflectance_band_02_._month_m8', 'MODIS_2000.2020_monthly_mean_surface_reflectance_band_03_._month_m8', 'MODIS_2000.2020_monthly_mean_surface_reflectance_band_04_._month_m8', 'MODIS_2000.2020_monthly_mean_surface_reflectance_band_05_._month_m8', 'MODIS_2000.2020_monthly_mean_surface_reflectance_band_01_._month_m9', 'MODIS_2000.2020_monthly_mean_surface_reflectance_band_02_._month_m9', 'MODIS_2000.2020_monthly_mean_surface_reflectance_band_03_._month_m9', 'MODIS_2000.2020_monthly_mean_surface_reflectance_band_04_._month_m9', 'MODIS_2000.2020_monthly_mean_surface_reflectance_band_05_._month_m9', 'VOD_C_2002_2018_multiyear_mean_m01', 'VOD_C_2002_2018_multiyear_mean_m02', 'VOD_C_2002_2018_multiyear_mean_m03', 'VOD_C_2002_2018_multiyear_mean_m04', 'VOD_C_2002_2018_multiyear_mean_m05', 'VOD_C_2002_2018_multiyear_mean_m06', 'VOD_C_2002_2018_multiyear_mean_m07', 'VOD_C_2002_2018_multiyear_mean_m08', 'VOD_C_2002_2018_multiyear_mean_m09', 'VOD_C_2002_2018_multiyear_mean_m10', 'VOD_C_2002_2018_multiyear_mean_m11', 'VOD_C_2002_2018_multiyear_mean_m12', 'VOD_Ku_1987_2017_multiyear_mean_m01', 'VOD_Ku_1987_2017_multiyear_mean_m02', 'VOD_Ku_1987_2017_multiyear_mean_m03', 'VOD_Ku_1987_2017_multiyear_mean_m04', 'VOD_Ku_1987_2017_multiyear_mean_m05', 'VOD_Ku_1987_2017_multiyear_mean_m06', 'VOD_Ku_1987_2017_multiyear_mean_m07', 'VOD_Ku_1987_2017_multiyear_mean_m08', 'VOD_Ku_1987_2017_multiyear_mean_m09', 'VOD_Ku_1987_2017_multiyear_mean_m10', 'VOD_Ku_1987_2017_multiyear_mean_m11', 'VOD_Ku_1987_2017_multiyear_mean_m12', 'VOD_X_1997_2018_multiyear_mean_m01', 'VOD_X_1997_2018_multiyear_mean_m02', 'VOD_X_1997_2018_multiyear_mean_m03', 'VOD_X_1997_2018_multiyear_mean_m04', 'VOD_X_1997_2018_multiyear_mean_m05', 'VOD_X_1997_2018_multiyear_mean_m06', 'VOD_X_1997_2018_multiyear_mean_m07', 'VOD_X_1997_2018_multiyear_mean_m08', 'VOD_X_1997_2018_multiyear_mean_m09', 'VOD_X_1997_2018_multiyear_mean_m10', 'VOD_X_1997_2018_multiyear_mean_m11', 'VOD_X_1997_2018_multiyear_mean_m12']\n"
     ]
    }
   ],
   "source": [
    "\n",
    "\n",
    "\n",
    "mean_columns = ['X4_mean', 'X11_mean', 'X18_mean', 'X50_mean', 'X26_mean', 'X3112_mean']\n",
    "# FEATURE_COLS = test_df.columns[1:-4].tolist()\n",
    "\n",
    "selected_features_pickle_path = './data/selected_features_list.pickle'\n",
    "with open(selected_features_pickle_path, 'rb') as f:\n",
    "    FEATURE_COLS = pickle.load(f)\n",
    "\n",
    "print(FEATURE_COLS)\n",
    "\n"
   ]
  },
  {
   "cell_type": "code",
   "execution_count": 4,
   "metadata": {},
   "outputs": [],
   "source": [
    "def plot_data(df, columns_names):\n",
    "    plt.figure(figsize=(15, 3))\n",
    "\n",
    "    # Setting up a grid of plots with 2 columns\n",
    "    n_cols = 6\n",
    "    n_rows = len(columns_names) // n_cols + (len(columns_names) % n_cols > 0)\n",
    "\n",
    "    for i, col in enumerate(columns_names):\n",
    "        plt.subplot(n_rows, n_cols, i+1)\n",
    "        sns.kdeplot(df[col], bw_adjust=0.5, fill=False, color='blue')\n",
    "        plt.title(f'Distribution of {col}')\n",
    "        plt.xlabel('Value')\n",
    "        plt.ylabel('Density')\n",
    "\n",
    "    plt.tight_layout()\n",
    "    plt.show()\n",
    "    \n"
   ]
  },
  {
   "cell_type": "code",
   "execution_count": 5,
   "metadata": {},
   "outputs": [],
   "source": [
    "pd.set_option('display.max_rows', None)\n",
    "pd.set_option('display.max_columns', None)"
   ]
  },
  {
   "cell_type": "code",
   "execution_count": 6,
   "metadata": {},
   "outputs": [
    {
     "data": {
      "text/html": [
       "<div>\n",
       "<style scoped>\n",
       "    .dataframe tbody tr th:only-of-type {\n",
       "        vertical-align: middle;\n",
       "    }\n",
       "\n",
       "    .dataframe tbody tr th {\n",
       "        vertical-align: top;\n",
       "    }\n",
       "\n",
       "    .dataframe thead th {\n",
       "        text-align: right;\n",
       "    }\n",
       "</style>\n",
       "<table border=\"1\" class=\"dataframe\">\n",
       "  <thead>\n",
       "    <tr style=\"text-align: right;\">\n",
       "      <th></th>\n",
       "      <th>X4_mean</th>\n",
       "      <th>X11_mean</th>\n",
       "      <th>X18_mean</th>\n",
       "      <th>X50_mean</th>\n",
       "      <th>X26_mean</th>\n",
       "      <th>X3112_mean</th>\n",
       "    </tr>\n",
       "  </thead>\n",
       "  <tbody>\n",
       "    <tr>\n",
       "      <th>count</th>\n",
       "      <td>53679.000000</td>\n",
       "      <td>53679.000000</td>\n",
       "      <td>53679.000000</td>\n",
       "      <td>53679.000000</td>\n",
       "      <td>53679.000000</td>\n",
       "      <td>53679.000000</td>\n",
       "    </tr>\n",
       "    <tr>\n",
       "      <th>mean</th>\n",
       "      <td>0.521268</td>\n",
       "      <td>15.910891</td>\n",
       "      <td>3.160711</td>\n",
       "      <td>1.615603</td>\n",
       "      <td>41.319274</td>\n",
       "      <td>1843.646287</td>\n",
       "    </tr>\n",
       "    <tr>\n",
       "      <th>std</th>\n",
       "      <td>0.145251</td>\n",
       "      <td>7.863849</td>\n",
       "      <td>5.322841</td>\n",
       "      <td>0.662838</td>\n",
       "      <td>164.948299</td>\n",
       "      <td>3153.292771</td>\n",
       "    </tr>\n",
       "    <tr>\n",
       "      <th>min</th>\n",
       "      <td>0.006996</td>\n",
       "      <td>1.186970</td>\n",
       "      <td>0.002919</td>\n",
       "      <td>0.076517</td>\n",
       "      <td>0.000179</td>\n",
       "      <td>1.108830</td>\n",
       "    </tr>\n",
       "    <tr>\n",
       "      <th>25%</th>\n",
       "      <td>0.411105</td>\n",
       "      <td>10.759204</td>\n",
       "      <td>0.306121</td>\n",
       "      <td>1.176479</td>\n",
       "      <td>0.545185</td>\n",
       "      <td>256.789938</td>\n",
       "    </tr>\n",
       "    <tr>\n",
       "      <th>50%</th>\n",
       "      <td>0.507643</td>\n",
       "      <td>15.164677</td>\n",
       "      <td>0.697812</td>\n",
       "      <td>1.476696</td>\n",
       "      <td>2.420592</td>\n",
       "      <td>711.579570</td>\n",
       "    </tr>\n",
       "    <tr>\n",
       "      <th>75%</th>\n",
       "      <td>0.620997</td>\n",
       "      <td>19.620579</td>\n",
       "      <td>3.313238</td>\n",
       "      <td>1.911236</td>\n",
       "      <td>13.790889</td>\n",
       "      <td>2064.455660</td>\n",
       "    </tr>\n",
       "    <tr>\n",
       "      <th>max</th>\n",
       "      <td>0.958177</td>\n",
       "      <td>60.206352</td>\n",
       "      <td>33.275509</td>\n",
       "      <td>5.002875</td>\n",
       "      <td>2387.617647</td>\n",
       "      <td>31535.016150</td>\n",
       "    </tr>\n",
       "  </tbody>\n",
       "</table>\n",
       "</div>"
      ],
      "text/plain": [
       "            X4_mean      X11_mean      X18_mean      X50_mean      X26_mean  \\\n",
       "count  53679.000000  53679.000000  53679.000000  53679.000000  53679.000000   \n",
       "mean       0.521268     15.910891      3.160711      1.615603     41.319274   \n",
       "std        0.145251      7.863849      5.322841      0.662838    164.948299   \n",
       "min        0.006996      1.186970      0.002919      0.076517      0.000179   \n",
       "25%        0.411105     10.759204      0.306121      1.176479      0.545185   \n",
       "50%        0.507643     15.164677      0.697812      1.476696      2.420592   \n",
       "75%        0.620997     19.620579      3.313238      1.911236     13.790889   \n",
       "max        0.958177     60.206352     33.275509      5.002875   2387.617647   \n",
       "\n",
       "         X3112_mean  \n",
       "count  53679.000000  \n",
       "mean    1843.646287  \n",
       "std     3153.292771  \n",
       "min        1.108830  \n",
       "25%      256.789938  \n",
       "50%      711.579570  \n",
       "75%     2064.455660  \n",
       "max    31535.016150  "
      ]
     },
     "execution_count": 6,
     "metadata": {},
     "output_type": "execute_result"
    }
   ],
   "source": [
    "train_df[mean_columns].describe()"
   ]
  },
  {
   "cell_type": "code",
   "execution_count": 7,
   "metadata": {},
   "outputs": [
    {
     "data": {
      "image/png": "[encoded data removed]",
      "text/plain": [
       "<Figure size 1500x300 with 6 Axes>"
      ]
     },
     "metadata": {},
     "output_type": "display_data"
    }
   ],
   "source": [
    "plot_data(train_df, mean_columns)"
   ]
  },
  {
   "cell_type": "code",
   "execution_count": 8,
   "metadata": {},
   "outputs": [],
   "source": [
    "train_df[mean_columns] = np.log10(train_df[mean_columns])"
   ]
  },
  {
   "cell_type": "code",
   "execution_count": 9,
   "metadata": {},
   "outputs": [
    {
     "data": {
      "text/html": [
       "<div>\n",
       "<style scoped>\n",
       "    .dataframe tbody tr th:only-of-type {\n",
       "        vertical-align: middle;\n",
       "    }\n",
       "\n",
       "    .dataframe tbody tr th {\n",
       "        vertical-align: top;\n",
       "    }\n",
       "\n",
       "    .dataframe thead th {\n",
       "        text-align: right;\n",
       "    }\n",
       "</style>\n",
       "<table border=\"1\" class=\"dataframe\">\n",
       "  <thead>\n",
       "    <tr style=\"text-align: right;\">\n",
       "      <th></th>\n",
       "      <th>X4_mean</th>\n",
       "      <th>X11_mean</th>\n",
       "      <th>X18_mean</th>\n",
       "      <th>X50_mean</th>\n",
       "      <th>X26_mean</th>\n",
       "      <th>X3112_mean</th>\n",
       "    </tr>\n",
       "  </thead>\n",
       "  <tbody>\n",
       "    <tr>\n",
       "      <th>count</th>\n",
       "      <td>53679.000000</td>\n",
       "      <td>53679.000000</td>\n",
       "      <td>53679.000000</td>\n",
       "      <td>53679.000000</td>\n",
       "      <td>53679.000000</td>\n",
       "      <td>53679.000000</td>\n",
       "    </tr>\n",
       "    <tr>\n",
       "      <th>mean</th>\n",
       "      <td>-0.300570</td>\n",
       "      <td>1.147036</td>\n",
       "      <td>-0.014622</td>\n",
       "      <td>0.174713</td>\n",
       "      <td>0.427119</td>\n",
       "      <td>2.833627</td>\n",
       "    </tr>\n",
       "    <tr>\n",
       "      <th>std</th>\n",
       "      <td>0.126971</td>\n",
       "      <td>0.228620</td>\n",
       "      <td>0.680212</td>\n",
       "      <td>0.171408</td>\n",
       "      <td>1.060812</td>\n",
       "      <td>0.668791</td>\n",
       "    </tr>\n",
       "    <tr>\n",
       "      <th>min</th>\n",
       "      <td>-2.155148</td>\n",
       "      <td>0.074440</td>\n",
       "      <td>-2.534736</td>\n",
       "      <td>-1.116240</td>\n",
       "      <td>-3.746974</td>\n",
       "      <td>0.044865</td>\n",
       "    </tr>\n",
       "    <tr>\n",
       "      <th>25%</th>\n",
       "      <td>-0.386047</td>\n",
       "      <td>1.031780</td>\n",
       "      <td>-0.514107</td>\n",
       "      <td>0.070584</td>\n",
       "      <td>-0.263456</td>\n",
       "      <td>2.409578</td>\n",
       "    </tr>\n",
       "    <tr>\n",
       "      <th>50%</th>\n",
       "      <td>-0.294442</td>\n",
       "      <td>1.180833</td>\n",
       "      <td>-0.156262</td>\n",
       "      <td>0.169291</td>\n",
       "      <td>0.383922</td>\n",
       "      <td>2.852223</td>\n",
       "    </tr>\n",
       "    <tr>\n",
       "      <th>75%</th>\n",
       "      <td>-0.206910</td>\n",
       "      <td>1.292712</td>\n",
       "      <td>0.520253</td>\n",
       "      <td>0.281314</td>\n",
       "      <td>1.139592</td>\n",
       "      <td>3.314806</td>\n",
       "    </tr>\n",
       "    <tr>\n",
       "      <th>max</th>\n",
       "      <td>-0.018554</td>\n",
       "      <td>1.779642</td>\n",
       "      <td>1.522125</td>\n",
       "      <td>0.699220</td>\n",
       "      <td>3.377965</td>\n",
       "      <td>4.498793</td>\n",
       "    </tr>\n",
       "  </tbody>\n",
       "</table>\n",
       "</div>"
      ],
      "text/plain": [
       "            X4_mean      X11_mean      X18_mean      X50_mean      X26_mean  \\\n",
       "count  53679.000000  53679.000000  53679.000000  53679.000000  53679.000000   \n",
       "mean      -0.300570      1.147036     -0.014622      0.174713      0.427119   \n",
       "std        0.126971      0.228620      0.680212      0.171408      1.060812   \n",
       "min       -2.155148      0.074440     -2.534736     -1.116240     -3.746974   \n",
       "25%       -0.386047      1.031780     -0.514107      0.070584     -0.263456   \n",
       "50%       -0.294442      1.180833     -0.156262      0.169291      0.383922   \n",
       "75%       -0.206910      1.292712      0.520253      0.281314      1.139592   \n",
       "max       -0.018554      1.779642      1.522125      0.699220      3.377965   \n",
       "\n",
       "         X3112_mean  \n",
       "count  53679.000000  \n",
       "mean       2.833627  \n",
       "std        0.668791  \n",
       "min        0.044865  \n",
       "25%        2.409578  \n",
       "50%        2.852223  \n",
       "75%        3.314806  \n",
       "max        4.498793  "
      ]
     },
     "execution_count": 9,
     "metadata": {},
     "output_type": "execute_result"
    }
   ],
   "source": [
    "train_df[mean_columns].describe()"
   ]
  },
  {
   "cell_type": "code",
   "execution_count": 10,
   "metadata": {},
   "outputs": [
    {
     "data": {
      "image/png": "[encoded data removed]",
      "text/plain": [
       "<Figure size 1500x300 with 6 Axes>"
      ]
     },
     "metadata": {},
     "output_type": "display_data"
    }
   ],
   "source": [
    "plot_data(train_df, mean_columns)"
   ]
  },
  {
   "cell_type": "code",
   "execution_count": 11,
   "metadata": {},
   "outputs": [
    {
     "name": "stdout",
     "output_type": "stream",
     "text": [
      "fold\n",
      "2.0    10736\n",
      "0.0    10736\n",
      "3.0    10736\n",
      "1.0    10736\n",
      "4.0    10735\n",
      "Name: count, dtype: int64\n",
      "# Num Train: 42943 | Num Valid: 10736\n"
     ]
    },
    {
     "name": "stderr",
     "output_type": "stream",
     "text": [
      "/tmp/ipykernel_1986789/2055694891.py:12: SettingWithCopyWarning: \n",
      "A value is trying to be set on a copy of a slice from a DataFrame.\n",
      "Try using .loc[row_indexer,col_indexer] = value instead\n",
      "\n",
      "See the caveats in the documentation: https://pandas.pydata.org/pandas-docs/stable/user_guide/indexing.html#returning-a-view-versus-a-copy\n",
      "  train_df[FEATURE_COLS] = scaler.fit_transform(train_df[FEATURE_COLS].values)\n",
      "/tmp/ipykernel_1986789/2055694891.py:13: SettingWithCopyWarning: \n",
      "A value is trying to be set on a copy of a slice from a DataFrame.\n",
      "Try using .loc[row_indexer,col_indexer] = value instead\n",
      "\n",
      "See the caveats in the documentation: https://pandas.pydata.org/pandas-docs/stable/user_guide/indexing.html#returning-a-view-versus-a-copy\n",
      "  valid_df[FEATURE_COLS] = scaler.transform(valid_df[FEATURE_COLS].values)\n"
     ]
    }
   ],
   "source": [
    "print(train_df['fold'].value_counts())\n",
    "\n",
    "# scaler = StandardScaler() # TODO testaa robustscaler\n",
    "scaler = RobustScaler()\n",
    "\n",
    "sample_df = train_df.copy()\n",
    "train_df = sample_df[sample_df.fold != 3]\n",
    "valid_df = sample_df[sample_df.fold == 3]\n",
    "print(f\"# Num Train: {len(train_df)} | Num Valid: {len(valid_df)}\")\n",
    "\n",
    "\n",
    "train_df[FEATURE_COLS] = scaler.fit_transform(train_df[FEATURE_COLS].values)\n",
    "valid_df[FEATURE_COLS] = scaler.transform(valid_df[FEATURE_COLS].values)\n",
    "\n",
    "with open('./data/scaler_tabufeatures_train.pickle', 'wb') as f:\n",
    "    pickle.dump(scaler, f)\n",
    "\n",
    "\n"
   ]
  },
  {
   "cell_type": "code",
   "execution_count": 12,
   "metadata": {},
   "outputs": [],
   "source": [
    "X_train_tab = train_df[FEATURE_COLS].values\n",
    "X_train_feat = np.stack(train_df['features'].values)\n",
    "y_train = train_df[mean_columns].values\n",
    "\n",
    "X_valid_tab = valid_df[FEATURE_COLS].values \n",
    "X_valid_feat = np.stack(valid_df['features'].values)\n",
    "y_valid = valid_df[mean_columns].values\n",
    "\n"
   ]
  },
  {
   "cell_type": "code",
   "execution_count": 13,
   "metadata": {},
   "outputs": [
    {
     "name": "stderr",
     "output_type": "stream",
     "text": [
      "[I 2024-04-08 13:47:54,705] A new study created in RDB with name: 408_power_huber_fold_3\n",
      "/tmp/ipykernel_1986789/4248361397.py:243: ExperimentalWarning: QMCSampler is experimental (supported from v3.0.0). The interface can change in the future.\n",
      "  study.sampler = optuna.samplers.QMCSampler(warn_independent_sampling = False)\n"
     ]
    },
    {
     "name": "stdout",
     "output_type": "stream",
     "text": [
      "Starting study with 20 random trials, round 0\n",
      "Search time so far taken : 0:00:00\n",
      "--------------------------------------------------\n"
     ]
    },
    {
     "name": "stderr",
     "output_type": "stream",
     "text": [
      "2024-04-08 13:47:54.970923: I tensorflow/compiler/xla/stream_executor/cuda/cuda_gpu_executor.cc:982] could not open file to read NUMA node: /sys/bus/pci/devices/0000:09:00.0/numa_node\n",
      "Your kernel may have been built without NUMA support.\n",
      "2024-04-08 13:47:55.154540: I tensorflow/compiler/xla/stream_executor/cuda/cuda_gpu_executor.cc:982] could not open file to read NUMA node: /sys/bus/pci/devices/0000:09:00.0/numa_node\n",
      "Your kernel may have been built without NUMA support.\n",
      "2024-04-08 13:47:55.154607: I tensorflow/compiler/xla/stream_executor/cuda/cuda_gpu_executor.cc:982] could not open file to read NUMA node: /sys/bus/pci/devices/0000:09:00.0/numa_node\n",
      "Your kernel may have been built without NUMA support.\n",
      "2024-04-08 13:47:55.158636: I tensorflow/compiler/xla/stream_executor/cuda/cuda_gpu_executor.cc:982] could not open file to read NUMA node: /sys/bus/pci/devices/0000:09:00.0/numa_node\n",
      "Your kernel may have been built without NUMA support.\n",
      "2024-04-08 13:47:55.158709: I tensorflow/compiler/xla/stream_executor/cuda/cuda_gpu_executor.cc:982] could not open file to read NUMA node: /sys/bus/pci/devices/0000:09:00.0/numa_node\n",
      "Your kernel may have been built without NUMA support.\n",
      "2024-04-08 13:47:55.158761: I tensorflow/compiler/xla/stream_executor/cuda/cuda_gpu_executor.cc:982] could not open file to read NUMA node: /sys/bus/pci/devices/0000:09:00.0/numa_node\n",
      "Your kernel may have been built without NUMA support.\n",
      "2024-04-08 13:47:55.324562: I tensorflow/compiler/xla/stream_executor/cuda/cuda_gpu_executor.cc:982] could not open file to read NUMA node: /sys/bus/pci/devices/0000:09:00.0/numa_node\n",
      "Your kernel may have been built without NUMA support.\n",
      "2024-04-08 13:47:55.324674: I tensorflow/compiler/xla/stream_executor/cuda/cuda_gpu_executor.cc:982] could not open file to read NUMA node: /sys/bus/pci/devices/0000:09:00.0/numa_node\n",
      "Your kernel may have been built without NUMA support.\n",
      "2024-04-08 13:47:55.324686: I tensorflow/core/common_runtime/gpu/gpu_device.cc:1722] Could not identify NUMA node of platform GPU id 0, defaulting to 0.  Your kernel may not have been built with NUMA support.\n",
      "2024-04-08 13:47:55.324733: I tensorflow/compiler/xla/stream_executor/cuda/cuda_gpu_executor.cc:982] could not open file to read NUMA node: /sys/bus/pci/devices/0000:09:00.0/numa_node\n",
      "Your kernel may have been built without NUMA support.\n",
      "2024-04-08 13:47:55.324844: I tensorflow/core/common_runtime/gpu/gpu_device.cc:1635] Created device /job:localhost/replica:0/task:0/device:GPU:0 with 7537 MB memory:  -> device: 0, name: NVIDIA GeForce RTX 3080, pci bus id: 0000:09:00.0, compute capability: 8.6\n",
      "2024-04-08 13:47:57.126917: I tensorflow/compiler/xla/stream_executor/cuda/cuda_blas.cc:637] TensorFloat-32 will be used for the matrix multiplication. This will only be logged once.\n"
     ]
    },
    {
     "name": "stdout",
     "output_type": "stream",
     "text": [
      "Epoch 19: early stopping\n"
     ]
    },
    {
     "name": "stderr",
     "output_type": "stream",
     "text": [
      "[I 2024-04-08 13:48:25,155] Trial 0 finished with value: 0.18093593140454015 and parameters: {'Imgage layers': 2, 'Img_init': 'he_uniform', 'Act_img': 'relu', 'Drop_img': 0.30000000000000004, 'Img_BatchN': True, 'Num_img_0': 1759, 'Num_img_1': 862, 'Tabular layers': 1, 'Tab_init': 'he_normal', 'Act_tab': 'elu', 'Drop_tab': 0.7, 'Tab_BatchN': False, 'Num_tab_0': 379, 'Concat layers': 2, 'Con_init': 'lecun_normal', 'Act_con': 'tanh', 'Drop_con': 0.5, 'Com_BatchN': False, 'Num_con_0': 1307, 'Num_con_1': 421, 'optimizer': 'rmsprop', 'delta': 1.8}. Best is trial 0 with value: 0.18093593140454015.\n"
     ]
    },
    {
     "name": "stdout",
     "output_type": "stream",
     "text": [
      "Epoch 6: early stopping\n"
     ]
    },
    {
     "name": "stderr",
     "output_type": "stream",
     "text": [
      "[I 2024-04-08 13:48:32,461] Trial 1 finished with value: 0.0 and parameters: {'Imgage layers': 1, 'Img_init': 'glorot_uniform', 'Act_img': 'LeakyReLU', 'Drop_img': 0.2, 'Img_BatchN': False, 'Num_img_0': 256, 'Tabular layers': 1, 'Tab_init': 'he_normal', 'Act_tab': 'swish', 'Drop_tab': 0.2, 'Tab_BatchN': False, 'Num_tab_0': 256, 'Concat layers': 1, 'Con_init': 'random_uniform', 'Act_con': 'relu', 'Drop_con': 0.2, 'Com_BatchN': False, 'Num_con_0': 256, 'optimizer': 'rmsprop', 'delta': 0.0}. Best is trial 0 with value: 0.18093593140454015.\n"
     ]
    },
    {
     "name": "stdout",
     "output_type": "stream",
     "text": [
      "Epoch 34: early stopping\n",
      "**************************************************\n",
      "Old best R2 : 0.18094\n",
      "New best R2 : 0.20117\n",
      "336/336 [==============================] - 1s 2ms/step\n",
      "Best epoch power errors R2 : 0.20117, MSE : 1356147.75000, MAE : 216.94547\n",
      "Best epoch raw R2 : 0.35356, MSE : 0.20788, MAE : 0.28997\n",
      "Best epoch : 29\n",
      "Saving model to ./data/408_power_huber_fold_3_best_val_0.20117_model.h5\n",
      "**************************************************\n"
     ]
    },
    {
     "name": "stderr",
     "output_type": "stream",
     "text": [
      "[I 2024-04-08 13:49:21,638] Trial 2 finished with value: 0.20117023911023213 and parameters: {'Imgage layers': 1, 'Img_init': 'lecun_uniform', 'Act_img': 'elu', 'Drop_img': 0.4, 'Img_BatchN': True, 'Num_img_0': 715, 'Tabular layers': 1, 'Tab_init': 'random_uniform', 'Act_tab': 'relu', 'Drop_tab': 0.4, 'Tab_BatchN': False, 'Num_tab_0': 506, 'Concat layers': 1, 'Con_init': 'lecun_normal', 'Act_con': 'selu', 'Drop_con': 0.4, 'Com_BatchN': False, 'Num_con_0': 876, 'optimizer': 'Nadam', 'delta': 1.2000000000000002}. Best is trial 2 with value: 0.20117023911023213.\n"
     ]
    },
    {
     "name": "stdout",
     "output_type": "stream",
     "text": [
      "Epoch 18: early stopping\n"
     ]
    },
    {
     "name": "stderr",
     "output_type": "stream",
     "text": [
      "[I 2024-04-08 13:49:57,939] Trial 3 finished with value: 0.10214240414029387 and parameters: {'Imgage layers': 2, 'Img_init': 'lecun_normal', 'Act_img': 'elu', 'Drop_img': 0.30000000000000004, 'Img_BatchN': False, 'Num_img_0': 427, 'Num_img_1': 414, 'Tabular layers': 2, 'Tab_init': 'he_uniform', 'Act_tab': 'LeakyReLU', 'Drop_tab': 0.6000000000000001, 'Tab_BatchN': False, 'Num_tab_0': 359, 'Num_tab_1': 348, 'Concat layers': 2, 'Con_init': 'lecun_uniform', 'Act_con': 'selu', 'Drop_con': 0.6000000000000001, 'Com_BatchN': True, 'Num_con_0': 1621, 'Num_con_1': 869, 'optimizer': 'Nadam', 'delta': 1.9000000000000001}. Best is trial 2 with value: 0.20117023911023213.\n"
     ]
    },
    {
     "name": "stdout",
     "output_type": "stream",
     "text": [
      "Epoch 23: early stopping\n"
     ]
    },
    {
     "name": "stderr",
     "output_type": "stream",
     "text": [
      "[I 2024-04-08 13:50:17,649] Trial 4 finished with value: 0.19529590935646488 and parameters: {'Imgage layers': 1, 'Img_init': 'he_normal', 'Act_img': 'tanh', 'Drop_img': 0.6000000000000001, 'Img_BatchN': False, 'Num_img_0': 1196, 'Tabular layers': 1, 'Tab_init': 'random_normal', 'Act_tab': 'LeakyReLU', 'Drop_tab': 0.30000000000000004, 'Tab_BatchN': False, 'Num_tab_0': 711, 'Concat layers': 1, 'Con_init': 'he_normal', 'Act_con': 'tanh', 'Drop_con': 0.30000000000000004, 'Com_BatchN': False, 'Num_con_0': 473, 'optimizer': 'adamax', 'delta': 0.6000000000000001}. Best is trial 2 with value: 0.20117023911023213.\n"
     ]
    },
    {
     "name": "stdout",
     "output_type": "stream",
     "text": [
      "Epoch 47: early stopping\n",
      "**************************************************\n",
      "Old best R2 : 0.20117\n",
      "New best R2 : 0.20617\n",
      "336/336 [==============================] - 1s 3ms/step\n",
      "Best epoch power errors R2 : 0.20617, MSE : 1334870.12500, MAE : 219.33130\n",
      "Best epoch raw R2 : 0.32283, MSE : 0.21623, MAE : 0.29423\n",
      "Best epoch : 42\n",
      "Saving model to ./data/408_power_huber_fold_3_best_val_0.20617_model.h5\n",
      "**************************************************\n"
     ]
    },
    {
     "name": "stderr",
     "output_type": "stream",
     "text": [
      "[I 2024-04-08 13:51:23,622] Trial 5 finished with value: 0.2061678595660089 and parameters: {'Imgage layers': 1, 'Img_init': 'he_normal', 'Act_img': 'swish', 'Drop_img': 0.4, 'Img_BatchN': False, 'Num_img_0': 925, 'Tabular layers': 1, 'Tab_init': 'he_normal', 'Act_tab': 'elu', 'Drop_tab': 0.2, 'Tab_BatchN': False, 'Num_tab_0': 426, 'Concat layers': 2, 'Con_init': 'lecun_uniform', 'Act_con': 'tanh', 'Drop_con': 0.7, 'Com_BatchN': True, 'Num_con_0': 1191, 'Num_con_1': 1066, 'optimizer': 'rmsprop', 'delta': 0.9}. Best is trial 5 with value: 0.2061678595660089.\n"
     ]
    },
    {
     "name": "stdout",
     "output_type": "stream",
     "text": [
      "Epoch 6: early stopping\n"
     ]
    },
    {
     "name": "stderr",
     "output_type": "stream",
     "text": [
      "[I 2024-04-08 13:51:34,313] Trial 6 finished with value: 0.0 and parameters: {'Imgage layers': 2, 'Img_init': 'random_normal', 'Act_img': 'relu', 'Drop_img': 0.7, 'Img_BatchN': False, 'Num_img_0': 330, 'Num_img_1': 290, 'Tabular layers': 2, 'Tab_init': 'lecun_uniform', 'Act_tab': 'relu', 'Drop_tab': 0.5, 'Tab_BatchN': True, 'Num_tab_0': 844, 'Num_tab_1': 323, 'Concat layers': 1, 'Con_init': 'random_normal', 'Act_con': 'tanh', 'Drop_con': 0.4, 'Com_BatchN': True, 'Num_con_0': 348, 'optimizer': 'Adagrad', 'delta': 2.2}. Best is trial 5 with value: 0.2061678595660089.\n"
     ]
    },
    {
     "name": "stdout",
     "output_type": "stream",
     "text": [
      "Epoch 10: early stopping\n"
     ]
    },
    {
     "name": "stderr",
     "output_type": "stream",
     "text": [
      "[I 2024-04-08 13:51:54,129] Trial 7 finished with value: 0.048238908581986706 and parameters: {'Imgage layers': 2, 'Img_init': 'glorot_uniform', 'Act_img': 'tanh', 'Drop_img': 0.2, 'Img_BatchN': True, 'Num_img_0': 1547, 'Num_img_1': 853, 'Tabular layers': 2, 'Tab_init': 'random_normal', 'Act_tab': 'tanh', 'Drop_tab': 0.7, 'Tab_BatchN': True, 'Num_tab_0': 303, 'Num_tab_1': 278, 'Concat layers': 1, 'Con_init': 'he_uniform', 'Act_con': 'tanh', 'Drop_con': 0.2, 'Com_BatchN': True, 'Num_con_0': 644, 'optimizer': 'adam', 'delta': 1.6}. Best is trial 5 with value: 0.2061678595660089.\n"
     ]
    },
    {
     "name": "stdout",
     "output_type": "stream",
     "text": [
      "Epoch 6: early stopping\n"
     ]
    },
    {
     "name": "stderr",
     "output_type": "stream",
     "text": [
      "[I 2024-04-08 13:52:04,089] Trial 8 finished with value: 0.0 and parameters: {'Imgage layers': 1, 'Img_init': 'random_normal', 'Act_img': 'elu', 'Drop_img': 0.5, 'Img_BatchN': True, 'Num_img_0': 553, 'Tabular layers': 1, 'Tab_init': 'lecun_normal', 'Act_tab': 'tanh', 'Drop_tab': 0.4, 'Tab_BatchN': False, 'Num_tab_0': 600, 'Concat layers': 2, 'Con_init': 'he_uniform', 'Act_con': 'relu', 'Drop_con': 0.5, 'Com_BatchN': True, 'Num_con_0': 2205, 'Num_con_1': 709, 'optimizer': 'Adagrad', 'delta': 0.30000000000000004}. Best is trial 5 with value: 0.2061678595660089.\n"
     ]
    },
    {
     "name": "stdout",
     "output_type": "stream",
     "text": [
      "Epoch 6: early stopping\n"
     ]
    },
    {
     "name": "stderr",
     "output_type": "stream",
     "text": [
      "[I 2024-04-08 13:52:13,754] Trial 9 finished with value: 0.0 and parameters: {'Imgage layers': 1, 'Img_init': 'random_normal', 'Act_img': 'relu', 'Drop_img': 0.30000000000000004, 'Img_BatchN': False, 'Num_img_0': 1759, 'Tabular layers': 2, 'Tab_init': 'glorot_uniform', 'Act_tab': 'tanh', 'Drop_tab': 0.30000000000000004, 'Tab_BatchN': True, 'Num_tab_0': 464, 'Num_tab_1': 418, 'Concat layers': 2, 'Con_init': 'lecun_normal', 'Act_con': 'elu', 'Drop_con': 0.7, 'Com_BatchN': False, 'Num_con_0': 552, 'Num_con_1': 404, 'optimizer': 'Adadelta', 'delta': 0.1}. Best is trial 5 with value: 0.2061678595660089.\n",
      "[I 2024-04-08 13:53:08,369] Trial 10 finished with value: 0.15057433676734164 and parameters: {'Imgage layers': 2, 'Img_init': 'random_uniform', 'Act_img': 'relu', 'Drop_img': 0.6000000000000001, 'Img_BatchN': True, 'Num_img_0': 629, 'Num_img_1': 300, 'Tabular layers': 1, 'Tab_init': 'lecun_normal', 'Act_tab': 'elu', 'Drop_tab': 0.6000000000000001, 'Tab_BatchN': False, 'Num_tab_0': 919, 'Concat layers': 1, 'Con_init': 'lecun_uniform', 'Act_con': 'relu', 'Drop_con': 0.4, 'Com_BatchN': False, 'Num_con_0': 1891, 'optimizer': 'adamax', 'delta': 1.4000000000000001}. Best is trial 5 with value: 0.2061678595660089.\n"
     ]
    },
    {
     "name": "stdout",
     "output_type": "stream",
     "text": [
      "Epoch 19: early stopping\n"
     ]
    },
    {
     "name": "stderr",
     "output_type": "stream",
     "text": [
      "[I 2024-04-08 13:53:41,388] Trial 11 finished with value: 0.16985471019039422 and parameters: {'Imgage layers': 2, 'Img_init': 'he_normal', 'Act_img': 'selu', 'Drop_img': 0.2, 'Img_BatchN': True, 'Num_img_0': 1052, 'Num_img_1': 367, 'Tabular layers': 1, 'Tab_init': 'he_uniform', 'Act_tab': 'tanh', 'Drop_tab': 0.5, 'Tab_BatchN': False, 'Num_tab_0': 330, 'Concat layers': 1, 'Con_init': 'random_uniform', 'Act_con': 'selu', 'Drop_con': 0.30000000000000004, 'Com_BatchN': False, 'Num_con_0': 1021, 'optimizer': 'Nadam', 'delta': 2.1}. Best is trial 5 with value: 0.2061678595660089.\n",
      "[I 2024-04-08 13:54:28,626] Trial 12 finished with value: 0.023094862014346868 and parameters: {'Imgage layers': 1, 'Img_init': 'he_normal', 'Act_img': 'swish', 'Drop_img': 0.5, 'Img_BatchN': True, 'Num_img_0': 376, 'Tabular layers': 2, 'Tab_init': 'he_uniform', 'Act_tab': 'selu', 'Drop_tab': 0.2, 'Tab_BatchN': False, 'Num_tab_0': 653, 'Num_tab_1': 264, 'Concat layers': 2, 'Con_init': 'random_normal', 'Act_con': 'elu', 'Drop_con': 0.6000000000000001, 'Com_BatchN': False, 'Num_con_0': 298, 'Num_con_1': 282, 'optimizer': 'Adagrad', 'delta': 0.8}. Best is trial 5 with value: 0.2061678595660089.\n"
     ]
    },
    {
     "name": "stdout",
     "output_type": "stream",
     "text": [
      "Epoch 17: early stopping\n"
     ]
    },
    {
     "name": "stderr",
     "output_type": "stream",
     "text": [
      "[I 2024-04-08 13:54:44,059] Trial 13 finished with value: 0.12280418061322651 and parameters: {'Imgage layers': 1, 'Img_init': 'he_normal', 'Act_img': 'tanh', 'Drop_img': 0.30000000000000004, 'Img_BatchN': False, 'Num_img_0': 486, 'Tabular layers': 2, 'Tab_init': 'lecun_uniform', 'Act_tab': 'tanh', 'Drop_tab': 0.4, 'Tab_BatchN': False, 'Num_tab_0': 278, 'Num_tab_1': 267, 'Concat layers': 1, 'Con_init': 'glorot_uniform', 'Act_con': 'LeakyReLU', 'Drop_con': 0.2, 'Com_BatchN': False, 'Num_con_0': 2572, 'optimizer': 'adam', 'delta': 1.1}. Best is trial 5 with value: 0.2061678595660089.\n",
      "[I 2024-04-08 13:55:43,229] Trial 14 finished with value: 0.0032095353906832678 and parameters: {'Imgage layers': 2, 'Img_init': 'he_normal', 'Act_img': 'tanh', 'Drop_img': 0.6000000000000001, 'Img_BatchN': True, 'Num_img_0': 1360, 'Num_img_1': 288, 'Tabular layers': 1, 'Tab_init': 'glorot_uniform', 'Act_tab': 'swish', 'Drop_tab': 0.7, 'Tab_BatchN': False, 'Num_tab_0': 551, 'Concat layers': 2, 'Con_init': 'lecun_normal', 'Act_con': 'LeakyReLU', 'Drop_con': 0.5, 'Com_BatchN': False, 'Num_con_0': 751, 'Num_con_1': 744, 'optimizer': 'Adadelta', 'delta': 2.4000000000000004}. Best is trial 5 with value: 0.2061678595660089.\n"
     ]
    },
    {
     "name": "stdout",
     "output_type": "stream",
     "text": [
      "Epoch 19: early stopping\n"
     ]
    },
    {
     "name": "stderr",
     "output_type": "stream",
     "text": [
      "[I 2024-04-08 13:56:09,068] Trial 15 finished with value: 0.18112132730201846 and parameters: {'Imgage layers': 2, 'Img_init': 'glorot_uniform', 'Act_img': 'selu', 'Drop_img': 0.4, 'Img_BatchN': False, 'Num_img_0': 291, 'Num_img_1': 267, 'Tabular layers': 1, 'Tab_init': 'glorot_uniform', 'Act_tab': 'elu', 'Drop_tab': 0.6000000000000001, 'Tab_BatchN': True, 'Num_tab_0': 391, 'Concat layers': 2, 'Con_init': 'lecun_normal', 'Act_con': 'swish', 'Drop_con': 0.6000000000000001, 'Com_BatchN': False, 'Num_con_0': 405, 'Num_con_1': 377, 'optimizer': 'rmsprop', 'delta': 1.7000000000000002}. Best is trial 5 with value: 0.2061678595660089.\n"
     ]
    },
    {
     "name": "stdout",
     "output_type": "stream",
     "text": [
      "Epoch 6: early stopping\n"
     ]
    },
    {
     "name": "stderr",
     "output_type": "stream",
     "text": [
      "[I 2024-04-08 13:56:20,559] Trial 16 finished with value: 0.0 and parameters: {'Imgage layers': 1, 'Img_init': 'random_uniform', 'Act_img': 'elu', 'Drop_img': 0.7, 'Img_BatchN': True, 'Num_img_0': 813, 'Tabular layers': 2, 'Tab_init': 'random_uniform', 'Act_tab': 'selu', 'Drop_tab': 0.30000000000000004, 'Tab_BatchN': True, 'Num_tab_0': 775, 'Num_tab_1': 754, 'Concat layers': 1, 'Con_init': 'glorot_uniform', 'Act_con': 'selu', 'Drop_con': 0.30000000000000004, 'Com_BatchN': True, 'Num_con_0': 1390, 'optimizer': 'Adadelta', 'delta': 0.4}. Best is trial 5 with value: 0.2061678595660089.\n"
     ]
    },
    {
     "name": "stdout",
     "output_type": "stream",
     "text": [
      "Epoch 42: early stopping\n"
     ]
    },
    {
     "name": "stderr",
     "output_type": "stream",
     "text": [
      "[I 2024-04-08 13:57:00,209] Trial 17 finished with value: 0.002241322774264883 and parameters: {'Imgage layers': 1, 'Img_init': 'he_normal', 'Act_img': 'relu', 'Drop_img': 0.4, 'Img_BatchN': False, 'Num_img_0': 670, 'Tabular layers': 1, 'Tab_init': 'lecun_uniform', 'Act_tab': 'tanh', 'Drop_tab': 0.7, 'Tab_BatchN': True, 'Num_tab_0': 528, 'Concat layers': 2, 'Con_init': 'random_normal', 'Act_con': 'selu', 'Drop_con': 0.4, 'Com_BatchN': False, 'Num_con_0': 375, 'Num_con_1': 298, 'optimizer': 'Adagrad', 'delta': 1.0}. Best is trial 5 with value: 0.2061678595660089.\n",
      "[I 2024-04-08 13:58:01,229] Trial 18 finished with value: 0.03442065700962601 and parameters: {'Imgage layers': 2, 'Img_init': 'lecun_uniform', 'Act_img': 'LeakyReLU', 'Drop_img': 0.7, 'Img_BatchN': False, 'Num_img_0': 1876, 'Num_img_1': 345, 'Tabular layers': 2, 'Tab_init': 'he_uniform', 'Act_tab': 'elu', 'Drop_tab': 0.4, 'Tab_BatchN': True, 'Num_tab_0': 267, 'Num_tab_1': 266, 'Concat layers': 1, 'Con_init': 'lecun_normal', 'Act_con': 'tanh', 'Drop_con': 0.7, 'Com_BatchN': False, 'Num_con_0': 1287, 'optimizer': 'Adagrad', 'delta': 2.3000000000000003}. Best is trial 5 with value: 0.2061678595660089.\n"
     ]
    },
    {
     "name": "stdout",
     "output_type": "stream",
     "text": [
      "Epoch 6: early stopping\n"
     ]
    },
    {
     "name": "stderr",
     "output_type": "stream",
     "text": [
      "[I 2024-04-08 13:58:10,887] Trial 19 finished with value: 0.0 and parameters: {'Imgage layers': 2, 'Img_init': 'lecun_normal', 'Act_img': 'relu', 'Drop_img': 0.30000000000000004, 'Img_BatchN': True, 'Num_img_0': 401, 'Num_img_1': 379, 'Tabular layers': 2, 'Tab_init': 'lecun_uniform', 'Act_tab': 'LeakyReLU', 'Drop_tab': 0.30000000000000004, 'Tab_BatchN': False, 'Num_tab_0': 742, 'Num_tab_1': 547, 'Concat layers': 1, 'Con_init': 'he_normal', 'Act_con': 'relu', 'Drop_con': 0.6000000000000001, 'Com_BatchN': False, 'Num_con_0': 2382, 'optimizer': 'Adadelta', 'delta': 1.7000000000000002}. Best is trial 5 with value: 0.2061678595660089.\n",
      "/home/tobias/miniconda3/envs/tf/lib/python3.9/site-packages/optuna/samplers/_tpe/sampler.py:319: ExperimentalWarning: ``multivariate`` option is an experimental feature. The interface can change in the future.\n",
      "  warnings.warn(\n"
     ]
    },
    {
     "name": "stdout",
     "output_type": "stream",
     "text": [
      "Time taken for random trials: 0:10:16.179584\n",
      "Starting TPE 0 trials...\n",
      "Time taken for one trial: 0:00:30.809019\n",
      "Time this round: 0:10:16.180407\n",
      "Starting study with 20 random trials, round 1\n",
      "Search time so far taken : 0:10:16.180551\n",
      "--------------------------------------------------\n",
      "Epoch 49: early stopping\n"
     ]
    },
    {
     "name": "stderr",
     "output_type": "stream",
     "text": [
      "[I 2024-04-08 13:58:57,785] Trial 20 finished with value: 0.05494222209490853 and parameters: {'Imgage layers': 1, 'Img_init': 'he_uniform', 'Act_img': 'tanh', 'Drop_img': 0.6000000000000001, 'Img_BatchN': False, 'Num_img_0': 1121, 'Tabular layers': 1, 'Tab_init': 'he_uniform', 'Act_tab': 'elu', 'Drop_tab': 0.6000000000000001, 'Tab_BatchN': True, 'Num_tab_0': 375, 'Concat layers': 2, 'Con_init': 'glorot_uniform', 'Act_con': 'selu', 'Drop_con': 0.30000000000000004, 'Com_BatchN': False, 'Num_con_0': 695, 'Num_con_1': 448, 'optimizer': 'Adagrad', 'delta': 0.4}. Best is trial 5 with value: 0.2061678595660089.\n"
     ]
    },
    {
     "name": "stdout",
     "output_type": "stream",
     "text": [
      "Epoch 6: early stopping\n"
     ]
    },
    {
     "name": "stderr",
     "output_type": "stream",
     "text": [
      "[I 2024-04-08 13:59:07,036] Trial 21 finished with value: 0.0 and parameters: {'Imgage layers': 1, 'Img_init': 'random_normal', 'Act_img': 'elu', 'Drop_img': 0.2, 'Img_BatchN': True, 'Num_img_0': 1450, 'Tabular layers': 1, 'Tab_init': 'random_normal', 'Act_tab': 'relu', 'Drop_tab': 0.7, 'Tab_BatchN': False, 'Num_tab_0': 880, 'Concat layers': 1, 'Con_init': 'lecun_uniform', 'Act_con': 'swish', 'Drop_con': 0.5, 'Com_BatchN': False, 'Num_con_0': 946, 'optimizer': 'rmsprop', 'delta': 0.0}. Best is trial 5 with value: 0.2061678595660089.\n"
     ]
    },
    {
     "name": "stdout",
     "output_type": "stream",
     "text": [
      "Epoch 29: early stopping\n"
     ]
    },
    {
     "name": "stderr",
     "output_type": "stream",
     "text": [
      "[I 2024-04-08 14:00:05,291] Trial 22 finished with value: 0.1587328272870319 and parameters: {'Imgage layers': 2, 'Img_init': 'he_uniform', 'Act_img': 'LeakyReLU', 'Drop_img': 0.5, 'Img_BatchN': True, 'Num_img_0': 518, 'Num_img_1': 434, 'Tabular layers': 2, 'Tab_init': 'he_uniform', 'Act_tab': 'swish', 'Drop_tab': 0.4, 'Tab_BatchN': False, 'Num_tab_0': 445, 'Num_tab_1': 257, 'Concat layers': 2, 'Con_init': 'he_uniform', 'Act_con': 'LeakyReLU', 'Drop_con': 0.2, 'Com_BatchN': False, 'Num_con_0': 276, 'Num_con_1': 264, 'optimizer': 'Nadam', 'delta': 1.3}. Best is trial 5 with value: 0.2061678595660089.\n"
     ]
    },
    {
     "name": "stdout",
     "output_type": "stream",
     "text": [
      "**************************************************\n",
      "Old best R2 : 0.20617\n",
      "New best R2 : 0.22351\n",
      "336/336 [==============================] - 1s 4ms/step\n",
      "Best epoch power errors R2 : 0.22351, MSE : 1329319.25000, MAE : 210.60265\n",
      "Best epoch raw R2 : 0.36976, MSE : 0.19697, MAE : 0.28106\n",
      "Best epoch : 49\n",
      "Saving model to ./data/408_power_huber_fold_3_best_val_0.22351_model.h5\n",
      "**************************************************\n"
     ]
    },
    {
     "name": "stderr",
     "output_type": "stream",
     "text": [
      "[I 2024-04-08 14:01:33,115] Trial 23 finished with value: 0.2235081321126653 and parameters: {'Imgage layers': 2, 'Img_init': 'lecun_normal', 'Act_img': 'selu', 'Drop_img': 0.4, 'Img_BatchN': False, 'Num_img_0': 867, 'Num_img_1': 271, 'Tabular layers': 2, 'Tab_init': 'he_normal', 'Act_tab': 'selu', 'Drop_tab': 0.2, 'Tab_BatchN': True, 'Num_tab_0': 626, 'Num_tab_1': 363, 'Concat layers': 2, 'Con_init': 'he_normal', 'Act_con': 'LeakyReLU', 'Drop_con': 0.4, 'Com_BatchN': True, 'Num_con_0': 511, 'Num_con_1': 365, 'optimizer': 'rmsprop', 'delta': 2.0}. Best is trial 23 with value: 0.2235081321126653.\n"
     ]
    },
    {
     "name": "stdout",
     "output_type": "stream",
     "text": [
      "Epoch 33: early stopping\n"
     ]
    },
    {
     "name": "stderr",
     "output_type": "stream",
     "text": [
      "[I 2024-04-08 14:02:10,046] Trial 24 finished with value: 0.08041877701460003 and parameters: {'Imgage layers': 1, 'Img_init': 'lecun_normal', 'Act_img': 'relu', 'Drop_img': 0.7, 'Img_BatchN': False, 'Num_img_0': 310, 'Tabular layers': 1, 'Tab_init': 'random_normal', 'Act_tab': 'swish', 'Drop_tab': 0.5, 'Tab_BatchN': True, 'Num_tab_0': 316, 'Concat layers': 1, 'Con_init': 'he_uniform', 'Act_con': 'elu', 'Drop_con': 0.7, 'Com_BatchN': False, 'Num_con_0': 1751, 'optimizer': 'rmsprop', 'delta': 0.7000000000000001}. Best is trial 23 with value: 0.2235081321126653.\n"
     ]
    },
    {
     "name": "stdout",
     "output_type": "stream",
     "text": [
      "Epoch 28: early stopping\n"
     ]
    },
    {
     "name": "stderr",
     "output_type": "stream",
     "text": [
      "[I 2024-04-08 14:02:34,895] Trial 25 finished with value: 0.20233363749774982 and parameters: {'Imgage layers': 1, 'Img_init': 'lecun_uniform', 'Act_img': 'tanh', 'Drop_img': 0.2, 'Img_BatchN': False, 'Num_img_0': 762, 'Tabular layers': 2, 'Tab_init': 'lecun_uniform', 'Act_tab': 'selu', 'Drop_tab': 0.5, 'Tab_BatchN': False, 'Num_tab_0': 959, 'Num_tab_1': 403, 'Concat layers': 1, 'Con_init': 'glorot_uniform', 'Act_con': 'elu', 'Drop_con': 0.5, 'Com_BatchN': False, 'Num_con_0': 811, 'optimizer': 'adamax', 'delta': 1.2000000000000002}. Best is trial 23 with value: 0.2235081321126653.\n"
     ]
    },
    {
     "name": "stdout",
     "output_type": "stream",
     "text": [
      "Epoch 17: early stopping\n"
     ]
    },
    {
     "name": "stderr",
     "output_type": "stream",
     "text": [
      "[I 2024-04-08 14:03:10,884] Trial 26 finished with value: 0.16619788496572838 and parameters: {'Imgage layers': 2, 'Img_init': 'he_uniform', 'Act_img': 'elu', 'Drop_img': 0.5, 'Img_BatchN': False, 'Num_img_0': 272, 'Num_img_1': 260, 'Tabular layers': 1, 'Tab_init': 'lecun_uniform', 'Act_tab': 'LeakyReLU', 'Drop_tab': 0.2, 'Tab_BatchN': True, 'Num_tab_0': 484, 'Concat layers': 2, 'Con_init': 'he_normal', 'Act_con': 'relu', 'Drop_con': 0.2, 'Com_BatchN': True, 'Num_con_0': 2778, 'Num_con_1': 330, 'optimizer': 'Nadam', 'delta': 2.5}. Best is trial 23 with value: 0.2235081321126653.\n"
     ]
    },
    {
     "name": "stdout",
     "output_type": "stream",
     "text": [
      "Epoch 6: early stopping\n"
     ]
    },
    {
     "name": "stderr",
     "output_type": "stream",
     "text": [
      "[I 2024-04-08 14:03:22,590] Trial 27 finished with value: 0.0 and parameters: {'Imgage layers': 2, 'Img_init': 'lecun_uniform', 'Act_img': 'LeakyReLU', 'Drop_img': 0.4, 'Img_BatchN': True, 'Num_img_0': 1275, 'Num_img_1': 803, 'Tabular layers': 1, 'Tab_init': 'random_uniform', 'Act_tab': 'tanh', 'Drop_tab': 0.4, 'Tab_BatchN': False, 'Num_tab_0': 682, 'Concat layers': 2, 'Con_init': 'glorot_uniform', 'Act_con': 'selu', 'Drop_con': 0.30000000000000004, 'Com_BatchN': True, 'Num_con_0': 1501, 'Num_con_1': 496, 'optimizer': 'Adadelta', 'delta': 1.8}. Best is trial 23 with value: 0.2235081321126653.\n",
      "[W 2024-04-08 14:03:34,903] Trial 28 failed with parameters: {'Imgage layers': 1, 'Img_init': 'he_normal', 'Act_img': 'swish', 'Drop_img': 0.7, 'Img_BatchN': False, 'Num_img_0': 456, 'Tabular layers': 2, 'Tab_init': 'he_uniform', 'Act_tab': 'elu', 'Drop_tab': 0.7, 'Tab_BatchN': True, 'Num_tab_0': 344, 'Num_tab_1': 259, 'Concat layers': 1, 'Con_init': 'random_normal', 'Act_con': 'swish', 'Drop_con': 0.6000000000000001, 'Com_BatchN': True, 'Num_con_0': 438, 'optimizer': 'rmsprop', 'delta': 0.5} because of the following error: KeyboardInterrupt().\n",
      "Traceback (most recent call last):\n",
      "  File \"/home/tobias/miniconda3/envs/tf/lib/python3.9/site-packages/optuna/study/_optimize.py\", line 196, in _run_trial\n",
      "    value_or_values = func(trial)\n",
      "  File \"/tmp/ipykernel_1986789/4248361397.py\", line 143, in objective\n",
      "    history = model.fit([X_train_feat, X_train_tab], y_train, validation_data=([X_valid_feat, X_valid_tab], y_valid), batch_size=512, epochs=50, callbacks=callbacks, verbose = 0)\n",
      "  File \"/home/tobias/miniconda3/envs/tf/lib/python3.9/site-packages/keras/utils/traceback_utils.py\", line 65, in error_handler\n",
      "    return fn(*args, **kwargs)\n",
      "  File \"/home/tobias/miniconda3/envs/tf/lib/python3.9/site-packages/keras/engine/training.py\", line 1685, in fit\n",
      "    tmp_logs = self.train_function(iterator)\n",
      "  File \"/home/tobias/miniconda3/envs/tf/lib/python3.9/site-packages/tensorflow/python/util/traceback_utils.py\", line 150, in error_handler\n",
      "    return fn(*args, **kwargs)\n",
      "  File \"/home/tobias/miniconda3/envs/tf/lib/python3.9/site-packages/tensorflow/python/eager/polymorphic_function/polymorphic_function.py\", line 894, in __call__\n",
      "    result = self._call(*args, **kwds)\n",
      "  File \"/home/tobias/miniconda3/envs/tf/lib/python3.9/site-packages/tensorflow/python/eager/polymorphic_function/polymorphic_function.py\", line 926, in _call\n",
      "    return self._no_variable_creation_fn(*args, **kwds)  # pylint: disable=not-callable\n",
      "  File \"/home/tobias/miniconda3/envs/tf/lib/python3.9/site-packages/tensorflow/python/eager/polymorphic_function/tracing_compiler.py\", line 143, in __call__\n",
      "    return concrete_function._call_flat(\n",
      "  File \"/home/tobias/miniconda3/envs/tf/lib/python3.9/site-packages/tensorflow/python/eager/polymorphic_function/monomorphic_function.py\", line 1757, in _call_flat\n",
      "    return self._build_call_outputs(self._inference_function.call(\n",
      "  File \"/home/tobias/miniconda3/envs/tf/lib/python3.9/site-packages/tensorflow/python/eager/polymorphic_function/monomorphic_function.py\", line 381, in call\n",
      "    outputs = execute.execute(\n",
      "  File \"/home/tobias/miniconda3/envs/tf/lib/python3.9/site-packages/tensorflow/python/eager/execute.py\", line 52, in quick_execute\n",
      "    tensors = pywrap_tfe.TFE_Py_Execute(ctx._handle, device_name, op_name,\n",
      "KeyboardInterrupt\n",
      "[W 2024-04-08 14:03:34,905] Trial 28 failed with value None.\n"
     ]
    },
    {
     "ename": "KeyboardInterrupt",
     "evalue": "",
     "output_type": "error",
     "traceback": [
      "\u001b[0;31m---------------------------------------------------------------------------\u001b[0m",
      "\u001b[0;31mKeyboardInterrupt\u001b[0m                         Traceback (most recent call last)",
      "Cell \u001b[0;32mIn[13], line 244\u001b[0m\n\u001b[1;32m    242\u001b[0m \u001b[38;5;28mprint\u001b[39m(\u001b[38;5;124m'\u001b[39m\u001b[38;5;124m-\u001b[39m\u001b[38;5;124m'\u001b[39m \u001b[38;5;241m*\u001b[39m \u001b[38;5;241m50\u001b[39m)\n\u001b[1;32m    243\u001b[0m study\u001b[38;5;241m.\u001b[39msampler \u001b[38;5;241m=\u001b[39m optuna\u001b[38;5;241m.\u001b[39msamplers\u001b[38;5;241m.\u001b[39mQMCSampler(warn_independent_sampling \u001b[38;5;241m=\u001b[39m \u001b[38;5;28;01mFalse\u001b[39;00m) \n\u001b[0;32m--> 244\u001b[0m \u001b[43mstudy\u001b[49m\u001b[38;5;241;43m.\u001b[39;49m\u001b[43moptimize\u001b[49m\u001b[43m(\u001b[49m\u001b[43mobjective\u001b[49m\u001b[43m,\u001b[49m\u001b[43m \u001b[49m\u001b[43mn_trials\u001b[49m\u001b[38;5;241;43m=\u001b[39;49m\u001b[43mnum_random_trials\u001b[49m\u001b[43m)\u001b[49m\n\u001b[1;32m    245\u001b[0m \u001b[38;5;28mprint\u001b[39m(\u001b[38;5;124mf\u001b[39m\u001b[38;5;124m'\u001b[39m\u001b[38;5;124mTime taken for random trials: \u001b[39m\u001b[38;5;132;01m{\u001b[39;00mtimedelta(seconds\u001b[38;5;241m=\u001b[39m\u001b[38;5;250m \u001b[39m(time\u001b[38;5;241m.\u001b[39mtime()\u001b[38;5;250m \u001b[39m\u001b[38;5;241m-\u001b[39m\u001b[38;5;250m \u001b[39mround_start))\u001b[38;5;132;01m}\u001b[39;00m\u001b[38;5;124m'\u001b[39m)\n\u001b[1;32m    246\u001b[0m \u001b[38;5;28mprint\u001b[39m(\u001b[38;5;124mf\u001b[39m\u001b[38;5;124m'\u001b[39m\u001b[38;5;124mStarting TPE \u001b[39m\u001b[38;5;132;01m{\u001b[39;00mnum_tpe_trial\u001b[38;5;132;01m}\u001b[39;00m\u001b[38;5;124m trials...\u001b[39m\u001b[38;5;124m'\u001b[39m)    \n",
      "File \u001b[0;32m~/miniconda3/envs/tf/lib/python3.9/site-packages/optuna/study/study.py:451\u001b[0m, in \u001b[0;36mStudy.optimize\u001b[0;34m(self, func, n_trials, timeout, n_jobs, catch, callbacks, gc_after_trial, show_progress_bar)\u001b[0m\n\u001b[1;32m    348\u001b[0m \u001b[38;5;28;01mdef\u001b[39;00m \u001b[38;5;21moptimize\u001b[39m(\n\u001b[1;32m    349\u001b[0m     \u001b[38;5;28mself\u001b[39m,\n\u001b[1;32m    350\u001b[0m     func: ObjectiveFuncType,\n\u001b[0;32m   (...)\u001b[0m\n\u001b[1;32m    357\u001b[0m     show_progress_bar: \u001b[38;5;28mbool\u001b[39m \u001b[38;5;241m=\u001b[39m \u001b[38;5;28;01mFalse\u001b[39;00m,\n\u001b[1;32m    358\u001b[0m ) \u001b[38;5;241m-\u001b[39m\u001b[38;5;241m>\u001b[39m \u001b[38;5;28;01mNone\u001b[39;00m:\n\u001b[1;32m    359\u001b[0m \u001b[38;5;250m    \u001b[39m\u001b[38;5;124;03m\"\"\"Optimize an objective function.\u001b[39;00m\n\u001b[1;32m    360\u001b[0m \n\u001b[1;32m    361\u001b[0m \u001b[38;5;124;03m    Optimization is done by choosing a suitable set of hyperparameter values from a given\u001b[39;00m\n\u001b[0;32m   (...)\u001b[0m\n\u001b[1;32m    449\u001b[0m \u001b[38;5;124;03m            If nested invocation of this method occurs.\u001b[39;00m\n\u001b[1;32m    450\u001b[0m \u001b[38;5;124;03m    \"\"\"\u001b[39;00m\n\u001b[0;32m--> 451\u001b[0m     \u001b[43m_optimize\u001b[49m\u001b[43m(\u001b[49m\n\u001b[1;32m    452\u001b[0m \u001b[43m        \u001b[49m\u001b[43mstudy\u001b[49m\u001b[38;5;241;43m=\u001b[39;49m\u001b[38;5;28;43mself\u001b[39;49m\u001b[43m,\u001b[49m\n\u001b[1;32m    453\u001b[0m \u001b[43m        \u001b[49m\u001b[43mfunc\u001b[49m\u001b[38;5;241;43m=\u001b[39;49m\u001b[43mfunc\u001b[49m\u001b[43m,\u001b[49m\n\u001b[1;32m    454\u001b[0m \u001b[43m        \u001b[49m\u001b[43mn_trials\u001b[49m\u001b[38;5;241;43m=\u001b[39;49m\u001b[43mn_trials\u001b[49m\u001b[43m,\u001b[49m\n\u001b[1;32m    455\u001b[0m \u001b[43m        \u001b[49m\u001b[43mtimeout\u001b[49m\u001b[38;5;241;43m=\u001b[39;49m\u001b[43mtimeout\u001b[49m\u001b[43m,\u001b[49m\n\u001b[1;32m    456\u001b[0m \u001b[43m        \u001b[49m\u001b[43mn_jobs\u001b[49m\u001b[38;5;241;43m=\u001b[39;49m\u001b[43mn_jobs\u001b[49m\u001b[43m,\u001b[49m\n\u001b[1;32m    457\u001b[0m \u001b[43m        \u001b[49m\u001b[43mcatch\u001b[49m\u001b[38;5;241;43m=\u001b[39;49m\u001b[38;5;28;43mtuple\u001b[39;49m\u001b[43m(\u001b[49m\u001b[43mcatch\u001b[49m\u001b[43m)\u001b[49m\u001b[43m \u001b[49m\u001b[38;5;28;43;01mif\u001b[39;49;00m\u001b[43m \u001b[49m\u001b[38;5;28;43misinstance\u001b[39;49m\u001b[43m(\u001b[49m\u001b[43mcatch\u001b[49m\u001b[43m,\u001b[49m\u001b[43m \u001b[49m\u001b[43mIterable\u001b[49m\u001b[43m)\u001b[49m\u001b[43m \u001b[49m\u001b[38;5;28;43;01melse\u001b[39;49;00m\u001b[43m \u001b[49m\u001b[43m(\u001b[49m\u001b[43mcatch\u001b[49m\u001b[43m,\u001b[49m\u001b[43m)\u001b[49m\u001b[43m,\u001b[49m\n\u001b[1;32m    458\u001b[0m \u001b[43m        \u001b[49m\u001b[43mcallbacks\u001b[49m\u001b[38;5;241;43m=\u001b[39;49m\u001b[43mcallbacks\u001b[49m\u001b[43m,\u001b[49m\n\u001b[1;32m    459\u001b[0m \u001b[43m        \u001b[49m\u001b[43mgc_after_trial\u001b[49m\u001b[38;5;241;43m=\u001b[39;49m\u001b[43mgc_after_trial\u001b[49m\u001b[43m,\u001b[49m\n\u001b[1;32m    460\u001b[0m \u001b[43m        \u001b[49m\u001b[43mshow_progress_bar\u001b[49m\u001b[38;5;241;43m=\u001b[39;49m\u001b[43mshow_progress_bar\u001b[49m\u001b[43m,\u001b[49m\n\u001b[1;32m    461\u001b[0m \u001b[43m    \u001b[49m\u001b[43m)\u001b[49m\n",
      "File \u001b[0;32m~/miniconda3/envs/tf/lib/python3.9/site-packages/optuna/study/_optimize.py:62\u001b[0m, in \u001b[0;36m_optimize\u001b[0;34m(study, func, n_trials, timeout, n_jobs, catch, callbacks, gc_after_trial, show_progress_bar)\u001b[0m\n\u001b[1;32m     60\u001b[0m \u001b[38;5;28;01mtry\u001b[39;00m:\n\u001b[1;32m     61\u001b[0m     \u001b[38;5;28;01mif\u001b[39;00m n_jobs \u001b[38;5;241m==\u001b[39m \u001b[38;5;241m1\u001b[39m:\n\u001b[0;32m---> 62\u001b[0m         \u001b[43m_optimize_sequential\u001b[49m\u001b[43m(\u001b[49m\n\u001b[1;32m     63\u001b[0m \u001b[43m            \u001b[49m\u001b[43mstudy\u001b[49m\u001b[43m,\u001b[49m\n\u001b[1;32m     64\u001b[0m \u001b[43m            \u001b[49m\u001b[43mfunc\u001b[49m\u001b[43m,\u001b[49m\n\u001b[1;32m     65\u001b[0m \u001b[43m            \u001b[49m\u001b[43mn_trials\u001b[49m\u001b[43m,\u001b[49m\n\u001b[1;32m     66\u001b[0m \u001b[43m            \u001b[49m\u001b[43mtimeout\u001b[49m\u001b[43m,\u001b[49m\n\u001b[1;32m     67\u001b[0m \u001b[43m            \u001b[49m\u001b[43mcatch\u001b[49m\u001b[43m,\u001b[49m\n\u001b[1;32m     68\u001b[0m \u001b[43m            \u001b[49m\u001b[43mcallbacks\u001b[49m\u001b[43m,\u001b[49m\n\u001b[1;32m     69\u001b[0m \u001b[43m            \u001b[49m\u001b[43mgc_after_trial\u001b[49m\u001b[43m,\u001b[49m\n\u001b[1;32m     70\u001b[0m \u001b[43m            \u001b[49m\u001b[43mreseed_sampler_rng\u001b[49m\u001b[38;5;241;43m=\u001b[39;49m\u001b[38;5;28;43;01mFalse\u001b[39;49;00m\u001b[43m,\u001b[49m\n\u001b[1;32m     71\u001b[0m \u001b[43m            \u001b[49m\u001b[43mtime_start\u001b[49m\u001b[38;5;241;43m=\u001b[39;49m\u001b[38;5;28;43;01mNone\u001b[39;49;00m\u001b[43m,\u001b[49m\n\u001b[1;32m     72\u001b[0m \u001b[43m            \u001b[49m\u001b[43mprogress_bar\u001b[49m\u001b[38;5;241;43m=\u001b[39;49m\u001b[43mprogress_bar\u001b[49m\u001b[43m,\u001b[49m\n\u001b[1;32m     73\u001b[0m \u001b[43m        \u001b[49m\u001b[43m)\u001b[49m\n\u001b[1;32m     74\u001b[0m     \u001b[38;5;28;01melse\u001b[39;00m:\n\u001b[1;32m     75\u001b[0m         \u001b[38;5;28;01mif\u001b[39;00m n_jobs \u001b[38;5;241m==\u001b[39m \u001b[38;5;241m-\u001b[39m\u001b[38;5;241m1\u001b[39m:\n",
      "File \u001b[0;32m~/miniconda3/envs/tf/lib/python3.9/site-packages/optuna/study/_optimize.py:159\u001b[0m, in \u001b[0;36m_optimize_sequential\u001b[0;34m(study, func, n_trials, timeout, catch, callbacks, gc_after_trial, reseed_sampler_rng, time_start, progress_bar)\u001b[0m\n\u001b[1;32m    156\u001b[0m         \u001b[38;5;28;01mbreak\u001b[39;00m\n\u001b[1;32m    158\u001b[0m \u001b[38;5;28;01mtry\u001b[39;00m:\n\u001b[0;32m--> 159\u001b[0m     frozen_trial \u001b[38;5;241m=\u001b[39m \u001b[43m_run_trial\u001b[49m\u001b[43m(\u001b[49m\u001b[43mstudy\u001b[49m\u001b[43m,\u001b[49m\u001b[43m \u001b[49m\u001b[43mfunc\u001b[49m\u001b[43m,\u001b[49m\u001b[43m \u001b[49m\u001b[43mcatch\u001b[49m\u001b[43m)\u001b[49m\n\u001b[1;32m    160\u001b[0m \u001b[38;5;28;01mfinally\u001b[39;00m:\n\u001b[1;32m    161\u001b[0m     \u001b[38;5;66;03m# The following line mitigates memory problems that can be occurred in some\u001b[39;00m\n\u001b[1;32m    162\u001b[0m     \u001b[38;5;66;03m# environments (e.g., services that use computing containers such as GitHub Actions).\u001b[39;00m\n\u001b[1;32m    163\u001b[0m     \u001b[38;5;66;03m# Please refer to the following PR for further details:\u001b[39;00m\n\u001b[1;32m    164\u001b[0m     \u001b[38;5;66;03m# https://github.com/optuna/optuna/pull/325.\u001b[39;00m\n\u001b[1;32m    165\u001b[0m     \u001b[38;5;28;01mif\u001b[39;00m gc_after_trial:\n",
      "File \u001b[0;32m~/miniconda3/envs/tf/lib/python3.9/site-packages/optuna/study/_optimize.py:247\u001b[0m, in \u001b[0;36m_run_trial\u001b[0;34m(study, func, catch)\u001b[0m\n\u001b[1;32m    240\u001b[0m         \u001b[38;5;28;01massert\u001b[39;00m \u001b[38;5;28;01mFalse\u001b[39;00m, \u001b[38;5;124m\"\u001b[39m\u001b[38;5;124mShould not reach.\u001b[39m\u001b[38;5;124m\"\u001b[39m\n\u001b[1;32m    242\u001b[0m \u001b[38;5;28;01mif\u001b[39;00m (\n\u001b[1;32m    243\u001b[0m     frozen_trial\u001b[38;5;241m.\u001b[39mstate \u001b[38;5;241m==\u001b[39m TrialState\u001b[38;5;241m.\u001b[39mFAIL\n\u001b[1;32m    244\u001b[0m     \u001b[38;5;129;01mand\u001b[39;00m func_err \u001b[38;5;129;01mis\u001b[39;00m \u001b[38;5;129;01mnot\u001b[39;00m \u001b[38;5;28;01mNone\u001b[39;00m\n\u001b[1;32m    245\u001b[0m     \u001b[38;5;129;01mand\u001b[39;00m \u001b[38;5;129;01mnot\u001b[39;00m \u001b[38;5;28misinstance\u001b[39m(func_err, catch)\n\u001b[1;32m    246\u001b[0m ):\n\u001b[0;32m--> 247\u001b[0m     \u001b[38;5;28;01mraise\u001b[39;00m func_err\n\u001b[1;32m    248\u001b[0m \u001b[38;5;28;01mreturn\u001b[39;00m frozen_trial\n",
      "File \u001b[0;32m~/miniconda3/envs/tf/lib/python3.9/site-packages/optuna/study/_optimize.py:196\u001b[0m, in \u001b[0;36m_run_trial\u001b[0;34m(study, func, catch)\u001b[0m\n\u001b[1;32m    194\u001b[0m \u001b[38;5;28;01mwith\u001b[39;00m get_heartbeat_thread(trial\u001b[38;5;241m.\u001b[39m_trial_id, study\u001b[38;5;241m.\u001b[39m_storage):\n\u001b[1;32m    195\u001b[0m     \u001b[38;5;28;01mtry\u001b[39;00m:\n\u001b[0;32m--> 196\u001b[0m         value_or_values \u001b[38;5;241m=\u001b[39m \u001b[43mfunc\u001b[49m\u001b[43m(\u001b[49m\u001b[43mtrial\u001b[49m\u001b[43m)\u001b[49m\n\u001b[1;32m    197\u001b[0m     \u001b[38;5;28;01mexcept\u001b[39;00m exceptions\u001b[38;5;241m.\u001b[39mTrialPruned \u001b[38;5;28;01mas\u001b[39;00m e:\n\u001b[1;32m    198\u001b[0m         \u001b[38;5;66;03m# TODO(mamu): Handle multi-objective cases.\u001b[39;00m\n\u001b[1;32m    199\u001b[0m         state \u001b[38;5;241m=\u001b[39m TrialState\u001b[38;5;241m.\u001b[39mPRUNED\n",
      "Cell \u001b[0;32mIn[13], line 143\u001b[0m, in \u001b[0;36mobjective\u001b[0;34m(trial)\u001b[0m\n\u001b[1;32m    125\u001b[0m model_checkpoint_callback \u001b[38;5;241m=\u001b[39m tf\u001b[38;5;241m.\u001b[39mkeras\u001b[38;5;241m.\u001b[39mcallbacks\u001b[38;5;241m.\u001b[39mModelCheckpoint(\n\u001b[1;32m    126\u001b[0m         filepath\u001b[38;5;241m=\u001b[39m\u001b[38;5;124mf\u001b[39m\u001b[38;5;124m\"\u001b[39m\u001b[38;5;124m./data/\u001b[39m\u001b[38;5;132;01m{\u001b[39;00mstudy_name\u001b[38;5;132;01m}\u001b[39;00m\u001b[38;5;124m_search_model.h5\u001b[39m\u001b[38;5;124m\"\u001b[39m,            \n\u001b[1;32m    127\u001b[0m         monitor\u001b[38;5;241m=\u001b[39m\u001b[38;5;124m'\u001b[39m\u001b[38;5;124mval_r2_score\u001b[39m\u001b[38;5;124m'\u001b[39m,\n\u001b[0;32m   (...)\u001b[0m\n\u001b[1;32m    130\u001b[0m         save_weights_only\u001b[38;5;241m=\u001b[39m\u001b[38;5;28;01mTrue\u001b[39;00m,\n\u001b[1;32m    131\u001b[0m         verbose\u001b[38;5;241m=\u001b[39m\u001b[38;5;241m0\u001b[39m)\n\u001b[1;32m    134\u001b[0m callbacks \u001b[38;5;241m=\u001b[39m [\n\u001b[1;32m    135\u001b[0m              ReduceLROnPlateau(\u001b[38;5;124m'\u001b[39m\u001b[38;5;124mval_r2_score\u001b[39m\u001b[38;5;124m'\u001b[39m, patience\u001b[38;5;241m=\u001b[39m\u001b[38;5;241m3\u001b[39m, factor\u001b[38;5;241m=\u001b[39m\u001b[38;5;241m0.7\u001b[39m, mode \u001b[38;5;241m=\u001b[39m \u001b[38;5;124m'\u001b[39m\u001b[38;5;124mmax\u001b[39m\u001b[38;5;124m'\u001b[39m), \n\u001b[1;32m    136\u001b[0m              TerminateOnNaN(),\n\u001b[0;32m   (...)\u001b[0m\n\u001b[1;32m    139\u001b[0m              EarlyStopping(monitor\u001b[38;5;241m=\u001b[39m\u001b[38;5;124m'\u001b[39m\u001b[38;5;124mval_r2_score\u001b[39m\u001b[38;5;124m'\u001b[39m, patience\u001b[38;5;241m=\u001b[39m\u001b[38;5;241m5\u001b[39m, mode\u001b[38;5;241m=\u001b[39m\u001b[38;5;124m'\u001b[39m\u001b[38;5;124mmax\u001b[39m\u001b[38;5;124m'\u001b[39m, verbose \u001b[38;5;241m=\u001b[39m \u001b[38;5;241m1\u001b[39m)\n\u001b[1;32m    140\u001b[0m              ]\n\u001b[0;32m--> 143\u001b[0m history \u001b[38;5;241m=\u001b[39m \u001b[43mmodel\u001b[49m\u001b[38;5;241;43m.\u001b[39;49m\u001b[43mfit\u001b[49m\u001b[43m(\u001b[49m\u001b[43m[\u001b[49m\u001b[43mX_train_feat\u001b[49m\u001b[43m,\u001b[49m\u001b[43m \u001b[49m\u001b[43mX_train_tab\u001b[49m\u001b[43m]\u001b[49m\u001b[43m,\u001b[49m\u001b[43m \u001b[49m\u001b[43my_train\u001b[49m\u001b[43m,\u001b[49m\u001b[43m \u001b[49m\u001b[43mvalidation_data\u001b[49m\u001b[38;5;241;43m=\u001b[39;49m\u001b[43m(\u001b[49m\u001b[43m[\u001b[49m\u001b[43mX_valid_feat\u001b[49m\u001b[43m,\u001b[49m\u001b[43m \u001b[49m\u001b[43mX_valid_tab\u001b[49m\u001b[43m]\u001b[49m\u001b[43m,\u001b[49m\u001b[43m \u001b[49m\u001b[43my_valid\u001b[49m\u001b[43m)\u001b[49m\u001b[43m,\u001b[49m\u001b[43m \u001b[49m\u001b[43mbatch_size\u001b[49m\u001b[38;5;241;43m=\u001b[39;49m\u001b[38;5;241;43m512\u001b[39;49m\u001b[43m,\u001b[49m\u001b[43m \u001b[49m\u001b[43mepochs\u001b[49m\u001b[38;5;241;43m=\u001b[39;49m\u001b[38;5;241;43m50\u001b[39;49m\u001b[43m,\u001b[49m\u001b[43m \u001b[49m\u001b[43mcallbacks\u001b[49m\u001b[38;5;241;43m=\u001b[39;49m\u001b[43mcallbacks\u001b[49m\u001b[43m,\u001b[49m\u001b[43m \u001b[49m\u001b[43mverbose\u001b[49m\u001b[43m \u001b[49m\u001b[38;5;241;43m=\u001b[39;49m\u001b[43m \u001b[49m\u001b[38;5;241;43m0\u001b[39;49m\u001b[43m)\u001b[49m\n\u001b[1;32m    145\u001b[0m best_epoch \u001b[38;5;241m=\u001b[39m history\u001b[38;5;241m.\u001b[39mhistory[\u001b[38;5;124m'\u001b[39m\u001b[38;5;124mval_r2_score\u001b[39m\u001b[38;5;124m'\u001b[39m]\u001b[38;5;241m.\u001b[39mindex(\u001b[38;5;28mmax\u001b[39m(history\u001b[38;5;241m.\u001b[39mhistory[\u001b[38;5;124m'\u001b[39m\u001b[38;5;124mval_r2_score\u001b[39m\u001b[38;5;124m'\u001b[39m])) \u001b[38;5;241m+\u001b[39m \u001b[38;5;241m1\u001b[39m\n\u001b[1;32m    147\u001b[0m model\u001b[38;5;241m.\u001b[39mload_weights(\u001b[38;5;124mf\u001b[39m\u001b[38;5;124m'\u001b[39m\u001b[38;5;124m./data/\u001b[39m\u001b[38;5;132;01m{\u001b[39;00mstudy_name\u001b[38;5;132;01m}\u001b[39;00m\u001b[38;5;124m_search_model.h5\u001b[39m\u001b[38;5;124m'\u001b[39m)\n",
      "File \u001b[0;32m~/miniconda3/envs/tf/lib/python3.9/site-packages/keras/utils/traceback_utils.py:65\u001b[0m, in \u001b[0;36mfilter_traceback.<locals>.error_handler\u001b[0;34m(*args, **kwargs)\u001b[0m\n\u001b[1;32m     63\u001b[0m filtered_tb \u001b[38;5;241m=\u001b[39m \u001b[38;5;28;01mNone\u001b[39;00m\n\u001b[1;32m     64\u001b[0m \u001b[38;5;28;01mtry\u001b[39;00m:\n\u001b[0;32m---> 65\u001b[0m     \u001b[38;5;28;01mreturn\u001b[39;00m \u001b[43mfn\u001b[49m\u001b[43m(\u001b[49m\u001b[38;5;241;43m*\u001b[39;49m\u001b[43margs\u001b[49m\u001b[43m,\u001b[49m\u001b[43m \u001b[49m\u001b[38;5;241;43m*\u001b[39;49m\u001b[38;5;241;43m*\u001b[39;49m\u001b[43mkwargs\u001b[49m\u001b[43m)\u001b[49m\n\u001b[1;32m     66\u001b[0m \u001b[38;5;28;01mexcept\u001b[39;00m \u001b[38;5;167;01mException\u001b[39;00m \u001b[38;5;28;01mas\u001b[39;00m e:\n\u001b[1;32m     67\u001b[0m     filtered_tb \u001b[38;5;241m=\u001b[39m _process_traceback_frames(e\u001b[38;5;241m.\u001b[39m__traceback__)\n",
      "File \u001b[0;32m~/miniconda3/envs/tf/lib/python3.9/site-packages/keras/engine/training.py:1685\u001b[0m, in \u001b[0;36mModel.fit\u001b[0;34m(self, x, y, batch_size, epochs, verbose, callbacks, validation_split, validation_data, shuffle, class_weight, sample_weight, initial_epoch, steps_per_epoch, validation_steps, validation_batch_size, validation_freq, max_queue_size, workers, use_multiprocessing)\u001b[0m\n\u001b[1;32m   1677\u001b[0m \u001b[38;5;28;01mwith\u001b[39;00m tf\u001b[38;5;241m.\u001b[39mprofiler\u001b[38;5;241m.\u001b[39mexperimental\u001b[38;5;241m.\u001b[39mTrace(\n\u001b[1;32m   1678\u001b[0m     \u001b[38;5;124m\"\u001b[39m\u001b[38;5;124mtrain\u001b[39m\u001b[38;5;124m\"\u001b[39m,\n\u001b[1;32m   1679\u001b[0m     epoch_num\u001b[38;5;241m=\u001b[39mepoch,\n\u001b[0;32m   (...)\u001b[0m\n\u001b[1;32m   1682\u001b[0m     _r\u001b[38;5;241m=\u001b[39m\u001b[38;5;241m1\u001b[39m,\n\u001b[1;32m   1683\u001b[0m ):\n\u001b[1;32m   1684\u001b[0m     callbacks\u001b[38;5;241m.\u001b[39mon_train_batch_begin(step)\n\u001b[0;32m-> 1685\u001b[0m     tmp_logs \u001b[38;5;241m=\u001b[39m \u001b[38;5;28;43mself\u001b[39;49m\u001b[38;5;241;43m.\u001b[39;49m\u001b[43mtrain_function\u001b[49m\u001b[43m(\u001b[49m\u001b[43miterator\u001b[49m\u001b[43m)\u001b[49m\n\u001b[1;32m   1686\u001b[0m     \u001b[38;5;28;01mif\u001b[39;00m data_handler\u001b[38;5;241m.\u001b[39mshould_sync:\n\u001b[1;32m   1687\u001b[0m         context\u001b[38;5;241m.\u001b[39masync_wait()\n",
      "File \u001b[0;32m~/miniconda3/envs/tf/lib/python3.9/site-packages/tensorflow/python/util/traceback_utils.py:150\u001b[0m, in \u001b[0;36mfilter_traceback.<locals>.error_handler\u001b[0;34m(*args, **kwargs)\u001b[0m\n\u001b[1;32m    148\u001b[0m filtered_tb \u001b[38;5;241m=\u001b[39m \u001b[38;5;28;01mNone\u001b[39;00m\n\u001b[1;32m    149\u001b[0m \u001b[38;5;28;01mtry\u001b[39;00m:\n\u001b[0;32m--> 150\u001b[0m   \u001b[38;5;28;01mreturn\u001b[39;00m \u001b[43mfn\u001b[49m\u001b[43m(\u001b[49m\u001b[38;5;241;43m*\u001b[39;49m\u001b[43margs\u001b[49m\u001b[43m,\u001b[49m\u001b[43m \u001b[49m\u001b[38;5;241;43m*\u001b[39;49m\u001b[38;5;241;43m*\u001b[39;49m\u001b[43mkwargs\u001b[49m\u001b[43m)\u001b[49m\n\u001b[1;32m    151\u001b[0m \u001b[38;5;28;01mexcept\u001b[39;00m \u001b[38;5;167;01mException\u001b[39;00m \u001b[38;5;28;01mas\u001b[39;00m e:\n\u001b[1;32m    152\u001b[0m   filtered_tb \u001b[38;5;241m=\u001b[39m _process_traceback_frames(e\u001b[38;5;241m.\u001b[39m__traceback__)\n",
      "File \u001b[0;32m~/miniconda3/envs/tf/lib/python3.9/site-packages/tensorflow/python/eager/polymorphic_function/polymorphic_function.py:894\u001b[0m, in \u001b[0;36mFunction.__call__\u001b[0;34m(self, *args, **kwds)\u001b[0m\n\u001b[1;32m    891\u001b[0m compiler \u001b[38;5;241m=\u001b[39m \u001b[38;5;124m\"\u001b[39m\u001b[38;5;124mxla\u001b[39m\u001b[38;5;124m\"\u001b[39m \u001b[38;5;28;01mif\u001b[39;00m \u001b[38;5;28mself\u001b[39m\u001b[38;5;241m.\u001b[39m_jit_compile \u001b[38;5;28;01melse\u001b[39;00m \u001b[38;5;124m\"\u001b[39m\u001b[38;5;124mnonXla\u001b[39m\u001b[38;5;124m\"\u001b[39m\n\u001b[1;32m    893\u001b[0m \u001b[38;5;28;01mwith\u001b[39;00m OptionalXlaContext(\u001b[38;5;28mself\u001b[39m\u001b[38;5;241m.\u001b[39m_jit_compile):\n\u001b[0;32m--> 894\u001b[0m   result \u001b[38;5;241m=\u001b[39m \u001b[38;5;28;43mself\u001b[39;49m\u001b[38;5;241;43m.\u001b[39;49m\u001b[43m_call\u001b[49m\u001b[43m(\u001b[49m\u001b[38;5;241;43m*\u001b[39;49m\u001b[43margs\u001b[49m\u001b[43m,\u001b[49m\u001b[43m \u001b[49m\u001b[38;5;241;43m*\u001b[39;49m\u001b[38;5;241;43m*\u001b[39;49m\u001b[43mkwds\u001b[49m\u001b[43m)\u001b[49m\n\u001b[1;32m    896\u001b[0m new_tracing_count \u001b[38;5;241m=\u001b[39m \u001b[38;5;28mself\u001b[39m\u001b[38;5;241m.\u001b[39mexperimental_get_tracing_count()\n\u001b[1;32m    897\u001b[0m without_tracing \u001b[38;5;241m=\u001b[39m (tracing_count \u001b[38;5;241m==\u001b[39m new_tracing_count)\n",
      "File \u001b[0;32m~/miniconda3/envs/tf/lib/python3.9/site-packages/tensorflow/python/eager/polymorphic_function/polymorphic_function.py:926\u001b[0m, in \u001b[0;36mFunction._call\u001b[0;34m(self, *args, **kwds)\u001b[0m\n\u001b[1;32m    923\u001b[0m   \u001b[38;5;28mself\u001b[39m\u001b[38;5;241m.\u001b[39m_lock\u001b[38;5;241m.\u001b[39mrelease()\n\u001b[1;32m    924\u001b[0m   \u001b[38;5;66;03m# In this case we have created variables on the first call, so we run the\u001b[39;00m\n\u001b[1;32m    925\u001b[0m   \u001b[38;5;66;03m# defunned version which is guaranteed to never create variables.\u001b[39;00m\n\u001b[0;32m--> 926\u001b[0m   \u001b[38;5;28;01mreturn\u001b[39;00m \u001b[38;5;28;43mself\u001b[39;49m\u001b[38;5;241;43m.\u001b[39;49m\u001b[43m_no_variable_creation_fn\u001b[49m\u001b[43m(\u001b[49m\u001b[38;5;241;43m*\u001b[39;49m\u001b[43margs\u001b[49m\u001b[43m,\u001b[49m\u001b[43m \u001b[49m\u001b[38;5;241;43m*\u001b[39;49m\u001b[38;5;241;43m*\u001b[39;49m\u001b[43mkwds\u001b[49m\u001b[43m)\u001b[49m  \u001b[38;5;66;03m# pylint: disable=not-callable\u001b[39;00m\n\u001b[1;32m    927\u001b[0m \u001b[38;5;28;01melif\u001b[39;00m \u001b[38;5;28mself\u001b[39m\u001b[38;5;241m.\u001b[39m_variable_creation_fn \u001b[38;5;129;01mis\u001b[39;00m \u001b[38;5;129;01mnot\u001b[39;00m \u001b[38;5;28;01mNone\u001b[39;00m:\n\u001b[1;32m    928\u001b[0m   \u001b[38;5;66;03m# Release the lock early so that multiple threads can perform the call\u001b[39;00m\n\u001b[1;32m    929\u001b[0m   \u001b[38;5;66;03m# in parallel.\u001b[39;00m\n\u001b[1;32m    930\u001b[0m   \u001b[38;5;28mself\u001b[39m\u001b[38;5;241m.\u001b[39m_lock\u001b[38;5;241m.\u001b[39mrelease()\n",
      "File \u001b[0;32m~/miniconda3/envs/tf/lib/python3.9/site-packages/tensorflow/python/eager/polymorphic_function/tracing_compiler.py:143\u001b[0m, in \u001b[0;36mTracingCompiler.__call__\u001b[0;34m(self, *args, **kwargs)\u001b[0m\n\u001b[1;32m    140\u001b[0m \u001b[38;5;28;01mwith\u001b[39;00m \u001b[38;5;28mself\u001b[39m\u001b[38;5;241m.\u001b[39m_lock:\n\u001b[1;32m    141\u001b[0m   (concrete_function,\n\u001b[1;32m    142\u001b[0m    filtered_flat_args) \u001b[38;5;241m=\u001b[39m \u001b[38;5;28mself\u001b[39m\u001b[38;5;241m.\u001b[39m_maybe_define_function(args, kwargs)\n\u001b[0;32m--> 143\u001b[0m \u001b[38;5;28;01mreturn\u001b[39;00m \u001b[43mconcrete_function\u001b[49m\u001b[38;5;241;43m.\u001b[39;49m\u001b[43m_call_flat\u001b[49m\u001b[43m(\u001b[49m\n\u001b[1;32m    144\u001b[0m \u001b[43m    \u001b[49m\u001b[43mfiltered_flat_args\u001b[49m\u001b[43m,\u001b[49m\u001b[43m \u001b[49m\u001b[43mcaptured_inputs\u001b[49m\u001b[38;5;241;43m=\u001b[39;49m\u001b[43mconcrete_function\u001b[49m\u001b[38;5;241;43m.\u001b[39;49m\u001b[43mcaptured_inputs\u001b[49m\u001b[43m)\u001b[49m\n",
      "File \u001b[0;32m~/miniconda3/envs/tf/lib/python3.9/site-packages/tensorflow/python/eager/polymorphic_function/monomorphic_function.py:1757\u001b[0m, in \u001b[0;36mConcreteFunction._call_flat\u001b[0;34m(self, args, captured_inputs, cancellation_manager)\u001b[0m\n\u001b[1;32m   1753\u001b[0m possible_gradient_type \u001b[38;5;241m=\u001b[39m gradients_util\u001b[38;5;241m.\u001b[39mPossibleTapeGradientTypes(args)\n\u001b[1;32m   1754\u001b[0m \u001b[38;5;28;01mif\u001b[39;00m (possible_gradient_type \u001b[38;5;241m==\u001b[39m gradients_util\u001b[38;5;241m.\u001b[39mPOSSIBLE_GRADIENT_TYPES_NONE\n\u001b[1;32m   1755\u001b[0m     \u001b[38;5;129;01mand\u001b[39;00m executing_eagerly):\n\u001b[1;32m   1756\u001b[0m   \u001b[38;5;66;03m# No tape is watching; skip to running the function.\u001b[39;00m\n\u001b[0;32m-> 1757\u001b[0m   \u001b[38;5;28;01mreturn\u001b[39;00m \u001b[38;5;28mself\u001b[39m\u001b[38;5;241m.\u001b[39m_build_call_outputs(\u001b[38;5;28;43mself\u001b[39;49m\u001b[38;5;241;43m.\u001b[39;49m\u001b[43m_inference_function\u001b[49m\u001b[38;5;241;43m.\u001b[39;49m\u001b[43mcall\u001b[49m\u001b[43m(\u001b[49m\n\u001b[1;32m   1758\u001b[0m \u001b[43m      \u001b[49m\u001b[43mctx\u001b[49m\u001b[43m,\u001b[49m\u001b[43m \u001b[49m\u001b[43margs\u001b[49m\u001b[43m,\u001b[49m\u001b[43m \u001b[49m\u001b[43mcancellation_manager\u001b[49m\u001b[38;5;241;43m=\u001b[39;49m\u001b[43mcancellation_manager\u001b[49m\u001b[43m)\u001b[49m)\n\u001b[1;32m   1759\u001b[0m forward_backward \u001b[38;5;241m=\u001b[39m \u001b[38;5;28mself\u001b[39m\u001b[38;5;241m.\u001b[39m_select_forward_and_backward_functions(\n\u001b[1;32m   1760\u001b[0m     args,\n\u001b[1;32m   1761\u001b[0m     possible_gradient_type,\n\u001b[1;32m   1762\u001b[0m     executing_eagerly)\n\u001b[1;32m   1763\u001b[0m forward_function, args_with_tangents \u001b[38;5;241m=\u001b[39m forward_backward\u001b[38;5;241m.\u001b[39mforward()\n",
      "File \u001b[0;32m~/miniconda3/envs/tf/lib/python3.9/site-packages/tensorflow/python/eager/polymorphic_function/monomorphic_function.py:381\u001b[0m, in \u001b[0;36m_EagerDefinedFunction.call\u001b[0;34m(self, ctx, args, cancellation_manager)\u001b[0m\n\u001b[1;32m    379\u001b[0m \u001b[38;5;28;01mwith\u001b[39;00m _InterpolateFunctionError(\u001b[38;5;28mself\u001b[39m):\n\u001b[1;32m    380\u001b[0m   \u001b[38;5;28;01mif\u001b[39;00m cancellation_manager \u001b[38;5;129;01mis\u001b[39;00m \u001b[38;5;28;01mNone\u001b[39;00m:\n\u001b[0;32m--> 381\u001b[0m     outputs \u001b[38;5;241m=\u001b[39m \u001b[43mexecute\u001b[49m\u001b[38;5;241;43m.\u001b[39;49m\u001b[43mexecute\u001b[49m\u001b[43m(\u001b[49m\n\u001b[1;32m    382\u001b[0m \u001b[43m        \u001b[49m\u001b[38;5;28;43mstr\u001b[39;49m\u001b[43m(\u001b[49m\u001b[38;5;28;43mself\u001b[39;49m\u001b[38;5;241;43m.\u001b[39;49m\u001b[43msignature\u001b[49m\u001b[38;5;241;43m.\u001b[39;49m\u001b[43mname\u001b[49m\u001b[43m)\u001b[49m\u001b[43m,\u001b[49m\n\u001b[1;32m    383\u001b[0m \u001b[43m        \u001b[49m\u001b[43mnum_outputs\u001b[49m\u001b[38;5;241;43m=\u001b[39;49m\u001b[38;5;28;43mself\u001b[39;49m\u001b[38;5;241;43m.\u001b[39;49m\u001b[43m_num_outputs\u001b[49m\u001b[43m,\u001b[49m\n\u001b[1;32m    384\u001b[0m \u001b[43m        \u001b[49m\u001b[43minputs\u001b[49m\u001b[38;5;241;43m=\u001b[39;49m\u001b[43margs\u001b[49m\u001b[43m,\u001b[49m\n\u001b[1;32m    385\u001b[0m \u001b[43m        \u001b[49m\u001b[43mattrs\u001b[49m\u001b[38;5;241;43m=\u001b[39;49m\u001b[43mattrs\u001b[49m\u001b[43m,\u001b[49m\n\u001b[1;32m    386\u001b[0m \u001b[43m        \u001b[49m\u001b[43mctx\u001b[49m\u001b[38;5;241;43m=\u001b[39;49m\u001b[43mctx\u001b[49m\u001b[43m)\u001b[49m\n\u001b[1;32m    387\u001b[0m   \u001b[38;5;28;01melse\u001b[39;00m:\n\u001b[1;32m    388\u001b[0m     outputs \u001b[38;5;241m=\u001b[39m execute\u001b[38;5;241m.\u001b[39mexecute_with_cancellation(\n\u001b[1;32m    389\u001b[0m         \u001b[38;5;28mstr\u001b[39m(\u001b[38;5;28mself\u001b[39m\u001b[38;5;241m.\u001b[39msignature\u001b[38;5;241m.\u001b[39mname),\n\u001b[1;32m    390\u001b[0m         num_outputs\u001b[38;5;241m=\u001b[39m\u001b[38;5;28mself\u001b[39m\u001b[38;5;241m.\u001b[39m_num_outputs,\n\u001b[0;32m   (...)\u001b[0m\n\u001b[1;32m    393\u001b[0m         ctx\u001b[38;5;241m=\u001b[39mctx,\n\u001b[1;32m    394\u001b[0m         cancellation_manager\u001b[38;5;241m=\u001b[39mcancellation_manager)\n",
      "File \u001b[0;32m~/miniconda3/envs/tf/lib/python3.9/site-packages/tensorflow/python/eager/execute.py:52\u001b[0m, in \u001b[0;36mquick_execute\u001b[0;34m(op_name, num_outputs, inputs, attrs, ctx, name)\u001b[0m\n\u001b[1;32m     50\u001b[0m \u001b[38;5;28;01mtry\u001b[39;00m:\n\u001b[1;32m     51\u001b[0m   ctx\u001b[38;5;241m.\u001b[39mensure_initialized()\n\u001b[0;32m---> 52\u001b[0m   tensors \u001b[38;5;241m=\u001b[39m \u001b[43mpywrap_tfe\u001b[49m\u001b[38;5;241;43m.\u001b[39;49m\u001b[43mTFE_Py_Execute\u001b[49m\u001b[43m(\u001b[49m\u001b[43mctx\u001b[49m\u001b[38;5;241;43m.\u001b[39;49m\u001b[43m_handle\u001b[49m\u001b[43m,\u001b[49m\u001b[43m \u001b[49m\u001b[43mdevice_name\u001b[49m\u001b[43m,\u001b[49m\u001b[43m \u001b[49m\u001b[43mop_name\u001b[49m\u001b[43m,\u001b[49m\n\u001b[1;32m     53\u001b[0m \u001b[43m                                      \u001b[49m\u001b[43minputs\u001b[49m\u001b[43m,\u001b[49m\u001b[43m \u001b[49m\u001b[43mattrs\u001b[49m\u001b[43m,\u001b[49m\u001b[43m \u001b[49m\u001b[43mnum_outputs\u001b[49m\u001b[43m)\u001b[49m\n\u001b[1;32m     54\u001b[0m \u001b[38;5;28;01mexcept\u001b[39;00m core\u001b[38;5;241m.\u001b[39m_NotOkStatusException \u001b[38;5;28;01mas\u001b[39;00m e:\n\u001b[1;32m     55\u001b[0m   \u001b[38;5;28;01mif\u001b[39;00m name \u001b[38;5;129;01mis\u001b[39;00m \u001b[38;5;129;01mnot\u001b[39;00m \u001b[38;5;28;01mNone\u001b[39;00m:\n",
      "\u001b[0;31mKeyboardInterrupt\u001b[0m: "
     ]
    }
   ],
   "source": [
    "import numpy as np\n",
    "import tensorflow as tf\n",
    "from tensorflow.keras.layers import Input, Dense, Concatenate, Dropout\n",
    "from tensorflow.keras.models import Model\n",
    "from tensorflow.keras.optimizers import Adam\n",
    "from optuna.integration import TFKerasPruningCallback\n",
    "import optuna\n",
    "from keras import regularizers, layers, optimizers, initializers\n",
    "from keras.callbacks import EarlyStopping, ReduceLROnPlateau, TerminateOnNaN\n",
    "from datetime import timedelta\n",
    "import time\n",
    "import os\n",
    "\n",
    "# os.environ['TF_GPU_ALLOCATOR'] = 'cuda_malloc_async'\n",
    "\n",
    "\n",
    "\n",
    "def r2_score(y_true, y_pred):\n",
    "    ss_res = tf.reduce_sum(tf.square(y_true - y_pred), axis=0)\n",
    "    ss_tot = tf.reduce_sum(tf.square(y_true - tf.reduce_mean(y_true, axis=0)), axis=0)\n",
    "    r2 = 1 - ss_res/(ss_tot + tf.keras.backend.epsilon())\n",
    "    r2 = tf.where(tf.math.is_nan(r2), tf.zeros_like(r2), r2)  # Korvaa NaN-arvot nollilla\n",
    "    return tf.reduce_mean(tf.maximum(r2, 0.0)) \n",
    "\n",
    "\n",
    "def huber_loss_wrapper(delta):\n",
    "    def huber_loss(y_true, y_pred):\n",
    "        return tf.keras.losses.Huber(delta=delta)(y_true, y_pred)\n",
    "    return huber_loss\n",
    "\n",
    "\n",
    "global current_delta\n",
    "def create_model(trial):\n",
    "\n",
    "    image_features_input = Input(shape=(X_train_feat.shape[1],), name='image_features_input')\n",
    "    tabular_data_input = Input(shape=(X_train_tab.shape[1],), name='tabular_data_input')\n",
    "\n",
    "    img_num_layers = trial.suggest_int('Imgage layers', 1, 2)\n",
    "    max_img_units = 2000\n",
    "    img_dense = image_features_input\n",
    "    \n",
    "    image_init = trial.suggest_categorical(f'Img_init', choices = ['glorot_uniform', 'he_normal', 'he_uniform', 'lecun_normal', 'lecun_uniform',  'random_normal', 'random_uniform'])\n",
    "    activation_img = trial.suggest_categorical(f'Act_img', choices = ['relu', 'tanh', 'selu', 'LeakyReLU', 'swish', 'elu'])\n",
    "    drop_img = trial.suggest_float(f'Drop_img', 0.2, 0.7, step=0.1)\n",
    "    batch_norm_img = trial.suggest_categorical(f'Img_BatchN', choices = [True, False])\n",
    "    for i in range(img_num_layers):\n",
    "\n",
    "        num_img_units = trial.suggest_int(f'Num_img_{i}', 256, max_img_units, log = True)        \n",
    "        img_dense = Dense(num_img_units, activation=activation_img, kernel_initializer = image_init)(img_dense)\n",
    "        if batch_norm_img:\n",
    "            img_dense = layers.BatchNormalization()(img_dense)\n",
    "        img_dense = Dropout(drop_img)(img_dense)\n",
    "        max_img_units = min(max_img_units, num_img_units)\n",
    "\n",
    "\n",
    "    tab_num_layers = trial.suggest_int('Tabular layers', 1, 2)\n",
    "    max_tab_units = 1000\n",
    "    tab_dense = tabular_data_input\n",
    "    tab_init = trial.suggest_categorical(f'Tab_init', choices = ['glorot_uniform', 'he_normal', 'he_uniform', 'lecun_normal', 'lecun_uniform',  'random_normal', 'random_uniform'])\n",
    "    activation_tab = trial.suggest_categorical(f'Act_tab', choices = ['relu', 'tanh', 'selu', 'LeakyReLU', 'swish', 'elu'])\n",
    "    drop_tab = trial.suggest_float(f'Drop_tab', 0.2, 0.7, step = 0.1)\n",
    "    batch_norm_tab = trial.suggest_categorical(f'Tab_BatchN', choices = [True, False])\n",
    "    for i in range(tab_num_layers):\n",
    "\n",
    "        num_tab_units = trial.suggest_int(f'Num_tab_{i}', 256, max_tab_units, log = True)    \n",
    "        tab_dense = Dense(num_tab_units, activation=activation_tab, kernel_initializer = tab_init)(tab_dense)\n",
    "        if batch_norm_tab:\n",
    "            tab_dense = layers.BatchNormalization()(tab_dense)\n",
    "        tab_dense = Dropout(drop_tab)(tab_dense)\n",
    "\n",
    "        max_tab_units = min(max_tab_units, num_tab_units)\n",
    "\n",
    "\n",
    "    concatenated = Concatenate()([img_dense, tab_dense])\n",
    "    com_num_layers = trial.suggest_int('Concat layers', 1, 2)\n",
    "    max_com_units = 3000\n",
    "    con_init = trial.suggest_categorical(f'Con_init', choices = ['glorot_uniform', 'he_normal', 'he_uniform', 'lecun_normal', 'lecun_uniform', 'random_normal', 'random_uniform'])\n",
    "    activation_common = trial.suggest_categorical(f'Act_con',  choices = ['relu', 'tanh', 'selu', 'LeakyReLU', 'swish', 'elu'])\n",
    "    drop_common = trial.suggest_float(f'Drop_con', 0.2, 0.7, step = 0.1)\n",
    "    batch_norm_common = trial.suggest_categorical(f'Com_BatchN', [True, False])\n",
    "    for i in range(com_num_layers):\n",
    "        \n",
    "        num_common_units = trial.suggest_int(f'Num_con_{i}', 256, max_com_units, log = True)\n",
    "        concatenated = Dense(num_common_units, activation=activation_common, kernel_initializer = con_init)(concatenated)\n",
    "        if batch_norm_common:\n",
    "            concatenated = layers.BatchNormalization()(concatenated)\n",
    "        concatenated = Dropout(drop_common)(concatenated)\n",
    "\n",
    "        max_com_units = min(max_com_units, num_common_units)\n",
    "\n",
    "    output = Dense(6, activation='linear')(concatenated)  \n",
    "    model = Model(inputs=[image_features_input, tabular_data_input], outputs=output)\n",
    "    \n",
    "    \n",
    "    optimizer_options = ['adam', 'rmsprop', 'Nadam', 'adamax', 'Adagrad', 'Adadelta']\n",
    "    optimizer_selected = trial.suggest_categorical('optimizer', optimizer_options)\n",
    "    \n",
    "    if optimizer_selected == 'adam':\n",
    "        optimizer = optimizers.Adam()\n",
    "    elif optimizer_selected == 'rmsprop':\n",
    "        optimizer = optimizers.RMSprop()\n",
    "    elif optimizer_selected == 'Nadam':\n",
    "        optimizer = optimizers.Nadam()\n",
    "    elif optimizer_selected == 'Adagrad':\n",
    "        optimizer = optimizers.Adagrad()\n",
    "    elif optimizer_selected == 'Adadelta':\n",
    "        optimizer = optimizers.Adadelta()\n",
    "    else:\n",
    "        optimizer = optimizers.Adamax()\n",
    "\n",
    "    delta = trial.suggest_float('delta', 0.0, 2.5, step=0.1)\n",
    "    global current_delta\n",
    "    current_delta = delta\n",
    "  \n",
    "    model.compile(optimizer=optimizer, loss=huber_loss_wrapper(delta), metrics=['mse','mae', r2_score])\n",
    "    # model.compile(optimizer=optimizers.RMSprop(), loss='mse', metrics=['mse','mae', r2_score])\n",
    "    return model\n",
    "\n",
    "\n",
    "\n",
    "def objective(trial):\n",
    "\n",
    "    model = create_model(trial)\n",
    "\n",
    "    model_checkpoint_callback = tf.keras.callbacks.ModelCheckpoint(\n",
    "            filepath=f\"./data/{study_name}_search_model.h5\",            \n",
    "            monitor='val_r2_score',\n",
    "            mode='max',\n",
    "            save_best_only=True,\n",
    "            save_weights_only=True,\n",
    "            verbose=0)\n",
    "\n",
    "\n",
    "    callbacks = [\n",
    "                 ReduceLROnPlateau('val_r2_score', patience=3, factor=0.7, mode = 'max'), \n",
    "                 TerminateOnNaN(),\n",
    "                #  TFKerasPruningCallback(trial, 'val_r2_score'),\n",
    "                 model_checkpoint_callback,\n",
    "                 EarlyStopping(monitor='val_r2_score', patience=5, mode='max', verbose = 1)\n",
    "                 ]\n",
    "\n",
    "\n",
    "    history = model.fit([X_train_feat, X_train_tab], y_train, validation_data=([X_valid_feat, X_valid_tab], y_valid), batch_size=512, epochs=50, callbacks=callbacks, verbose = 0)\n",
    "\n",
    "    best_epoch = history.history['val_r2_score'].index(max(history.history['val_r2_score'])) + 1\n",
    "\n",
    "    model.load_weights(f'./data/{study_name}_search_model.h5')\n",
    "\n",
    "    preds = model.predict([X_valid_feat, X_valid_tab], verbose = 0)    \n",
    "    preds_2 = np.power(10, preds)\n",
    "\n",
    "    y_valid_2 = np.power(10, y_valid)\n",
    "    r2_score_inv = r2_score(y_valid_2, preds_2)\n",
    "\n",
    "    if trial.number > 0:\n",
    "        if r2_score_inv > study.best_value:\n",
    "\n",
    "            print(\"*\" * 50)\n",
    "            print(f'Old best R2 : {study.best_value:.5f}')\n",
    "            print(f'New best R2 : {r2_score_inv:.5f}')\n",
    "            \n",
    "            preds = model.predict([X_valid_feat, X_valid_tab])\n",
    "            preds_2 = np.power(10, preds)            \n",
    "            y_valid_2 = np.power(10, y_valid)\n",
    "\n",
    "            r2 = r2_score(y_valid_2, preds_2)\n",
    "            mse  = tf.keras.losses.MeanSquaredError()(y_valid_2, preds_2)\n",
    "            mae = tf.keras.losses.MeanAbsoluteError()(y_valid_2, preds_2)\n",
    "            # huberloss = tf.keras.losses.Huber(delta=current_delta)(y_valid_2, preds_2)\n",
    "            # print(f'Last epoch Squared errors R2 : {r2:.5f}, MSE : {mse:.5f}, MAE : {mae:.5f}, huber_loss : {huberloss:.5f}')\n",
    "            print(f'Best epoch power errors R2 : {r2:.5f}, MSE : {mse:.5f}, MAE : {mae:.5f}')\n",
    "            \n",
    "            # model.load_weights(f'./data/{study_name}_search_model.h5')\n",
    "            \n",
    "            # preds = model.predict([X_valid_feat, X_valid_tab])\n",
    "            # preds_2 = np.square(preds)\n",
    "            # y_valid_2 = np.square(y_valid)\n",
    "            \n",
    "            r2 = r2_score(y_valid, preds)\n",
    "            mse  = tf.keras.losses.MeanSquaredError()(y_valid, preds)\n",
    "            mae = tf.keras.losses.MeanAbsoluteError()(y_valid, preds)\n",
    "            # huberloss = tf.keras.losses.Huber(delta=current_delta)(y_valid_2, preds_2)\n",
    "            print(f'Best epoch raw R2 : {r2:.5f}, MSE : {mse:.5f}, MAE : {mae:.5f}')\n",
    "            # print(f'Best epoch raw R2 : {r2:.5f}, MSE : {mse:.5f}, MAE : {mae:.5f}, huber_loss : {huberloss:.5f}')\n",
    "\n",
    "            # preds_inv = scaler_minmax.inverse_transform(preds)\n",
    "            # y_valid_inv = scaler_minmax.inverse_transform(y_valid)\n",
    "            # r2 = r2_score(y_valid_inv, preds_inv)\n",
    "            # mse  = tf.keras.losses.MeanSquaredError()(y_valid_inv, preds_inv)\n",
    "            # mae = tf.keras.losses.MeanAbsoluteError()(y_valid_inv, preds_inv)\n",
    "            # huberloss = tf.keras.losses.Huber(delta=current_delta)(y_valid_2, preds_2)\n",
    "            # print(f'Best epoch minmax.inv R2 : {r2:.5f}, MSE : {mse:.5f}, MAE : {mae:.5f}')\n",
    "            # print(f'Best epoch raw R2 : {r2:.5f}, MSE : {mse:.5f}, MAE : {mae:.5f}, huber_loss : {huberloss:.5f}')\n",
    "\n",
    "            # preds = model.predict([X_valid_feat, X_valid_tab])\n",
    "            # r2 = r2_score(y_valid, preds)\n",
    "            # mse  = tf.keras.losses.MeanSquaredError()(y_valid, preds)\n",
    "            # mae = tf.keras.losses.MeanAbsoluteError()(y_valid, preds)\n",
    "            # huberloss = tf.keras.losses.Huber(delta=current_delta)(y_valid, preds)\n",
    "            # print(f'Best epoch raw R2 : {r2:.5f}, MSE : {mse:.5f}, MAE : {mae:.5f}, huber_loss : {huberloss:.5f}')\n",
    "            print(f'Best epoch : {best_epoch}')\n",
    "\n",
    "            best_filename = f'./data/{study_name}_best_val_{r2_score_inv:.5f}_model.h5'\n",
    "            if os.path.exists(best_filename):\n",
    "                os.remove(best_filename)\n",
    "\n",
    "            print(f'Saving model to {best_filename}')    \n",
    "            model.save(best_filename)\n",
    "            print(\"*\" * 50)\n",
    "\n",
    "    if os.path.exists(f'./data/{study_name}_search_model.h5'):\n",
    "        os.remove(f'./data/{study_name}_search_model.h5')\n",
    "\n",
    "    tf.keras.backend.clear_session()\n",
    "    gc.collect()\n",
    "            \n",
    "    return r2_score_inv\n",
    "\n",
    "\n",
    "study_name = '408_power_huber_fold_3'\n",
    "num_random_trials = 20\n",
    "num_tpe_trial = 0\n",
    "search_time_max = 3600 * 18\n",
    "\n",
    "study = optuna.create_study(direction='maximize',                            \n",
    "                            study_name=study_name,\n",
    "                            storage=f'sqlite:///408_power10_huber.db',\n",
    "                            load_if_exists=True\n",
    "                            # pruner=optuna.pruners.MedianPruner(n_startup_trials=10, n_warmup_steps=15, interval_steps=5)\n",
    "                            )\n",
    "\n",
    "search_time_taken = 0\n",
    "search_start = time.time()\n",
    "round = 0\n",
    "\n",
    "while search_time_taken < search_time_max:\n",
    "\n",
    "    round_start = time.time()\n",
    "\n",
    "    print(f'Starting study with {num_random_trials} random trials, round {round}')\n",
    "    print(f'Search time so far taken : {timedelta(seconds=search_time_taken)}')\n",
    "    print('-' * 50)\n",
    "    study.sampler = optuna.samplers.QMCSampler(warn_independent_sampling = False) \n",
    "    study.optimize(objective, n_trials=num_random_trials)\n",
    "    print(f'Time taken for random trials: {timedelta(seconds= (time.time() - round_start))}')\n",
    "    print(f'Starting TPE {num_tpe_trial} trials...')    \n",
    "    study.sampler = optuna.samplers.TPESampler(n_startup_trials=0, multivariate=True, warn_independent_sampling = False)\n",
    "    study.optimize(objective, n_trials=num_tpe_trial)\n",
    "    print(f'Time taken for one trial: {timedelta(seconds= (time.time() - round_start) / (num_random_trials + num_tpe_trial))}')    \n",
    "    print(f'Time this round: {timedelta(seconds= time.time() - round_start)}')\n",
    "    \n",
    "    search_time_taken = time.time() - search_start\n",
    "    round += 1\n",
    "\n",
    "print(f'Search time total : {timedelta(seconds=time.time() - search_start)}')\n",
    "\n",
    "\n"
   ]
  },
  {
   "cell_type": "code",
   "execution_count": null,
   "metadata": {},
   "outputs": [],
   "source": [
    "print(test_df.columns)\n",
    "print(FEATURE_COLS)\n",
    "print(len(FEATURE_COLS))\n",
    "\n",
    "print(train_df.columns)\n",
    "print(train_df.shape)"
   ]
  },
  {
   "cell_type": "code",
   "execution_count": null,
   "metadata": {},
   "outputs": [],
   "source": [
    "\n",
    "def r2_score(y_true, y_pred):\n",
    "    ss_res = tf.reduce_sum(tf.square(y_true - y_pred), axis=0)\n",
    "    ss_tot = tf.reduce_sum(tf.square(y_true - tf.reduce_mean(y_true, axis=0)), axis=0)\n",
    "    r2 = 1 - ss_res/(ss_tot + tf.keras.backend.epsilon())\n",
    "    r2 = tf.where(tf.math.is_nan(r2), tf.zeros_like(r2), r2)  # Korvaa NaN-arvot nollilla\n",
    "    return tf.reduce_mean(tf.maximum(r2, 0.0)) \n",
    "\n",
    "def huber_loss_wrapper(delta):\n",
    "    def huber_loss(y_true, y_pred):\n",
    "        return tf.keras.losses.Huber(delta=delta)(y_true, y_pred)\n",
    "    return huber_loss\n",
    "\n",
    "\n",
    "\n",
    "\n",
    "custom_objects = {\"r2_score\": r2_score, \"huber_loss\": huber_loss_wrapper(1.5)}\n",
    "\n",
    "\n",
    "with open('./data/scaler_tabufeatures_train.pickle', 'rb') as f:\n",
    "    scaler = pickle.load(f)\n",
    "\n",
    "with open('./data/scaler_minmax.pickle', 'rb') as f:\n",
    "    scaler_minmax = pickle.load(f)\n",
    "\n",
    "\n",
    "best_model_name = './data/407_kuten_artikkeli_openheimer_rmsprop_r2pruning_fold_3_best_val_0.27421_model.h5'\n",
    "\n",
    "best_model = tf.keras.models.load_model(f'{best_model_name}', custom_objects=custom_objects)\n",
    "\n",
    "test_df[FEATURE_COLS] = scaler.transform(test_df[FEATURE_COLS].values)\n",
    "\n",
    "\n",
    " \n",
    "submission_df = test_df[['id']].copy()\n",
    "\n",
    "X_test_tab = test_df[FEATURE_COLS].values\n",
    "X_test_feat = np.stack(test_df['features'].values) \n",
    "\n",
    "predictions = best_model.predict([X_test_feat, X_test_tab])\n",
    "predictions = np.power(10, predictions)\n",
    "\n",
    "target_columns = ['X4', 'X11', 'X18', 'X50', 'X26', 'X3112']\n",
    "\n",
    "submission_df[target_columns] = predictions\n",
    "\n",
    "print(submission_df.head())\n",
    "print(submission_df.shape)\n",
    "print(submission_df.info())\n",
    "\n",
    "submission_df.to_csv('./data/submission.csv', index=False)\n",
    "submission_df.head()\n",
    "\n",
    "\n",
    "\n",
    "\n"
   ]
  }
 ],
 "metadata": {
  "kernelspec": {
   "display_name": "tf",
   "language": "python",
   "name": "python3"
  },
  "language_info": {
   "codemirror_mode": {
    "name": "ipython",
    "version": 3
   },
   "file_extension": ".py",
   "mimetype": "text/x-python",
   "name": "python",
   "nbconvert_exporter": "python",
   "pygments_lexer": "ipython3",
   "version": "3.9.19"
  }
 },
 "nbformat": 4,
 "nbformat_minor": 2
}
