{
 "cells": [
  {
   "cell_type": "code",
   "execution_count": 17,
   "metadata": {},
   "outputs": [],
   "source": [
    "import pandas as pd \n",
    "import matplotlib.pyplot as plt\n",
    "import os \n",
    "import seaborn as sns\n",
    "from sklearn.model_selection import train_test_split\n",
    "import pickle\n",
    "import tensorflow as tf\n",
    "import numpy as np\n",
    "import gc\n"
   ]
  },
  {
   "cell_type": "code",
   "execution_count": 18,
   "metadata": {},
   "outputs": [],
   "source": [
    "pickle_file_path = './data/test_df.pickle'\n",
    "\n",
    "with open(pickle_file_path, 'rb') as f:\n",
    "    test_df = pickle.load(f)\n",
    "\n",
    "pickle_file_path = './data/train_df.pickle'\n",
    "\n",
    "with open(pickle_file_path, 'rb') as f:\n",
    "    train_df = pickle.load(f)\n",
    "    \n",
    "\n",
    "study_name = '413_testiyo_3'\n"
   ]
  },
  {
   "cell_type": "code",
   "execution_count": 19,
   "metadata": {},
   "outputs": [
    {
     "name": "stdout",
     "output_type": "stream",
     "text": [
      "['WORLDCLIM_BIO1_annual_mean_temperature', 'WORLDCLIM_BIO12_annual_precipitation', 'WORLDCLIM_BIO13.BIO14_delta_precipitation_of_wettest_and_dryest_month', 'WORLDCLIM_BIO15_precipitation_seasonality', 'WORLDCLIM_BIO4_temperature_seasonality', 'WORLDCLIM_BIO7_temperature_annual_range', 'SOIL_bdod_100.200cm_mean_0.01_deg', 'SOIL_bdod_15.30cm_mean_0.01_deg', 'SOIL_bdod_30.60cm_mean_0.01_deg', 'SOIL_bdod_60.100cm_mean_0.01_deg', 'SOIL_phh2o_0.5cm_mean_0.01_deg', 'SOIL_phh2o_100.200cm_mean_0.01_deg', 'SOIL_phh2o_15.30cm_mean_0.01_deg', 'SOIL_phh2o_30.60cm_mean_0.01_deg', 'SOIL_phh2o_5.15cm_mean_0.01_deg', 'SOIL_phh2o_60.100cm_mean_0.01_deg', 'MODIS_2000.2020_monthly_mean_surface_reflectance_band_01_._month_m1', 'MODIS_2000.2020_monthly_mean_surface_reflectance_band_03_._month_m1', 'MODIS_2000.2020_monthly_mean_surface_reflectance_band_04_._month_m1', 'MODIS_2000.2020_monthly_mean_surface_reflectance_band_01_._month_m12', 'MODIS_2000.2020_monthly_mean_surface_reflectance_band_03_._month_m12', 'MODIS_2000.2020_monthly_mean_surface_reflectance_band_01_._month_m2', 'MODIS_2000.2020_monthly_mean_surface_reflectance_band_03_._month_m2', 'MODIS_2000.2020_monthly_mean_surface_reflectance_band_04_._month_m2', 'MODIS_2000.2020_monthly_mean_surface_reflectance_band_01_._month_m3', 'MODIS_2000.2020_monthly_mean_surface_reflectance_band_03_._month_m3', 'MODIS_2000.2020_monthly_mean_surface_reflectance_band_04_._month_m3', 'VOD_C_2002_2018_multiyear_mean_m01', 'VOD_C_2002_2018_multiyear_mean_m02', 'VOD_C_2002_2018_multiyear_mean_m03', 'VOD_C_2002_2018_multiyear_mean_m04', 'VOD_C_2002_2018_multiyear_mean_m05', 'VOD_C_2002_2018_multiyear_mean_m06', 'VOD_C_2002_2018_multiyear_mean_m07', 'VOD_C_2002_2018_multiyear_mean_m08', 'VOD_C_2002_2018_multiyear_mean_m09', 'VOD_C_2002_2018_multiyear_mean_m10', 'VOD_C_2002_2018_multiyear_mean_m11', 'VOD_C_2002_2018_multiyear_mean_m12', 'VOD_Ku_1987_2017_multiyear_mean_m01', 'VOD_Ku_1987_2017_multiyear_mean_m02', 'VOD_Ku_1987_2017_multiyear_mean_m03', 'VOD_Ku_1987_2017_multiyear_mean_m04', 'VOD_Ku_1987_2017_multiyear_mean_m05', 'VOD_Ku_1987_2017_multiyear_mean_m06', 'VOD_Ku_1987_2017_multiyear_mean_m07', 'VOD_Ku_1987_2017_multiyear_mean_m08', 'VOD_Ku_1987_2017_multiyear_mean_m09', 'VOD_Ku_1987_2017_multiyear_mean_m10', 'VOD_Ku_1987_2017_multiyear_mean_m11', 'VOD_Ku_1987_2017_multiyear_mean_m12', 'VOD_X_1997_2018_multiyear_mean_m01', 'VOD_X_1997_2018_multiyear_mean_m02', 'VOD_X_1997_2018_multiyear_mean_m03', 'VOD_X_1997_2018_multiyear_mean_m04', 'VOD_X_1997_2018_multiyear_mean_m05', 'VOD_X_1997_2018_multiyear_mean_m06', 'VOD_X_1997_2018_multiyear_mean_m07', 'VOD_X_1997_2018_multiyear_mean_m08', 'VOD_X_1997_2018_multiyear_mean_m09', 'VOD_X_1997_2018_multiyear_mean_m10', 'VOD_X_1997_2018_multiyear_mean_m11', 'VOD_X_1997_2018_multiyear_mean_m12', 'SOIL_nitrogen_0.5cm_mean_0.01_deg', 'MODIS_2000.2020_monthly_mean_surface_reflectance_band_02_._month_m2', 'MODIS_2000.2020_monthly_mean_surface_reflectance_band_01_._month_m4', 'SOIL_bdod_5.15cm_mean_0.01_deg', 'MODIS_2000.2020_monthly_mean_surface_reflectance_band_03_._month_m11', 'MODIS_2000.2020_monthly_mean_surface_reflectance_band_02_._month_m12', 'MODIS_2000.2020_monthly_mean_surface_reflectance_band_04_._month_m12', 'MODIS_2000.2020_monthly_mean_surface_reflectance_band_04_._month_m4', 'SOIL_sand_0.5cm_mean_0.01_deg', 'SOIL_sand_5.15cm_mean_0.01_deg', 'SOIL_silt_0.5cm_mean_0.01_deg', 'SOIL_silt_15.30cm_mean_0.01_deg', 'SOIL_silt_30.60cm_mean_0.01_deg', 'SOIL_silt_5.15cm_mean_0.01_deg', 'SOIL_soc_0.5cm_mean_0.01_deg', 'MODIS_2000.2020_monthly_mean_surface_reflectance_band_02_._month_m1', 'MODIS_2000.2020_monthly_mean_surface_reflectance_band_01_._month_m11', 'MODIS_2000.2020_monthly_mean_surface_reflectance_band_02_._month_m3']\n"
     ]
    }
   ],
   "source": [
    "\n",
    "\n",
    "\n",
    "mean_columns = ['X4_mean', 'X11_mean', 'X18_mean', 'X50_mean', 'X26_mean', 'X3112_mean']\n",
    "\n",
    "\n",
    "selected_features_pickle_path = './data/selected_features_list.pickle'\n",
    "with open(selected_features_pickle_path, 'rb') as f:\n",
    "    FEATURE_COLS = pickle.load(f)\n",
    "\n",
    "print(FEATURE_COLS)\n",
    "\n"
   ]
  },
  {
   "cell_type": "code",
   "execution_count": 20,
   "metadata": {},
   "outputs": [],
   "source": [
    "def plot_data(df, columns_names):\n",
    "    plt.figure(figsize=(15, 3))\n",
    "\n",
    "    # Setting up a grid of plots with 2 columns\n",
    "    n_cols = 6\n",
    "    n_rows = len(columns_names) // n_cols + (len(columns_names) % n_cols > 0)\n",
    "\n",
    "    for i, col in enumerate(columns_names):\n",
    "        plt.subplot(n_rows, n_cols, i+1)\n",
    "        sns.kdeplot(df[col], bw_adjust=0.5, fill=False, color='blue')\n",
    "        plt.title(f'Distribution of {col}')\n",
    "        plt.xlabel('Value')\n",
    "        plt.ylabel('Density')\n",
    "\n",
    "    plt.tight_layout()\n",
    "    plt.show()\n",
    "    \n"
   ]
  },
  {
   "cell_type": "code",
   "execution_count": 21,
   "metadata": {},
   "outputs": [],
   "source": [
    "pd.set_option('display.max_rows', None)\n",
    "pd.set_option('display.max_columns', None)"
   ]
  },
  {
   "cell_type": "code",
   "execution_count": 22,
   "metadata": {},
   "outputs": [
    {
     "data": {
      "text/html": [
       "<div>\n",
       "<style scoped>\n",
       "    .dataframe tbody tr th:only-of-type {\n",
       "        vertical-align: middle;\n",
       "    }\n",
       "\n",
       "    .dataframe tbody tr th {\n",
       "        vertical-align: top;\n",
       "    }\n",
       "\n",
       "    .dataframe thead th {\n",
       "        text-align: right;\n",
       "    }\n",
       "</style>\n",
       "<table border=\"1\" class=\"dataframe\">\n",
       "  <thead>\n",
       "    <tr style=\"text-align: right;\">\n",
       "      <th></th>\n",
       "      <th>X4_mean</th>\n",
       "      <th>X11_mean</th>\n",
       "      <th>X18_mean</th>\n",
       "      <th>X50_mean</th>\n",
       "      <th>X26_mean</th>\n",
       "      <th>X3112_mean</th>\n",
       "    </tr>\n",
       "  </thead>\n",
       "  <tbody>\n",
       "    <tr>\n",
       "      <th>count</th>\n",
       "      <td>49168.000000</td>\n",
       "      <td>49168.000000</td>\n",
       "      <td>49168.000000</td>\n",
       "      <td>49168.000000</td>\n",
       "      <td>49168.000000</td>\n",
       "      <td>49168.000000</td>\n",
       "    </tr>\n",
       "    <tr>\n",
       "      <th>mean</th>\n",
       "      <td>0.516058</td>\n",
       "      <td>15.752458</td>\n",
       "      <td>2.772597</td>\n",
       "      <td>1.592122</td>\n",
       "      <td>24.176388</td>\n",
       "      <td>1598.763010</td>\n",
       "    </tr>\n",
       "    <tr>\n",
       "      <th>std</th>\n",
       "      <td>0.138489</td>\n",
       "      <td>6.961194</td>\n",
       "      <td>4.549765</td>\n",
       "      <td>0.588147</td>\n",
       "      <td>72.898061</td>\n",
       "      <td>2271.015359</td>\n",
       "    </tr>\n",
       "    <tr>\n",
       "      <th>min</th>\n",
       "      <td>0.181879</td>\n",
       "      <td>2.836897</td>\n",
       "      <td>0.033326</td>\n",
       "      <td>0.510491</td>\n",
       "      <td>0.005874</td>\n",
       "      <td>10.527904</td>\n",
       "    </tr>\n",
       "    <tr>\n",
       "      <th>25%</th>\n",
       "      <td>0.408995</td>\n",
       "      <td>11.060960</td>\n",
       "      <td>0.306775</td>\n",
       "      <td>1.185120</td>\n",
       "      <td>0.544728</td>\n",
       "      <td>263.122005</td>\n",
       "    </tr>\n",
       "    <tr>\n",
       "      <th>50%</th>\n",
       "      <td>0.502897</td>\n",
       "      <td>15.296873</td>\n",
       "      <td>0.676143</td>\n",
       "      <td>1.471036</td>\n",
       "      <td>2.289064</td>\n",
       "      <td>694.205681</td>\n",
       "    </tr>\n",
       "    <tr>\n",
       "      <th>75%</th>\n",
       "      <td>0.616053</td>\n",
       "      <td>19.505972</td>\n",
       "      <td>2.962085</td>\n",
       "      <td>1.886668</td>\n",
       "      <td>12.249738</td>\n",
       "      <td>1964.239682</td>\n",
       "    </tr>\n",
       "    <tr>\n",
       "      <th>max</th>\n",
       "      <td>0.883987</td>\n",
       "      <td>43.206557</td>\n",
       "      <td>24.975647</td>\n",
       "      <td>3.677128</td>\n",
       "      <td>785.944393</td>\n",
       "      <td>15639.231100</td>\n",
       "    </tr>\n",
       "  </tbody>\n",
       "</table>\n",
       "</div>"
      ],
      "text/plain": [
       "            X4_mean      X11_mean      X18_mean      X50_mean      X26_mean  \\\n",
       "count  49168.000000  49168.000000  49168.000000  49168.000000  49168.000000   \n",
       "mean       0.516058     15.752458      2.772597      1.592122     24.176388   \n",
       "std        0.138489      6.961194      4.549765      0.588147     72.898061   \n",
       "min        0.181879      2.836897      0.033326      0.510491      0.005874   \n",
       "25%        0.408995     11.060960      0.306775      1.185120      0.544728   \n",
       "50%        0.502897     15.296873      0.676143      1.471036      2.289064   \n",
       "75%        0.616053     19.505972      2.962085      1.886668     12.249738   \n",
       "max        0.883987     43.206557     24.975647      3.677128    785.944393   \n",
       "\n",
       "         X3112_mean  \n",
       "count  49168.000000  \n",
       "mean    1598.763010  \n",
       "std     2271.015359  \n",
       "min       10.527904  \n",
       "25%      263.122005  \n",
       "50%      694.205681  \n",
       "75%     1964.239682  \n",
       "max    15639.231100  "
      ]
     },
     "execution_count": 22,
     "metadata": {},
     "output_type": "execute_result"
    }
   ],
   "source": [
    "train_df[mean_columns].describe()"
   ]
  },
  {
   "cell_type": "code",
   "execution_count": 23,
   "metadata": {},
   "outputs": [
    {
     "data": {
      "image/png": "[encoded data removed]",
      "text/plain": [
       "<Figure size 1500x300 with 6 Axes>"
      ]
     },
     "metadata": {},
     "output_type": "display_data"
    }
   ],
   "source": [
    "plot_data(train_df, mean_columns)"
   ]
  },
  {
   "cell_type": "code",
   "execution_count": 24,
   "metadata": {},
   "outputs": [],
   "source": [
    "train_df[FEATURE_COLS].describe()\n",
    "train_df_original = train_df.copy()"
   ]
  },
  {
   "cell_type": "code",
   "execution_count": 25,
   "metadata": {},
   "outputs": [
    {
     "name": "stdout",
     "output_type": "stream",
     "text": [
      "fold\n",
      "0.0    9834\n",
      "2.0    9834\n",
      "1.0    9834\n",
      "4.0    9833\n",
      "3.0    9833\n",
      "Name: count, dtype: int64\n",
      "# Num Train: 39335 | Num Valid: 9833\n",
      "Saving scaler to ./NN_search/scaler_tabufeatures_413_testiyo_3_train.pickle\n"
     ]
    },
    {
     "name": "stderr",
     "output_type": "stream",
     "text": [
      "/tmp/ipykernel_9111/540637523.py:14: SettingWithCopyWarning: \n",
      "A value is trying to be set on a copy of a slice from a DataFrame.\n",
      "Try using .loc[row_indexer,col_indexer] = value instead\n",
      "\n",
      "See the caveats in the documentation: https://pandas.pydata.org/pandas-docs/stable/user_guide/indexing.html#returning-a-view-versus-a-copy\n",
      "  train_df[FEATURE_COLS] = scaler.fit_transform(train_df[FEATURE_COLS].values)\n",
      "/tmp/ipykernel_9111/540637523.py:15: SettingWithCopyWarning: \n",
      "A value is trying to be set on a copy of a slice from a DataFrame.\n",
      "Try using .loc[row_indexer,col_indexer] = value instead\n",
      "\n",
      "See the caveats in the documentation: https://pandas.pydata.org/pandas-docs/stable/user_guide/indexing.html#returning-a-view-versus-a-copy\n",
      "  valid_df[FEATURE_COLS] = scaler.transform(valid_df[FEATURE_COLS].values)\n"
     ]
    }
   ],
   "source": [
    "from sklearn.preprocessing import StandardScaler, RobustScaler\n",
    "\n",
    "print(train_df['fold'].value_counts())\n",
    "\n",
    "# scaler = StandardScaler() # TODO testaa robustscaler\n",
    "scaler = RobustScaler()\n",
    "\n",
    "sample_df = train_df.copy()\n",
    "train_df = sample_df[sample_df.fold != 3]\n",
    "valid_df = sample_df[sample_df.fold == 3]\n",
    "print(f\"# Num Train: {len(train_df)} | Num Valid: {len(valid_df)}\")\n",
    "\n",
    "\n",
    "train_df[FEATURE_COLS] = scaler.fit_transform(train_df[FEATURE_COLS].values)\n",
    "valid_df[FEATURE_COLS] = scaler.transform(valid_df[FEATURE_COLS].values)\n",
    "\n",
    "scaler_tabufeatures_name = f'./NN_search/scaler_tabufeatures_{study_name}_train.pickle'\n",
    "print(f\"Saving scaler to {scaler_tabufeatures_name}\")\n",
    "with open(f'{scaler_tabufeatures_name}', 'wb') as f:\n",
    "    pickle.dump(scaler, f)\n",
    "\n",
    "\n"
   ]
  },
  {
   "cell_type": "code",
   "execution_count": 26,
   "metadata": {},
   "outputs": [
    {
     "data": {
      "text/html": [
       "<div>\n",
       "<style scoped>\n",
       "    .dataframe tbody tr th:only-of-type {\n",
       "        vertical-align: middle;\n",
       "    }\n",
       "\n",
       "    .dataframe tbody tr th {\n",
       "        vertical-align: top;\n",
       "    }\n",
       "\n",
       "    .dataframe thead th {\n",
       "        text-align: right;\n",
       "    }\n",
       "</style>\n",
       "<table border=\"1\" class=\"dataframe\">\n",
       "  <thead>\n",
       "    <tr style=\"text-align: right;\">\n",
       "      <th></th>\n",
       "      <th>WORLDCLIM_BIO1_annual_mean_temperature</th>\n",
       "      <th>WORLDCLIM_BIO12_annual_precipitation</th>\n",
       "      <th>WORLDCLIM_BIO13.BIO14_delta_precipitation_of_wettest_and_dryest_month</th>\n",
       "      <th>WORLDCLIM_BIO15_precipitation_seasonality</th>\n",
       "      <th>WORLDCLIM_BIO4_temperature_seasonality</th>\n",
       "      <th>WORLDCLIM_BIO7_temperature_annual_range</th>\n",
       "      <th>SOIL_bdod_100.200cm_mean_0.01_deg</th>\n",
       "      <th>SOIL_bdod_15.30cm_mean_0.01_deg</th>\n",
       "      <th>SOIL_bdod_30.60cm_mean_0.01_deg</th>\n",
       "      <th>SOIL_bdod_60.100cm_mean_0.01_deg</th>\n",
       "      <th>SOIL_phh2o_0.5cm_mean_0.01_deg</th>\n",
       "      <th>SOIL_phh2o_100.200cm_mean_0.01_deg</th>\n",
       "      <th>SOIL_phh2o_15.30cm_mean_0.01_deg</th>\n",
       "      <th>SOIL_phh2o_30.60cm_mean_0.01_deg</th>\n",
       "      <th>SOIL_phh2o_5.15cm_mean_0.01_deg</th>\n",
       "      <th>SOIL_phh2o_60.100cm_mean_0.01_deg</th>\n",
       "      <th>MODIS_2000.2020_monthly_mean_surface_reflectance_band_01_._month_m1</th>\n",
       "      <th>MODIS_2000.2020_monthly_mean_surface_reflectance_band_03_._month_m1</th>\n",
       "      <th>MODIS_2000.2020_monthly_mean_surface_reflectance_band_04_._month_m1</th>\n",
       "      <th>MODIS_2000.2020_monthly_mean_surface_reflectance_band_01_._month_m12</th>\n",
       "      <th>MODIS_2000.2020_monthly_mean_surface_reflectance_band_03_._month_m12</th>\n",
       "      <th>MODIS_2000.2020_monthly_mean_surface_reflectance_band_01_._month_m2</th>\n",
       "      <th>MODIS_2000.2020_monthly_mean_surface_reflectance_band_03_._month_m2</th>\n",
       "      <th>MODIS_2000.2020_monthly_mean_surface_reflectance_band_04_._month_m2</th>\n",
       "      <th>MODIS_2000.2020_monthly_mean_surface_reflectance_band_01_._month_m3</th>\n",
       "      <th>MODIS_2000.2020_monthly_mean_surface_reflectance_band_03_._month_m3</th>\n",
       "      <th>MODIS_2000.2020_monthly_mean_surface_reflectance_band_04_._month_m3</th>\n",
       "      <th>VOD_C_2002_2018_multiyear_mean_m01</th>\n",
       "      <th>VOD_C_2002_2018_multiyear_mean_m02</th>\n",
       "      <th>VOD_C_2002_2018_multiyear_mean_m03</th>\n",
       "      <th>VOD_C_2002_2018_multiyear_mean_m04</th>\n",
       "      <th>VOD_C_2002_2018_multiyear_mean_m05</th>\n",
       "      <th>VOD_C_2002_2018_multiyear_mean_m06</th>\n",
       "      <th>VOD_C_2002_2018_multiyear_mean_m07</th>\n",
       "      <th>VOD_C_2002_2018_multiyear_mean_m08</th>\n",
       "      <th>VOD_C_2002_2018_multiyear_mean_m09</th>\n",
       "      <th>VOD_C_2002_2018_multiyear_mean_m10</th>\n",
       "      <th>VOD_C_2002_2018_multiyear_mean_m11</th>\n",
       "      <th>VOD_C_2002_2018_multiyear_mean_m12</th>\n",
       "      <th>VOD_Ku_1987_2017_multiyear_mean_m01</th>\n",
       "      <th>VOD_Ku_1987_2017_multiyear_mean_m02</th>\n",
       "      <th>VOD_Ku_1987_2017_multiyear_mean_m03</th>\n",
       "      <th>VOD_Ku_1987_2017_multiyear_mean_m04</th>\n",
       "      <th>VOD_Ku_1987_2017_multiyear_mean_m05</th>\n",
       "      <th>VOD_Ku_1987_2017_multiyear_mean_m06</th>\n",
       "      <th>VOD_Ku_1987_2017_multiyear_mean_m07</th>\n",
       "      <th>VOD_Ku_1987_2017_multiyear_mean_m08</th>\n",
       "      <th>VOD_Ku_1987_2017_multiyear_mean_m09</th>\n",
       "      <th>VOD_Ku_1987_2017_multiyear_mean_m10</th>\n",
       "      <th>VOD_Ku_1987_2017_multiyear_mean_m11</th>\n",
       "      <th>VOD_Ku_1987_2017_multiyear_mean_m12</th>\n",
       "      <th>VOD_X_1997_2018_multiyear_mean_m01</th>\n",
       "      <th>VOD_X_1997_2018_multiyear_mean_m02</th>\n",
       "      <th>VOD_X_1997_2018_multiyear_mean_m03</th>\n",
       "      <th>VOD_X_1997_2018_multiyear_mean_m04</th>\n",
       "      <th>VOD_X_1997_2018_multiyear_mean_m05</th>\n",
       "      <th>VOD_X_1997_2018_multiyear_mean_m06</th>\n",
       "      <th>VOD_X_1997_2018_multiyear_mean_m07</th>\n",
       "      <th>VOD_X_1997_2018_multiyear_mean_m08</th>\n",
       "      <th>VOD_X_1997_2018_multiyear_mean_m09</th>\n",
       "      <th>VOD_X_1997_2018_multiyear_mean_m10</th>\n",
       "      <th>VOD_X_1997_2018_multiyear_mean_m11</th>\n",
       "      <th>VOD_X_1997_2018_multiyear_mean_m12</th>\n",
       "      <th>SOIL_nitrogen_0.5cm_mean_0.01_deg</th>\n",
       "      <th>MODIS_2000.2020_monthly_mean_surface_reflectance_band_02_._month_m2</th>\n",
       "      <th>MODIS_2000.2020_monthly_mean_surface_reflectance_band_01_._month_m4</th>\n",
       "      <th>SOIL_bdod_5.15cm_mean_0.01_deg</th>\n",
       "      <th>MODIS_2000.2020_monthly_mean_surface_reflectance_band_03_._month_m11</th>\n",
       "      <th>MODIS_2000.2020_monthly_mean_surface_reflectance_band_02_._month_m12</th>\n",
       "      <th>MODIS_2000.2020_monthly_mean_surface_reflectance_band_04_._month_m12</th>\n",
       "      <th>MODIS_2000.2020_monthly_mean_surface_reflectance_band_04_._month_m4</th>\n",
       "      <th>SOIL_sand_0.5cm_mean_0.01_deg</th>\n",
       "      <th>SOIL_sand_5.15cm_mean_0.01_deg</th>\n",
       "      <th>SOIL_silt_0.5cm_mean_0.01_deg</th>\n",
       "      <th>SOIL_silt_15.30cm_mean_0.01_deg</th>\n",
       "      <th>SOIL_silt_30.60cm_mean_0.01_deg</th>\n",
       "      <th>SOIL_silt_5.15cm_mean_0.01_deg</th>\n",
       "      <th>SOIL_soc_0.5cm_mean_0.01_deg</th>\n",
       "      <th>MODIS_2000.2020_monthly_mean_surface_reflectance_band_02_._month_m1</th>\n",
       "      <th>MODIS_2000.2020_monthly_mean_surface_reflectance_band_01_._month_m11</th>\n",
       "      <th>MODIS_2000.2020_monthly_mean_surface_reflectance_band_02_._month_m3</th>\n",
       "    </tr>\n",
       "  </thead>\n",
       "  <tbody>\n",
       "    <tr>\n",
       "      <th>count</th>\n",
       "      <td>39335.000000</td>\n",
       "      <td>39335.000000</td>\n",
       "      <td>39335.000000</td>\n",
       "      <td>39335.000000</td>\n",
       "      <td>39335.000000</td>\n",
       "      <td>39335.000000</td>\n",
       "      <td>39335.000000</td>\n",
       "      <td>39335.000000</td>\n",
       "      <td>39335.000000</td>\n",
       "      <td>39335.000000</td>\n",
       "      <td>39335.000000</td>\n",
       "      <td>39335.000000</td>\n",
       "      <td>39335.000000</td>\n",
       "      <td>39335.000000</td>\n",
       "      <td>39335.000000</td>\n",
       "      <td>39335.000000</td>\n",
       "      <td>39335.000000</td>\n",
       "      <td>39335.000000</td>\n",
       "      <td>39335.000000</td>\n",
       "      <td>39335.000000</td>\n",
       "      <td>39335.000000</td>\n",
       "      <td>39335.000000</td>\n",
       "      <td>39335.000000</td>\n",
       "      <td>39335.000000</td>\n",
       "      <td>39335.000000</td>\n",
       "      <td>39335.000000</td>\n",
       "      <td>39335.000000</td>\n",
       "      <td>39335.000000</td>\n",
       "      <td>39335.000000</td>\n",
       "      <td>39335.000000</td>\n",
       "      <td>39335.000000</td>\n",
       "      <td>39335.000000</td>\n",
       "      <td>39335.000000</td>\n",
       "      <td>39335.000000</td>\n",
       "      <td>39335.000000</td>\n",
       "      <td>39335.000000</td>\n",
       "      <td>39335.000000</td>\n",
       "      <td>39335.000000</td>\n",
       "      <td>39335.000000</td>\n",
       "      <td>39335.000000</td>\n",
       "      <td>39335.000000</td>\n",
       "      <td>39335.000000</td>\n",
       "      <td>39335.000000</td>\n",
       "      <td>39335.000000</td>\n",
       "      <td>39335.000000</td>\n",
       "      <td>39335.000000</td>\n",
       "      <td>39335.000000</td>\n",
       "      <td>39335.000000</td>\n",
       "      <td>39335.000000</td>\n",
       "      <td>39335.000000</td>\n",
       "      <td>39335.000000</td>\n",
       "      <td>39335.000000</td>\n",
       "      <td>39335.000000</td>\n",
       "      <td>39335.000000</td>\n",
       "      <td>39335.000000</td>\n",
       "      <td>39335.000000</td>\n",
       "      <td>39335.000000</td>\n",
       "      <td>39335.000000</td>\n",
       "      <td>39335.000000</td>\n",
       "      <td>39335.000000</td>\n",
       "      <td>39335.000000</td>\n",
       "      <td>39335.000000</td>\n",
       "      <td>39335.000000</td>\n",
       "      <td>39335.000000</td>\n",
       "      <td>39335.000000</td>\n",
       "      <td>39335.000000</td>\n",
       "      <td>39335.000000</td>\n",
       "      <td>39335.000000</td>\n",
       "      <td>39335.000000</td>\n",
       "      <td>39335.000000</td>\n",
       "      <td>39335.000000</td>\n",
       "      <td>39335.000000</td>\n",
       "      <td>39335.000000</td>\n",
       "      <td>39335.000000</td>\n",
       "      <td>39335.000000</td>\n",
       "      <td>39335.000000</td>\n",
       "      <td>39335.000000</td>\n",
       "      <td>39335.000000</td>\n",
       "      <td>39335.000000</td>\n",
       "      <td>39335.000000</td>\n",
       "      <td>39335.000000</td>\n",
       "    </tr>\n",
       "    <tr>\n",
       "      <th>mean</th>\n",
       "      <td>-0.088717</td>\n",
       "      <td>0.238768</td>\n",
       "      <td>0.330689</td>\n",
       "      <td>0.127248</td>\n",
       "      <td>0.188694</td>\n",
       "      <td>0.139003</td>\n",
       "      <td>-0.072381</td>\n",
       "      <td>-0.076923</td>\n",
       "      <td>-0.078752</td>\n",
       "      <td>-0.094757</td>\n",
       "      <td>0.056553</td>\n",
       "      <td>0.052642</td>\n",
       "      <td>0.107988</td>\n",
       "      <td>0.095383</td>\n",
       "      <td>0.082511</td>\n",
       "      <td>0.082930</td>\n",
       "      <td>0.589298</td>\n",
       "      <td>0.979992</td>\n",
       "      <td>0.833397</td>\n",
       "      <td>0.551531</td>\n",
       "      <td>0.987844</td>\n",
       "      <td>0.613751</td>\n",
       "      <td>0.981363</td>\n",
       "      <td>0.842438</td>\n",
       "      <td>0.619821</td>\n",
       "      <td>1.107743</td>\n",
       "      <td>0.909990</td>\n",
       "      <td>0.086142</td>\n",
       "      <td>0.082598</td>\n",
       "      <td>0.089094</td>\n",
       "      <td>0.070090</td>\n",
       "      <td>0.072927</td>\n",
       "      <td>0.087556</td>\n",
       "      <td>0.092610</td>\n",
       "      <td>0.090684</td>\n",
       "      <td>0.086326</td>\n",
       "      <td>0.082204</td>\n",
       "      <td>0.079022</td>\n",
       "      <td>0.085069</td>\n",
       "      <td>0.087998</td>\n",
       "      <td>0.094382</td>\n",
       "      <td>0.090620</td>\n",
       "      <td>0.083791</td>\n",
       "      <td>0.076725</td>\n",
       "      <td>0.088092</td>\n",
       "      <td>0.088289</td>\n",
       "      <td>0.093055</td>\n",
       "      <td>0.087311</td>\n",
       "      <td>0.099566</td>\n",
       "      <td>0.092152</td>\n",
       "      <td>0.092548</td>\n",
       "      <td>0.081919</td>\n",
       "      <td>0.069960</td>\n",
       "      <td>0.085900</td>\n",
       "      <td>0.066998</td>\n",
       "      <td>0.071785</td>\n",
       "      <td>0.090736</td>\n",
       "      <td>0.094789</td>\n",
       "      <td>0.093221</td>\n",
       "      <td>0.094841</td>\n",
       "      <td>0.085772</td>\n",
       "      <td>0.081264</td>\n",
       "      <td>0.079511</td>\n",
       "      <td>0.182623</td>\n",
       "      <td>0.290983</td>\n",
       "      <td>0.564107</td>\n",
       "      <td>-0.026707</td>\n",
       "      <td>0.786934</td>\n",
       "      <td>0.210965</td>\n",
       "      <td>0.798812</td>\n",
       "      <td>0.800439</td>\n",
       "      <td>0.094194</td>\n",
       "      <td>0.085900</td>\n",
       "      <td>-0.016797</td>\n",
       "      <td>-0.023814</td>\n",
       "      <td>-0.018587</td>\n",
       "      <td>-0.020766</td>\n",
       "      <td>0.180768</td>\n",
       "      <td>0.251353</td>\n",
       "      <td>0.442247</td>\n",
       "      <td>0.266043</td>\n",
       "    </tr>\n",
       "    <tr>\n",
       "      <th>std</th>\n",
       "      <td>0.693929</td>\n",
       "      <td>0.936834</td>\n",
       "      <td>1.057748</td>\n",
       "      <td>0.615428</td>\n",
       "      <td>0.805511</td>\n",
       "      <td>0.786994</td>\n",
       "      <td>0.786791</td>\n",
       "      <td>0.802038</td>\n",
       "      <td>0.777412</td>\n",
       "      <td>0.792731</td>\n",
       "      <td>0.645445</td>\n",
       "      <td>0.598668</td>\n",
       "      <td>0.663624</td>\n",
       "      <td>0.594544</td>\n",
       "      <td>0.656665</td>\n",
       "      <td>0.601819</td>\n",
       "      <td>1.470061</td>\n",
       "      <td>2.254335</td>\n",
       "      <td>2.036636</td>\n",
       "      <td>1.507772</td>\n",
       "      <td>2.477131</td>\n",
       "      <td>1.484437</td>\n",
       "      <td>2.231395</td>\n",
       "      <td>1.999516</td>\n",
       "      <td>1.638597</td>\n",
       "      <td>2.818263</td>\n",
       "      <td>2.380175</td>\n",
       "      <td>0.745888</td>\n",
       "      <td>0.735601</td>\n",
       "      <td>0.726026</td>\n",
       "      <td>0.732674</td>\n",
       "      <td>0.716135</td>\n",
       "      <td>0.705125</td>\n",
       "      <td>0.732177</td>\n",
       "      <td>0.742956</td>\n",
       "      <td>0.739460</td>\n",
       "      <td>0.732646</td>\n",
       "      <td>0.732584</td>\n",
       "      <td>0.754202</td>\n",
       "      <td>0.736737</td>\n",
       "      <td>0.717016</td>\n",
       "      <td>0.709422</td>\n",
       "      <td>0.703883</td>\n",
       "      <td>0.685403</td>\n",
       "      <td>0.673922</td>\n",
       "      <td>0.668870</td>\n",
       "      <td>0.668397</td>\n",
       "      <td>0.686289</td>\n",
       "      <td>0.703577</td>\n",
       "      <td>0.719400</td>\n",
       "      <td>0.745462</td>\n",
       "      <td>0.731102</td>\n",
       "      <td>0.715410</td>\n",
       "      <td>0.713513</td>\n",
       "      <td>0.704827</td>\n",
       "      <td>0.689875</td>\n",
       "      <td>0.688110</td>\n",
       "      <td>0.693356</td>\n",
       "      <td>0.698118</td>\n",
       "      <td>0.706086</td>\n",
       "      <td>0.710147</td>\n",
       "      <td>0.732122</td>\n",
       "      <td>0.749027</td>\n",
       "      <td>0.814969</td>\n",
       "      <td>1.204833</td>\n",
       "      <td>1.792700</td>\n",
       "      <td>0.725168</td>\n",
       "      <td>2.510987</td>\n",
       "      <td>1.207534</td>\n",
       "      <td>2.157544</td>\n",
       "      <td>2.678943</td>\n",
       "      <td>0.686530</td>\n",
       "      <td>0.692275</td>\n",
       "      <td>0.648713</td>\n",
       "      <td>0.646071</td>\n",
       "      <td>0.635566</td>\n",
       "      <td>0.651565</td>\n",
       "      <td>0.880776</td>\n",
       "      <td>1.162101</td>\n",
       "      <td>1.398264</td>\n",
       "      <td>1.213194</td>\n",
       "    </tr>\n",
       "    <tr>\n",
       "      <th>min</th>\n",
       "      <td>-2.675228</td>\n",
       "      <td>-1.060588</td>\n",
       "      <td>-0.765950</td>\n",
       "      <td>-0.972962</td>\n",
       "      <td>-1.131356</td>\n",
       "      <td>-1.402648</td>\n",
       "      <td>-4.157895</td>\n",
       "      <td>-3.500000</td>\n",
       "      <td>-3.850000</td>\n",
       "      <td>-4.157895</td>\n",
       "      <td>-1.500000</td>\n",
       "      <td>-1.312500</td>\n",
       "      <td>-1.428571</td>\n",
       "      <td>-1.250000</td>\n",
       "      <td>-1.500000</td>\n",
       "      <td>-1.250000</td>\n",
       "      <td>-0.653390</td>\n",
       "      <td>-0.601043</td>\n",
       "      <td>-0.814328</td>\n",
       "      <td>-0.814516</td>\n",
       "      <td>-0.748117</td>\n",
       "      <td>-0.622240</td>\n",
       "      <td>-0.561686</td>\n",
       "      <td>-0.651345</td>\n",
       "      <td>-0.747454</td>\n",
       "      <td>-0.852252</td>\n",
       "      <td>-0.895296</td>\n",
       "      <td>-2.013054</td>\n",
       "      <td>-1.958249</td>\n",
       "      <td>-1.990553</td>\n",
       "      <td>-1.994225</td>\n",
       "      <td>-1.955605</td>\n",
       "      <td>-1.836671</td>\n",
       "      <td>-1.912028</td>\n",
       "      <td>-1.936270</td>\n",
       "      <td>-1.937557</td>\n",
       "      <td>-1.909796</td>\n",
       "      <td>-1.948571</td>\n",
       "      <td>-2.041867</td>\n",
       "      <td>-1.799446</td>\n",
       "      <td>-1.853032</td>\n",
       "      <td>-1.789958</td>\n",
       "      <td>-1.758280</td>\n",
       "      <td>-1.735836</td>\n",
       "      <td>-1.665480</td>\n",
       "      <td>-1.632520</td>\n",
       "      <td>-1.625308</td>\n",
       "      <td>-1.659310</td>\n",
       "      <td>-1.707038</td>\n",
       "      <td>-1.778985</td>\n",
       "      <td>-1.863114</td>\n",
       "      <td>-2.015824</td>\n",
       "      <td>-1.973938</td>\n",
       "      <td>-1.980554</td>\n",
       "      <td>-1.980898</td>\n",
       "      <td>-1.921212</td>\n",
       "      <td>-1.821535</td>\n",
       "      <td>-1.845420</td>\n",
       "      <td>-1.841386</td>\n",
       "      <td>-1.867225</td>\n",
       "      <td>-1.907085</td>\n",
       "      <td>-2.020542</td>\n",
       "      <td>-2.091281</td>\n",
       "      <td>-0.988095</td>\n",
       "      <td>-2.108893</td>\n",
       "      <td>-0.897196</td>\n",
       "      <td>-3.260870</td>\n",
       "      <td>-1.108992</td>\n",
       "      <td>-2.643158</td>\n",
       "      <td>-1.122600</td>\n",
       "      <td>-1.213964</td>\n",
       "      <td>-1.803347</td>\n",
       "      <td>-1.832618</td>\n",
       "      <td>-1.558659</td>\n",
       "      <td>-1.554286</td>\n",
       "      <td>-1.505747</td>\n",
       "      <td>-1.567416</td>\n",
       "      <td>-1.016736</td>\n",
       "      <td>-2.264996</td>\n",
       "      <td>-0.896022</td>\n",
       "      <td>-2.346681</td>\n",
       "    </tr>\n",
       "    <tr>\n",
       "      <th>25%</th>\n",
       "      <td>-0.576135</td>\n",
       "      <td>-0.401694</td>\n",
       "      <td>-0.335438</td>\n",
       "      <td>-0.400283</td>\n",
       "      <td>-0.369835</td>\n",
       "      <td>-0.411560</td>\n",
       "      <td>-0.578947</td>\n",
       "      <td>-0.550000</td>\n",
       "      <td>-0.550000</td>\n",
       "      <td>-0.578947</td>\n",
       "      <td>-0.500000</td>\n",
       "      <td>-0.500000</td>\n",
       "      <td>-0.428571</td>\n",
       "      <td>-0.437500</td>\n",
       "      <td>-0.500000</td>\n",
       "      <td>-0.437500</td>\n",
       "      <td>-0.265254</td>\n",
       "      <td>-0.209909</td>\n",
       "      <td>-0.242388</td>\n",
       "      <td>-0.298387</td>\n",
       "      <td>-0.251046</td>\n",
       "      <td>-0.257563</td>\n",
       "      <td>-0.195288</td>\n",
       "      <td>-0.221973</td>\n",
       "      <td>-0.299389</td>\n",
       "      <td>-0.261261</td>\n",
       "      <td>-0.276176</td>\n",
       "      <td>-0.428868</td>\n",
       "      <td>-0.430683</td>\n",
       "      <td>-0.415670</td>\n",
       "      <td>-0.430243</td>\n",
       "      <td>-0.424575</td>\n",
       "      <td>-0.409943</td>\n",
       "      <td>-0.420894</td>\n",
       "      <td>-0.426514</td>\n",
       "      <td>-0.424569</td>\n",
       "      <td>-0.424270</td>\n",
       "      <td>-0.430425</td>\n",
       "      <td>-0.417946</td>\n",
       "      <td>-0.448756</td>\n",
       "      <td>-0.438909</td>\n",
       "      <td>-0.435977</td>\n",
       "      <td>-0.436825</td>\n",
       "      <td>-0.451911</td>\n",
       "      <td>-0.430300</td>\n",
       "      <td>-0.425533</td>\n",
       "      <td>-0.429856</td>\n",
       "      <td>-0.440190</td>\n",
       "      <td>-0.426529</td>\n",
       "      <td>-0.437763</td>\n",
       "      <td>-0.445718</td>\n",
       "      <td>-0.433528</td>\n",
       "      <td>-0.443494</td>\n",
       "      <td>-0.420364</td>\n",
       "      <td>-0.432127</td>\n",
       "      <td>-0.430113</td>\n",
       "      <td>-0.412055</td>\n",
       "      <td>-0.408854</td>\n",
       "      <td>-0.421730</td>\n",
       "      <td>-0.420334</td>\n",
       "      <td>-0.426019</td>\n",
       "      <td>-0.422666</td>\n",
       "      <td>-0.431157</td>\n",
       "      <td>-0.401786</td>\n",
       "      <td>-0.441924</td>\n",
       "      <td>-0.346513</td>\n",
       "      <td>-0.478261</td>\n",
       "      <td>-0.346049</td>\n",
       "      <td>-0.468421</td>\n",
       "      <td>-0.290990</td>\n",
       "      <td>-0.349099</td>\n",
       "      <td>-0.414226</td>\n",
       "      <td>-0.420601</td>\n",
       "      <td>-0.513966</td>\n",
       "      <td>-0.520000</td>\n",
       "      <td>-0.522989</td>\n",
       "      <td>-0.516854</td>\n",
       "      <td>-0.441423</td>\n",
       "      <td>-0.444942</td>\n",
       "      <td>-0.346127</td>\n",
       "      <td>-0.447840</td>\n",
       "    </tr>\n",
       "    <tr>\n",
       "      <th>50%</th>\n",
       "      <td>0.000000</td>\n",
       "      <td>0.000000</td>\n",
       "      <td>0.000000</td>\n",
       "      <td>0.000000</td>\n",
       "      <td>0.000000</td>\n",
       "      <td>0.000000</td>\n",
       "      <td>0.000000</td>\n",
       "      <td>0.000000</td>\n",
       "      <td>0.000000</td>\n",
       "      <td>0.000000</td>\n",
       "      <td>0.000000</td>\n",
       "      <td>0.000000</td>\n",
       "      <td>0.000000</td>\n",
       "      <td>0.000000</td>\n",
       "      <td>0.000000</td>\n",
       "      <td>0.000000</td>\n",
       "      <td>0.000000</td>\n",
       "      <td>0.000000</td>\n",
       "      <td>0.000000</td>\n",
       "      <td>0.000000</td>\n",
       "      <td>0.000000</td>\n",
       "      <td>0.000000</td>\n",
       "      <td>0.000000</td>\n",
       "      <td>0.000000</td>\n",
       "      <td>0.000000</td>\n",
       "      <td>0.000000</td>\n",
       "      <td>0.000000</td>\n",
       "      <td>0.000000</td>\n",
       "      <td>0.000000</td>\n",
       "      <td>0.000000</td>\n",
       "      <td>0.000000</td>\n",
       "      <td>0.000000</td>\n",
       "      <td>0.000000</td>\n",
       "      <td>0.000000</td>\n",
       "      <td>0.000000</td>\n",
       "      <td>0.000000</td>\n",
       "      <td>0.000000</td>\n",
       "      <td>0.000000</td>\n",
       "      <td>0.000000</td>\n",
       "      <td>0.000000</td>\n",
       "      <td>0.000000</td>\n",
       "      <td>0.000000</td>\n",
       "      <td>0.000000</td>\n",
       "      <td>0.000000</td>\n",
       "      <td>0.000000</td>\n",
       "      <td>0.000000</td>\n",
       "      <td>0.000000</td>\n",
       "      <td>0.000000</td>\n",
       "      <td>0.000000</td>\n",
       "      <td>0.000000</td>\n",
       "      <td>0.000000</td>\n",
       "      <td>0.000000</td>\n",
       "      <td>0.000000</td>\n",
       "      <td>0.000000</td>\n",
       "      <td>0.000000</td>\n",
       "      <td>0.000000</td>\n",
       "      <td>0.000000</td>\n",
       "      <td>0.000000</td>\n",
       "      <td>0.000000</td>\n",
       "      <td>0.000000</td>\n",
       "      <td>0.000000</td>\n",
       "      <td>0.000000</td>\n",
       "      <td>0.000000</td>\n",
       "      <td>0.000000</td>\n",
       "      <td>0.000000</td>\n",
       "      <td>0.000000</td>\n",
       "      <td>0.000000</td>\n",
       "      <td>0.000000</td>\n",
       "      <td>0.000000</td>\n",
       "      <td>0.000000</td>\n",
       "      <td>0.000000</td>\n",
       "      <td>0.000000</td>\n",
       "      <td>0.000000</td>\n",
       "      <td>0.000000</td>\n",
       "      <td>0.000000</td>\n",
       "      <td>0.000000</td>\n",
       "      <td>0.000000</td>\n",
       "      <td>0.000000</td>\n",
       "      <td>0.000000</td>\n",
       "      <td>0.000000</td>\n",
       "      <td>0.000000</td>\n",
       "    </tr>\n",
       "    <tr>\n",
       "      <th>75%</th>\n",
       "      <td>0.423865</td>\n",
       "      <td>0.598306</td>\n",
       "      <td>0.664562</td>\n",
       "      <td>0.599717</td>\n",
       "      <td>0.630165</td>\n",
       "      <td>0.588440</td>\n",
       "      <td>0.421053</td>\n",
       "      <td>0.450000</td>\n",
       "      <td>0.450000</td>\n",
       "      <td>0.421053</td>\n",
       "      <td>0.500000</td>\n",
       "      <td>0.500000</td>\n",
       "      <td>0.571429</td>\n",
       "      <td>0.562500</td>\n",
       "      <td>0.500000</td>\n",
       "      <td>0.562500</td>\n",
       "      <td>0.734746</td>\n",
       "      <td>0.790091</td>\n",
       "      <td>0.757612</td>\n",
       "      <td>0.701613</td>\n",
       "      <td>0.748954</td>\n",
       "      <td>0.742437</td>\n",
       "      <td>0.804712</td>\n",
       "      <td>0.778027</td>\n",
       "      <td>0.700611</td>\n",
       "      <td>0.738739</td>\n",
       "      <td>0.723824</td>\n",
       "      <td>0.571132</td>\n",
       "      <td>0.569317</td>\n",
       "      <td>0.584330</td>\n",
       "      <td>0.569757</td>\n",
       "      <td>0.575425</td>\n",
       "      <td>0.590057</td>\n",
       "      <td>0.579106</td>\n",
       "      <td>0.573486</td>\n",
       "      <td>0.575431</td>\n",
       "      <td>0.575730</td>\n",
       "      <td>0.569575</td>\n",
       "      <td>0.582054</td>\n",
       "      <td>0.551244</td>\n",
       "      <td>0.561091</td>\n",
       "      <td>0.564023</td>\n",
       "      <td>0.563175</td>\n",
       "      <td>0.548089</td>\n",
       "      <td>0.569700</td>\n",
       "      <td>0.574467</td>\n",
       "      <td>0.570144</td>\n",
       "      <td>0.559810</td>\n",
       "      <td>0.573471</td>\n",
       "      <td>0.562237</td>\n",
       "      <td>0.554282</td>\n",
       "      <td>0.566472</td>\n",
       "      <td>0.556506</td>\n",
       "      <td>0.579636</td>\n",
       "      <td>0.567873</td>\n",
       "      <td>0.569887</td>\n",
       "      <td>0.587945</td>\n",
       "      <td>0.591146</td>\n",
       "      <td>0.578270</td>\n",
       "      <td>0.579666</td>\n",
       "      <td>0.573981</td>\n",
       "      <td>0.577334</td>\n",
       "      <td>0.568843</td>\n",
       "      <td>0.598214</td>\n",
       "      <td>0.558076</td>\n",
       "      <td>0.653487</td>\n",
       "      <td>0.521739</td>\n",
       "      <td>0.653951</td>\n",
       "      <td>0.531579</td>\n",
       "      <td>0.709010</td>\n",
       "      <td>0.650901</td>\n",
       "      <td>0.585774</td>\n",
       "      <td>0.579399</td>\n",
       "      <td>0.486034</td>\n",
       "      <td>0.480000</td>\n",
       "      <td>0.477011</td>\n",
       "      <td>0.483146</td>\n",
       "      <td>0.558577</td>\n",
       "      <td>0.555058</td>\n",
       "      <td>0.653873</td>\n",
       "      <td>0.552160</td>\n",
       "    </tr>\n",
       "    <tr>\n",
       "      <th>max</th>\n",
       "      <td>1.379326</td>\n",
       "      <td>6.955972</td>\n",
       "      <td>17.621110</td>\n",
       "      <td>2.307714</td>\n",
       "      <td>4.008145</td>\n",
       "      <td>3.433582</td>\n",
       "      <td>2.578947</td>\n",
       "      <td>2.400000</td>\n",
       "      <td>2.400000</td>\n",
       "      <td>2.526316</td>\n",
       "      <td>2.142857</td>\n",
       "      <td>1.937500</td>\n",
       "      <td>2.142857</td>\n",
       "      <td>1.875000</td>\n",
       "      <td>2.142857</td>\n",
       "      <td>2.000000</td>\n",
       "      <td>10.546610</td>\n",
       "      <td>15.208605</td>\n",
       "      <td>14.568358</td>\n",
       "      <td>13.092742</td>\n",
       "      <td>19.347280</td>\n",
       "      <td>9.550286</td>\n",
       "      <td>13.800372</td>\n",
       "      <td>12.882287</td>\n",
       "      <td>10.614053</td>\n",
       "      <td>18.172973</td>\n",
       "      <td>15.666161</td>\n",
       "      <td>2.563055</td>\n",
       "      <td>2.532319</td>\n",
       "      <td>2.669043</td>\n",
       "      <td>2.596627</td>\n",
       "      <td>2.398470</td>\n",
       "      <td>2.324522</td>\n",
       "      <td>2.456361</td>\n",
       "      <td>2.550164</td>\n",
       "      <td>2.530337</td>\n",
       "      <td>2.518437</td>\n",
       "      <td>3.452339</td>\n",
       "      <td>3.977358</td>\n",
       "      <td>4.420928</td>\n",
       "      <td>4.200816</td>\n",
       "      <td>4.142605</td>\n",
       "      <td>4.068910</td>\n",
       "      <td>3.671745</td>\n",
       "      <td>3.537334</td>\n",
       "      <td>3.569846</td>\n",
       "      <td>3.633408</td>\n",
       "      <td>3.707677</td>\n",
       "      <td>3.798502</td>\n",
       "      <td>4.146816</td>\n",
       "      <td>4.506272</td>\n",
       "      <td>2.451426</td>\n",
       "      <td>2.400789</td>\n",
       "      <td>2.354049</td>\n",
       "      <td>2.341828</td>\n",
       "      <td>2.162005</td>\n",
       "      <td>2.158863</td>\n",
       "      <td>2.446989</td>\n",
       "      <td>2.394603</td>\n",
       "      <td>2.377004</td>\n",
       "      <td>2.452972</td>\n",
       "      <td>2.532815</td>\n",
       "      <td>2.474618</td>\n",
       "      <td>6.276786</td>\n",
       "      <td>8.387477</td>\n",
       "      <td>13.324227</td>\n",
       "      <td>2.000000</td>\n",
       "      <td>25.817439</td>\n",
       "      <td>11.283158</td>\n",
       "      <td>18.751846</td>\n",
       "      <td>20.966216</td>\n",
       "      <td>2.188285</td>\n",
       "      <td>2.261803</td>\n",
       "      <td>2.659218</td>\n",
       "      <td>2.571429</td>\n",
       "      <td>2.517241</td>\n",
       "      <td>2.691011</td>\n",
       "      <td>6.895397</td>\n",
       "      <td>9.207699</td>\n",
       "      <td>14.608514</td>\n",
       "      <td>8.569020</td>\n",
       "    </tr>\n",
       "  </tbody>\n",
       "</table>\n",
       "</div>"
      ],
      "text/plain": [
       "       WORLDCLIM_BIO1_annual_mean_temperature  \\\n",
       "count                            39335.000000   \n",
       "mean                                -0.088717   \n",
       "std                                  0.693929   \n",
       "min                                 -2.675228   \n",
       "25%                                 -0.576135   \n",
       "50%                                  0.000000   \n",
       "75%                                  0.423865   \n",
       "max                                  1.379326   \n",
       "\n",
       "       WORLDCLIM_BIO12_annual_precipitation  \\\n",
       "count                          39335.000000   \n",
       "mean                               0.238768   \n",
       "std                                0.936834   \n",
       "min                               -1.060588   \n",
       "25%                               -0.401694   \n",
       "50%                                0.000000   \n",
       "75%                                0.598306   \n",
       "max                                6.955972   \n",
       "\n",
       "       WORLDCLIM_BIO13.BIO14_delta_precipitation_of_wettest_and_dryest_month  \\\n",
       "count                                       39335.000000                       \n",
       "mean                                            0.330689                       \n",
       "std                                             1.057748                       \n",
       "min                                            -0.765950                       \n",
       "25%                                            -0.335438                       \n",
       "50%                                             0.000000                       \n",
       "75%                                             0.664562                       \n",
       "max                                            17.621110                       \n",
       "\n",
       "       WORLDCLIM_BIO15_precipitation_seasonality  \\\n",
       "count                               39335.000000   \n",
       "mean                                    0.127248   \n",
       "std                                     0.615428   \n",
       "min                                    -0.972962   \n",
       "25%                                    -0.400283   \n",
       "50%                                     0.000000   \n",
       "75%                                     0.599717   \n",
       "max                                     2.307714   \n",
       "\n",
       "       WORLDCLIM_BIO4_temperature_seasonality  \\\n",
       "count                            39335.000000   \n",
       "mean                                 0.188694   \n",
       "std                                  0.805511   \n",
       "min                                 -1.131356   \n",
       "25%                                 -0.369835   \n",
       "50%                                  0.000000   \n",
       "75%                                  0.630165   \n",
       "max                                  4.008145   \n",
       "\n",
       "       WORLDCLIM_BIO7_temperature_annual_range  \\\n",
       "count                             39335.000000   \n",
       "mean                                  0.139003   \n",
       "std                                   0.786994   \n",
       "min                                  -1.402648   \n",
       "25%                                  -0.411560   \n",
       "50%                                   0.000000   \n",
       "75%                                   0.588440   \n",
       "max                                   3.433582   \n",
       "\n",
       "       SOIL_bdod_100.200cm_mean_0.01_deg  SOIL_bdod_15.30cm_mean_0.01_deg  \\\n",
       "count                       39335.000000                     39335.000000   \n",
       "mean                           -0.072381                        -0.076923   \n",
       "std                             0.786791                         0.802038   \n",
       "min                            -4.157895                        -3.500000   \n",
       "25%                            -0.578947                        -0.550000   \n",
       "50%                             0.000000                         0.000000   \n",
       "75%                             0.421053                         0.450000   \n",
       "max                             2.578947                         2.400000   \n",
       "\n",
       "       SOIL_bdod_30.60cm_mean_0.01_deg  SOIL_bdod_60.100cm_mean_0.01_deg  \\\n",
       "count                     39335.000000                      39335.000000   \n",
       "mean                         -0.078752                         -0.094757   \n",
       "std                           0.777412                          0.792731   \n",
       "min                          -3.850000                         -4.157895   \n",
       "25%                          -0.550000                         -0.578947   \n",
       "50%                           0.000000                          0.000000   \n",
       "75%                           0.450000                          0.421053   \n",
       "max                           2.400000                          2.526316   \n",
       "\n",
       "       SOIL_phh2o_0.5cm_mean_0.01_deg  SOIL_phh2o_100.200cm_mean_0.01_deg  \\\n",
       "count                    39335.000000                        39335.000000   \n",
       "mean                         0.056553                            0.052642   \n",
       "std                          0.645445                            0.598668   \n",
       "min                         -1.500000                           -1.312500   \n",
       "25%                         -0.500000                           -0.500000   \n",
       "50%                          0.000000                            0.000000   \n",
       "75%                          0.500000                            0.500000   \n",
       "max                          2.142857                            1.937500   \n",
       "\n",
       "       SOIL_phh2o_15.30cm_mean_0.01_deg  SOIL_phh2o_30.60cm_mean_0.01_deg  \\\n",
       "count                      39335.000000                      39335.000000   \n",
       "mean                           0.107988                          0.095383   \n",
       "std                            0.663624                          0.594544   \n",
       "min                           -1.428571                         -1.250000   \n",
       "25%                           -0.428571                         -0.437500   \n",
       "50%                            0.000000                          0.000000   \n",
       "75%                            0.571429                          0.562500   \n",
       "max                            2.142857                          1.875000   \n",
       "\n",
       "       SOIL_phh2o_5.15cm_mean_0.01_deg  SOIL_phh2o_60.100cm_mean_0.01_deg  \\\n",
       "count                     39335.000000                       39335.000000   \n",
       "mean                          0.082511                           0.082930   \n",
       "std                           0.656665                           0.601819   \n",
       "min                          -1.500000                          -1.250000   \n",
       "25%                          -0.500000                          -0.437500   \n",
       "50%                           0.000000                           0.000000   \n",
       "75%                           0.500000                           0.562500   \n",
       "max                           2.142857                           2.000000   \n",
       "\n",
       "       MODIS_2000.2020_monthly_mean_surface_reflectance_band_01_._month_m1  \\\n",
       "count                                       39335.000000                     \n",
       "mean                                            0.589298                     \n",
       "std                                             1.470061                     \n",
       "min                                            -0.653390                     \n",
       "25%                                            -0.265254                     \n",
       "50%                                             0.000000                     \n",
       "75%                                             0.734746                     \n",
       "max                                            10.546610                     \n",
       "\n",
       "       MODIS_2000.2020_monthly_mean_surface_reflectance_band_03_._month_m1  \\\n",
       "count                                       39335.000000                     \n",
       "mean                                            0.979992                     \n",
       "std                                             2.254335                     \n",
       "min                                            -0.601043                     \n",
       "25%                                            -0.209909                     \n",
       "50%                                             0.000000                     \n",
       "75%                                             0.790091                     \n",
       "max                                            15.208605                     \n",
       "\n",
       "       MODIS_2000.2020_monthly_mean_surface_reflectance_band_04_._month_m1  \\\n",
       "count                                       39335.000000                     \n",
       "mean                                            0.833397                     \n",
       "std                                             2.036636                     \n",
       "min                                            -0.814328                     \n",
       "25%                                            -0.242388                     \n",
       "50%                                             0.000000                     \n",
       "75%                                             0.757612                     \n",
       "max                                            14.568358                     \n",
       "\n",
       "       MODIS_2000.2020_monthly_mean_surface_reflectance_band_01_._month_m12  \\\n",
       "count                                       39335.000000                      \n",
       "mean                                            0.551531                      \n",
       "std                                             1.507772                      \n",
       "min                                            -0.814516                      \n",
       "25%                                            -0.298387                      \n",
       "50%                                             0.000000                      \n",
       "75%                                             0.701613                      \n",
       "max                                            13.092742                      \n",
       "\n",
       "       MODIS_2000.2020_monthly_mean_surface_reflectance_band_03_._month_m12  \\\n",
       "count                                       39335.000000                      \n",
       "mean                                            0.987844                      \n",
       "std                                             2.477131                      \n",
       "min                                            -0.748117                      \n",
       "25%                                            -0.251046                      \n",
       "50%                                             0.000000                      \n",
       "75%                                             0.748954                      \n",
       "max                                            19.347280                      \n",
       "\n",
       "       MODIS_2000.2020_monthly_mean_surface_reflectance_band_01_._month_m2  \\\n",
       "count                                       39335.000000                     \n",
       "mean                                            0.613751                     \n",
       "std                                             1.484437                     \n",
       "min                                            -0.622240                     \n",
       "25%                                            -0.257563                     \n",
       "50%                                             0.000000                     \n",
       "75%                                             0.742437                     \n",
       "max                                             9.550286                     \n",
       "\n",
       "       MODIS_2000.2020_monthly_mean_surface_reflectance_band_03_._month_m2  \\\n",
       "count                                       39335.000000                     \n",
       "mean                                            0.981363                     \n",
       "std                                             2.231395                     \n",
       "min                                            -0.561686                     \n",
       "25%                                            -0.195288                     \n",
       "50%                                             0.000000                     \n",
       "75%                                             0.804712                     \n",
       "max                                            13.800372                     \n",
       "\n",
       "       MODIS_2000.2020_monthly_mean_surface_reflectance_band_04_._month_m2  \\\n",
       "count                                       39335.000000                     \n",
       "mean                                            0.842438                     \n",
       "std                                             1.999516                     \n",
       "min                                            -0.651345                     \n",
       "25%                                            -0.221973                     \n",
       "50%                                             0.000000                     \n",
       "75%                                             0.778027                     \n",
       "max                                            12.882287                     \n",
       "\n",
       "       MODIS_2000.2020_monthly_mean_surface_reflectance_band_01_._month_m3  \\\n",
       "count                                       39335.000000                     \n",
       "mean                                            0.619821                     \n",
       "std                                             1.638597                     \n",
       "min                                            -0.747454                     \n",
       "25%                                            -0.299389                     \n",
       "50%                                             0.000000                     \n",
       "75%                                             0.700611                     \n",
       "max                                            10.614053                     \n",
       "\n",
       "       MODIS_2000.2020_monthly_mean_surface_reflectance_band_03_._month_m3  \\\n",
       "count                                       39335.000000                     \n",
       "mean                                            1.107743                     \n",
       "std                                             2.818263                     \n",
       "min                                            -0.852252                     \n",
       "25%                                            -0.261261                     \n",
       "50%                                             0.000000                     \n",
       "75%                                             0.738739                     \n",
       "max                                            18.172973                     \n",
       "\n",
       "       MODIS_2000.2020_monthly_mean_surface_reflectance_band_04_._month_m3  \\\n",
       "count                                       39335.000000                     \n",
       "mean                                            0.909990                     \n",
       "std                                             2.380175                     \n",
       "min                                            -0.895296                     \n",
       "25%                                            -0.276176                     \n",
       "50%                                             0.000000                     \n",
       "75%                                             0.723824                     \n",
       "max                                            15.666161                     \n",
       "\n",
       "       VOD_C_2002_2018_multiyear_mean_m01  VOD_C_2002_2018_multiyear_mean_m02  \\\n",
       "count                        39335.000000                        39335.000000   \n",
       "mean                             0.086142                            0.082598   \n",
       "std                              0.745888                            0.735601   \n",
       "min                             -2.013054                           -1.958249   \n",
       "25%                             -0.428868                           -0.430683   \n",
       "50%                              0.000000                            0.000000   \n",
       "75%                              0.571132                            0.569317   \n",
       "max                              2.563055                            2.532319   \n",
       "\n",
       "       VOD_C_2002_2018_multiyear_mean_m03  VOD_C_2002_2018_multiyear_mean_m04  \\\n",
       "count                        39335.000000                        39335.000000   \n",
       "mean                             0.089094                            0.070090   \n",
       "std                              0.726026                            0.732674   \n",
       "min                             -1.990553                           -1.994225   \n",
       "25%                             -0.415670                           -0.430243   \n",
       "50%                              0.000000                            0.000000   \n",
       "75%                              0.584330                            0.569757   \n",
       "max                              2.669043                            2.596627   \n",
       "\n",
       "       VOD_C_2002_2018_multiyear_mean_m05  VOD_C_2002_2018_multiyear_mean_m06  \\\n",
       "count                        39335.000000                        39335.000000   \n",
       "mean                             0.072927                            0.087556   \n",
       "std                              0.716135                            0.705125   \n",
       "min                             -1.955605                           -1.836671   \n",
       "25%                             -0.424575                           -0.409943   \n",
       "50%                              0.000000                            0.000000   \n",
       "75%                              0.575425                            0.590057   \n",
       "max                              2.398470                            2.324522   \n",
       "\n",
       "       VOD_C_2002_2018_multiyear_mean_m07  VOD_C_2002_2018_multiyear_mean_m08  \\\n",
       "count                        39335.000000                        39335.000000   \n",
       "mean                             0.092610                            0.090684   \n",
       "std                              0.732177                            0.742956   \n",
       "min                             -1.912028                           -1.936270   \n",
       "25%                             -0.420894                           -0.426514   \n",
       "50%                              0.000000                            0.000000   \n",
       "75%                              0.579106                            0.573486   \n",
       "max                              2.456361                            2.550164   \n",
       "\n",
       "       VOD_C_2002_2018_multiyear_mean_m09  VOD_C_2002_2018_multiyear_mean_m10  \\\n",
       "count                        39335.000000                        39335.000000   \n",
       "mean                             0.086326                            0.082204   \n",
       "std                              0.739460                            0.732646   \n",
       "min                             -1.937557                           -1.909796   \n",
       "25%                             -0.424569                           -0.424270   \n",
       "50%                              0.000000                            0.000000   \n",
       "75%                              0.575431                            0.575730   \n",
       "max                              2.530337                            2.518437   \n",
       "\n",
       "       VOD_C_2002_2018_multiyear_mean_m11  VOD_C_2002_2018_multiyear_mean_m12  \\\n",
       "count                        39335.000000                        39335.000000   \n",
       "mean                             0.079022                            0.085069   \n",
       "std                              0.732584                            0.754202   \n",
       "min                             -1.948571                           -2.041867   \n",
       "25%                             -0.430425                           -0.417946   \n",
       "50%                              0.000000                            0.000000   \n",
       "75%                              0.569575                            0.582054   \n",
       "max                              3.452339                            3.977358   \n",
       "\n",
       "       VOD_Ku_1987_2017_multiyear_mean_m01  \\\n",
       "count                         39335.000000   \n",
       "mean                              0.087998   \n",
       "std                               0.736737   \n",
       "min                              -1.799446   \n",
       "25%                              -0.448756   \n",
       "50%                               0.000000   \n",
       "75%                               0.551244   \n",
       "max                               4.420928   \n",
       "\n",
       "       VOD_Ku_1987_2017_multiyear_mean_m02  \\\n",
       "count                         39335.000000   \n",
       "mean                              0.094382   \n",
       "std                               0.717016   \n",
       "min                              -1.853032   \n",
       "25%                              -0.438909   \n",
       "50%                               0.000000   \n",
       "75%                               0.561091   \n",
       "max                               4.200816   \n",
       "\n",
       "       VOD_Ku_1987_2017_multiyear_mean_m03  \\\n",
       "count                         39335.000000   \n",
       "mean                              0.090620   \n",
       "std                               0.709422   \n",
       "min                              -1.789958   \n",
       "25%                              -0.435977   \n",
       "50%                               0.000000   \n",
       "75%                               0.564023   \n",
       "max                               4.142605   \n",
       "\n",
       "       VOD_Ku_1987_2017_multiyear_mean_m04  \\\n",
       "count                         39335.000000   \n",
       "mean                              0.083791   \n",
       "std                               0.703883   \n",
       "min                              -1.758280   \n",
       "25%                              -0.436825   \n",
       "50%                               0.000000   \n",
       "75%                               0.563175   \n",
       "max                               4.068910   \n",
       "\n",
       "       VOD_Ku_1987_2017_multiyear_mean_m05  \\\n",
       "count                         39335.000000   \n",
       "mean                              0.076725   \n",
       "std                               0.685403   \n",
       "min                              -1.735836   \n",
       "25%                              -0.451911   \n",
       "50%                               0.000000   \n",
       "75%                               0.548089   \n",
       "max                               3.671745   \n",
       "\n",
       "       VOD_Ku_1987_2017_multiyear_mean_m06  \\\n",
       "count                         39335.000000   \n",
       "mean                              0.088092   \n",
       "std                               0.673922   \n",
       "min                              -1.665480   \n",
       "25%                              -0.430300   \n",
       "50%                               0.000000   \n",
       "75%                               0.569700   \n",
       "max                               3.537334   \n",
       "\n",
       "       VOD_Ku_1987_2017_multiyear_mean_m07  \\\n",
       "count                         39335.000000   \n",
       "mean                              0.088289   \n",
       "std                               0.668870   \n",
       "min                              -1.632520   \n",
       "25%                              -0.425533   \n",
       "50%                               0.000000   \n",
       "75%                               0.574467   \n",
       "max                               3.569846   \n",
       "\n",
       "       VOD_Ku_1987_2017_multiyear_mean_m08  \\\n",
       "count                         39335.000000   \n",
       "mean                              0.093055   \n",
       "std                               0.668397   \n",
       "min                              -1.625308   \n",
       "25%                              -0.429856   \n",
       "50%                               0.000000   \n",
       "75%                               0.570144   \n",
       "max                               3.633408   \n",
       "\n",
       "       VOD_Ku_1987_2017_multiyear_mean_m09  \\\n",
       "count                         39335.000000   \n",
       "mean                              0.087311   \n",
       "std                               0.686289   \n",
       "min                              -1.659310   \n",
       "25%                              -0.440190   \n",
       "50%                               0.000000   \n",
       "75%                               0.559810   \n",
       "max                               3.707677   \n",
       "\n",
       "       VOD_Ku_1987_2017_multiyear_mean_m10  \\\n",
       "count                         39335.000000   \n",
       "mean                              0.099566   \n",
       "std                               0.703577   \n",
       "min                              -1.707038   \n",
       "25%                              -0.426529   \n",
       "50%                               0.000000   \n",
       "75%                               0.573471   \n",
       "max                               3.798502   \n",
       "\n",
       "       VOD_Ku_1987_2017_multiyear_mean_m11  \\\n",
       "count                         39335.000000   \n",
       "mean                              0.092152   \n",
       "std                               0.719400   \n",
       "min                              -1.778985   \n",
       "25%                              -0.437763   \n",
       "50%                               0.000000   \n",
       "75%                               0.562237   \n",
       "max                               4.146816   \n",
       "\n",
       "       VOD_Ku_1987_2017_multiyear_mean_m12  \\\n",
       "count                         39335.000000   \n",
       "mean                              0.092548   \n",
       "std                               0.745462   \n",
       "min                              -1.863114   \n",
       "25%                              -0.445718   \n",
       "50%                               0.000000   \n",
       "75%                               0.554282   \n",
       "max                               4.506272   \n",
       "\n",
       "       VOD_X_1997_2018_multiyear_mean_m01  VOD_X_1997_2018_multiyear_mean_m02  \\\n",
       "count                        39335.000000                        39335.000000   \n",
       "mean                             0.081919                            0.069960   \n",
       "std                              0.731102                            0.715410   \n",
       "min                             -2.015824                           -1.973938   \n",
       "25%                             -0.433528                           -0.443494   \n",
       "50%                              0.000000                            0.000000   \n",
       "75%                              0.566472                            0.556506   \n",
       "max                              2.451426                            2.400789   \n",
       "\n",
       "       VOD_X_1997_2018_multiyear_mean_m03  VOD_X_1997_2018_multiyear_mean_m04  \\\n",
       "count                        39335.000000                        39335.000000   \n",
       "mean                             0.085900                            0.066998   \n",
       "std                              0.713513                            0.704827   \n",
       "min                             -1.980554                           -1.980898   \n",
       "25%                             -0.420364                           -0.432127   \n",
       "50%                              0.000000                            0.000000   \n",
       "75%                              0.579636                            0.567873   \n",
       "max                              2.354049                            2.341828   \n",
       "\n",
       "       VOD_X_1997_2018_multiyear_mean_m05  VOD_X_1997_2018_multiyear_mean_m06  \\\n",
       "count                        39335.000000                        39335.000000   \n",
       "mean                             0.071785                            0.090736   \n",
       "std                              0.689875                            0.688110   \n",
       "min                             -1.921212                           -1.821535   \n",
       "25%                             -0.430113                           -0.412055   \n",
       "50%                              0.000000                            0.000000   \n",
       "75%                              0.569887                            0.587945   \n",
       "max                              2.162005                            2.158863   \n",
       "\n",
       "       VOD_X_1997_2018_multiyear_mean_m07  VOD_X_1997_2018_multiyear_mean_m08  \\\n",
       "count                        39335.000000                        39335.000000   \n",
       "mean                             0.094789                            0.093221   \n",
       "std                              0.693356                            0.698118   \n",
       "min                             -1.845420                           -1.841386   \n",
       "25%                             -0.408854                           -0.421730   \n",
       "50%                              0.000000                            0.000000   \n",
       "75%                              0.591146                            0.578270   \n",
       "max                              2.446989                            2.394603   \n",
       "\n",
       "       VOD_X_1997_2018_multiyear_mean_m09  VOD_X_1997_2018_multiyear_mean_m10  \\\n",
       "count                        39335.000000                        39335.000000   \n",
       "mean                             0.094841                            0.085772   \n",
       "std                              0.706086                            0.710147   \n",
       "min                             -1.867225                           -1.907085   \n",
       "25%                             -0.420334                           -0.426019   \n",
       "50%                              0.000000                            0.000000   \n",
       "75%                              0.579666                            0.573981   \n",
       "max                              2.377004                            2.452972   \n",
       "\n",
       "       VOD_X_1997_2018_multiyear_mean_m11  VOD_X_1997_2018_multiyear_mean_m12  \\\n",
       "count                        39335.000000                        39335.000000   \n",
       "mean                             0.081264                            0.079511   \n",
       "std                              0.732122                            0.749027   \n",
       "min                             -2.020542                           -2.091281   \n",
       "25%                             -0.422666                           -0.431157   \n",
       "50%                              0.000000                            0.000000   \n",
       "75%                              0.577334                            0.568843   \n",
       "max                              2.532815                            2.474618   \n",
       "\n",
       "       SOIL_nitrogen_0.5cm_mean_0.01_deg  \\\n",
       "count                       39335.000000   \n",
       "mean                            0.182623   \n",
       "std                             0.814969   \n",
       "min                            -0.988095   \n",
       "25%                            -0.401786   \n",
       "50%                             0.000000   \n",
       "75%                             0.598214   \n",
       "max                             6.276786   \n",
       "\n",
       "       MODIS_2000.2020_monthly_mean_surface_reflectance_band_02_._month_m2  \\\n",
       "count                                       39335.000000                     \n",
       "mean                                            0.290983                     \n",
       "std                                             1.204833                     \n",
       "min                                            -2.108893                     \n",
       "25%                                            -0.441924                     \n",
       "50%                                             0.000000                     \n",
       "75%                                             0.558076                     \n",
       "max                                             8.387477                     \n",
       "\n",
       "       MODIS_2000.2020_monthly_mean_surface_reflectance_band_01_._month_m4  \\\n",
       "count                                       39335.000000                     \n",
       "mean                                            0.564107                     \n",
       "std                                             1.792700                     \n",
       "min                                            -0.897196                     \n",
       "25%                                            -0.346513                     \n",
       "50%                                             0.000000                     \n",
       "75%                                             0.653487                     \n",
       "max                                            13.324227                     \n",
       "\n",
       "       SOIL_bdod_5.15cm_mean_0.01_deg  \\\n",
       "count                    39335.000000   \n",
       "mean                        -0.026707   \n",
       "std                          0.725168   \n",
       "min                         -3.260870   \n",
       "25%                         -0.478261   \n",
       "50%                          0.000000   \n",
       "75%                          0.521739   \n",
       "max                          2.000000   \n",
       "\n",
       "       MODIS_2000.2020_monthly_mean_surface_reflectance_band_03_._month_m11  \\\n",
       "count                                       39335.000000                      \n",
       "mean                                            0.786934                      \n",
       "std                                             2.510987                      \n",
       "min                                            -1.108992                      \n",
       "25%                                            -0.346049                      \n",
       "50%                                             0.000000                      \n",
       "75%                                             0.653951                      \n",
       "max                                            25.817439                      \n",
       "\n",
       "       MODIS_2000.2020_monthly_mean_surface_reflectance_band_02_._month_m12  \\\n",
       "count                                       39335.000000                      \n",
       "mean                                            0.210965                      \n",
       "std                                             1.207534                      \n",
       "min                                            -2.643158                      \n",
       "25%                                            -0.468421                      \n",
       "50%                                             0.000000                      \n",
       "75%                                             0.531579                      \n",
       "max                                            11.283158                      \n",
       "\n",
       "       MODIS_2000.2020_monthly_mean_surface_reflectance_band_04_._month_m12  \\\n",
       "count                                       39335.000000                      \n",
       "mean                                            0.798812                      \n",
       "std                                             2.157544                      \n",
       "min                                            -1.122600                      \n",
       "25%                                            -0.290990                      \n",
       "50%                                             0.000000                      \n",
       "75%                                             0.709010                      \n",
       "max                                            18.751846                      \n",
       "\n",
       "       MODIS_2000.2020_monthly_mean_surface_reflectance_band_04_._month_m4  \\\n",
       "count                                       39335.000000                     \n",
       "mean                                            0.800439                     \n",
       "std                                             2.678943                     \n",
       "min                                            -1.213964                     \n",
       "25%                                            -0.349099                     \n",
       "50%                                             0.000000                     \n",
       "75%                                             0.650901                     \n",
       "max                                            20.966216                     \n",
       "\n",
       "       SOIL_sand_0.5cm_mean_0.01_deg  SOIL_sand_5.15cm_mean_0.01_deg  \\\n",
       "count                   39335.000000                    39335.000000   \n",
       "mean                        0.094194                        0.085900   \n",
       "std                         0.686530                        0.692275   \n",
       "min                        -1.803347                       -1.832618   \n",
       "25%                        -0.414226                       -0.420601   \n",
       "50%                         0.000000                        0.000000   \n",
       "75%                         0.585774                        0.579399   \n",
       "max                         2.188285                        2.261803   \n",
       "\n",
       "       SOIL_silt_0.5cm_mean_0.01_deg  SOIL_silt_15.30cm_mean_0.01_deg  \\\n",
       "count                   39335.000000                     39335.000000   \n",
       "mean                       -0.016797                        -0.023814   \n",
       "std                         0.648713                         0.646071   \n",
       "min                        -1.558659                        -1.554286   \n",
       "25%                        -0.513966                        -0.520000   \n",
       "50%                         0.000000                         0.000000   \n",
       "75%                         0.486034                         0.480000   \n",
       "max                         2.659218                         2.571429   \n",
       "\n",
       "       SOIL_silt_30.60cm_mean_0.01_deg  SOIL_silt_5.15cm_mean_0.01_deg  \\\n",
       "count                     39335.000000                    39335.000000   \n",
       "mean                         -0.018587                       -0.020766   \n",
       "std                           0.635566                        0.651565   \n",
       "min                          -1.505747                       -1.567416   \n",
       "25%                          -0.522989                       -0.516854   \n",
       "50%                           0.000000                        0.000000   \n",
       "75%                           0.477011                        0.483146   \n",
       "max                           2.517241                        2.691011   \n",
       "\n",
       "       SOIL_soc_0.5cm_mean_0.01_deg  \\\n",
       "count                  39335.000000   \n",
       "mean                       0.180768   \n",
       "std                        0.880776   \n",
       "min                       -1.016736   \n",
       "25%                       -0.441423   \n",
       "50%                        0.000000   \n",
       "75%                        0.558577   \n",
       "max                        6.895397   \n",
       "\n",
       "       MODIS_2000.2020_monthly_mean_surface_reflectance_band_02_._month_m1  \\\n",
       "count                                       39335.000000                     \n",
       "mean                                            0.251353                     \n",
       "std                                             1.162101                     \n",
       "min                                            -2.264996                     \n",
       "25%                                            -0.444942                     \n",
       "50%                                             0.000000                     \n",
       "75%                                             0.555058                     \n",
       "max                                             9.207699                     \n",
       "\n",
       "       MODIS_2000.2020_monthly_mean_surface_reflectance_band_01_._month_m11  \\\n",
       "count                                       39335.000000                      \n",
       "mean                                            0.442247                      \n",
       "std                                             1.398264                      \n",
       "min                                            -0.896022                      \n",
       "25%                                            -0.346127                      \n",
       "50%                                             0.000000                      \n",
       "75%                                             0.653873                      \n",
       "max                                            14.608514                      \n",
       "\n",
       "       MODIS_2000.2020_monthly_mean_surface_reflectance_band_02_._month_m3  \n",
       "count                                       39335.000000                    \n",
       "mean                                            0.266043                    \n",
       "std                                             1.213194                    \n",
       "min                                            -2.346681                    \n",
       "25%                                            -0.447840                    \n",
       "50%                                             0.000000                    \n",
       "75%                                             0.552160                    \n",
       "max                                             8.569020                    "
      ]
     },
     "execution_count": 26,
     "metadata": {},
     "output_type": "execute_result"
    }
   ],
   "source": [
    "train_df[FEATURE_COLS].describe()"
   ]
  },
  {
   "cell_type": "code",
   "execution_count": 27,
   "metadata": {},
   "outputs": [
    {
     "data": {
      "text/html": [
       "<div>\n",
       "<style scoped>\n",
       "    .dataframe tbody tr th:only-of-type {\n",
       "        vertical-align: middle;\n",
       "    }\n",
       "\n",
       "    .dataframe tbody tr th {\n",
       "        vertical-align: top;\n",
       "    }\n",
       "\n",
       "    .dataframe thead th {\n",
       "        text-align: right;\n",
       "    }\n",
       "</style>\n",
       "<table border=\"1\" class=\"dataframe\">\n",
       "  <thead>\n",
       "    <tr style=\"text-align: right;\">\n",
       "      <th></th>\n",
       "      <th>WORLDCLIM_BIO1_annual_mean_temperature</th>\n",
       "      <th>WORLDCLIM_BIO12_annual_precipitation</th>\n",
       "      <th>WORLDCLIM_BIO13.BIO14_delta_precipitation_of_wettest_and_dryest_month</th>\n",
       "      <th>WORLDCLIM_BIO15_precipitation_seasonality</th>\n",
       "      <th>WORLDCLIM_BIO4_temperature_seasonality</th>\n",
       "      <th>WORLDCLIM_BIO7_temperature_annual_range</th>\n",
       "      <th>SOIL_bdod_100.200cm_mean_0.01_deg</th>\n",
       "      <th>SOIL_bdod_15.30cm_mean_0.01_deg</th>\n",
       "      <th>SOIL_bdod_30.60cm_mean_0.01_deg</th>\n",
       "      <th>SOIL_bdod_60.100cm_mean_0.01_deg</th>\n",
       "      <th>SOIL_phh2o_0.5cm_mean_0.01_deg</th>\n",
       "      <th>SOIL_phh2o_100.200cm_mean_0.01_deg</th>\n",
       "      <th>SOIL_phh2o_15.30cm_mean_0.01_deg</th>\n",
       "      <th>SOIL_phh2o_30.60cm_mean_0.01_deg</th>\n",
       "      <th>SOIL_phh2o_5.15cm_mean_0.01_deg</th>\n",
       "      <th>SOIL_phh2o_60.100cm_mean_0.01_deg</th>\n",
       "      <th>MODIS_2000.2020_monthly_mean_surface_reflectance_band_01_._month_m1</th>\n",
       "      <th>MODIS_2000.2020_monthly_mean_surface_reflectance_band_03_._month_m1</th>\n",
       "      <th>MODIS_2000.2020_monthly_mean_surface_reflectance_band_04_._month_m1</th>\n",
       "      <th>MODIS_2000.2020_monthly_mean_surface_reflectance_band_01_._month_m12</th>\n",
       "      <th>MODIS_2000.2020_monthly_mean_surface_reflectance_band_03_._month_m12</th>\n",
       "      <th>MODIS_2000.2020_monthly_mean_surface_reflectance_band_01_._month_m2</th>\n",
       "      <th>MODIS_2000.2020_monthly_mean_surface_reflectance_band_03_._month_m2</th>\n",
       "      <th>MODIS_2000.2020_monthly_mean_surface_reflectance_band_04_._month_m2</th>\n",
       "      <th>MODIS_2000.2020_monthly_mean_surface_reflectance_band_01_._month_m3</th>\n",
       "      <th>MODIS_2000.2020_monthly_mean_surface_reflectance_band_03_._month_m3</th>\n",
       "      <th>MODIS_2000.2020_monthly_mean_surface_reflectance_band_04_._month_m3</th>\n",
       "      <th>VOD_C_2002_2018_multiyear_mean_m01</th>\n",
       "      <th>VOD_C_2002_2018_multiyear_mean_m02</th>\n",
       "      <th>VOD_C_2002_2018_multiyear_mean_m03</th>\n",
       "      <th>VOD_C_2002_2018_multiyear_mean_m04</th>\n",
       "      <th>VOD_C_2002_2018_multiyear_mean_m05</th>\n",
       "      <th>VOD_C_2002_2018_multiyear_mean_m06</th>\n",
       "      <th>VOD_C_2002_2018_multiyear_mean_m07</th>\n",
       "      <th>VOD_C_2002_2018_multiyear_mean_m08</th>\n",
       "      <th>VOD_C_2002_2018_multiyear_mean_m09</th>\n",
       "      <th>VOD_C_2002_2018_multiyear_mean_m10</th>\n",
       "      <th>VOD_C_2002_2018_multiyear_mean_m11</th>\n",
       "      <th>VOD_C_2002_2018_multiyear_mean_m12</th>\n",
       "      <th>VOD_Ku_1987_2017_multiyear_mean_m01</th>\n",
       "      <th>VOD_Ku_1987_2017_multiyear_mean_m02</th>\n",
       "      <th>VOD_Ku_1987_2017_multiyear_mean_m03</th>\n",
       "      <th>VOD_Ku_1987_2017_multiyear_mean_m04</th>\n",
       "      <th>VOD_Ku_1987_2017_multiyear_mean_m05</th>\n",
       "      <th>VOD_Ku_1987_2017_multiyear_mean_m06</th>\n",
       "      <th>VOD_Ku_1987_2017_multiyear_mean_m07</th>\n",
       "      <th>VOD_Ku_1987_2017_multiyear_mean_m08</th>\n",
       "      <th>VOD_Ku_1987_2017_multiyear_mean_m09</th>\n",
       "      <th>VOD_Ku_1987_2017_multiyear_mean_m10</th>\n",
       "      <th>VOD_Ku_1987_2017_multiyear_mean_m11</th>\n",
       "      <th>VOD_Ku_1987_2017_multiyear_mean_m12</th>\n",
       "      <th>VOD_X_1997_2018_multiyear_mean_m01</th>\n",
       "      <th>VOD_X_1997_2018_multiyear_mean_m02</th>\n",
       "      <th>VOD_X_1997_2018_multiyear_mean_m03</th>\n",
       "      <th>VOD_X_1997_2018_multiyear_mean_m04</th>\n",
       "      <th>VOD_X_1997_2018_multiyear_mean_m05</th>\n",
       "      <th>VOD_X_1997_2018_multiyear_mean_m06</th>\n",
       "      <th>VOD_X_1997_2018_multiyear_mean_m07</th>\n",
       "      <th>VOD_X_1997_2018_multiyear_mean_m08</th>\n",
       "      <th>VOD_X_1997_2018_multiyear_mean_m09</th>\n",
       "      <th>VOD_X_1997_2018_multiyear_mean_m10</th>\n",
       "      <th>VOD_X_1997_2018_multiyear_mean_m11</th>\n",
       "      <th>VOD_X_1997_2018_multiyear_mean_m12</th>\n",
       "      <th>SOIL_nitrogen_0.5cm_mean_0.01_deg</th>\n",
       "      <th>MODIS_2000.2020_monthly_mean_surface_reflectance_band_02_._month_m2</th>\n",
       "      <th>MODIS_2000.2020_monthly_mean_surface_reflectance_band_01_._month_m4</th>\n",
       "      <th>SOIL_bdod_5.15cm_mean_0.01_deg</th>\n",
       "      <th>MODIS_2000.2020_monthly_mean_surface_reflectance_band_03_._month_m11</th>\n",
       "      <th>MODIS_2000.2020_monthly_mean_surface_reflectance_band_02_._month_m12</th>\n",
       "      <th>MODIS_2000.2020_monthly_mean_surface_reflectance_band_04_._month_m12</th>\n",
       "      <th>MODIS_2000.2020_monthly_mean_surface_reflectance_band_04_._month_m4</th>\n",
       "      <th>SOIL_sand_0.5cm_mean_0.01_deg</th>\n",
       "      <th>SOIL_sand_5.15cm_mean_0.01_deg</th>\n",
       "      <th>SOIL_silt_0.5cm_mean_0.01_deg</th>\n",
       "      <th>SOIL_silt_15.30cm_mean_0.01_deg</th>\n",
       "      <th>SOIL_silt_30.60cm_mean_0.01_deg</th>\n",
       "      <th>SOIL_silt_5.15cm_mean_0.01_deg</th>\n",
       "      <th>SOIL_soc_0.5cm_mean_0.01_deg</th>\n",
       "      <th>MODIS_2000.2020_monthly_mean_surface_reflectance_band_02_._month_m1</th>\n",
       "      <th>MODIS_2000.2020_monthly_mean_surface_reflectance_band_01_._month_m11</th>\n",
       "      <th>MODIS_2000.2020_monthly_mean_surface_reflectance_band_02_._month_m3</th>\n",
       "    </tr>\n",
       "  </thead>\n",
       "  <tbody>\n",
       "    <tr>\n",
       "      <th>count</th>\n",
       "      <td>9833.000000</td>\n",
       "      <td>9833.000000</td>\n",
       "      <td>9833.000000</td>\n",
       "      <td>9833.000000</td>\n",
       "      <td>9833.000000</td>\n",
       "      <td>9833.000000</td>\n",
       "      <td>9833.000000</td>\n",
       "      <td>9833.000000</td>\n",
       "      <td>9833.000000</td>\n",
       "      <td>9833.000000</td>\n",
       "      <td>9833.000000</td>\n",
       "      <td>9833.000000</td>\n",
       "      <td>9833.000000</td>\n",
       "      <td>9833.000000</td>\n",
       "      <td>9833.000000</td>\n",
       "      <td>9833.00000</td>\n",
       "      <td>9833.000000</td>\n",
       "      <td>9833.000000</td>\n",
       "      <td>9833.000000</td>\n",
       "      <td>9833.000000</td>\n",
       "      <td>9833.000000</td>\n",
       "      <td>9833.000000</td>\n",
       "      <td>9833.000000</td>\n",
       "      <td>9833.000000</td>\n",
       "      <td>9833.000000</td>\n",
       "      <td>9833.000000</td>\n",
       "      <td>9833.000000</td>\n",
       "      <td>9833.000000</td>\n",
       "      <td>9833.000000</td>\n",
       "      <td>9833.000000</td>\n",
       "      <td>9833.000000</td>\n",
       "      <td>9833.000000</td>\n",
       "      <td>9833.000000</td>\n",
       "      <td>9833.000000</td>\n",
       "      <td>9833.000000</td>\n",
       "      <td>9833.000000</td>\n",
       "      <td>9833.000000</td>\n",
       "      <td>9833.000000</td>\n",
       "      <td>9833.000000</td>\n",
       "      <td>9833.000000</td>\n",
       "      <td>9833.000000</td>\n",
       "      <td>9833.000000</td>\n",
       "      <td>9833.000000</td>\n",
       "      <td>9833.000000</td>\n",
       "      <td>9833.000000</td>\n",
       "      <td>9833.000000</td>\n",
       "      <td>9833.000000</td>\n",
       "      <td>9833.000000</td>\n",
       "      <td>9833.000000</td>\n",
       "      <td>9833.000000</td>\n",
       "      <td>9833.000000</td>\n",
       "      <td>9833.000000</td>\n",
       "      <td>9833.000000</td>\n",
       "      <td>9833.000000</td>\n",
       "      <td>9833.000000</td>\n",
       "      <td>9833.000000</td>\n",
       "      <td>9833.000000</td>\n",
       "      <td>9833.000000</td>\n",
       "      <td>9833.000000</td>\n",
       "      <td>9833.000000</td>\n",
       "      <td>9833.000000</td>\n",
       "      <td>9833.000000</td>\n",
       "      <td>9833.000000</td>\n",
       "      <td>9833.000000</td>\n",
       "      <td>9833.000000</td>\n",
       "      <td>9833.000000</td>\n",
       "      <td>9833.000000</td>\n",
       "      <td>9833.000000</td>\n",
       "      <td>9833.000000</td>\n",
       "      <td>9833.000000</td>\n",
       "      <td>9833.000000</td>\n",
       "      <td>9833.000000</td>\n",
       "      <td>9833.000000</td>\n",
       "      <td>9833.000000</td>\n",
       "      <td>9833.000000</td>\n",
       "      <td>9833.000000</td>\n",
       "      <td>9833.000000</td>\n",
       "      <td>9833.000000</td>\n",
       "      <td>9833.000000</td>\n",
       "      <td>9833.000000</td>\n",
       "      <td>9833.000000</td>\n",
       "    </tr>\n",
       "    <tr>\n",
       "      <th>mean</th>\n",
       "      <td>-0.086919</td>\n",
       "      <td>0.248975</td>\n",
       "      <td>0.348720</td>\n",
       "      <td>0.123976</td>\n",
       "      <td>0.182074</td>\n",
       "      <td>0.134795</td>\n",
       "      <td>-0.070268</td>\n",
       "      <td>-0.075562</td>\n",
       "      <td>-0.077647</td>\n",
       "      <td>-0.092101</td>\n",
       "      <td>0.055462</td>\n",
       "      <td>0.050995</td>\n",
       "      <td>0.106289</td>\n",
       "      <td>0.093944</td>\n",
       "      <td>0.081511</td>\n",
       "      <td>0.08127</td>\n",
       "      <td>0.580453</td>\n",
       "      <td>0.971647</td>\n",
       "      <td>0.823696</td>\n",
       "      <td>0.543853</td>\n",
       "      <td>0.982856</td>\n",
       "      <td>0.608298</td>\n",
       "      <td>0.978425</td>\n",
       "      <td>0.837575</td>\n",
       "      <td>0.616096</td>\n",
       "      <td>1.109028</td>\n",
       "      <td>0.907688</td>\n",
       "      <td>0.095349</td>\n",
       "      <td>0.090771</td>\n",
       "      <td>0.098265</td>\n",
       "      <td>0.079915</td>\n",
       "      <td>0.082434</td>\n",
       "      <td>0.097992</td>\n",
       "      <td>0.101835</td>\n",
       "      <td>0.101564</td>\n",
       "      <td>0.098415</td>\n",
       "      <td>0.095050</td>\n",
       "      <td>0.091154</td>\n",
       "      <td>0.094880</td>\n",
       "      <td>0.097575</td>\n",
       "      <td>0.102948</td>\n",
       "      <td>0.099941</td>\n",
       "      <td>0.092739</td>\n",
       "      <td>0.084318</td>\n",
       "      <td>0.094684</td>\n",
       "      <td>0.094648</td>\n",
       "      <td>0.100190</td>\n",
       "      <td>0.095947</td>\n",
       "      <td>0.109184</td>\n",
       "      <td>0.102777</td>\n",
       "      <td>0.103112</td>\n",
       "      <td>0.088613</td>\n",
       "      <td>0.077213</td>\n",
       "      <td>0.093229</td>\n",
       "      <td>0.073764</td>\n",
       "      <td>0.077738</td>\n",
       "      <td>0.095529</td>\n",
       "      <td>0.099554</td>\n",
       "      <td>0.098401</td>\n",
       "      <td>0.101501</td>\n",
       "      <td>0.094377</td>\n",
       "      <td>0.091396</td>\n",
       "      <td>0.089730</td>\n",
       "      <td>0.181742</td>\n",
       "      <td>0.290585</td>\n",
       "      <td>0.559814</td>\n",
       "      <td>-0.023881</td>\n",
       "      <td>0.775546</td>\n",
       "      <td>0.211270</td>\n",
       "      <td>0.791411</td>\n",
       "      <td>0.796166</td>\n",
       "      <td>0.090900</td>\n",
       "      <td>0.083039</td>\n",
       "      <td>-0.016026</td>\n",
       "      <td>-0.023586</td>\n",
       "      <td>-0.019345</td>\n",
       "      <td>-0.020212</td>\n",
       "      <td>0.178756</td>\n",
       "      <td>0.249361</td>\n",
       "      <td>0.429935</td>\n",
       "      <td>0.267261</td>\n",
       "    </tr>\n",
       "    <tr>\n",
       "      <th>std</th>\n",
       "      <td>0.695174</td>\n",
       "      <td>0.938861</td>\n",
       "      <td>1.117547</td>\n",
       "      <td>0.616512</td>\n",
       "      <td>0.804424</td>\n",
       "      <td>0.783010</td>\n",
       "      <td>0.786545</td>\n",
       "      <td>0.796842</td>\n",
       "      <td>0.773496</td>\n",
       "      <td>0.791119</td>\n",
       "      <td>0.644380</td>\n",
       "      <td>0.599946</td>\n",
       "      <td>0.663512</td>\n",
       "      <td>0.595062</td>\n",
       "      <td>0.656262</td>\n",
       "      <td>0.60223</td>\n",
       "      <td>1.465808</td>\n",
       "      <td>2.254910</td>\n",
       "      <td>2.033205</td>\n",
       "      <td>1.498924</td>\n",
       "      <td>2.472012</td>\n",
       "      <td>1.488612</td>\n",
       "      <td>2.241078</td>\n",
       "      <td>2.007004</td>\n",
       "      <td>1.651873</td>\n",
       "      <td>2.849611</td>\n",
       "      <td>2.403795</td>\n",
       "      <td>0.747681</td>\n",
       "      <td>0.734481</td>\n",
       "      <td>0.726297</td>\n",
       "      <td>0.733164</td>\n",
       "      <td>0.714846</td>\n",
       "      <td>0.704224</td>\n",
       "      <td>0.730673</td>\n",
       "      <td>0.742205</td>\n",
       "      <td>0.741477</td>\n",
       "      <td>0.737411</td>\n",
       "      <td>0.736158</td>\n",
       "      <td>0.756197</td>\n",
       "      <td>0.743296</td>\n",
       "      <td>0.721315</td>\n",
       "      <td>0.713000</td>\n",
       "      <td>0.707636</td>\n",
       "      <td>0.687597</td>\n",
       "      <td>0.674604</td>\n",
       "      <td>0.669325</td>\n",
       "      <td>0.669158</td>\n",
       "      <td>0.688630</td>\n",
       "      <td>0.708239</td>\n",
       "      <td>0.725452</td>\n",
       "      <td>0.752491</td>\n",
       "      <td>0.731003</td>\n",
       "      <td>0.714165</td>\n",
       "      <td>0.711472</td>\n",
       "      <td>0.703232</td>\n",
       "      <td>0.686897</td>\n",
       "      <td>0.684309</td>\n",
       "      <td>0.688732</td>\n",
       "      <td>0.694353</td>\n",
       "      <td>0.704185</td>\n",
       "      <td>0.710798</td>\n",
       "      <td>0.733823</td>\n",
       "      <td>0.750354</td>\n",
       "      <td>0.816621</td>\n",
       "      <td>1.203565</td>\n",
       "      <td>1.796357</td>\n",
       "      <td>0.722275</td>\n",
       "      <td>2.477524</td>\n",
       "      <td>1.190099</td>\n",
       "      <td>2.147828</td>\n",
       "      <td>2.690300</td>\n",
       "      <td>0.691486</td>\n",
       "      <td>0.696680</td>\n",
       "      <td>0.655162</td>\n",
       "      <td>0.651968</td>\n",
       "      <td>0.640016</td>\n",
       "      <td>0.657966</td>\n",
       "      <td>0.872551</td>\n",
       "      <td>1.152054</td>\n",
       "      <td>1.372436</td>\n",
       "      <td>1.219239</td>\n",
       "    </tr>\n",
       "    <tr>\n",
       "      <th>min</th>\n",
       "      <td>-2.410802</td>\n",
       "      <td>-1.060588</td>\n",
       "      <td>-0.765950</td>\n",
       "      <td>-0.972962</td>\n",
       "      <td>-1.121397</td>\n",
       "      <td>-1.402533</td>\n",
       "      <td>-5.000000</td>\n",
       "      <td>-4.350000</td>\n",
       "      <td>-4.500000</td>\n",
       "      <td>-5.000000</td>\n",
       "      <td>-1.571429</td>\n",
       "      <td>-1.187500</td>\n",
       "      <td>-1.571429</td>\n",
       "      <td>-1.125000</td>\n",
       "      <td>-1.642857</td>\n",
       "      <td>-1.12500</td>\n",
       "      <td>-0.618644</td>\n",
       "      <td>-0.601043</td>\n",
       "      <td>-0.808358</td>\n",
       "      <td>-0.804435</td>\n",
       "      <td>-0.723013</td>\n",
       "      <td>-0.601799</td>\n",
       "      <td>-0.520769</td>\n",
       "      <td>-0.707399</td>\n",
       "      <td>-0.721996</td>\n",
       "      <td>-0.690090</td>\n",
       "      <td>-0.942337</td>\n",
       "      <td>-2.023695</td>\n",
       "      <td>-1.957171</td>\n",
       "      <td>-1.989120</td>\n",
       "      <td>-2.008877</td>\n",
       "      <td>-1.918945</td>\n",
       "      <td>-1.821223</td>\n",
       "      <td>-1.900477</td>\n",
       "      <td>-1.907145</td>\n",
       "      <td>-1.908369</td>\n",
       "      <td>-1.903106</td>\n",
       "      <td>-1.951439</td>\n",
       "      <td>-2.033095</td>\n",
       "      <td>-1.852021</td>\n",
       "      <td>-1.780443</td>\n",
       "      <td>-1.806679</td>\n",
       "      <td>-1.826463</td>\n",
       "      <td>-1.795664</td>\n",
       "      <td>-1.715557</td>\n",
       "      <td>-1.673084</td>\n",
       "      <td>-1.649704</td>\n",
       "      <td>-1.709100</td>\n",
       "      <td>-1.756235</td>\n",
       "      <td>-1.824293</td>\n",
       "      <td>-1.903541</td>\n",
       "      <td>-2.015519</td>\n",
       "      <td>-1.967567</td>\n",
       "      <td>-1.973651</td>\n",
       "      <td>-1.981282</td>\n",
       "      <td>-1.889667</td>\n",
       "      <td>-1.813857</td>\n",
       "      <td>-1.844532</td>\n",
       "      <td>-1.822669</td>\n",
       "      <td>-1.843801</td>\n",
       "      <td>-1.879051</td>\n",
       "      <td>-2.005473</td>\n",
       "      <td>-2.090606</td>\n",
       "      <td>-0.991071</td>\n",
       "      <td>-2.000907</td>\n",
       "      <td>-0.930266</td>\n",
       "      <td>-3.608696</td>\n",
       "      <td>-1.087193</td>\n",
       "      <td>-2.643158</td>\n",
       "      <td>-1.096012</td>\n",
       "      <td>-1.353604</td>\n",
       "      <td>-1.648536</td>\n",
       "      <td>-1.686695</td>\n",
       "      <td>-1.558659</td>\n",
       "      <td>-1.554286</td>\n",
       "      <td>-1.505747</td>\n",
       "      <td>-1.567416</td>\n",
       "      <td>-1.010460</td>\n",
       "      <td>-2.235452</td>\n",
       "      <td>-0.896022</td>\n",
       "      <td>-2.268704</td>\n",
       "    </tr>\n",
       "    <tr>\n",
       "      <th>25%</th>\n",
       "      <td>-0.577290</td>\n",
       "      <td>-0.395384</td>\n",
       "      <td>-0.339515</td>\n",
       "      <td>-0.402146</td>\n",
       "      <td>-0.378558</td>\n",
       "      <td>-0.411970</td>\n",
       "      <td>-0.578947</td>\n",
       "      <td>-0.550000</td>\n",
       "      <td>-0.550000</td>\n",
       "      <td>-0.631579</td>\n",
       "      <td>-0.500000</td>\n",
       "      <td>-0.500000</td>\n",
       "      <td>-0.428571</td>\n",
       "      <td>-0.437500</td>\n",
       "      <td>-0.500000</td>\n",
       "      <td>-0.43750</td>\n",
       "      <td>-0.265254</td>\n",
       "      <td>-0.211213</td>\n",
       "      <td>-0.242388</td>\n",
       "      <td>-0.298387</td>\n",
       "      <td>-0.251046</td>\n",
       "      <td>-0.260016</td>\n",
       "      <td>-0.195908</td>\n",
       "      <td>-0.221973</td>\n",
       "      <td>-0.297352</td>\n",
       "      <td>-0.259459</td>\n",
       "      <td>-0.276176</td>\n",
       "      <td>-0.416767</td>\n",
       "      <td>-0.422700</td>\n",
       "      <td>-0.407481</td>\n",
       "      <td>-0.415336</td>\n",
       "      <td>-0.411431</td>\n",
       "      <td>-0.402455</td>\n",
       "      <td>-0.416781</td>\n",
       "      <td>-0.419326</td>\n",
       "      <td>-0.419232</td>\n",
       "      <td>-0.416343</td>\n",
       "      <td>-0.419818</td>\n",
       "      <td>-0.404933</td>\n",
       "      <td>-0.447464</td>\n",
       "      <td>-0.432215</td>\n",
       "      <td>-0.427471</td>\n",
       "      <td>-0.434838</td>\n",
       "      <td>-0.448370</td>\n",
       "      <td>-0.430266</td>\n",
       "      <td>-0.428384</td>\n",
       "      <td>-0.428745</td>\n",
       "      <td>-0.442005</td>\n",
       "      <td>-0.423054</td>\n",
       "      <td>-0.434005</td>\n",
       "      <td>-0.439196</td>\n",
       "      <td>-0.423583</td>\n",
       "      <td>-0.429946</td>\n",
       "      <td>-0.411408</td>\n",
       "      <td>-0.425690</td>\n",
       "      <td>-0.419684</td>\n",
       "      <td>-0.407276</td>\n",
       "      <td>-0.408140</td>\n",
       "      <td>-0.416173</td>\n",
       "      <td>-0.412531</td>\n",
       "      <td>-0.416865</td>\n",
       "      <td>-0.417331</td>\n",
       "      <td>-0.413775</td>\n",
       "      <td>-0.401786</td>\n",
       "      <td>-0.438294</td>\n",
       "      <td>-0.343638</td>\n",
       "      <td>-0.478261</td>\n",
       "      <td>-0.346049</td>\n",
       "      <td>-0.457895</td>\n",
       "      <td>-0.288035</td>\n",
       "      <td>-0.342342</td>\n",
       "      <td>-0.414226</td>\n",
       "      <td>-0.424893</td>\n",
       "      <td>-0.508380</td>\n",
       "      <td>-0.525714</td>\n",
       "      <td>-0.517241</td>\n",
       "      <td>-0.522472</td>\n",
       "      <td>-0.437238</td>\n",
       "      <td>-0.442256</td>\n",
       "      <td>-0.348918</td>\n",
       "      <td>-0.440464</td>\n",
       "    </tr>\n",
       "    <tr>\n",
       "      <th>50%</th>\n",
       "      <td>0.004197</td>\n",
       "      <td>0.011112</td>\n",
       "      <td>-0.002658</td>\n",
       "      <td>-0.005541</td>\n",
       "      <td>-0.007778</td>\n",
       "      <td>-0.006410</td>\n",
       "      <td>0.000000</td>\n",
       "      <td>-0.050000</td>\n",
       "      <td>0.000000</td>\n",
       "      <td>0.000000</td>\n",
       "      <td>0.000000</td>\n",
       "      <td>0.000000</td>\n",
       "      <td>0.000000</td>\n",
       "      <td>0.000000</td>\n",
       "      <td>0.000000</td>\n",
       "      <td>0.00000</td>\n",
       "      <td>-0.004237</td>\n",
       "      <td>-0.002608</td>\n",
       "      <td>-0.001194</td>\n",
       "      <td>-0.004032</td>\n",
       "      <td>-0.005021</td>\n",
       "      <td>-0.000818</td>\n",
       "      <td>0.000000</td>\n",
       "      <td>0.001121</td>\n",
       "      <td>0.000000</td>\n",
       "      <td>-0.001802</td>\n",
       "      <td>0.001517</td>\n",
       "      <td>0.003487</td>\n",
       "      <td>0.000921</td>\n",
       "      <td>-0.001732</td>\n",
       "      <td>0.000444</td>\n",
       "      <td>-0.002712</td>\n",
       "      <td>0.008302</td>\n",
       "      <td>0.000129</td>\n",
       "      <td>-0.000338</td>\n",
       "      <td>-0.000809</td>\n",
       "      <td>0.004788</td>\n",
       "      <td>-0.002303</td>\n",
       "      <td>0.000285</td>\n",
       "      <td>0.006292</td>\n",
       "      <td>0.005069</td>\n",
       "      <td>0.007332</td>\n",
       "      <td>0.009841</td>\n",
       "      <td>0.006856</td>\n",
       "      <td>0.009814</td>\n",
       "      <td>0.011384</td>\n",
       "      <td>0.011185</td>\n",
       "      <td>0.008521</td>\n",
       "      <td>0.006871</td>\n",
       "      <td>0.004335</td>\n",
       "      <td>0.008722</td>\n",
       "      <td>0.004813</td>\n",
       "      <td>0.009812</td>\n",
       "      <td>0.004870</td>\n",
       "      <td>0.001792</td>\n",
       "      <td>0.002926</td>\n",
       "      <td>0.006518</td>\n",
       "      <td>0.007332</td>\n",
       "      <td>0.001884</td>\n",
       "      <td>0.000913</td>\n",
       "      <td>-0.004283</td>\n",
       "      <td>-0.000349</td>\n",
       "      <td>0.002023</td>\n",
       "      <td>0.000000</td>\n",
       "      <td>-0.000907</td>\n",
       "      <td>-0.001438</td>\n",
       "      <td>0.000000</td>\n",
       "      <td>-0.010899</td>\n",
       "      <td>-0.002105</td>\n",
       "      <td>-0.004431</td>\n",
       "      <td>-0.002252</td>\n",
       "      <td>-0.008368</td>\n",
       "      <td>-0.008584</td>\n",
       "      <td>0.000000</td>\n",
       "      <td>-0.011429</td>\n",
       "      <td>-0.005747</td>\n",
       "      <td>0.000000</td>\n",
       "      <td>0.002092</td>\n",
       "      <td>-0.000895</td>\n",
       "      <td>-0.005583</td>\n",
       "      <td>0.002107</td>\n",
       "    </tr>\n",
       "    <tr>\n",
       "      <th>75%</th>\n",
       "      <td>0.426088</td>\n",
       "      <td>0.625015</td>\n",
       "      <td>0.687920</td>\n",
       "      <td>0.592724</td>\n",
       "      <td>0.632426</td>\n",
       "      <td>0.576781</td>\n",
       "      <td>0.473684</td>\n",
       "      <td>0.450000</td>\n",
       "      <td>0.450000</td>\n",
       "      <td>0.421053</td>\n",
       "      <td>0.500000</td>\n",
       "      <td>0.500000</td>\n",
       "      <td>0.571429</td>\n",
       "      <td>0.500000</td>\n",
       "      <td>0.500000</td>\n",
       "      <td>0.56250</td>\n",
       "      <td>0.722034</td>\n",
       "      <td>0.757497</td>\n",
       "      <td>0.741493</td>\n",
       "      <td>0.680444</td>\n",
       "      <td>0.717992</td>\n",
       "      <td>0.726901</td>\n",
       "      <td>0.757595</td>\n",
       "      <td>0.735426</td>\n",
       "      <td>0.679226</td>\n",
       "      <td>0.740541</td>\n",
       "      <td>0.705615</td>\n",
       "      <td>0.571218</td>\n",
       "      <td>0.571616</td>\n",
       "      <td>0.599738</td>\n",
       "      <td>0.582172</td>\n",
       "      <td>0.572012</td>\n",
       "      <td>0.596806</td>\n",
       "      <td>0.583273</td>\n",
       "      <td>0.584900</td>\n",
       "      <td>0.583002</td>\n",
       "      <td>0.593914</td>\n",
       "      <td>0.576830</td>\n",
       "      <td>0.587165</td>\n",
       "      <td>0.559110</td>\n",
       "      <td>0.566866</td>\n",
       "      <td>0.572939</td>\n",
       "      <td>0.568974</td>\n",
       "      <td>0.547979</td>\n",
       "      <td>0.561183</td>\n",
       "      <td>0.568396</td>\n",
       "      <td>0.568452</td>\n",
       "      <td>0.564680</td>\n",
       "      <td>0.584844</td>\n",
       "      <td>0.577147</td>\n",
       "      <td>0.561884</td>\n",
       "      <td>0.565131</td>\n",
       "      <td>0.552485</td>\n",
       "      <td>0.579603</td>\n",
       "      <td>0.571453</td>\n",
       "      <td>0.559445</td>\n",
       "      <td>0.585251</td>\n",
       "      <td>0.588926</td>\n",
       "      <td>0.571922</td>\n",
       "      <td>0.589103</td>\n",
       "      <td>0.587415</td>\n",
       "      <td>0.582763</td>\n",
       "      <td>0.573061</td>\n",
       "      <td>0.586310</td>\n",
       "      <td>0.556261</td>\n",
       "      <td>0.636952</td>\n",
       "      <td>0.478261</td>\n",
       "      <td>0.634877</td>\n",
       "      <td>0.518947</td>\n",
       "      <td>0.698671</td>\n",
       "      <td>0.639640</td>\n",
       "      <td>0.573222</td>\n",
       "      <td>0.570815</td>\n",
       "      <td>0.491620</td>\n",
       "      <td>0.480000</td>\n",
       "      <td>0.471264</td>\n",
       "      <td>0.483146</td>\n",
       "      <td>0.550209</td>\n",
       "      <td>0.543420</td>\n",
       "      <td>0.648988</td>\n",
       "      <td>0.550053</td>\n",
       "    </tr>\n",
       "    <tr>\n",
       "      <th>max</th>\n",
       "      <td>1.365791</td>\n",
       "      <td>9.553827</td>\n",
       "      <td>19.338918</td>\n",
       "      <td>2.210434</td>\n",
       "      <td>3.416676</td>\n",
       "      <td>3.359648</td>\n",
       "      <td>2.631579</td>\n",
       "      <td>2.350000</td>\n",
       "      <td>2.200000</td>\n",
       "      <td>2.526316</td>\n",
       "      <td>2.000000</td>\n",
       "      <td>1.812500</td>\n",
       "      <td>2.071429</td>\n",
       "      <td>1.812500</td>\n",
       "      <td>2.071429</td>\n",
       "      <td>1.87500</td>\n",
       "      <td>10.365254</td>\n",
       "      <td>14.131682</td>\n",
       "      <td>14.068060</td>\n",
       "      <td>12.468750</td>\n",
       "      <td>18.423431</td>\n",
       "      <td>9.246934</td>\n",
       "      <td>12.892746</td>\n",
       "      <td>12.395740</td>\n",
       "      <td>10.288187</td>\n",
       "      <td>17.102703</td>\n",
       "      <td>15.065250</td>\n",
       "      <td>2.426319</td>\n",
       "      <td>2.476453</td>\n",
       "      <td>2.635723</td>\n",
       "      <td>2.497369</td>\n",
       "      <td>2.254126</td>\n",
       "      <td>2.485048</td>\n",
       "      <td>2.479507</td>\n",
       "      <td>2.550164</td>\n",
       "      <td>2.484051</td>\n",
       "      <td>2.665705</td>\n",
       "      <td>3.536763</td>\n",
       "      <td>2.521583</td>\n",
       "      <td>3.843593</td>\n",
       "      <td>3.647299</td>\n",
       "      <td>3.496273</td>\n",
       "      <td>3.335014</td>\n",
       "      <td>3.072809</td>\n",
       "      <td>2.950176</td>\n",
       "      <td>2.928206</td>\n",
       "      <td>2.945551</td>\n",
       "      <td>3.028794</td>\n",
       "      <td>3.171283</td>\n",
       "      <td>3.533702</td>\n",
       "      <td>3.904628</td>\n",
       "      <td>2.518553</td>\n",
       "      <td>2.436989</td>\n",
       "      <td>2.416713</td>\n",
       "      <td>2.253057</td>\n",
       "      <td>2.145008</td>\n",
       "      <td>2.186819</td>\n",
       "      <td>2.298911</td>\n",
       "      <td>2.335143</td>\n",
       "      <td>2.339454</td>\n",
       "      <td>2.209928</td>\n",
       "      <td>2.375401</td>\n",
       "      <td>2.526595</td>\n",
       "      <td>5.458333</td>\n",
       "      <td>8.238657</td>\n",
       "      <td>13.200575</td>\n",
       "      <td>2.043478</td>\n",
       "      <td>24.694823</td>\n",
       "      <td>10.722105</td>\n",
       "      <td>17.833087</td>\n",
       "      <td>20.502252</td>\n",
       "      <td>2.138075</td>\n",
       "      <td>2.210300</td>\n",
       "      <td>2.581006</td>\n",
       "      <td>2.497143</td>\n",
       "      <td>2.500000</td>\n",
       "      <td>2.606742</td>\n",
       "      <td>6.230126</td>\n",
       "      <td>9.088630</td>\n",
       "      <td>13.613398</td>\n",
       "      <td>8.164384</td>\n",
       "    </tr>\n",
       "  </tbody>\n",
       "</table>\n",
       "</div>"
      ],
      "text/plain": [
       "       WORLDCLIM_BIO1_annual_mean_temperature  \\\n",
       "count                             9833.000000   \n",
       "mean                                -0.086919   \n",
       "std                                  0.695174   \n",
       "min                                 -2.410802   \n",
       "25%                                 -0.577290   \n",
       "50%                                  0.004197   \n",
       "75%                                  0.426088   \n",
       "max                                  1.365791   \n",
       "\n",
       "       WORLDCLIM_BIO12_annual_precipitation  \\\n",
       "count                           9833.000000   \n",
       "mean                               0.248975   \n",
       "std                                0.938861   \n",
       "min                               -1.060588   \n",
       "25%                               -0.395384   \n",
       "50%                                0.011112   \n",
       "75%                                0.625015   \n",
       "max                                9.553827   \n",
       "\n",
       "       WORLDCLIM_BIO13.BIO14_delta_precipitation_of_wettest_and_dryest_month  \\\n",
       "count                                        9833.000000                       \n",
       "mean                                            0.348720                       \n",
       "std                                             1.117547                       \n",
       "min                                            -0.765950                       \n",
       "25%                                            -0.339515                       \n",
       "50%                                            -0.002658                       \n",
       "75%                                             0.687920                       \n",
       "max                                            19.338918                       \n",
       "\n",
       "       WORLDCLIM_BIO15_precipitation_seasonality  \\\n",
       "count                                9833.000000   \n",
       "mean                                    0.123976   \n",
       "std                                     0.616512   \n",
       "min                                    -0.972962   \n",
       "25%                                    -0.402146   \n",
       "50%                                    -0.005541   \n",
       "75%                                     0.592724   \n",
       "max                                     2.210434   \n",
       "\n",
       "       WORLDCLIM_BIO4_temperature_seasonality  \\\n",
       "count                             9833.000000   \n",
       "mean                                 0.182074   \n",
       "std                                  0.804424   \n",
       "min                                 -1.121397   \n",
       "25%                                 -0.378558   \n",
       "50%                                 -0.007778   \n",
       "75%                                  0.632426   \n",
       "max                                  3.416676   \n",
       "\n",
       "       WORLDCLIM_BIO7_temperature_annual_range  \\\n",
       "count                              9833.000000   \n",
       "mean                                  0.134795   \n",
       "std                                   0.783010   \n",
       "min                                  -1.402533   \n",
       "25%                                  -0.411970   \n",
       "50%                                  -0.006410   \n",
       "75%                                   0.576781   \n",
       "max                                   3.359648   \n",
       "\n",
       "       SOIL_bdod_100.200cm_mean_0.01_deg  SOIL_bdod_15.30cm_mean_0.01_deg  \\\n",
       "count                        9833.000000                      9833.000000   \n",
       "mean                           -0.070268                        -0.075562   \n",
       "std                             0.786545                         0.796842   \n",
       "min                            -5.000000                        -4.350000   \n",
       "25%                            -0.578947                        -0.550000   \n",
       "50%                             0.000000                        -0.050000   \n",
       "75%                             0.473684                         0.450000   \n",
       "max                             2.631579                         2.350000   \n",
       "\n",
       "       SOIL_bdod_30.60cm_mean_0.01_deg  SOIL_bdod_60.100cm_mean_0.01_deg  \\\n",
       "count                      9833.000000                       9833.000000   \n",
       "mean                         -0.077647                         -0.092101   \n",
       "std                           0.773496                          0.791119   \n",
       "min                          -4.500000                         -5.000000   \n",
       "25%                          -0.550000                         -0.631579   \n",
       "50%                           0.000000                          0.000000   \n",
       "75%                           0.450000                          0.421053   \n",
       "max                           2.200000                          2.526316   \n",
       "\n",
       "       SOIL_phh2o_0.5cm_mean_0.01_deg  SOIL_phh2o_100.200cm_mean_0.01_deg  \\\n",
       "count                     9833.000000                         9833.000000   \n",
       "mean                         0.055462                            0.050995   \n",
       "std                          0.644380                            0.599946   \n",
       "min                         -1.571429                           -1.187500   \n",
       "25%                         -0.500000                           -0.500000   \n",
       "50%                          0.000000                            0.000000   \n",
       "75%                          0.500000                            0.500000   \n",
       "max                          2.000000                            1.812500   \n",
       "\n",
       "       SOIL_phh2o_15.30cm_mean_0.01_deg  SOIL_phh2o_30.60cm_mean_0.01_deg  \\\n",
       "count                       9833.000000                       9833.000000   \n",
       "mean                           0.106289                          0.093944   \n",
       "std                            0.663512                          0.595062   \n",
       "min                           -1.571429                         -1.125000   \n",
       "25%                           -0.428571                         -0.437500   \n",
       "50%                            0.000000                          0.000000   \n",
       "75%                            0.571429                          0.500000   \n",
       "max                            2.071429                          1.812500   \n",
       "\n",
       "       SOIL_phh2o_5.15cm_mean_0.01_deg  SOIL_phh2o_60.100cm_mean_0.01_deg  \\\n",
       "count                      9833.000000                         9833.00000   \n",
       "mean                          0.081511                            0.08127   \n",
       "std                           0.656262                            0.60223   \n",
       "min                          -1.642857                           -1.12500   \n",
       "25%                          -0.500000                           -0.43750   \n",
       "50%                           0.000000                            0.00000   \n",
       "75%                           0.500000                            0.56250   \n",
       "max                           2.071429                            1.87500   \n",
       "\n",
       "       MODIS_2000.2020_monthly_mean_surface_reflectance_band_01_._month_m1  \\\n",
       "count                                        9833.000000                     \n",
       "mean                                            0.580453                     \n",
       "std                                             1.465808                     \n",
       "min                                            -0.618644                     \n",
       "25%                                            -0.265254                     \n",
       "50%                                            -0.004237                     \n",
       "75%                                             0.722034                     \n",
       "max                                            10.365254                     \n",
       "\n",
       "       MODIS_2000.2020_monthly_mean_surface_reflectance_band_03_._month_m1  \\\n",
       "count                                        9833.000000                     \n",
       "mean                                            0.971647                     \n",
       "std                                             2.254910                     \n",
       "min                                            -0.601043                     \n",
       "25%                                            -0.211213                     \n",
       "50%                                            -0.002608                     \n",
       "75%                                             0.757497                     \n",
       "max                                            14.131682                     \n",
       "\n",
       "       MODIS_2000.2020_monthly_mean_surface_reflectance_band_04_._month_m1  \\\n",
       "count                                        9833.000000                     \n",
       "mean                                            0.823696                     \n",
       "std                                             2.033205                     \n",
       "min                                            -0.808358                     \n",
       "25%                                            -0.242388                     \n",
       "50%                                            -0.001194                     \n",
       "75%                                             0.741493                     \n",
       "max                                            14.068060                     \n",
       "\n",
       "       MODIS_2000.2020_monthly_mean_surface_reflectance_band_01_._month_m12  \\\n",
       "count                                        9833.000000                      \n",
       "mean                                            0.543853                      \n",
       "std                                             1.498924                      \n",
       "min                                            -0.804435                      \n",
       "25%                                            -0.298387                      \n",
       "50%                                            -0.004032                      \n",
       "75%                                             0.680444                      \n",
       "max                                            12.468750                      \n",
       "\n",
       "       MODIS_2000.2020_monthly_mean_surface_reflectance_band_03_._month_m12  \\\n",
       "count                                        9833.000000                      \n",
       "mean                                            0.982856                      \n",
       "std                                             2.472012                      \n",
       "min                                            -0.723013                      \n",
       "25%                                            -0.251046                      \n",
       "50%                                            -0.005021                      \n",
       "75%                                             0.717992                      \n",
       "max                                            18.423431                      \n",
       "\n",
       "       MODIS_2000.2020_monthly_mean_surface_reflectance_band_01_._month_m2  \\\n",
       "count                                        9833.000000                     \n",
       "mean                                            0.608298                     \n",
       "std                                             1.488612                     \n",
       "min                                            -0.601799                     \n",
       "25%                                            -0.260016                     \n",
       "50%                                            -0.000818                     \n",
       "75%                                             0.726901                     \n",
       "max                                             9.246934                     \n",
       "\n",
       "       MODIS_2000.2020_monthly_mean_surface_reflectance_band_03_._month_m2  \\\n",
       "count                                        9833.000000                     \n",
       "mean                                            0.978425                     \n",
       "std                                             2.241078                     \n",
       "min                                            -0.520769                     \n",
       "25%                                            -0.195908                     \n",
       "50%                                             0.000000                     \n",
       "75%                                             0.757595                     \n",
       "max                                            12.892746                     \n",
       "\n",
       "       MODIS_2000.2020_monthly_mean_surface_reflectance_band_04_._month_m2  \\\n",
       "count                                        9833.000000                     \n",
       "mean                                            0.837575                     \n",
       "std                                             2.007004                     \n",
       "min                                            -0.707399                     \n",
       "25%                                            -0.221973                     \n",
       "50%                                             0.001121                     \n",
       "75%                                             0.735426                     \n",
       "max                                            12.395740                     \n",
       "\n",
       "       MODIS_2000.2020_monthly_mean_surface_reflectance_band_01_._month_m3  \\\n",
       "count                                        9833.000000                     \n",
       "mean                                            0.616096                     \n",
       "std                                             1.651873                     \n",
       "min                                            -0.721996                     \n",
       "25%                                            -0.297352                     \n",
       "50%                                             0.000000                     \n",
       "75%                                             0.679226                     \n",
       "max                                            10.288187                     \n",
       "\n",
       "       MODIS_2000.2020_monthly_mean_surface_reflectance_band_03_._month_m3  \\\n",
       "count                                        9833.000000                     \n",
       "mean                                            1.109028                     \n",
       "std                                             2.849611                     \n",
       "min                                            -0.690090                     \n",
       "25%                                            -0.259459                     \n",
       "50%                                            -0.001802                     \n",
       "75%                                             0.740541                     \n",
       "max                                            17.102703                     \n",
       "\n",
       "       MODIS_2000.2020_monthly_mean_surface_reflectance_band_04_._month_m3  \\\n",
       "count                                        9833.000000                     \n",
       "mean                                            0.907688                     \n",
       "std                                             2.403795                     \n",
       "min                                            -0.942337                     \n",
       "25%                                            -0.276176                     \n",
       "50%                                             0.001517                     \n",
       "75%                                             0.705615                     \n",
       "max                                            15.065250                     \n",
       "\n",
       "       VOD_C_2002_2018_multiyear_mean_m01  VOD_C_2002_2018_multiyear_mean_m02  \\\n",
       "count                         9833.000000                         9833.000000   \n",
       "mean                             0.095349                            0.090771   \n",
       "std                              0.747681                            0.734481   \n",
       "min                             -2.023695                           -1.957171   \n",
       "25%                             -0.416767                           -0.422700   \n",
       "50%                              0.003487                            0.000921   \n",
       "75%                              0.571218                            0.571616   \n",
       "max                              2.426319                            2.476453   \n",
       "\n",
       "       VOD_C_2002_2018_multiyear_mean_m03  VOD_C_2002_2018_multiyear_mean_m04  \\\n",
       "count                         9833.000000                         9833.000000   \n",
       "mean                             0.098265                            0.079915   \n",
       "std                              0.726297                            0.733164   \n",
       "min                             -1.989120                           -2.008877   \n",
       "25%                             -0.407481                           -0.415336   \n",
       "50%                             -0.001732                            0.000444   \n",
       "75%                              0.599738                            0.582172   \n",
       "max                              2.635723                            2.497369   \n",
       "\n",
       "       VOD_C_2002_2018_multiyear_mean_m05  VOD_C_2002_2018_multiyear_mean_m06  \\\n",
       "count                         9833.000000                         9833.000000   \n",
       "mean                             0.082434                            0.097992   \n",
       "std                              0.714846                            0.704224   \n",
       "min                             -1.918945                           -1.821223   \n",
       "25%                             -0.411431                           -0.402455   \n",
       "50%                             -0.002712                            0.008302   \n",
       "75%                              0.572012                            0.596806   \n",
       "max                              2.254126                            2.485048   \n",
       "\n",
       "       VOD_C_2002_2018_multiyear_mean_m07  VOD_C_2002_2018_multiyear_mean_m08  \\\n",
       "count                         9833.000000                         9833.000000   \n",
       "mean                             0.101835                            0.101564   \n",
       "std                              0.730673                            0.742205   \n",
       "min                             -1.900477                           -1.907145   \n",
       "25%                             -0.416781                           -0.419326   \n",
       "50%                              0.000129                           -0.000338   \n",
       "75%                              0.583273                            0.584900   \n",
       "max                              2.479507                            2.550164   \n",
       "\n",
       "       VOD_C_2002_2018_multiyear_mean_m09  VOD_C_2002_2018_multiyear_mean_m10  \\\n",
       "count                         9833.000000                         9833.000000   \n",
       "mean                             0.098415                            0.095050   \n",
       "std                              0.741477                            0.737411   \n",
       "min                             -1.908369                           -1.903106   \n",
       "25%                             -0.419232                           -0.416343   \n",
       "50%                             -0.000809                            0.004788   \n",
       "75%                              0.583002                            0.593914   \n",
       "max                              2.484051                            2.665705   \n",
       "\n",
       "       VOD_C_2002_2018_multiyear_mean_m11  VOD_C_2002_2018_multiyear_mean_m12  \\\n",
       "count                         9833.000000                         9833.000000   \n",
       "mean                             0.091154                            0.094880   \n",
       "std                              0.736158                            0.756197   \n",
       "min                             -1.951439                           -2.033095   \n",
       "25%                             -0.419818                           -0.404933   \n",
       "50%                             -0.002303                            0.000285   \n",
       "75%                              0.576830                            0.587165   \n",
       "max                              3.536763                            2.521583   \n",
       "\n",
       "       VOD_Ku_1987_2017_multiyear_mean_m01  \\\n",
       "count                          9833.000000   \n",
       "mean                              0.097575   \n",
       "std                               0.743296   \n",
       "min                              -1.852021   \n",
       "25%                              -0.447464   \n",
       "50%                               0.006292   \n",
       "75%                               0.559110   \n",
       "max                               3.843593   \n",
       "\n",
       "       VOD_Ku_1987_2017_multiyear_mean_m02  \\\n",
       "count                          9833.000000   \n",
       "mean                              0.102948   \n",
       "std                               0.721315   \n",
       "min                              -1.780443   \n",
       "25%                              -0.432215   \n",
       "50%                               0.005069   \n",
       "75%                               0.566866   \n",
       "max                               3.647299   \n",
       "\n",
       "       VOD_Ku_1987_2017_multiyear_mean_m03  \\\n",
       "count                          9833.000000   \n",
       "mean                              0.099941   \n",
       "std                               0.713000   \n",
       "min                              -1.806679   \n",
       "25%                              -0.427471   \n",
       "50%                               0.007332   \n",
       "75%                               0.572939   \n",
       "max                               3.496273   \n",
       "\n",
       "       VOD_Ku_1987_2017_multiyear_mean_m04  \\\n",
       "count                          9833.000000   \n",
       "mean                              0.092739   \n",
       "std                               0.707636   \n",
       "min                              -1.826463   \n",
       "25%                              -0.434838   \n",
       "50%                               0.009841   \n",
       "75%                               0.568974   \n",
       "max                               3.335014   \n",
       "\n",
       "       VOD_Ku_1987_2017_multiyear_mean_m05  \\\n",
       "count                          9833.000000   \n",
       "mean                              0.084318   \n",
       "std                               0.687597   \n",
       "min                              -1.795664   \n",
       "25%                              -0.448370   \n",
       "50%                               0.006856   \n",
       "75%                               0.547979   \n",
       "max                               3.072809   \n",
       "\n",
       "       VOD_Ku_1987_2017_multiyear_mean_m06  \\\n",
       "count                          9833.000000   \n",
       "mean                              0.094684   \n",
       "std                               0.674604   \n",
       "min                              -1.715557   \n",
       "25%                              -0.430266   \n",
       "50%                               0.009814   \n",
       "75%                               0.561183   \n",
       "max                               2.950176   \n",
       "\n",
       "       VOD_Ku_1987_2017_multiyear_mean_m07  \\\n",
       "count                          9833.000000   \n",
       "mean                              0.094648   \n",
       "std                               0.669325   \n",
       "min                              -1.673084   \n",
       "25%                              -0.428384   \n",
       "50%                               0.011384   \n",
       "75%                               0.568396   \n",
       "max                               2.928206   \n",
       "\n",
       "       VOD_Ku_1987_2017_multiyear_mean_m08  \\\n",
       "count                          9833.000000   \n",
       "mean                              0.100190   \n",
       "std                               0.669158   \n",
       "min                              -1.649704   \n",
       "25%                              -0.428745   \n",
       "50%                               0.011185   \n",
       "75%                               0.568452   \n",
       "max                               2.945551   \n",
       "\n",
       "       VOD_Ku_1987_2017_multiyear_mean_m09  \\\n",
       "count                          9833.000000   \n",
       "mean                              0.095947   \n",
       "std                               0.688630   \n",
       "min                              -1.709100   \n",
       "25%                              -0.442005   \n",
       "50%                               0.008521   \n",
       "75%                               0.564680   \n",
       "max                               3.028794   \n",
       "\n",
       "       VOD_Ku_1987_2017_multiyear_mean_m10  \\\n",
       "count                          9833.000000   \n",
       "mean                              0.109184   \n",
       "std                               0.708239   \n",
       "min                              -1.756235   \n",
       "25%                              -0.423054   \n",
       "50%                               0.006871   \n",
       "75%                               0.584844   \n",
       "max                               3.171283   \n",
       "\n",
       "       VOD_Ku_1987_2017_multiyear_mean_m11  \\\n",
       "count                          9833.000000   \n",
       "mean                              0.102777   \n",
       "std                               0.725452   \n",
       "min                              -1.824293   \n",
       "25%                              -0.434005   \n",
       "50%                               0.004335   \n",
       "75%                               0.577147   \n",
       "max                               3.533702   \n",
       "\n",
       "       VOD_Ku_1987_2017_multiyear_mean_m12  \\\n",
       "count                          9833.000000   \n",
       "mean                              0.103112   \n",
       "std                               0.752491   \n",
       "min                              -1.903541   \n",
       "25%                              -0.439196   \n",
       "50%                               0.008722   \n",
       "75%                               0.561884   \n",
       "max                               3.904628   \n",
       "\n",
       "       VOD_X_1997_2018_multiyear_mean_m01  VOD_X_1997_2018_multiyear_mean_m02  \\\n",
       "count                         9833.000000                         9833.000000   \n",
       "mean                             0.088613                            0.077213   \n",
       "std                              0.731003                            0.714165   \n",
       "min                             -2.015519                           -1.967567   \n",
       "25%                             -0.423583                           -0.429946   \n",
       "50%                              0.004813                            0.009812   \n",
       "75%                              0.565131                            0.552485   \n",
       "max                              2.518553                            2.436989   \n",
       "\n",
       "       VOD_X_1997_2018_multiyear_mean_m03  VOD_X_1997_2018_multiyear_mean_m04  \\\n",
       "count                         9833.000000                         9833.000000   \n",
       "mean                             0.093229                            0.073764   \n",
       "std                              0.711472                            0.703232   \n",
       "min                             -1.973651                           -1.981282   \n",
       "25%                             -0.411408                           -0.425690   \n",
       "50%                              0.004870                            0.001792   \n",
       "75%                              0.579603                            0.571453   \n",
       "max                              2.416713                            2.253057   \n",
       "\n",
       "       VOD_X_1997_2018_multiyear_mean_m05  VOD_X_1997_2018_multiyear_mean_m06  \\\n",
       "count                         9833.000000                         9833.000000   \n",
       "mean                             0.077738                            0.095529   \n",
       "std                              0.686897                            0.684309   \n",
       "min                             -1.889667                           -1.813857   \n",
       "25%                             -0.419684                           -0.407276   \n",
       "50%                              0.002926                            0.006518   \n",
       "75%                              0.559445                            0.585251   \n",
       "max                              2.145008                            2.186819   \n",
       "\n",
       "       VOD_X_1997_2018_multiyear_mean_m07  VOD_X_1997_2018_multiyear_mean_m08  \\\n",
       "count                         9833.000000                         9833.000000   \n",
       "mean                             0.099554                            0.098401   \n",
       "std                              0.688732                            0.694353   \n",
       "min                             -1.844532                           -1.822669   \n",
       "25%                             -0.408140                           -0.416173   \n",
       "50%                              0.007332                            0.001884   \n",
       "75%                              0.588926                            0.571922   \n",
       "max                              2.298911                            2.335143   \n",
       "\n",
       "       VOD_X_1997_2018_multiyear_mean_m09  VOD_X_1997_2018_multiyear_mean_m10  \\\n",
       "count                         9833.000000                         9833.000000   \n",
       "mean                             0.101501                            0.094377   \n",
       "std                              0.704185                            0.710798   \n",
       "min                             -1.843801                           -1.879051   \n",
       "25%                             -0.412531                           -0.416865   \n",
       "50%                              0.000913                           -0.004283   \n",
       "75%                              0.589103                            0.587415   \n",
       "max                              2.339454                            2.209928   \n",
       "\n",
       "       VOD_X_1997_2018_multiyear_mean_m11  VOD_X_1997_2018_multiyear_mean_m12  \\\n",
       "count                         9833.000000                         9833.000000   \n",
       "mean                             0.091396                            0.089730   \n",
       "std                              0.733823                            0.750354   \n",
       "min                             -2.005473                           -2.090606   \n",
       "25%                             -0.417331                           -0.413775   \n",
       "50%                             -0.000349                            0.002023   \n",
       "75%                              0.582763                            0.573061   \n",
       "max                              2.375401                            2.526595   \n",
       "\n",
       "       SOIL_nitrogen_0.5cm_mean_0.01_deg  \\\n",
       "count                        9833.000000   \n",
       "mean                            0.181742   \n",
       "std                             0.816621   \n",
       "min                            -0.991071   \n",
       "25%                            -0.401786   \n",
       "50%                             0.000000   \n",
       "75%                             0.586310   \n",
       "max                             5.458333   \n",
       "\n",
       "       MODIS_2000.2020_monthly_mean_surface_reflectance_band_02_._month_m2  \\\n",
       "count                                        9833.000000                     \n",
       "mean                                            0.290585                     \n",
       "std                                             1.203565                     \n",
       "min                                            -2.000907                     \n",
       "25%                                            -0.438294                     \n",
       "50%                                            -0.000907                     \n",
       "75%                                             0.556261                     \n",
       "max                                             8.238657                     \n",
       "\n",
       "       MODIS_2000.2020_monthly_mean_surface_reflectance_band_01_._month_m4  \\\n",
       "count                                        9833.000000                     \n",
       "mean                                            0.559814                     \n",
       "std                                             1.796357                     \n",
       "min                                            -0.930266                     \n",
       "25%                                            -0.343638                     \n",
       "50%                                            -0.001438                     \n",
       "75%                                             0.636952                     \n",
       "max                                            13.200575                     \n",
       "\n",
       "       SOIL_bdod_5.15cm_mean_0.01_deg  \\\n",
       "count                     9833.000000   \n",
       "mean                        -0.023881   \n",
       "std                          0.722275   \n",
       "min                         -3.608696   \n",
       "25%                         -0.478261   \n",
       "50%                          0.000000   \n",
       "75%                          0.478261   \n",
       "max                          2.043478   \n",
       "\n",
       "       MODIS_2000.2020_monthly_mean_surface_reflectance_band_03_._month_m11  \\\n",
       "count                                        9833.000000                      \n",
       "mean                                            0.775546                      \n",
       "std                                             2.477524                      \n",
       "min                                            -1.087193                      \n",
       "25%                                            -0.346049                      \n",
       "50%                                            -0.010899                      \n",
       "75%                                             0.634877                      \n",
       "max                                            24.694823                      \n",
       "\n",
       "       MODIS_2000.2020_monthly_mean_surface_reflectance_band_02_._month_m12  \\\n",
       "count                                        9833.000000                      \n",
       "mean                                            0.211270                      \n",
       "std                                             1.190099                      \n",
       "min                                            -2.643158                      \n",
       "25%                                            -0.457895                      \n",
       "50%                                            -0.002105                      \n",
       "75%                                             0.518947                      \n",
       "max                                            10.722105                      \n",
       "\n",
       "       MODIS_2000.2020_monthly_mean_surface_reflectance_band_04_._month_m12  \\\n",
       "count                                        9833.000000                      \n",
       "mean                                            0.791411                      \n",
       "std                                             2.147828                      \n",
       "min                                            -1.096012                      \n",
       "25%                                            -0.288035                      \n",
       "50%                                            -0.004431                      \n",
       "75%                                             0.698671                      \n",
       "max                                            17.833087                      \n",
       "\n",
       "       MODIS_2000.2020_monthly_mean_surface_reflectance_band_04_._month_m4  \\\n",
       "count                                        9833.000000                     \n",
       "mean                                            0.796166                     \n",
       "std                                             2.690300                     \n",
       "min                                            -1.353604                     \n",
       "25%                                            -0.342342                     \n",
       "50%                                            -0.002252                     \n",
       "75%                                             0.639640                     \n",
       "max                                            20.502252                     \n",
       "\n",
       "       SOIL_sand_0.5cm_mean_0.01_deg  SOIL_sand_5.15cm_mean_0.01_deg  \\\n",
       "count                    9833.000000                     9833.000000   \n",
       "mean                        0.090900                        0.083039   \n",
       "std                         0.691486                        0.696680   \n",
       "min                        -1.648536                       -1.686695   \n",
       "25%                        -0.414226                       -0.424893   \n",
       "50%                        -0.008368                       -0.008584   \n",
       "75%                         0.573222                        0.570815   \n",
       "max                         2.138075                        2.210300   \n",
       "\n",
       "       SOIL_silt_0.5cm_mean_0.01_deg  SOIL_silt_15.30cm_mean_0.01_deg  \\\n",
       "count                    9833.000000                      9833.000000   \n",
       "mean                       -0.016026                        -0.023586   \n",
       "std                         0.655162                         0.651968   \n",
       "min                        -1.558659                        -1.554286   \n",
       "25%                        -0.508380                        -0.525714   \n",
       "50%                         0.000000                        -0.011429   \n",
       "75%                         0.491620                         0.480000   \n",
       "max                         2.581006                         2.497143   \n",
       "\n",
       "       SOIL_silt_30.60cm_mean_0.01_deg  SOIL_silt_5.15cm_mean_0.01_deg  \\\n",
       "count                      9833.000000                     9833.000000   \n",
       "mean                         -0.019345                       -0.020212   \n",
       "std                           0.640016                        0.657966   \n",
       "min                          -1.505747                       -1.567416   \n",
       "25%                          -0.517241                       -0.522472   \n",
       "50%                          -0.005747                        0.000000   \n",
       "75%                           0.471264                        0.483146   \n",
       "max                           2.500000                        2.606742   \n",
       "\n",
       "       SOIL_soc_0.5cm_mean_0.01_deg  \\\n",
       "count                   9833.000000   \n",
       "mean                       0.178756   \n",
       "std                        0.872551   \n",
       "min                       -1.010460   \n",
       "25%                       -0.437238   \n",
       "50%                        0.002092   \n",
       "75%                        0.550209   \n",
       "max                        6.230126   \n",
       "\n",
       "       MODIS_2000.2020_monthly_mean_surface_reflectance_band_02_._month_m1  \\\n",
       "count                                        9833.000000                     \n",
       "mean                                            0.249361                     \n",
       "std                                             1.152054                     \n",
       "min                                            -2.235452                     \n",
       "25%                                            -0.442256                     \n",
       "50%                                            -0.000895                     \n",
       "75%                                             0.543420                     \n",
       "max                                             9.088630                     \n",
       "\n",
       "       MODIS_2000.2020_monthly_mean_surface_reflectance_band_01_._month_m11  \\\n",
       "count                                        9833.000000                      \n",
       "mean                                            0.429935                      \n",
       "std                                             1.372436                      \n",
       "min                                            -0.896022                      \n",
       "25%                                            -0.348918                      \n",
       "50%                                            -0.005583                      \n",
       "75%                                             0.648988                      \n",
       "max                                            13.613398                      \n",
       "\n",
       "       MODIS_2000.2020_monthly_mean_surface_reflectance_band_02_._month_m3  \n",
       "count                                        9833.000000                    \n",
       "mean                                            0.267261                    \n",
       "std                                             1.219239                    \n",
       "min                                            -2.268704                    \n",
       "25%                                            -0.440464                    \n",
       "50%                                             0.002107                    \n",
       "75%                                             0.550053                    \n",
       "max                                             8.164384                    "
      ]
     },
     "execution_count": 27,
     "metadata": {},
     "output_type": "execute_result"
    }
   ],
   "source": [
    "valid_df[FEATURE_COLS].describe()"
   ]
  },
  {
   "cell_type": "code",
   "execution_count": 28,
   "metadata": {},
   "outputs": [],
   "source": [
    "X_train_tab = train_df[FEATURE_COLS].values\n",
    "X_train_feat = np.stack(train_df['features'].values)\n",
    "# y_train = train_df[mean_columns].values\n",
    "y_train = train_df[mean_columns]\n",
    "\n",
    "X_valid_tab = valid_df[FEATURE_COLS].values \n",
    "X_valid_feat = np.stack(valid_df['features'].values)\n",
    "# y_valid = valid_df[mean_columns].values\n",
    "y_valid = valid_df[mean_columns]\n",
    "\n"
   ]
  },
  {
   "cell_type": "code",
   "execution_count": 29,
   "metadata": {},
   "outputs": [
    {
     "name": "stdout",
     "output_type": "stream",
     "text": [
      "(39335, 81)\n"
     ]
    }
   ],
   "source": [
    "print(X_train_tab.shape)"
   ]
  },
  {
   "cell_type": "code",
   "execution_count": 30,
   "metadata": {},
   "outputs": [],
   "source": [
    "# import numpy as np\n",
    "# import tensorflow as tf\n",
    "# from tensorflow.keras.layers import Input, Dense, Concatenate, Dropout\n",
    "# from tensorflow.keras.models import Model\n",
    "# from tensorflow.keras.optimizers import Adam\n",
    "# from optuna.integration import TFKerasPruningCallback\n",
    "# import optuna\n",
    "# from keras import regularizers, layers, optimizers, initializers\n",
    "# from keras.callbacks import EarlyStopping, ReduceLROnPlateau, TerminateOnNaN\n",
    "# from datetime import timedelta\n",
    "# import time\n",
    "# import os\n",
    "# from sklearn.preprocessing import StandardScaler, MinMaxScaler,  RobustScaler, PowerTransformer, QuantileTransformer\n",
    "\n",
    "# # os.environ['TF_GPU_ALLOCATOR'] = 'cuda_malloc_async'\n",
    "\n",
    "\n",
    "\n",
    "# def r2_score(y_true, y_pred):\n",
    "#     ss_res = tf.reduce_sum(tf.square(y_true - y_pred), axis=0)\n",
    "#     ss_tot = tf.reduce_sum(tf.square(y_true - tf.reduce_mean(y_true, axis=0)), axis=0)\n",
    "#     r2 = 1 - ss_res/(ss_tot + tf.keras.backend.epsilon())\n",
    "#     r2 = tf.where(tf.math.is_nan(r2), tf.zeros_like(r2), r2)  # Korvaa NaN-arvot nollilla\n",
    "#     return tf.reduce_mean(tf.maximum(r2, 0.0))\n",
    "\n",
    "\n",
    "# def huber_loss_wrapper(delta):\n",
    "#     def huber_loss(y_true, y_pred):\n",
    "#         return tf.keras.losses.Huber(delta=delta)(y_true, y_pred)\n",
    "#     return huber_loss\n",
    "\n",
    "\n",
    "# global current_delta\n",
    "# def create_model(trial):\n",
    "\n",
    "#     image_features_input = Input(shape=(X_train_feat.shape[1],), name='image_features_input')\n",
    "#     tabular_data_input = Input(shape=(X_train_tab.shape[1],), name='tabular_data_input')\n",
    "\n",
    "#     img_num_layers = trial.suggest_int('Imgage layers', 1, 2)\n",
    "#     max_img_units = 2000\n",
    "#     img_dense = image_features_input\n",
    "\n",
    "#     image_init = trial.suggest_categorical(f'Img_init', choices = ['glorot_uniform', 'he_normal', 'he_uniform', 'lecun_normal', 'lecun_uniform',  'random_normal', 'random_uniform'])\n",
    "#     activation_img = trial.suggest_categorical(f'Act_img', choices = ['relu', 'tanh', 'selu', 'LeakyReLU', 'swish', 'elu'])\n",
    "#     drop_img = trial.suggest_float(f'Drop_img', 0.0, 0.9, step=0.1)\n",
    "#     batch_norm_img = trial.suggest_categorical(f'Img_BatchN', choices = ['On', 'Off'])\n",
    "#     for i in range(img_num_layers):\n",
    "\n",
    "#         num_img_units = trial.suggest_int(f'Num_img_{i}', 128, max_img_units, log = True)\n",
    "#         img_dense = Dense(num_img_units, activation=activation_img, kernel_initializer = image_init)(img_dense)\n",
    "#         if batch_norm_img == 'On':\n",
    "#             img_dense = layers.BatchNormalization()(img_dense)\n",
    "#         img_dense = Dropout(drop_img)(img_dense)\n",
    "#         max_img_units = min(max_img_units, num_img_units)\n",
    "\n",
    "\n",
    "#     tab_num_layers = trial.suggest_int('Tabular layers', 1, 2)\n",
    "#     max_tab_units = 1000\n",
    "#     tab_dense = tabular_data_input\n",
    "#     tab_init = trial.suggest_categorical(f'Tab_init', choices = ['glorot_uniform', 'he_normal', 'he_uniform', 'lecun_normal', 'lecun_uniform',  'random_normal', 'random_uniform'])\n",
    "#     activation_tab = trial.suggest_categorical(f'Act_tab', choices = ['relu', 'tanh', 'selu', 'LeakyReLU', 'swish', 'elu'])\n",
    "#     drop_tab = trial.suggest_float(f'Drop_tab', 0.0, 0.9, step = 0.1)\n",
    "#     batch_norm_tab = trial.suggest_categorical(f'Tab_BatchN', choices = ['On', 'Off'])\n",
    "#     for i in range(tab_num_layers):\n",
    "\n",
    "#         num_tab_units = trial.suggest_int(f'Num_tab_{i}', 64, max_tab_units, log = True)\n",
    "#         tab_dense = Dense(num_tab_units, activation=activation_tab, kernel_initializer = tab_init)(tab_dense)\n",
    "#         if batch_norm_tab == 'On':\n",
    "#             tab_dense = layers.BatchNormalization()(tab_dense)\n",
    "#         tab_dense = Dropout(drop_tab)(tab_dense)\n",
    "\n",
    "#         max_tab_units = min(max_tab_units, num_tab_units)\n",
    "\n",
    "\n",
    "#     concatenated = Concatenate()([img_dense, tab_dense])\n",
    "#     com_num_layers = trial.suggest_int('Concat layers', 1, 2)\n",
    "#     max_com_units = 3000\n",
    "#     con_init = trial.suggest_categorical(f'Con_init', choices = ['glorot_uniform', 'he_normal', 'he_uniform', 'lecun_normal', 'lecun_uniform', 'random_normal', 'random_uniform'])\n",
    "#     activation_common = trial.suggest_categorical(f'Act_con',  choices = ['relu', 'tanh', 'selu', 'LeakyReLU', 'swish', 'elu'])\n",
    "#     drop_common = trial.suggest_float(f'Drop_con', 0.0, 0.9, step = 0.1)\n",
    "#     batch_norm_common = trial.suggest_categorical(f'Com_BatchN', ['On', 'Off'])\n",
    "#     for i in range(com_num_layers):\n",
    "\n",
    "#         num_common_units = trial.suggest_int(f'Num_con_{i}', 128, max_com_units, log = True)\n",
    "#         concatenated = Dense(num_common_units, activation=activation_common, kernel_initializer = con_init)(concatenated)\n",
    "#         if batch_norm_common == 'On':\n",
    "#             concatenated = layers.BatchNormalization()(concatenated)\n",
    "#         concatenated = Dropout(drop_common)(concatenated)\n",
    "\n",
    "#         max_com_units = min(max_com_units, num_common_units)\n",
    "\n",
    "#     output = Dense(6, activation='linear')(concatenated)\n",
    "#     model = Model(inputs=[image_features_input, tabular_data_input], outputs=output)\n",
    "\n",
    "\n",
    "#     # optimizer_options = ['adam', 'rmsprop', 'Nadam', 'adamax']\n",
    "#     # optimizer_selected = trial.suggest_categorical('optimizer', optimizer_options)\n",
    "\n",
    "#     # if optimizer_selected == 'adam':\n",
    "#     #     optimizer = optimizers.Adam()\n",
    "#     # elif optimizer_selected == 'rmsprop':\n",
    "#     #     optimizer = optimizers.RMSprop()\n",
    "#     # elif optimizer_selected == 'Nadam':\n",
    "#     #     optimizer = optimizers.Nadam()\n",
    "#     # else:\n",
    "#     #     optimizer = optimizers.Adamax()\n",
    "\n",
    "#     # delta = trial.suggest_float('delta', 0.0, 2.5)\n",
    "#     # global current_delta\n",
    "#     # current_delta = delta\n",
    "\n",
    "#     model.compile(optimizer=optimizers.Nadam(), loss='mse', metrics=['mse','mae', r2_score])\n",
    "#     # model.compile(optimizer=optimizers.Adam(), loss=huber_loss_wrapper(delta), metrics=['mse','mae', r2_score])\n",
    "#     # model.compile(optimizer= optimizers.Adam(), loss='mse', metrics=['mse','mae', r2_score])\n",
    "#     return model\n",
    "\n",
    "\n",
    "\n",
    "# def objective(trial):\n",
    "\n",
    "#     model = create_model(trial)\n",
    "\n",
    "#     y_train_transformed = y_train.copy()\n",
    "#     y_valid_transformed = y_valid.copy()\n",
    "\n",
    "\n",
    "#     log_base_options = {'none': None, 'log2': 2, 'log10': 10, 'sqrt': 'sqrt', 'cbrt': 'cbrt'}\n",
    "#     log_transforms = {'X11_mean': None, 'X18_mean': 2, 'X26_mean': 2, 'X50_mean': 'cbrt', 'X4_mean': 2, 'X3112_mean': 10}\n",
    "#     # for target in mean_columns:        \n",
    "#         # log_transforms[target] = log_base_options[log_base]\n",
    "    \n",
    "\n",
    "#     model_checkpoint_callback = tf.keras.callbacks.ModelCheckpoint(\n",
    "#             filepath=f\"./NN_search/{study_name}_search_model.h5\",\n",
    "#             monitor='val_r2_score',\n",
    "#             mode='max',\n",
    "#             save_best_only=True,\n",
    "#             save_weights_only=True,\n",
    "#             verbose=0)\n",
    "\n",
    "\n",
    "#     callbacks = [\n",
    "#                  ReduceLROnPlateau('val_r2_score', patience=2, factor=0.7, mode = 'max'),\n",
    "#                  TerminateOnNaN(),\n",
    "#                  model_checkpoint_callback,\n",
    "#                  EarlyStopping(monitor='val_r2_score', patience=8, mode='max', verbose = 1)\n",
    "#                  ]\n",
    "\n",
    "#     for target, log_base in log_transforms.items():\n",
    "#         if log_base is not None and log_base != 'sqrt' and log_base != 'cbrt':\n",
    "#             y_train_transformed[target] = np.log(y_train[target]) / np.log(log_base)\n",
    "#             y_valid_transformed[target] = np.log(y_valid[target]) / np.log(log_base)\n",
    "\n",
    "#         elif log_base == 'sqrt':\n",
    "#             y_train_transformed[target] = np.sqrt(y_train[target])\n",
    "#             y_valid_transformed[target] = np.sqrt(y_valid[target])\n",
    "\n",
    "#         elif log_base == 'cbrt':\n",
    "#             y_train_transformed[target] = np.cbrt(y_train[target])\n",
    "#             y_valid_transformed[target] = np.cbrt(y_valid[target])\n",
    "\n",
    "#         else:\n",
    "#             y_train_transformed[target] = y_train[target]\n",
    "#             y_valid_transformed[target] = y_valid[target]\n",
    "\n",
    "#     scaler_base_options = {'Std': StandardScaler(), 'Minmax': MinMaxScaler(), 'None': None, 'Robust': RobustScaler(), 'Power': PowerTransformer(), 'Quantile': QuantileTransformer()}\n",
    "#     scaler_transforms = {'X11_mean': PowerTransformer(), 'X18_mean': StandardScaler(), 'X26_mean':  PowerTransformer(), 'X50_mean': StandardScaler(), 'X4_mean': None, 'X3112_mean': PowerTransformer()}\n",
    "    \n",
    "#     for target, scaler in scaler_transforms.items():\n",
    "#         if scaler is not None:\n",
    "#             y_train_transformed[target] = scaler.fit_transform(y_train_transformed[target].values.reshape(-1, 1)).flatten()\n",
    "#             y_valid_transformed[target] = scaler.transform(y_valid_transformed[target].values.reshape(-1, 1)).flatten()\n",
    "\n",
    "#     # minmax_scaler = MinMaxScaler()\n",
    "#     # y_train_transformed = minmax_scaler.fit_transform(y_train_transformed)\n",
    "#     # y_valid_transformed = minmax_scaler.transform(y_valid_transformed)\n",
    "\n",
    "#     history = model.fit([X_train_feat, X_train_tab], y_train_transformed, validation_data=([X_valid_feat, X_valid_tab], y_valid_transformed), batch_size=256, epochs=50, callbacks=callbacks, verbose = 0)\n",
    "\n",
    "#     best_epoch = history.history['val_r2_score'].index(max(history.history['val_r2_score'])) + 1\n",
    "\n",
    "#     model.load_weights(f'./NN_search/{study_name}_search_model.h5')\n",
    "\n",
    "#     preds = model.predict([X_valid_feat, X_valid_tab], verbose = 0)\n",
    "#     import warnings\n",
    "#     try: \n",
    "#         warnings.filterwarnings('error')\n",
    "#         preds_transformed = preds.copy()\n",
    "\n",
    "#         for i, target in enumerate(mean_columns):\n",
    "#             scaler = scaler_transforms[target]\n",
    "#             if scaler is not None:\n",
    "#                 preds_transformed[:, i] = scaler.inverse_transform(preds_transformed[:, i].reshape(-1, 1)).flatten()\n",
    "#                 y_valid_transformed[target] = scaler.inverse_transform(y_valid_transformed[target].values.reshape(-1, 1)).flatten()\n",
    "\n",
    "#         # preds_transformed = minmax_scaler.inverse_transform(preds_transformed)\n",
    "#         # y_valid_transformed = minmax_scaler.inverse_transform(y_valid_transformed)\n",
    "\n",
    "#         for i, target in enumerate(mean_columns):\n",
    "#             log_base = log_transforms[target]\n",
    "#             if log_base is not None and log_base != 'sqrt' and log_base != 'cbrt':\n",
    "#                 preds_transformed[:, i] = np.power(log_base, preds_transformed[:, i])\n",
    "#                 y_valid_transformed[target] = np.power(log_base, y_valid_transformed[target])\n",
    "#             elif log_base == 'sqrt':   \n",
    "#                 preds_transformed[:, i] = np.square(preds_transformed[:, i])\n",
    "#                 y_valid_transformed[target] = np.square(y_valid_transformed[target])\n",
    "#             elif log_base == 'cbrt':\n",
    "#                 preds_transformed[:, i] = np.power(preds_transformed[:, i], 3)\n",
    "#                 y_valid_transformed[target] = np.power(y_valid_transformed[target], 3)\n",
    "        \n",
    "#         r2_score_inv = r2_score(y_valid_transformed, preds_transformed)\n",
    "\n",
    "#     except RuntimeWarning as e:\n",
    "#         # Jos ylivuodon varoitus tapahtuu, logataan varoitus ja palautetaan erityinen arvo\n",
    "#         print(f\"Overflow detected: {e}\")\n",
    "#         r2_score_inv = 0.0\n",
    "\n",
    "#     finally:\n",
    "#         # Palauttaa varoitusten oletuskäsittelyn\n",
    "#         warnings.filterwarnings('default')\n",
    "    \n",
    "#     if trial.number > 0:\n",
    "#         if r2_score_inv > study.best_value:\n",
    "\n",
    "#             print(\"*\" * 50)\n",
    "#             print(f'Old best R2 : {study.best_value:.5f}')\n",
    "#             print(f'New best R2 : {r2_score_inv:.5f}')\n",
    "\n",
    "#             r2 = r2_score(y_valid_transformed, preds_transformed)\n",
    "#             mse  = tf.keras.losses.MeanSquaredError()(y_valid_transformed, preds_transformed)\n",
    "#             mae = tf.keras.losses.MeanAbsoluteError()(y_valid_transformed, preds_transformed)\n",
    "#             # huberloss = tf.keras.losses.Huber(delta=current_delta)(y_valid_transformed, preds_transformed)\n",
    "#             print(f'Best epoch power errors R2 : {r2:.5f}, MSE : {mse:.5f}, MAE : {mae:.5f}')\n",
    "\n",
    "\n",
    "#             # model.load_weights(f'./data/{study_name}_search_model.h5')\n",
    "\n",
    "#             # preds = model.predict([X_valid_feat, X_valid_tab])\n",
    "#             # preds_2 = np.square(preds)\n",
    "#             # # y_valid_2 = np.square(y_valid)\n",
    "#             # preds = model.predict([X_valid_feat, X_valid_tab], verbose = 0)\n",
    "\n",
    "#             # r2 = r2_score(y_valid_transformed, preds)\n",
    "#             # mse  = tf.keras.losses.MeanSquaredError()(y_valid, preds)\n",
    "#             # mae = tf.keras.losses.MeanAbsoluteError()(y_valid, preds)\n",
    "#             # huberloss = tf.keras.losses.Huber(delta=current_delta)(y_valid_2, preds_2)\n",
    "#             # # print(f'Best epoch raw R2 : {r2:.5f}, MSE : {mse:.5f}, MAE : {mae:.5f}')\n",
    "#             # print(f'Best epoch raw errors : {r2:.5f}, MSE : {mse:.5f}, MAE : {mae:.5f}, huber_loss : {huberloss:.5f}')\n",
    "\n",
    "#             # preds_inv = scaler_minmax.inverse_transform(preds)\n",
    "#             # y_valid_inv = scaler_minmax.inverse_transform(y_valid)\n",
    "#             # r2 = r2_score(y_valid_inv, preds_inv)\n",
    "#             # mse  = tf.keras.losses.MeanSquaredError()(y_valid_inv, preds_inv)\n",
    "#             # mae = tf.keras.losses.MeanAbsoluteError()(y_valid_inv, preds_inv)\n",
    "#             # huberloss = tf.keras.losses.Huber(delta=current_delta)(y_valid_2, preds_2)\n",
    "#             # print(f'Best epoch minmax.inv R2 : {r2:.5f}, MSE : {mse:.5f}, MAE : {mae:.5f}')\n",
    "#             # print(f'Best epoch raw R2 : {r2:.5f}, MSE : {mse:.5f}, MAE : {mae:.5f}, huber_loss : {huberloss:.5f}')\n",
    "\n",
    "#             # preds = model.predict([X_valid_feat, X_valid_tab])\n",
    "#             # r2 = r2_score(y_valid, preds)\n",
    "#             # mse  = tf.keras.losses.MeanSquaredError()(y_valid, preds)\n",
    "#             # mae = tf.keras.losses.MeanAbsoluteError()(y_valid, preds)\n",
    "#             # huberloss = tf.keras.losses.Huber(delta=current_delta)(y_valid, preds)\n",
    "#             # print(f'Best epoch raw R2 : {r2:.5f}, MSE : {mse:.5f}, MAE : {mae:.5f}, huber_loss : {huberloss:.5f}')\n",
    "#             print(f'Best epoch : {best_epoch}')\n",
    "\n",
    "#             best_filename = f'./NN_search/{study_name}_best_val_{r2_score_inv:.5f}_model.h5'\n",
    "#             if os.path.exists(best_filename):\n",
    "#                 os.remove(best_filename)\n",
    "\n",
    "#             print(f'Saving model to {best_filename}')\n",
    "#             model.save(best_filename)\n",
    "    \n",
    "#             best_log_transforms_name = f'./NN_search/{study_name}_{r2_score_inv:.5f}_best_log_transforms.pickle'\n",
    "#             print(f'Saving log transforms to {best_log_transforms_name}')\n",
    "#             with open(best_log_transforms_name, 'wb') as f:\n",
    "#                 pickle.dump(log_transforms, f)\n",
    "\n",
    "#             best_minmax = f'./NN_search/{study_name}_{r2_score_inv:.5f}_best_scalers.pickle'\n",
    "#             print(f'Saving scalers to {best_minmax}')\n",
    "#             with open(best_minmax, 'wb') as f:\n",
    "#                 pickle.dump(scaler_transforms, f)\n",
    "\n",
    "#             print(\"*\" * 50)\n",
    "\n",
    "#     if os.path.exists(f'./NN_search/{study_name}_search_model.h5'):\n",
    "#         os.remove(f'./NN_search/{study_name}_search_model.h5')\n",
    "\n",
    "#     tf.keras.backend.clear_session()\n",
    "#     gc.collect()\n",
    "\n",
    "#     return r2_score_inv\n",
    "\n",
    "\n",
    "# study_name = '410_yota_haetuillalogjututkivaahaetpaikkoihinonmukavaelama_fold_3'\n",
    "# num_random_trials = 10\n",
    "# num_tpe_trial = 5\n",
    "# search_time_max = 3600 * 18\n",
    "\n",
    "# study = optuna.create_study(direction='maximize',\n",
    "#                             study_name=study_name,\n",
    "#                             storage=f'sqlite:///409_logpolselect.db',\n",
    "#                             load_if_exists=True\n",
    "#                             )\n",
    "\n",
    "# search_time_taken = 0\n",
    "# search_start = time.time()\n",
    "# round = 0\n",
    "# trials_done = 0\n",
    "\n",
    "# while search_time_taken < search_time_max:\n",
    "\n",
    "#     round_start = time.time()\n",
    "\n",
    "#     print('-' * 50)\n",
    "#     print(f'Starting study with {num_random_trials} random trials, round {round}')\n",
    "#     print(f'Search time so far taken : {timedelta(seconds=search_time_taken)}')\n",
    "#     print('-' * 50)\n",
    "#     study.sampler = optuna.samplers.QMCSampler(warn_independent_sampling = False)\n",
    "#     study.optimize(objective, n_trials=num_random_trials)\n",
    "#     print(f'Time taken for random trials: {timedelta(seconds= (time.time() - round_start))}')\n",
    "#     print(f'Starting TPE {num_tpe_trial} trials...')\n",
    "#     study.sampler = optuna.samplers.TPESampler(n_startup_trials=0, multivariate=True, warn_independent_sampling = False)\n",
    "#     study.optimize(objective, n_trials=num_tpe_trial)\n",
    "#     print(f'Time taken for one trial this round: {timedelta(seconds= (time.time() - round_start) / (num_random_trials + num_tpe_trial))}')\n",
    "#     print(f'Time this round: {timedelta(seconds= time.time() - round_start)}')\n",
    "\n",
    "#     print('-' * 50)\n",
    "#     trials_done += num_random_trials + num_tpe_trial\n",
    "#     print(f'Trials done so far: {trials_done}')\n",
    "#     search_time_taken = time.time() - search_start\n",
    "#     print(f'Time taken for one trials all rounds: {timedelta(seconds= search_time_taken / trials_done)}')\n",
    "#     round += 1\n",
    "\n",
    "# print(f'Search time total : {timedelta(seconds=time.time() - search_start)}')\n",
    "\n",
    "\n",
    "\n",
    "\n"
   ]
  },
  {
   "cell_type": "code",
   "execution_count": 33,
   "metadata": {},
   "outputs": [
    {
     "name": "stderr",
     "output_type": "stream",
     "text": [
      "[I 2024-04-14 03:14:43,304] Using an existing study with name '413_testiyo_3' instead of creating a new one.\n",
      "/tmp/ipykernel_9111/3829321696.py:460: ExperimentalWarning:\n",
      "\n",
      "NSGAIIISampler is experimental (supported from v3.2.0). The interface can change in the future.\n",
      "\n",
      "/tmp/ipykernel_9111/3829321696.py:461: ExperimentalWarning:\n",
      "\n",
      "QMCSampler is experimental (supported from v3.0.0). The interface can change in the future.\n",
      "\n",
      "/home/tobias/miniconda3/envs/tf/lib/python3.9/site-packages/optuna/samplers/_tpe/sampler.py:319: ExperimentalWarning:\n",
      "\n",
      "``multivariate`` option is an experimental feature. The interface can change in the future.\n",
      "\n"
     ]
    },
    {
     "name": "stdout",
     "output_type": "stream",
     "text": [
      "--------------------------------------------------\n",
      "Starting study with 1 random trials, round 0\n",
      "Search time so far taken : 0:00:00\n",
      "--------------------------------------------------\n",
      "Trial 521 pruned at epoch 1 with R2 -474.41703\n"
     ]
    },
    {
     "name": "stderr",
     "output_type": "stream",
     "text": [
      "[I 2024-04-14 03:15:04,212] Trial 521 pruned. \n"
     ]
    },
    {
     "name": "stdout",
     "output_type": "stream",
     "text": [
      "Time taken for random trials: 0:00:20.902796\n",
      "Time for one random trial: 0:00:20.902915\n"
     ]
    },
    {
     "data": {
      "application/vnd.plotly.v1+json": {
       "config": {
        "plotlyServerURL": "https://plot.ly"
       },
       "data": [
        {
         "marker": {
          "maxdisplayed": 10
         },
         "mode": "lines+markers",
         "name": "Trial521",
         "type": "scatter",
         "x": [
          0,
          1
         ],
         "y": [
          -503.67843958602674,
          -474.4170262690529
         ]
        }
       ],
       "layout": {
        "showlegend": false,
        "template": {
         "data": {
          "bar": [
           {
            "error_x": {
             "color": "#2a3f5f"
            },
            "error_y": {
             "color": "#2a3f5f"
            },
            "marker": {
             "line": {
              "color": "#E5ECF6",
              "width": 0.5
             },
             "pattern": {
              "fillmode": "overlay",
              "size": 10,
              "solidity": 0.2
             }
            },
            "type": "bar"
           }
          ],
          "barpolar": [
           {
            "marker": {
             "line": {
              "color": "#E5ECF6",
              "width": 0.5
             },
             "pattern": {
              "fillmode": "overlay",
              "size": 10,
              "solidity": 0.2
             }
            },
            "type": "barpolar"
           }
          ],
          "carpet": [
           {
            "aaxis": {
             "endlinecolor": "#2a3f5f",
             "gridcolor": "white",
             "linecolor": "white",
             "minorgridcolor": "white",
             "startlinecolor": "#2a3f5f"
            },
            "baxis": {
             "endlinecolor": "#2a3f5f",
             "gridcolor": "white",
             "linecolor": "white",
             "minorgridcolor": "white",
             "startlinecolor": "#2a3f5f"
            },
            "type": "carpet"
           }
          ],
          "choropleth": [
           {
            "colorbar": {
             "outlinewidth": 0,
             "ticks": ""
            },
            "type": "choropleth"
           }
          ],
          "contour": [
           {
            "colorbar": {
             "outlinewidth": 0,
             "ticks": ""
            },
            "colorscale": [
             [
              0,
              "#0d0887"
             ],
             [
              0.1111111111111111,
              "#46039f"
             ],
             [
              0.2222222222222222,
              "#7201a8"
             ],
             [
              0.3333333333333333,
              "#9c179e"
             ],
             [
              0.4444444444444444,
              "#bd3786"
             ],
             [
              0.5555555555555556,
              "#d8576b"
             ],
             [
              0.6666666666666666,
              "#ed7953"
             ],
             [
              0.7777777777777778,
              "#fb9f3a"
             ],
             [
              0.8888888888888888,
              "#fdca26"
             ],
             [
              1,
              "#f0f921"
             ]
            ],
            "type": "contour"
           }
          ],
          "contourcarpet": [
           {
            "colorbar": {
             "outlinewidth": 0,
             "ticks": ""
            },
            "type": "contourcarpet"
           }
          ],
          "heatmap": [
           {
            "colorbar": {
             "outlinewidth": 0,
             "ticks": ""
            },
            "colorscale": [
             [
              0,
              "#0d0887"
             ],
             [
              0.1111111111111111,
              "#46039f"
             ],
             [
              0.2222222222222222,
              "#7201a8"
             ],
             [
              0.3333333333333333,
              "#9c179e"
             ],
             [
              0.4444444444444444,
              "#bd3786"
             ],
             [
              0.5555555555555556,
              "#d8576b"
             ],
             [
              0.6666666666666666,
              "#ed7953"
             ],
             [
              0.7777777777777778,
              "#fb9f3a"
             ],
             [
              0.8888888888888888,
              "#fdca26"
             ],
             [
              1,
              "#f0f921"
             ]
            ],
            "type": "heatmap"
           }
          ],
          "heatmapgl": [
           {
            "colorbar": {
             "outlinewidth": 0,
             "ticks": ""
            },
            "colorscale": [
             [
              0,
              "#0d0887"
             ],
             [
              0.1111111111111111,
              "#46039f"
             ],
             [
              0.2222222222222222,
              "#7201a8"
             ],
             [
              0.3333333333333333,
              "#9c179e"
             ],
             [
              0.4444444444444444,
              "#bd3786"
             ],
             [
              0.5555555555555556,
              "#d8576b"
             ],
             [
              0.6666666666666666,
              "#ed7953"
             ],
             [
              0.7777777777777778,
              "#fb9f3a"
             ],
             [
              0.8888888888888888,
              "#fdca26"
             ],
             [
              1,
              "#f0f921"
             ]
            ],
            "type": "heatmapgl"
           }
          ],
          "histogram": [
           {
            "marker": {
             "pattern": {
              "fillmode": "overlay",
              "size": 10,
              "solidity": 0.2
             }
            },
            "type": "histogram"
           }
          ],
          "histogram2d": [
           {
            "colorbar": {
             "outlinewidth": 0,
             "ticks": ""
            },
            "colorscale": [
             [
              0,
              "#0d0887"
             ],
             [
              0.1111111111111111,
              "#46039f"
             ],
             [
              0.2222222222222222,
              "#7201a8"
             ],
             [
              0.3333333333333333,
              "#9c179e"
             ],
             [
              0.4444444444444444,
              "#bd3786"
             ],
             [
              0.5555555555555556,
              "#d8576b"
             ],
             [
              0.6666666666666666,
              "#ed7953"
             ],
             [
              0.7777777777777778,
              "#fb9f3a"
             ],
             [
              0.8888888888888888,
              "#fdca26"
             ],
             [
              1,
              "#f0f921"
             ]
            ],
            "type": "histogram2d"
           }
          ],
          "histogram2dcontour": [
           {
            "colorbar": {
             "outlinewidth": 0,
             "ticks": ""
            },
            "colorscale": [
             [
              0,
              "#0d0887"
             ],
             [
              0.1111111111111111,
              "#46039f"
             ],
             [
              0.2222222222222222,
              "#7201a8"
             ],
             [
              0.3333333333333333,
              "#9c179e"
             ],
             [
              0.4444444444444444,
              "#bd3786"
             ],
             [
              0.5555555555555556,
              "#d8576b"
             ],
             [
              0.6666666666666666,
              "#ed7953"
             ],
             [
              0.7777777777777778,
              "#fb9f3a"
             ],
             [
              0.8888888888888888,
              "#fdca26"
             ],
             [
              1,
              "#f0f921"
             ]
            ],
            "type": "histogram2dcontour"
           }
          ],
          "mesh3d": [
           {
            "colorbar": {
             "outlinewidth": 0,
             "ticks": ""
            },
            "type": "mesh3d"
           }
          ],
          "parcoords": [
           {
            "line": {
             "colorbar": {
              "outlinewidth": 0,
              "ticks": ""
             }
            },
            "type": "parcoords"
           }
          ],
          "pie": [
           {
            "automargin": true,
            "type": "pie"
           }
          ],
          "scatter": [
           {
            "fillpattern": {
             "fillmode": "overlay",
             "size": 10,
             "solidity": 0.2
            },
            "type": "scatter"
           }
          ],
          "scatter3d": [
           {
            "line": {
             "colorbar": {
              "outlinewidth": 0,
              "ticks": ""
             }
            },
            "marker": {
             "colorbar": {
              "outlinewidth": 0,
              "ticks": ""
             }
            },
            "type": "scatter3d"
           }
          ],
          "scattercarpet": [
           {
            "marker": {
             "colorbar": {
              "outlinewidth": 0,
              "ticks": ""
             }
            },
            "type": "scattercarpet"
           }
          ],
          "scattergeo": [
           {
            "marker": {
             "colorbar": {
              "outlinewidth": 0,
              "ticks": ""
             }
            },
            "type": "scattergeo"
           }
          ],
          "scattergl": [
           {
            "marker": {
             "colorbar": {
              "outlinewidth": 0,
              "ticks": ""
             }
            },
            "type": "scattergl"
           }
          ],
          "scattermapbox": [
           {
            "marker": {
             "colorbar": {
              "outlinewidth": 0,
              "ticks": ""
             }
            },
            "type": "scattermapbox"
           }
          ],
          "scatterpolar": [
           {
            "marker": {
             "colorbar": {
              "outlinewidth": 0,
              "ticks": ""
             }
            },
            "type": "scatterpolar"
           }
          ],
          "scatterpolargl": [
           {
            "marker": {
             "colorbar": {
              "outlinewidth": 0,
              "ticks": ""
             }
            },
            "type": "scatterpolargl"
           }
          ],
          "scatterternary": [
           {
            "marker": {
             "colorbar": {
              "outlinewidth": 0,
              "ticks": ""
             }
            },
            "type": "scatterternary"
           }
          ],
          "surface": [
           {
            "colorbar": {
             "outlinewidth": 0,
             "ticks": ""
            },
            "colorscale": [
             [
              0,
              "#0d0887"
             ],
             [
              0.1111111111111111,
              "#46039f"
             ],
             [
              0.2222222222222222,
              "#7201a8"
             ],
             [
              0.3333333333333333,
              "#9c179e"
             ],
             [
              0.4444444444444444,
              "#bd3786"
             ],
             [
              0.5555555555555556,
              "#d8576b"
             ],
             [
              0.6666666666666666,
              "#ed7953"
             ],
             [
              0.7777777777777778,
              "#fb9f3a"
             ],
             [
              0.8888888888888888,
              "#fdca26"
             ],
             [
              1,
              "#f0f921"
             ]
            ],
            "type": "surface"
           }
          ],
          "table": [
           {
            "cells": {
             "fill": {
              "color": "#EBF0F8"
             },
             "line": {
              "color": "white"
             }
            },
            "header": {
             "fill": {
              "color": "#C8D4E3"
             },
             "line": {
              "color": "white"
             }
            },
            "type": "table"
           }
          ]
         },
         "layout": {
          "annotationdefaults": {
           "arrowcolor": "#2a3f5f",
           "arrowhead": 0,
           "arrowwidth": 1
          },
          "autotypenumbers": "strict",
          "coloraxis": {
           "colorbar": {
            "outlinewidth": 0,
            "ticks": ""
           }
          },
          "colorscale": {
           "diverging": [
            [
             0,
             "#8e0152"
            ],
            [
             0.1,
             "#c51b7d"
            ],
            [
             0.2,
             "#de77ae"
            ],
            [
             0.3,
             "#f1b6da"
            ],
            [
             0.4,
             "#fde0ef"
            ],
            [
             0.5,
             "#f7f7f7"
            ],
            [
             0.6,
             "#e6f5d0"
            ],
            [
             0.7,
             "#b8e186"
            ],
            [
             0.8,
             "#7fbc41"
            ],
            [
             0.9,
             "#4d9221"
            ],
            [
             1,
             "#276419"
            ]
           ],
           "sequential": [
            [
             0,
             "#0d0887"
            ],
            [
             0.1111111111111111,
             "#46039f"
            ],
            [
             0.2222222222222222,
             "#7201a8"
            ],
            [
             0.3333333333333333,
             "#9c179e"
            ],
            [
             0.4444444444444444,
             "#bd3786"
            ],
            [
             0.5555555555555556,
             "#d8576b"
            ],
            [
             0.6666666666666666,
             "#ed7953"
            ],
            [
             0.7777777777777778,
             "#fb9f3a"
            ],
            [
             0.8888888888888888,
             "#fdca26"
            ],
            [
             1,
             "#f0f921"
            ]
           ],
           "sequentialminus": [
            [
             0,
             "#0d0887"
            ],
            [
             0.1111111111111111,
             "#46039f"
            ],
            [
             0.2222222222222222,
             "#7201a8"
            ],
            [
             0.3333333333333333,
             "#9c179e"
            ],
            [
             0.4444444444444444,
             "#bd3786"
            ],
            [
             0.5555555555555556,
             "#d8576b"
            ],
            [
             0.6666666666666666,
             "#ed7953"
            ],
            [
             0.7777777777777778,
             "#fb9f3a"
            ],
            [
             0.8888888888888888,
             "#fdca26"
            ],
            [
             1,
             "#f0f921"
            ]
           ]
          },
          "colorway": [
           "#636efa",
           "#EF553B",
           "#00cc96",
           "#ab63fa",
           "#FFA15A",
           "#19d3f3",
           "#FF6692",
           "#B6E880",
           "#FF97FF",
           "#FECB52"
          ],
          "font": {
           "color": "#2a3f5f"
          },
          "geo": {
           "bgcolor": "white",
           "lakecolor": "white",
           "landcolor": "#E5ECF6",
           "showlakes": true,
           "showland": true,
           "subunitcolor": "white"
          },
          "hoverlabel": {
           "align": "left"
          },
          "hovermode": "closest",
          "mapbox": {
           "style": "light"
          },
          "paper_bgcolor": "white",
          "plot_bgcolor": "#E5ECF6",
          "polar": {
           "angularaxis": {
            "gridcolor": "white",
            "linecolor": "white",
            "ticks": ""
           },
           "bgcolor": "#E5ECF6",
           "radialaxis": {
            "gridcolor": "white",
            "linecolor": "white",
            "ticks": ""
           }
          },
          "scene": {
           "xaxis": {
            "backgroundcolor": "#E5ECF6",
            "gridcolor": "white",
            "gridwidth": 2,
            "linecolor": "white",
            "showbackground": true,
            "ticks": "",
            "zerolinecolor": "white"
           },
           "yaxis": {
            "backgroundcolor": "#E5ECF6",
            "gridcolor": "white",
            "gridwidth": 2,
            "linecolor": "white",
            "showbackground": true,
            "ticks": "",
            "zerolinecolor": "white"
           },
           "zaxis": {
            "backgroundcolor": "#E5ECF6",
            "gridcolor": "white",
            "gridwidth": 2,
            "linecolor": "white",
            "showbackground": true,
            "ticks": "",
            "zerolinecolor": "white"
           }
          },
          "shapedefaults": {
           "line": {
            "color": "#2a3f5f"
           }
          },
          "ternary": {
           "aaxis": {
            "gridcolor": "white",
            "linecolor": "white",
            "ticks": ""
           },
           "baxis": {
            "gridcolor": "white",
            "linecolor": "white",
            "ticks": ""
           },
           "bgcolor": "#E5ECF6",
           "caxis": {
            "gridcolor": "white",
            "linecolor": "white",
            "ticks": ""
           }
          },
          "title": {
           "x": 0.05
          },
          "xaxis": {
           "automargin": true,
           "gridcolor": "white",
           "linecolor": "white",
           "ticks": "",
           "title": {
            "standoff": 15
           },
           "zerolinecolor": "white",
           "zerolinewidth": 2
          },
          "yaxis": {
           "automargin": true,
           "gridcolor": "white",
           "linecolor": "white",
           "ticks": "",
           "title": {
            "standoff": 15
           },
           "zerolinecolor": "white",
           "zerolinewidth": 2
          }
         }
        },
        "title": {
         "text": "Intermediate Values Plot"
        },
        "xaxis": {
         "title": {
          "text": "Step"
         }
        },
        "yaxis": {
         "title": {
          "text": "Intermediate Value"
         }
        }
       }
      },
      "text/html": [
       "<div>                            <div id=\"7fc98ef2-e8da-43d1-b5f5-9e8d485020d0\" class=\"plotly-graph-div\" style=\"height:525px; width:100%;\"></div>            <script type=\"text/javascript\">                require([\"plotly\"], function(Plotly) {                    window.PLOTLYENV=window.PLOTLYENV || {};                                    if (document.getElementById(\"7fc98ef2-e8da-43d1-b5f5-9e8d485020d0\")) {                    Plotly.newPlot(                        \"7fc98ef2-e8da-43d1-b5f5-9e8d485020d0\",                        [{\"marker\":{\"maxdisplayed\":10},\"mode\":\"lines+markers\",\"name\":\"Trial521\",\"x\":[0,1],\"y\":[-503.67843958602674,-474.4170262690529],\"type\":\"scatter\"}],                        {\"showlegend\":false,\"title\":{\"text\":\"Intermediate Values Plot\"},\"xaxis\":{\"title\":{\"text\":\"Step\"}},\"yaxis\":{\"title\":{\"text\":\"Intermediate Value\"}},\"template\":{\"data\":{\"histogram2dcontour\":[{\"type\":\"histogram2dcontour\",\"colorbar\":{\"outlinewidth\":0,\"ticks\":\"\"},\"colorscale\":[[0.0,\"#0d0887\"],[0.1111111111111111,\"#46039f\"],[0.2222222222222222,\"#7201a8\"],[0.3333333333333333,\"#9c179e\"],[0.4444444444444444,\"#bd3786\"],[0.5555555555555556,\"#d8576b\"],[0.6666666666666666,\"#ed7953\"],[0.7777777777777778,\"#fb9f3a\"],[0.8888888888888888,\"#fdca26\"],[1.0,\"#f0f921\"]]}],\"choropleth\":[{\"type\":\"choropleth\",\"colorbar\":{\"outlinewidth\":0,\"ticks\":\"\"}}],\"histogram2d\":[{\"type\":\"histogram2d\",\"colorbar\":{\"outlinewidth\":0,\"ticks\":\"\"},\"colorscale\":[[0.0,\"#0d0887\"],[0.1111111111111111,\"#46039f\"],[0.2222222222222222,\"#7201a8\"],[0.3333333333333333,\"#9c179e\"],[0.4444444444444444,\"#bd3786\"],[0.5555555555555556,\"#d8576b\"],[0.6666666666666666,\"#ed7953\"],[0.7777777777777778,\"#fb9f3a\"],[0.8888888888888888,\"#fdca26\"],[1.0,\"#f0f921\"]]}],\"heatmap\":[{\"type\":\"heatmap\",\"colorbar\":{\"outlinewidth\":0,\"ticks\":\"\"},\"colorscale\":[[0.0,\"#0d0887\"],[0.1111111111111111,\"#46039f\"],[0.2222222222222222,\"#7201a8\"],[0.3333333333333333,\"#9c179e\"],[0.4444444444444444,\"#bd3786\"],[0.5555555555555556,\"#d8576b\"],[0.6666666666666666,\"#ed7953\"],[0.7777777777777778,\"#fb9f3a\"],[0.8888888888888888,\"#fdca26\"],[1.0,\"#f0f921\"]]}],\"heatmapgl\":[{\"type\":\"heatmapgl\",\"colorbar\":{\"outlinewidth\":0,\"ticks\":\"\"},\"colorscale\":[[0.0,\"#0d0887\"],[0.1111111111111111,\"#46039f\"],[0.2222222222222222,\"#7201a8\"],[0.3333333333333333,\"#9c179e\"],[0.4444444444444444,\"#bd3786\"],[0.5555555555555556,\"#d8576b\"],[0.6666666666666666,\"#ed7953\"],[0.7777777777777778,\"#fb9f3a\"],[0.8888888888888888,\"#fdca26\"],[1.0,\"#f0f921\"]]}],\"contourcarpet\":[{\"type\":\"contourcarpet\",\"colorbar\":{\"outlinewidth\":0,\"ticks\":\"\"}}],\"contour\":[{\"type\":\"contour\",\"colorbar\":{\"outlinewidth\":0,\"ticks\":\"\"},\"colorscale\":[[0.0,\"#0d0887\"],[0.1111111111111111,\"#46039f\"],[0.2222222222222222,\"#7201a8\"],[0.3333333333333333,\"#9c179e\"],[0.4444444444444444,\"#bd3786\"],[0.5555555555555556,\"#d8576b\"],[0.6666666666666666,\"#ed7953\"],[0.7777777777777778,\"#fb9f3a\"],[0.8888888888888888,\"#fdca26\"],[1.0,\"#f0f921\"]]}],\"surface\":[{\"type\":\"surface\",\"colorbar\":{\"outlinewidth\":0,\"ticks\":\"\"},\"colorscale\":[[0.0,\"#0d0887\"],[0.1111111111111111,\"#46039f\"],[0.2222222222222222,\"#7201a8\"],[0.3333333333333333,\"#9c179e\"],[0.4444444444444444,\"#bd3786\"],[0.5555555555555556,\"#d8576b\"],[0.6666666666666666,\"#ed7953\"],[0.7777777777777778,\"#fb9f3a\"],[0.8888888888888888,\"#fdca26\"],[1.0,\"#f0f921\"]]}],\"mesh3d\":[{\"type\":\"mesh3d\",\"colorbar\":{\"outlinewidth\":0,\"ticks\":\"\"}}],\"scatter\":[{\"fillpattern\":{\"fillmode\":\"overlay\",\"size\":10,\"solidity\":0.2},\"type\":\"scatter\"}],\"parcoords\":[{\"type\":\"parcoords\",\"line\":{\"colorbar\":{\"outlinewidth\":0,\"ticks\":\"\"}}}],\"scatterpolargl\":[{\"type\":\"scatterpolargl\",\"marker\":{\"colorbar\":{\"outlinewidth\":0,\"ticks\":\"\"}}}],\"bar\":[{\"error_x\":{\"color\":\"#2a3f5f\"},\"error_y\":{\"color\":\"#2a3f5f\"},\"marker\":{\"line\":{\"color\":\"#E5ECF6\",\"width\":0.5},\"pattern\":{\"fillmode\":\"overlay\",\"size\":10,\"solidity\":0.2}},\"type\":\"bar\"}],\"scattergeo\":[{\"type\":\"scattergeo\",\"marker\":{\"colorbar\":{\"outlinewidth\":0,\"ticks\":\"\"}}}],\"scatterpolar\":[{\"type\":\"scatterpolar\",\"marker\":{\"colorbar\":{\"outlinewidth\":0,\"ticks\":\"\"}}}],\"histogram\":[{\"marker\":{\"pattern\":{\"fillmode\":\"overlay\",\"size\":10,\"solidity\":0.2}},\"type\":\"histogram\"}],\"scattergl\":[{\"type\":\"scattergl\",\"marker\":{\"colorbar\":{\"outlinewidth\":0,\"ticks\":\"\"}}}],\"scatter3d\":[{\"type\":\"scatter3d\",\"line\":{\"colorbar\":{\"outlinewidth\":0,\"ticks\":\"\"}},\"marker\":{\"colorbar\":{\"outlinewidth\":0,\"ticks\":\"\"}}}],\"scattermapbox\":[{\"type\":\"scattermapbox\",\"marker\":{\"colorbar\":{\"outlinewidth\":0,\"ticks\":\"\"}}}],\"scatterternary\":[{\"type\":\"scatterternary\",\"marker\":{\"colorbar\":{\"outlinewidth\":0,\"ticks\":\"\"}}}],\"scattercarpet\":[{\"type\":\"scattercarpet\",\"marker\":{\"colorbar\":{\"outlinewidth\":0,\"ticks\":\"\"}}}],\"carpet\":[{\"aaxis\":{\"endlinecolor\":\"#2a3f5f\",\"gridcolor\":\"white\",\"linecolor\":\"white\",\"minorgridcolor\":\"white\",\"startlinecolor\":\"#2a3f5f\"},\"baxis\":{\"endlinecolor\":\"#2a3f5f\",\"gridcolor\":\"white\",\"linecolor\":\"white\",\"minorgridcolor\":\"white\",\"startlinecolor\":\"#2a3f5f\"},\"type\":\"carpet\"}],\"table\":[{\"cells\":{\"fill\":{\"color\":\"#EBF0F8\"},\"line\":{\"color\":\"white\"}},\"header\":{\"fill\":{\"color\":\"#C8D4E3\"},\"line\":{\"color\":\"white\"}},\"type\":\"table\"}],\"barpolar\":[{\"marker\":{\"line\":{\"color\":\"#E5ECF6\",\"width\":0.5},\"pattern\":{\"fillmode\":\"overlay\",\"size\":10,\"solidity\":0.2}},\"type\":\"barpolar\"}],\"pie\":[{\"automargin\":true,\"type\":\"pie\"}]},\"layout\":{\"autotypenumbers\":\"strict\",\"colorway\":[\"#636efa\",\"#EF553B\",\"#00cc96\",\"#ab63fa\",\"#FFA15A\",\"#19d3f3\",\"#FF6692\",\"#B6E880\",\"#FF97FF\",\"#FECB52\"],\"font\":{\"color\":\"#2a3f5f\"},\"hovermode\":\"closest\",\"hoverlabel\":{\"align\":\"left\"},\"paper_bgcolor\":\"white\",\"plot_bgcolor\":\"#E5ECF6\",\"polar\":{\"bgcolor\":\"#E5ECF6\",\"angularaxis\":{\"gridcolor\":\"white\",\"linecolor\":\"white\",\"ticks\":\"\"},\"radialaxis\":{\"gridcolor\":\"white\",\"linecolor\":\"white\",\"ticks\":\"\"}},\"ternary\":{\"bgcolor\":\"#E5ECF6\",\"aaxis\":{\"gridcolor\":\"white\",\"linecolor\":\"white\",\"ticks\":\"\"},\"baxis\":{\"gridcolor\":\"white\",\"linecolor\":\"white\",\"ticks\":\"\"},\"caxis\":{\"gridcolor\":\"white\",\"linecolor\":\"white\",\"ticks\":\"\"}},\"coloraxis\":{\"colorbar\":{\"outlinewidth\":0,\"ticks\":\"\"}},\"colorscale\":{\"sequential\":[[0.0,\"#0d0887\"],[0.1111111111111111,\"#46039f\"],[0.2222222222222222,\"#7201a8\"],[0.3333333333333333,\"#9c179e\"],[0.4444444444444444,\"#bd3786\"],[0.5555555555555556,\"#d8576b\"],[0.6666666666666666,\"#ed7953\"],[0.7777777777777778,\"#fb9f3a\"],[0.8888888888888888,\"#fdca26\"],[1.0,\"#f0f921\"]],\"sequentialminus\":[[0.0,\"#0d0887\"],[0.1111111111111111,\"#46039f\"],[0.2222222222222222,\"#7201a8\"],[0.3333333333333333,\"#9c179e\"],[0.4444444444444444,\"#bd3786\"],[0.5555555555555556,\"#d8576b\"],[0.6666666666666666,\"#ed7953\"],[0.7777777777777778,\"#fb9f3a\"],[0.8888888888888888,\"#fdca26\"],[1.0,\"#f0f921\"]],\"diverging\":[[0,\"#8e0152\"],[0.1,\"#c51b7d\"],[0.2,\"#de77ae\"],[0.3,\"#f1b6da\"],[0.4,\"#fde0ef\"],[0.5,\"#f7f7f7\"],[0.6,\"#e6f5d0\"],[0.7,\"#b8e186\"],[0.8,\"#7fbc41\"],[0.9,\"#4d9221\"],[1,\"#276419\"]]},\"xaxis\":{\"gridcolor\":\"white\",\"linecolor\":\"white\",\"ticks\":\"\",\"title\":{\"standoff\":15},\"zerolinecolor\":\"white\",\"automargin\":true,\"zerolinewidth\":2},\"yaxis\":{\"gridcolor\":\"white\",\"linecolor\":\"white\",\"ticks\":\"\",\"title\":{\"standoff\":15},\"zerolinecolor\":\"white\",\"automargin\":true,\"zerolinewidth\":2},\"scene\":{\"xaxis\":{\"backgroundcolor\":\"#E5ECF6\",\"gridcolor\":\"white\",\"linecolor\":\"white\",\"showbackground\":true,\"ticks\":\"\",\"zerolinecolor\":\"white\",\"gridwidth\":2},\"yaxis\":{\"backgroundcolor\":\"#E5ECF6\",\"gridcolor\":\"white\",\"linecolor\":\"white\",\"showbackground\":true,\"ticks\":\"\",\"zerolinecolor\":\"white\",\"gridwidth\":2},\"zaxis\":{\"backgroundcolor\":\"#E5ECF6\",\"gridcolor\":\"white\",\"linecolor\":\"white\",\"showbackground\":true,\"ticks\":\"\",\"zerolinecolor\":\"white\",\"gridwidth\":2}},\"shapedefaults\":{\"line\":{\"color\":\"#2a3f5f\"}},\"annotationdefaults\":{\"arrowcolor\":\"#2a3f5f\",\"arrowhead\":0,\"arrowwidth\":1},\"geo\":{\"bgcolor\":\"white\",\"landcolor\":\"#E5ECF6\",\"subunitcolor\":\"white\",\"showland\":true,\"showlakes\":true,\"lakecolor\":\"white\"},\"title\":{\"x\":0.05},\"mapbox\":{\"style\":\"light\"}}}},                        {\"responsive\": true}                    ).then(function(){\n",
       "                            \n",
       "var gd = document.getElementById('7fc98ef2-e8da-43d1-b5f5-9e8d485020d0');\n",
       "var x = new MutationObserver(function (mutations, observer) {{\n",
       "        var display = window.getComputedStyle(gd).display;\n",
       "        if (!display || display === 'none') {{\n",
       "            console.log([gd, 'removed!']);\n",
       "            Plotly.purge(gd);\n",
       "            observer.disconnect();\n",
       "        }}\n",
       "}});\n",
       "\n",
       "// Listen for the removal of the full notebook cells\n",
       "var notebookContainer = gd.closest('#notebook-container');\n",
       "if (notebookContainer) {{\n",
       "    x.observe(notebookContainer, {childList: true});\n",
       "}}\n",
       "\n",
       "// Listen for the clearing of the current output cell\n",
       "var outputEl = gd.closest('.output');\n",
       "if (outputEl) {{\n",
       "    x.observe(outputEl, {childList: true});\n",
       "}}\n",
       "\n",
       "                        })                };                });            </script>        </div>"
      ]
     },
     "metadata": {},
     "output_type": "display_data"
    },
    {
     "name": "stdout",
     "output_type": "stream",
     "text": [
      "Starting gene 2 trials...\n",
      "Trial 522 pruned at epoch 1 with R2 -32020081647825252.00000\n"
     ]
    },
    {
     "name": "stderr",
     "output_type": "stream",
     "text": [
      "[I 2024-04-14 03:15:25,681] Trial 522 pruned. \n"
     ]
    },
    {
     "name": "stdout",
     "output_type": "stream",
     "text": [
      "Error in r2_score_safe: Input contains infinity or a value too large for dtype('float32').\n",
      "Inf values in predictions\n",
      "Trial number 523 epoch 0\n",
      "Error in r2_score_safe: Input contains infinity or a value too large for dtype('float32').\n",
      "Inf values in predictions\n",
      "Trial number 523 epoch 3\n",
      "Trial 523 pruned at epoch 1 with R2 -inf\n"
     ]
    },
    {
     "name": "stderr",
     "output_type": "stream",
     "text": [
      "[I 2024-04-14 03:15:46,895] Trial 523 pruned. \n"
     ]
    },
    {
     "name": "stdout",
     "output_type": "stream",
     "text": [
      "Time taken for gene trials: 0:00:42.669218\n",
      "Time for one gene trial: 0:00:21.334665\n"
     ]
    },
    {
     "data": {
      "application/vnd.plotly.v1+json": {
       "config": {
        "plotlyServerURL": "https://plot.ly"
       },
       "data": [
        {
         "marker": {
          "maxdisplayed": 10
         },
         "mode": "lines+markers",
         "name": "Trial522",
         "type": "scatter",
         "x": [
          0,
          1
         ],
         "y": [
          -40030076906300340,
          -32020081647825252
         ]
        },
        {
         "marker": {
          "maxdisplayed": 10
         },
         "mode": "lines+markers",
         "name": "Trial523",
         "type": "scatter",
         "x": [
          0,
          1
         ],
         "y": [
          null,
          null
         ]
        }
       ],
       "layout": {
        "showlegend": false,
        "template": {
         "data": {
          "bar": [
           {
            "error_x": {
             "color": "#2a3f5f"
            },
            "error_y": {
             "color": "#2a3f5f"
            },
            "marker": {
             "line": {
              "color": "#E5ECF6",
              "width": 0.5
             },
             "pattern": {
              "fillmode": "overlay",
              "size": 10,
              "solidity": 0.2
             }
            },
            "type": "bar"
           }
          ],
          "barpolar": [
           {
            "marker": {
             "line": {
              "color": "#E5ECF6",
              "width": 0.5
             },
             "pattern": {
              "fillmode": "overlay",
              "size": 10,
              "solidity": 0.2
             }
            },
            "type": "barpolar"
           }
          ],
          "carpet": [
           {
            "aaxis": {
             "endlinecolor": "#2a3f5f",
             "gridcolor": "white",
             "linecolor": "white",
             "minorgridcolor": "white",
             "startlinecolor": "#2a3f5f"
            },
            "baxis": {
             "endlinecolor": "#2a3f5f",
             "gridcolor": "white",
             "linecolor": "white",
             "minorgridcolor": "white",
             "startlinecolor": "#2a3f5f"
            },
            "type": "carpet"
           }
          ],
          "choropleth": [
           {
            "colorbar": {
             "outlinewidth": 0,
             "ticks": ""
            },
            "type": "choropleth"
           }
          ],
          "contour": [
           {
            "colorbar": {
             "outlinewidth": 0,
             "ticks": ""
            },
            "colorscale": [
             [
              0,
              "#0d0887"
             ],
             [
              0.1111111111111111,
              "#46039f"
             ],
             [
              0.2222222222222222,
              "#7201a8"
             ],
             [
              0.3333333333333333,
              "#9c179e"
             ],
             [
              0.4444444444444444,
              "#bd3786"
             ],
             [
              0.5555555555555556,
              "#d8576b"
             ],
             [
              0.6666666666666666,
              "#ed7953"
             ],
             [
              0.7777777777777778,
              "#fb9f3a"
             ],
             [
              0.8888888888888888,
              "#fdca26"
             ],
             [
              1,
              "#f0f921"
             ]
            ],
            "type": "contour"
           }
          ],
          "contourcarpet": [
           {
            "colorbar": {
             "outlinewidth": 0,
             "ticks": ""
            },
            "type": "contourcarpet"
           }
          ],
          "heatmap": [
           {
            "colorbar": {
             "outlinewidth": 0,
             "ticks": ""
            },
            "colorscale": [
             [
              0,
              "#0d0887"
             ],
             [
              0.1111111111111111,
              "#46039f"
             ],
             [
              0.2222222222222222,
              "#7201a8"
             ],
             [
              0.3333333333333333,
              "#9c179e"
             ],
             [
              0.4444444444444444,
              "#bd3786"
             ],
             [
              0.5555555555555556,
              "#d8576b"
             ],
             [
              0.6666666666666666,
              "#ed7953"
             ],
             [
              0.7777777777777778,
              "#fb9f3a"
             ],
             [
              0.8888888888888888,
              "#fdca26"
             ],
             [
              1,
              "#f0f921"
             ]
            ],
            "type": "heatmap"
           }
          ],
          "heatmapgl": [
           {
            "colorbar": {
             "outlinewidth": 0,
             "ticks": ""
            },
            "colorscale": [
             [
              0,
              "#0d0887"
             ],
             [
              0.1111111111111111,
              "#46039f"
             ],
             [
              0.2222222222222222,
              "#7201a8"
             ],
             [
              0.3333333333333333,
              "#9c179e"
             ],
             [
              0.4444444444444444,
              "#bd3786"
             ],
             [
              0.5555555555555556,
              "#d8576b"
             ],
             [
              0.6666666666666666,
              "#ed7953"
             ],
             [
              0.7777777777777778,
              "#fb9f3a"
             ],
             [
              0.8888888888888888,
              "#fdca26"
             ],
             [
              1,
              "#f0f921"
             ]
            ],
            "type": "heatmapgl"
           }
          ],
          "histogram": [
           {
            "marker": {
             "pattern": {
              "fillmode": "overlay",
              "size": 10,
              "solidity": 0.2
             }
            },
            "type": "histogram"
           }
          ],
          "histogram2d": [
           {
            "colorbar": {
             "outlinewidth": 0,
             "ticks": ""
            },
            "colorscale": [
             [
              0,
              "#0d0887"
             ],
             [
              0.1111111111111111,
              "#46039f"
             ],
             [
              0.2222222222222222,
              "#7201a8"
             ],
             [
              0.3333333333333333,
              "#9c179e"
             ],
             [
              0.4444444444444444,
              "#bd3786"
             ],
             [
              0.5555555555555556,
              "#d8576b"
             ],
             [
              0.6666666666666666,
              "#ed7953"
             ],
             [
              0.7777777777777778,
              "#fb9f3a"
             ],
             [
              0.8888888888888888,
              "#fdca26"
             ],
             [
              1,
              "#f0f921"
             ]
            ],
            "type": "histogram2d"
           }
          ],
          "histogram2dcontour": [
           {
            "colorbar": {
             "outlinewidth": 0,
             "ticks": ""
            },
            "colorscale": [
             [
              0,
              "#0d0887"
             ],
             [
              0.1111111111111111,
              "#46039f"
             ],
             [
              0.2222222222222222,
              "#7201a8"
             ],
             [
              0.3333333333333333,
              "#9c179e"
             ],
             [
              0.4444444444444444,
              "#bd3786"
             ],
             [
              0.5555555555555556,
              "#d8576b"
             ],
             [
              0.6666666666666666,
              "#ed7953"
             ],
             [
              0.7777777777777778,
              "#fb9f3a"
             ],
             [
              0.8888888888888888,
              "#fdca26"
             ],
             [
              1,
              "#f0f921"
             ]
            ],
            "type": "histogram2dcontour"
           }
          ],
          "mesh3d": [
           {
            "colorbar": {
             "outlinewidth": 0,
             "ticks": ""
            },
            "type": "mesh3d"
           }
          ],
          "parcoords": [
           {
            "line": {
             "colorbar": {
              "outlinewidth": 0,
              "ticks": ""
             }
            },
            "type": "parcoords"
           }
          ],
          "pie": [
           {
            "automargin": true,
            "type": "pie"
           }
          ],
          "scatter": [
           {
            "fillpattern": {
             "fillmode": "overlay",
             "size": 10,
             "solidity": 0.2
            },
            "type": "scatter"
           }
          ],
          "scatter3d": [
           {
            "line": {
             "colorbar": {
              "outlinewidth": 0,
              "ticks": ""
             }
            },
            "marker": {
             "colorbar": {
              "outlinewidth": 0,
              "ticks": ""
             }
            },
            "type": "scatter3d"
           }
          ],
          "scattercarpet": [
           {
            "marker": {
             "colorbar": {
              "outlinewidth": 0,
              "ticks": ""
             }
            },
            "type": "scattercarpet"
           }
          ],
          "scattergeo": [
           {
            "marker": {
             "colorbar": {
              "outlinewidth": 0,
              "ticks": ""
             }
            },
            "type": "scattergeo"
           }
          ],
          "scattergl": [
           {
            "marker": {
             "colorbar": {
              "outlinewidth": 0,
              "ticks": ""
             }
            },
            "type": "scattergl"
           }
          ],
          "scattermapbox": [
           {
            "marker": {
             "colorbar": {
              "outlinewidth": 0,
              "ticks": ""
             }
            },
            "type": "scattermapbox"
           }
          ],
          "scatterpolar": [
           {
            "marker": {
             "colorbar": {
              "outlinewidth": 0,
              "ticks": ""
             }
            },
            "type": "scatterpolar"
           }
          ],
          "scatterpolargl": [
           {
            "marker": {
             "colorbar": {
              "outlinewidth": 0,
              "ticks": ""
             }
            },
            "type": "scatterpolargl"
           }
          ],
          "scatterternary": [
           {
            "marker": {
             "colorbar": {
              "outlinewidth": 0,
              "ticks": ""
             }
            },
            "type": "scatterternary"
           }
          ],
          "surface": [
           {
            "colorbar": {
             "outlinewidth": 0,
             "ticks": ""
            },
            "colorscale": [
             [
              0,
              "#0d0887"
             ],
             [
              0.1111111111111111,
              "#46039f"
             ],
             [
              0.2222222222222222,
              "#7201a8"
             ],
             [
              0.3333333333333333,
              "#9c179e"
             ],
             [
              0.4444444444444444,
              "#bd3786"
             ],
             [
              0.5555555555555556,
              "#d8576b"
             ],
             [
              0.6666666666666666,
              "#ed7953"
             ],
             [
              0.7777777777777778,
              "#fb9f3a"
             ],
             [
              0.8888888888888888,
              "#fdca26"
             ],
             [
              1,
              "#f0f921"
             ]
            ],
            "type": "surface"
           }
          ],
          "table": [
           {
            "cells": {
             "fill": {
              "color": "#EBF0F8"
             },
             "line": {
              "color": "white"
             }
            },
            "header": {
             "fill": {
              "color": "#C8D4E3"
             },
             "line": {
              "color": "white"
             }
            },
            "type": "table"
           }
          ]
         },
         "layout": {
          "annotationdefaults": {
           "arrowcolor": "#2a3f5f",
           "arrowhead": 0,
           "arrowwidth": 1
          },
          "autotypenumbers": "strict",
          "coloraxis": {
           "colorbar": {
            "outlinewidth": 0,
            "ticks": ""
           }
          },
          "colorscale": {
           "diverging": [
            [
             0,
             "#8e0152"
            ],
            [
             0.1,
             "#c51b7d"
            ],
            [
             0.2,
             "#de77ae"
            ],
            [
             0.3,
             "#f1b6da"
            ],
            [
             0.4,
             "#fde0ef"
            ],
            [
             0.5,
             "#f7f7f7"
            ],
            [
             0.6,
             "#e6f5d0"
            ],
            [
             0.7,
             "#b8e186"
            ],
            [
             0.8,
             "#7fbc41"
            ],
            [
             0.9,
             "#4d9221"
            ],
            [
             1,
             "#276419"
            ]
           ],
           "sequential": [
            [
             0,
             "#0d0887"
            ],
            [
             0.1111111111111111,
             "#46039f"
            ],
            [
             0.2222222222222222,
             "#7201a8"
            ],
            [
             0.3333333333333333,
             "#9c179e"
            ],
            [
             0.4444444444444444,
             "#bd3786"
            ],
            [
             0.5555555555555556,
             "#d8576b"
            ],
            [
             0.6666666666666666,
             "#ed7953"
            ],
            [
             0.7777777777777778,
             "#fb9f3a"
            ],
            [
             0.8888888888888888,
             "#fdca26"
            ],
            [
             1,
             "#f0f921"
            ]
           ],
           "sequentialminus": [
            [
             0,
             "#0d0887"
            ],
            [
             0.1111111111111111,
             "#46039f"
            ],
            [
             0.2222222222222222,
             "#7201a8"
            ],
            [
             0.3333333333333333,
             "#9c179e"
            ],
            [
             0.4444444444444444,
             "#bd3786"
            ],
            [
             0.5555555555555556,
             "#d8576b"
            ],
            [
             0.6666666666666666,
             "#ed7953"
            ],
            [
             0.7777777777777778,
             "#fb9f3a"
            ],
            [
             0.8888888888888888,
             "#fdca26"
            ],
            [
             1,
             "#f0f921"
            ]
           ]
          },
          "colorway": [
           "#636efa",
           "#EF553B",
           "#00cc96",
           "#ab63fa",
           "#FFA15A",
           "#19d3f3",
           "#FF6692",
           "#B6E880",
           "#FF97FF",
           "#FECB52"
          ],
          "font": {
           "color": "#2a3f5f"
          },
          "geo": {
           "bgcolor": "white",
           "lakecolor": "white",
           "landcolor": "#E5ECF6",
           "showlakes": true,
           "showland": true,
           "subunitcolor": "white"
          },
          "hoverlabel": {
           "align": "left"
          },
          "hovermode": "closest",
          "mapbox": {
           "style": "light"
          },
          "paper_bgcolor": "white",
          "plot_bgcolor": "#E5ECF6",
          "polar": {
           "angularaxis": {
            "gridcolor": "white",
            "linecolor": "white",
            "ticks": ""
           },
           "bgcolor": "#E5ECF6",
           "radialaxis": {
            "gridcolor": "white",
            "linecolor": "white",
            "ticks": ""
           }
          },
          "scene": {
           "xaxis": {
            "backgroundcolor": "#E5ECF6",
            "gridcolor": "white",
            "gridwidth": 2,
            "linecolor": "white",
            "showbackground": true,
            "ticks": "",
            "zerolinecolor": "white"
           },
           "yaxis": {
            "backgroundcolor": "#E5ECF6",
            "gridcolor": "white",
            "gridwidth": 2,
            "linecolor": "white",
            "showbackground": true,
            "ticks": "",
            "zerolinecolor": "white"
           },
           "zaxis": {
            "backgroundcolor": "#E5ECF6",
            "gridcolor": "white",
            "gridwidth": 2,
            "linecolor": "white",
            "showbackground": true,
            "ticks": "",
            "zerolinecolor": "white"
           }
          },
          "shapedefaults": {
           "line": {
            "color": "#2a3f5f"
           }
          },
          "ternary": {
           "aaxis": {
            "gridcolor": "white",
            "linecolor": "white",
            "ticks": ""
           },
           "baxis": {
            "gridcolor": "white",
            "linecolor": "white",
            "ticks": ""
           },
           "bgcolor": "#E5ECF6",
           "caxis": {
            "gridcolor": "white",
            "linecolor": "white",
            "ticks": ""
           }
          },
          "title": {
           "x": 0.05
          },
          "xaxis": {
           "automargin": true,
           "gridcolor": "white",
           "linecolor": "white",
           "ticks": "",
           "title": {
            "standoff": 15
           },
           "zerolinecolor": "white",
           "zerolinewidth": 2
          },
          "yaxis": {
           "automargin": true,
           "gridcolor": "white",
           "linecolor": "white",
           "ticks": "",
           "title": {
            "standoff": 15
           },
           "zerolinecolor": "white",
           "zerolinewidth": 2
          }
         }
        },
        "title": {
         "text": "Intermediate Values Plot"
        },
        "xaxis": {
         "title": {
          "text": "Step"
         }
        },
        "yaxis": {
         "title": {
          "text": "Intermediate Value"
         }
        }
       }
      },
      "text/html": [
       "<div>                            <div id=\"22b8e894-105c-4d0f-abe5-56305226c095\" class=\"plotly-graph-div\" style=\"height:525px; width:100%;\"></div>            <script type=\"text/javascript\">                require([\"plotly\"], function(Plotly) {                    window.PLOTLYENV=window.PLOTLYENV || {};                                    if (document.getElementById(\"22b8e894-105c-4d0f-abe5-56305226c095\")) {                    Plotly.newPlot(                        \"22b8e894-105c-4d0f-abe5-56305226c095\",                        [{\"marker\":{\"maxdisplayed\":10},\"mode\":\"lines+markers\",\"name\":\"Trial522\",\"x\":[0,1],\"y\":[-4.003007690630034e+16,-3.2020081647825252e+16],\"type\":\"scatter\"},{\"marker\":{\"maxdisplayed\":10},\"mode\":\"lines+markers\",\"name\":\"Trial523\",\"x\":[0,1],\"y\":[null,null],\"type\":\"scatter\"}],                        {\"showlegend\":false,\"title\":{\"text\":\"Intermediate Values Plot\"},\"xaxis\":{\"title\":{\"text\":\"Step\"}},\"yaxis\":{\"title\":{\"text\":\"Intermediate Value\"}},\"template\":{\"data\":{\"histogram2dcontour\":[{\"type\":\"histogram2dcontour\",\"colorbar\":{\"outlinewidth\":0,\"ticks\":\"\"},\"colorscale\":[[0.0,\"#0d0887\"],[0.1111111111111111,\"#46039f\"],[0.2222222222222222,\"#7201a8\"],[0.3333333333333333,\"#9c179e\"],[0.4444444444444444,\"#bd3786\"],[0.5555555555555556,\"#d8576b\"],[0.6666666666666666,\"#ed7953\"],[0.7777777777777778,\"#fb9f3a\"],[0.8888888888888888,\"#fdca26\"],[1.0,\"#f0f921\"]]}],\"choropleth\":[{\"type\":\"choropleth\",\"colorbar\":{\"outlinewidth\":0,\"ticks\":\"\"}}],\"histogram2d\":[{\"type\":\"histogram2d\",\"colorbar\":{\"outlinewidth\":0,\"ticks\":\"\"},\"colorscale\":[[0.0,\"#0d0887\"],[0.1111111111111111,\"#46039f\"],[0.2222222222222222,\"#7201a8\"],[0.3333333333333333,\"#9c179e\"],[0.4444444444444444,\"#bd3786\"],[0.5555555555555556,\"#d8576b\"],[0.6666666666666666,\"#ed7953\"],[0.7777777777777778,\"#fb9f3a\"],[0.8888888888888888,\"#fdca26\"],[1.0,\"#f0f921\"]]}],\"heatmap\":[{\"type\":\"heatmap\",\"colorbar\":{\"outlinewidth\":0,\"ticks\":\"\"},\"colorscale\":[[0.0,\"#0d0887\"],[0.1111111111111111,\"#46039f\"],[0.2222222222222222,\"#7201a8\"],[0.3333333333333333,\"#9c179e\"],[0.4444444444444444,\"#bd3786\"],[0.5555555555555556,\"#d8576b\"],[0.6666666666666666,\"#ed7953\"],[0.7777777777777778,\"#fb9f3a\"],[0.8888888888888888,\"#fdca26\"],[1.0,\"#f0f921\"]]}],\"heatmapgl\":[{\"type\":\"heatmapgl\",\"colorbar\":{\"outlinewidth\":0,\"ticks\":\"\"},\"colorscale\":[[0.0,\"#0d0887\"],[0.1111111111111111,\"#46039f\"],[0.2222222222222222,\"#7201a8\"],[0.3333333333333333,\"#9c179e\"],[0.4444444444444444,\"#bd3786\"],[0.5555555555555556,\"#d8576b\"],[0.6666666666666666,\"#ed7953\"],[0.7777777777777778,\"#fb9f3a\"],[0.8888888888888888,\"#fdca26\"],[1.0,\"#f0f921\"]]}],\"contourcarpet\":[{\"type\":\"contourcarpet\",\"colorbar\":{\"outlinewidth\":0,\"ticks\":\"\"}}],\"contour\":[{\"type\":\"contour\",\"colorbar\":{\"outlinewidth\":0,\"ticks\":\"\"},\"colorscale\":[[0.0,\"#0d0887\"],[0.1111111111111111,\"#46039f\"],[0.2222222222222222,\"#7201a8\"],[0.3333333333333333,\"#9c179e\"],[0.4444444444444444,\"#bd3786\"],[0.5555555555555556,\"#d8576b\"],[0.6666666666666666,\"#ed7953\"],[0.7777777777777778,\"#fb9f3a\"],[0.8888888888888888,\"#fdca26\"],[1.0,\"#f0f921\"]]}],\"surface\":[{\"type\":\"surface\",\"colorbar\":{\"outlinewidth\":0,\"ticks\":\"\"},\"colorscale\":[[0.0,\"#0d0887\"],[0.1111111111111111,\"#46039f\"],[0.2222222222222222,\"#7201a8\"],[0.3333333333333333,\"#9c179e\"],[0.4444444444444444,\"#bd3786\"],[0.5555555555555556,\"#d8576b\"],[0.6666666666666666,\"#ed7953\"],[0.7777777777777778,\"#fb9f3a\"],[0.8888888888888888,\"#fdca26\"],[1.0,\"#f0f921\"]]}],\"mesh3d\":[{\"type\":\"mesh3d\",\"colorbar\":{\"outlinewidth\":0,\"ticks\":\"\"}}],\"scatter\":[{\"fillpattern\":{\"fillmode\":\"overlay\",\"size\":10,\"solidity\":0.2},\"type\":\"scatter\"}],\"parcoords\":[{\"type\":\"parcoords\",\"line\":{\"colorbar\":{\"outlinewidth\":0,\"ticks\":\"\"}}}],\"scatterpolargl\":[{\"type\":\"scatterpolargl\",\"marker\":{\"colorbar\":{\"outlinewidth\":0,\"ticks\":\"\"}}}],\"bar\":[{\"error_x\":{\"color\":\"#2a3f5f\"},\"error_y\":{\"color\":\"#2a3f5f\"},\"marker\":{\"line\":{\"color\":\"#E5ECF6\",\"width\":0.5},\"pattern\":{\"fillmode\":\"overlay\",\"size\":10,\"solidity\":0.2}},\"type\":\"bar\"}],\"scattergeo\":[{\"type\":\"scattergeo\",\"marker\":{\"colorbar\":{\"outlinewidth\":0,\"ticks\":\"\"}}}],\"scatterpolar\":[{\"type\":\"scatterpolar\",\"marker\":{\"colorbar\":{\"outlinewidth\":0,\"ticks\":\"\"}}}],\"histogram\":[{\"marker\":{\"pattern\":{\"fillmode\":\"overlay\",\"size\":10,\"solidity\":0.2}},\"type\":\"histogram\"}],\"scattergl\":[{\"type\":\"scattergl\",\"marker\":{\"colorbar\":{\"outlinewidth\":0,\"ticks\":\"\"}}}],\"scatter3d\":[{\"type\":\"scatter3d\",\"line\":{\"colorbar\":{\"outlinewidth\":0,\"ticks\":\"\"}},\"marker\":{\"colorbar\":{\"outlinewidth\":0,\"ticks\":\"\"}}}],\"scattermapbox\":[{\"type\":\"scattermapbox\",\"marker\":{\"colorbar\":{\"outlinewidth\":0,\"ticks\":\"\"}}}],\"scatterternary\":[{\"type\":\"scatterternary\",\"marker\":{\"colorbar\":{\"outlinewidth\":0,\"ticks\":\"\"}}}],\"scattercarpet\":[{\"type\":\"scattercarpet\",\"marker\":{\"colorbar\":{\"outlinewidth\":0,\"ticks\":\"\"}}}],\"carpet\":[{\"aaxis\":{\"endlinecolor\":\"#2a3f5f\",\"gridcolor\":\"white\",\"linecolor\":\"white\",\"minorgridcolor\":\"white\",\"startlinecolor\":\"#2a3f5f\"},\"baxis\":{\"endlinecolor\":\"#2a3f5f\",\"gridcolor\":\"white\",\"linecolor\":\"white\",\"minorgridcolor\":\"white\",\"startlinecolor\":\"#2a3f5f\"},\"type\":\"carpet\"}],\"table\":[{\"cells\":{\"fill\":{\"color\":\"#EBF0F8\"},\"line\":{\"color\":\"white\"}},\"header\":{\"fill\":{\"color\":\"#C8D4E3\"},\"line\":{\"color\":\"white\"}},\"type\":\"table\"}],\"barpolar\":[{\"marker\":{\"line\":{\"color\":\"#E5ECF6\",\"width\":0.5},\"pattern\":{\"fillmode\":\"overlay\",\"size\":10,\"solidity\":0.2}},\"type\":\"barpolar\"}],\"pie\":[{\"automargin\":true,\"type\":\"pie\"}]},\"layout\":{\"autotypenumbers\":\"strict\",\"colorway\":[\"#636efa\",\"#EF553B\",\"#00cc96\",\"#ab63fa\",\"#FFA15A\",\"#19d3f3\",\"#FF6692\",\"#B6E880\",\"#FF97FF\",\"#FECB52\"],\"font\":{\"color\":\"#2a3f5f\"},\"hovermode\":\"closest\",\"hoverlabel\":{\"align\":\"left\"},\"paper_bgcolor\":\"white\",\"plot_bgcolor\":\"#E5ECF6\",\"polar\":{\"bgcolor\":\"#E5ECF6\",\"angularaxis\":{\"gridcolor\":\"white\",\"linecolor\":\"white\",\"ticks\":\"\"},\"radialaxis\":{\"gridcolor\":\"white\",\"linecolor\":\"white\",\"ticks\":\"\"}},\"ternary\":{\"bgcolor\":\"#E5ECF6\",\"aaxis\":{\"gridcolor\":\"white\",\"linecolor\":\"white\",\"ticks\":\"\"},\"baxis\":{\"gridcolor\":\"white\",\"linecolor\":\"white\",\"ticks\":\"\"},\"caxis\":{\"gridcolor\":\"white\",\"linecolor\":\"white\",\"ticks\":\"\"}},\"coloraxis\":{\"colorbar\":{\"outlinewidth\":0,\"ticks\":\"\"}},\"colorscale\":{\"sequential\":[[0.0,\"#0d0887\"],[0.1111111111111111,\"#46039f\"],[0.2222222222222222,\"#7201a8\"],[0.3333333333333333,\"#9c179e\"],[0.4444444444444444,\"#bd3786\"],[0.5555555555555556,\"#d8576b\"],[0.6666666666666666,\"#ed7953\"],[0.7777777777777778,\"#fb9f3a\"],[0.8888888888888888,\"#fdca26\"],[1.0,\"#f0f921\"]],\"sequentialminus\":[[0.0,\"#0d0887\"],[0.1111111111111111,\"#46039f\"],[0.2222222222222222,\"#7201a8\"],[0.3333333333333333,\"#9c179e\"],[0.4444444444444444,\"#bd3786\"],[0.5555555555555556,\"#d8576b\"],[0.6666666666666666,\"#ed7953\"],[0.7777777777777778,\"#fb9f3a\"],[0.8888888888888888,\"#fdca26\"],[1.0,\"#f0f921\"]],\"diverging\":[[0,\"#8e0152\"],[0.1,\"#c51b7d\"],[0.2,\"#de77ae\"],[0.3,\"#f1b6da\"],[0.4,\"#fde0ef\"],[0.5,\"#f7f7f7\"],[0.6,\"#e6f5d0\"],[0.7,\"#b8e186\"],[0.8,\"#7fbc41\"],[0.9,\"#4d9221\"],[1,\"#276419\"]]},\"xaxis\":{\"gridcolor\":\"white\",\"linecolor\":\"white\",\"ticks\":\"\",\"title\":{\"standoff\":15},\"zerolinecolor\":\"white\",\"automargin\":true,\"zerolinewidth\":2},\"yaxis\":{\"gridcolor\":\"white\",\"linecolor\":\"white\",\"ticks\":\"\",\"title\":{\"standoff\":15},\"zerolinecolor\":\"white\",\"automargin\":true,\"zerolinewidth\":2},\"scene\":{\"xaxis\":{\"backgroundcolor\":\"#E5ECF6\",\"gridcolor\":\"white\",\"linecolor\":\"white\",\"showbackground\":true,\"ticks\":\"\",\"zerolinecolor\":\"white\",\"gridwidth\":2},\"yaxis\":{\"backgroundcolor\":\"#E5ECF6\",\"gridcolor\":\"white\",\"linecolor\":\"white\",\"showbackground\":true,\"ticks\":\"\",\"zerolinecolor\":\"white\",\"gridwidth\":2},\"zaxis\":{\"backgroundcolor\":\"#E5ECF6\",\"gridcolor\":\"white\",\"linecolor\":\"white\",\"showbackground\":true,\"ticks\":\"\",\"zerolinecolor\":\"white\",\"gridwidth\":2}},\"shapedefaults\":{\"line\":{\"color\":\"#2a3f5f\"}},\"annotationdefaults\":{\"arrowcolor\":\"#2a3f5f\",\"arrowhead\":0,\"arrowwidth\":1},\"geo\":{\"bgcolor\":\"white\",\"landcolor\":\"#E5ECF6\",\"subunitcolor\":\"white\",\"showland\":true,\"showlakes\":true,\"lakecolor\":\"white\"},\"title\":{\"x\":0.05},\"mapbox\":{\"style\":\"light\"}}}},                        {\"responsive\": true}                    ).then(function(){\n",
       "                            \n",
       "var gd = document.getElementById('22b8e894-105c-4d0f-abe5-56305226c095');\n",
       "var x = new MutationObserver(function (mutations, observer) {{\n",
       "        var display = window.getComputedStyle(gd).display;\n",
       "        if (!display || display === 'none') {{\n",
       "            console.log([gd, 'removed!']);\n",
       "            Plotly.purge(gd);\n",
       "            observer.disconnect();\n",
       "        }}\n",
       "}});\n",
       "\n",
       "// Listen for the removal of the full notebook cells\n",
       "var notebookContainer = gd.closest('#notebook-container');\n",
       "if (notebookContainer) {{\n",
       "    x.observe(notebookContainer, {childList: true});\n",
       "}}\n",
       "\n",
       "// Listen for the clearing of the current output cell\n",
       "var outputEl = gd.closest('.output');\n",
       "if (outputEl) {{\n",
       "    x.observe(outputEl, {childList: true});\n",
       "}}\n",
       "\n",
       "                        })                };                });            </script>        </div>"
      ]
     },
     "metadata": {},
     "output_type": "display_data"
    },
    {
     "name": "stdout",
     "output_type": "stream",
     "text": [
      "Starting TPE 2 trials...\n",
      "Trial 524 pruned at epoch 1 with R2 0.13478\n"
     ]
    },
    {
     "name": "stderr",
     "output_type": "stream",
     "text": [
      "[I 2024-04-14 03:16:10,976] Trial 524 pruned. \n"
     ]
    },
    {
     "name": "stdout",
     "output_type": "stream",
     "text": [
      "Trial 525 pruned at epoch 1 with R2 -65345482.70915\n"
     ]
    },
    {
     "name": "stderr",
     "output_type": "stream",
     "text": [
      "[I 2024-04-14 03:16:35,511] Trial 525 pruned. \n"
     ]
    },
    {
     "name": "stdout",
     "output_type": "stream",
     "text": [
      "Time taken for TPE trials: 0:00:48.602356\n",
      "Time for one TPE trial: 0:00:24.301209\n",
      "Pareto front:\n",
      "Trial#430, Values: [0.28553583718368597]\n",
      "Time taken for one trial this round: 0:00:22.456839\n",
      "Time this round: 0:01:52.284214\n",
      "--------------------------------------------------\n",
      "Trials done so far: 5\n",
      "Time taken for one trials all rounds: 0:00:22.457110\n",
      "--------------------------------------------------\n",
      "Starting study with 1 random trials, round 1\n",
      "Search time so far taken : 0:01:52.285550\n",
      "--------------------------------------------------\n",
      "Error in r2_score_safe: Input contains infinity or a value too large for dtype('float32').\n",
      "Inf values in predictions\n",
      "Trial number 526 epoch 0\n",
      "Error in r2_score_safe: Input contains infinity or a value too large for dtype('float32').\n",
      "Inf values in predictions\n",
      "Trial number 526 epoch 3\n",
      "Trial 526 pruned at epoch 1 with R2 -inf\n"
     ]
    },
    {
     "name": "stderr",
     "output_type": "stream",
     "text": [
      "[I 2024-04-14 03:16:59,883] Trial 526 pruned. \n"
     ]
    },
    {
     "name": "stdout",
     "output_type": "stream",
     "text": [
      "Time taken for random trials: 0:00:24.288849\n",
      "Time for one random trial: 0:00:24.288904\n"
     ]
    },
    {
     "data": {
      "application/vnd.plotly.v1+json": {
       "config": {
        "plotlyServerURL": "https://plot.ly"
       },
       "data": [
        {
         "marker": {
          "maxdisplayed": 10
         },
         "mode": "lines+markers",
         "name": "Trial526",
         "type": "scatter",
         "x": [
          0,
          1
         ],
         "y": [
          null,
          null
         ]
        }
       ],
       "layout": {
        "showlegend": false,
        "template": {
         "data": {
          "bar": [
           {
            "error_x": {
             "color": "#2a3f5f"
            },
            "error_y": {
             "color": "#2a3f5f"
            },
            "marker": {
             "line": {
              "color": "#E5ECF6",
              "width": 0.5
             },
             "pattern": {
              "fillmode": "overlay",
              "size": 10,
              "solidity": 0.2
             }
            },
            "type": "bar"
           }
          ],
          "barpolar": [
           {
            "marker": {
             "line": {
              "color": "#E5ECF6",
              "width": 0.5
             },
             "pattern": {
              "fillmode": "overlay",
              "size": 10,
              "solidity": 0.2
             }
            },
            "type": "barpolar"
           }
          ],
          "carpet": [
           {
            "aaxis": {
             "endlinecolor": "#2a3f5f",
             "gridcolor": "white",
             "linecolor": "white",
             "minorgridcolor": "white",
             "startlinecolor": "#2a3f5f"
            },
            "baxis": {
             "endlinecolor": "#2a3f5f",
             "gridcolor": "white",
             "linecolor": "white",
             "minorgridcolor": "white",
             "startlinecolor": "#2a3f5f"
            },
            "type": "carpet"
           }
          ],
          "choropleth": [
           {
            "colorbar": {
             "outlinewidth": 0,
             "ticks": ""
            },
            "type": "choropleth"
           }
          ],
          "contour": [
           {
            "colorbar": {
             "outlinewidth": 0,
             "ticks": ""
            },
            "colorscale": [
             [
              0,
              "#0d0887"
             ],
             [
              0.1111111111111111,
              "#46039f"
             ],
             [
              0.2222222222222222,
              "#7201a8"
             ],
             [
              0.3333333333333333,
              "#9c179e"
             ],
             [
              0.4444444444444444,
              "#bd3786"
             ],
             [
              0.5555555555555556,
              "#d8576b"
             ],
             [
              0.6666666666666666,
              "#ed7953"
             ],
             [
              0.7777777777777778,
              "#fb9f3a"
             ],
             [
              0.8888888888888888,
              "#fdca26"
             ],
             [
              1,
              "#f0f921"
             ]
            ],
            "type": "contour"
           }
          ],
          "contourcarpet": [
           {
            "colorbar": {
             "outlinewidth": 0,
             "ticks": ""
            },
            "type": "contourcarpet"
           }
          ],
          "heatmap": [
           {
            "colorbar": {
             "outlinewidth": 0,
             "ticks": ""
            },
            "colorscale": [
             [
              0,
              "#0d0887"
             ],
             [
              0.1111111111111111,
              "#46039f"
             ],
             [
              0.2222222222222222,
              "#7201a8"
             ],
             [
              0.3333333333333333,
              "#9c179e"
             ],
             [
              0.4444444444444444,
              "#bd3786"
             ],
             [
              0.5555555555555556,
              "#d8576b"
             ],
             [
              0.6666666666666666,
              "#ed7953"
             ],
             [
              0.7777777777777778,
              "#fb9f3a"
             ],
             [
              0.8888888888888888,
              "#fdca26"
             ],
             [
              1,
              "#f0f921"
             ]
            ],
            "type": "heatmap"
           }
          ],
          "heatmapgl": [
           {
            "colorbar": {
             "outlinewidth": 0,
             "ticks": ""
            },
            "colorscale": [
             [
              0,
              "#0d0887"
             ],
             [
              0.1111111111111111,
              "#46039f"
             ],
             [
              0.2222222222222222,
              "#7201a8"
             ],
             [
              0.3333333333333333,
              "#9c179e"
             ],
             [
              0.4444444444444444,
              "#bd3786"
             ],
             [
              0.5555555555555556,
              "#d8576b"
             ],
             [
              0.6666666666666666,
              "#ed7953"
             ],
             [
              0.7777777777777778,
              "#fb9f3a"
             ],
             [
              0.8888888888888888,
              "#fdca26"
             ],
             [
              1,
              "#f0f921"
             ]
            ],
            "type": "heatmapgl"
           }
          ],
          "histogram": [
           {
            "marker": {
             "pattern": {
              "fillmode": "overlay",
              "size": 10,
              "solidity": 0.2
             }
            },
            "type": "histogram"
           }
          ],
          "histogram2d": [
           {
            "colorbar": {
             "outlinewidth": 0,
             "ticks": ""
            },
            "colorscale": [
             [
              0,
              "#0d0887"
             ],
             [
              0.1111111111111111,
              "#46039f"
             ],
             [
              0.2222222222222222,
              "#7201a8"
             ],
             [
              0.3333333333333333,
              "#9c179e"
             ],
             [
              0.4444444444444444,
              "#bd3786"
             ],
             [
              0.5555555555555556,
              "#d8576b"
             ],
             [
              0.6666666666666666,
              "#ed7953"
             ],
             [
              0.7777777777777778,
              "#fb9f3a"
             ],
             [
              0.8888888888888888,
              "#fdca26"
             ],
             [
              1,
              "#f0f921"
             ]
            ],
            "type": "histogram2d"
           }
          ],
          "histogram2dcontour": [
           {
            "colorbar": {
             "outlinewidth": 0,
             "ticks": ""
            },
            "colorscale": [
             [
              0,
              "#0d0887"
             ],
             [
              0.1111111111111111,
              "#46039f"
             ],
             [
              0.2222222222222222,
              "#7201a8"
             ],
             [
              0.3333333333333333,
              "#9c179e"
             ],
             [
              0.4444444444444444,
              "#bd3786"
             ],
             [
              0.5555555555555556,
              "#d8576b"
             ],
             [
              0.6666666666666666,
              "#ed7953"
             ],
             [
              0.7777777777777778,
              "#fb9f3a"
             ],
             [
              0.8888888888888888,
              "#fdca26"
             ],
             [
              1,
              "#f0f921"
             ]
            ],
            "type": "histogram2dcontour"
           }
          ],
          "mesh3d": [
           {
            "colorbar": {
             "outlinewidth": 0,
             "ticks": ""
            },
            "type": "mesh3d"
           }
          ],
          "parcoords": [
           {
            "line": {
             "colorbar": {
              "outlinewidth": 0,
              "ticks": ""
             }
            },
            "type": "parcoords"
           }
          ],
          "pie": [
           {
            "automargin": true,
            "type": "pie"
           }
          ],
          "scatter": [
           {
            "fillpattern": {
             "fillmode": "overlay",
             "size": 10,
             "solidity": 0.2
            },
            "type": "scatter"
           }
          ],
          "scatter3d": [
           {
            "line": {
             "colorbar": {
              "outlinewidth": 0,
              "ticks": ""
             }
            },
            "marker": {
             "colorbar": {
              "outlinewidth": 0,
              "ticks": ""
             }
            },
            "type": "scatter3d"
           }
          ],
          "scattercarpet": [
           {
            "marker": {
             "colorbar": {
              "outlinewidth": 0,
              "ticks": ""
             }
            },
            "type": "scattercarpet"
           }
          ],
          "scattergeo": [
           {
            "marker": {
             "colorbar": {
              "outlinewidth": 0,
              "ticks": ""
             }
            },
            "type": "scattergeo"
           }
          ],
          "scattergl": [
           {
            "marker": {
             "colorbar": {
              "outlinewidth": 0,
              "ticks": ""
             }
            },
            "type": "scattergl"
           }
          ],
          "scattermapbox": [
           {
            "marker": {
             "colorbar": {
              "outlinewidth": 0,
              "ticks": ""
             }
            },
            "type": "scattermapbox"
           }
          ],
          "scatterpolar": [
           {
            "marker": {
             "colorbar": {
              "outlinewidth": 0,
              "ticks": ""
             }
            },
            "type": "scatterpolar"
           }
          ],
          "scatterpolargl": [
           {
            "marker": {
             "colorbar": {
              "outlinewidth": 0,
              "ticks": ""
             }
            },
            "type": "scatterpolargl"
           }
          ],
          "scatterternary": [
           {
            "marker": {
             "colorbar": {
              "outlinewidth": 0,
              "ticks": ""
             }
            },
            "type": "scatterternary"
           }
          ],
          "surface": [
           {
            "colorbar": {
             "outlinewidth": 0,
             "ticks": ""
            },
            "colorscale": [
             [
              0,
              "#0d0887"
             ],
             [
              0.1111111111111111,
              "#46039f"
             ],
             [
              0.2222222222222222,
              "#7201a8"
             ],
             [
              0.3333333333333333,
              "#9c179e"
             ],
             [
              0.4444444444444444,
              "#bd3786"
             ],
             [
              0.5555555555555556,
              "#d8576b"
             ],
             [
              0.6666666666666666,
              "#ed7953"
             ],
             [
              0.7777777777777778,
              "#fb9f3a"
             ],
             [
              0.8888888888888888,
              "#fdca26"
             ],
             [
              1,
              "#f0f921"
             ]
            ],
            "type": "surface"
           }
          ],
          "table": [
           {
            "cells": {
             "fill": {
              "color": "#EBF0F8"
             },
             "line": {
              "color": "white"
             }
            },
            "header": {
             "fill": {
              "color": "#C8D4E3"
             },
             "line": {
              "color": "white"
             }
            },
            "type": "table"
           }
          ]
         },
         "layout": {
          "annotationdefaults": {
           "arrowcolor": "#2a3f5f",
           "arrowhead": 0,
           "arrowwidth": 1
          },
          "autotypenumbers": "strict",
          "coloraxis": {
           "colorbar": {
            "outlinewidth": 0,
            "ticks": ""
           }
          },
          "colorscale": {
           "diverging": [
            [
             0,
             "#8e0152"
            ],
            [
             0.1,
             "#c51b7d"
            ],
            [
             0.2,
             "#de77ae"
            ],
            [
             0.3,
             "#f1b6da"
            ],
            [
             0.4,
             "#fde0ef"
            ],
            [
             0.5,
             "#f7f7f7"
            ],
            [
             0.6,
             "#e6f5d0"
            ],
            [
             0.7,
             "#b8e186"
            ],
            [
             0.8,
             "#7fbc41"
            ],
            [
             0.9,
             "#4d9221"
            ],
            [
             1,
             "#276419"
            ]
           ],
           "sequential": [
            [
             0,
             "#0d0887"
            ],
            [
             0.1111111111111111,
             "#46039f"
            ],
            [
             0.2222222222222222,
             "#7201a8"
            ],
            [
             0.3333333333333333,
             "#9c179e"
            ],
            [
             0.4444444444444444,
             "#bd3786"
            ],
            [
             0.5555555555555556,
             "#d8576b"
            ],
            [
             0.6666666666666666,
             "#ed7953"
            ],
            [
             0.7777777777777778,
             "#fb9f3a"
            ],
            [
             0.8888888888888888,
             "#fdca26"
            ],
            [
             1,
             "#f0f921"
            ]
           ],
           "sequentialminus": [
            [
             0,
             "#0d0887"
            ],
            [
             0.1111111111111111,
             "#46039f"
            ],
            [
             0.2222222222222222,
             "#7201a8"
            ],
            [
             0.3333333333333333,
             "#9c179e"
            ],
            [
             0.4444444444444444,
             "#bd3786"
            ],
            [
             0.5555555555555556,
             "#d8576b"
            ],
            [
             0.6666666666666666,
             "#ed7953"
            ],
            [
             0.7777777777777778,
             "#fb9f3a"
            ],
            [
             0.8888888888888888,
             "#fdca26"
            ],
            [
             1,
             "#f0f921"
            ]
           ]
          },
          "colorway": [
           "#636efa",
           "#EF553B",
           "#00cc96",
           "#ab63fa",
           "#FFA15A",
           "#19d3f3",
           "#FF6692",
           "#B6E880",
           "#FF97FF",
           "#FECB52"
          ],
          "font": {
           "color": "#2a3f5f"
          },
          "geo": {
           "bgcolor": "white",
           "lakecolor": "white",
           "landcolor": "#E5ECF6",
           "showlakes": true,
           "showland": true,
           "subunitcolor": "white"
          },
          "hoverlabel": {
           "align": "left"
          },
          "hovermode": "closest",
          "mapbox": {
           "style": "light"
          },
          "paper_bgcolor": "white",
          "plot_bgcolor": "#E5ECF6",
          "polar": {
           "angularaxis": {
            "gridcolor": "white",
            "linecolor": "white",
            "ticks": ""
           },
           "bgcolor": "#E5ECF6",
           "radialaxis": {
            "gridcolor": "white",
            "linecolor": "white",
            "ticks": ""
           }
          },
          "scene": {
           "xaxis": {
            "backgroundcolor": "#E5ECF6",
            "gridcolor": "white",
            "gridwidth": 2,
            "linecolor": "white",
            "showbackground": true,
            "ticks": "",
            "zerolinecolor": "white"
           },
           "yaxis": {
            "backgroundcolor": "#E5ECF6",
            "gridcolor": "white",
            "gridwidth": 2,
            "linecolor": "white",
            "showbackground": true,
            "ticks": "",
            "zerolinecolor": "white"
           },
           "zaxis": {
            "backgroundcolor": "#E5ECF6",
            "gridcolor": "white",
            "gridwidth": 2,
            "linecolor": "white",
            "showbackground": true,
            "ticks": "",
            "zerolinecolor": "white"
           }
          },
          "shapedefaults": {
           "line": {
            "color": "#2a3f5f"
           }
          },
          "ternary": {
           "aaxis": {
            "gridcolor": "white",
            "linecolor": "white",
            "ticks": ""
           },
           "baxis": {
            "gridcolor": "white",
            "linecolor": "white",
            "ticks": ""
           },
           "bgcolor": "#E5ECF6",
           "caxis": {
            "gridcolor": "white",
            "linecolor": "white",
            "ticks": ""
           }
          },
          "title": {
           "x": 0.05
          },
          "xaxis": {
           "automargin": true,
           "gridcolor": "white",
           "linecolor": "white",
           "ticks": "",
           "title": {
            "standoff": 15
           },
           "zerolinecolor": "white",
           "zerolinewidth": 2
          },
          "yaxis": {
           "automargin": true,
           "gridcolor": "white",
           "linecolor": "white",
           "ticks": "",
           "title": {
            "standoff": 15
           },
           "zerolinecolor": "white",
           "zerolinewidth": 2
          }
         }
        },
        "title": {
         "text": "Intermediate Values Plot"
        },
        "xaxis": {
         "title": {
          "text": "Step"
         }
        },
        "yaxis": {
         "title": {
          "text": "Intermediate Value"
         }
        }
       }
      },
      "text/html": [
       "<div>                            <div id=\"5eba6e21-5299-4b26-9557-567ee047dd48\" class=\"plotly-graph-div\" style=\"height:525px; width:100%;\"></div>            <script type=\"text/javascript\">                require([\"plotly\"], function(Plotly) {                    window.PLOTLYENV=window.PLOTLYENV || {};                                    if (document.getElementById(\"5eba6e21-5299-4b26-9557-567ee047dd48\")) {                    Plotly.newPlot(                        \"5eba6e21-5299-4b26-9557-567ee047dd48\",                        [{\"marker\":{\"maxdisplayed\":10},\"mode\":\"lines+markers\",\"name\":\"Trial526\",\"x\":[0,1],\"y\":[null,null],\"type\":\"scatter\"}],                        {\"showlegend\":false,\"title\":{\"text\":\"Intermediate Values Plot\"},\"xaxis\":{\"title\":{\"text\":\"Step\"}},\"yaxis\":{\"title\":{\"text\":\"Intermediate Value\"}},\"template\":{\"data\":{\"histogram2dcontour\":[{\"type\":\"histogram2dcontour\",\"colorbar\":{\"outlinewidth\":0,\"ticks\":\"\"},\"colorscale\":[[0.0,\"#0d0887\"],[0.1111111111111111,\"#46039f\"],[0.2222222222222222,\"#7201a8\"],[0.3333333333333333,\"#9c179e\"],[0.4444444444444444,\"#bd3786\"],[0.5555555555555556,\"#d8576b\"],[0.6666666666666666,\"#ed7953\"],[0.7777777777777778,\"#fb9f3a\"],[0.8888888888888888,\"#fdca26\"],[1.0,\"#f0f921\"]]}],\"choropleth\":[{\"type\":\"choropleth\",\"colorbar\":{\"outlinewidth\":0,\"ticks\":\"\"}}],\"histogram2d\":[{\"type\":\"histogram2d\",\"colorbar\":{\"outlinewidth\":0,\"ticks\":\"\"},\"colorscale\":[[0.0,\"#0d0887\"],[0.1111111111111111,\"#46039f\"],[0.2222222222222222,\"#7201a8\"],[0.3333333333333333,\"#9c179e\"],[0.4444444444444444,\"#bd3786\"],[0.5555555555555556,\"#d8576b\"],[0.6666666666666666,\"#ed7953\"],[0.7777777777777778,\"#fb9f3a\"],[0.8888888888888888,\"#fdca26\"],[1.0,\"#f0f921\"]]}],\"heatmap\":[{\"type\":\"heatmap\",\"colorbar\":{\"outlinewidth\":0,\"ticks\":\"\"},\"colorscale\":[[0.0,\"#0d0887\"],[0.1111111111111111,\"#46039f\"],[0.2222222222222222,\"#7201a8\"],[0.3333333333333333,\"#9c179e\"],[0.4444444444444444,\"#bd3786\"],[0.5555555555555556,\"#d8576b\"],[0.6666666666666666,\"#ed7953\"],[0.7777777777777778,\"#fb9f3a\"],[0.8888888888888888,\"#fdca26\"],[1.0,\"#f0f921\"]]}],\"heatmapgl\":[{\"type\":\"heatmapgl\",\"colorbar\":{\"outlinewidth\":0,\"ticks\":\"\"},\"colorscale\":[[0.0,\"#0d0887\"],[0.1111111111111111,\"#46039f\"],[0.2222222222222222,\"#7201a8\"],[0.3333333333333333,\"#9c179e\"],[0.4444444444444444,\"#bd3786\"],[0.5555555555555556,\"#d8576b\"],[0.6666666666666666,\"#ed7953\"],[0.7777777777777778,\"#fb9f3a\"],[0.8888888888888888,\"#fdca26\"],[1.0,\"#f0f921\"]]}],\"contourcarpet\":[{\"type\":\"contourcarpet\",\"colorbar\":{\"outlinewidth\":0,\"ticks\":\"\"}}],\"contour\":[{\"type\":\"contour\",\"colorbar\":{\"outlinewidth\":0,\"ticks\":\"\"},\"colorscale\":[[0.0,\"#0d0887\"],[0.1111111111111111,\"#46039f\"],[0.2222222222222222,\"#7201a8\"],[0.3333333333333333,\"#9c179e\"],[0.4444444444444444,\"#bd3786\"],[0.5555555555555556,\"#d8576b\"],[0.6666666666666666,\"#ed7953\"],[0.7777777777777778,\"#fb9f3a\"],[0.8888888888888888,\"#fdca26\"],[1.0,\"#f0f921\"]]}],\"surface\":[{\"type\":\"surface\",\"colorbar\":{\"outlinewidth\":0,\"ticks\":\"\"},\"colorscale\":[[0.0,\"#0d0887\"],[0.1111111111111111,\"#46039f\"],[0.2222222222222222,\"#7201a8\"],[0.3333333333333333,\"#9c179e\"],[0.4444444444444444,\"#bd3786\"],[0.5555555555555556,\"#d8576b\"],[0.6666666666666666,\"#ed7953\"],[0.7777777777777778,\"#fb9f3a\"],[0.8888888888888888,\"#fdca26\"],[1.0,\"#f0f921\"]]}],\"mesh3d\":[{\"type\":\"mesh3d\",\"colorbar\":{\"outlinewidth\":0,\"ticks\":\"\"}}],\"scatter\":[{\"fillpattern\":{\"fillmode\":\"overlay\",\"size\":10,\"solidity\":0.2},\"type\":\"scatter\"}],\"parcoords\":[{\"type\":\"parcoords\",\"line\":{\"colorbar\":{\"outlinewidth\":0,\"ticks\":\"\"}}}],\"scatterpolargl\":[{\"type\":\"scatterpolargl\",\"marker\":{\"colorbar\":{\"outlinewidth\":0,\"ticks\":\"\"}}}],\"bar\":[{\"error_x\":{\"color\":\"#2a3f5f\"},\"error_y\":{\"color\":\"#2a3f5f\"},\"marker\":{\"line\":{\"color\":\"#E5ECF6\",\"width\":0.5},\"pattern\":{\"fillmode\":\"overlay\",\"size\":10,\"solidity\":0.2}},\"type\":\"bar\"}],\"scattergeo\":[{\"type\":\"scattergeo\",\"marker\":{\"colorbar\":{\"outlinewidth\":0,\"ticks\":\"\"}}}],\"scatterpolar\":[{\"type\":\"scatterpolar\",\"marker\":{\"colorbar\":{\"outlinewidth\":0,\"ticks\":\"\"}}}],\"histogram\":[{\"marker\":{\"pattern\":{\"fillmode\":\"overlay\",\"size\":10,\"solidity\":0.2}},\"type\":\"histogram\"}],\"scattergl\":[{\"type\":\"scattergl\",\"marker\":{\"colorbar\":{\"outlinewidth\":0,\"ticks\":\"\"}}}],\"scatter3d\":[{\"type\":\"scatter3d\",\"line\":{\"colorbar\":{\"outlinewidth\":0,\"ticks\":\"\"}},\"marker\":{\"colorbar\":{\"outlinewidth\":0,\"ticks\":\"\"}}}],\"scattermapbox\":[{\"type\":\"scattermapbox\",\"marker\":{\"colorbar\":{\"outlinewidth\":0,\"ticks\":\"\"}}}],\"scatterternary\":[{\"type\":\"scatterternary\",\"marker\":{\"colorbar\":{\"outlinewidth\":0,\"ticks\":\"\"}}}],\"scattercarpet\":[{\"type\":\"scattercarpet\",\"marker\":{\"colorbar\":{\"outlinewidth\":0,\"ticks\":\"\"}}}],\"carpet\":[{\"aaxis\":{\"endlinecolor\":\"#2a3f5f\",\"gridcolor\":\"white\",\"linecolor\":\"white\",\"minorgridcolor\":\"white\",\"startlinecolor\":\"#2a3f5f\"},\"baxis\":{\"endlinecolor\":\"#2a3f5f\",\"gridcolor\":\"white\",\"linecolor\":\"white\",\"minorgridcolor\":\"white\",\"startlinecolor\":\"#2a3f5f\"},\"type\":\"carpet\"}],\"table\":[{\"cells\":{\"fill\":{\"color\":\"#EBF0F8\"},\"line\":{\"color\":\"white\"}},\"header\":{\"fill\":{\"color\":\"#C8D4E3\"},\"line\":{\"color\":\"white\"}},\"type\":\"table\"}],\"barpolar\":[{\"marker\":{\"line\":{\"color\":\"#E5ECF6\",\"width\":0.5},\"pattern\":{\"fillmode\":\"overlay\",\"size\":10,\"solidity\":0.2}},\"type\":\"barpolar\"}],\"pie\":[{\"automargin\":true,\"type\":\"pie\"}]},\"layout\":{\"autotypenumbers\":\"strict\",\"colorway\":[\"#636efa\",\"#EF553B\",\"#00cc96\",\"#ab63fa\",\"#FFA15A\",\"#19d3f3\",\"#FF6692\",\"#B6E880\",\"#FF97FF\",\"#FECB52\"],\"font\":{\"color\":\"#2a3f5f\"},\"hovermode\":\"closest\",\"hoverlabel\":{\"align\":\"left\"},\"paper_bgcolor\":\"white\",\"plot_bgcolor\":\"#E5ECF6\",\"polar\":{\"bgcolor\":\"#E5ECF6\",\"angularaxis\":{\"gridcolor\":\"white\",\"linecolor\":\"white\",\"ticks\":\"\"},\"radialaxis\":{\"gridcolor\":\"white\",\"linecolor\":\"white\",\"ticks\":\"\"}},\"ternary\":{\"bgcolor\":\"#E5ECF6\",\"aaxis\":{\"gridcolor\":\"white\",\"linecolor\":\"white\",\"ticks\":\"\"},\"baxis\":{\"gridcolor\":\"white\",\"linecolor\":\"white\",\"ticks\":\"\"},\"caxis\":{\"gridcolor\":\"white\",\"linecolor\":\"white\",\"ticks\":\"\"}},\"coloraxis\":{\"colorbar\":{\"outlinewidth\":0,\"ticks\":\"\"}},\"colorscale\":{\"sequential\":[[0.0,\"#0d0887\"],[0.1111111111111111,\"#46039f\"],[0.2222222222222222,\"#7201a8\"],[0.3333333333333333,\"#9c179e\"],[0.4444444444444444,\"#bd3786\"],[0.5555555555555556,\"#d8576b\"],[0.6666666666666666,\"#ed7953\"],[0.7777777777777778,\"#fb9f3a\"],[0.8888888888888888,\"#fdca26\"],[1.0,\"#f0f921\"]],\"sequentialminus\":[[0.0,\"#0d0887\"],[0.1111111111111111,\"#46039f\"],[0.2222222222222222,\"#7201a8\"],[0.3333333333333333,\"#9c179e\"],[0.4444444444444444,\"#bd3786\"],[0.5555555555555556,\"#d8576b\"],[0.6666666666666666,\"#ed7953\"],[0.7777777777777778,\"#fb9f3a\"],[0.8888888888888888,\"#fdca26\"],[1.0,\"#f0f921\"]],\"diverging\":[[0,\"#8e0152\"],[0.1,\"#c51b7d\"],[0.2,\"#de77ae\"],[0.3,\"#f1b6da\"],[0.4,\"#fde0ef\"],[0.5,\"#f7f7f7\"],[0.6,\"#e6f5d0\"],[0.7,\"#b8e186\"],[0.8,\"#7fbc41\"],[0.9,\"#4d9221\"],[1,\"#276419\"]]},\"xaxis\":{\"gridcolor\":\"white\",\"linecolor\":\"white\",\"ticks\":\"\",\"title\":{\"standoff\":15},\"zerolinecolor\":\"white\",\"automargin\":true,\"zerolinewidth\":2},\"yaxis\":{\"gridcolor\":\"white\",\"linecolor\":\"white\",\"ticks\":\"\",\"title\":{\"standoff\":15},\"zerolinecolor\":\"white\",\"automargin\":true,\"zerolinewidth\":2},\"scene\":{\"xaxis\":{\"backgroundcolor\":\"#E5ECF6\",\"gridcolor\":\"white\",\"linecolor\":\"white\",\"showbackground\":true,\"ticks\":\"\",\"zerolinecolor\":\"white\",\"gridwidth\":2},\"yaxis\":{\"backgroundcolor\":\"#E5ECF6\",\"gridcolor\":\"white\",\"linecolor\":\"white\",\"showbackground\":true,\"ticks\":\"\",\"zerolinecolor\":\"white\",\"gridwidth\":2},\"zaxis\":{\"backgroundcolor\":\"#E5ECF6\",\"gridcolor\":\"white\",\"linecolor\":\"white\",\"showbackground\":true,\"ticks\":\"\",\"zerolinecolor\":\"white\",\"gridwidth\":2}},\"shapedefaults\":{\"line\":{\"color\":\"#2a3f5f\"}},\"annotationdefaults\":{\"arrowcolor\":\"#2a3f5f\",\"arrowhead\":0,\"arrowwidth\":1},\"geo\":{\"bgcolor\":\"white\",\"landcolor\":\"#E5ECF6\",\"subunitcolor\":\"white\",\"showland\":true,\"showlakes\":true,\"lakecolor\":\"white\"},\"title\":{\"x\":0.05},\"mapbox\":{\"style\":\"light\"}}}},                        {\"responsive\": true}                    ).then(function(){\n",
       "                            \n",
       "var gd = document.getElementById('5eba6e21-5299-4b26-9557-567ee047dd48');\n",
       "var x = new MutationObserver(function (mutations, observer) {{\n",
       "        var display = window.getComputedStyle(gd).display;\n",
       "        if (!display || display === 'none') {{\n",
       "            console.log([gd, 'removed!']);\n",
       "            Plotly.purge(gd);\n",
       "            observer.disconnect();\n",
       "        }}\n",
       "}});\n",
       "\n",
       "// Listen for the removal of the full notebook cells\n",
       "var notebookContainer = gd.closest('#notebook-container');\n",
       "if (notebookContainer) {{\n",
       "    x.observe(notebookContainer, {childList: true});\n",
       "}}\n",
       "\n",
       "// Listen for the clearing of the current output cell\n",
       "var outputEl = gd.closest('.output');\n",
       "if (outputEl) {{\n",
       "    x.observe(outputEl, {childList: true});\n",
       "}}\n",
       "\n",
       "                        })                };                });            </script>        </div>"
      ]
     },
     "metadata": {},
     "output_type": "display_data"
    },
    {
     "name": "stdout",
     "output_type": "stream",
     "text": [
      "Starting gene 2 trials...\n",
      "Error in r2_score_safe: Input contains infinity or a value too large for dtype('float32').\n",
      "Inf values in predictions\n",
      "Trial number 527 epoch 0\n",
      "Error in r2_score_safe: Input contains infinity or a value too large for dtype('float32').\n",
      "Inf values in predictions\n",
      "Trial number 527 epoch 3\n",
      "Trial 527 pruned at epoch 1 with R2 -inf\n"
     ]
    },
    {
     "name": "stderr",
     "output_type": "stream",
     "text": [
      "[I 2024-04-14 03:17:20,240] Trial 527 pruned. \n"
     ]
    },
    {
     "name": "stdout",
     "output_type": "stream",
     "text": [
      "Trial 528 pruned at epoch 1 with R2 -15230.79370\n"
     ]
    },
    {
     "name": "stderr",
     "output_type": "stream",
     "text": [
      "[I 2024-04-14 03:17:41,287] Trial 528 pruned. \n"
     ]
    },
    {
     "name": "stdout",
     "output_type": "stream",
     "text": [
      "Time taken for gene trials: 0:00:41.391602\n",
      "Time for one gene trial: 0:00:20.695826\n"
     ]
    },
    {
     "data": {
      "application/vnd.plotly.v1+json": {
       "config": {
        "plotlyServerURL": "https://plot.ly"
       },
       "data": [
        {
         "marker": {
          "maxdisplayed": 10
         },
         "mode": "lines+markers",
         "name": "Trial527",
         "type": "scatter",
         "x": [
          0,
          1
         ],
         "y": [
          null,
          null
         ]
        },
        {
         "marker": {
          "maxdisplayed": 10
         },
         "mode": "lines+markers",
         "name": "Trial528",
         "type": "scatter",
         "x": [
          0,
          1
         ],
         "y": [
          -75651.72149974373,
          -15230.793701886445
         ]
        }
       ],
       "layout": {
        "showlegend": false,
        "template": {
         "data": {
          "bar": [
           {
            "error_x": {
             "color": "#2a3f5f"
            },
            "error_y": {
             "color": "#2a3f5f"
            },
            "marker": {
             "line": {
              "color": "#E5ECF6",
              "width": 0.5
             },
             "pattern": {
              "fillmode": "overlay",
              "size": 10,
              "solidity": 0.2
             }
            },
            "type": "bar"
           }
          ],
          "barpolar": [
           {
            "marker": {
             "line": {
              "color": "#E5ECF6",
              "width": 0.5
             },
             "pattern": {
              "fillmode": "overlay",
              "size": 10,
              "solidity": 0.2
             }
            },
            "type": "barpolar"
           }
          ],
          "carpet": [
           {
            "aaxis": {
             "endlinecolor": "#2a3f5f",
             "gridcolor": "white",
             "linecolor": "white",
             "minorgridcolor": "white",
             "startlinecolor": "#2a3f5f"
            },
            "baxis": {
             "endlinecolor": "#2a3f5f",
             "gridcolor": "white",
             "linecolor": "white",
             "minorgridcolor": "white",
             "startlinecolor": "#2a3f5f"
            },
            "type": "carpet"
           }
          ],
          "choropleth": [
           {
            "colorbar": {
             "outlinewidth": 0,
             "ticks": ""
            },
            "type": "choropleth"
           }
          ],
          "contour": [
           {
            "colorbar": {
             "outlinewidth": 0,
             "ticks": ""
            },
            "colorscale": [
             [
              0,
              "#0d0887"
             ],
             [
              0.1111111111111111,
              "#46039f"
             ],
             [
              0.2222222222222222,
              "#7201a8"
             ],
             [
              0.3333333333333333,
              "#9c179e"
             ],
             [
              0.4444444444444444,
              "#bd3786"
             ],
             [
              0.5555555555555556,
              "#d8576b"
             ],
             [
              0.6666666666666666,
              "#ed7953"
             ],
             [
              0.7777777777777778,
              "#fb9f3a"
             ],
             [
              0.8888888888888888,
              "#fdca26"
             ],
             [
              1,
              "#f0f921"
             ]
            ],
            "type": "contour"
           }
          ],
          "contourcarpet": [
           {
            "colorbar": {
             "outlinewidth": 0,
             "ticks": ""
            },
            "type": "contourcarpet"
           }
          ],
          "heatmap": [
           {
            "colorbar": {
             "outlinewidth": 0,
             "ticks": ""
            },
            "colorscale": [
             [
              0,
              "#0d0887"
             ],
             [
              0.1111111111111111,
              "#46039f"
             ],
             [
              0.2222222222222222,
              "#7201a8"
             ],
             [
              0.3333333333333333,
              "#9c179e"
             ],
             [
              0.4444444444444444,
              "#bd3786"
             ],
             [
              0.5555555555555556,
              "#d8576b"
             ],
             [
              0.6666666666666666,
              "#ed7953"
             ],
             [
              0.7777777777777778,
              "#fb9f3a"
             ],
             [
              0.8888888888888888,
              "#fdca26"
             ],
             [
              1,
              "#f0f921"
             ]
            ],
            "type": "heatmap"
           }
          ],
          "heatmapgl": [
           {
            "colorbar": {
             "outlinewidth": 0,
             "ticks": ""
            },
            "colorscale": [
             [
              0,
              "#0d0887"
             ],
             [
              0.1111111111111111,
              "#46039f"
             ],
             [
              0.2222222222222222,
              "#7201a8"
             ],
             [
              0.3333333333333333,
              "#9c179e"
             ],
             [
              0.4444444444444444,
              "#bd3786"
             ],
             [
              0.5555555555555556,
              "#d8576b"
             ],
             [
              0.6666666666666666,
              "#ed7953"
             ],
             [
              0.7777777777777778,
              "#fb9f3a"
             ],
             [
              0.8888888888888888,
              "#fdca26"
             ],
             [
              1,
              "#f0f921"
             ]
            ],
            "type": "heatmapgl"
           }
          ],
          "histogram": [
           {
            "marker": {
             "pattern": {
              "fillmode": "overlay",
              "size": 10,
              "solidity": 0.2
             }
            },
            "type": "histogram"
           }
          ],
          "histogram2d": [
           {
            "colorbar": {
             "outlinewidth": 0,
             "ticks": ""
            },
            "colorscale": [
             [
              0,
              "#0d0887"
             ],
             [
              0.1111111111111111,
              "#46039f"
             ],
             [
              0.2222222222222222,
              "#7201a8"
             ],
             [
              0.3333333333333333,
              "#9c179e"
             ],
             [
              0.4444444444444444,
              "#bd3786"
             ],
             [
              0.5555555555555556,
              "#d8576b"
             ],
             [
              0.6666666666666666,
              "#ed7953"
             ],
             [
              0.7777777777777778,
              "#fb9f3a"
             ],
             [
              0.8888888888888888,
              "#fdca26"
             ],
             [
              1,
              "#f0f921"
             ]
            ],
            "type": "histogram2d"
           }
          ],
          "histogram2dcontour": [
           {
            "colorbar": {
             "outlinewidth": 0,
             "ticks": ""
            },
            "colorscale": [
             [
              0,
              "#0d0887"
             ],
             [
              0.1111111111111111,
              "#46039f"
             ],
             [
              0.2222222222222222,
              "#7201a8"
             ],
             [
              0.3333333333333333,
              "#9c179e"
             ],
             [
              0.4444444444444444,
              "#bd3786"
             ],
             [
              0.5555555555555556,
              "#d8576b"
             ],
             [
              0.6666666666666666,
              "#ed7953"
             ],
             [
              0.7777777777777778,
              "#fb9f3a"
             ],
             [
              0.8888888888888888,
              "#fdca26"
             ],
             [
              1,
              "#f0f921"
             ]
            ],
            "type": "histogram2dcontour"
           }
          ],
          "mesh3d": [
           {
            "colorbar": {
             "outlinewidth": 0,
             "ticks": ""
            },
            "type": "mesh3d"
           }
          ],
          "parcoords": [
           {
            "line": {
             "colorbar": {
              "outlinewidth": 0,
              "ticks": ""
             }
            },
            "type": "parcoords"
           }
          ],
          "pie": [
           {
            "automargin": true,
            "type": "pie"
           }
          ],
          "scatter": [
           {
            "fillpattern": {
             "fillmode": "overlay",
             "size": 10,
             "solidity": 0.2
            },
            "type": "scatter"
           }
          ],
          "scatter3d": [
           {
            "line": {
             "colorbar": {
              "outlinewidth": 0,
              "ticks": ""
             }
            },
            "marker": {
             "colorbar": {
              "outlinewidth": 0,
              "ticks": ""
             }
            },
            "type": "scatter3d"
           }
          ],
          "scattercarpet": [
           {
            "marker": {
             "colorbar": {
              "outlinewidth": 0,
              "ticks": ""
             }
            },
            "type": "scattercarpet"
           }
          ],
          "scattergeo": [
           {
            "marker": {
             "colorbar": {
              "outlinewidth": 0,
              "ticks": ""
             }
            },
            "type": "scattergeo"
           }
          ],
          "scattergl": [
           {
            "marker": {
             "colorbar": {
              "outlinewidth": 0,
              "ticks": ""
             }
            },
            "type": "scattergl"
           }
          ],
          "scattermapbox": [
           {
            "marker": {
             "colorbar": {
              "outlinewidth": 0,
              "ticks": ""
             }
            },
            "type": "scattermapbox"
           }
          ],
          "scatterpolar": [
           {
            "marker": {
             "colorbar": {
              "outlinewidth": 0,
              "ticks": ""
             }
            },
            "type": "scatterpolar"
           }
          ],
          "scatterpolargl": [
           {
            "marker": {
             "colorbar": {
              "outlinewidth": 0,
              "ticks": ""
             }
            },
            "type": "scatterpolargl"
           }
          ],
          "scatterternary": [
           {
            "marker": {
             "colorbar": {
              "outlinewidth": 0,
              "ticks": ""
             }
            },
            "type": "scatterternary"
           }
          ],
          "surface": [
           {
            "colorbar": {
             "outlinewidth": 0,
             "ticks": ""
            },
            "colorscale": [
             [
              0,
              "#0d0887"
             ],
             [
              0.1111111111111111,
              "#46039f"
             ],
             [
              0.2222222222222222,
              "#7201a8"
             ],
             [
              0.3333333333333333,
              "#9c179e"
             ],
             [
              0.4444444444444444,
              "#bd3786"
             ],
             [
              0.5555555555555556,
              "#d8576b"
             ],
             [
              0.6666666666666666,
              "#ed7953"
             ],
             [
              0.7777777777777778,
              "#fb9f3a"
             ],
             [
              0.8888888888888888,
              "#fdca26"
             ],
             [
              1,
              "#f0f921"
             ]
            ],
            "type": "surface"
           }
          ],
          "table": [
           {
            "cells": {
             "fill": {
              "color": "#EBF0F8"
             },
             "line": {
              "color": "white"
             }
            },
            "header": {
             "fill": {
              "color": "#C8D4E3"
             },
             "line": {
              "color": "white"
             }
            },
            "type": "table"
           }
          ]
         },
         "layout": {
          "annotationdefaults": {
           "arrowcolor": "#2a3f5f",
           "arrowhead": 0,
           "arrowwidth": 1
          },
          "autotypenumbers": "strict",
          "coloraxis": {
           "colorbar": {
            "outlinewidth": 0,
            "ticks": ""
           }
          },
          "colorscale": {
           "diverging": [
            [
             0,
             "#8e0152"
            ],
            [
             0.1,
             "#c51b7d"
            ],
            [
             0.2,
             "#de77ae"
            ],
            [
             0.3,
             "#f1b6da"
            ],
            [
             0.4,
             "#fde0ef"
            ],
            [
             0.5,
             "#f7f7f7"
            ],
            [
             0.6,
             "#e6f5d0"
            ],
            [
             0.7,
             "#b8e186"
            ],
            [
             0.8,
             "#7fbc41"
            ],
            [
             0.9,
             "#4d9221"
            ],
            [
             1,
             "#276419"
            ]
           ],
           "sequential": [
            [
             0,
             "#0d0887"
            ],
            [
             0.1111111111111111,
             "#46039f"
            ],
            [
             0.2222222222222222,
             "#7201a8"
            ],
            [
             0.3333333333333333,
             "#9c179e"
            ],
            [
             0.4444444444444444,
             "#bd3786"
            ],
            [
             0.5555555555555556,
             "#d8576b"
            ],
            [
             0.6666666666666666,
             "#ed7953"
            ],
            [
             0.7777777777777778,
             "#fb9f3a"
            ],
            [
             0.8888888888888888,
             "#fdca26"
            ],
            [
             1,
             "#f0f921"
            ]
           ],
           "sequentialminus": [
            [
             0,
             "#0d0887"
            ],
            [
             0.1111111111111111,
             "#46039f"
            ],
            [
             0.2222222222222222,
             "#7201a8"
            ],
            [
             0.3333333333333333,
             "#9c179e"
            ],
            [
             0.4444444444444444,
             "#bd3786"
            ],
            [
             0.5555555555555556,
             "#d8576b"
            ],
            [
             0.6666666666666666,
             "#ed7953"
            ],
            [
             0.7777777777777778,
             "#fb9f3a"
            ],
            [
             0.8888888888888888,
             "#fdca26"
            ],
            [
             1,
             "#f0f921"
            ]
           ]
          },
          "colorway": [
           "#636efa",
           "#EF553B",
           "#00cc96",
           "#ab63fa",
           "#FFA15A",
           "#19d3f3",
           "#FF6692",
           "#B6E880",
           "#FF97FF",
           "#FECB52"
          ],
          "font": {
           "color": "#2a3f5f"
          },
          "geo": {
           "bgcolor": "white",
           "lakecolor": "white",
           "landcolor": "#E5ECF6",
           "showlakes": true,
           "showland": true,
           "subunitcolor": "white"
          },
          "hoverlabel": {
           "align": "left"
          },
          "hovermode": "closest",
          "mapbox": {
           "style": "light"
          },
          "paper_bgcolor": "white",
          "plot_bgcolor": "#E5ECF6",
          "polar": {
           "angularaxis": {
            "gridcolor": "white",
            "linecolor": "white",
            "ticks": ""
           },
           "bgcolor": "#E5ECF6",
           "radialaxis": {
            "gridcolor": "white",
            "linecolor": "white",
            "ticks": ""
           }
          },
          "scene": {
           "xaxis": {
            "backgroundcolor": "#E5ECF6",
            "gridcolor": "white",
            "gridwidth": 2,
            "linecolor": "white",
            "showbackground": true,
            "ticks": "",
            "zerolinecolor": "white"
           },
           "yaxis": {
            "backgroundcolor": "#E5ECF6",
            "gridcolor": "white",
            "gridwidth": 2,
            "linecolor": "white",
            "showbackground": true,
            "ticks": "",
            "zerolinecolor": "white"
           },
           "zaxis": {
            "backgroundcolor": "#E5ECF6",
            "gridcolor": "white",
            "gridwidth": 2,
            "linecolor": "white",
            "showbackground": true,
            "ticks": "",
            "zerolinecolor": "white"
           }
          },
          "shapedefaults": {
           "line": {
            "color": "#2a3f5f"
           }
          },
          "ternary": {
           "aaxis": {
            "gridcolor": "white",
            "linecolor": "white",
            "ticks": ""
           },
           "baxis": {
            "gridcolor": "white",
            "linecolor": "white",
            "ticks": ""
           },
           "bgcolor": "#E5ECF6",
           "caxis": {
            "gridcolor": "white",
            "linecolor": "white",
            "ticks": ""
           }
          },
          "title": {
           "x": 0.05
          },
          "xaxis": {
           "automargin": true,
           "gridcolor": "white",
           "linecolor": "white",
           "ticks": "",
           "title": {
            "standoff": 15
           },
           "zerolinecolor": "white",
           "zerolinewidth": 2
          },
          "yaxis": {
           "automargin": true,
           "gridcolor": "white",
           "linecolor": "white",
           "ticks": "",
           "title": {
            "standoff": 15
           },
           "zerolinecolor": "white",
           "zerolinewidth": 2
          }
         }
        },
        "title": {
         "text": "Intermediate Values Plot"
        },
        "xaxis": {
         "title": {
          "text": "Step"
         }
        },
        "yaxis": {
         "title": {
          "text": "Intermediate Value"
         }
        }
       }
      },
      "text/html": [
       "<div>                            <div id=\"377a8610-e56c-4b2c-ab71-cf1240932bff\" class=\"plotly-graph-div\" style=\"height:525px; width:100%;\"></div>            <script type=\"text/javascript\">                require([\"plotly\"], function(Plotly) {                    window.PLOTLYENV=window.PLOTLYENV || {};                                    if (document.getElementById(\"377a8610-e56c-4b2c-ab71-cf1240932bff\")) {                    Plotly.newPlot(                        \"377a8610-e56c-4b2c-ab71-cf1240932bff\",                        [{\"marker\":{\"maxdisplayed\":10},\"mode\":\"lines+markers\",\"name\":\"Trial527\",\"x\":[0,1],\"y\":[null,null],\"type\":\"scatter\"},{\"marker\":{\"maxdisplayed\":10},\"mode\":\"lines+markers\",\"name\":\"Trial528\",\"x\":[0,1],\"y\":[-75651.72149974373,-15230.793701886445],\"type\":\"scatter\"}],                        {\"showlegend\":false,\"title\":{\"text\":\"Intermediate Values Plot\"},\"xaxis\":{\"title\":{\"text\":\"Step\"}},\"yaxis\":{\"title\":{\"text\":\"Intermediate Value\"}},\"template\":{\"data\":{\"histogram2dcontour\":[{\"type\":\"histogram2dcontour\",\"colorbar\":{\"outlinewidth\":0,\"ticks\":\"\"},\"colorscale\":[[0.0,\"#0d0887\"],[0.1111111111111111,\"#46039f\"],[0.2222222222222222,\"#7201a8\"],[0.3333333333333333,\"#9c179e\"],[0.4444444444444444,\"#bd3786\"],[0.5555555555555556,\"#d8576b\"],[0.6666666666666666,\"#ed7953\"],[0.7777777777777778,\"#fb9f3a\"],[0.8888888888888888,\"#fdca26\"],[1.0,\"#f0f921\"]]}],\"choropleth\":[{\"type\":\"choropleth\",\"colorbar\":{\"outlinewidth\":0,\"ticks\":\"\"}}],\"histogram2d\":[{\"type\":\"histogram2d\",\"colorbar\":{\"outlinewidth\":0,\"ticks\":\"\"},\"colorscale\":[[0.0,\"#0d0887\"],[0.1111111111111111,\"#46039f\"],[0.2222222222222222,\"#7201a8\"],[0.3333333333333333,\"#9c179e\"],[0.4444444444444444,\"#bd3786\"],[0.5555555555555556,\"#d8576b\"],[0.6666666666666666,\"#ed7953\"],[0.7777777777777778,\"#fb9f3a\"],[0.8888888888888888,\"#fdca26\"],[1.0,\"#f0f921\"]]}],\"heatmap\":[{\"type\":\"heatmap\",\"colorbar\":{\"outlinewidth\":0,\"ticks\":\"\"},\"colorscale\":[[0.0,\"#0d0887\"],[0.1111111111111111,\"#46039f\"],[0.2222222222222222,\"#7201a8\"],[0.3333333333333333,\"#9c179e\"],[0.4444444444444444,\"#bd3786\"],[0.5555555555555556,\"#d8576b\"],[0.6666666666666666,\"#ed7953\"],[0.7777777777777778,\"#fb9f3a\"],[0.8888888888888888,\"#fdca26\"],[1.0,\"#f0f921\"]]}],\"heatmapgl\":[{\"type\":\"heatmapgl\",\"colorbar\":{\"outlinewidth\":0,\"ticks\":\"\"},\"colorscale\":[[0.0,\"#0d0887\"],[0.1111111111111111,\"#46039f\"],[0.2222222222222222,\"#7201a8\"],[0.3333333333333333,\"#9c179e\"],[0.4444444444444444,\"#bd3786\"],[0.5555555555555556,\"#d8576b\"],[0.6666666666666666,\"#ed7953\"],[0.7777777777777778,\"#fb9f3a\"],[0.8888888888888888,\"#fdca26\"],[1.0,\"#f0f921\"]]}],\"contourcarpet\":[{\"type\":\"contourcarpet\",\"colorbar\":{\"outlinewidth\":0,\"ticks\":\"\"}}],\"contour\":[{\"type\":\"contour\",\"colorbar\":{\"outlinewidth\":0,\"ticks\":\"\"},\"colorscale\":[[0.0,\"#0d0887\"],[0.1111111111111111,\"#46039f\"],[0.2222222222222222,\"#7201a8\"],[0.3333333333333333,\"#9c179e\"],[0.4444444444444444,\"#bd3786\"],[0.5555555555555556,\"#d8576b\"],[0.6666666666666666,\"#ed7953\"],[0.7777777777777778,\"#fb9f3a\"],[0.8888888888888888,\"#fdca26\"],[1.0,\"#f0f921\"]]}],\"surface\":[{\"type\":\"surface\",\"colorbar\":{\"outlinewidth\":0,\"ticks\":\"\"},\"colorscale\":[[0.0,\"#0d0887\"],[0.1111111111111111,\"#46039f\"],[0.2222222222222222,\"#7201a8\"],[0.3333333333333333,\"#9c179e\"],[0.4444444444444444,\"#bd3786\"],[0.5555555555555556,\"#d8576b\"],[0.6666666666666666,\"#ed7953\"],[0.7777777777777778,\"#fb9f3a\"],[0.8888888888888888,\"#fdca26\"],[1.0,\"#f0f921\"]]}],\"mesh3d\":[{\"type\":\"mesh3d\",\"colorbar\":{\"outlinewidth\":0,\"ticks\":\"\"}}],\"scatter\":[{\"fillpattern\":{\"fillmode\":\"overlay\",\"size\":10,\"solidity\":0.2},\"type\":\"scatter\"}],\"parcoords\":[{\"type\":\"parcoords\",\"line\":{\"colorbar\":{\"outlinewidth\":0,\"ticks\":\"\"}}}],\"scatterpolargl\":[{\"type\":\"scatterpolargl\",\"marker\":{\"colorbar\":{\"outlinewidth\":0,\"ticks\":\"\"}}}],\"bar\":[{\"error_x\":{\"color\":\"#2a3f5f\"},\"error_y\":{\"color\":\"#2a3f5f\"},\"marker\":{\"line\":{\"color\":\"#E5ECF6\",\"width\":0.5},\"pattern\":{\"fillmode\":\"overlay\",\"size\":10,\"solidity\":0.2}},\"type\":\"bar\"}],\"scattergeo\":[{\"type\":\"scattergeo\",\"marker\":{\"colorbar\":{\"outlinewidth\":0,\"ticks\":\"\"}}}],\"scatterpolar\":[{\"type\":\"scatterpolar\",\"marker\":{\"colorbar\":{\"outlinewidth\":0,\"ticks\":\"\"}}}],\"histogram\":[{\"marker\":{\"pattern\":{\"fillmode\":\"overlay\",\"size\":10,\"solidity\":0.2}},\"type\":\"histogram\"}],\"scattergl\":[{\"type\":\"scattergl\",\"marker\":{\"colorbar\":{\"outlinewidth\":0,\"ticks\":\"\"}}}],\"scatter3d\":[{\"type\":\"scatter3d\",\"line\":{\"colorbar\":{\"outlinewidth\":0,\"ticks\":\"\"}},\"marker\":{\"colorbar\":{\"outlinewidth\":0,\"ticks\":\"\"}}}],\"scattermapbox\":[{\"type\":\"scattermapbox\",\"marker\":{\"colorbar\":{\"outlinewidth\":0,\"ticks\":\"\"}}}],\"scatterternary\":[{\"type\":\"scatterternary\",\"marker\":{\"colorbar\":{\"outlinewidth\":0,\"ticks\":\"\"}}}],\"scattercarpet\":[{\"type\":\"scattercarpet\",\"marker\":{\"colorbar\":{\"outlinewidth\":0,\"ticks\":\"\"}}}],\"carpet\":[{\"aaxis\":{\"endlinecolor\":\"#2a3f5f\",\"gridcolor\":\"white\",\"linecolor\":\"white\",\"minorgridcolor\":\"white\",\"startlinecolor\":\"#2a3f5f\"},\"baxis\":{\"endlinecolor\":\"#2a3f5f\",\"gridcolor\":\"white\",\"linecolor\":\"white\",\"minorgridcolor\":\"white\",\"startlinecolor\":\"#2a3f5f\"},\"type\":\"carpet\"}],\"table\":[{\"cells\":{\"fill\":{\"color\":\"#EBF0F8\"},\"line\":{\"color\":\"white\"}},\"header\":{\"fill\":{\"color\":\"#C8D4E3\"},\"line\":{\"color\":\"white\"}},\"type\":\"table\"}],\"barpolar\":[{\"marker\":{\"line\":{\"color\":\"#E5ECF6\",\"width\":0.5},\"pattern\":{\"fillmode\":\"overlay\",\"size\":10,\"solidity\":0.2}},\"type\":\"barpolar\"}],\"pie\":[{\"automargin\":true,\"type\":\"pie\"}]},\"layout\":{\"autotypenumbers\":\"strict\",\"colorway\":[\"#636efa\",\"#EF553B\",\"#00cc96\",\"#ab63fa\",\"#FFA15A\",\"#19d3f3\",\"#FF6692\",\"#B6E880\",\"#FF97FF\",\"#FECB52\"],\"font\":{\"color\":\"#2a3f5f\"},\"hovermode\":\"closest\",\"hoverlabel\":{\"align\":\"left\"},\"paper_bgcolor\":\"white\",\"plot_bgcolor\":\"#E5ECF6\",\"polar\":{\"bgcolor\":\"#E5ECF6\",\"angularaxis\":{\"gridcolor\":\"white\",\"linecolor\":\"white\",\"ticks\":\"\"},\"radialaxis\":{\"gridcolor\":\"white\",\"linecolor\":\"white\",\"ticks\":\"\"}},\"ternary\":{\"bgcolor\":\"#E5ECF6\",\"aaxis\":{\"gridcolor\":\"white\",\"linecolor\":\"white\",\"ticks\":\"\"},\"baxis\":{\"gridcolor\":\"white\",\"linecolor\":\"white\",\"ticks\":\"\"},\"caxis\":{\"gridcolor\":\"white\",\"linecolor\":\"white\",\"ticks\":\"\"}},\"coloraxis\":{\"colorbar\":{\"outlinewidth\":0,\"ticks\":\"\"}},\"colorscale\":{\"sequential\":[[0.0,\"#0d0887\"],[0.1111111111111111,\"#46039f\"],[0.2222222222222222,\"#7201a8\"],[0.3333333333333333,\"#9c179e\"],[0.4444444444444444,\"#bd3786\"],[0.5555555555555556,\"#d8576b\"],[0.6666666666666666,\"#ed7953\"],[0.7777777777777778,\"#fb9f3a\"],[0.8888888888888888,\"#fdca26\"],[1.0,\"#f0f921\"]],\"sequentialminus\":[[0.0,\"#0d0887\"],[0.1111111111111111,\"#46039f\"],[0.2222222222222222,\"#7201a8\"],[0.3333333333333333,\"#9c179e\"],[0.4444444444444444,\"#bd3786\"],[0.5555555555555556,\"#d8576b\"],[0.6666666666666666,\"#ed7953\"],[0.7777777777777778,\"#fb9f3a\"],[0.8888888888888888,\"#fdca26\"],[1.0,\"#f0f921\"]],\"diverging\":[[0,\"#8e0152\"],[0.1,\"#c51b7d\"],[0.2,\"#de77ae\"],[0.3,\"#f1b6da\"],[0.4,\"#fde0ef\"],[0.5,\"#f7f7f7\"],[0.6,\"#e6f5d0\"],[0.7,\"#b8e186\"],[0.8,\"#7fbc41\"],[0.9,\"#4d9221\"],[1,\"#276419\"]]},\"xaxis\":{\"gridcolor\":\"white\",\"linecolor\":\"white\",\"ticks\":\"\",\"title\":{\"standoff\":15},\"zerolinecolor\":\"white\",\"automargin\":true,\"zerolinewidth\":2},\"yaxis\":{\"gridcolor\":\"white\",\"linecolor\":\"white\",\"ticks\":\"\",\"title\":{\"standoff\":15},\"zerolinecolor\":\"white\",\"automargin\":true,\"zerolinewidth\":2},\"scene\":{\"xaxis\":{\"backgroundcolor\":\"#E5ECF6\",\"gridcolor\":\"white\",\"linecolor\":\"white\",\"showbackground\":true,\"ticks\":\"\",\"zerolinecolor\":\"white\",\"gridwidth\":2},\"yaxis\":{\"backgroundcolor\":\"#E5ECF6\",\"gridcolor\":\"white\",\"linecolor\":\"white\",\"showbackground\":true,\"ticks\":\"\",\"zerolinecolor\":\"white\",\"gridwidth\":2},\"zaxis\":{\"backgroundcolor\":\"#E5ECF6\",\"gridcolor\":\"white\",\"linecolor\":\"white\",\"showbackground\":true,\"ticks\":\"\",\"zerolinecolor\":\"white\",\"gridwidth\":2}},\"shapedefaults\":{\"line\":{\"color\":\"#2a3f5f\"}},\"annotationdefaults\":{\"arrowcolor\":\"#2a3f5f\",\"arrowhead\":0,\"arrowwidth\":1},\"geo\":{\"bgcolor\":\"white\",\"landcolor\":\"#E5ECF6\",\"subunitcolor\":\"white\",\"showland\":true,\"showlakes\":true,\"lakecolor\":\"white\"},\"title\":{\"x\":0.05},\"mapbox\":{\"style\":\"light\"}}}},                        {\"responsive\": true}                    ).then(function(){\n",
       "                            \n",
       "var gd = document.getElementById('377a8610-e56c-4b2c-ab71-cf1240932bff');\n",
       "var x = new MutationObserver(function (mutations, observer) {{\n",
       "        var display = window.getComputedStyle(gd).display;\n",
       "        if (!display || display === 'none') {{\n",
       "            console.log([gd, 'removed!']);\n",
       "            Plotly.purge(gd);\n",
       "            observer.disconnect();\n",
       "        }}\n",
       "}});\n",
       "\n",
       "// Listen for the removal of the full notebook cells\n",
       "var notebookContainer = gd.closest('#notebook-container');\n",
       "if (notebookContainer) {{\n",
       "    x.observe(notebookContainer, {childList: true});\n",
       "}}\n",
       "\n",
       "// Listen for the clearing of the current output cell\n",
       "var outputEl = gd.closest('.output');\n",
       "if (outputEl) {{\n",
       "    x.observe(outputEl, {childList: true});\n",
       "}}\n",
       "\n",
       "                        })                };                });            </script>        </div>"
      ]
     },
     "metadata": {},
     "output_type": "display_data"
    },
    {
     "name": "stdout",
     "output_type": "stream",
     "text": [
      "Starting TPE 2 trials...\n"
     ]
    },
    {
     "name": "stderr",
     "output_type": "stream",
     "text": [
      "[W 2024-04-14 03:18:05,475] Trial 529 failed with parameters: {'optimizer': 'rmsprop', 'Log_X4_mean': 'none', 'Log_X11_mean': 'log10', 'Log_X18_mean': 'sqrt', 'Log_X50_mean': 'cbrt', 'Log_X26_mean': 'log2', 'Log_X3112_mean': 'log5', 'Scaler_X4_mean': 'minmax', 'Scaler_X11_mean': 'Std', 'Scaler_X18_mean': 'None', 'Scaler_X50_mean': 'Std', 'Scaler_X26_mean': 'Robust', 'Scaler_X3112_mean': 'Robust'} because of the following error: KeyboardInterrupt().\n",
      "Traceback (most recent call last):\n",
      "  File \"/home/tobias/miniconda3/envs/tf/lib/python3.9/site-packages/optuna/study/_optimize.py\", line 196, in _run_trial\n",
      "    value_or_values = func(trial)\n",
      "  File \"/tmp/ipykernel_9111/3829321696.py\", line 270, in objective\n",
      "    model.fit([X_train_feat, X_train_tab], y_train_transformed, validation_data=([X_valid_feat, X_valid_tab], y_valid_transformed), batch_size=256, epochs=3, callbacks=callbacks, verbose = 0)\n",
      "  File \"/home/tobias/miniconda3/envs/tf/lib/python3.9/site-packages/keras/utils/traceback_utils.py\", line 65, in error_handler\n",
      "    return fn(*args, **kwargs)\n",
      "  File \"/home/tobias/miniconda3/envs/tf/lib/python3.9/site-packages/keras/engine/training.py\", line 1625, in fit\n",
      "    data_handler = data_adapter.get_data_handler(\n",
      "  File \"/home/tobias/miniconda3/envs/tf/lib/python3.9/site-packages/keras/engine/data_adapter.py\", line 1583, in get_data_handler\n",
      "    return DataHandler(*args, **kwargs)\n",
      "  File \"/home/tobias/miniconda3/envs/tf/lib/python3.9/site-packages/keras/engine/data_adapter.py\", line 1260, in __init__\n",
      "    self._adapter = adapter_cls(\n",
      "  File \"/home/tobias/miniconda3/envs/tf/lib/python3.9/site-packages/keras/engine/data_adapter.py\", line 246, in __init__\n",
      "    x, y, sample_weights = _process_tensorlike((x, y, sample_weights))\n",
      "  File \"/home/tobias/miniconda3/envs/tf/lib/python3.9/site-packages/keras/engine/data_adapter.py\", line 1140, in _process_tensorlike\n",
      "    inputs = tf.nest.map_structure(_convert_single_tensor, inputs)\n",
      "  File \"/home/tobias/miniconda3/envs/tf/lib/python3.9/site-packages/tensorflow/python/util/nest.py\", line 917, in map_structure\n",
      "    structure[0], [func(*x) for x in entries],\n",
      "  File \"/home/tobias/miniconda3/envs/tf/lib/python3.9/site-packages/tensorflow/python/util/nest.py\", line 917, in <listcomp>\n",
      "    structure[0], [func(*x) for x in entries],\n",
      "  File \"/home/tobias/miniconda3/envs/tf/lib/python3.9/site-packages/keras/engine/data_adapter.py\", line 1135, in _convert_single_tensor\n",
      "    return tf.convert_to_tensor(x, dtype=dtype)\n",
      "  File \"/home/tobias/miniconda3/envs/tf/lib/python3.9/site-packages/tensorflow/python/util/traceback_utils.py\", line 150, in error_handler\n",
      "    return fn(*args, **kwargs)\n",
      "  File \"/home/tobias/miniconda3/envs/tf/lib/python3.9/site-packages/tensorflow/python/util/dispatch.py\", line 1176, in op_dispatch_handler\n",
      "    return dispatch_target(*args, **kwargs)\n",
      "  File \"/home/tobias/miniconda3/envs/tf/lib/python3.9/site-packages/tensorflow/python/framework/ops.py\", line 1496, in convert_to_tensor_v2_with_dispatch\n",
      "    return convert_to_tensor_v2(\n",
      "  File \"/home/tobias/miniconda3/envs/tf/lib/python3.9/site-packages/tensorflow/python/framework/ops.py\", line 1502, in convert_to_tensor_v2\n",
      "    return convert_to_tensor(\n",
      "  File \"/home/tobias/miniconda3/envs/tf/lib/python3.9/site-packages/tensorflow/python/profiler/trace.py\", line 183, in wrapped\n",
      "    return func(*args, **kwargs)\n",
      "  File \"/home/tobias/miniconda3/envs/tf/lib/python3.9/site-packages/tensorflow/python/framework/ops.py\", line 1642, in convert_to_tensor\n",
      "    ret = conversion_func(value, dtype=dtype, name=name, as_ref=as_ref)\n",
      "  File \"/home/tobias/miniconda3/envs/tf/lib/python3.9/site-packages/tensorflow/python/framework/tensor_conversion_registry.py\", line 48, in _default_conversion_function\n",
      "    return constant_op.constant(value, dtype, name=name)\n",
      "  File \"/home/tobias/miniconda3/envs/tf/lib/python3.9/site-packages/tensorflow/python/framework/constant_op.py\", line 268, in constant\n",
      "    return _constant_impl(value, dtype, shape, name, verify_shape=False,\n",
      "  File \"/home/tobias/miniconda3/envs/tf/lib/python3.9/site-packages/tensorflow/python/framework/constant_op.py\", line 280, in _constant_impl\n",
      "    return _constant_eager_impl(ctx, value, dtype, shape, verify_shape)\n",
      "  File \"/home/tobias/miniconda3/envs/tf/lib/python3.9/site-packages/tensorflow/python/framework/constant_op.py\", line 305, in _constant_eager_impl\n",
      "    t = convert_to_eager_tensor(value, ctx, dtype)\n",
      "  File \"/home/tobias/miniconda3/envs/tf/lib/python3.9/site-packages/tensorflow/python/framework/constant_op.py\", line 103, in convert_to_eager_tensor\n",
      "    return ops.EagerTensor(value, ctx.device_name, dtype)\n",
      "KeyboardInterrupt\n",
      "[W 2024-04-14 03:18:05,479] Trial 529 failed with value None.\n"
     ]
    },
    {
     "ename": "KeyboardInterrupt",
     "evalue": "",
     "output_type": "error",
     "traceback": [
      "\u001b[0;31m---------------------------------------------------------------------------\u001b[0m",
      "\u001b[0;31mKeyboardInterrupt\u001b[0m                         Traceback (most recent call last)",
      "Cell \u001b[0;32mIn[33], line 503\u001b[0m\n\u001b[1;32m    501\u001b[0m \u001b[38;5;28mprint\u001b[39m(\u001b[38;5;124mf\u001b[39m\u001b[38;5;124m'\u001b[39m\u001b[38;5;124mStarting TPE \u001b[39m\u001b[38;5;132;01m{\u001b[39;00mnum_tpe_trial\u001b[38;5;132;01m}\u001b[39;00m\u001b[38;5;124m trials...\u001b[39m\u001b[38;5;124m'\u001b[39m)\n\u001b[1;32m    502\u001b[0m study\u001b[38;5;241m.\u001b[39msampler \u001b[38;5;241m=\u001b[39m tpe_sampler\n\u001b[0;32m--> 503\u001b[0m \u001b[43mstudy\u001b[49m\u001b[38;5;241;43m.\u001b[39;49m\u001b[43moptimize\u001b[49m\u001b[43m(\u001b[49m\u001b[43mobjective\u001b[49m\u001b[43m,\u001b[49m\u001b[43m \u001b[49m\u001b[43mn_trials\u001b[49m\u001b[38;5;241;43m=\u001b[39;49m\u001b[43mnum_tpe_trial\u001b[49m\u001b[43m)\u001b[49m\n\u001b[1;32m    504\u001b[0m \u001b[38;5;28mprint\u001b[39m(\u001b[38;5;124mf\u001b[39m\u001b[38;5;124m'\u001b[39m\u001b[38;5;124mTime taken for TPE trials: \u001b[39m\u001b[38;5;132;01m{\u001b[39;00mtimedelta(seconds\u001b[38;5;241m=\u001b[39m\u001b[38;5;250m \u001b[39mtime\u001b[38;5;241m.\u001b[39mtime()\u001b[38;5;250m \u001b[39m\u001b[38;5;241m-\u001b[39m\u001b[38;5;250m \u001b[39mtime_tpe)\u001b[38;5;132;01m}\u001b[39;00m\u001b[38;5;124m'\u001b[39m)\n\u001b[1;32m    505\u001b[0m \u001b[38;5;28mprint\u001b[39m(\u001b[38;5;124mf\u001b[39m\u001b[38;5;124m'\u001b[39m\u001b[38;5;124mTime for one TPE trial: \u001b[39m\u001b[38;5;132;01m{\u001b[39;00mtimedelta(seconds\u001b[38;5;241m=\u001b[39m\u001b[38;5;250m \u001b[39m(time\u001b[38;5;241m.\u001b[39mtime()\u001b[38;5;250m \u001b[39m\u001b[38;5;241m-\u001b[39m\u001b[38;5;250m \u001b[39mtime_tpe)\u001b[38;5;250m \u001b[39m\u001b[38;5;241m/\u001b[39m\u001b[38;5;250m \u001b[39mnum_tpe_trial)\u001b[38;5;132;01m}\u001b[39;00m\u001b[38;5;124m'\u001b[39m)\n",
      "File \u001b[0;32m~/miniconda3/envs/tf/lib/python3.9/site-packages/optuna/study/study.py:451\u001b[0m, in \u001b[0;36mStudy.optimize\u001b[0;34m(self, func, n_trials, timeout, n_jobs, catch, callbacks, gc_after_trial, show_progress_bar)\u001b[0m\n\u001b[1;32m    348\u001b[0m \u001b[38;5;28;01mdef\u001b[39;00m \u001b[38;5;21moptimize\u001b[39m(\n\u001b[1;32m    349\u001b[0m     \u001b[38;5;28mself\u001b[39m,\n\u001b[1;32m    350\u001b[0m     func: ObjectiveFuncType,\n\u001b[0;32m   (...)\u001b[0m\n\u001b[1;32m    357\u001b[0m     show_progress_bar: \u001b[38;5;28mbool\u001b[39m \u001b[38;5;241m=\u001b[39m \u001b[38;5;28;01mFalse\u001b[39;00m,\n\u001b[1;32m    358\u001b[0m ) \u001b[38;5;241m-\u001b[39m\u001b[38;5;241m>\u001b[39m \u001b[38;5;28;01mNone\u001b[39;00m:\n\u001b[1;32m    359\u001b[0m \u001b[38;5;250m    \u001b[39m\u001b[38;5;124;03m\"\"\"Optimize an objective function.\u001b[39;00m\n\u001b[1;32m    360\u001b[0m \n\u001b[1;32m    361\u001b[0m \u001b[38;5;124;03m    Optimization is done by choosing a suitable set of hyperparameter values from a given\u001b[39;00m\n\u001b[0;32m   (...)\u001b[0m\n\u001b[1;32m    449\u001b[0m \u001b[38;5;124;03m            If nested invocation of this method occurs.\u001b[39;00m\n\u001b[1;32m    450\u001b[0m \u001b[38;5;124;03m    \"\"\"\u001b[39;00m\n\u001b[0;32m--> 451\u001b[0m     \u001b[43m_optimize\u001b[49m\u001b[43m(\u001b[49m\n\u001b[1;32m    452\u001b[0m \u001b[43m        \u001b[49m\u001b[43mstudy\u001b[49m\u001b[38;5;241;43m=\u001b[39;49m\u001b[38;5;28;43mself\u001b[39;49m\u001b[43m,\u001b[49m\n\u001b[1;32m    453\u001b[0m \u001b[43m        \u001b[49m\u001b[43mfunc\u001b[49m\u001b[38;5;241;43m=\u001b[39;49m\u001b[43mfunc\u001b[49m\u001b[43m,\u001b[49m\n\u001b[1;32m    454\u001b[0m \u001b[43m        \u001b[49m\u001b[43mn_trials\u001b[49m\u001b[38;5;241;43m=\u001b[39;49m\u001b[43mn_trials\u001b[49m\u001b[43m,\u001b[49m\n\u001b[1;32m    455\u001b[0m \u001b[43m        \u001b[49m\u001b[43mtimeout\u001b[49m\u001b[38;5;241;43m=\u001b[39;49m\u001b[43mtimeout\u001b[49m\u001b[43m,\u001b[49m\n\u001b[1;32m    456\u001b[0m \u001b[43m        \u001b[49m\u001b[43mn_jobs\u001b[49m\u001b[38;5;241;43m=\u001b[39;49m\u001b[43mn_jobs\u001b[49m\u001b[43m,\u001b[49m\n\u001b[1;32m    457\u001b[0m \u001b[43m        \u001b[49m\u001b[43mcatch\u001b[49m\u001b[38;5;241;43m=\u001b[39;49m\u001b[38;5;28;43mtuple\u001b[39;49m\u001b[43m(\u001b[49m\u001b[43mcatch\u001b[49m\u001b[43m)\u001b[49m\u001b[43m \u001b[49m\u001b[38;5;28;43;01mif\u001b[39;49;00m\u001b[43m \u001b[49m\u001b[38;5;28;43misinstance\u001b[39;49m\u001b[43m(\u001b[49m\u001b[43mcatch\u001b[49m\u001b[43m,\u001b[49m\u001b[43m \u001b[49m\u001b[43mIterable\u001b[49m\u001b[43m)\u001b[49m\u001b[43m \u001b[49m\u001b[38;5;28;43;01melse\u001b[39;49;00m\u001b[43m \u001b[49m\u001b[43m(\u001b[49m\u001b[43mcatch\u001b[49m\u001b[43m,\u001b[49m\u001b[43m)\u001b[49m\u001b[43m,\u001b[49m\n\u001b[1;32m    458\u001b[0m \u001b[43m        \u001b[49m\u001b[43mcallbacks\u001b[49m\u001b[38;5;241;43m=\u001b[39;49m\u001b[43mcallbacks\u001b[49m\u001b[43m,\u001b[49m\n\u001b[1;32m    459\u001b[0m \u001b[43m        \u001b[49m\u001b[43mgc_after_trial\u001b[49m\u001b[38;5;241;43m=\u001b[39;49m\u001b[43mgc_after_trial\u001b[49m\u001b[43m,\u001b[49m\n\u001b[1;32m    460\u001b[0m \u001b[43m        \u001b[49m\u001b[43mshow_progress_bar\u001b[49m\u001b[38;5;241;43m=\u001b[39;49m\u001b[43mshow_progress_bar\u001b[49m\u001b[43m,\u001b[49m\n\u001b[1;32m    461\u001b[0m \u001b[43m    \u001b[49m\u001b[43m)\u001b[49m\n",
      "File \u001b[0;32m~/miniconda3/envs/tf/lib/python3.9/site-packages/optuna/study/_optimize.py:62\u001b[0m, in \u001b[0;36m_optimize\u001b[0;34m(study, func, n_trials, timeout, n_jobs, catch, callbacks, gc_after_trial, show_progress_bar)\u001b[0m\n\u001b[1;32m     60\u001b[0m \u001b[38;5;28;01mtry\u001b[39;00m:\n\u001b[1;32m     61\u001b[0m     \u001b[38;5;28;01mif\u001b[39;00m n_jobs \u001b[38;5;241m==\u001b[39m \u001b[38;5;241m1\u001b[39m:\n\u001b[0;32m---> 62\u001b[0m         \u001b[43m_optimize_sequential\u001b[49m\u001b[43m(\u001b[49m\n\u001b[1;32m     63\u001b[0m \u001b[43m            \u001b[49m\u001b[43mstudy\u001b[49m\u001b[43m,\u001b[49m\n\u001b[1;32m     64\u001b[0m \u001b[43m            \u001b[49m\u001b[43mfunc\u001b[49m\u001b[43m,\u001b[49m\n\u001b[1;32m     65\u001b[0m \u001b[43m            \u001b[49m\u001b[43mn_trials\u001b[49m\u001b[43m,\u001b[49m\n\u001b[1;32m     66\u001b[0m \u001b[43m            \u001b[49m\u001b[43mtimeout\u001b[49m\u001b[43m,\u001b[49m\n\u001b[1;32m     67\u001b[0m \u001b[43m            \u001b[49m\u001b[43mcatch\u001b[49m\u001b[43m,\u001b[49m\n\u001b[1;32m     68\u001b[0m \u001b[43m            \u001b[49m\u001b[43mcallbacks\u001b[49m\u001b[43m,\u001b[49m\n\u001b[1;32m     69\u001b[0m \u001b[43m            \u001b[49m\u001b[43mgc_after_trial\u001b[49m\u001b[43m,\u001b[49m\n\u001b[1;32m     70\u001b[0m \u001b[43m            \u001b[49m\u001b[43mreseed_sampler_rng\u001b[49m\u001b[38;5;241;43m=\u001b[39;49m\u001b[38;5;28;43;01mFalse\u001b[39;49;00m\u001b[43m,\u001b[49m\n\u001b[1;32m     71\u001b[0m \u001b[43m            \u001b[49m\u001b[43mtime_start\u001b[49m\u001b[38;5;241;43m=\u001b[39;49m\u001b[38;5;28;43;01mNone\u001b[39;49;00m\u001b[43m,\u001b[49m\n\u001b[1;32m     72\u001b[0m \u001b[43m            \u001b[49m\u001b[43mprogress_bar\u001b[49m\u001b[38;5;241;43m=\u001b[39;49m\u001b[43mprogress_bar\u001b[49m\u001b[43m,\u001b[49m\n\u001b[1;32m     73\u001b[0m \u001b[43m        \u001b[49m\u001b[43m)\u001b[49m\n\u001b[1;32m     74\u001b[0m     \u001b[38;5;28;01melse\u001b[39;00m:\n\u001b[1;32m     75\u001b[0m         \u001b[38;5;28;01mif\u001b[39;00m n_jobs \u001b[38;5;241m==\u001b[39m \u001b[38;5;241m-\u001b[39m\u001b[38;5;241m1\u001b[39m:\n",
      "File \u001b[0;32m~/miniconda3/envs/tf/lib/python3.9/site-packages/optuna/study/_optimize.py:159\u001b[0m, in \u001b[0;36m_optimize_sequential\u001b[0;34m(study, func, n_trials, timeout, catch, callbacks, gc_after_trial, reseed_sampler_rng, time_start, progress_bar)\u001b[0m\n\u001b[1;32m    156\u001b[0m         \u001b[38;5;28;01mbreak\u001b[39;00m\n\u001b[1;32m    158\u001b[0m \u001b[38;5;28;01mtry\u001b[39;00m:\n\u001b[0;32m--> 159\u001b[0m     frozen_trial \u001b[38;5;241m=\u001b[39m \u001b[43m_run_trial\u001b[49m\u001b[43m(\u001b[49m\u001b[43mstudy\u001b[49m\u001b[43m,\u001b[49m\u001b[43m \u001b[49m\u001b[43mfunc\u001b[49m\u001b[43m,\u001b[49m\u001b[43m \u001b[49m\u001b[43mcatch\u001b[49m\u001b[43m)\u001b[49m\n\u001b[1;32m    160\u001b[0m \u001b[38;5;28;01mfinally\u001b[39;00m:\n\u001b[1;32m    161\u001b[0m     \u001b[38;5;66;03m# The following line mitigates memory problems that can be occurred in some\u001b[39;00m\n\u001b[1;32m    162\u001b[0m     \u001b[38;5;66;03m# environments (e.g., services that use computing containers such as GitHub Actions).\u001b[39;00m\n\u001b[1;32m    163\u001b[0m     \u001b[38;5;66;03m# Please refer to the following PR for further details:\u001b[39;00m\n\u001b[1;32m    164\u001b[0m     \u001b[38;5;66;03m# https://github.com/optuna/optuna/pull/325.\u001b[39;00m\n\u001b[1;32m    165\u001b[0m     \u001b[38;5;28;01mif\u001b[39;00m gc_after_trial:\n",
      "File \u001b[0;32m~/miniconda3/envs/tf/lib/python3.9/site-packages/optuna/study/_optimize.py:247\u001b[0m, in \u001b[0;36m_run_trial\u001b[0;34m(study, func, catch)\u001b[0m\n\u001b[1;32m    240\u001b[0m         \u001b[38;5;28;01massert\u001b[39;00m \u001b[38;5;28;01mFalse\u001b[39;00m, \u001b[38;5;124m\"\u001b[39m\u001b[38;5;124mShould not reach.\u001b[39m\u001b[38;5;124m\"\u001b[39m\n\u001b[1;32m    242\u001b[0m \u001b[38;5;28;01mif\u001b[39;00m (\n\u001b[1;32m    243\u001b[0m     frozen_trial\u001b[38;5;241m.\u001b[39mstate \u001b[38;5;241m==\u001b[39m TrialState\u001b[38;5;241m.\u001b[39mFAIL\n\u001b[1;32m    244\u001b[0m     \u001b[38;5;129;01mand\u001b[39;00m func_err \u001b[38;5;129;01mis\u001b[39;00m \u001b[38;5;129;01mnot\u001b[39;00m \u001b[38;5;28;01mNone\u001b[39;00m\n\u001b[1;32m    245\u001b[0m     \u001b[38;5;129;01mand\u001b[39;00m \u001b[38;5;129;01mnot\u001b[39;00m \u001b[38;5;28misinstance\u001b[39m(func_err, catch)\n\u001b[1;32m    246\u001b[0m ):\n\u001b[0;32m--> 247\u001b[0m     \u001b[38;5;28;01mraise\u001b[39;00m func_err\n\u001b[1;32m    248\u001b[0m \u001b[38;5;28;01mreturn\u001b[39;00m frozen_trial\n",
      "File \u001b[0;32m~/miniconda3/envs/tf/lib/python3.9/site-packages/optuna/study/_optimize.py:196\u001b[0m, in \u001b[0;36m_run_trial\u001b[0;34m(study, func, catch)\u001b[0m\n\u001b[1;32m    194\u001b[0m \u001b[38;5;28;01mwith\u001b[39;00m get_heartbeat_thread(trial\u001b[38;5;241m.\u001b[39m_trial_id, study\u001b[38;5;241m.\u001b[39m_storage):\n\u001b[1;32m    195\u001b[0m     \u001b[38;5;28;01mtry\u001b[39;00m:\n\u001b[0;32m--> 196\u001b[0m         value_or_values \u001b[38;5;241m=\u001b[39m \u001b[43mfunc\u001b[49m\u001b[43m(\u001b[49m\u001b[43mtrial\u001b[49m\u001b[43m)\u001b[49m\n\u001b[1;32m    197\u001b[0m     \u001b[38;5;28;01mexcept\u001b[39;00m exceptions\u001b[38;5;241m.\u001b[39mTrialPruned \u001b[38;5;28;01mas\u001b[39;00m e:\n\u001b[1;32m    198\u001b[0m         \u001b[38;5;66;03m# TODO(mamu): Handle multi-objective cases.\u001b[39;00m\n\u001b[1;32m    199\u001b[0m         state \u001b[38;5;241m=\u001b[39m TrialState\u001b[38;5;241m.\u001b[39mPRUNED\n",
      "Cell \u001b[0;32mIn[33], line 270\u001b[0m, in \u001b[0;36mobjective\u001b[0;34m(trial)\u001b[0m\n\u001b[1;32m    266\u001b[0m         y_valid_transformed[target] \u001b[38;5;241m=\u001b[39m scaler\u001b[38;5;241m.\u001b[39mtransform(y_valid_transformed[target]\u001b[38;5;241m.\u001b[39mvalues\u001b[38;5;241m.\u001b[39mreshape(\u001b[38;5;241m-\u001b[39m\u001b[38;5;241m1\u001b[39m, \u001b[38;5;241m1\u001b[39m))\u001b[38;5;241m.\u001b[39mflatten()\n\u001b[1;32m    268\u001b[0m \u001b[38;5;28;01mfor\u001b[39;00m epoch \u001b[38;5;129;01min\u001b[39;00m \u001b[38;5;28mrange\u001b[39m(\u001b[38;5;241m17\u001b[39m):\n\u001b[0;32m--> 270\u001b[0m     model\u001b[38;5;241m.\u001b[39mfit([X_train_feat, X_train_tab], y_train_transformed, validation_data\u001b[38;5;241m=\u001b[39m([X_valid_feat, X_valid_tab], y_valid_transformed), batch_size\u001b[38;5;241m=\u001b[39m\u001b[38;5;241m256\u001b[39m, epochs\u001b[38;5;241m=\u001b[39m\u001b[38;5;241m3\u001b[39m, callbacks\u001b[38;5;241m=\u001b[39mcallbacks, verbose \u001b[38;5;241m=\u001b[39m \u001b[38;5;241m0\u001b[39m)\n\u001b[1;32m    271\u001b[0m     preds_transformed \u001b[38;5;241m=\u001b[39m model\u001b[38;5;241m.\u001b[39mpredict([X_valid_feat, X_valid_tab], verbose \u001b[38;5;241m=\u001b[39m \u001b[38;5;241m0\u001b[39m)        \n\u001b[1;32m    274\u001b[0m     \u001b[38;5;28;01mtry\u001b[39;00m:        \n",
      "File \u001b[0;32m~/miniconda3/envs/tf/lib/python3.9/site-packages/keras/utils/traceback_utils.py:65\u001b[0m, in \u001b[0;36mfilter_traceback.<locals>.error_handler\u001b[0;34m(*args, **kwargs)\u001b[0m\n\u001b[1;32m     63\u001b[0m filtered_tb \u001b[38;5;241m=\u001b[39m \u001b[38;5;28;01mNone\u001b[39;00m\n\u001b[1;32m     64\u001b[0m \u001b[38;5;28;01mtry\u001b[39;00m:\n\u001b[0;32m---> 65\u001b[0m     \u001b[38;5;28;01mreturn\u001b[39;00m \u001b[43mfn\u001b[49m\u001b[43m(\u001b[49m\u001b[38;5;241;43m*\u001b[39;49m\u001b[43margs\u001b[49m\u001b[43m,\u001b[49m\u001b[43m \u001b[49m\u001b[38;5;241;43m*\u001b[39;49m\u001b[38;5;241;43m*\u001b[39;49m\u001b[43mkwargs\u001b[49m\u001b[43m)\u001b[49m\n\u001b[1;32m     66\u001b[0m \u001b[38;5;28;01mexcept\u001b[39;00m \u001b[38;5;167;01mException\u001b[39;00m \u001b[38;5;28;01mas\u001b[39;00m e:\n\u001b[1;32m     67\u001b[0m     filtered_tb \u001b[38;5;241m=\u001b[39m _process_traceback_frames(e\u001b[38;5;241m.\u001b[39m__traceback__)\n",
      "File \u001b[0;32m~/miniconda3/envs/tf/lib/python3.9/site-packages/keras/engine/training.py:1625\u001b[0m, in \u001b[0;36mModel.fit\u001b[0;34m(self, x, y, batch_size, epochs, verbose, callbacks, validation_split, validation_data, shuffle, class_weight, sample_weight, initial_epoch, steps_per_epoch, validation_steps, validation_batch_size, validation_freq, max_queue_size, workers, use_multiprocessing)\u001b[0m\n\u001b[1;32m   1615\u001b[0m     \u001b[38;5;28mself\u001b[39m\u001b[38;5;241m.\u001b[39m_cluster_coordinator \u001b[38;5;241m=\u001b[39m (\n\u001b[1;32m   1616\u001b[0m         tf\u001b[38;5;241m.\u001b[39mdistribute\u001b[38;5;241m.\u001b[39mexperimental\u001b[38;5;241m.\u001b[39mcoordinator\u001b[38;5;241m.\u001b[39mClusterCoordinator(\n\u001b[1;32m   1617\u001b[0m             \u001b[38;5;28mself\u001b[39m\u001b[38;5;241m.\u001b[39mdistribute_strategy\n\u001b[1;32m   1618\u001b[0m         )\n\u001b[1;32m   1619\u001b[0m     )\n\u001b[1;32m   1621\u001b[0m \u001b[38;5;28;01mwith\u001b[39;00m \u001b[38;5;28mself\u001b[39m\u001b[38;5;241m.\u001b[39mdistribute_strategy\u001b[38;5;241m.\u001b[39mscope(), training_utils\u001b[38;5;241m.\u001b[39mRespectCompiledTrainableState(  \u001b[38;5;66;03m# noqa: E501\u001b[39;00m\n\u001b[1;32m   1622\u001b[0m     \u001b[38;5;28mself\u001b[39m\n\u001b[1;32m   1623\u001b[0m ):\n\u001b[1;32m   1624\u001b[0m     \u001b[38;5;66;03m# Creates a `tf.data.Dataset` and handles batch and epoch iteration.\u001b[39;00m\n\u001b[0;32m-> 1625\u001b[0m     data_handler \u001b[38;5;241m=\u001b[39m \u001b[43mdata_adapter\u001b[49m\u001b[38;5;241;43m.\u001b[39;49m\u001b[43mget_data_handler\u001b[49m\u001b[43m(\u001b[49m\n\u001b[1;32m   1626\u001b[0m \u001b[43m        \u001b[49m\u001b[43mx\u001b[49m\u001b[38;5;241;43m=\u001b[39;49m\u001b[43mx\u001b[49m\u001b[43m,\u001b[49m\n\u001b[1;32m   1627\u001b[0m \u001b[43m        \u001b[49m\u001b[43my\u001b[49m\u001b[38;5;241;43m=\u001b[39;49m\u001b[43my\u001b[49m\u001b[43m,\u001b[49m\n\u001b[1;32m   1628\u001b[0m \u001b[43m        \u001b[49m\u001b[43msample_weight\u001b[49m\u001b[38;5;241;43m=\u001b[39;49m\u001b[43msample_weight\u001b[49m\u001b[43m,\u001b[49m\n\u001b[1;32m   1629\u001b[0m \u001b[43m        \u001b[49m\u001b[43mbatch_size\u001b[49m\u001b[38;5;241;43m=\u001b[39;49m\u001b[43mbatch_size\u001b[49m\u001b[43m,\u001b[49m\n\u001b[1;32m   1630\u001b[0m \u001b[43m        \u001b[49m\u001b[43msteps_per_epoch\u001b[49m\u001b[38;5;241;43m=\u001b[39;49m\u001b[43msteps_per_epoch\u001b[49m\u001b[43m,\u001b[49m\n\u001b[1;32m   1631\u001b[0m \u001b[43m        \u001b[49m\u001b[43minitial_epoch\u001b[49m\u001b[38;5;241;43m=\u001b[39;49m\u001b[43minitial_epoch\u001b[49m\u001b[43m,\u001b[49m\n\u001b[1;32m   1632\u001b[0m \u001b[43m        \u001b[49m\u001b[43mepochs\u001b[49m\u001b[38;5;241;43m=\u001b[39;49m\u001b[43mepochs\u001b[49m\u001b[43m,\u001b[49m\n\u001b[1;32m   1633\u001b[0m \u001b[43m        \u001b[49m\u001b[43mshuffle\u001b[49m\u001b[38;5;241;43m=\u001b[39;49m\u001b[43mshuffle\u001b[49m\u001b[43m,\u001b[49m\n\u001b[1;32m   1634\u001b[0m \u001b[43m        \u001b[49m\u001b[43mclass_weight\u001b[49m\u001b[38;5;241;43m=\u001b[39;49m\u001b[43mclass_weight\u001b[49m\u001b[43m,\u001b[49m\n\u001b[1;32m   1635\u001b[0m \u001b[43m        \u001b[49m\u001b[43mmax_queue_size\u001b[49m\u001b[38;5;241;43m=\u001b[39;49m\u001b[43mmax_queue_size\u001b[49m\u001b[43m,\u001b[49m\n\u001b[1;32m   1636\u001b[0m \u001b[43m        \u001b[49m\u001b[43mworkers\u001b[49m\u001b[38;5;241;43m=\u001b[39;49m\u001b[43mworkers\u001b[49m\u001b[43m,\u001b[49m\n\u001b[1;32m   1637\u001b[0m \u001b[43m        \u001b[49m\u001b[43muse_multiprocessing\u001b[49m\u001b[38;5;241;43m=\u001b[39;49m\u001b[43muse_multiprocessing\u001b[49m\u001b[43m,\u001b[49m\n\u001b[1;32m   1638\u001b[0m \u001b[43m        \u001b[49m\u001b[43mmodel\u001b[49m\u001b[38;5;241;43m=\u001b[39;49m\u001b[38;5;28;43mself\u001b[39;49m\u001b[43m,\u001b[49m\n\u001b[1;32m   1639\u001b[0m \u001b[43m        \u001b[49m\u001b[43msteps_per_execution\u001b[49m\u001b[38;5;241;43m=\u001b[39;49m\u001b[38;5;28;43mself\u001b[39;49m\u001b[38;5;241;43m.\u001b[39;49m\u001b[43m_steps_per_execution\u001b[49m\u001b[43m,\u001b[49m\n\u001b[1;32m   1640\u001b[0m \u001b[43m    \u001b[49m\u001b[43m)\u001b[49m\n\u001b[1;32m   1642\u001b[0m     \u001b[38;5;66;03m# Container that configures and calls `tf.keras.Callback`s.\u001b[39;00m\n\u001b[1;32m   1643\u001b[0m     \u001b[38;5;28;01mif\u001b[39;00m \u001b[38;5;129;01mnot\u001b[39;00m \u001b[38;5;28misinstance\u001b[39m(callbacks, callbacks_module\u001b[38;5;241m.\u001b[39mCallbackList):\n",
      "File \u001b[0;32m~/miniconda3/envs/tf/lib/python3.9/site-packages/keras/engine/data_adapter.py:1583\u001b[0m, in \u001b[0;36mget_data_handler\u001b[0;34m(*args, **kwargs)\u001b[0m\n\u001b[1;32m   1581\u001b[0m \u001b[38;5;28;01mif\u001b[39;00m \u001b[38;5;28mgetattr\u001b[39m(kwargs[\u001b[38;5;124m\"\u001b[39m\u001b[38;5;124mmodel\u001b[39m\u001b[38;5;124m\"\u001b[39m], \u001b[38;5;124m\"\u001b[39m\u001b[38;5;124m_cluster_coordinator\u001b[39m\u001b[38;5;124m\"\u001b[39m, \u001b[38;5;28;01mNone\u001b[39;00m):\n\u001b[1;32m   1582\u001b[0m     \u001b[38;5;28;01mreturn\u001b[39;00m _ClusterCoordinatorDataHandler(\u001b[38;5;241m*\u001b[39margs, \u001b[38;5;241m*\u001b[39m\u001b[38;5;241m*\u001b[39mkwargs)\n\u001b[0;32m-> 1583\u001b[0m \u001b[38;5;28;01mreturn\u001b[39;00m \u001b[43mDataHandler\u001b[49m\u001b[43m(\u001b[49m\u001b[38;5;241;43m*\u001b[39;49m\u001b[43margs\u001b[49m\u001b[43m,\u001b[49m\u001b[43m \u001b[49m\u001b[38;5;241;43m*\u001b[39;49m\u001b[38;5;241;43m*\u001b[39;49m\u001b[43mkwargs\u001b[49m\u001b[43m)\u001b[49m\n",
      "File \u001b[0;32m~/miniconda3/envs/tf/lib/python3.9/site-packages/keras/engine/data_adapter.py:1260\u001b[0m, in \u001b[0;36mDataHandler.__init__\u001b[0;34m(self, x, y, sample_weight, batch_size, steps_per_epoch, initial_epoch, epochs, shuffle, class_weight, max_queue_size, workers, use_multiprocessing, model, steps_per_execution, distribute)\u001b[0m\n\u001b[1;32m   1257\u001b[0m     \u001b[38;5;28mself\u001b[39m\u001b[38;5;241m.\u001b[39m_steps_per_execution \u001b[38;5;241m=\u001b[39m steps_per_execution\n\u001b[1;32m   1259\u001b[0m adapter_cls \u001b[38;5;241m=\u001b[39m select_data_adapter(x, y)\n\u001b[0;32m-> 1260\u001b[0m \u001b[38;5;28mself\u001b[39m\u001b[38;5;241m.\u001b[39m_adapter \u001b[38;5;241m=\u001b[39m \u001b[43madapter_cls\u001b[49m\u001b[43m(\u001b[49m\n\u001b[1;32m   1261\u001b[0m \u001b[43m    \u001b[49m\u001b[43mx\u001b[49m\u001b[43m,\u001b[49m\n\u001b[1;32m   1262\u001b[0m \u001b[43m    \u001b[49m\u001b[43my\u001b[49m\u001b[43m,\u001b[49m\n\u001b[1;32m   1263\u001b[0m \u001b[43m    \u001b[49m\u001b[43mbatch_size\u001b[49m\u001b[38;5;241;43m=\u001b[39;49m\u001b[43mbatch_size\u001b[49m\u001b[43m,\u001b[49m\n\u001b[1;32m   1264\u001b[0m \u001b[43m    \u001b[49m\u001b[43msteps\u001b[49m\u001b[38;5;241;43m=\u001b[39;49m\u001b[43msteps_per_epoch\u001b[49m\u001b[43m,\u001b[49m\n\u001b[1;32m   1265\u001b[0m \u001b[43m    \u001b[49m\u001b[43mepochs\u001b[49m\u001b[38;5;241;43m=\u001b[39;49m\u001b[43mepochs\u001b[49m\u001b[43m \u001b[49m\u001b[38;5;241;43m-\u001b[39;49m\u001b[43m \u001b[49m\u001b[43minitial_epoch\u001b[49m\u001b[43m,\u001b[49m\n\u001b[1;32m   1266\u001b[0m \u001b[43m    \u001b[49m\u001b[43msample_weights\u001b[49m\u001b[38;5;241;43m=\u001b[39;49m\u001b[43msample_weight\u001b[49m\u001b[43m,\u001b[49m\n\u001b[1;32m   1267\u001b[0m \u001b[43m    \u001b[49m\u001b[43mshuffle\u001b[49m\u001b[38;5;241;43m=\u001b[39;49m\u001b[43mshuffle\u001b[49m\u001b[43m,\u001b[49m\n\u001b[1;32m   1268\u001b[0m \u001b[43m    \u001b[49m\u001b[43mmax_queue_size\u001b[49m\u001b[38;5;241;43m=\u001b[39;49m\u001b[43mmax_queue_size\u001b[49m\u001b[43m,\u001b[49m\n\u001b[1;32m   1269\u001b[0m \u001b[43m    \u001b[49m\u001b[43mworkers\u001b[49m\u001b[38;5;241;43m=\u001b[39;49m\u001b[43mworkers\u001b[49m\u001b[43m,\u001b[49m\n\u001b[1;32m   1270\u001b[0m \u001b[43m    \u001b[49m\u001b[43muse_multiprocessing\u001b[49m\u001b[38;5;241;43m=\u001b[39;49m\u001b[43muse_multiprocessing\u001b[49m\u001b[43m,\u001b[49m\n\u001b[1;32m   1271\u001b[0m \u001b[43m    \u001b[49m\u001b[43mdistribution_strategy\u001b[49m\u001b[38;5;241;43m=\u001b[39;49m\u001b[43mtf\u001b[49m\u001b[38;5;241;43m.\u001b[39;49m\u001b[43mdistribute\u001b[49m\u001b[38;5;241;43m.\u001b[39;49m\u001b[43mget_strategy\u001b[49m\u001b[43m(\u001b[49m\u001b[43m)\u001b[49m\u001b[43m,\u001b[49m\n\u001b[1;32m   1272\u001b[0m \u001b[43m    \u001b[49m\u001b[43mmodel\u001b[49m\u001b[38;5;241;43m=\u001b[39;49m\u001b[43mmodel\u001b[49m\u001b[43m,\u001b[49m\n\u001b[1;32m   1273\u001b[0m \u001b[43m\u001b[49m\u001b[43m)\u001b[49m\n\u001b[1;32m   1275\u001b[0m strategy \u001b[38;5;241m=\u001b[39m tf\u001b[38;5;241m.\u001b[39mdistribute\u001b[38;5;241m.\u001b[39mget_strategy()\n\u001b[1;32m   1277\u001b[0m \u001b[38;5;28mself\u001b[39m\u001b[38;5;241m.\u001b[39m_current_step \u001b[38;5;241m=\u001b[39m \u001b[38;5;241m0\u001b[39m\n",
      "File \u001b[0;32m~/miniconda3/envs/tf/lib/python3.9/site-packages/keras/engine/data_adapter.py:246\u001b[0m, in \u001b[0;36mTensorLikeDataAdapter.__init__\u001b[0;34m(self, x, y, sample_weights, sample_weight_modes, batch_size, epochs, steps, shuffle, **kwargs)\u001b[0m\n\u001b[1;32m    233\u001b[0m \u001b[38;5;28;01mdef\u001b[39;00m \u001b[38;5;21m__init__\u001b[39m(\n\u001b[1;32m    234\u001b[0m     \u001b[38;5;28mself\u001b[39m,\n\u001b[1;32m    235\u001b[0m     x,\n\u001b[0;32m   (...)\u001b[0m\n\u001b[1;32m    243\u001b[0m     \u001b[38;5;241m*\u001b[39m\u001b[38;5;241m*\u001b[39mkwargs,\n\u001b[1;32m    244\u001b[0m ):\n\u001b[1;32m    245\u001b[0m     \u001b[38;5;28msuper\u001b[39m()\u001b[38;5;241m.\u001b[39m\u001b[38;5;21m__init__\u001b[39m(x, y, \u001b[38;5;241m*\u001b[39m\u001b[38;5;241m*\u001b[39mkwargs)\n\u001b[0;32m--> 246\u001b[0m     x, y, sample_weights \u001b[38;5;241m=\u001b[39m \u001b[43m_process_tensorlike\u001b[49m\u001b[43m(\u001b[49m\u001b[43m(\u001b[49m\u001b[43mx\u001b[49m\u001b[43m,\u001b[49m\u001b[43m \u001b[49m\u001b[43my\u001b[49m\u001b[43m,\u001b[49m\u001b[43m \u001b[49m\u001b[43msample_weights\u001b[49m\u001b[43m)\u001b[49m\u001b[43m)\u001b[49m\n\u001b[1;32m    247\u001b[0m     sample_weight_modes \u001b[38;5;241m=\u001b[39m broadcast_sample_weight_modes(\n\u001b[1;32m    248\u001b[0m         sample_weights, sample_weight_modes\n\u001b[1;32m    249\u001b[0m     )\n\u001b[1;32m    251\u001b[0m     \u001b[38;5;66;03m# If sample_weights are not specified for an output use 1.0 as weights.\u001b[39;00m\n",
      "File \u001b[0;32m~/miniconda3/envs/tf/lib/python3.9/site-packages/keras/engine/data_adapter.py:1140\u001b[0m, in \u001b[0;36m_process_tensorlike\u001b[0;34m(inputs)\u001b[0m\n\u001b[1;32m   1137\u001b[0m         \u001b[38;5;28;01mreturn\u001b[39;00m _scipy_sparse_to_sparse_tensor(x)\n\u001b[1;32m   1138\u001b[0m     \u001b[38;5;28;01mreturn\u001b[39;00m x\n\u001b[0;32m-> 1140\u001b[0m inputs \u001b[38;5;241m=\u001b[39m \u001b[43mtf\u001b[49m\u001b[38;5;241;43m.\u001b[39;49m\u001b[43mnest\u001b[49m\u001b[38;5;241;43m.\u001b[39;49m\u001b[43mmap_structure\u001b[49m\u001b[43m(\u001b[49m\u001b[43m_convert_single_tensor\u001b[49m\u001b[43m,\u001b[49m\u001b[43m \u001b[49m\u001b[43minputs\u001b[49m\u001b[43m)\u001b[49m\n\u001b[1;32m   1141\u001b[0m \u001b[38;5;28;01mreturn\u001b[39;00m tf\u001b[38;5;241m.\u001b[39m__internal__\u001b[38;5;241m.\u001b[39mnest\u001b[38;5;241m.\u001b[39mlist_to_tuple(inputs)\n",
      "File \u001b[0;32m~/miniconda3/envs/tf/lib/python3.9/site-packages/tensorflow/python/util/nest.py:917\u001b[0m, in \u001b[0;36mmap_structure\u001b[0;34m(func, *structure, **kwargs)\u001b[0m\n\u001b[1;32m    913\u001b[0m flat_structure \u001b[38;5;241m=\u001b[39m (flatten(s, expand_composites) \u001b[38;5;28;01mfor\u001b[39;00m s \u001b[38;5;129;01min\u001b[39;00m structure)\n\u001b[1;32m    914\u001b[0m entries \u001b[38;5;241m=\u001b[39m \u001b[38;5;28mzip\u001b[39m(\u001b[38;5;241m*\u001b[39mflat_structure)\n\u001b[1;32m    916\u001b[0m \u001b[38;5;28;01mreturn\u001b[39;00m pack_sequence_as(\n\u001b[0;32m--> 917\u001b[0m     structure[\u001b[38;5;241m0\u001b[39m], [func(\u001b[38;5;241m*\u001b[39mx) \u001b[38;5;28;01mfor\u001b[39;00m x \u001b[38;5;129;01min\u001b[39;00m entries],\n\u001b[1;32m    918\u001b[0m     expand_composites\u001b[38;5;241m=\u001b[39mexpand_composites)\n",
      "File \u001b[0;32m~/miniconda3/envs/tf/lib/python3.9/site-packages/tensorflow/python/util/nest.py:917\u001b[0m, in \u001b[0;36m<listcomp>\u001b[0;34m(.0)\u001b[0m\n\u001b[1;32m    913\u001b[0m flat_structure \u001b[38;5;241m=\u001b[39m (flatten(s, expand_composites) \u001b[38;5;28;01mfor\u001b[39;00m s \u001b[38;5;129;01min\u001b[39;00m structure)\n\u001b[1;32m    914\u001b[0m entries \u001b[38;5;241m=\u001b[39m \u001b[38;5;28mzip\u001b[39m(\u001b[38;5;241m*\u001b[39mflat_structure)\n\u001b[1;32m    916\u001b[0m \u001b[38;5;28;01mreturn\u001b[39;00m pack_sequence_as(\n\u001b[0;32m--> 917\u001b[0m     structure[\u001b[38;5;241m0\u001b[39m], [\u001b[43mfunc\u001b[49m\u001b[43m(\u001b[49m\u001b[38;5;241;43m*\u001b[39;49m\u001b[43mx\u001b[49m\u001b[43m)\u001b[49m \u001b[38;5;28;01mfor\u001b[39;00m x \u001b[38;5;129;01min\u001b[39;00m entries],\n\u001b[1;32m    918\u001b[0m     expand_composites\u001b[38;5;241m=\u001b[39mexpand_composites)\n",
      "File \u001b[0;32m~/miniconda3/envs/tf/lib/python3.9/site-packages/keras/engine/data_adapter.py:1135\u001b[0m, in \u001b[0;36m_process_tensorlike.<locals>._convert_single_tensor\u001b[0;34m(x)\u001b[0m\n\u001b[1;32m   1133\u001b[0m     \u001b[38;5;28;01mif\u001b[39;00m \u001b[38;5;28missubclass\u001b[39m(x\u001b[38;5;241m.\u001b[39mdtype\u001b[38;5;241m.\u001b[39mtype, np\u001b[38;5;241m.\u001b[39mfloating):\n\u001b[1;32m   1134\u001b[0m         dtype \u001b[38;5;241m=\u001b[39m backend\u001b[38;5;241m.\u001b[39mfloatx()\n\u001b[0;32m-> 1135\u001b[0m     \u001b[38;5;28;01mreturn\u001b[39;00m \u001b[43mtf\u001b[49m\u001b[38;5;241;43m.\u001b[39;49m\u001b[43mconvert_to_tensor\u001b[49m\u001b[43m(\u001b[49m\u001b[43mx\u001b[49m\u001b[43m,\u001b[49m\u001b[43m \u001b[49m\u001b[43mdtype\u001b[49m\u001b[38;5;241;43m=\u001b[39;49m\u001b[43mdtype\u001b[49m\u001b[43m)\u001b[49m\n\u001b[1;32m   1136\u001b[0m \u001b[38;5;28;01melif\u001b[39;00m _is_scipy_sparse(x):\n\u001b[1;32m   1137\u001b[0m     \u001b[38;5;28;01mreturn\u001b[39;00m _scipy_sparse_to_sparse_tensor(x)\n",
      "File \u001b[0;32m~/miniconda3/envs/tf/lib/python3.9/site-packages/tensorflow/python/util/traceback_utils.py:150\u001b[0m, in \u001b[0;36mfilter_traceback.<locals>.error_handler\u001b[0;34m(*args, **kwargs)\u001b[0m\n\u001b[1;32m    148\u001b[0m filtered_tb \u001b[38;5;241m=\u001b[39m \u001b[38;5;28;01mNone\u001b[39;00m\n\u001b[1;32m    149\u001b[0m \u001b[38;5;28;01mtry\u001b[39;00m:\n\u001b[0;32m--> 150\u001b[0m   \u001b[38;5;28;01mreturn\u001b[39;00m \u001b[43mfn\u001b[49m\u001b[43m(\u001b[49m\u001b[38;5;241;43m*\u001b[39;49m\u001b[43margs\u001b[49m\u001b[43m,\u001b[49m\u001b[43m \u001b[49m\u001b[38;5;241;43m*\u001b[39;49m\u001b[38;5;241;43m*\u001b[39;49m\u001b[43mkwargs\u001b[49m\u001b[43m)\u001b[49m\n\u001b[1;32m    151\u001b[0m \u001b[38;5;28;01mexcept\u001b[39;00m \u001b[38;5;167;01mException\u001b[39;00m \u001b[38;5;28;01mas\u001b[39;00m e:\n\u001b[1;32m    152\u001b[0m   filtered_tb \u001b[38;5;241m=\u001b[39m _process_traceback_frames(e\u001b[38;5;241m.\u001b[39m__traceback__)\n",
      "File \u001b[0;32m~/miniconda3/envs/tf/lib/python3.9/site-packages/tensorflow/python/util/dispatch.py:1176\u001b[0m, in \u001b[0;36madd_dispatch_support.<locals>.decorator.<locals>.op_dispatch_handler\u001b[0;34m(*args, **kwargs)\u001b[0m\n\u001b[1;32m   1174\u001b[0m \u001b[38;5;66;03m# Fallback dispatch system (dispatch v1):\u001b[39;00m\n\u001b[1;32m   1175\u001b[0m \u001b[38;5;28;01mtry\u001b[39;00m:\n\u001b[0;32m-> 1176\u001b[0m   \u001b[38;5;28;01mreturn\u001b[39;00m \u001b[43mdispatch_target\u001b[49m\u001b[43m(\u001b[49m\u001b[38;5;241;43m*\u001b[39;49m\u001b[43margs\u001b[49m\u001b[43m,\u001b[49m\u001b[43m \u001b[49m\u001b[38;5;241;43m*\u001b[39;49m\u001b[38;5;241;43m*\u001b[39;49m\u001b[43mkwargs\u001b[49m\u001b[43m)\u001b[49m\n\u001b[1;32m   1177\u001b[0m \u001b[38;5;28;01mexcept\u001b[39;00m (\u001b[38;5;167;01mTypeError\u001b[39;00m, \u001b[38;5;167;01mValueError\u001b[39;00m):\n\u001b[1;32m   1178\u001b[0m   \u001b[38;5;66;03m# Note: convert_to_eager_tensor currently raises a ValueError, not a\u001b[39;00m\n\u001b[1;32m   1179\u001b[0m   \u001b[38;5;66;03m# TypeError, when given unexpected types.  So we need to catch both.\u001b[39;00m\n\u001b[1;32m   1180\u001b[0m   result \u001b[38;5;241m=\u001b[39m dispatch(op_dispatch_handler, args, kwargs)\n",
      "File \u001b[0;32m~/miniconda3/envs/tf/lib/python3.9/site-packages/tensorflow/python/framework/ops.py:1496\u001b[0m, in \u001b[0;36mconvert_to_tensor_v2_with_dispatch\u001b[0;34m(value, dtype, dtype_hint, name)\u001b[0m\n\u001b[1;32m   1432\u001b[0m \u001b[38;5;129m@tf_export\u001b[39m(\u001b[38;5;124m\"\u001b[39m\u001b[38;5;124mconvert_to_tensor\u001b[39m\u001b[38;5;124m\"\u001b[39m, v1\u001b[38;5;241m=\u001b[39m[])\n\u001b[1;32m   1433\u001b[0m \u001b[38;5;129m@dispatch\u001b[39m\u001b[38;5;241m.\u001b[39madd_dispatch_support\n\u001b[1;32m   1434\u001b[0m \u001b[38;5;28;01mdef\u001b[39;00m \u001b[38;5;21mconvert_to_tensor_v2_with_dispatch\u001b[39m(\n\u001b[1;32m   1435\u001b[0m     value, dtype\u001b[38;5;241m=\u001b[39m\u001b[38;5;28;01mNone\u001b[39;00m, dtype_hint\u001b[38;5;241m=\u001b[39m\u001b[38;5;28;01mNone\u001b[39;00m, name\u001b[38;5;241m=\u001b[39m\u001b[38;5;28;01mNone\u001b[39;00m):\n\u001b[1;32m   1436\u001b[0m \u001b[38;5;250m  \u001b[39m\u001b[38;5;124;03m\"\"\"Converts the given `value` to a `Tensor`.\u001b[39;00m\n\u001b[1;32m   1437\u001b[0m \n\u001b[1;32m   1438\u001b[0m \u001b[38;5;124;03m  This function converts Python objects of various types to `Tensor`\u001b[39;00m\n\u001b[0;32m   (...)\u001b[0m\n\u001b[1;32m   1494\u001b[0m \u001b[38;5;124;03m    ValueError: If the `value` is a tensor not of given `dtype` in graph mode.\u001b[39;00m\n\u001b[1;32m   1495\u001b[0m \u001b[38;5;124;03m  \"\"\"\u001b[39;00m\n\u001b[0;32m-> 1496\u001b[0m   \u001b[38;5;28;01mreturn\u001b[39;00m \u001b[43mconvert_to_tensor_v2\u001b[49m\u001b[43m(\u001b[49m\n\u001b[1;32m   1497\u001b[0m \u001b[43m      \u001b[49m\u001b[43mvalue\u001b[49m\u001b[43m,\u001b[49m\u001b[43m \u001b[49m\u001b[43mdtype\u001b[49m\u001b[38;5;241;43m=\u001b[39;49m\u001b[43mdtype\u001b[49m\u001b[43m,\u001b[49m\u001b[43m \u001b[49m\u001b[43mdtype_hint\u001b[49m\u001b[38;5;241;43m=\u001b[39;49m\u001b[43mdtype_hint\u001b[49m\u001b[43m,\u001b[49m\u001b[43m \u001b[49m\u001b[43mname\u001b[49m\u001b[38;5;241;43m=\u001b[39;49m\u001b[43mname\u001b[49m\u001b[43m)\u001b[49m\n",
      "File \u001b[0;32m~/miniconda3/envs/tf/lib/python3.9/site-packages/tensorflow/python/framework/ops.py:1502\u001b[0m, in \u001b[0;36mconvert_to_tensor_v2\u001b[0;34m(value, dtype, dtype_hint, name)\u001b[0m\n\u001b[1;32m   1500\u001b[0m \u001b[38;5;28;01mdef\u001b[39;00m \u001b[38;5;21mconvert_to_tensor_v2\u001b[39m(value, dtype\u001b[38;5;241m=\u001b[39m\u001b[38;5;28;01mNone\u001b[39;00m, dtype_hint\u001b[38;5;241m=\u001b[39m\u001b[38;5;28;01mNone\u001b[39;00m, name\u001b[38;5;241m=\u001b[39m\u001b[38;5;28;01mNone\u001b[39;00m):\n\u001b[1;32m   1501\u001b[0m \u001b[38;5;250m  \u001b[39m\u001b[38;5;124;03m\"\"\"Converts the given `value` to a `Tensor`.\"\"\"\u001b[39;00m\n\u001b[0;32m-> 1502\u001b[0m   \u001b[38;5;28;01mreturn\u001b[39;00m \u001b[43mconvert_to_tensor\u001b[49m\u001b[43m(\u001b[49m\n\u001b[1;32m   1503\u001b[0m \u001b[43m      \u001b[49m\u001b[43mvalue\u001b[49m\u001b[38;5;241;43m=\u001b[39;49m\u001b[43mvalue\u001b[49m\u001b[43m,\u001b[49m\n\u001b[1;32m   1504\u001b[0m \u001b[43m      \u001b[49m\u001b[43mdtype\u001b[49m\u001b[38;5;241;43m=\u001b[39;49m\u001b[43mdtype\u001b[49m\u001b[43m,\u001b[49m\n\u001b[1;32m   1505\u001b[0m \u001b[43m      \u001b[49m\u001b[43mname\u001b[49m\u001b[38;5;241;43m=\u001b[39;49m\u001b[43mname\u001b[49m\u001b[43m,\u001b[49m\n\u001b[1;32m   1506\u001b[0m \u001b[43m      \u001b[49m\u001b[43mpreferred_dtype\u001b[49m\u001b[38;5;241;43m=\u001b[39;49m\u001b[43mdtype_hint\u001b[49m\u001b[43m,\u001b[49m\n\u001b[1;32m   1507\u001b[0m \u001b[43m      \u001b[49m\u001b[43mas_ref\u001b[49m\u001b[38;5;241;43m=\u001b[39;49m\u001b[38;5;28;43;01mFalse\u001b[39;49;00m\u001b[43m)\u001b[49m\n",
      "File \u001b[0;32m~/miniconda3/envs/tf/lib/python3.9/site-packages/tensorflow/python/profiler/trace.py:183\u001b[0m, in \u001b[0;36mtrace_wrapper.<locals>.inner_wrapper.<locals>.wrapped\u001b[0;34m(*args, **kwargs)\u001b[0m\n\u001b[1;32m    181\u001b[0m   \u001b[38;5;28;01mwith\u001b[39;00m Trace(trace_name, \u001b[38;5;241m*\u001b[39m\u001b[38;5;241m*\u001b[39mtrace_kwargs):\n\u001b[1;32m    182\u001b[0m     \u001b[38;5;28;01mreturn\u001b[39;00m func(\u001b[38;5;241m*\u001b[39margs, \u001b[38;5;241m*\u001b[39m\u001b[38;5;241m*\u001b[39mkwargs)\n\u001b[0;32m--> 183\u001b[0m \u001b[38;5;28;01mreturn\u001b[39;00m \u001b[43mfunc\u001b[49m\u001b[43m(\u001b[49m\u001b[38;5;241;43m*\u001b[39;49m\u001b[43margs\u001b[49m\u001b[43m,\u001b[49m\u001b[43m \u001b[49m\u001b[38;5;241;43m*\u001b[39;49m\u001b[38;5;241;43m*\u001b[39;49m\u001b[43mkwargs\u001b[49m\u001b[43m)\u001b[49m\n",
      "File \u001b[0;32m~/miniconda3/envs/tf/lib/python3.9/site-packages/tensorflow/python/framework/ops.py:1642\u001b[0m, in \u001b[0;36mconvert_to_tensor\u001b[0;34m(value, dtype, name, as_ref, preferred_dtype, dtype_hint, ctx, accepted_result_types)\u001b[0m\n\u001b[1;32m   1633\u001b[0m       \u001b[38;5;28;01mraise\u001b[39;00m \u001b[38;5;167;01mRuntimeError\u001b[39;00m(\n\u001b[1;32m   1634\u001b[0m           _add_error_prefix(\n\u001b[1;32m   1635\u001b[0m               \u001b[38;5;124mf\u001b[39m\u001b[38;5;124m\"\u001b[39m\u001b[38;5;124mConversion function \u001b[39m\u001b[38;5;132;01m{\u001b[39;00mconversion_func\u001b[38;5;132;01m!r}\u001b[39;00m\u001b[38;5;124m for type \u001b[39m\u001b[38;5;124m\"\u001b[39m\n\u001b[0;32m   (...)\u001b[0m\n\u001b[1;32m   1638\u001b[0m               \u001b[38;5;124mf\u001b[39m\u001b[38;5;124m\"\u001b[39m\u001b[38;5;124mactual = \u001b[39m\u001b[38;5;132;01m{\u001b[39;00mret\u001b[38;5;241m.\u001b[39mdtype\u001b[38;5;241m.\u001b[39mbase_dtype\u001b[38;5;241m.\u001b[39mname\u001b[38;5;132;01m}\u001b[39;00m\u001b[38;5;124m\"\u001b[39m,\n\u001b[1;32m   1639\u001b[0m               name\u001b[38;5;241m=\u001b[39mname))\n\u001b[1;32m   1641\u001b[0m \u001b[38;5;28;01mif\u001b[39;00m ret \u001b[38;5;129;01mis\u001b[39;00m \u001b[38;5;28;01mNone\u001b[39;00m:\n\u001b[0;32m-> 1642\u001b[0m   ret \u001b[38;5;241m=\u001b[39m \u001b[43mconversion_func\u001b[49m\u001b[43m(\u001b[49m\u001b[43mvalue\u001b[49m\u001b[43m,\u001b[49m\u001b[43m \u001b[49m\u001b[43mdtype\u001b[49m\u001b[38;5;241;43m=\u001b[39;49m\u001b[43mdtype\u001b[49m\u001b[43m,\u001b[49m\u001b[43m \u001b[49m\u001b[43mname\u001b[49m\u001b[38;5;241;43m=\u001b[39;49m\u001b[43mname\u001b[49m\u001b[43m,\u001b[49m\u001b[43m \u001b[49m\u001b[43mas_ref\u001b[49m\u001b[38;5;241;43m=\u001b[39;49m\u001b[43mas_ref\u001b[49m\u001b[43m)\u001b[49m\n\u001b[1;32m   1644\u001b[0m \u001b[38;5;28;01mif\u001b[39;00m ret \u001b[38;5;129;01mis\u001b[39;00m \u001b[38;5;28mNotImplemented\u001b[39m:\n\u001b[1;32m   1645\u001b[0m   \u001b[38;5;28;01mcontinue\u001b[39;00m\n",
      "File \u001b[0;32m~/miniconda3/envs/tf/lib/python3.9/site-packages/tensorflow/python/framework/tensor_conversion_registry.py:48\u001b[0m, in \u001b[0;36m_default_conversion_function\u001b[0;34m(***failed resolving arguments***)\u001b[0m\n\u001b[1;32m     46\u001b[0m \u001b[38;5;28;01mdef\u001b[39;00m \u001b[38;5;21m_default_conversion_function\u001b[39m(value, dtype, name, as_ref):\n\u001b[1;32m     47\u001b[0m   \u001b[38;5;28;01mdel\u001b[39;00m as_ref  \u001b[38;5;66;03m# Unused.\u001b[39;00m\n\u001b[0;32m---> 48\u001b[0m   \u001b[38;5;28;01mreturn\u001b[39;00m \u001b[43mconstant_op\u001b[49m\u001b[38;5;241;43m.\u001b[39;49m\u001b[43mconstant\u001b[49m\u001b[43m(\u001b[49m\u001b[43mvalue\u001b[49m\u001b[43m,\u001b[49m\u001b[43m \u001b[49m\u001b[43mdtype\u001b[49m\u001b[43m,\u001b[49m\u001b[43m \u001b[49m\u001b[43mname\u001b[49m\u001b[38;5;241;43m=\u001b[39;49m\u001b[43mname\u001b[49m\u001b[43m)\u001b[49m\n",
      "File \u001b[0;32m~/miniconda3/envs/tf/lib/python3.9/site-packages/tensorflow/python/framework/constant_op.py:268\u001b[0m, in \u001b[0;36mconstant\u001b[0;34m(value, dtype, shape, name)\u001b[0m\n\u001b[1;32m    171\u001b[0m \u001b[38;5;129m@tf_export\u001b[39m(\u001b[38;5;124m\"\u001b[39m\u001b[38;5;124mconstant\u001b[39m\u001b[38;5;124m\"\u001b[39m, v1\u001b[38;5;241m=\u001b[39m[])\n\u001b[1;32m    172\u001b[0m \u001b[38;5;28;01mdef\u001b[39;00m \u001b[38;5;21mconstant\u001b[39m(value, dtype\u001b[38;5;241m=\u001b[39m\u001b[38;5;28;01mNone\u001b[39;00m, shape\u001b[38;5;241m=\u001b[39m\u001b[38;5;28;01mNone\u001b[39;00m, name\u001b[38;5;241m=\u001b[39m\u001b[38;5;124m\"\u001b[39m\u001b[38;5;124mConst\u001b[39m\u001b[38;5;124m\"\u001b[39m):\n\u001b[1;32m    173\u001b[0m \u001b[38;5;250m  \u001b[39m\u001b[38;5;124;03m\"\"\"Creates a constant tensor from a tensor-like object.\u001b[39;00m\n\u001b[1;32m    174\u001b[0m \n\u001b[1;32m    175\u001b[0m \u001b[38;5;124;03m  Note: All eager `tf.Tensor` values are immutable (in contrast to\u001b[39;00m\n\u001b[0;32m   (...)\u001b[0m\n\u001b[1;32m    266\u001b[0m \u001b[38;5;124;03m    ValueError: if called on a symbolic tensor.\u001b[39;00m\n\u001b[1;32m    267\u001b[0m \u001b[38;5;124;03m  \"\"\"\u001b[39;00m\n\u001b[0;32m--> 268\u001b[0m   \u001b[38;5;28;01mreturn\u001b[39;00m \u001b[43m_constant_impl\u001b[49m\u001b[43m(\u001b[49m\u001b[43mvalue\u001b[49m\u001b[43m,\u001b[49m\u001b[43m \u001b[49m\u001b[43mdtype\u001b[49m\u001b[43m,\u001b[49m\u001b[43m \u001b[49m\u001b[43mshape\u001b[49m\u001b[43m,\u001b[49m\u001b[43m \u001b[49m\u001b[43mname\u001b[49m\u001b[43m,\u001b[49m\u001b[43m \u001b[49m\u001b[43mverify_shape\u001b[49m\u001b[38;5;241;43m=\u001b[39;49m\u001b[38;5;28;43;01mFalse\u001b[39;49;00m\u001b[43m,\u001b[49m\n\u001b[1;32m    269\u001b[0m \u001b[43m                        \u001b[49m\u001b[43mallow_broadcast\u001b[49m\u001b[38;5;241;43m=\u001b[39;49m\u001b[38;5;28;43;01mTrue\u001b[39;49;00m\u001b[43m)\u001b[49m\n",
      "File \u001b[0;32m~/miniconda3/envs/tf/lib/python3.9/site-packages/tensorflow/python/framework/constant_op.py:280\u001b[0m, in \u001b[0;36m_constant_impl\u001b[0;34m(value, dtype, shape, name, verify_shape, allow_broadcast)\u001b[0m\n\u001b[1;32m    278\u001b[0m     \u001b[38;5;28;01mwith\u001b[39;00m trace\u001b[38;5;241m.\u001b[39mTrace(\u001b[38;5;124m\"\u001b[39m\u001b[38;5;124mtf.constant\u001b[39m\u001b[38;5;124m\"\u001b[39m):\n\u001b[1;32m    279\u001b[0m       \u001b[38;5;28;01mreturn\u001b[39;00m _constant_eager_impl(ctx, value, dtype, shape, verify_shape)\n\u001b[0;32m--> 280\u001b[0m   \u001b[38;5;28;01mreturn\u001b[39;00m \u001b[43m_constant_eager_impl\u001b[49m\u001b[43m(\u001b[49m\u001b[43mctx\u001b[49m\u001b[43m,\u001b[49m\u001b[43m \u001b[49m\u001b[43mvalue\u001b[49m\u001b[43m,\u001b[49m\u001b[43m \u001b[49m\u001b[43mdtype\u001b[49m\u001b[43m,\u001b[49m\u001b[43m \u001b[49m\u001b[43mshape\u001b[49m\u001b[43m,\u001b[49m\u001b[43m \u001b[49m\u001b[43mverify_shape\u001b[49m\u001b[43m)\u001b[49m\n\u001b[1;32m    282\u001b[0m g \u001b[38;5;241m=\u001b[39m ops\u001b[38;5;241m.\u001b[39mget_default_graph()\n\u001b[1;32m    283\u001b[0m tensor_value \u001b[38;5;241m=\u001b[39m attr_value_pb2\u001b[38;5;241m.\u001b[39mAttrValue()\n",
      "File \u001b[0;32m~/miniconda3/envs/tf/lib/python3.9/site-packages/tensorflow/python/framework/constant_op.py:305\u001b[0m, in \u001b[0;36m_constant_eager_impl\u001b[0;34m(ctx, value, dtype, shape, verify_shape)\u001b[0m\n\u001b[1;32m    303\u001b[0m \u001b[38;5;28;01mdef\u001b[39;00m \u001b[38;5;21m_constant_eager_impl\u001b[39m(ctx, value, dtype, shape, verify_shape):\n\u001b[1;32m    304\u001b[0m \u001b[38;5;250m  \u001b[39m\u001b[38;5;124;03m\"\"\"Creates a constant on the current device.\"\"\"\u001b[39;00m\n\u001b[0;32m--> 305\u001b[0m   t \u001b[38;5;241m=\u001b[39m \u001b[43mconvert_to_eager_tensor\u001b[49m\u001b[43m(\u001b[49m\u001b[43mvalue\u001b[49m\u001b[43m,\u001b[49m\u001b[43m \u001b[49m\u001b[43mctx\u001b[49m\u001b[43m,\u001b[49m\u001b[43m \u001b[49m\u001b[43mdtype\u001b[49m\u001b[43m)\u001b[49m\n\u001b[1;32m    306\u001b[0m   \u001b[38;5;28;01mif\u001b[39;00m shape \u001b[38;5;129;01mis\u001b[39;00m \u001b[38;5;28;01mNone\u001b[39;00m:\n\u001b[1;32m    307\u001b[0m     \u001b[38;5;28;01mreturn\u001b[39;00m t\n",
      "File \u001b[0;32m~/miniconda3/envs/tf/lib/python3.9/site-packages/tensorflow/python/framework/constant_op.py:103\u001b[0m, in \u001b[0;36mconvert_to_eager_tensor\u001b[0;34m(value, ctx, dtype)\u001b[0m\n\u001b[1;32m    101\u001b[0m     dtype \u001b[38;5;241m=\u001b[39m dtypes\u001b[38;5;241m.\u001b[39mas_dtype(dtype)\u001b[38;5;241m.\u001b[39mas_datatype_enum\n\u001b[1;32m    102\u001b[0m ctx\u001b[38;5;241m.\u001b[39mensure_initialized()\n\u001b[0;32m--> 103\u001b[0m \u001b[38;5;28;01mreturn\u001b[39;00m \u001b[43mops\u001b[49m\u001b[38;5;241;43m.\u001b[39;49m\u001b[43mEagerTensor\u001b[49m\u001b[43m(\u001b[49m\u001b[43mvalue\u001b[49m\u001b[43m,\u001b[49m\u001b[43m \u001b[49m\u001b[43mctx\u001b[49m\u001b[38;5;241;43m.\u001b[39;49m\u001b[43mdevice_name\u001b[49m\u001b[43m,\u001b[49m\u001b[43m \u001b[49m\u001b[43mdtype\u001b[49m\u001b[43m)\u001b[49m\n",
      "\u001b[0;31mKeyboardInterrupt\u001b[0m: "
     ]
    }
   ],
   "source": [
    "import numpy as np\n",
    "import tensorflow as tf\n",
    "from tensorflow.keras.layers import Input, Dense, Concatenate, Dropout\n",
    "from tensorflow.keras.models import Model\n",
    "from optuna.integration import TFKerasPruningCallback\n",
    "import optuna\n",
    "from keras import regularizers, layers, optimizers, initializers\n",
    "from keras.callbacks import EarlyStopping, ReduceLROnPlateau, TerminateOnNaN\n",
    "from datetime import timedelta\n",
    "import time\n",
    "import os\n",
    "from sklearn.preprocessing import StandardScaler, MinMaxScaler, PowerTransformer, QuantileTransformer, RobustScaler\n",
    "from sklearn.metrics import r2_score, mean_squared_error, mean_absolute_error\n",
    "\n",
    "\n",
    "from __future__ import annotations\n",
    "\n",
    "from typing import NamedTuple\n",
    "\n",
    "from optuna.logging import get_logger\n",
    "from optuna.samplers._base import _CONSTRAINTS_KEY\n",
    "from optuna.study import Study\n",
    "from optuna.trial import FrozenTrial\n",
    "from optuna.trial import TrialState\n",
    "from optuna.visualization._plotly_imports import _imports\n",
    "\n",
    "if _imports.is_successful():\n",
    "    from optuna.visualization._plotly_imports import go\n",
    "\n",
    "_logger = get_logger(__name__)\n",
    "\n",
    "\n",
    "class _TrialInfo(NamedTuple):\n",
    "    trial_number: int\n",
    "    sorted_intermediate_values: list[tuple[int, float]]\n",
    "    feasible: bool\n",
    "\n",
    "\n",
    "class _IntermediatePlotInfo(NamedTuple):\n",
    "    trial_infos: list[_TrialInfo]\n",
    "\n",
    "\n",
    "def _get_intermediate_plot_info(study: Study, n_last_trials: int = None) -> _IntermediatePlotInfo:\n",
    "    trials = study.get_trials(\n",
    "        deepcopy=False, states=(TrialState.PRUNED, TrialState.COMPLETE, TrialState.RUNNING)\n",
    "    )\n",
    "\n",
    "    if n_last_trials is not None:\n",
    "        trials = trials[-n_last_trials:]  # Take only the last n_last_trials trials\n",
    "\n",
    "    def _satisfies_constraints(trial: FrozenTrial) -> bool:\n",
    "        constraints = trial.system_attrs.get(_CONSTRAINTS_KEY)\n",
    "        return constraints is None or all([x <= 0.0 for x in constraints])\n",
    "\n",
    "    trial_infos = [\n",
    "        _TrialInfo(\n",
    "            trial.number, sorted(trial.intermediate_values.items()), _satisfies_constraints(trial)\n",
    "        )\n",
    "        for trial in trials\n",
    "        if len(trial.intermediate_values) > 0\n",
    "    ]\n",
    "\n",
    "    if len(trials) == 0:\n",
    "        _logger.warning(\"Study instance does not contain trials.\")\n",
    "    elif len(trial_infos) == 0:\n",
    "        _logger.warning(\n",
    "            \"You need to set up the pruning feature to utilize `plot_intermediate_values()`\"\n",
    "        )\n",
    "\n",
    "    return _IntermediatePlotInfo(trial_infos)\n",
    "\n",
    "\n",
    "def plot_intermediate_values(study: Study, n_last_trials: int = None) -> \"go.Figure\":\n",
    "    \"\"\"\n",
    "    Plot intermediate values of the last n trials in a study.\n",
    "    Args:\n",
    "        study: A :class:`~optuna.study.Study` object whose trials are plotted for their intermediate\n",
    "            values.\n",
    "        n_last_trials: The number of last trials to include in the plot. If None, include all trials.\n",
    "    Returns:\n",
    "        A :class:`plotly.graph_objects.Figure` object.\n",
    "    \"\"\"\n",
    "\n",
    "    _imports.check()\n",
    "    return _get_intermediate_plot(_get_intermediate_plot_info(study, n_last_trials))\n",
    "\n",
    "\n",
    "def _get_intermediate_plot(info: _IntermediatePlotInfo) -> \"go.Figure\":\n",
    "    layout = go.Layout(\n",
    "        title=\"Intermediate Values Plot\",\n",
    "        xaxis={\"title\": \"Step\"},\n",
    "        yaxis={\"title\": \"Intermediate Value\"},\n",
    "        showlegend=False,\n",
    "    )\n",
    "\n",
    "    trial_infos = info.trial_infos\n",
    "\n",
    "    if len(trial_infos) == 0:\n",
    "        return go.Figure(data=[], layout=layout)\n",
    "\n",
    "    default_marker = {\"maxdisplayed\": 10}\n",
    "\n",
    "    traces = [\n",
    "        go.Scatter(\n",
    "            x=tuple((x for x, _ in tinfo.sorted_intermediate_values)),\n",
    "            y=tuple((y for _, y in tinfo.sorted_intermediate_values)),\n",
    "            mode=\"lines+markers\",\n",
    "            marker=(\n",
    "                default_marker\n",
    "                if tinfo.feasible\n",
    "                else {**default_marker, \"color\": \"#CCCCCC\"}  # type: ignore[dict-item]\n",
    "            ),\n",
    "            name=\"Trial{}\".format(tinfo.trial_number),\n",
    "        )\n",
    "        for tinfo in trial_infos\n",
    "    ]\n",
    "\n",
    "    return go.Figure(data=traces, layout=layout)\n",
    "\n",
    "\n",
    "\n",
    "np.seterr(over='ignore')\n",
    "\n",
    "def r2_score_safe(y_true, y_pred):\n",
    "    # Turvallinen R2 laskenta, joka palauttaa -inf, jos laskennassa ilmenee virheitä\n",
    "    try:\n",
    "        return r2_score(y_true, y_pred)\n",
    "    except Exception as e: \n",
    "        print(f'Error in r2_score_safe: {e}')        \n",
    "        return float('-inf')\n",
    "\n",
    "def mean_squared_error_safe(y_true, y_pred):\n",
    "    # Turvallinen MSE laskenta, joka palauttaa inf, jos laskennassa ilmenee virheitä\n",
    "    try:\n",
    "        return mean_squared_error(y_true, y_pred)\n",
    "    except Exception as e:\n",
    "        print(f'Error in mean_squared_error_safe: {e}')\n",
    "        return float('-inf')\n",
    "\n",
    "def mean_absolute_error_safe(y_true, y_pred):\n",
    "    # Turvallinen MAE laskenta, joka palauttaa inf, jos laskennassa ilmenee virheitä\n",
    "    try:\n",
    "        return mean_absolute_error(y_true, y_pred)\n",
    "    except Exception as e:\n",
    "        print(f'Erros in mean_absolute_error_safe: {e}')\n",
    "        return float('-inf')\n",
    "\n",
    "def r2_score_tf(y_true, y_pred):\n",
    "\n",
    "    try: \n",
    "        ss_res = tf.reduce_sum(tf.square(y_true - y_pred), axis=0)\n",
    "        ss_tot = tf.reduce_sum(tf.square(y_true - tf.reduce_mean(y_true, axis=0)), axis=0)\n",
    "        r2 = 1 - ss_res/(ss_tot + tf.keras.backend.epsilon())\n",
    "        r2 = tf.where(tf.math.is_nan(r2), tf.zeros_like(r2), r2)  # Korvaa NaN-arvot nollilla\n",
    "        return tf.reduce_mean(tf.maximum(r2, 0.0))\n",
    "    except Exception as e:\n",
    "        print(f'Error in r2_score_tf: {e}')\n",
    "        return float('-inf')\n",
    "    \n",
    "def print_pareto_front(study):\n",
    "    pareto_front_trials = study.best_trials\n",
    "    print(\"Pareto front:\")\n",
    "    for trial in pareto_front_trials:\n",
    "        print(f\"Trial#{trial.number}, Values: {trial.values}\")\n",
    "\n",
    "\n",
    "def create_model(trial):\n",
    "\n",
    "    image_features_input = Input(shape=(X_train_feat.shape[1],), name='image_features_input')\n",
    "    tabular_data_input = Input(shape=(X_train_tab.shape[1],), name='tabular_data_input')\n",
    "\n",
    "    num_img_units = 1477\n",
    "    img_dense = Dense(num_img_units, activation='elu', kernel_initializer = 'glorot_uniform')(image_features_input)\n",
    "    img_dense = layers.BatchNormalization()(img_dense)\n",
    "    img_dense = Dropout(0.7)(img_dense)\n",
    "    \n",
    "    tab_dense = Dense(402, activation='selu', kernel_initializer = 'random_normal')(tabular_data_input)\n",
    "    tab_dense = Dropout(0.6)(tab_dense)\n",
    "\n",
    "    concatenated = Concatenate()([img_dense, tab_dense])\n",
    "    \n",
    "    \n",
    "    concatenated = Dense(910, activation='swish', kernel_initializer = 'he_uniform')(concatenated)\n",
    "    concatenated = layers.BatchNormalization()(concatenated)\n",
    "    concatenated = Dropout(0.3)(concatenated)\n",
    "\n",
    "    concatenated = Dense(793, activation='swish', kernel_initializer = 'he_uniform')(concatenated)\n",
    "    concatenated = layers.BatchNormalization()(concatenated)\n",
    "    concatenated = Dropout(0.3)(concatenated)\n",
    "\n",
    "    output = Dense(6, activation='linear')(concatenated)\n",
    "    model = Model(inputs=[image_features_input, tabular_data_input], outputs=output)\n",
    "\n",
    "\n",
    "    optimizer_options = ['adam', 'rmsprop', 'Nadam', 'adamax']\n",
    "    optimizer_selected = trial.suggest_categorical('optimizer', optimizer_options)\n",
    "\n",
    "    if optimizer_selected == 'adam':\n",
    "        optimizer = optimizers.Adam()\n",
    "    elif optimizer_selected == 'rmsprop':\n",
    "        optimizer = optimizers.RMSprop()\n",
    "    elif optimizer_selected == 'Nadam':\n",
    "        optimizer = optimizers.Nadam()\n",
    "    else:\n",
    "        optimizer = optimizers.Adamax()\n",
    "\n",
    "    # delta = trial.suggest_float('delta', 0.0, 2.5)\n",
    "    # global current_delta\n",
    "    # current_delta = delta\n",
    "\n",
    "    model.compile(optimizer=optimizer, loss='mse', metrics=['mse','mae', r2_score_tf])\n",
    "    # model.compile(optimizer=optimizers.Nadam(), loss='mse', metrics=['mse','mae', r2_score])\n",
    "    \n",
    "    \n",
    "    return model\n",
    "\n",
    " \n",
    "\n",
    "def objective(trial):\n",
    "\n",
    "    model = create_model(trial)\n",
    "\n",
    "    y_train_transformed = y_train.copy()\n",
    "    y_valid_transformed = y_valid.copy()\n",
    "\n",
    "\n",
    "    log_base_options = {'none': None, 'log2': 2, 'log10': 10, 'log5': 5, 'log15': 15, 'sqrt': 'sqrt', 'cbrt': 'cbrt'}\n",
    "    log_transforms = {}\n",
    "    for target in mean_columns:\n",
    "        log_base = trial.suggest_categorical(f'Log_{target}', list(log_base_options.keys()))\n",
    "        log_transforms[target] = log_base_options[log_base]\n",
    "\n",
    "    # log_transforms = {'X11_mean': None, 'X18_mean': 2, 'X26_mean': 2, 'X50_mean': 'cbrt', 'X4_mean': 2, 'X3112_mean': 10}\n",
    "\n",
    "\n",
    "\n",
    "    callbacks = [\n",
    "                 ReduceLROnPlateau('val_r2_score_tf', patience=2, factor=0.7, mode = 'max', verbose = 0)]\n",
    "\n",
    "    for target, log_base in log_transforms.items():\n",
    "        if log_base is not None and log_base != 'sqrt' and log_base != 'cbrt':\n",
    "            y_train_transformed[target] = np.log(y_train[target]) / np.log(log_base)\n",
    "            y_valid_transformed[target] = np.log(y_valid[target]) / np.log(log_base)\n",
    "\n",
    "        elif log_base == 'sqrt':\n",
    "            y_train_transformed[target] = np.sqrt(y_train[target])\n",
    "            y_valid_transformed[target] = np.sqrt(y_valid[target])\n",
    "\n",
    "        elif log_base == 'cbrt':\n",
    "            y_train_transformed[target] = np.cbrt(y_train[target])\n",
    "            y_valid_transformed[target] = np.cbrt(y_valid[target])\n",
    "\n",
    "        else:\n",
    "            y_train_transformed[target] = y_train[target]\n",
    "            y_valid_transformed[target] = y_valid[target]\n",
    "    \n",
    "    scaler_base_options = {'Std': StandardScaler(), 'None': None, 'minmax': MinMaxScaler(), 'Robust': RobustScaler(), 'Power': PowerTransformer(), 'Quantile': QuantileTransformer()}\n",
    "    scaler_transforms = {}\n",
    "    for target in mean_columns:\n",
    "        scaler_base = trial.suggest_categorical(f'Scaler_{target}', list(scaler_base_options.keys()))\n",
    "        scaler_transforms[target] = scaler_base_options[scaler_base]\n",
    "\n",
    "    for target, scaler in scaler_transforms.items():\n",
    "        if scaler is not None:\n",
    "            y_train_transformed[target] = scaler.fit_transform(y_train_transformed[target].values.reshape(-1, 1)).flatten()\n",
    "            y_valid_transformed[target] = scaler.transform(y_valid_transformed[target].values.reshape(-1, 1)).flatten()\n",
    "    \n",
    "    for epoch in range(17):\n",
    "\n",
    "        model.fit([X_train_feat, X_train_tab], y_train_transformed, validation_data=([X_valid_feat, X_valid_tab], y_valid_transformed), batch_size=256, epochs=3, callbacks=callbacks, verbose = 0)\n",
    "        preds_transformed = model.predict([X_valid_feat, X_valid_tab], verbose = 0)        \n",
    "\n",
    "    \n",
    "        try:        \n",
    "            for i, target in enumerate(mean_columns):\n",
    "                scaler = scaler_transforms[target]\n",
    "                if scaler is not None:\n",
    "                    preds_transformed[:, i] = scaler.inverse_transform(preds_transformed[:, i].reshape(-1, 1)).flatten()                \n",
    "\n",
    "            for i, target in enumerate(mean_columns):\n",
    "                log_base = log_transforms[target]\n",
    "                if log_base is not None and log_base != 'sqrt' and log_base != 'cbrt':\n",
    "                    preds_transformed[:, i] = np.power(log_base, preds_transformed[:, i])                \n",
    "                elif log_base == 'sqrt':   \n",
    "                    preds_transformed[:, i] = np.square(preds_transformed[:, i])    \n",
    "                elif log_base == 'cbrt':\n",
    "                    preds_transformed[:, i] = np.power(preds_transformed[:, i], 3)\n",
    "\n",
    "            r2_score_inv = r2_score_safe(y_valid, preds_transformed)                        \n",
    "\n",
    "        except Exception as e:\n",
    "            print(f'Error in inverse transformation: {e}')\n",
    "            print(f'Trial number {trial.number} epoch {epoch*3}')\n",
    "            r2_score_inv = float('-inf')\n",
    "            \n",
    "        if np.isnan(preds_transformed).any():\n",
    "            print(f'Nan values in predictions')\n",
    "            print(f'Trial number {trial.number} epoch {epoch*3}')\n",
    "            r2_score_inv = float('-inf')                        \n",
    "\n",
    "        if np.isinf(preds_transformed).any():\n",
    "            print(f'Inf values in predictions')\n",
    "            print(f'Trial number {trial.number} epoch {epoch*3}')\n",
    "            r2_score_inv = float('-inf')\n",
    "\n",
    "        \n",
    "\n",
    "        trial.report(r2_score_inv, epoch)\n",
    "        new_best_found = False\n",
    "        new_best = None\n",
    "\n",
    "        if trial.should_prune():\n",
    "\n",
    "            print(f'Trial {trial.number} pruned at epoch {epoch} with R2 {r2_score_inv:.5f}')\n",
    "\n",
    "            if trial.number > 0:\n",
    "                if r2_score_inv > study.best_value:\n",
    "\n",
    "                    print(\"*\" * 50)\n",
    "                    print(f'Old best R2 : {study.best_value:.5f}')\n",
    "                    print(f'New best R2 : {r2_score_inv:.5f}')\n",
    "\n",
    "                    r2 = r2_score_safe(y_valid, preds_transformed)\n",
    "                    mse  = mean_squared_error(y_valid, preds_transformed)\n",
    "                    mae = mean_absolute_error(y_valid, preds_transformed)\n",
    "                    \n",
    "                    print(f'Best epoch all errors R2 : {r2:.5f}, MSE : {mse:.5f}, MAE : {mae:.5f}')\n",
    "                    print(f'Best epoch : {epoch}')\n",
    "\n",
    "                    best_filename = f'./NN_search/{study_name}_best_val_{r2_score_inv:.5f}_model.h5'\n",
    "                    if os.path.exists(best_filename):\n",
    "                        os.remove(best_filename)\n",
    "\n",
    "                    print(f'Saving model to {best_filename}')\n",
    "                    model.save(best_filename)\n",
    "            \n",
    "                    best_log_transforms_name = f'./NN_search/{study_name}_{r2_score_inv:.5f}_best_log_transforms.pickle'\n",
    "                    print(f'Saving log transforms to {best_log_transforms_name}')\n",
    "                    with open(best_log_transforms_name, 'wb') as f:\n",
    "                        pickle.dump(log_transforms, f, protocol=pickle.HIGHEST_PROTOCOL)\n",
    "\n",
    "                    scaler_transforms_name = f'./NN_search/{study_name}_{r2_score_inv:.5f}_best_scalers.pickle'\n",
    "                    print(f'Saving scalers to {scaler_transforms_name}')\n",
    "                    with open(scaler_transforms_name, 'wb') as f:\n",
    "                        pickle.dump(scaler_transforms, f, protocol=pickle.HIGHEST_PROTOCOL)\n",
    "\n",
    "                    print(\"*\" * 50)\n",
    "                \n",
    "            tf.keras.backend.clear_session()\n",
    "            gc.collect()\n",
    "                \n",
    "            raise optuna.exceptions.TrialPruned()\n",
    "        \n",
    "        if trial.number > 0 and not new_best_found:\n",
    "            if r2_score_inv > study.best_value:\n",
    "                new_best_found = True\n",
    "                new_best = r2_score_inv\n",
    "\n",
    "\n",
    "                print(\"*\" * 50)\n",
    "                print(f'Old best R2 : {study.best_value:.5f}')\n",
    "                print(f'New best R2 : {r2_score_inv:.5f}')\n",
    "\n",
    "                r2 = r2_score_safe(y_valid, preds_transformed)\n",
    "                mse  = mean_squared_error(y_valid, preds_transformed)\n",
    "                mae = mean_absolute_error(y_valid, preds_transformed)\n",
    "                \n",
    "                print(f'Best epoch all errors R2 : {r2:.5f}, MSE : {mse:.5f}, MAE : {mae:.5f}')\n",
    "                print(f'Best epoch : {epoch}')\n",
    "\n",
    "                best_filename = f'./NN_search/{study_name}_best_val_{r2_score_inv:.5f}_model.h5'\n",
    "                if os.path.exists(best_filename):\n",
    "                    os.remove(best_filename)\n",
    "\n",
    "                print(f'Saving model to {best_filename}')\n",
    "                model.save(best_filename)\n",
    "        \n",
    "                best_log_transforms_name = f'./NN_search/{study_name}_{r2_score_inv:.5f}_best_log_transforms.pickle'\n",
    "                print(f'Saving log transforms to {best_log_transforms_name}')\n",
    "                with open(best_log_transforms_name, 'wb') as f:\n",
    "                    pickle.dump(log_transforms, f, protocol=pickle.HIGHEST_PROTOCOL)\n",
    "\n",
    "                scaler_transforms_name = f'./NN_search/{study_name}_{r2_score_inv:.5f}_best_scalers.pickle'\n",
    "                print(f'Saving scalers to {scaler_transforms_name}')\n",
    "                with open(scaler_transforms_name, 'wb') as f:\n",
    "                    pickle.dump(scaler_transforms, f, protocol=pickle.HIGHEST_PROTOCOL)\n",
    "\n",
    "                print(\"*\" * 50)\n",
    "\n",
    "    \n",
    "        if new_best is None:\n",
    "            new_best = r2_score_inv\n",
    "        elif r2_score_inv > new_best:\n",
    "            new_best = r2_score_inv\n",
    "                \n",
    "        if new_best_found:\n",
    "            if r2_score_inv > study.best_value:\n",
    "                \n",
    "                print(\"*\" * 50)\n",
    "                print(f'Getting better R2 : {r2_score_inv:.5f} with a new best in this run :) ' )\n",
    "                print(f'Old best R2 : {study.best_value:.5f}')\n",
    "                print(f'New best R2 : {r2_score_inv:.5f}')\n",
    "\n",
    "                r2 = r2_score_safe(y_valid, preds_transformed)\n",
    "                mse  = mean_squared_error(y_valid, preds_transformed)\n",
    "                mae = mean_absolute_error(y_valid, preds_transformed)\n",
    "                \n",
    "                print(f'Best epoch all errors R2 : {r2:.5f}, MSE : {mse:.5f}, MAE : {mae:.5f}')\n",
    "                print(f'Best epoch : {epoch}')\n",
    "\n",
    "                best_filename = f'./NN_search/{study_name}_best_val_{r2_score_inv:.5f}_model.h5'\n",
    "                if os.path.exists(best_filename):\n",
    "                    os.remove(best_filename)\n",
    "\n",
    "                print(f'Saving model to {best_filename}')\n",
    "                model.save(best_filename)\n",
    "        \n",
    "                best_log_transforms_name = f'./NN_search/{study_name}_{r2_score_inv:.5f}_best_log_transforms.pickle'\n",
    "                print(f'Saving log transforms to {best_log_transforms_name}')\n",
    "                with open(best_log_transforms_name, 'wb') as f:\n",
    "                    pickle.dump(log_transforms, f, protocol=pickle.HIGHEST_PROTOCOL)\n",
    "\n",
    "                scaler_transforms_name = f'./NN_search/{study_name}_{r2_score_inv:.5f}_best_scalers.pickle'\n",
    "                print(f'Saving scalers to {scaler_transforms_name}')\n",
    "                with open(scaler_transforms_name, 'wb') as f:\n",
    "                    pickle.dump(scaler_transforms, f, protocol=pickle.HIGHEST_PROTOCOL)\n",
    "\n",
    "\n",
    "\n",
    "            \n",
    "            \n",
    "        \n",
    "    if os.path.exists(f'./NN_search/{study_name}_search_model.h5'):\n",
    "        os.remove(f'./NN_search/{study_name}_search_model.h5')\n",
    "\n",
    "    tf.keras.backend.clear_session()\n",
    "    gc.collect()\n",
    "    \n",
    "    return new_best\n",
    "\n",
    "\n",
    "num_random_trials = 1\n",
    "num_gene = 20\n",
    "num_tpe_trial = 5\n",
    "\n",
    "\n",
    "search_time_max = 3600 * 18\n",
    "\n",
    "study = optuna.create_study(direction='maximize',\n",
    "                            study_name=study_name,\n",
    "                            storage=f'sqlite:///413_prunerilla.db',\n",
    "                            load_if_exists=True,\n",
    "                            pruner=optuna.pruners.MedianPruner(n_startup_trials=10, n_warmup_steps=1, interval_steps=3)\n",
    "                            )\n",
    "\n",
    "search_time_taken = 0\n",
    "search_start = time.time()\n",
    "round = 0\n",
    "trials_done = 0\n",
    "genemachine = optuna.samplers.NSGAIIISampler()\n",
    "qmcampler = optuna.samplers.QMCSampler(warn_independent_sampling = False)\n",
    "tpe_sampler = optuna.samplers.TPESampler(n_startup_trials=0, multivariate=True, warn_independent_sampling = False, n_ei_candidates=42)\n",
    "\n",
    "\n",
    "\n",
    "import logging\n",
    "\n",
    "logging.basicConfig(level=logging.INFO, \n",
    "                    format='%(asctime)s - %(levelname)s - %(message)s')\n",
    "\n",
    "optuna.logging.get_logger(\"optuna\").setLevel(logging.INFO)\n",
    "logging.basicConfig(level=logging.INFO)\n",
    "\n",
    "\n",
    "while search_time_taken < search_time_max:\n",
    "\n",
    "    round_start = time.time()\n",
    "\n",
    "    print('-' * 50)\n",
    "    print(f'Starting study with {num_random_trials} random trials, round {round}')\n",
    "    print(f'Search time so far taken : {timedelta(seconds=search_time_taken)}')\n",
    "    print('-' * 50)\n",
    "    study.sampler = qmcampler\n",
    "    study.optimize(objective, n_trials=num_random_trials)\n",
    "    print(f'Time taken for random trials: {timedelta(seconds= (time.time() - round_start))}')\n",
    "    print(f'Time for one random trial: {timedelta(seconds= (time.time() - round_start) / num_random_trials)}')\n",
    "    fig = plot_intermediate_values(study, num_random_trials)\n",
    "    fig.show()\n",
    "\n",
    "    genetime = time.time()\n",
    "    print(f'Starting gene {num_gene} trials...')\n",
    "    study.sampler = genemachine\n",
    "    study.optimize(objective, n_trials=num_gene)\n",
    "    print(f'Time taken for gene trials: {timedelta(seconds= time.time() - genetime)}')\n",
    "    print(f'Time for one gene trial: {timedelta(seconds= (time.time() - genetime) / num_gene)}')\n",
    "    fig = plot_intermediate_values(study, num_gene)\n",
    "    fig.show()\n",
    "\n",
    "    time_tpe = time.time() \n",
    "    print(f'Starting TPE {num_tpe_trial} trials...')\n",
    "    study.sampler = tpe_sampler\n",
    "    study.optimize(objective, n_trials=num_tpe_trial)\n",
    "    print(f'Time taken for TPE trials: {timedelta(seconds= time.time() - time_tpe)}')\n",
    "    print(f'Time for one TPE trial: {timedelta(seconds= (time.time() - time_tpe) / num_tpe_trial)}')\n",
    "    fig = plot_intermediate_values(study, num_gene)\n",
    "    fig.show()\n",
    "    \n",
    "    print(f'Time taken for one trial this round: {timedelta(seconds= (time.time() - round_start) / (num_random_trials + num_tpe_trial + num_gene))}')\n",
    "    print(f'Time this round: {timedelta(seconds= time.time() - round_start)}')\n",
    "    fig = plot_intermediate_values(study, num_random_trials + num_tpe_trial + num_gene)\n",
    "    fig.show()\n",
    "\n",
    "    print('-' * 50)\n",
    "    trials_done += num_random_trials + num_tpe_trial + num_gene\n",
    "    print(f'Trials done so far: {trials_done}')\n",
    "    search_time_taken = time.time() - search_start\n",
    "    print(f'Time taken for one trials all rounds: {timedelta(seconds= search_time_taken / trials_done)}')\n",
    "    round += 1\n",
    "\n",
    "print(f'Search time total : {timedelta(seconds=time.time() - search_start)}')\n",
    "\n",
    "\n",
    "\n",
    "        \n"
   ]
  },
  {
   "cell_type": "code",
   "execution_count": null,
   "metadata": {},
   "outputs": [],
   "source": [
    "# import numpy as np\n",
    "# import tensorflow as tf\n",
    "# from tensorflow.keras.layers import Input, Dense, Concatenate, Dropout\n",
    "# from tensorflow.keras.models import Model\n",
    "# from optuna.integration import TFKerasPruningCallback\n",
    "# import optuna\n",
    "# from keras import regularizers, layers, optimizers, initializers\n",
    "# from keras.callbacks import EarlyStopping, ReduceLROnPlateau, TerminateOnNaN\n",
    "# from datetime import timedelta\n",
    "# import time\n",
    "# import os\n",
    "# from sklearn.preprocessing import StandardScaler, MinMaxScaler, PowerTransformer, QuantileTransformer, RobustScaler\n",
    "# from sklearn.metrics import r2_score, mean_squared_error, mean_absolute_error\n",
    "\n",
    "# def r2_score_safe(y_true, y_pred):\n",
    "#     # Turvallinen R2 laskenta, joka palauttaa -inf, jos laskennassa ilmenee virheitä\n",
    "#     try:\n",
    "#         return r2_score(y_true, y_pred)\n",
    "#     except Exception as e: \n",
    "#         print(f'Error in r2_score_safe: {e}')\n",
    "#         return float('-inf')\n",
    "\n",
    "# def mean_squared_error_safe(y_true, y_pred):\n",
    "#     # Turvallinen MSE laskenta, joka palauttaa inf, jos laskennassa ilmenee virheitä\n",
    "#     try:\n",
    "#         return mean_squared_error(y_true, y_pred)\n",
    "#     except Exception as e:\n",
    "#         print(f'Error in mean_squared_error_safe: {e}')\n",
    "#         return float('inf')\n",
    "\n",
    "# def mean_absolute_error_safe(y_true, y_pred):\n",
    "#     # Turvallinen MAE laskenta, joka palauttaa inf, jos laskennassa ilmenee virheitä\n",
    "#     try:\n",
    "#         return mean_absolute_error(y_true, y_pred)\n",
    "#     except Exception as e:\n",
    "#         print(f'Erros in mean_absolute_error_safe: {e}')\n",
    "#         return float('inf')\n",
    "\n",
    "# def r2_score_tf(y_true, y_pred):\n",
    "\n",
    "#     try: \n",
    "#         ss_res = tf.reduce_sum(tf.square(y_true - y_pred), axis=0)\n",
    "#         ss_tot = tf.reduce_sum(tf.square(y_true - tf.reduce_mean(y_true, axis=0)), axis=0)\n",
    "#         r2 = 1 - ss_res/(ss_tot + tf.keras.backend.epsilon())\n",
    "#         r2 = tf.where(tf.math.is_nan(r2), tf.zeros_like(r2), r2)  # Korvaa NaN-arvot nollilla\n",
    "#         return tf.reduce_mean(tf.maximum(r2, 0.0))\n",
    "#     except Exception as e:\n",
    "#         print(f'Error in r2_score_tf: {e}')\n",
    "#         return float('-inf')\n",
    "\n",
    "\n",
    "# def create_model(trial):\n",
    "\n",
    "#     image_features_input = Input(shape=(X_train_feat.shape[1],), name='image_features_input')\n",
    "#     tabular_data_input = Input(shape=(X_train_tab.shape[1],), name='tabular_data_input')\n",
    "\n",
    "#     num_img_units = 1477\n",
    "#     img_dense = Dense(num_img_units, activation='elu', kernel_initializer = 'glorot_uniform')(image_features_input)\n",
    "#     img_dense = layers.BatchNormalization()(img_dense)\n",
    "#     img_dense = Dropout(0.7)(img_dense)\n",
    "    \n",
    "#     tab_dense = Dense(402, activation='selu', kernel_initializer = 'random_normal')(tabular_data_input)\n",
    "#     tab_dense = Dropout(0.6)(tab_dense)\n",
    "\n",
    "#     concatenated = Concatenate()([img_dense, tab_dense])\n",
    "    \n",
    "    \n",
    "#     concatenated = Dense(910, activation='swish', kernel_initializer = 'he_uniform')(concatenated)\n",
    "#     concatenated = layers.BatchNormalization()(concatenated)\n",
    "#     concatenated = Dropout(0.3)(concatenated)\n",
    "\n",
    "#     concatenated = Dense(793, activation='swish', kernel_initializer = 'he_uniform')(concatenated)\n",
    "#     concatenated = layers.BatchNormalization()(concatenated)\n",
    "#     concatenated = Dropout(0.3)(concatenated)\n",
    "\n",
    "#     output = Dense(6, activation='linear')(concatenated)\n",
    "#     model = Model(inputs=[image_features_input, tabular_data_input], outputs=output)\n",
    "\n",
    "\n",
    "#     optimizer_options = ['adam', 'rmsprop', 'Nadam', 'adamax']\n",
    "#     optimizer_selected = trial.suggest_categorical('optimizer', optimizer_options)\n",
    "\n",
    "#     if optimizer_selected == 'adam':\n",
    "#         optimizer = optimizers.Adam()\n",
    "#     elif optimizer_selected == 'rmsprop':\n",
    "#         optimizer = optimizers.RMSprop()\n",
    "#     elif optimizer_selected == 'Nadam':\n",
    "#         optimizer = optimizers.Nadam()\n",
    "#     else:\n",
    "#         optimizer = optimizers.Adamax()\n",
    "\n",
    "#     model.compile(optimizer=optimizer, loss='mse', metrics=['mse','mae', r2_score_tf])\n",
    "#     # model.compile(optimizer=optimizers.Nadam(), loss='mse', metrics=['mse','mae', r2_score])\n",
    "    \n",
    "    \n",
    "#     return model\n",
    "\n",
    " \n",
    "\n",
    "# def objective(trial):\n",
    "\n",
    "#     model = create_model(trial)\n",
    "\n",
    "#     y_train_transformed = y_train.copy()\n",
    "#     y_valid_transformed = y_valid.copy()\n",
    "\n",
    "\n",
    "#     log_base_options = {'none': None, 'log2': 2, 'log10': 10, 'log5': 5, 'log15': 15, 'sqrt': 'sqrt', 'cbrt': 'cbrt'}\n",
    "#     log_transforms = {}\n",
    "#     for target in mean_columns:\n",
    "#         log_base = trial.suggest_categorical(f'Log_{target}', list(log_base_options.keys()))\n",
    "#         log_transforms[target] = log_base_options[log_base]\n",
    "\n",
    "#     # log_transforms = {'X11_mean': None, 'X18_mean': 2, 'X26_mean': 2, 'X50_mean': 'cbrt', 'X4_mean': 2, 'X3112_mean': 10}\n",
    "\n",
    "#     model_checkpoint_callback = tf.keras.callbacks.ModelCheckpoint(\n",
    "#             filepath=f\"./NN_search/{study_name}_search_model.h5\",\n",
    "#             monitor='val_r2_score_tf',\n",
    "#             mode='max',\n",
    "#             save_best_only=True,\n",
    "#             save_weights_only=True,\n",
    "#             verbose=0)\n",
    "\n",
    "\n",
    "#     callbacks = [\n",
    "#                  ReduceLROnPlateau('val_r2_score_tf', patience=2, factor=0.5, mode = 'max', verbose = 1),\n",
    "#                  TerminateOnNaN(),\n",
    "#                  model_checkpoint_callback,\n",
    "#                  EarlyStopping(monitor='val_r2_score_tf', patience=3, mode='max', verbose = 1)\n",
    "#                  ]\n",
    "\n",
    "#     for target, log_base in log_transforms.items():\n",
    "#         if log_base is not None and log_base != 'sqrt' and log_base != 'cbrt':\n",
    "#             y_train_transformed[target] = np.log(y_train[target]) / np.log(log_base)\n",
    "#             y_valid_transformed[target] = np.log(y_valid[target]) / np.log(log_base)\n",
    "\n",
    "#         elif log_base == 'sqrt':\n",
    "#             y_train_transformed[target] = np.sqrt(y_train[target])\n",
    "#             y_valid_transformed[target] = np.sqrt(y_valid[target])\n",
    "\n",
    "#         elif log_base == 'cbrt':\n",
    "#             y_train_transformed[target] = np.cbrt(y_train[target])\n",
    "#             y_valid_transformed[target] = np.cbrt(y_valid[target])\n",
    "\n",
    "#         else:\n",
    "#             y_train_transformed[target] = y_train[target]\n",
    "#             y_valid_transformed[target] = y_valid[target]\n",
    "    \n",
    "#     scaler_base_options = {'Std': StandardScaler(), 'None': None, 'minmax': MinMaxScaler(), 'Robust': RobustScaler(), 'Power': PowerTransformer(), 'Quantile': QuantileTransformer()}\n",
    "#     scaler_transforms = {}\n",
    "#     for target in mean_columns:\n",
    "#         scaler_base = trial.suggest_categorical(f'Scaler_{target}', list(scaler_base_options.keys()))\n",
    "#         scaler_transforms[target] = scaler_base_options[scaler_base]\n",
    "\n",
    "#     for target, scaler in scaler_transforms.items():\n",
    "#         if scaler is not None:\n",
    "#             y_train_transformed[target] = scaler.fit_transform(y_train_transformed[target].values.reshape(-1, 1)).flatten()\n",
    "#             y_valid_transformed[target] = scaler.transform(y_valid_transformed[target].values.reshape(-1, 1)).flatten()\n",
    "    \n",
    "    \n",
    "#     history = model.fit([X_train_feat, X_train_tab], y_train_transformed, validation_data=([X_valid_feat, X_valid_tab], y_valid_transformed), batch_size=256, epochs=50, callbacks=callbacks, verbose = 0)\n",
    "#     best_epoch = history.history['val_r2_score_tf'].index(max(history.history['val_r2_score_tf'])) + 1\n",
    "\n",
    "#     model.load_weights(f'./NN_search/{study_name}_search_model.h5')\n",
    "\n",
    "#     preds_transformed = model.predict([X_valid_feat, X_valid_tab], verbose = 0)        \n",
    "\n",
    "#     r2_score_inv = float('-inf')\n",
    "\n",
    "#     try:        \n",
    "#         for i, target in enumerate(mean_columns):\n",
    "#             scaler = scaler_transforms[target]\n",
    "#             if scaler is not None:\n",
    "#                 preds_transformed[:, i] = scaler.inverse_transform(preds_transformed[:, i].reshape(-1, 1)).flatten()                \n",
    "\n",
    "#         for i, target in enumerate(mean_columns):\n",
    "#             log_base = log_transforms[target]\n",
    "#             if log_base is not None and log_base != 'sqrt' and log_base != 'cbrt':\n",
    "#                 preds_transformed[:, i] = np.power(log_base, preds_transformed[:, i])                \n",
    "#             elif log_base == 'sqrt':   \n",
    "#                 preds_transformed[:, i] = np.square(preds_transformed[:, i])    \n",
    "#             elif log_base == 'cbrt':\n",
    "#                 preds_transformed[:, i] = np.power(preds_transformed[:, i], 3)\n",
    "\n",
    "#     except Exception as e:\n",
    "#         print(f'Error in inverse transformation: {e}')\n",
    "#         r2_score_inv = float('-inf')\n",
    "    \n",
    "#     if np.isnan(preds_transformed).any():\n",
    "#         r2_score_inv = float('-inf')                        \n",
    "\n",
    "#     if np.isinf(preds_transformed).any():\n",
    "#         r2_score_inv = float('-inf')\n",
    "\n",
    "#     if r2_score_inv != float('-inf'):\n",
    "#         r2_score_inv = r2_score_safe(y_valid, preds_transformed)\n",
    "\n",
    "#     if trial.number > 0:\n",
    "#         if r2_score_inv > study.best_value:\n",
    "\n",
    "#             print(\"*\" * 50)\n",
    "#             print(f'Old best R2 : {study.best_value:.5f}')\n",
    "#             print(f'New best R2 : {r2_score_inv:.5f}')\n",
    "\n",
    "#             r2 = r2_score_safe(y_valid, preds_transformed)\n",
    "#             mse  = mean_squared_error(y_valid, preds_transformed)\n",
    "#             mae = mean_absolute_error(y_valid, preds_transformed)\n",
    "            \n",
    "#             print(f'Best epoch all errors R2 : {r2:.5f}, MSE : {mse:.5f}, MAE : {mae:.5f}')\n",
    "#             print(f'Best epoch : {best_epoch}')\n",
    "\n",
    "#             best_filename = f'./NN_search/{study_name}_best_val_{r2_score_inv:.5f}_model.h5'\n",
    "#             if os.path.exists(best_filename):\n",
    "#                 os.remove(best_filename)\n",
    "\n",
    "#             print(f'Saving model to {best_filename}')\n",
    "#             model.save(best_filename)\n",
    "    \n",
    "#             best_log_transforms_name = f'./NN_search/{study_name}_{r2_score_inv:.5f}_best_log_transforms.pickle'\n",
    "#             print(f'Saving log transforms to {best_log_transforms_name}')\n",
    "#             with open(best_log_transforms_name, 'wb') as f:\n",
    "#                 pickle.dump(log_transforms, f, protocol=pickle.HIGHEST_PROTOCOL)\n",
    "\n",
    "#             scaler_transforms_name = f'./NN_search/{study_name}_{r2_score_inv:.5f}_best_scalers.pickle'\n",
    "#             print(f'Saving scalers to {scaler_transforms_name}')\n",
    "#             with open(scaler_transforms_name, 'wb') as f:\n",
    "#                 pickle.dump(scaler_transforms, f, protocol=pickle.HIGHEST_PROTOCOL)\n",
    "\n",
    "#         print(\"*\" * 50)\n",
    "        \n",
    "#     tf.keras.backend.clear_session()\n",
    "#     gc.collect()\n",
    "        \n",
    "    \n",
    "#     return r2_score_inv\n",
    "\n",
    "\n",
    "\n",
    "# num_random_trials = 10\n",
    "# num_tpe_trial = 3\n",
    "# search_time_max = 3600 * 18\n",
    "\n",
    "# study = optuna.create_study(direction='maximize',\n",
    "#                             study_name=study_name,\n",
    "#                             storage=f'sqlite:///412_bugipois.db',\n",
    "#                             load_if_exists=True,\n",
    "#                             pruner=optuna.pruners.MedianPruner(n_startup_trials=3, n_warmup_steps=2, interval_steps=2)\n",
    "#                             )\n",
    "\n",
    "# search_time_taken = 0\n",
    "# search_start = time.time()\n",
    "# round = 0\n",
    "# trials_done = 0\n",
    "\n",
    "# while search_time_taken < search_time_max:\n",
    "\n",
    "#     round_start = time.time()\n",
    "\n",
    "#     print('-' * 50)\n",
    "#     print(f'Starting study with {num_random_trials} random trials, round {round}')\n",
    "#     print(f'Search time so far taken : {timedelta(seconds=search_time_taken)}')\n",
    "#     print('-' * 50)\n",
    "#     study.sampler = optuna.samplers.QMCSampler(warn_independent_sampling = False)\n",
    "#     study.optimize(objective, n_trials=num_random_trials)\n",
    "#     print(f'Time taken for random trials: {timedelta(seconds= (time.time() - round_start))}')\n",
    "#     print(f'Starting TPE {num_tpe_trial} trials...')\n",
    "#     study.sampler = optuna.samplers.TPESampler(n_startup_trials=0, multivariate=True, warn_independent_sampling = False, n_ei_candidates=42)\n",
    "#     study.optimize(objective, n_trials=num_tpe_trial)\n",
    "#     print(f'Time taken for one trial this round: {timedelta(seconds= (time.time() - round_start) / (num_random_trials + num_tpe_trial))}')\n",
    "#     print(f'Time this round: {timedelta(seconds= time.time() - round_start)}')\n",
    "\n",
    "#     print('-' * 50)\n",
    "#     trials_done += num_random_trials + num_tpe_trial\n",
    "#     print(f'Trials done so far: {trials_done}')\n",
    "#     search_time_taken = time.time() - search_start\n",
    "#     print(f'Time taken for one trials all rounds: {timedelta(seconds= search_time_taken / trials_done)}')\n",
    "#     round += 1\n",
    "\n",
    "# print(f'Search time total : {timedelta(seconds=time.time() - search_start)}')\n",
    "\n",
    "\n",
    "\n",
    "        \n"
   ]
  },
  {
   "cell_type": "code",
   "execution_count": null,
   "metadata": {},
   "outputs": [],
   "source": [
    "\n"
   ]
  },
  {
   "cell_type": "code",
   "execution_count": null,
   "metadata": {},
   "outputs": [],
   "source": [
    "# optuna.visualization.plot_param_importances(study)"
   ]
  },
  {
   "cell_type": "code",
   "execution_count": null,
   "metadata": {},
   "outputs": [],
   "source": [
    "# optuna.visualization.plot_parallel_coordinate(study)"
   ]
  },
  {
   "cell_type": "code",
   "execution_count": null,
   "metadata": {},
   "outputs": [],
   "source": [
    "# optuna.visualization.plot_slice(study)\n"
   ]
  },
  {
   "cell_type": "code",
   "execution_count": null,
   "metadata": {},
   "outputs": [],
   "source": [
    "\n",
    "\n",
    "def r2_score_tf(y_true, y_pred):\n",
    "    ss_res = tf.reduce_sum(tf.square(y_true - y_pred), axis=0)\n",
    "    ss_tot = tf.reduce_sum(tf.square(y_true - tf.reduce_mean(y_true, axis=0)), axis=0)\n",
    "    r2 = 1 - ss_res/(ss_tot + tf.keras.backend.epsilon())\n",
    "    r2 = tf.where(tf.math.is_nan(r2), tf.zeros_like(r2), r2)  # Korvaa NaN-arvot nollilla\n",
    "    return tf.reduce_mean(tf.maximum(r2, 0.0))\n",
    "\n",
    "custom_objects = {\"r2_score_tf\": r2_score_tf}\n",
    "\n",
    "\n",
    "with open(f'./NN_search/scaler_tabufeatures_{study_name}_train.pickle', 'rb') as f:\n",
    "    scaler_tabular = pickle.load(f)\n",
    "\n",
    "\n",
    "print(f'Tabu features scaler: {scaler}')\n",
    "\n",
    "best_trial = study.best_value\n",
    "\n",
    "best_model_name = f'./NN_search/{study_name}_best_val_{best_trial:.5f}_model.h5'\n",
    "\n",
    "best_model = tf.keras.models.load_model(f'{best_model_name}', custom_objects=custom_objects)\n",
    "\n",
    "test_df_copy = test_df.copy()\n",
    "\n",
    "test_df_copy[FEATURE_COLS] = scaler_tabular.transform(test_df_copy[FEATURE_COLS].values)\n",
    "\n",
    "submission_df = test_df_copy[['id']].copy()\n",
    "\n",
    "X_test_tab = test_df_copy[FEATURE_COLS].values\n",
    "X_test_feat = np.stack(test_df_copy['features'].values) \n",
    "\n",
    "tf.keras.backend.clear_session()\n",
    "gc.collect()\n",
    "\n",
    "predictions = best_model.predict([X_test_feat, X_test_tab])\n",
    "\n",
    "best_log_transforms_name = f'./NN_search/{study_name}_{best_trial:.5f}_best_log_transforms.pickle'\n",
    "print(f'Opening log transforms from {best_log_transforms_name}')\n",
    "with open(best_log_transforms_name, 'rb') as f:\n",
    "    log_transforms = pickle.load(f)\n",
    "\n",
    "best_scalers_name = f'./NN_search/{study_name}_{best_trial:.5f}_best_scalers.pickle'\n",
    "print(f'Opening scalers from {best_scalers_name}')\n",
    "with open(best_scalers_name, 'rb') as f:\n",
    "    scaler_transforms = pickle.load(f)\n",
    "\n",
    "# for target, scaler in scaler_transforms.items():\n",
    "#     print(f'Target {target} scaler {scaler}')\n",
    "#     if scaler is not None:\n",
    "#         if isinstance(scaler, StandardScaler):\n",
    "#             print(\"  Mean:\", scaler.mean_)\n",
    "#             print(\"  Scale:\", scaler.scale_)\n",
    "#         elif isinstance(scaler, MinMaxScaler):\n",
    "#             print(\"  Data min:\", scaler.data_min_)\n",
    "#             print(\"  Data max:\", scaler.data_max_)\n",
    "#             print(\"  Data range:\", scaler.data_range_)\n",
    "        \n",
    "\n",
    "print(log_transforms)\n",
    "print(scaler_transforms)\n",
    "\n",
    "for i, target in enumerate(mean_columns):\n",
    "    print(f'Scaler transforming target : {target} with scaler : {scaler_transforms[target]}')\n",
    "    scaler = scaler_transforms[target]\n",
    "    if scaler is not None:\n",
    "        predictions[:, i] = scaler.inverse_transform(predictions[:, i].reshape(-1, 1)).flatten()\n",
    "\n",
    "\n",
    "for i, target in enumerate(mean_columns):\n",
    "    print(f'Logpot transforming target: : {target}, log transform : {log_transforms[target]}')\n",
    "    log_base = log_transforms[target]\n",
    "    if log_base is not None and log_base != 'sqrt' and log_base != 'cbrt':\n",
    "        predictions[:, i] = np.power(log_base, predictions[:, i])\n",
    "    elif log_base == 'sqrt':\n",
    "        predictions[:, i] = np.square(predictions[:, i])\n",
    "    elif log_base == 'cbrt':\n",
    "        predictions[:, i] = np.power(predictions[:, i], 3)\n",
    "\n",
    "\n",
    "\n"
   ]
  },
  {
   "cell_type": "code",
   "execution_count": null,
   "metadata": {},
   "outputs": [],
   "source": [
    "\n",
    "target_columns = ['X4', 'X11', 'X18', 'X50', 'X26', 'X3112']\n",
    "\n",
    "submission_df[target_columns] = predictions\n"
   ]
  },
  {
   "cell_type": "code",
   "execution_count": null,
   "metadata": {},
   "outputs": [],
   "source": [
    "results_training_name = './data/results_training.pickle'\n",
    "\n",
    "if os.path.exists(results_training_name):\n",
    "    results_training = pd.read_pickle(results_training_name)\n",
    "else:\n",
    "    columns = ['Train R2', 'Train MSE', 'Train MAE', 'Valid R2', 'Valid MSE', 'Valid MAE', 'Train preds Desc', 'Valid preds Desc', 'Test preds Desc' , 'Original data Desc' 'Kaggle R2', 'Scalers', 'Log/Pot transforms', 'NN Search space', 'Tabular scaler']\n",
    "    results_training = pd.DataFrame(columns = columns)\n",
    "    results_training.index.name = 'Study name'\n",
    "\n",
    "if study_name not in results_training.index:    \n",
    "    results_training.loc[study_name] = [None]*len(results_training.columns)\n",
    "\n",
    "\n",
    "test_preds_desc = submission_df[target_columns].describe().to_json()\n",
    "results_training.at[study_name, 'Test preds Desc'] = test_preds_desc \n",
    "\n",
    "original_data_desc = train_df_original[mean_columns].describe().to_json()\n",
    "results_training.at[study_name, 'Original data Desc'] = original_data_desc\n"
   ]
  },
  {
   "cell_type": "code",
   "execution_count": null,
   "metadata": {},
   "outputs": [],
   "source": [
    "print(f'{str(log_transforms.items())}')\n",
    "print(f'{str(scaler_transforms.items())}')\n",
    "print(f'{str(scaler_tabular)}')\n",
    "\n",
    "results_training.at[study_name, 'Scalers'] = f'{scaler_transforms}'\n",
    "results_training.at[study_name, 'Log/Pot transforms'] = f'{str(log_transforms.items())}'\n",
    "results_training.at[study_name, 'Tabular scaler'] = f'{scaler_tabular}'\n"
   ]
  },
  {
   "cell_type": "code",
   "execution_count": null,
   "metadata": {},
   "outputs": [],
   "source": [
    "## JÄRKEVYYSKOKEILU TESTATAAN train dataan\n",
    "\n",
    "import numpy as np\n",
    "import tensorflow as tf\n",
    "import optuna\n",
    "from keras import regularizers, layers, optimizers, initializers\n",
    "from keras.callbacks import EarlyStopping, ReduceLROnPlateau, TerminateOnNaN\n",
    "from datetime import timedelta\n",
    "import time\n",
    "import os\n",
    "from sklearn.preprocessing import StandardScaler, MinMaxScaler, PowerTransformer, QuantileTransformer, RobustScaler\n",
    "from sklearn.metrics import r2_score, mean_squared_error, mean_absolute_error\n",
    "\n",
    "## TEST DATA TEST\n",
    "\n",
    "tf.keras.backend.clear_session()\n",
    "gc.collect()\n",
    "\n",
    "train_pred = best_model.predict([X_train_feat, X_train_tab])\n",
    "\n",
    "for i, target in enumerate(mean_columns):\n",
    "    print(f'Scaler transforming target : {target} with scaler : {scaler_transforms[target]}')\n",
    "    scaler = scaler_transforms[target]\n",
    "    if scaler is not None:\n",
    "        train_pred[:, i] = scaler.inverse_transform(train_pred[:, i].reshape(-1, 1)).flatten()\n",
    "\n",
    "\n",
    "for i, target in enumerate(mean_columns):\n",
    "    print(f'Logpot transforming target : {target}, log transform : {log_transforms[target]}')\n",
    "    log_base = log_transforms[target]\n",
    "    if log_base is not None and log_base != 'sqrt' and log_base != 'cbrt':\n",
    "        train_pred[:, i] = np.power(log_base, train_pred[:, i])\n",
    "    elif log_base == 'sqrt':\n",
    "        train_pred[:, i] = np.square(train_pred[:, i])\n",
    "    elif log_base == 'cbrt':\n",
    "        train_pred[:, i] = np.power(train_pred[:, i], 3)\n",
    "\n",
    "R2_train = r2_score(y_train, train_pred)\n",
    "MSE_train = mean_squared_error(y_train, train_pred)\n",
    "MAE_train = mean_absolute_error(y_train, train_pred)\n",
    "\n",
    "print(f'Train scores:\\nR2 : {R2_train:.5f}, MSE : {MSE_train:.5f}, MAE : {MAE_train:.5f}')\n",
    "\n",
    "results_training.at[study_name, 'Train R2'] = R2_train\n",
    "results_training.at[study_name, 'Train MSE'] = MSE_train\n",
    "results_training.at[study_name, 'Train MAE'] = MAE_train\n",
    "\n",
    "trainining_preds_desc = pd.DataFrame(train_pred, columns = mean_columns).describe().to_json()\n",
    "results_training.at[study_name, 'Train preds Desc'] = trainining_preds_desc\n"
   ]
  },
  {
   "cell_type": "code",
   "execution_count": null,
   "metadata": {},
   "outputs": [],
   "source": [
    "\n",
    "## VALIDATION DATA TEST\n",
    "\n",
    "tf.keras.backend.clear_session()\n",
    "gc.collect()\n",
    "\n",
    "valid_pred = best_model.predict([X_valid_feat, X_valid_tab])\n",
    "\n",
    "for i, target in enumerate(mean_columns):\n",
    "    print(f'Scaler transforming target : {target} with scaler : {scaler_transforms[target]}')\n",
    "    scaler = scaler_transforms[target]\n",
    "    if scaler is not None:\n",
    "        valid_pred[:, i] = scaler.inverse_transform(valid_pred[:, i].reshape(-1, 1)).flatten()\n",
    "\n",
    "\n",
    "for i, target in enumerate(mean_columns):\n",
    "    log_base = log_transforms[target]\n",
    "    if log_base is not None and log_base != 'sqrt' and log_base != 'cbrt':\n",
    "        valid_pred[:, i] = np.power(log_base, valid_pred[:, i])\n",
    "    elif log_base == 'sqrt':\n",
    "        valid_pred[:, i] = np.square(valid_pred[:, i])\n",
    "    elif log_base == 'cbrt':\n",
    "        valid_pred[:, i] = np.power(valid_pred[:, i], 3)\n",
    "\n",
    "R2_valid = r2_score(y_valid, valid_pred)\n",
    "MSE_valid = mean_squared_error(y_valid, valid_pred)\n",
    "MAE_valid = mean_absolute_error(y_valid, valid_pred)\n",
    "\n",
    "print(f'Valid scores:\\nR2 : {R2_valid:.5f}, MSE : {MSE_valid:.5f}, MAE : {MAE_valid:.5f}')\n",
    "\n",
    "results_training.at[study_name, 'Valid R2'] = R2_valid\n",
    "results_training.at[study_name, 'Valid MSE'] = MSE_valid\n",
    "results_training.at[study_name, 'Valid MAE'] = MAE_valid\n",
    "\n",
    "valid_preds_desc = pd.DataFrame(valid_pred, columns = mean_columns).describe().to_json()\n",
    "results_training.at[study_name, 'Valid preds Desc'] = valid_preds_desc"
   ]
  },
  {
   "cell_type": "code",
   "execution_count": null,
   "metadata": {},
   "outputs": [],
   "source": [
    "\n",
    "display(results_training.head(100))\n",
    "logpot = results_training['Log/Pot transforms'].to_list()[0]\n"
   ]
  },
  {
   "cell_type": "code",
   "execution_count": null,
   "metadata": {},
   "outputs": [],
   "source": [
    "submission_df.head()"
   ]
  },
  {
   "cell_type": "code",
   "execution_count": null,
   "metadata": {},
   "outputs": [],
   "source": [
    "print(submission_df.info())\n",
    "\n",
    "submission_df.to_csv('./data/submission.csv', index=False)"
   ]
  },
  {
   "cell_type": "code",
   "execution_count": null,
   "metadata": {},
   "outputs": [],
   "source": [
    "# Kaggle = 0.0 \n",
    "# results_training.at[study_name, 'Kaggle R2'] = Kaggle\n",
    "\n",
    "results_training.drop('412_bugikaipoistestiviela_scalers_3', inplace=True)\n",
    "\n",
    "for index, row in results_training.iterrows():\n",
    "    print(f\"Study Name: {index}\")\n",
    "    print(f'Kaggle R2: {row[\"Kaggle R2\"]}')\n",
    "    print(f\"Train R2: {row['Train R2']}, Valid R2: {row['Valid R2']}\")\n",
    "    print(\"-\" * 50)\n",
    "    print(\"Train preds Description:\")\n",
    "    display(pd.read_json(row['Train preds Desc']))\n",
    "    print(\"Valid preds Description:\")\n",
    "    display(pd.read_json(row['Valid preds Desc']))\n",
    "    print(\"Test preds Description:\")\n",
    "    display(pd.read_json(row['Test preds Desc']))\n",
    "    print(\"Original data Description:\")\n",
    "    display(pd.read_json(row['Original data Desc']))\n",
    "    "
   ]
  },
  {
   "cell_type": "code",
   "execution_count": null,
   "metadata": {},
   "outputs": [],
   "source": [
    "with open(results_training_name, 'wb') as f:\n",
    "    results_training.to_pickle(f)"
   ]
  }
 ],
 "metadata": {
  "kernelspec": {
   "display_name": "tf",
   "language": "python",
   "name": "python3"
  },
  "language_info": {
   "codemirror_mode": {
    "name": "ipython",
    "version": 3
   },
   "file_extension": ".py",
   "mimetype": "text/x-python",
   "name": "python",
   "nbconvert_exporter": "python",
   "pygments_lexer": "ipython3",
   "version": "3.9.19"
  }
 },
 "nbformat": 4,
 "nbformat_minor": 2
}
