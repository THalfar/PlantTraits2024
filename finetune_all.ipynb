{
 "cells": [
  {
   "cell_type": "code",
   "execution_count": 45,
   "metadata": {},
   "outputs": [
    {
     "name": "stdout",
     "output_type": "stream",
     "text": [
      "Current GPU allocator: cuda_malloc_async\n",
      "Setting memory growth for PhysicalDevice(name='/physical_device:GPU:0', device_type='GPU')\n"
     ]
    }
   ],
   "source": [
    "import pandas as pd \n",
    "import matplotlib.pyplot as plt\n",
    "import os \n",
    "import seaborn as sns\n",
    "from sklearn.model_selection import train_test_split\n",
    "import pickle\n",
    "import tensorflow as tf\n",
    "import numpy as np\n",
    "import pandas as pd \n",
    "import matplotlib.pyplot as plt\n",
    "from sklearn.model_selection import train_test_split\n",
    "from sklearn.preprocessing import StandardScaler, MinMaxScaler,  RobustScaler\n",
    "import pickle\n",
    "from tensorflow.keras.layers import Input, Dense, Concatenate, Dropout\n",
    "from keras import regularizers, layers, optimizers, initializers\n",
    "from tensorflow.keras.callbacks import TensorBoard\n",
    "from sklearn.metrics import mean_squared_error, mean_absolute_error, r2_score, mean_absolute_percentage_error\n",
    "\n",
    "from tensorflow.keras.applications import EfficientNetV2M\n",
    "import numpy as np\n",
    "import gc\n",
    "import tensorflow_addons as tfa\n",
    "from tensorflow.keras.utils import to_categorical\n",
    "from tensorflow.keras.applications.efficientnet import preprocess_input\n",
    "from tensorflow.keras.preprocessing.image import load_img, img_to_array\n",
    "from tensorflow.keras.applications import EfficientNetB0\n",
    "from tensorflow.keras.layers import Dense, Input, Concatenate, Dropout\n",
    "from tensorflow.keras.models import Model\n",
    "from tensorflow.keras.optimizers import Adam\n",
    "\n",
    "os.environ['TF_GPU_ALLOCATOR'] = 'cuda_malloc_async'\n",
    "print(f'Current GPU allocator: {os.getenv(\"TF_GPU_ALLOCATOR\")}')\n",
    "\n",
    "gpus = tf.config.experimental.list_physical_devices('GPU')\n",
    "if gpus:\n",
    "    try:\n",
    "        for gpu in gpus:\n",
    "            print(f'Setting memory growth for {gpu}')\n",
    "            tf.config.experimental.set_memory_growth(gpu, True)\n",
    "    except RuntimeError as e:\n",
    "        print(e)\n",
    "\n",
    "    "
   ]
  },
  {
   "cell_type": "code",
   "execution_count": 46,
   "metadata": {},
   "outputs": [],
   "source": [
    "study_name = '420_stdminmaxpower_allfeatures_3'"
   ]
  },
  {
   "cell_type": "code",
   "execution_count": 47,
   "metadata": {},
   "outputs": [],
   "source": [
    "\n",
    "mean_columns = ['X4_mean', 'X11_mean', 'X18_mean', 'X50_mean', 'X26_mean', 'X3112_mean']"
   ]
  },
  {
   "cell_type": "code",
   "execution_count": 48,
   "metadata": {},
   "outputs": [],
   "source": [
    "train_df = pd.read_csv('./data/train.csv')\n",
    "test_df = pd.read_csv('./data/test.csv')"
   ]
  },
  {
   "cell_type": "code",
   "execution_count": 5,
   "metadata": {},
   "outputs": [],
   "source": [
    "# # FOR TESTING IMAGE AUGEMENTATION\n",
    "# train_df = train_df.sample(1000)\n",
    "# test_df = test_df.sample(1000)"
   ]
  },
  {
   "cell_type": "code",
   "execution_count": 49,
   "metadata": {},
   "outputs": [],
   "source": [
    "feat = test_df.copy()\n",
    "FEATURE_COLS = feat.columns[1:].tolist()"
   ]
  },
  {
   "cell_type": "code",
   "execution_count": 50,
   "metadata": {},
   "outputs": [],
   "source": [
    "sd_columns = [col for col in train_df.columns if col.endswith('_sd')]\n",
    "train_df.drop(columns=sd_columns, inplace=True)"
   ]
  },
  {
   "cell_type": "code",
   "execution_count": 51,
   "metadata": {},
   "outputs": [],
   "source": [
    "train_images_path = './data/train_images/'\n",
    "test_images_path = './data/test_images/'    \n",
    "\n",
    "train_df['image_path'] = train_df['id'].apply(lambda x: os.path.join(train_images_path, f'{x}.jpeg'))\n",
    "test_df['image_path'] = test_df['id'].apply(lambda x: os.path.join(test_images_path, f'{x}.jpeg'))"
   ]
  },
  {
   "cell_type": "code",
   "execution_count": 52,
   "metadata": {},
   "outputs": [],
   "source": [
    "for column in mean_columns:\n",
    "    lower_quantile = train_df[column].quantile(0.005)\n",
    "    upper_quantile = train_df[column].quantile(0.985)  \n",
    "    train_df = train_df[(train_df[column] >= lower_quantile) & (train_df[column] <= upper_quantile)]"
   ]
  },
  {
   "cell_type": "code",
   "execution_count": 53,
   "metadata": {},
   "outputs": [
    {
     "name": "stderr",
     "output_type": "stream",
     "text": [
      "/home/tobias/miniconda3/envs/tf/lib/python3.9/site-packages/sklearn/model_selection/_split.py:725: UserWarning: The least populated class in y has only 1 members, which is less than n_splits=5.\n",
      "  warnings.warn(\n"
     ]
    }
   ],
   "source": [
    "from sklearn.model_selection import StratifiedKFold\n",
    "\n",
    "skf = StratifiedKFold(n_splits=5, shuffle=True, random_state=42)\n",
    "\n",
    "for i, trait in enumerate(mean_columns):\n",
    "\n",
    "    # Determine the bin edges dynamically based on the distribution of traits\n",
    "    bin_edges = np.percentile(train_df[trait], np.linspace(0, 100, 5 + 1))\n",
    "    train_df[f\"bin_{i}\"] = np.digitize(train_df[trait], bin_edges)\n",
    "\n",
    "# Concatenate the bins into a final bin\n",
    "train_df[\"final_bin\"] = (\n",
    "    train_df[[f\"bin_{i}\" for i in range(len(mean_columns))]]\n",
    "    .astype(str)\n",
    "    .agg(\"\".join, axis=1)\n",
    ")\n",
    "\n",
    "# Perform the stratified split using final bin\n",
    "train_df = train_df.reset_index(drop=True)\n",
    "for fold, (train_idx, valid_idx) in enumerate(skf.split(train_df, train_df[\"final_bin\"])):\n",
    "    train_df.loc[valid_idx, \"fold\"] = fold"
   ]
  },
  {
   "cell_type": "code",
   "execution_count": 54,
   "metadata": {},
   "outputs": [
    {
     "name": "stdout",
     "output_type": "stream",
     "text": [
      "# Num Train: 39335 | Num Valid: 9833\n"
     ]
    },
    {
     "name": "stderr",
     "output_type": "stream",
     "text": [
      "/tmp/ipykernel_1710502/1274913921.py:11: SettingWithCopyWarning: \n",
      "A value is trying to be set on a copy of a slice from a DataFrame.\n",
      "Try using .loc[row_indexer,col_indexer] = value instead\n",
      "\n",
      "See the caveats in the documentation: https://pandas.pydata.org/pandas-docs/stable/user_guide/indexing.html#returning-a-view-versus-a-copy\n",
      "  train_df[FEATURE_COLS] = scaler_feat.fit_transform(train_df[FEATURE_COLS].values)\n",
      "/tmp/ipykernel_1710502/1274913921.py:12: SettingWithCopyWarning: \n",
      "A value is trying to be set on a copy of a slice from a DataFrame.\n",
      "Try using .loc[row_indexer,col_indexer] = value instead\n",
      "\n",
      "See the caveats in the documentation: https://pandas.pydata.org/pandas-docs/stable/user_guide/indexing.html#returning-a-view-versus-a-copy\n",
      "  valid_df[FEATURE_COLS] = scaler_feat.transform(valid_df[FEATURE_COLS].values)\n"
     ]
    }
   ],
   "source": [
    "scaler_feat = RobustScaler()\n",
    "\n",
    "train_original = train_df.copy()\n",
    "train_plot = train_df.copy()\n",
    "sample_df = train_df.copy()\n",
    "train_df = sample_df[sample_df.fold != 3]\n",
    "valid_df = sample_df[sample_df.fold == 3]\n",
    "print(f\"# Num Train: {len(train_df)} | Num Valid: {len(valid_df)}\")\n",
    "\n",
    "\n",
    "train_df[FEATURE_COLS] = scaler_feat.fit_transform(train_df[FEATURE_COLS].values)\n",
    "valid_df[FEATURE_COLS] = scaler_feat.transform(valid_df[FEATURE_COLS].values)"
   ]
  },
  {
   "cell_type": "code",
   "execution_count": 12,
   "metadata": {},
   "outputs": [
    {
     "name": "stdout",
     "output_type": "stream",
     "text": [
      "Best R2-score: 0.29448\n",
      "Best model: ./NN_search/420_stdminmaxpower_allfeatures_3_best_val_0.29448_model.h5\n",
      "Opening log transforms from ./NN_search/420_stdminmaxpower_allfeatures_3_0.29448_best_log_transforms.pickle\n",
      "Opening scalers from ./NN_search/420_stdminmaxpower_allfeatures_3_0.29448_best_scalers.pickle\n"
     ]
    },
    {
     "name": "stderr",
     "output_type": "stream",
     "text": [
      "2024-04-22 17:37:47.505812: I tensorflow/compiler/xla/stream_executor/cuda/cuda_gpu_executor.cc:982] could not open file to read NUMA node: /sys/bus/pci/devices/0000:07:00.0/numa_node\n",
      "Your kernel may have been built without NUMA support.\n",
      "2024-04-22 17:37:47.505919: I tensorflow/compiler/xla/stream_executor/cuda/cuda_gpu_executor.cc:982] could not open file to read NUMA node: /sys/bus/pci/devices/0000:07:00.0/numa_node\n",
      "Your kernel may have been built without NUMA support.\n",
      "2024-04-22 17:37:47.505968: I tensorflow/compiler/xla/stream_executor/cuda/cuda_gpu_executor.cc:982] could not open file to read NUMA node: /sys/bus/pci/devices/0000:07:00.0/numa_node\n",
      "Your kernel may have been built without NUMA support.\n",
      "2024-04-22 17:37:47.621736: I tensorflow/compiler/xla/stream_executor/cuda/cuda_gpu_executor.cc:982] could not open file to read NUMA node: /sys/bus/pci/devices/0000:07:00.0/numa_node\n",
      "Your kernel may have been built without NUMA support.\n",
      "2024-04-22 17:37:47.621812: I tensorflow/compiler/xla/stream_executor/cuda/cuda_gpu_executor.cc:982] could not open file to read NUMA node: /sys/bus/pci/devices/0000:07:00.0/numa_node\n",
      "Your kernel may have been built without NUMA support.\n",
      "2024-04-22 17:37:47.621820: I tensorflow/core/common_runtime/gpu/gpu_device.cc:1722] Could not identify NUMA node of platform GPU id 0, defaulting to 0.  Your kernel may not have been built with NUMA support.\n",
      "2024-04-22 17:37:47.621867: I tensorflow/compiler/xla/stream_executor/cuda/cuda_gpu_executor.cc:982] could not open file to read NUMA node: /sys/bus/pci/devices/0000:07:00.0/numa_node\n",
      "Your kernel may have been built without NUMA support.\n",
      "2024-04-22 17:37:47.621881: I tensorflow/core/common_runtime/gpu/gpu_process_state.cc:226] Using CUDA malloc Async allocator for GPU: 0\n",
      "2024-04-22 17:37:47.622029: I tensorflow/core/common_runtime/gpu/gpu_device.cc:1635] Created device /job:localhost/replica:0/task:0/device:GPU:0 with 7537 MB memory:  -> device: 0, name: NVIDIA GeForce RTX 3080, pci bus id: 0000:07:00.0, compute capability: 8.6\n"
     ]
    },
    {
     "name": "stdout",
     "output_type": "stream",
     "text": [
      "Model: \"model\"\n",
      "__________________________________________________________________________________________________\n",
      " Layer (type)                   Output Shape         Param #     Connected to                     \n",
      "==================================================================================================\n",
      " image_features_input (InputLay  [(None, 2560)]      0           []                               \n",
      " er)                                                                                              \n",
      "                                                                                                  \n",
      " dense (Dense)                  (None, 710)          1818310     ['image_features_input[0][0]']   \n",
      "                                                                                                  \n",
      " dropout (Dropout)              (None, 710)          0           ['dense[0][0]']                  \n",
      "                                                                                                  \n",
      " dense_1 (Dense)                (None, 533)          378963      ['dropout[0][0]']                \n",
      "                                                                                                  \n",
      " tabular_data_input (InputLayer  [(None, 163)]       0           []                               \n",
      " )                                                                                                \n",
      "                                                                                                  \n",
      " dropout_1 (Dropout)            (None, 533)          0           ['dense_1[0][0]']                \n",
      "                                                                                                  \n",
      " dense_2 (Dense)                (None, 1033)         169412      ['tabular_data_input[0][0]']     \n",
      "                                                                                                  \n",
      " batch_normalization (BatchNorm  (None, 533)         2132        ['dropout_1[0][0]']              \n",
      " alization)                                                                                       \n",
      "                                                                                                  \n",
      " dropout_2 (Dropout)            (None, 1033)         0           ['dense_2[0][0]']                \n",
      "                                                                                                  \n",
      " concatenate (Concatenate)      (None, 1566)         0           ['batch_normalization[0][0]',    \n",
      "                                                                  'dropout_2[0][0]']              \n",
      "                                                                                                  \n",
      " dense_3 (Dense)                (None, 1799)         2819033     ['concatenate[0][0]']            \n",
      "                                                                                                  \n",
      " dropout_3 (Dropout)            (None, 1799)         0           ['dense_3[0][0]']                \n",
      "                                                                                                  \n",
      " dense_4 (Dense)                (None, 672)          1209600     ['dropout_3[0][0]']              \n",
      "                                                                                                  \n",
      " dropout_4 (Dropout)            (None, 672)          0           ['dense_4[0][0]']                \n",
      "                                                                                                  \n",
      " dense_5 (Dense)                (None, 6)            4038        ['dropout_4[0][0]']              \n",
      "                                                                                                  \n",
      "==================================================================================================\n",
      "Total params: 6,401,488\n",
      "Trainable params: 6,400,422\n",
      "Non-trainable params: 1,066\n",
      "__________________________________________________________________________________________________\n"
     ]
    }
   ],
   "source": [
    "import glob\n",
    "\n",
    "\n",
    "\n",
    "directory_path = './NN_search'\n",
    "pattern = f\"{directory_path}/{study_name}*.h5\"\n",
    "\n",
    "files = glob.glob(pattern)\n",
    "\n",
    "max_r2_score = float('-inf')\n",
    "best_model = None\n",
    "\n",
    "# Käy läpi jokainen tiedosto ja etsi suurin r2_score_inv\n",
    "for file in files:\n",
    "    value = float(file.split('best_val')[1].split('_')[1])\n",
    "    if value > max_r2_score:\n",
    "        max_r2_score = value\n",
    "        best_model = file\n",
    "\n",
    "\n",
    "# Tulosta suurin löydetty r2_score_inv ja vastaava tiedosto\n",
    "print(f\"Best R2-score: {max_r2_score:.5f}\")\n",
    "if best_model:\n",
    "    print(f\"Best model: {best_model}\")\n",
    "else:\n",
    "    print(\"No best model found\")\n",
    "\n",
    "best_log_transforms_name =  f'./NN_search/{study_name}_{max_r2_score:.5f}_best_log_transforms.pickle'\n",
    "best_scalers_name = f'./NN_search/{study_name}_{max_r2_score:.5f}_best_scalers.pickle'\n",
    "\n",
    "print(f'Opening log transforms from {best_log_transforms_name}')\n",
    "with open(best_log_transforms_name, 'rb') as f:\n",
    "    log_transforms = pickle.load(f)\n",
    "\n",
    "print(f'Opening scalers from {best_scalers_name}')\n",
    "with open(best_scalers_name, 'rb') as f:\n",
    "    scaler_transforms = pickle.load(f)\n",
    "\n",
    "\n",
    "def r2_score_tf(y_true, y_pred):\n",
    "\n",
    "    try: \n",
    "        ss_res = tf.reduce_sum(tf.square(y_true - y_pred), axis=0)\n",
    "        ss_tot = tf.reduce_sum(tf.square(y_true - tf.reduce_mean(y_true, axis=0)), axis=0)\n",
    "        r2 = 1 - ss_res/(ss_tot + tf.keras.backend.epsilon())\n",
    "        r2 = tf.where(tf.math.is_nan(r2), tf.zeros_like(r2), r2) \n",
    "        return tf.reduce_mean(tf.maximum(r2, 0.0))\n",
    "    except Exception as e:\n",
    "        # print(f'Error in r2_score_tf: {e}')\n",
    "        return float('-inf')\n",
    "    \n",
    "custom_objects = {\"r2_score_tf\": r2_score_tf}\n",
    "\n",
    "nas_model  = tf.keras.models.load_model(best_model, custom_objects=custom_objects)\n",
    "\n",
    "nas_model.summary()\n",
    "        "
   ]
  },
  {
   "cell_type": "code",
   "execution_count": 13,
   "metadata": {},
   "outputs": [
    {
     "name": "stdout",
     "output_type": "stream",
     "text": [
      "Total parameters nas: 6,401,488\n",
      "Trainable parameters nas: 6,400,422\n",
      "Non-trainable parameters nas: 1,066\n"
     ]
    }
   ],
   "source": [
    "\n",
    "trainable_count_nas = sum([tf.size(v).numpy() for v in nas_model.trainable_weights])\n",
    "non_trainable_count_nas = sum([tf.size(v).numpy() for v in nas_model.non_trainable_weights])\n",
    "print(f\"Total parameters nas: {trainable_count_nas + non_trainable_count_nas:,}\")\n",
    "print(f\"Trainable parameters nas: {trainable_count_nas:,}\")\n",
    "print(f\"Non-trainable parameters nas: {non_trainable_count_nas:,}\")"
   ]
  },
  {
   "cell_type": "code",
   "execution_count": 14,
   "metadata": {},
   "outputs": [
    {
     "name": "stdout",
     "output_type": "stream",
     "text": [
      "Scaler are: {'X4_mean': None, 'X11_mean': PowerTransformer(), 'X18_mean': None, 'X50_mean': None, 'X26_mean': StandardScaler(), 'X3112_mean': MinMaxScaler()}\n",
      "Log transforms are: {'X4_mean': None, 'X11_mean': 2, 'X18_mean': 'sqrt', 'X50_mean': 20, 'X26_mean': 10, 'X3112_mean': 'cbrt'}\n"
     ]
    }
   ],
   "source": [
    "print(f'Scaler are: {scaler_transforms}')\n",
    "print(f'Log transforms are: {log_transforms}')"
   ]
  },
  {
   "cell_type": "code",
   "execution_count": 68,
   "metadata": {},
   "outputs": [],
   "source": [
    "def augment_image(img):\n",
    "\n",
    "    img = img / 255.0\n",
    "    \n",
    "    img = tf.image.random_flip_left_right(img)\n",
    "    \n",
    "    img = tf.image.rot90(img, k=tf.random.uniform(shape=[], minval=0, maxval=4, dtype=tf.int32))\n",
    "\n",
    "    img = tf.image.random_brightness(img, max_delta=0.1)\n",
    "    img = tf.image.random_hue(img, max_delta=0.1)\n",
    "    img = tf.image.random_saturation(img, lower=0.9, upper=1.1)\n",
    "    img = tf.image.random_contrast(img, lower=0.9, upper=1.1)\n",
    "\n",
    "    img = tf.image.random_jpeg_quality(img, min_jpeg_quality=85, max_jpeg_quality=100)\n",
    "\n",
    "    # angle = tf.random.uniform([], minval=-np.pi/8, maxval=np.pi/8, dtype=tf.float32)\n",
    "    # img = tfa.image.rotate(img, angles=angle)\n",
    "\n",
    "    crop_size = tf.random.uniform(shape=[], minval=420, maxval=480, dtype=tf.int32)\n",
    "    img = tf.image.random_crop(img, size=[crop_size, crop_size, 3])\n",
    "    img = tf.image.resize(img, [480, 480]) \n",
    "\n",
    "    if tf.random.uniform([]) < 0.5:\n",
    "        theta = tf.random.uniform([], minval=-0.1, maxval=0.1)\n",
    "        tx = tf.random.uniform([], minval=-20, maxval=20)\n",
    "        ty = tf.random.uniform([], minval=-20, maxval=20)\n",
    "        # Adding a small rotation component\n",
    "        cos_theta = tf.cos(theta)\n",
    "        sin_theta = tf.sin(theta)\n",
    "        transformation_matrix = [cos_theta, -sin_theta, tx,\n",
    "                                 sin_theta, cos_theta, ty,\n",
    "                                 0, 0]\n",
    "        img = tfa.image.transform(img, transformation_matrix, interpolation=\"BILINEAR\")\n",
    "\n",
    "    # img = tfa.image.random_cutout(img[None, ...], mask_size=(50, 50), constant_values=0)\n",
    "    # img = tf.squeeze(img, axis=0)\n",
    "\n",
    "    # if tf.random.uniform([]) < 0.5:\n",
    "        \n",
    "    #     img = tfa.image.random_cutout(img[None, ...], mask_size=(50, 50), constant_values=0)\n",
    "    #     img = tf.squeeze(img, axis=0)\n",
    "\n",
    "    # if tf.random.uniform([]) < 0.2:\n",
    "\n",
    "    #     img = tfa.image.random_cutout(img[None, ...], mask_size=(100, 100), constant_values=0)\n",
    "    #     img = tf.squeeze(img, axis=0)\n",
    "\n",
    "    # img = tf.image.resize(img, [480, 480]) \n",
    "    \n",
    "    img = img * 255.0\n",
    "\n",
    "    return img\n",
    "\n",
    "\n",
    "def process_image(file_path):\n",
    "    img = tf.io.read_file(file_path)\n",
    "    img = tf.image.decode_jpeg(img, channels=3)\n",
    "    img = tf.image.resize(img, (480, 480))\n",
    "    img = augment_image(img)  \n",
    "    # img = tf.cast(img, tf.uint8)    \n",
    "\n",
    "    # tf.print(\"Final min and max in process_images:\", tf.reduce_min(img), tf.reduce_max(img))\n",
    "    # tf.print(\"Image type: \", img.dtype)\n",
    "\n",
    "    return img\n",
    "\n",
    "def process_image_valid(file_path):\n",
    "    img = tf.io.read_file(file_path)\n",
    "    img = tf.image.decode_jpeg(img, channels=3)\n",
    "    img = tf.image.resize(img, (480, 480))\n",
    "    # tf.print(\"Final min and max in process_image_valid:\", tf.reduce_min(img), tf.reduce_max(img))\n",
    "    # img = tf.cast(img, tf.uint8)\n",
    "    return img\n",
    "\n",
    "\n",
    "\n",
    "# Define your dataset processing function\n",
    "def process_path_train(file_path, tabular_data, targets):\n",
    "    img = process_image(file_path)\n",
    "    return (img, img, tabular_data), targets\n",
    "\n",
    "\n",
    "def process_path_valid(file_path, tabular_data ,targets):\n",
    "    img = process_image_valid(file_path)\n",
    "    return (img, img, tabular_data), targets\n",
    "\n",
    "def process_path_test(file_path):\n",
    "    img = process_image_valid(file_path)\n",
    "    return img\n"
   ]
  },
  {
   "cell_type": "code",
   "execution_count": 16,
   "metadata": {},
   "outputs": [],
   "source": [
    "y_train = train_df[mean_columns]\n",
    "y_valid = valid_df[mean_columns]\n",
    "\n",
    "\n",
    "y_train_transformed = y_train.copy()\n",
    "y_valid_transformed = y_valid.copy()\n",
    "\n",
    "\n",
    "for target, log_base in log_transforms.items():\n",
    "    if log_base is not None and log_base != 'sqrt' and log_base != 'cbrt':\n",
    "        y_train_transformed[target] = np.log(y_train[target]) / np.log(log_base)\n",
    "        y_valid_transformed[target] = np.log(y_valid[target]) / np.log(log_base)\n",
    "\n",
    "    elif log_base == 'sqrt':\n",
    "        y_train_transformed[target] = np.sqrt(y_train[target])\n",
    "        y_valid_transformed[target] = np.sqrt(y_valid[target])\n",
    "\n",
    "    elif log_base == 'cbrt':\n",
    "        y_train_transformed[target] = np.cbrt(y_train[target])\n",
    "        y_valid_transformed[target] = np.cbrt(y_valid[target])\n",
    "\n",
    "    else:\n",
    "        y_train_transformed[target] = y_train[target]\n",
    "        y_valid_transformed[target] = y_valid[target]    \n",
    "\n",
    "for target, scaler in scaler_transforms.items():\n",
    "    if scaler is not None:\n",
    "        y_train_transformed[target] = scaler.transform(y_train_transformed[target].values.reshape(-1, 1)).flatten()\n",
    "        y_valid_transformed[target] = scaler.transform(y_valid_transformed[target].values.reshape(-1, 1)).flatten()\n"
   ]
  },
  {
   "cell_type": "code",
   "execution_count": 17,
   "metadata": {},
   "outputs": [
    {
     "name": "stdout",
     "output_type": "stream",
     "text": [
      "LR schedule steps: 6150\n"
     ]
    }
   ],
   "source": [
    "BUFFER_SIZE = 50000 \n",
    "EPOCHS = 5\n",
    "BATCH_SIZE = 32\n",
    "\n",
    "train_tabular = train_df[FEATURE_COLS].values\n",
    "valid_tabular = valid_df[FEATURE_COLS].values\n",
    "\n",
    "train_images_path = train_df['image_path'].values\n",
    "valid_images_path = valid_df['image_path'].values\n",
    "\n",
    "train_dataset = tf.data.Dataset.from_tensor_slices((train_images_path, train_tabular ,y_train_transformed.values))\n",
    "train_dataset = train_dataset.shuffle(BUFFER_SIZE)\n",
    "\n",
    "valid_dataset = tf.data.Dataset.from_tensor_slices((valid_images_path, valid_tabular, y_valid_transformed.values))\n",
    "\n",
    "train_dataset = train_dataset.map(process_path_train, num_parallel_calls=tf.data.experimental.AUTOTUNE)\n",
    "valid_dataset = valid_dataset.map(process_path_valid, num_parallel_calls=tf.data.experimental.AUTOTUNE)\n",
    "\n",
    "train_dataset = train_dataset.batch(BATCH_SIZE).prefetch(buffer_size=tf.data.experimental.AUTOTUNE)\n",
    "valid_dataset = valid_dataset.batch(BATCH_SIZE).prefetch(buffer_size=tf.data.experimental.AUTOTUNE)\n",
    "\n",
    "len_train = len(train_dataset) * EPOCHS\n",
    "\n",
    "print(f'LR schedule steps: {len_train}')\n",
    "\n",
    "\n"
   ]
  },
  {
   "cell_type": "code",
   "execution_count": 18,
   "metadata": {},
   "outputs": [],
   "source": [
    "#####  KAKSIHAARAINEN AVG MAX IMAGELLA #####\n",
    "\n",
    "\n",
    "\n",
    "tf.keras.backend.clear_session()\n",
    "gc.collect()\n",
    "\n",
    "\n",
    "def r2_score_tf(y_true, y_pred):\n",
    "\n",
    "    try: \n",
    "        ss_res = tf.reduce_sum(tf.square(y_true - y_pred), axis=0)\n",
    "        ss_tot = tf.reduce_sum(tf.square(y_true - tf.reduce_mean(y_true, axis=0)), axis=0)\n",
    "        r2 = 1 - ss_res/(ss_tot + tf.keras.backend.epsilon())\n",
    "        r2 = tf.where(tf.math.is_nan(r2), tf.zeros_like(r2), r2) \n",
    "        return tf.reduce_mean(tf.maximum(r2, 0.0))\n",
    "    except Exception as e:\n",
    "        # print(f'Error in r2_score_tf: {e}')\n",
    "        return float('-inf')\n",
    "\n",
    "\n",
    "# Asetetaan syötteet\n",
    "image_input_avg = Input(shape=(480, 480, 3), name='image_input_avg')\n",
    "image_input_max = Input(shape=(480, 480, 3), name='image_input_max')\n",
    "tabular_input = Input(shape=(train_tabular.shape[1],), name='tabular_input')\n",
    "\n",
    "# Luo perus EfficientNetV2M mallit\n",
    "eff_avg_base = EfficientNetV2M(weights='imagenet', include_top=False, pooling='avg', input_tensor=image_input_avg)\n",
    "eff_max_base = EfficientNetV2M(weights='imagenet', include_top=False, pooling='max', input_tensor=image_input_max)\n",
    "\n",
    "\n",
    "# # Kloonaa ja nimeä uudelleen mallit\n",
    "def clone_and_rename(model, prefix):\n",
    "    # Kloonaa malli ja nimeä kaikki kerrokset uudelleen\n",
    "    for layer in model.layers:\n",
    "        layer._name = prefix + '_' + layer.name\n",
    "    return model\n",
    "\n",
    "eff_avg_cloned = clone_and_rename(eff_avg_base, 'eff_avg')\n",
    "eff_max_cloned = clone_and_rename(eff_max_base, 'eff_max')\n",
    "\n",
    "\n",
    "eff_avg_cloned.trainable = True\n",
    "for layer in eff_avg_cloned.layers[:-42]:\n",
    "    layer.trainable = False\n",
    "eff_max_cloned.trainable = True\n",
    "for layer in eff_max_cloned.layers[:-42]:\n",
    "    layer.trainable = False\n",
    "\n",
    "\n",
    "\n",
    "img_concatenated = Concatenate()([eff_avg_cloned.output, eff_max_cloned.output])\n",
    "\n",
    "# Luo Model-instanssit uudelleen kloonatuille malleille\n",
    "# model_avg = Model(inputs=image_input_avg, outputs=eff_avg_cloned.output, name='model_avg')\n",
    "# model_max = Model(inputs=image_input_max, outputs=eff_max_cloned.output, name='model_max')\n",
    "\n",
    "# Käytä NAS-mallia, jos se on määritelty\n",
    "nas_output = nas_model([img_concatenated, tabular_input])\n",
    "\n",
    "# Rakenna lopullinen malli\n",
    "finetune_model = Model(inputs=[image_input_avg, image_input_max, tabular_input], outputs=nas_output, name='finetune_model')\n",
    "# finetune_model.summary()\n",
    "\n",
    "lr_schedule = tf.keras.optimizers.schedules.CosineDecay(\n",
    "    3e-4,    \n",
    "    alpha=0.05,\n",
    "    name=\"CosineDecay\",\n",
    "    decay_steps=len_train\n",
    ")\n",
    "\n",
    "# Aseta oppimisnopeuden aikataulu\n",
    "finetune_model.compile(optimizer=optimizers.RMSprop(learning_rate=lr_schedule), loss='mae', metrics=['mse', 'mae', 'mape', r2_score_tf])\n",
    "\n",
    "\n",
    "\n",
    "\n"
   ]
  },
  {
   "cell_type": "code",
   "execution_count": 19,
   "metadata": {},
   "outputs": [
    {
     "name": "stdout",
     "output_type": "stream",
     "text": [
      "Total parameters: 112,702,264\n",
      "Trainable parameters: 28,348,582\n",
      "Non-trainable parameters: 84,353,682\n",
      "Total parameters from EfficientNetV2M: 106,300,776\n",
      "Trainable from EfficientNetV2M: 21,948,160\n",
      "Non trainable from EfficientNetV2M: 84,352,616\n",
      "Trainable fron NAS: 6,400,422\n",
      "Non trainable from NAS: 1,066\n",
      "Total parameters from NAS: 6,401,488\n"
     ]
    }
   ],
   "source": [
    "trainable_count = sum([tf.size(v).numpy() for v in finetune_model.trainable_weights])\n",
    "non_trainable_count = sum([tf.size(v).numpy() for v in finetune_model.non_trainable_weights])\n",
    "print(f\"Total parameters: {trainable_count + non_trainable_count:,}\")\n",
    "print(f\"Trainable parameters: {trainable_count:,}\")\n",
    "print(f\"Non-trainable parameters: {non_trainable_count:,}\")\n",
    "\n",
    "print(f'Total parameters from EfficientNetV2M: { (trainable_count + non_trainable_count) - (trainable_count_nas + non_trainable_count_nas):,}')\n",
    "print(f'Trainable from EfficientNetV2M: {trainable_count - trainable_count_nas:,}')\n",
    "print(f'Non trainable from EfficientNetV2M: {non_trainable_count - non_trainable_count_nas:,}')\n",
    "\n",
    "print(f'Trainable fron NAS: {trainable_count_nas:,}')\n",
    "print(f'Non trainable from NAS: {non_trainable_count_nas:,}')\n",
    "print(F'Total parameters from NAS: {trainable_count_nas + non_trainable_count_nas:,}')"
   ]
  },
  {
   "cell_type": "code",
   "execution_count": 20,
   "metadata": {},
   "outputs": [],
   "source": [
    "import tensorflow as tf\n",
    "from tensorflow.keras.callbacks import Callback\n",
    "import matplotlib.pyplot as plt\n",
    "import io\n",
    "\n",
    "class TrainImageLoggingCallback(Callback):\n",
    "    def __init__(self, log_dir, data):\n",
    "        super(TrainImageLoggingCallback, self).__init__()\n",
    "        self.log_dir = log_dir\n",
    "        self.data = data\n",
    "        self.writer = tf.summary.create_file_writer(log_dir)\n",
    "\n",
    "    def on_epoch_end(self, epoch, logs=None):\n",
    "        # Fetch a batch of images\n",
    "        for (imgs, im2, tab) , tar in self.data.take(1):  # Adjust depending on your dataset structure\n",
    "            \n",
    "            # augmented_images = tf.map_fn(augment_image, imgs)\n",
    "            augmented_images = tf.cast(imgs, tf.uint8)    \n",
    "        \n",
    "            # Prepare the image to write to TensorBoard\n",
    "            with self.writer.as_default():\n",
    "                tf.summary.image(\"Augmented Images\", augmented_images, step=epoch, max_outputs=10)\n",
    "\n",
    "            self.writer.flush()\n"
   ]
  },
  {
   "cell_type": "code",
   "execution_count": 21,
   "metadata": {},
   "outputs": [
    {
     "name": "stdout",
     "output_type": "stream",
     "text": [
      "Logging tensorboard to ./logs/all/trial_420_stdminmaxpower_allfeatures_3\n"
     ]
    }
   ],
   "source": [
    "\n",
    "log_folder = f\"./logs/all/trial_{study_name}\"\n",
    "print(f'Logging tensorboard to {log_folder}')\n",
    "os.makedirs(log_folder, exist_ok=True)\n",
    "\n",
    "# Aseta logitiedostojen hakemisto\n",
    "tensorboard_callback = TensorBoard(log_dir=log_folder, histogram_freq=1, update_freq='batch')"
   ]
  },
  {
   "cell_type": "code",
   "execution_count": 22,
   "metadata": {},
   "outputs": [
    {
     "name": "stdout",
     "output_type": "stream",
     "text": [
      "Epoch 1/5\n"
     ]
    },
    {
     "name": "stderr",
     "output_type": "stream",
     "text": [
      "2024-04-22 17:37:58.179266: I tensorflow/core/common_runtime/executor.cc:1197] [/device:CPU:0] (DEBUG INFO) Executor start aborting (this does not indicate an error and you can ignore this message): INVALID_ARGUMENT: You must feed a value for placeholder tensor 'Placeholder/_2' with dtype double and shape [39335,6]\n",
      "\t [[{{node Placeholder/_2}}]]\n",
      "2024-04-22 17:37:58.179567: I tensorflow/core/common_runtime/executor.cc:1197] [/device:CPU:0] (DEBUG INFO) Executor start aborting (this does not indicate an error and you can ignore this message): INVALID_ARGUMENT: You must feed a value for placeholder tensor 'Placeholder/_0' with dtype string and shape [39335]\n",
      "\t [[{{node Placeholder/_0}}]]\n",
      "2024-04-22 17:38:21.169965: E tensorflow/core/grappler/optimizers/meta_optimizer.cc:954] layout failed: INVALID_ARGUMENT: Size of values 0 does not match size of permutation 4 @ fanin shape infinetune_model/eff_avg_block1b_drop/dropout/SelectV2-2-TransposeNHWCToNCHW-LayoutOptimizer\n",
      "2024-04-22 17:38:24.310947: I tensorflow/compiler/xla/stream_executor/cuda/cuda_dnn.cc:424] Loaded cuDNN version 8600\n",
      "2024-04-22 17:38:24.318052: I tensorflow/compiler/xla/stream_executor/cuda/cuda_blas.cc:637] TensorFloat-32 will be used for the matrix multiplication. This will only be logged once.\n"
     ]
    },
    {
     "name": "stdout",
     "output_type": "stream",
     "text": [
      "1230/1230 [==============================] - ETA: 0s - loss: 0.3236 - mse: 0.3025 - mae: 0.3236 - mape: 5666.8398 - r2_score_tf: 0.3344"
     ]
    },
    {
     "name": "stderr",
     "output_type": "stream",
     "text": [
      "2024-04-22 17:56:36.184498: I tensorflow/core/common_runtime/executor.cc:1197] [/device:CPU:0] (DEBUG INFO) Executor start aborting (this does not indicate an error and you can ignore this message): INVALID_ARGUMENT: You must feed a value for placeholder tensor 'Placeholder/_1' with dtype double and shape [9833,163]\n",
      "\t [[{{node Placeholder/_1}}]]\n",
      "2024-04-22 17:56:36.184788: I tensorflow/core/common_runtime/executor.cc:1197] [/device:CPU:0] (DEBUG INFO) Executor start aborting (this does not indicate an error and you can ignore this message): INVALID_ARGUMENT: You must feed a value for placeholder tensor 'Placeholder/_2' with dtype double and shape [9833,6]\n",
      "\t [[{{node Placeholder/_2}}]]\n"
     ]
    },
    {
     "name": "stdout",
     "output_type": "stream",
     "text": [
      "\n",
      "Epoch 1: val_mae improved from inf to 0.31931, saving model to ./NN_search/testifinetus_420_stdminmaxpower_allfeatures_3.h5\n"
     ]
    },
    {
     "name": "stderr",
     "output_type": "stream",
     "text": [
      "2024-04-22 17:59:51.056853: I tensorflow/core/common_runtime/executor.cc:1197] [/device:CPU:0] (DEBUG INFO) Executor start aborting (this does not indicate an error and you can ignore this message): INVALID_ARGUMENT: You must feed a value for placeholder tensor 'Placeholder/_0' with dtype string and shape [39335]\n",
      "\t [[{{node Placeholder/_0}}]]\n",
      "2024-04-22 17:59:51.057184: I tensorflow/core/common_runtime/executor.cc:1197] [/device:CPU:0] (DEBUG INFO) Executor start aborting (this does not indicate an error and you can ignore this message): INVALID_ARGUMENT: You must feed a value for placeholder tensor 'Placeholder/_2' with dtype double and shape [39335,6]\n",
      "\t [[{{node Placeholder/_2}}]]\n"
     ]
    },
    {
     "name": "stdout",
     "output_type": "stream",
     "text": [
      "1230/1230 [==============================] - 1314s 1s/step - loss: 0.3236 - mse: 0.3025 - mae: 0.3236 - mape: 5666.8398 - r2_score_tf: 0.3344 - val_loss: 0.3193 - val_mse: 0.2892 - val_mae: 0.3193 - val_mape: 5894.2109 - val_r2_score_tf: 0.3410\n",
      "Epoch 2/5\n",
      "1230/1230 [==============================] - ETA: 0s - loss: 0.3063 - mse: 0.2717 - mae: 0.3063 - mape: 5355.8521 - r2_score_tf: 0.3798\n",
      "Epoch 2: val_mae improved from 0.31931 to 0.31427, saving model to ./NN_search/testifinetus_420_stdminmaxpower_allfeatures_3.h5\n"
     ]
    },
    {
     "name": "stderr",
     "output_type": "stream",
     "text": [
      "2024-04-22 18:18:24.346824: I tensorflow/core/common_runtime/executor.cc:1197] [/device:CPU:0] (DEBUG INFO) Executor start aborting (this does not indicate an error and you can ignore this message): INVALID_ARGUMENT: You must feed a value for placeholder tensor 'Placeholder/_1' with dtype double and shape [39335,163]\n",
      "\t [[{{node Placeholder/_1}}]]\n",
      "2024-04-22 18:18:24.347159: I tensorflow/core/common_runtime/executor.cc:1197] [/device:CPU:0] (DEBUG INFO) Executor start aborting (this does not indicate an error and you can ignore this message): INVALID_ARGUMENT: You must feed a value for placeholder tensor 'Placeholder/_1' with dtype double and shape [39335,163]\n",
      "\t [[{{node Placeholder/_1}}]]\n"
     ]
    },
    {
     "name": "stdout",
     "output_type": "stream",
     "text": [
      "1230/1230 [==============================] - 1113s 904ms/step - loss: 0.3063 - mse: 0.2717 - mae: 0.3063 - mape: 5355.8521 - r2_score_tf: 0.3798 - val_loss: 0.3143 - val_mse: 0.2844 - val_mae: 0.3143 - val_mape: 6897.5200 - val_r2_score_tf: 0.3567\n",
      "Epoch 3/5\n",
      "1230/1230 [==============================] - ETA: 0s - loss: 0.2935 - mse: 0.2514 - mae: 0.2935 - mape: 5888.6699 - r2_score_tf: 0.4113\n",
      "Epoch 3: val_mae improved from 0.31427 to 0.30719, saving model to ./NN_search/testifinetus_420_stdminmaxpower_allfeatures_3.h5\n"
     ]
    },
    {
     "name": "stderr",
     "output_type": "stream",
     "text": [
      "2024-04-22 18:35:37.650090: I tensorflow/core/common_runtime/executor.cc:1197] [/device:CPU:0] (DEBUG INFO) Executor start aborting (this does not indicate an error and you can ignore this message): INVALID_ARGUMENT: You must feed a value for placeholder tensor 'Placeholder/_2' with dtype double and shape [39335,6]\n",
      "\t [[{{node Placeholder/_2}}]]\n",
      "2024-04-22 18:35:37.650492: I tensorflow/core/common_runtime/executor.cc:1197] [/device:CPU:0] (DEBUG INFO) Executor start aborting (this does not indicate an error and you can ignore this message): INVALID_ARGUMENT: You must feed a value for placeholder tensor 'Placeholder/_1' with dtype double and shape [39335,163]\n",
      "\t [[{{node Placeholder/_1}}]]\n"
     ]
    },
    {
     "name": "stdout",
     "output_type": "stream",
     "text": [
      "1230/1230 [==============================] - 1033s 840ms/step - loss: 0.2935 - mse: 0.2514 - mae: 0.2935 - mape: 5888.6699 - r2_score_tf: 0.4113 - val_loss: 0.3072 - val_mse: 0.2725 - val_mae: 0.3072 - val_mape: 8906.2891 - val_r2_score_tf: 0.3775\n",
      "Epoch 4/5\n",
      "1230/1230 [==============================] - ETA: 0s - loss: 0.2819 - mse: 0.2320 - mae: 0.2819 - mape: 6561.5391 - r2_score_tf: 0.4423\n",
      "Epoch 4: val_mae improved from 0.30719 to 0.30311, saving model to ./NN_search/testifinetus_420_stdminmaxpower_allfeatures_3.h5\n"
     ]
    },
    {
     "name": "stderr",
     "output_type": "stream",
     "text": [
      "2024-04-22 18:52:39.423648: I tensorflow/core/common_runtime/executor.cc:1197] [/device:CPU:0] (DEBUG INFO) Executor start aborting (this does not indicate an error and you can ignore this message): INVALID_ARGUMENT: You must feed a value for placeholder tensor 'Placeholder/_2' with dtype double and shape [39335,6]\n",
      "\t [[{{node Placeholder/_2}}]]\n",
      "2024-04-22 18:52:39.424067: I tensorflow/core/common_runtime/executor.cc:1197] [/device:CPU:0] (DEBUG INFO) Executor start aborting (this does not indicate an error and you can ignore this message): INVALID_ARGUMENT: You must feed a value for placeholder tensor 'Placeholder/_1' with dtype double and shape [39335,163]\n",
      "\t [[{{node Placeholder/_1}}]]\n"
     ]
    },
    {
     "name": "stdout",
     "output_type": "stream",
     "text": [
      "1230/1230 [==============================] - 1022s 831ms/step - loss: 0.2819 - mse: 0.2320 - mae: 0.2819 - mape: 6561.5391 - r2_score_tf: 0.4423 - val_loss: 0.3031 - val_mse: 0.2673 - val_mae: 0.3031 - val_mape: 9071.5332 - val_r2_score_tf: 0.3851\n",
      "Epoch 5/5\n",
      "1230/1230 [==============================] - ETA: 0s - loss: 0.2749 - mse: 0.2220 - mae: 0.2749 - mape: 5971.6592 - r2_score_tf: 0.4589\n",
      "Epoch 5: val_mae improved from 0.30311 to 0.30218, saving model to ./NN_search/testifinetus_420_stdminmaxpower_allfeatures_3.h5\n"
     ]
    },
    {
     "name": "stderr",
     "output_type": "stream",
     "text": [
      "2024-04-22 19:16:23.169313: I tensorflow/core/common_runtime/executor.cc:1197] [/device:CPU:0] (DEBUG INFO) Executor start aborting (this does not indicate an error and you can ignore this message): INVALID_ARGUMENT: You must feed a value for placeholder tensor 'Placeholder/_2' with dtype double and shape [39335,6]\n",
      "\t [[{{node Placeholder/_2}}]]\n",
      "2024-04-22 19:16:23.169669: I tensorflow/core/common_runtime/executor.cc:1197] [/device:CPU:0] (DEBUG INFO) Executor start aborting (this does not indicate an error and you can ignore this message): INVALID_ARGUMENT: You must feed a value for placeholder tensor 'Placeholder/_2' with dtype double and shape [39335,6]\n",
      "\t [[{{node Placeholder/_2}}]]\n"
     ]
    },
    {
     "name": "stdout",
     "output_type": "stream",
     "text": [
      "1230/1230 [==============================] - 1423s 1s/step - loss: 0.2749 - mse: 0.2220 - mae: 0.2749 - mape: 5971.6592 - r2_score_tf: 0.4589 - val_loss: 0.3022 - val_mse: 0.2660 - val_mae: 0.3022 - val_mape: 8745.8848 - val_r2_score_tf: 0.3878\n"
     ]
    }
   ],
   "source": [
    "\n",
    "\n",
    "callbacks = [\n",
    "    tf.keras.callbacks.ModelCheckpoint(filepath=f'./NN_search/testifinetus_{study_name}.h5', monitor='val_mae', save_best_only=True, save_weights_only=True, mode = 'min',  verbose = 1),\n",
    "    tensorboard_callback,\n",
    "    TrainImageLoggingCallback(log_folder, train_dataset)    \n",
    "]\n",
    "\n",
    "history = finetune_model.fit(train_dataset, validation_data=valid_dataset, epochs=EPOCHS, verbose=1, callbacks=callbacks)\n",
    "\n",
    "\n"
   ]
  },
  {
   "cell_type": "code",
   "execution_count": 23,
   "metadata": {},
   "outputs": [],
   "source": [
    "finetune_model.load_weights(f'./NN_search/testifinetus_{study_name}.h5')\n",
    "# finetune_model.save(f'./NN_search/koe', save_format='tf') # TODO tässä ongelmaa vielä, mutta ei väliä. Malli on jo olemassa ja sitä voi käyttää. \n"
   ]
  },
  {
   "cell_type": "code",
   "execution_count": 24,
   "metadata": {},
   "outputs": [],
   "source": [
    "for target, log_base in log_transforms.items():\n",
    "    if log_base is not None and log_base != 'sqrt' and log_base != 'cbrt':\n",
    "        train_plot[target] = np.log(train_plot[target]) / np.log(log_base)\n",
    "        \n",
    "    elif log_base == 'sqrt':\n",
    "        train_plot[target] = np.sqrt(train_plot[target])\n",
    "        \n",
    "    elif log_base == 'cbrt':\n",
    "        train_plot[target] = np.cbrt(train_plot[target])\n",
    "        \n",
    "    else:\n",
    "        train_plot[target] = train_plot[target]\n",
    "        \n",
    "for target, scaler in scaler_transforms.items():\n",
    "    if scaler is not None:\n",
    "        train_plot[target] = scaler.transform(train_plot[target].values.reshape(-1, 1)).flatten()\n",
    "        train_plot[target] = scaler.transform(train_plot[target].values.reshape(-1, 1)).flatten()"
   ]
  },
  {
   "cell_type": "code",
   "execution_count": 25,
   "metadata": {},
   "outputs": [
    {
     "name": "stdout",
     "output_type": "stream",
     "text": [
      "{'X4_mean': None, 'X11_mean': 2, 'X18_mean': 'sqrt', 'X50_mean': 20, 'X26_mean': 10, 'X3112_mean': 'cbrt'}\n",
      "{'X4_mean': None, 'X11_mean': PowerTransformer(), 'X18_mean': None, 'X50_mean': None, 'X26_mean': StandardScaler(), 'X3112_mean': MinMaxScaler()}\n"
     ]
    }
   ],
   "source": [
    "print(log_transforms)\n",
    "print(scaler_transforms)"
   ]
  },
  {
   "cell_type": "code",
   "execution_count": 26,
   "metadata": {},
   "outputs": [
    {
     "data": {
      "text/html": [
       "<div>\n",
       "<style scoped>\n",
       "    .dataframe tbody tr th:only-of-type {\n",
       "        vertical-align: middle;\n",
       "    }\n",
       "\n",
       "    .dataframe tbody tr th {\n",
       "        vertical-align: top;\n",
       "    }\n",
       "\n",
       "    .dataframe thead th {\n",
       "        text-align: right;\n",
       "    }\n",
       "</style>\n",
       "<table border=\"1\" class=\"dataframe\">\n",
       "  <thead>\n",
       "    <tr style=\"text-align: right;\">\n",
       "      <th></th>\n",
       "      <th>X4_mean</th>\n",
       "      <th>X11_mean</th>\n",
       "      <th>X18_mean</th>\n",
       "      <th>X50_mean</th>\n",
       "      <th>X26_mean</th>\n",
       "      <th>X3112_mean</th>\n",
       "    </tr>\n",
       "  </thead>\n",
       "  <tbody>\n",
       "    <tr>\n",
       "      <th>count</th>\n",
       "      <td>49168.000000</td>\n",
       "      <td>49168.000000</td>\n",
       "      <td>49168.000000</td>\n",
       "      <td>49168.000000</td>\n",
       "      <td>49168.000000</td>\n",
       "      <td>49168.000000</td>\n",
       "    </tr>\n",
       "    <tr>\n",
       "      <th>mean</th>\n",
       "      <td>0.516058</td>\n",
       "      <td>15.752458</td>\n",
       "      <td>2.772597</td>\n",
       "      <td>1.592122</td>\n",
       "      <td>24.176388</td>\n",
       "      <td>1598.763010</td>\n",
       "    </tr>\n",
       "    <tr>\n",
       "      <th>std</th>\n",
       "      <td>0.138489</td>\n",
       "      <td>6.961194</td>\n",
       "      <td>4.549765</td>\n",
       "      <td>0.588147</td>\n",
       "      <td>72.898061</td>\n",
       "      <td>2271.015359</td>\n",
       "    </tr>\n",
       "    <tr>\n",
       "      <th>min</th>\n",
       "      <td>0.181879</td>\n",
       "      <td>2.836897</td>\n",
       "      <td>0.033326</td>\n",
       "      <td>0.510491</td>\n",
       "      <td>0.005874</td>\n",
       "      <td>10.527904</td>\n",
       "    </tr>\n",
       "    <tr>\n",
       "      <th>25%</th>\n",
       "      <td>0.408995</td>\n",
       "      <td>11.060960</td>\n",
       "      <td>0.306775</td>\n",
       "      <td>1.185120</td>\n",
       "      <td>0.544728</td>\n",
       "      <td>263.122005</td>\n",
       "    </tr>\n",
       "    <tr>\n",
       "      <th>50%</th>\n",
       "      <td>0.502897</td>\n",
       "      <td>15.296873</td>\n",
       "      <td>0.676143</td>\n",
       "      <td>1.471036</td>\n",
       "      <td>2.289064</td>\n",
       "      <td>694.205681</td>\n",
       "    </tr>\n",
       "    <tr>\n",
       "      <th>75%</th>\n",
       "      <td>0.616053</td>\n",
       "      <td>19.505972</td>\n",
       "      <td>2.962085</td>\n",
       "      <td>1.886668</td>\n",
       "      <td>12.249738</td>\n",
       "      <td>1964.239682</td>\n",
       "    </tr>\n",
       "    <tr>\n",
       "      <th>max</th>\n",
       "      <td>0.883987</td>\n",
       "      <td>43.206557</td>\n",
       "      <td>24.975647</td>\n",
       "      <td>3.677128</td>\n",
       "      <td>785.944393</td>\n",
       "      <td>15639.231100</td>\n",
       "    </tr>\n",
       "  </tbody>\n",
       "</table>\n",
       "</div>"
      ],
      "text/plain": [
       "            X4_mean      X11_mean      X18_mean      X50_mean      X26_mean  \\\n",
       "count  49168.000000  49168.000000  49168.000000  49168.000000  49168.000000   \n",
       "mean       0.516058     15.752458      2.772597      1.592122     24.176388   \n",
       "std        0.138489      6.961194      4.549765      0.588147     72.898061   \n",
       "min        0.181879      2.836897      0.033326      0.510491      0.005874   \n",
       "25%        0.408995     11.060960      0.306775      1.185120      0.544728   \n",
       "50%        0.502897     15.296873      0.676143      1.471036      2.289064   \n",
       "75%        0.616053     19.505972      2.962085      1.886668     12.249738   \n",
       "max        0.883987     43.206557     24.975647      3.677128    785.944393   \n",
       "\n",
       "         X3112_mean  \n",
       "count  49168.000000  \n",
       "mean    1598.763010  \n",
       "std     2271.015359  \n",
       "min       10.527904  \n",
       "25%      263.122005  \n",
       "50%      694.205681  \n",
       "75%     1964.239682  \n",
       "max    15639.231100  "
      ]
     },
     "execution_count": 26,
     "metadata": {},
     "output_type": "execute_result"
    }
   ],
   "source": [
    "train_original[mean_columns].describe()"
   ]
  },
  {
   "cell_type": "code",
   "execution_count": 27,
   "metadata": {},
   "outputs": [
    {
     "data": {
      "text/html": [
       "<div>\n",
       "<style scoped>\n",
       "    .dataframe tbody tr th:only-of-type {\n",
       "        vertical-align: middle;\n",
       "    }\n",
       "\n",
       "    .dataframe tbody tr th {\n",
       "        vertical-align: top;\n",
       "    }\n",
       "\n",
       "    .dataframe thead th {\n",
       "        text-align: right;\n",
       "    }\n",
       "</style>\n",
       "<table border=\"1\" class=\"dataframe\">\n",
       "  <thead>\n",
       "    <tr style=\"text-align: right;\">\n",
       "      <th></th>\n",
       "      <th>X4_mean</th>\n",
       "      <th>X11_mean</th>\n",
       "      <th>X18_mean</th>\n",
       "      <th>X50_mean</th>\n",
       "      <th>X26_mean</th>\n",
       "      <th>X3112_mean</th>\n",
       "    </tr>\n",
       "  </thead>\n",
       "  <tbody>\n",
       "    <tr>\n",
       "      <th>count</th>\n",
       "      <td>49168.000000</td>\n",
       "      <td>49168.000000</td>\n",
       "      <td>49168.000000</td>\n",
       "      <td>49168.000000</td>\n",
       "      <td>49168.000000</td>\n",
       "      <td>49168.000000</td>\n",
       "    </tr>\n",
       "    <tr>\n",
       "      <th>mean</th>\n",
       "      <td>0.516058</td>\n",
       "      <td>-2.868812</td>\n",
       "      <td>1.283564</td>\n",
       "      <td>0.133850</td>\n",
       "      <td>-0.405380</td>\n",
       "      <td>-0.081482</td>\n",
       "    </tr>\n",
       "    <tr>\n",
       "      <th>std</th>\n",
       "      <td>0.138489</td>\n",
       "      <td>0.254970</td>\n",
       "      <td>1.060699</td>\n",
       "      <td>0.119312</td>\n",
       "      <td>1.009681</td>\n",
       "      <td>0.008626</td>\n",
       "    </tr>\n",
       "    <tr>\n",
       "      <th>min</th>\n",
       "      <td>0.181879</td>\n",
       "      <td>-3.092130</td>\n",
       "      <td>0.182555</td>\n",
       "      <td>-0.224447</td>\n",
       "      <td>-3.091183</td>\n",
       "      <td>-0.096060</td>\n",
       "    </tr>\n",
       "    <tr>\n",
       "      <th>25%</th>\n",
       "      <td>0.408995</td>\n",
       "      <td>-3.019514</td>\n",
       "      <td>0.553873</td>\n",
       "      <td>0.056695</td>\n",
       "      <td>-1.081781</td>\n",
       "      <td>-0.087961</td>\n",
       "    </tr>\n",
       "    <tr>\n",
       "      <th>50%</th>\n",
       "      <td>0.502897</td>\n",
       "      <td>-2.948712</td>\n",
       "      <td>0.822279</td>\n",
       "      <td>0.128839</td>\n",
       "      <td>-0.444945</td>\n",
       "      <td>-0.083261</td>\n",
       "    </tr>\n",
       "    <tr>\n",
       "      <th>75%</th>\n",
       "      <td>0.616053</td>\n",
       "      <td>-2.819397</td>\n",
       "      <td>1.721071</td>\n",
       "      <td>0.211905</td>\n",
       "      <td>0.299130</td>\n",
       "      <td>-0.076213</td>\n",
       "    </tr>\n",
       "    <tr>\n",
       "      <th>max</th>\n",
       "      <td>0.883987</td>\n",
       "      <td>-1.271068</td>\n",
       "      <td>4.997564</td>\n",
       "      <td>0.434662</td>\n",
       "      <td>2.145115</td>\n",
       "      <td>-0.052231</td>\n",
       "    </tr>\n",
       "  </tbody>\n",
       "</table>\n",
       "</div>"
      ],
      "text/plain": [
       "            X4_mean      X11_mean      X18_mean      X50_mean      X26_mean  \\\n",
       "count  49168.000000  49168.000000  49168.000000  49168.000000  49168.000000   \n",
       "mean       0.516058     -2.868812      1.283564      0.133850     -0.405380   \n",
       "std        0.138489      0.254970      1.060699      0.119312      1.009681   \n",
       "min        0.181879     -3.092130      0.182555     -0.224447     -3.091183   \n",
       "25%        0.408995     -3.019514      0.553873      0.056695     -1.081781   \n",
       "50%        0.502897     -2.948712      0.822279      0.128839     -0.444945   \n",
       "75%        0.616053     -2.819397      1.721071      0.211905      0.299130   \n",
       "max        0.883987     -1.271068      4.997564      0.434662      2.145115   \n",
       "\n",
       "         X3112_mean  \n",
       "count  49168.000000  \n",
       "mean      -0.081482  \n",
       "std        0.008626  \n",
       "min       -0.096060  \n",
       "25%       -0.087961  \n",
       "50%       -0.083261  \n",
       "75%       -0.076213  \n",
       "max       -0.052231  "
      ]
     },
     "execution_count": 27,
     "metadata": {},
     "output_type": "execute_result"
    }
   ],
   "source": [
    "train_plot[mean_columns].describe()"
   ]
  },
  {
   "cell_type": "code",
   "execution_count": 28,
   "metadata": {},
   "outputs": [],
   "source": [
    "def plot_data(df, columns_names):\n",
    "    plt.figure(figsize=(15, 3))\n",
    "\n",
    "    # Setting up a grid of plots with 2 columns\n",
    "    n_cols = 6\n",
    "    n_rows = len(columns_names) // n_cols + (len(columns_names) % n_cols > 0)\n",
    "\n",
    "    for i, col in enumerate(columns_names):\n",
    "        plt.subplot(n_rows, n_cols, i+1)\n",
    "        sns.kdeplot(df[col], bw_adjust=0.5, fill=False, color='blue')\n",
    "        plt.title(f'Distribution of {col}')\n",
    "        plt.xlabel('Value')\n",
    "        plt.ylabel('Density')\n",
    "\n",
    "    plt.tight_layout()\n",
    "    plt.show()\n",
    "    \n"
   ]
  },
  {
   "cell_type": "code",
   "execution_count": 29,
   "metadata": {},
   "outputs": [
    {
     "data": {
      "image/png": "[encoded data removed]",
      "text/plain": [
       "<Figure size 1500x300 with 6 Axes>"
      ]
     },
     "metadata": {},
     "output_type": "display_data"
    }
   ],
   "source": [
    "plot_data(train_original, mean_columns)"
   ]
  },
  {
   "cell_type": "code",
   "execution_count": 30,
   "metadata": {},
   "outputs": [
    {
     "data": {
      "image/png": "[encoded data removed]",
      "text/plain": [
       "<Figure size 1500x300 with 6 Axes>"
      ]
     },
     "metadata": {},
     "output_type": "display_data"
    }
   ],
   "source": [
    "plot_data(train_plot, mean_columns)"
   ]
  },
  {
   "cell_type": "code",
   "execution_count": 31,
   "metadata": {},
   "outputs": [],
   "source": [
    "results_training_name = './data/results_finetune_images.pickle'\n",
    "\n",
    "if os.path.exists(results_training_name):\n",
    "    results_training = pd.read_pickle(results_training_name)\n",
    "else:\n",
    "    columns = ['Train R2', 'Train MSE', 'Train MAE', 'Train MAPE', 'Valid R2', 'Valid MSE', 'Valid MAE', 'Valid MAPE', 'Train preds Desc', 'Valid preds Desc', 'Test preds Desc' , 'Original data Desc' 'Kaggle R2', 'Scalers', 'Log/Pot transforms']\n",
    "    results_training = pd.DataFrame(columns = columns)\n",
    "    results_training.index.name = 'Study name'\n",
    "\n",
    "study_name_result = f'{study_name}_finetuned'\n",
    "\n",
    "if study_name_result not in results_training.index:    \n",
    "    results_training.loc[study_name] = [None]*len(results_training.columns)"
   ]
  },
  {
   "cell_type": "code",
   "execution_count": 33,
   "metadata": {},
   "outputs": [],
   "source": [
    "\n",
    "\n",
    "train_images_path = train_df['image_path'].values\n",
    "valid_images_path = valid_df['image_path'].values\n",
    "\n",
    "train_dataset = tf.data.Dataset.from_tensor_slices((train_images_path, train_tabular, y_train_transformed.values))\n",
    "valid_dataset = tf.data.Dataset.from_tensor_slices((valid_images_path, valid_tabular ,y_valid_transformed.values))\n",
    "\n",
    "train_dataset = train_dataset.map(process_path_valid, num_parallel_calls=tf.data.experimental.AUTOTUNE)\n",
    "valid_dataset = valid_dataset.map(process_path_valid, num_parallel_calls=tf.data.experimental.AUTOTUNE)\n",
    "\n",
    "BATCH_SIZE = 32\n",
    "\n",
    "train_dataset = train_dataset.batch(BATCH_SIZE).prefetch(buffer_size=tf.data.experimental.AUTOTUNE)\n",
    "valid_dataset = valid_dataset.batch(BATCH_SIZE).prefetch(buffer_size=tf.data.experimental.AUTOTUNE)\n",
    "\n",
    "\n",
    "\n"
   ]
  },
  {
   "cell_type": "code",
   "execution_count": 34,
   "metadata": {},
   "outputs": [
    {
     "name": "stderr",
     "output_type": "stream",
     "text": [
      "2024-04-22 19:31:47.845507: I tensorflow/core/common_runtime/executor.cc:1197] [/device:CPU:0] (DEBUG INFO) Executor start aborting (this does not indicate an error and you can ignore this message): INVALID_ARGUMENT: You must feed a value for placeholder tensor 'Placeholder/_1' with dtype double and shape [39335,163]\n",
      "\t [[{{node Placeholder/_1}}]]\n",
      "2024-04-22 19:31:47.845878: I tensorflow/core/common_runtime/executor.cc:1197] [/device:CPU:0] (DEBUG INFO) Executor start aborting (this does not indicate an error and you can ignore this message): INVALID_ARGUMENT: You must feed a value for placeholder tensor 'Placeholder/_2' with dtype double and shape [39335,6]\n",
      "\t [[{{node Placeholder/_2}}]]\n"
     ]
    },
    {
     "name": "stdout",
     "output_type": "stream",
     "text": [
      "1230/1230 [==============================] - 675s 543ms/step\n",
      "Scaler transforming target : X4_mean with scaler : None\n",
      "Scaler transforming target : X11_mean with scaler : PowerTransformer()\n",
      "Scaler transforming target : X18_mean with scaler : None\n",
      "Scaler transforming target : X50_mean with scaler : None\n",
      "Scaler transforming target : X26_mean with scaler : StandardScaler()\n",
      "Scaler transforming target : X3112_mean with scaler : MinMaxScaler()\n",
      "Logpot transforming target : X4_mean, log transform : None\n",
      "Logpot transforming target : X11_mean, log transform : 2\n",
      "Logpot transforming target : X18_mean, log transform : sqrt\n",
      "Logpot transforming target : X50_mean, log transform : 20\n",
      "Logpot transforming target : X26_mean, log transform : 10\n",
      "Logpot transforming target : X3112_mean, log transform : cbrt\n",
      "Train scores:\n",
      "R2 : 0.45698, MSE : 540025.59099, MAE : 151.90809, MAPE : 1.12896\n"
     ]
    }
   ],
   "source": [
    "\n",
    "## TRAINING DATA TEST\n",
    "tf.keras.backend.clear_session()\n",
    "gc.collect()\n",
    "\n",
    "train_pred = finetune_model.predict(train_dataset, verbose=1)\n",
    "\n",
    "for i, target in enumerate(mean_columns):\n",
    "    print(f'Scaler transforming target : {target} with scaler : {scaler_transforms[target]}')\n",
    "    scaler = scaler_transforms[target]\n",
    "    if scaler is not None:\n",
    "        train_pred[:, i] = scaler.inverse_transform(train_pred[:, i].reshape(-1, 1)).flatten()\n",
    "\n",
    "\n",
    "for i, target in enumerate(mean_columns):\n",
    "    print(f'Logpot transforming target : {target}, log transform : {log_transforms[target]}')\n",
    "    log_base = log_transforms[target]\n",
    "    if log_base is not None and log_base != 'sqrt' and log_base != 'cbrt':\n",
    "        train_pred[:, i] = np.power(log_base, train_pred[:, i])\n",
    "    elif log_base == 'sqrt':\n",
    "        train_pred[:, i] = np.square(train_pred[:, i])\n",
    "    elif log_base == 'cbrt':\n",
    "        train_pred[:, i] = np.power(train_pred[:, i], 3)\n",
    "\n",
    "R2_train = r2_score(y_train, train_pred)\n",
    "MSE_train = mean_squared_error(y_train, train_pred)\n",
    "MAE_train = mean_absolute_error(y_train, train_pred)\n",
    "MAPE_train = mean_absolute_percentage_error(y_train, train_pred)\n",
    "\n",
    "print(f'Train scores:\\nR2 : {R2_train:.5f}, MSE : {MSE_train:.5f}, MAE : {MAE_train:.5f}, MAPE : {MAPE_train:.5f}')\n",
    "results_training.at[study_name_result, 'Train R2'] = R2_train\n",
    "results_training.at[study_name_result, 'Train MSE'] = MSE_train\n",
    "results_training.at[study_name_result, 'Train MAE'] = MAE_train\n",
    "results_training.at[study_name_result, 'Train MAPE'] = MAPE_train\n",
    "\n",
    "trainining_preds_desc = pd.DataFrame(train_pred, columns = mean_columns).describe().to_json()\n",
    "results_training.at[study_name_result, 'Train preds Desc'] = trainining_preds_desc"
   ]
  },
  {
   "cell_type": "code",
   "execution_count": 35,
   "metadata": {},
   "outputs": [
    {
     "name": "stderr",
     "output_type": "stream",
     "text": [
      "2024-04-22 19:46:22.272431: I tensorflow/core/common_runtime/executor.cc:1197] [/device:CPU:0] (DEBUG INFO) Executor start aborting (this does not indicate an error and you can ignore this message): INVALID_ARGUMENT: You must feed a value for placeholder tensor 'Placeholder/_1' with dtype double and shape [9833,163]\n",
      "\t [[{{node Placeholder/_1}}]]\n",
      "2024-04-22 19:46:22.272713: I tensorflow/core/common_runtime/executor.cc:1197] [/device:CPU:0] (DEBUG INFO) Executor start aborting (this does not indicate an error and you can ignore this message): INVALID_ARGUMENT: You must feed a value for placeholder tensor 'Placeholder/_2' with dtype double and shape [9833,6]\n",
      "\t [[{{node Placeholder/_2}}]]\n"
     ]
    },
    {
     "name": "stdout",
     "output_type": "stream",
     "text": [
      "308/308 [==============================] - 163s 522ms/step\n",
      "Scaler transforming target : X4_mean with scaler : None\n",
      "Scaler transforming target : X11_mean with scaler : PowerTransformer()\n",
      "Scaler transforming target : X18_mean with scaler : None\n",
      "Scaler transforming target : X50_mean with scaler : None\n",
      "Scaler transforming target : X26_mean with scaler : StandardScaler()\n",
      "Scaler transforming target : X3112_mean with scaler : MinMaxScaler()\n",
      "Valid scores:\n",
      "R2 : 0.32572, MSE : 616414.14664, MAE : 168.72912, MAPE : 1.91069\n"
     ]
    }
   ],
   "source": [
    "\n",
    "## VALIDATION DATA TEST\n",
    "\n",
    "tf.keras.backend.clear_session()\n",
    "gc.collect()\n",
    "\n",
    "valid_pred = finetune_model.predict(valid_dataset, verbose=1)\n",
    "\n",
    "for i, target in enumerate(mean_columns):\n",
    "    print(f'Scaler transforming target : {target} with scaler : {scaler_transforms[target]}')\n",
    "    scaler = scaler_transforms[target]\n",
    "    if scaler is not None:\n",
    "        valid_pred[:, i] = scaler.inverse_transform(valid_pred[:, i].reshape(-1, 1)).flatten()\n",
    "\n",
    "\n",
    "for i, target in enumerate(mean_columns):\n",
    "    log_base = log_transforms[target]\n",
    "    if log_base is not None and log_base != 'sqrt' and log_base != 'cbrt':\n",
    "        valid_pred[:, i] = np.power(log_base, valid_pred[:, i])\n",
    "    elif log_base == 'sqrt':\n",
    "        valid_pred[:, i] = np.square(valid_pred[:, i])\n",
    "    elif log_base == 'cbrt':\n",
    "        valid_pred[:, i] = np.power(valid_pred[:, i], 3)\n",
    "\n",
    "R2_valid = r2_score(y_valid, valid_pred)\n",
    "MSE_valid = mean_squared_error(y_valid, valid_pred)\n",
    "MAE_valid = mean_absolute_error(y_valid, valid_pred)\n",
    "MAPE_valid = mean_absolute_percentage_error(y_valid, valid_pred)\n",
    "\n",
    "print(f'Valid scores:\\nR2 : {R2_valid:.5f}, MSE : {MSE_valid:.5f}, MAE : {MAE_valid:.5f}, MAPE : {MAPE_valid:.5f}')\n",
    "results_training.at[study_name_result, 'Valid R2'] = R2_valid\n",
    "results_training.at[study_name_result, 'Valid MSE'] = MSE_valid\n",
    "results_training.at[study_name_result, 'Valid MAE'] = MAE_valid\n",
    "results_training.at[study_name_result, 'Valid MAPE'] = MAPE_valid\n",
    "\n",
    "valid_preds_desc = pd.DataFrame(valid_pred, columns = mean_columns).describe().to_json()\n",
    "results_training.at[study_name_result, 'Valid preds Desc'] = valid_preds_desc\n",
    "\n"
   ]
  },
  {
   "cell_type": "code",
   "execution_count": 73,
   "metadata": {},
   "outputs": [
    {
     "name": "stderr",
     "output_type": "stream",
     "text": [
      "Exception ignored in: <bound method IPythonKernel._clean_thread_parent_frames of <ipykernel.ipkernel.IPythonKernel object at 0x7f3485ebd2e0>>\n",
      "Traceback (most recent call last):\n",
      "  File \"/home/tobias/miniconda3/envs/tf/lib/python3.9/site-packages/ipykernel/ipkernel.py\", line 770, in _clean_thread_parent_frames\n",
      "    def _clean_thread_parent_frames(\n",
      "KeyboardInterrupt: \n"
     ]
    }
   ],
   "source": [
    "# TEST DATA \n",
    "\n",
    "tf.keras.backend.clear_session()\n",
    "gc.collect()\n",
    "\n",
    "test_df_copy = test_df.copy()\n",
    "submission_df = test_df_copy[['id']].copy()\n",
    "\n",
    "\n",
    "test_df_copy[FEATURE_COLS] = scaler_feat.transform(test_df_copy[FEATURE_COLS].values)\n",
    "test_features = test_df_copy[FEATURE_COLS].values\n",
    "test_images_path = test_df_copy['image_path'].values\n",
    "\n",
    "test_images = np.array([process_path_test(path) for path in test_images_path])\n",
    "\n",
    "print(test_images.shape)  # Expected: (num_samples, 480, 480, 3)\n",
    "print(test_features.shape)  \n",
    "\n",
    "predictions = finetune_model.predict([test_images, test_images, test_features], verbose=1)\n",
    "\n",
    "for i, target in enumerate(mean_columns):\n",
    "    print(f'Scaler transforming target : {target} with scaler : {scaler_transforms[target]}')\n",
    "    scaler = scaler_transforms[target]\n",
    "    if scaler is not None:\n",
    "        predictions[:, i] = scaler.inverse_transform(predictions[:, i].reshape(-1, 1)).flatten()\n",
    "\n",
    "\n",
    "for i, target in enumerate(mean_columns):\n",
    "    print(f'Logpot transforming target: : {target}, log transform : {log_transforms[target]}')\n",
    "    log_base = log_transforms[target]\n",
    "    if log_base is not None and log_base != 'sqrt' and log_base != 'cbrt':\n",
    "        predictions[:, i] = np.power(log_base, predictions[:, i])\n",
    "    elif log_base == 'sqrt':\n",
    "        predictions[:, i] = np.square(predictions[:, i])\n",
    "    elif log_base == 'cbrt':\n",
    "        predictions[:, i] = np.power(predictions[:, i], 3)\n"
   ]
  },
  {
   "cell_type": "code",
   "execution_count": null,
   "metadata": {},
   "outputs": [],
   "source": [
    "\n",
    "target_columns = ['X4', 'X11', 'X18', 'X50', 'X26', 'X3112']\n",
    "\n",
    "submission_df[target_columns] = predictions\n"
   ]
  },
  {
   "cell_type": "code",
   "execution_count": null,
   "metadata": {},
   "outputs": [],
   "source": [
    "\n",
    "test_preds_desc = submission_df[target_columns].describe().to_json()\n",
    "results_training.at[study_name_result, 'Test preds Desc'] = test_preds_desc \n",
    "\n",
    "original_data_desc = train_original[mean_columns].describe().to_json()\n",
    "results_training.at[study_name_result, 'Original data Desc'] = original_data_desc\n",
    "\n"
   ]
  },
  {
   "cell_type": "code",
   "execution_count": null,
   "metadata": {},
   "outputs": [],
   "source": [
    "print(f'{str(log_transforms.items())}')\n",
    "print(f'{str(scaler_transforms.items())}')\n",
    "\n",
    "results_training.at[study_name_result, 'Scalers'] = f'{scaler_transforms}'\n",
    "results_training.at[study_name_result, 'Log/Pot transforms'] = f'{str(log_transforms.items())}'\n",
    "\n"
   ]
  },
  {
   "cell_type": "code",
   "execution_count": null,
   "metadata": {},
   "outputs": [],
   "source": [
    "results_training.at[study_name_result, 'Kaggle R2'] = None\n",
    "\n",
    "for index, row in results_training.iterrows():\n",
    "    print(f\"Study Name: {index}\")\n",
    "    print(f'Kaggle R2: {row[\"Kaggle R2\"]}')\n",
    "    print(f\"Train R2: {row['Train R2']}, Train MSE: {row['Train MSE']}, Train MAE : {row['Train MAE']}, Train MAPE: {row['Train MAPE']}\")\n",
    "    print(f'Valid R2: {row[\"Valid R2\"]}, Valid MSE: {row[\"Valid MSE\"]}, Valid MAE: {row[\"Valid MAE\"]}, Valid MAPE: {row[\"Valid MAPE\"]}')\n",
    "    print(\"-\" * 50)\n",
    "    print(\"Train preds Description:\")\n",
    "    display(pd.read_json(row['Train preds Desc']))\n",
    "    print(\"Valid preds Description:\")\n",
    "    display(pd.read_json(row['Valid preds Desc']))\n",
    "    print(\"Test preds Description:\")\n",
    "    display(pd.read_json(row['Test preds Desc']))\n",
    "    print(\"Original data Description:\")\n",
    "    display(pd.read_json(row['Original data Desc']))\n",
    "    "
   ]
  },
  {
   "cell_type": "code",
   "execution_count": null,
   "metadata": {},
   "outputs": [],
   "source": [
    "submission_df.head()"
   ]
  },
  {
   "cell_type": "code",
   "execution_count": null,
   "metadata": {},
   "outputs": [],
   "source": [
    "print(submission_df.info())\n",
    "\n",
    "submission_df.to_csv('./data/submission.csv', index=False)"
   ]
  },
  {
   "cell_type": "code",
   "execution_count": null,
   "metadata": {},
   "outputs": [],
   "source": [
    "with open(results_training_name, 'wb') as f:\n",
    "    results_training.to_pickle(f)"
   ]
  }
 ],
 "metadata": {
  "kernelspec": {
   "display_name": "tf",
   "language": "python",
   "name": "python3"
  },
  "language_info": {
   "codemirror_mode": {
    "name": "ipython",
    "version": 3
   },
   "file_extension": ".py",
   "mimetype": "text/x-python",
   "name": "python",
   "nbconvert_exporter": "python",
   "pygments_lexer": "ipython3",
   "version": "3.9.19"
  }
 },
 "nbformat": 4,
 "nbformat_minor": 2
}
