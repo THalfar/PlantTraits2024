{
 "cells": [
  {
   "cell_type": "code",
   "execution_count": 1,
   "metadata": {},
   "outputs": [
    {
     "name": "stderr",
     "output_type": "stream",
     "text": [
      "2024-05-05 17:55:45.069975: I tensorflow/core/platform/cpu_feature_guard.cc:182] This TensorFlow binary is optimized to use available CPU instructions in performance-critical operations.\n",
      "To enable the following instructions: AVX2 FMA, in other operations, rebuild TensorFlow with the appropriate compiler flags.\n",
      "2024-05-05 17:55:45.634096: W tensorflow/compiler/tf2tensorrt/utils/py_utils.cc:38] TF-TRT Warning: Could not find TensorRT\n"
     ]
    }
   ],
   "source": [
    "import numpy as np\n",
    "import xgboost as xgb\n",
    "import pandas as pd\n",
    "from sklearn.metrics import r2_score, mean_squared_error\n",
    "import optuna\n",
    "import pickle\n",
    "from datetime import timedelta\n",
    "import time\n",
    "import os \n",
    "from sklearn.feature_selection import SelectKBest, f_regression, mutual_info_regression\n",
    "import gc\n",
    "import tensorflow as tf"
   ]
  },
  {
   "cell_type": "code",
   "execution_count": 2,
   "metadata": {},
   "outputs": [],
   "source": [
    "feat = pd.read_csv('./data/test.csv')\n",
    "FEATURE_COLS = feat.columns[1:].tolist()"
   ]
  },
  {
   "cell_type": "code",
   "execution_count": 3,
   "metadata": {},
   "outputs": [],
   "source": [
    "study_name = '426_convnextbase_003_998_1'"
   ]
  },
  {
   "cell_type": "code",
   "execution_count": 4,
   "metadata": {},
   "outputs": [],
   "source": [
    "pickle_file_path = f'./data/test_{study_name}.pickle'\n",
    "\n",
    "with open(pickle_file_path, 'rb') as f:\n",
    "    test_df = pickle.load(f)\n",
    "\n",
    "pickle_file_path = f'./data/train_{study_name}.pickle'\n",
    "\n",
    "with open(pickle_file_path, 'rb') as f:\n",
    "    train_df = pickle.load(f)"
   ]
  },
  {
   "cell_type": "code",
   "execution_count": 5,
   "metadata": {},
   "outputs": [],
   "source": [
    "import warnings\n",
    "\n",
    "# Ohita tietyn tyyppiset varoitukset\n",
    "warnings.filterwarnings('ignore', category=UserWarning)\n",
    "\n",
    "def get_combined_data(df):\n",
    "    # Oletetaan, että FEATURES_COLS on jo määritelty olemassa oleville piirteille\n",
    "    data = [df[col].values for col in FEATURE_COLS]\n",
    "    # Lisää mallin piirteet\n",
    "    data.append(np.vstack(df['combined_features'].values))\n",
    "    return np.column_stack(data)\n",
    "\n",
    "def objective(trial, df, target, fold_train, fold_validation):\n",
    "    param = {        \n",
    "        'objective': 'reg:squarederror',        \n",
    "        'device' : 'cuda',\n",
    "        'lambda': trial.suggest_float('lambda', 1e-8, 1.0, log = True),\n",
    "        'alpha': trial.suggest_float('alpha', 1e-8, 1.0, log = True),\n",
    "        'colsample_bytree': trial.suggest_float('colsample_bytree', 0.1, 0.9),\n",
    "        'subsample': trial.suggest_float('subsample', 0.1, 0.9),\n",
    "        'learning_rate': trial.suggest_float('learning_rate', 0.01, 1.0),        \n",
    "        'max_depth': trial.suggest_int('max_depth', 2, 20),\n",
    "        'min_child_weight': trial.suggest_int('min_child_weight', 1, 100),\n",
    "        'feature_selector': trial.suggest_categorical('feature_selector', ['shuffle', 'greedy', 'thrifty', 'cyclic', 'random']),\n",
    "        'boosting': trial.suggest_categorical('boosting', ['gbtree', 'gblinear', 'dart'])\n",
    "\n",
    "        }\n",
    "    \n",
    "\n",
    "    train_data = df[df['fold'] == fold_train]\n",
    "    valid_data = df[df['fold'] == fold_validation]\n",
    "\n",
    "    selector = trial.suggest_categorical('selector', ['f_regression', 'mutual_info_regression', 'none'])\n",
    "    num_selected = trial.suggest_int('num_selected', 1, train_data.shape[1] - 1)\n",
    "\n",
    "    if selector == 'f_regression':\n",
    "        select = SelectKBest(f_regression, k=num_selected)\n",
    "    elif selector == 'mutual_info_regression':\n",
    "        select = SelectKBest(mutual_info_regression, k=num_selected)\n",
    "    elif selector == 'none':\n",
    "        select = None\n",
    "\n",
    "    if select is not None:\n",
    "        X_train = select.fit_transform(get_combined_data(train_data), train_data[target])\n",
    "        X_valid = select.transform(get_combined_data(valid_data))\n",
    "    else:\n",
    "        X_train = get_combined_data(train_data)\n",
    "        X_valid = get_combined_data(valid_data)\n",
    "\n",
    "    y_train = train_data[target]\n",
    "    y_valid = valid_data[target]\n",
    "\n",
    "    dtrain = xgb.DMatrix(X_train, label=y_train)\n",
    "    dvalid = xgb.DMatrix(X_valid, label=y_valid)\n",
    "\n",
    "    num_boost_round = trial.suggest_int('n_estimators', 10, 1000, log=True)\n",
    "    early_stopping_rounds = trial.suggest_int('early_stopping_rounds', 5, 50)\n",
    "\n",
    "    watchlist = [(dtrain, 'train'), (dvalid, 'eval')]\n",
    "    model = xgb.train(param, dtrain, num_boost_round=num_boost_round, evals=watchlist, early_stopping_rounds=early_stopping_rounds, verbose_eval=False)\n",
    "    preds = model.predict(dvalid)\n",
    "    mse = mean_squared_error(y_valid, preds)\n",
    "\n",
    "    return mse\n",
    "\n",
    "def optimize_model(df, target, fold_train, fold_validation):\n",
    "\n",
    "    if os.path.exists(f'./NN_search/{study_name}_{fold_train}_{fold_validation}_{target}_genesampler.pickle'):            \n",
    "        with open(f'./NN_search/{study_name}_{fold_train}_{fold_validation}_{target}_genesampler.pickle', 'rb') as f:\n",
    "            print(f'Loading gene sampler from file {f}')\n",
    "            genemachine = pickle.load(f)\n",
    "\n",
    "    else:            \n",
    "        print('Creating new gene sampler')\n",
    "        genemachine = optuna.samplers.NSGAIISampler(crossover = optuna.samplers.nsgaii.VSBXCrossover())\n",
    "\n",
    "    if os.path.exists(f'./NN_search/{study_name}_{fold_train}_{fold_validation}_{target}_qmc_sampler.pickle'):\n",
    "        with open(f'./NN_search/{study_name}_{fold_train}_{fold_validation}_{target}_qmc_sampler.pickle', 'rb') as f:\n",
    "            print(f'Loading QMC sampler from file {f}')\n",
    "            qmc_sampler = pickle.load(f)\n",
    "    else:\n",
    "        print(f'Creating new QMC sampler')\n",
    "        qmc_sampler = optuna.samplers.QMCSampler(warn_independent_sampling = False)\n",
    "\n",
    "    if os.path.exists(f'./NN_search/{study_name}_{fold_train}_{fold_validation}_{target}_tpe_sampler.pickle'):\n",
    "        with open(f'./NN_search/{study_name}_{fold_train}_{fold_validation}_{target}_tpe_sampler.pickle', 'rb') as f:\n",
    "            print(f'Loading TPE sampler from file {f}')\n",
    "            tpe_sampler = pickle.load(f)\n",
    "    else:\n",
    "        print(f'Creating new TPE sampler')\n",
    "        tpe_sampler = optuna.samplers.TPESampler(n_startup_trials=0, multivariate=True, warn_independent_sampling = False)\n",
    "\n",
    "\n",
    "    start_time = time.time()\n",
    "    study = optuna.create_study(direction='minimize',\n",
    "                            study_name=study_name,\n",
    "                            storage=f'sqlite:///502_xgboost_{target}.db',\n",
    "                            load_if_exists=True                            \n",
    "                            )\n",
    "    \n",
    "    print(f'Starting optimization for {target} with qmc sampler')\n",
    "    random_time = time.time()\n",
    "    study.sampler = qmc_sampler\n",
    "    study.optimize(lambda trial: objective(trial, df, target, fold_train, fold_validation), n_trials=50)\n",
    "    print(f'QCM optimization finished in {timedelta(seconds=time.time() - random_time)}')\n",
    "\n",
    "    print(f'Saving QMC sampler to file ./NN_search/{study_name}_{fold_train}_{fold_validation}_{target}_qmc_sampler.pickle')\n",
    "    with open(f'./NN_search/{study_name}_{fold_train}_{fold_validation}_{target}_qmc_sampler.pickle', 'wb') as f:\n",
    "        pickle.dump(qmc_sampler, f)\n",
    "\n",
    "    print(f'Starting optimization for {target} with gene sampler')\n",
    "    gene_time = time.time()\n",
    "    study.sampler = genemachine\n",
    "    study.optimize(lambda trial: objective(trial, df, target, fold_train, fold_validation), n_trials=50)\n",
    "    print(f'Gene optimization finished in {timedelta(seconds=time.time() - gene_time)}')\n",
    "\n",
    "    print(f'Saving gene sampler to file ./NN_search/{study_name}_{fold_train}_{fold_validation}_{target}_genesampler.pickle')\n",
    "    with open(f'./NN_search/{study_name}_{fold_train}_{fold_validation}_{target}_genesampler.pickle', 'wb') as f:\n",
    "        pickle.dump(genemachine, f)\n",
    "\n",
    "    print(f'Starting optimization for {target} with TPE sampler')\n",
    "    tpe_time = time.time()\n",
    "    study.sampler = tpe_sampler\n",
    "    study.optimize(lambda trial: objective(trial, df, target, fold_train, fold_validation), n_trials=50)\n",
    "    print(f'TPE optimization finished in {timedelta(seconds=time.time() - tpe_time)}')\n",
    "\n",
    "    print(f'Saving TPE sampler to file ./NN_search/{study_name}_{fold_train}_{fold_validation}_{target}_tpe_sampler.pickle')\n",
    "    with open(f'./NN_search/{study_name}_{fold_train}_{fold_validation}_{target}_tpe_sampler.pickle', 'wb') as f:\n",
    "        pickle.dump(tpe_sampler, f)\n",
    "\n",
    "    print(f'Optimization finished in {timedelta(seconds=time.time() - start_time)}')\n",
    "\n",
    "    best_params = study.best_trial.params    \n",
    "\n",
    "    mse_scores = []\n",
    "\n",
    "    cross_time = time.time()\n",
    "\n",
    "    \n",
    "    tf.keras.backend.clear_session()\n",
    "    gc.collect()\n",
    "\n",
    "\n",
    "    for fold in df['fold'].unique():\n",
    "\n",
    "        train_data = df[df['fold'] != fold]\n",
    "        valid_data = df[df['fold'] == fold]\n",
    "\n",
    "        selector = best_params['selector']\n",
    "        num_selected = best_params['num_selected']\n",
    "\n",
    "        if selector == 'f_regression':\n",
    "            select = SelectKBest(f_regression, k=num_selected)\n",
    "        elif selector == 'mutual_info_regression':\n",
    "            select = SelectKBest(mutual_info_regression, k=num_selected)\n",
    "        elif selector == 'none':\n",
    "            select = None\n",
    "\n",
    "        if select is not None:\n",
    "            X_train = select.fit_transform(get_combined_data(train_data), train_data[target])\n",
    "            X_valid = select.transform(get_combined_data(valid_data))\n",
    "        \n",
    "        else:\n",
    "            X_train = get_combined_data(train_data)\n",
    "            X_valid = get_combined_data(valid_data)\n",
    "\n",
    "\n",
    "        y_train = train_data[target]\n",
    "        y_valid = valid_data[target]\n",
    "\n",
    "        dtrain = xgb.DMatrix(X_train, label=y_train)\n",
    "        dvalid = xgb.DMatrix(X_valid, label=y_valid)\n",
    "\n",
    "        \n",
    "\n",
    "        num_boost_round = best_params['n_estimators']\n",
    "        early_stopping_rounds = best_params['early_stopping_rounds']\n",
    "\n",
    "\n",
    "        watchlist = [(dtrain, 'train'), (dvalid, 'eval')]\n",
    "        model = xgb.train(best_params, dtrain, num_boost_round=num_boost_round, evals=watchlist, early_stopping_rounds=early_stopping_rounds, verbose_eval=False)\n",
    "        preds = model.predict(dvalid)        \n",
    "        mse = mean_squared_error(y_valid, preds)\n",
    "        mse_scores.append(mse)\n",
    "\n",
    "    average_mse = np.mean(mse_scores)\n",
    "\n",
    "    print(f'Cross-validated MSE: {average_mse} for {target}')\n",
    "\n",
    "    print(f\"Best parameters for {target}: \", best_params)\n",
    "\n",
    "    print(f'Train data shape without selector {train_data.shape[1]}')\n",
    "\n",
    "    print(f'Time taken for crosvalidation: {timedelta(seconds=time.time() - cross_time)}')\n",
    "\n",
    "\n",
    "    print(f'Fitting model for {target} with best parameters')\n",
    "\n",
    "    \n",
    "    tf.keras.backend.clear_session()\n",
    "    gc.collect()\n",
    "\n",
    "    del best_params['early_stopping_rounds']\n",
    "   \n",
    "    endfit_time = time.time()\n",
    "        \n",
    "    X = get_combined_data(df)\n",
    "    y = df[target]\n",
    "\n",
    "    # Käsittele featureiden valinta\n",
    "    if best_params['selector'] != 'none':\n",
    "        if best_params['selector'] == 'f_regression':\n",
    "            select = SelectKBest(f_regression, k=best_params['num_selected'])\n",
    "            num_selected = best_params['num_selected']\n",
    "            print(f'Selector is f_regression with num selected {num_selected}')\n",
    "        elif best_params['selector'] == 'mutual_info_regression':\n",
    "            select = SelectKBest(mutual_info_regression, k=best_params['num_selected'])\n",
    "            num_selected = best_params['num_selected']\n",
    "            print(f'Selector is mutual_info_regression with num selected {num_selected}')\n",
    "                  \n",
    "        X_selected = select.fit_transform(X, y)\n",
    "\n",
    "    else:\n",
    "        X_selected = X\n",
    "        print(f'None selector')\n",
    "\n",
    "    # Luo ja kouluta lopullinen malli\n",
    "    model = xgb.XGBRegressor(**best_params)\n",
    "    model.fit(X_selected, y)\n",
    "\n",
    "    print(f'Time taken for fitting whole data: {timedelta(seconds=time.time() - endfit_time)}')\n",
    "    \n",
    "    return model\n",
    "\n"
   ]
  },
  {
   "cell_type": "code",
   "execution_count": 6,
   "metadata": {},
   "outputs": [
    {
     "data": {
      "text/html": [
       "<div>\n",
       "<style scoped>\n",
       "    .dataframe tbody tr th:only-of-type {\n",
       "        vertical-align: middle;\n",
       "    }\n",
       "\n",
       "    .dataframe tbody tr th {\n",
       "        vertical-align: top;\n",
       "    }\n",
       "\n",
       "    .dataframe thead th {\n",
       "        text-align: right;\n",
       "    }\n",
       "</style>\n",
       "<table border=\"1\" class=\"dataframe\">\n",
       "  <thead>\n",
       "    <tr style=\"text-align: right;\">\n",
       "      <th></th>\n",
       "      <th>id</th>\n",
       "      <th>WORLDCLIM_BIO1_annual_mean_temperature</th>\n",
       "      <th>WORLDCLIM_BIO12_annual_precipitation</th>\n",
       "      <th>WORLDCLIM_BIO13.BIO14_delta_precipitation_of_wettest_and_dryest_month</th>\n",
       "      <th>WORLDCLIM_BIO15_precipitation_seasonality</th>\n",
       "      <th>WORLDCLIM_BIO4_temperature_seasonality</th>\n",
       "      <th>WORLDCLIM_BIO7_temperature_annual_range</th>\n",
       "      <th>SOIL_bdod_0.5cm_mean_0.01_deg</th>\n",
       "      <th>SOIL_bdod_100.200cm_mean_0.01_deg</th>\n",
       "      <th>SOIL_bdod_15.30cm_mean_0.01_deg</th>\n",
       "      <th>...</th>\n",
       "      <th>bin_0</th>\n",
       "      <th>bin_1</th>\n",
       "      <th>bin_2</th>\n",
       "      <th>bin_3</th>\n",
       "      <th>bin_4</th>\n",
       "      <th>bin_5</th>\n",
       "      <th>final_bin</th>\n",
       "      <th>fold</th>\n",
       "      <th>features_avg</th>\n",
       "      <th>model_features_426_convnextbase_003_998_1</th>\n",
       "    </tr>\n",
       "  </thead>\n",
       "  <tbody>\n",
       "    <tr>\n",
       "      <th>0</th>\n",
       "      <td>192027691</td>\n",
       "      <td>12.235703</td>\n",
       "      <td>374.466675</td>\n",
       "      <td>62.524445</td>\n",
       "      <td>72.256844</td>\n",
       "      <td>773.592041</td>\n",
       "      <td>33.277779</td>\n",
       "      <td>125</td>\n",
       "      <td>149</td>\n",
       "      <td>136</td>\n",
       "      <td>...</td>\n",
       "      <td>2</td>\n",
       "      <td>2</td>\n",
       "      <td>1</td>\n",
       "      <td>4</td>\n",
       "      <td>2</td>\n",
       "      <td>1</td>\n",
       "      <td>221421</td>\n",
       "      <td>2.0</td>\n",
       "      <td>[-0.14304829, -0.28004962, 0.886131, -0.183084...</td>\n",
       "      <td>[0.9996191263198853, 0.999675989151001, -0.269...</td>\n",
       "    </tr>\n",
       "    <tr>\n",
       "      <th>1</th>\n",
       "      <td>195542235</td>\n",
       "      <td>17.270555</td>\n",
       "      <td>90.239998</td>\n",
       "      <td>10.351111</td>\n",
       "      <td>38.220940</td>\n",
       "      <td>859.193298</td>\n",
       "      <td>40.009777</td>\n",
       "      <td>124</td>\n",
       "      <td>144</td>\n",
       "      <td>138</td>\n",
       "      <td>...</td>\n",
       "      <td>3</td>\n",
       "      <td>3</td>\n",
       "      <td>2</td>\n",
       "      <td>2</td>\n",
       "      <td>2</td>\n",
       "      <td>3</td>\n",
       "      <td>332223</td>\n",
       "      <td>4.0</td>\n",
       "      <td>[0.16563013, -1.4509088, 0.46862665, 0.2771467...</td>\n",
       "      <td>[0.9998477697372437, 0.9998577237129211, 0.975...</td>\n",
       "    </tr>\n",
       "    <tr>\n",
       "      <th>2</th>\n",
       "      <td>196639184</td>\n",
       "      <td>14.254504</td>\n",
       "      <td>902.071411</td>\n",
       "      <td>49.642857</td>\n",
       "      <td>17.873655</td>\n",
       "      <td>387.977753</td>\n",
       "      <td>22.807142</td>\n",
       "      <td>107</td>\n",
       "      <td>133</td>\n",
       "      <td>119</td>\n",
       "      <td>...</td>\n",
       "      <td>5</td>\n",
       "      <td>1</td>\n",
       "      <td>5</td>\n",
       "      <td>5</td>\n",
       "      <td>2</td>\n",
       "      <td>3</td>\n",
       "      <td>515523</td>\n",
       "      <td>2.0</td>\n",
       "      <td>[-0.034171782, -0.13625506, 0.5971655, -0.6490...</td>\n",
       "      <td>[0.9998796582221985, 0.9999839067459106, 0.979...</td>\n",
       "    </tr>\n",
       "    <tr>\n",
       "      <th>3</th>\n",
       "      <td>195728812</td>\n",
       "      <td>18.680834</td>\n",
       "      <td>1473.933350</td>\n",
       "      <td>163.100006</td>\n",
       "      <td>45.009758</td>\n",
       "      <td>381.053986</td>\n",
       "      <td>20.436666</td>\n",
       "      <td>120</td>\n",
       "      <td>131</td>\n",
       "      <td>125</td>\n",
       "      <td>...</td>\n",
       "      <td>3</td>\n",
       "      <td>2</td>\n",
       "      <td>3</td>\n",
       "      <td>2</td>\n",
       "      <td>1</td>\n",
       "      <td>3</td>\n",
       "      <td>323213</td>\n",
       "      <td>0.0</td>\n",
       "      <td>[-0.881118, -0.16722384, 1.3514438, 0.34779415...</td>\n",
       "      <td>[0.9997825622558594, 0.9996305108070374, 0.995...</td>\n",
       "    </tr>\n",
       "    <tr>\n",
       "      <th>4</th>\n",
       "      <td>195251545</td>\n",
       "      <td>0.673204</td>\n",
       "      <td>530.088867</td>\n",
       "      <td>50.857777</td>\n",
       "      <td>38.230709</td>\n",
       "      <td>1323.526855</td>\n",
       "      <td>45.891998</td>\n",
       "      <td>91</td>\n",
       "      <td>146</td>\n",
       "      <td>120</td>\n",
       "      <td>...</td>\n",
       "      <td>2</td>\n",
       "      <td>3</td>\n",
       "      <td>3</td>\n",
       "      <td>5</td>\n",
       "      <td>4</td>\n",
       "      <td>4</td>\n",
       "      <td>233544</td>\n",
       "      <td>4.0</td>\n",
       "      <td>[-0.3382826, 0.3086146, 0.58881557, 0.24890125...</td>\n",
       "      <td>[0.9998947978019714, 0.9997898936271667, 0.789...</td>\n",
       "    </tr>\n",
       "  </tbody>\n",
       "</table>\n",
       "<p>5 rows × 181 columns</p>\n",
       "</div>"
      ],
      "text/plain": [
       "          id  WORLDCLIM_BIO1_annual_mean_temperature  \\\n",
       "0  192027691                               12.235703   \n",
       "1  195542235                               17.270555   \n",
       "2  196639184                               14.254504   \n",
       "3  195728812                               18.680834   \n",
       "4  195251545                                0.673204   \n",
       "\n",
       "   WORLDCLIM_BIO12_annual_precipitation  \\\n",
       "0                            374.466675   \n",
       "1                             90.239998   \n",
       "2                            902.071411   \n",
       "3                           1473.933350   \n",
       "4                            530.088867   \n",
       "\n",
       "   WORLDCLIM_BIO13.BIO14_delta_precipitation_of_wettest_and_dryest_month  \\\n",
       "0                                          62.524445                       \n",
       "1                                          10.351111                       \n",
       "2                                          49.642857                       \n",
       "3                                         163.100006                       \n",
       "4                                          50.857777                       \n",
       "\n",
       "   WORLDCLIM_BIO15_precipitation_seasonality  \\\n",
       "0                                  72.256844   \n",
       "1                                  38.220940   \n",
       "2                                  17.873655   \n",
       "3                                  45.009758   \n",
       "4                                  38.230709   \n",
       "\n",
       "   WORLDCLIM_BIO4_temperature_seasonality  \\\n",
       "0                              773.592041   \n",
       "1                              859.193298   \n",
       "2                              387.977753   \n",
       "3                              381.053986   \n",
       "4                             1323.526855   \n",
       "\n",
       "   WORLDCLIM_BIO7_temperature_annual_range  SOIL_bdod_0.5cm_mean_0.01_deg  \\\n",
       "0                                33.277779                            125   \n",
       "1                                40.009777                            124   \n",
       "2                                22.807142                            107   \n",
       "3                                20.436666                            120   \n",
       "4                                45.891998                             91   \n",
       "\n",
       "   SOIL_bdod_100.200cm_mean_0.01_deg  SOIL_bdod_15.30cm_mean_0.01_deg  ...  \\\n",
       "0                                149                              136  ...   \n",
       "1                                144                              138  ...   \n",
       "2                                133                              119  ...   \n",
       "3                                131                              125  ...   \n",
       "4                                146                              120  ...   \n",
       "\n",
       "   bin_0  bin_1  bin_2  bin_3  bin_4  bin_5  final_bin  fold  \\\n",
       "0      2      2      1      4      2      1     221421   2.0   \n",
       "1      3      3      2      2      2      3     332223   4.0   \n",
       "2      5      1      5      5      2      3     515523   2.0   \n",
       "3      3      2      3      2      1      3     323213   0.0   \n",
       "4      2      3      3      5      4      4     233544   4.0   \n",
       "\n",
       "                                        features_avg  \\\n",
       "0  [-0.14304829, -0.28004962, 0.886131, -0.183084...   \n",
       "1  [0.16563013, -1.4509088, 0.46862665, 0.2771467...   \n",
       "2  [-0.034171782, -0.13625506, 0.5971655, -0.6490...   \n",
       "3  [-0.881118, -0.16722384, 1.3514438, 0.34779415...   \n",
       "4  [-0.3382826, 0.3086146, 0.58881557, 0.24890125...   \n",
       "\n",
       "           model_features_426_convnextbase_003_998_1  \n",
       "0  [0.9996191263198853, 0.999675989151001, -0.269...  \n",
       "1  [0.9998477697372437, 0.9998577237129211, 0.975...  \n",
       "2  [0.9998796582221985, 0.9999839067459106, 0.979...  \n",
       "3  [0.9997825622558594, 0.9996305108070374, 0.995...  \n",
       "4  [0.9998947978019714, 0.9997898936271667, 0.789...  \n",
       "\n",
       "[5 rows x 181 columns]"
      ]
     },
     "execution_count": 6,
     "metadata": {},
     "output_type": "execute_result"
    }
   ],
   "source": [
    "train_df.head()"
   ]
  },
  {
   "cell_type": "code",
   "execution_count": 7,
   "metadata": {},
   "outputs": [],
   "source": [
    "def prepare_features(row):\n",
    "    return np.array(row[f'model_features_{study_name}'])\n",
    "\n",
    "train_df['combined_features'] = train_df.apply(prepare_features, axis=1)\n",
    "test_df['combined_features'] = test_df.apply(prepare_features, axis=1)\n",
    "\n"
   ]
  },
  {
   "cell_type": "code",
   "execution_count": 8,
   "metadata": {},
   "outputs": [
    {
     "name": "stdout",
     "output_type": "stream",
     "text": [
      "\n",
      "\n",
      "Optimizing model for X4_mean using train fold 1 and validation fold 2\n",
      "\n",
      "\n",
      "Loading gene sampler from file <_io.BufferedReader name='./NN_search/426_convnextbase_003_998_1_1_2_X4_mean_genesampler.pickle'>\n",
      "Loading QMC sampler from file <_io.BufferedReader name='./NN_search/426_convnextbase_003_998_1_1_2_X4_mean_qmc_sampler.pickle'>\n",
      "Loading TPE sampler from file <_io.BufferedReader name='./NN_search/426_convnextbase_003_998_1_1_2_X4_mean_tpe_sampler.pickle'>\n"
     ]
    },
    {
     "name": "stderr",
     "output_type": "stream",
     "text": [
      "[I 2024-05-05 17:55:48,331] Using an existing study with name '426_convnextbase_003_998_1' instead of creating a new one.\n"
     ]
    },
    {
     "name": "stdout",
     "output_type": "stream",
     "text": [
      "Starting optimization for X4_mean with qmc sampler\n"
     ]
    },
    {
     "name": "stderr",
     "output_type": "stream",
     "text": [
      "[I 2024-05-05 17:55:50,225] Trial 30 finished with value: 0.005458857455936615 and parameters: {'lambda': 0.0031622776601683764, 'alpha': 0.0316227766016838, 'colsample_bytree': 0.45000000000000007, 'subsample': 0.85, 'learning_rate': 0.071875, 'max_depth': 17, 'min_child_weight': 94, 'feature_selector': 'shuffle', 'boosting': 'gbtree', 'selector': 'none', 'num_selected': 80, 'n_estimators': 73, 'early_stopping_rounds': 42}. Best is trial 21 with value: 0.005340167057966362.\n",
      "[I 2024-05-05 17:55:50,899] Trial 31 finished with value: 0.009757438862756884 and parameters: {'lambda': 0.31622776601683833, 'alpha': 3.16227766016837e-08, 'colsample_bytree': 0.65, 'subsample': 0.25, 'learning_rate': 0.319375, 'max_depth': 12, 'min_child_weight': 19, 'feature_selector': 'cyclic', 'boosting': 'gblinear', 'selector': 'none', 'num_selected': 34, 'n_estimators': 23, 'early_stopping_rounds': 30}. Best is trial 21 with value: 0.005340167057966362.\n",
      "[I 2024-05-05 17:55:51,187] Trial 32 finished with value: 0.006696413318982789 and parameters: {'lambda': 3.162277660168375e-05, 'alpha': 0.00031622776601683783, 'colsample_bytree': 0.25, 'subsample': 0.65, 'learning_rate': 0.814375, 'max_depth': 3, 'min_child_weight': 69, 'feature_selector': 'cyclic', 'boosting': 'gbtree', 'selector': 'none', 'num_selected': 125, 'n_estimators': 233, 'early_stopping_rounds': 7}. Best is trial 21 with value: 0.005340167057966362.\n",
      "[I 2024-05-05 17:56:06,638] Trial 33 finished with value: 0.01694162000992719 and parameters: {'lambda': 3.162277660168377e-06, 'alpha': 3.1622776601683734e-07, 'colsample_bytree': 0.35, 'subsample': 0.55, 'learning_rate': 0.938125, 'max_depth': 10, 'min_child_weight': 7, 'feature_selector': 'greedy', 'boosting': 'gbtree', 'selector': 'mutual_info_regression', 'num_selected': 12, 'n_estimators': 13, 'early_stopping_rounds': 48}. Best is trial 21 with value: 0.005340167057966362.\n",
      "[I 2024-05-05 17:56:21,860] Trial 34 finished with value: 0.008647163787225921 and parameters: {'lambda': 0.0316227766016838, 'alpha': 0.0031622776601683764, 'colsample_bytree': 0.75, 'subsample': 0.15000000000000002, 'learning_rate': 0.443125, 'max_depth': 19, 'min_child_weight': 57, 'feature_selector': 'greedy', 'boosting': 'dart', 'selector': 'mutual_info_regression', 'num_selected': 102, 'n_estimators': 130, 'early_stopping_rounds': 25}. Best is trial 21 with value: 0.005340167057966362.\n",
      "[I 2024-05-05 17:56:22,882] Trial 35 finished with value: 0.006155923954819676 and parameters: {'lambda': 0.00031622776601683783, 'alpha': 3.162277660168375e-05, 'colsample_bytree': 0.15000000000000002, 'subsample': 0.75, 'learning_rate': 0.195625, 'max_depth': 15, 'min_child_weight': 32, 'feature_selector': 'cyclic', 'boosting': 'gbtree', 'selector': 'f_regression', 'num_selected': 148, 'n_estimators': 418, 'early_stopping_rounds': 13}. Best is trial 21 with value: 0.005340167057966362.\n",
      "[I 2024-05-05 17:56:38,016] Trial 36 finished with value: 0.008134714508331803 and parameters: {'lambda': 3.16227766016837e-08, 'alpha': 0.31622776601683833, 'colsample_bytree': 0.55, 'subsample': 0.35, 'learning_rate': 0.690625, 'max_depth': 5, 'min_child_weight': 82, 'feature_selector': 'thrifty', 'boosting': 'dart', 'selector': 'mutual_info_regression', 'num_selected': 57, 'n_estimators': 41, 'early_stopping_rounds': 36}. Best is trial 21 with value: 0.005340167057966362.\n",
      "[I 2024-05-05 17:56:53,230] Trial 37 finished with value: 0.006513227670168551 and parameters: {'lambda': 5.6234132519034806e-08, 'alpha': 5.6234132519034893e-05, 'colsample_bytree': 0.475, 'subsample': 0.625, 'learning_rate': 0.2884375, 'max_depth': 20, 'min_child_weight': 54, 'feature_selector': 'greedy', 'boosting': 'gblinear', 'selector': 'mutual_info_regression', 'num_selected': 153, 'n_estimators': 84, 'early_stopping_rounds': 12}. Best is trial 21 with value: 0.005340167057966362.\n",
      "[I 2024-05-05 17:56:55,900] Trial 38 finished with value: 0.12478430627852422 and parameters: {'lambda': 0.0005623413251903486, 'alpha': 0.5623413251903484, 'colsample_bytree': 0.875, 'subsample': 0.225, 'learning_rate': 0.7834375, 'max_depth': 10, 'min_child_weight': 4, 'feature_selector': 'thrifty', 'boosting': 'gbtree', 'selector': 'none', 'num_selected': 63, 'n_estimators': 865, 'early_stopping_rounds': 35}. Best is trial 21 with value: 0.005340167057966362.\n",
      "[I 2024-05-05 17:56:56,609] Trial 39 finished with value: 0.007718686255102528 and parameters: {'lambda': 0.056234132519034884, 'alpha': 5.623413251903487e-07, 'colsample_bytree': 0.275, 'subsample': 0.8250000000000001, 'learning_rate': 0.5359375, 'max_depth': 6, 'min_child_weight': 79, 'feature_selector': 'shuffle', 'boosting': 'gblinear', 'selector': 'none', 'num_selected': 17, 'n_estimators': 270, 'early_stopping_rounds': 46}. Best is trial 21 with value: 0.005340167057966362.\n"
     ]
    },
    {
     "name": "stdout",
     "output_type": "stream",
     "text": [
      "QCM optimization finished in 0:01:08.273258\n",
      "Saving QMC sampler to file ./NN_search/426_convnextbase_003_998_1_1_2_X4_mean_qmc_sampler.pickle\n",
      "Starting optimization for X4_mean with gene sampler\n"
     ]
    },
    {
     "name": "stderr",
     "output_type": "stream",
     "text": [
      "[I 2024-05-05 17:56:57,246] Trial 40 finished with value: 0.012719271123391197 and parameters: {'lambda': 4.2498823591800484e-05, 'alpha': 1.0492936586153866e-08, 'colsample_bytree': 0.11563079465127198, 'subsample': 0.4576783617274871, 'learning_rate': 0.8725350841882131, 'max_depth': 17, 'min_child_weight': 49, 'feature_selector': 'greedy', 'boosting': 'dart', 'selector': 'f_regression', 'num_selected': 32, 'n_estimators': 487, 'early_stopping_rounds': 24}. Best is trial 21 with value: 0.005340167057966362.\n",
      "[I 2024-05-05 17:56:57,737] Trial 41 finished with value: 0.005889072513273662 and parameters: {'lambda': 8.576350798591015e-08, 'alpha': 0.11220639241553058, 'colsample_bytree': 0.19042746246364653, 'subsample': 0.6644485359606103, 'learning_rate': 0.4775635118331565, 'max_depth': 4, 'min_child_weight': 59, 'feature_selector': 'random', 'boosting': 'gbtree', 'selector': 'f_regression', 'num_selected': 27, 'n_estimators': 967, 'early_stopping_rounds': 26}. Best is trial 21 with value: 0.005340167057966362.\n",
      "[I 2024-05-05 17:57:13,140] Trial 42 finished with value: 0.005571118039597298 and parameters: {'lambda': 0.00011223710974626404, 'alpha': 0.0412843193548971, 'colsample_bytree': 0.41940526608394135, 'subsample': 0.8860296178893018, 'learning_rate': 0.1702698049330857, 'max_depth': 8, 'min_child_weight': 74, 'feature_selector': 'cyclic', 'boosting': 'gblinear', 'selector': 'mutual_info_regression', 'num_selected': 82, 'n_estimators': 986, 'early_stopping_rounds': 37}. Best is trial 21 with value: 0.005340167057966362.\n",
      "[I 2024-05-05 17:57:13,883] Trial 43 finished with value: 0.0059447722624650185 and parameters: {'lambda': 0.0008193990518387796, 'alpha': 0.44503172430712107, 'colsample_bytree': 0.1310188549765229, 'subsample': 0.699407847059781, 'learning_rate': 0.2440057917296487, 'max_depth': 12, 'min_child_weight': 69, 'feature_selector': 'greedy', 'boosting': 'dart', 'selector': 'f_regression', 'num_selected': 62, 'n_estimators': 34, 'early_stopping_rounds': 16}. Best is trial 21 with value: 0.005340167057966362.\n",
      "[I 2024-05-05 17:57:15,159] Trial 44 finished with value: 0.006351294149184407 and parameters: {'lambda': 4.584240137530537e-08, 'alpha': 2.7848768707620412e-08, 'colsample_bytree': 0.23829096904745362, 'subsample': 0.4620854643443856, 'learning_rate': 0.19726223786446193, 'max_depth': 17, 'min_child_weight': 99, 'feature_selector': 'shuffle', 'boosting': 'gblinear', 'selector': 'f_regression', 'num_selected': 10, 'n_estimators': 142, 'early_stopping_rounds': 31}. Best is trial 21 with value: 0.005340167057966362.\n",
      "[I 2024-05-05 17:57:30,224] Trial 45 finished with value: 0.010587765714102424 and parameters: {'lambda': 0.2809884612704, 'alpha': 9.540364946094552e-06, 'colsample_bytree': 0.46813877000815163, 'subsample': 0.7908792419526036, 'learning_rate': 0.6877644260261279, 'max_depth': 10, 'min_child_weight': 6, 'feature_selector': 'random', 'boosting': 'dart', 'selector': 'mutual_info_regression', 'num_selected': 63, 'n_estimators': 35, 'early_stopping_rounds': 13}. Best is trial 21 with value: 0.005340167057966362.\n",
      "[I 2024-05-05 17:57:30,831] Trial 46 finished with value: 0.006003930051608786 and parameters: {'lambda': 9.040574978782699e-05, 'alpha': 1.8176966236726662e-06, 'colsample_bytree': 0.3555028515321227, 'subsample': 0.603913103502815, 'learning_rate': 0.22580174596644587, 'max_depth': 8, 'min_child_weight': 54, 'feature_selector': 'shuffle', 'boosting': 'gblinear', 'selector': 'none', 'num_selected': 66, 'n_estimators': 17, 'early_stopping_rounds': 43}. Best is trial 21 with value: 0.005340167057966362.\n",
      "[I 2024-05-05 17:57:31,437] Trial 47 finished with value: 0.008267750132389501 and parameters: {'lambda': 0.014411774967172674, 'alpha': 3.517225310112279e-07, 'colsample_bytree': 0.2631321020401985, 'subsample': 0.755378265668549, 'learning_rate': 0.5551496435499504, 'max_depth': 9, 'min_child_weight': 29, 'feature_selector': 'random', 'boosting': 'gblinear', 'selector': 'f_regression', 'num_selected': 172, 'n_estimators': 165, 'early_stopping_rounds': 16}. Best is trial 21 with value: 0.005340167057966362.\n",
      "[I 2024-05-05 17:57:32,648] Trial 48 finished with value: 0.015470361004237775 and parameters: {'lambda': 0.1682900590463572, 'alpha': 3.4112274848735054e-05, 'colsample_bytree': 0.7296116769086107, 'subsample': 0.5143303800611863, 'learning_rate': 0.7314305925075147, 'max_depth': 20, 'min_child_weight': 90, 'feature_selector': 'cyclic', 'boosting': 'gbtree', 'selector': 'none', 'num_selected': 161, 'n_estimators': 206, 'early_stopping_rounds': 38}. Best is trial 21 with value: 0.005340167057966362.\n",
      "[I 2024-05-05 17:57:34,990] Trial 49 finished with value: 0.0063617040998297115 and parameters: {'lambda': 1.2082218614053168e-05, 'alpha': 1.2027155431850574e-08, 'colsample_bytree': 0.5954894585154797, 'subsample': 0.8766865487346748, 'learning_rate': 0.18568269539953947, 'max_depth': 13, 'min_child_weight': 51, 'feature_selector': 'random', 'boosting': 'dart', 'selector': 'none', 'num_selected': 169, 'n_estimators': 280, 'early_stopping_rounds': 47}. Best is trial 21 with value: 0.005340167057966362.\n"
     ]
    },
    {
     "name": "stdout",
     "output_type": "stream",
     "text": [
      "Gene optimization finished in 0:00:38.380932\n",
      "Saving gene sampler to file ./NN_search/426_convnextbase_003_998_1_1_2_X4_mean_genesampler.pickle\n",
      "Starting optimization for X4_mean with TPE sampler\n"
     ]
    },
    {
     "name": "stderr",
     "output_type": "stream",
     "text": [
      "[I 2024-05-05 17:57:35,758] Trial 50 finished with value: 0.005359784507792078 and parameters: {'lambda': 0.001237218877774996, 'alpha': 2.5119664347921785e-08, 'colsample_bytree': 0.38555164530036623, 'subsample': 0.6335506472014392, 'learning_rate': 0.1069535561759053, 'max_depth': 4, 'min_child_weight': 99, 'feature_selector': 'shuffle', 'boosting': 'gblinear', 'selector': 'f_regression', 'num_selected': 149, 'n_estimators': 950, 'early_stopping_rounds': 28}. Best is trial 21 with value: 0.005340167057966362.\n",
      "[I 2024-05-05 17:57:50,873] Trial 51 finished with value: 0.005481788818519207 and parameters: {'lambda': 0.7037531734794105, 'alpha': 5.545745527833352e-06, 'colsample_bytree': 0.6577205581858975, 'subsample': 0.6794587362609297, 'learning_rate': 0.2697555226204822, 'max_depth': 2, 'min_child_weight': 98, 'feature_selector': 'cyclic', 'boosting': 'gbtree', 'selector': 'mutual_info_regression', 'num_selected': 71, 'n_estimators': 856, 'early_stopping_rounds': 15}. Best is trial 21 with value: 0.005340167057966362.\n",
      "[I 2024-05-05 17:57:51,998] Trial 52 finished with value: 0.005633955489396445 and parameters: {'lambda': 0.011037615783163838, 'alpha': 6.169021929422814e-07, 'colsample_bytree': 0.4470317512330011, 'subsample': 0.8125310883839618, 'learning_rate': 0.1335307354750665, 'max_depth': 10, 'min_child_weight': 94, 'feature_selector': 'shuffle', 'boosting': 'gblinear', 'selector': 'f_regression', 'num_selected': 137, 'n_estimators': 528, 'early_stopping_rounds': 24}. Best is trial 21 with value: 0.005340167057966362.\n",
      "[I 2024-05-05 17:57:52,760] Trial 53 finished with value: 0.00540230746408285 and parameters: {'lambda': 0.011085628475184652, 'alpha': 2.9432644076427503e-08, 'colsample_bytree': 0.5000837101343056, 'subsample': 0.7829343270045139, 'learning_rate': 0.09371876559389505, 'max_depth': 2, 'min_child_weight': 78, 'feature_selector': 'shuffle', 'boosting': 'gbtree', 'selector': 'none', 'num_selected': 127, 'n_estimators': 744, 'early_stopping_rounds': 14}. Best is trial 21 with value: 0.005340167057966362.\n",
      "[I 2024-05-05 17:57:53,670] Trial 54 finished with value: 0.006148460140491222 and parameters: {'lambda': 0.41358649053910773, 'alpha': 3.182835340738612e-05, 'colsample_bytree': 0.6756797111008599, 'subsample': 0.3546565701465394, 'learning_rate': 0.21340901359461295, 'max_depth': 8, 'min_child_weight': 94, 'feature_selector': 'shuffle', 'boosting': 'gbtree', 'selector': 'none', 'num_selected': 100, 'n_estimators': 351, 'early_stopping_rounds': 23}. Best is trial 21 with value: 0.005340167057966362.\n",
      "[I 2024-05-05 17:57:54,821] Trial 55 finished with value: 0.005359633595707585 and parameters: {'lambda': 5.677331884000508e-05, 'alpha': 3.941632338399973e-08, 'colsample_bytree': 0.20857593705099337, 'subsample': 0.5576604926083676, 'learning_rate': 0.05752966434497276, 'max_depth': 2, 'min_child_weight': 86, 'feature_selector': 'random', 'boosting': 'gblinear', 'selector': 'none', 'num_selected': 169, 'n_estimators': 586, 'early_stopping_rounds': 29}. Best is trial 21 with value: 0.005340167057966362.\n",
      "[I 2024-05-05 17:57:55,464] Trial 56 finished with value: 0.005789696003607303 and parameters: {'lambda': 2.5683656748628437e-06, 'alpha': 8.77452354600494e-07, 'colsample_bytree': 0.23300814097935552, 'subsample': 0.5143219880226858, 'learning_rate': 0.23885617233676593, 'max_depth': 3, 'min_child_weight': 97, 'feature_selector': 'random', 'boosting': 'gblinear', 'selector': 'none', 'num_selected': 118, 'n_estimators': 434, 'early_stopping_rounds': 35}. Best is trial 21 with value: 0.005340167057966362.\n",
      "[I 2024-05-05 17:58:10,789] Trial 57 finished with value: 0.005379199772651221 and parameters: {'lambda': 2.3865843129215905e-05, 'alpha': 4.208598220623454e-06, 'colsample_bytree': 0.560910995877973, 'subsample': 0.7342922067633437, 'learning_rate': 0.08391655354696194, 'max_depth': 2, 'min_child_weight': 94, 'feature_selector': 'thrifty', 'boosting': 'gblinear', 'selector': 'mutual_info_regression', 'num_selected': 144, 'n_estimators': 599, 'early_stopping_rounds': 19}. Best is trial 21 with value: 0.005340167057966362.\n",
      "[I 2024-05-05 17:58:26,598] Trial 58 finished with value: 0.00528117241026674 and parameters: {'lambda': 6.54428600324243e-07, 'alpha': 1.4269242343350145e-06, 'colsample_bytree': 0.8470215547037809, 'subsample': 0.8676309178164017, 'learning_rate': 0.03938488615077708, 'max_depth': 3, 'min_child_weight': 99, 'feature_selector': 'thrifty', 'boosting': 'gblinear', 'selector': 'mutual_info_regression', 'num_selected': 105, 'n_estimators': 250, 'early_stopping_rounds': 9}. Best is trial 58 with value: 0.00528117241026674.\n",
      "[I 2024-05-05 17:58:42,044] Trial 59 finished with value: 0.005786349774236724 and parameters: {'lambda': 2.5912962511200057e-08, 'alpha': 1.0218597952404018e-05, 'colsample_bytree': 0.7838472322842223, 'subsample': 0.6316113287505192, 'learning_rate': 0.029513328939972515, 'max_depth': 5, 'min_child_weight': 58, 'feature_selector': 'thrifty', 'boosting': 'gblinear', 'selector': 'mutual_info_regression', 'num_selected': 79, 'n_estimators': 77, 'early_stopping_rounds': 12}. Best is trial 58 with value: 0.00528117241026674.\n"
     ]
    },
    {
     "name": "stdout",
     "output_type": "stream",
     "text": [
      "TPE optimization finished in 0:01:07.052412\n",
      "Saving TPE sampler to file ./NN_search/426_convnextbase_003_998_1_1_2_X4_mean_tpe_sampler.pickle\n",
      "Optimization finished in 0:02:53.927336\n",
      "Cross-validated MSE: 0.005799572228717827 for X4_mean\n",
      "Best parameters for X4_mean:  {'lambda': 6.54428600324243e-07, 'alpha': 1.4269242343350145e-06, 'colsample_bytree': 0.8470215547037809, 'subsample': 0.8676309178164017, 'learning_rate': 0.03938488615077708, 'max_depth': 3, 'min_child_weight': 99, 'feature_selector': 'thrifty', 'boosting': 'gblinear', 'selector': 'mutual_info_regression', 'num_selected': 105, 'n_estimators': 250, 'early_stopping_rounds': 9}\n",
      "Train data shape without selector 182\n",
      "Time taken for crosvalidation: 0:05:50.294007\n",
      "Fitting model for X4_mean with best parameters\n",
      "Selector is mutual_info_regression with num selected 105\n"
     ]
    },
    {
     "name": "stderr",
     "output_type": "stream",
     "text": [
      "[I 2024-05-05 18:06:06,827] Using an existing study with name '426_convnextbase_003_998_1' instead of creating a new one.\n"
     ]
    },
    {
     "name": "stdout",
     "output_type": "stream",
     "text": [
      "Time taken for fitting whole data: 0:01:34.139886\n",
      "Time taken: 0:10:18.691775\n",
      "\n",
      "\n",
      "Optimizing model for X11_mean using train fold 1 and validation fold 2\n",
      "\n",
      "\n",
      "Loading gene sampler from file <_io.BufferedReader name='./NN_search/426_convnextbase_003_998_1_1_2_X11_mean_genesampler.pickle'>\n",
      "Loading QMC sampler from file <_io.BufferedReader name='./NN_search/426_convnextbase_003_998_1_1_2_X11_mean_qmc_sampler.pickle'>\n",
      "Loading TPE sampler from file <_io.BufferedReader name='./NN_search/426_convnextbase_003_998_1_1_2_X11_mean_tpe_sampler.pickle'>\n",
      "Starting optimization for X11_mean with qmc sampler\n"
     ]
    },
    {
     "name": "stderr",
     "output_type": "stream",
     "text": [
      "[I 2024-05-05 18:06:08,473] Trial 30 finished with value: 18.02338038206304 and parameters: {'lambda': 0.0031622776601683764, 'alpha': 0.0316227766016838, 'colsample_bytree': 0.45000000000000007, 'subsample': 0.85, 'learning_rate': 0.071875, 'max_depth': 17, 'min_child_weight': 94, 'feature_selector': 'shuffle', 'boosting': 'gblinear', 'selector': 'f_regression', 'num_selected': 80, 'n_estimators': 73, 'early_stopping_rounds': 42}. Best is trial 26 with value: 16.734624746503638.\n",
      "[I 2024-05-05 18:06:09,523] Trial 31 finished with value: 30.531034950484234 and parameters: {'lambda': 0.31622776601683833, 'alpha': 3.16227766016837e-08, 'colsample_bytree': 0.65, 'subsample': 0.25, 'learning_rate': 0.319375, 'max_depth': 12, 'min_child_weight': 19, 'feature_selector': 'cyclic', 'boosting': 'gblinear', 'selector': 'none', 'num_selected': 34, 'n_estimators': 23, 'early_stopping_rounds': 30}. Best is trial 26 with value: 16.734624746503638.\n",
      "[I 2024-05-05 18:06:24,476] Trial 32 finished with value: 21.36705741043752 and parameters: {'lambda': 3.162277660168375e-05, 'alpha': 0.00031622776601683783, 'colsample_bytree': 0.25, 'subsample': 0.65, 'learning_rate': 0.814375, 'max_depth': 3, 'min_child_weight': 69, 'feature_selector': 'thrifty', 'boosting': 'dart', 'selector': 'mutual_info_regression', 'num_selected': 125, 'n_estimators': 233, 'early_stopping_rounds': 7}. Best is trial 26 with value: 16.734624746503638.\n",
      "[I 2024-05-05 18:06:39,417] Trial 33 finished with value: 57.055778700577434 and parameters: {'lambda': 3.162277660168377e-06, 'alpha': 3.1622776601683734e-07, 'colsample_bytree': 0.35, 'subsample': 0.55, 'learning_rate': 0.938125, 'max_depth': 10, 'min_child_weight': 7, 'feature_selector': 'shuffle', 'boosting': 'gblinear', 'selector': 'mutual_info_regression', 'num_selected': 12, 'n_estimators': 13, 'early_stopping_rounds': 48}. Best is trial 26 with value: 16.734624746503638.\n",
      "[I 2024-05-05 18:06:54,625] Trial 34 finished with value: 30.06342412302479 and parameters: {'lambda': 0.0316227766016838, 'alpha': 0.0031622776601683764, 'colsample_bytree': 0.75, 'subsample': 0.15000000000000002, 'learning_rate': 0.443125, 'max_depth': 19, 'min_child_weight': 57, 'feature_selector': 'greedy', 'boosting': 'dart', 'selector': 'mutual_info_regression', 'num_selected': 102, 'n_estimators': 130, 'early_stopping_rounds': 25}. Best is trial 26 with value: 16.734624746503638.\n",
      "[I 2024-05-05 18:06:55,652] Trial 35 finished with value: 19.62371342131533 and parameters: {'lambda': 0.00031622776601683783, 'alpha': 3.162277660168375e-05, 'colsample_bytree': 0.15000000000000002, 'subsample': 0.75, 'learning_rate': 0.195625, 'max_depth': 15, 'min_child_weight': 32, 'feature_selector': 'cyclic', 'boosting': 'gbtree', 'selector': 'f_regression', 'num_selected': 148, 'n_estimators': 418, 'early_stopping_rounds': 13}. Best is trial 26 with value: 16.734624746503638.\n",
      "[I 2024-05-05 18:07:10,869] Trial 36 finished with value: 27.168652540524693 and parameters: {'lambda': 3.16227766016837e-08, 'alpha': 0.31622776601683833, 'colsample_bytree': 0.55, 'subsample': 0.35, 'learning_rate': 0.690625, 'max_depth': 5, 'min_child_weight': 82, 'feature_selector': 'greedy', 'boosting': 'gbtree', 'selector': 'mutual_info_regression', 'num_selected': 57, 'n_estimators': 41, 'early_stopping_rounds': 36}. Best is trial 26 with value: 16.734624746503638.\n",
      "[I 2024-05-05 18:07:12,050] Trial 37 finished with value: 21.743584195609277 and parameters: {'lambda': 5.6234132519034806e-08, 'alpha': 5.6234132519034893e-05, 'colsample_bytree': 0.475, 'subsample': 0.625, 'learning_rate': 0.2884375, 'max_depth': 20, 'min_child_weight': 54, 'feature_selector': 'shuffle', 'boosting': 'dart', 'selector': 'none', 'num_selected': 153, 'n_estimators': 84, 'early_stopping_rounds': 12}. Best is trial 26 with value: 16.734624746503638.\n",
      "[I 2024-05-05 18:07:13,174] Trial 38 finished with value: 1301.7327876633462 and parameters: {'lambda': 0.0005623413251903486, 'alpha': 0.5623413251903484, 'colsample_bytree': 0.875, 'subsample': 0.225, 'learning_rate': 0.7834375, 'max_depth': 10, 'min_child_weight': 4, 'feature_selector': 'cyclic', 'boosting': 'gbtree', 'selector': 'none', 'num_selected': 63, 'n_estimators': 865, 'early_stopping_rounds': 35}. Best is trial 26 with value: 16.734624746503638.\n",
      "[I 2024-05-05 18:07:28,455] Trial 39 finished with value: 21.793350116723893 and parameters: {'lambda': 0.056234132519034884, 'alpha': 5.623413251903487e-07, 'colsample_bytree': 0.275, 'subsample': 0.8250000000000001, 'learning_rate': 0.5359375, 'max_depth': 6, 'min_child_weight': 79, 'feature_selector': 'random', 'boosting': 'dart', 'selector': 'mutual_info_regression', 'num_selected': 17, 'n_estimators': 270, 'early_stopping_rounds': 46}. Best is trial 26 with value: 16.734624746503638.\n"
     ]
    },
    {
     "name": "stdout",
     "output_type": "stream",
     "text": [
      "QCM optimization finished in 0:01:21.623417\n",
      "Saving QMC sampler to file ./NN_search/426_convnextbase_003_998_1_1_2_X11_mean_qmc_sampler.pickle\n",
      "Starting optimization for X11_mean with gene sampler\n"
     ]
    },
    {
     "name": "stderr",
     "output_type": "stream",
     "text": [
      "[I 2024-05-05 18:07:28,962] Trial 40 finished with value: 20.005922983165572 and parameters: {'lambda': 0.00016672547771566718, 'alpha': 0.005906736019114186, 'colsample_bytree': 0.7497930419052727, 'subsample': 0.4547019463524856, 'learning_rate': 0.5529079129893028, 'max_depth': 2, 'min_child_weight': 97, 'feature_selector': 'thrifty', 'boosting': 'gblinear', 'selector': 'f_regression', 'num_selected': 82, 'n_estimators': 246, 'early_stopping_rounds': 16}. Best is trial 26 with value: 16.734624746503638.\n",
      "[I 2024-05-05 18:07:44,085] Trial 41 finished with value: 36.78236753078171 and parameters: {'lambda': 4.2230714704160367e-07, 'alpha': 7.764432359755265e-07, 'colsample_bytree': 0.20295067093288913, 'subsample': 0.6547960822510221, 'learning_rate': 0.6720193415700016, 'max_depth': 20, 'min_child_weight': 19, 'feature_selector': 'greedy', 'boosting': 'dart', 'selector': 'mutual_info_regression', 'num_selected': 132, 'n_estimators': 10, 'early_stopping_rounds': 27}. Best is trial 26 with value: 16.734624746503638.\n",
      "[I 2024-05-05 18:07:59,842] Trial 42 finished with value: 36.54737119601244 and parameters: {'lambda': 1.9078501097009263e-06, 'alpha': 0.0071051869672551955, 'colsample_bytree': 0.3776206230788207, 'subsample': 0.8904039132953021, 'learning_rate': 0.7210094366807633, 'max_depth': 19, 'min_child_weight': 50, 'feature_selector': 'thrifty', 'boosting': 'gblinear', 'selector': 'mutual_info_regression', 'num_selected': 76, 'n_estimators': 47, 'early_stopping_rounds': 49}. Best is trial 26 with value: 16.734624746503638.\n",
      "[I 2024-05-05 18:08:14,801] Trial 43 finished with value: 18.6477455481065 and parameters: {'lambda': 0.01464209384123914, 'alpha': 0.0025913715314832427, 'colsample_bytree': 0.594728284664884, 'subsample': 0.6284532282771953, 'learning_rate': 0.18278942296004738, 'max_depth': 5, 'min_child_weight': 7, 'feature_selector': 'shuffle', 'boosting': 'gbtree', 'selector': 'mutual_info_regression', 'num_selected': 156, 'n_estimators': 11, 'early_stopping_rounds': 21}. Best is trial 26 with value: 16.734624746503638.\n",
      "[I 2024-05-05 18:08:30,282] Trial 44 finished with value: 23.89876397651037 and parameters: {'lambda': 3.636300444853075e-07, 'alpha': 1.1932620987348402e-07, 'colsample_bytree': 0.8849751844950806, 'subsample': 0.35443685037702855, 'learning_rate': 0.29895854569388397, 'max_depth': 14, 'min_child_weight': 43, 'feature_selector': 'thrifty', 'boosting': 'dart', 'selector': 'mutual_info_regression', 'num_selected': 27, 'n_estimators': 231, 'early_stopping_rounds': 35}. Best is trial 26 with value: 16.734624746503638.\n",
      "[I 2024-05-05 18:08:45,775] Trial 45 finished with value: 19.32940284036584 and parameters: {'lambda': 0.0008706375298265114, 'alpha': 9.092098977308595e-07, 'colsample_bytree': 0.3561674254413638, 'subsample': 0.3212873713542493, 'learning_rate': 0.15588204705584394, 'max_depth': 20, 'min_child_weight': 36, 'feature_selector': 'random', 'boosting': 'gbtree', 'selector': 'mutual_info_regression', 'num_selected': 15, 'n_estimators': 455, 'early_stopping_rounds': 18}. Best is trial 26 with value: 16.734624746503638.\n",
      "[I 2024-05-05 18:09:03,259] Trial 46 finished with value: 24.33107461996962 and parameters: {'lambda': 0.009399374057215422, 'alpha': 2.1848683904515354e-06, 'colsample_bytree': 0.7935341865920028, 'subsample': 0.8089934176292054, 'learning_rate': 0.20487339843709393, 'max_depth': 15, 'min_child_weight': 2, 'feature_selector': 'shuffle', 'boosting': 'gblinear', 'selector': 'mutual_info_regression', 'num_selected': 23, 'n_estimators': 642, 'early_stopping_rounds': 41}. Best is trial 26 with value: 16.734624746503638.\n",
      "[I 2024-05-05 18:09:04,203] Trial 47 finished with value: 19.146065647470106 and parameters: {'lambda': 0.3601768283848571, 'alpha': 0.00016597032449597687, 'colsample_bytree': 0.8454178387822529, 'subsample': 0.8337589145730072, 'learning_rate': 0.2225385851183687, 'max_depth': 8, 'min_child_weight': 58, 'feature_selector': 'shuffle', 'boosting': 'gblinear', 'selector': 'f_regression', 'num_selected': 142, 'n_estimators': 398, 'early_stopping_rounds': 34}. Best is trial 26 with value: 16.734624746503638.\n",
      "[I 2024-05-05 18:09:19,300] Trial 48 finished with value: 28.574630820052864 and parameters: {'lambda': 0.00029064648005687146, 'alpha': 0.0021176859984142708, 'colsample_bytree': 0.4619344719563252, 'subsample': 0.6650533903862136, 'learning_rate': 0.7146669983987152, 'max_depth': 10, 'min_child_weight': 61, 'feature_selector': 'shuffle', 'boosting': 'dart', 'selector': 'mutual_info_regression', 'num_selected': 79, 'n_estimators': 21, 'early_stopping_rounds': 28}. Best is trial 26 with value: 16.734624746503638.\n",
      "[I 2024-05-05 18:09:19,961] Trial 49 finished with value: 22.89492508150851 and parameters: {'lambda': 0.00022479417917332296, 'alpha': 1.8726729114185956e-08, 'colsample_bytree': 0.6245777790408323, 'subsample': 0.25826992374403873, 'learning_rate': 0.26974244840487915, 'max_depth': 5, 'min_child_weight': 16, 'feature_selector': 'thrifty', 'boosting': 'gbtree', 'selector': 'f_regression', 'num_selected': 113, 'n_estimators': 68, 'early_stopping_rounds': 38}. Best is trial 26 with value: 16.734624746503638.\n"
     ]
    },
    {
     "name": "stdout",
     "output_type": "stream",
     "text": [
      "Gene optimization finished in 0:01:51.504862\n",
      "Saving gene sampler to file ./NN_search/426_convnextbase_003_998_1_1_2_X11_mean_genesampler.pickle\n",
      "Starting optimization for X11_mean with TPE sampler\n"
     ]
    },
    {
     "name": "stderr",
     "output_type": "stream",
     "text": [
      "[I 2024-05-05 18:09:20,561] Trial 50 finished with value: 17.540012019265777 and parameters: {'lambda': 2.2796341721498006e-08, 'alpha': 0.006991800440140998, 'colsample_bytree': 0.8618311861479878, 'subsample': 0.7240850382359543, 'learning_rate': 0.20497137383195987, 'max_depth': 6, 'min_child_weight': 37, 'feature_selector': 'cyclic', 'boosting': 'gblinear', 'selector': 'f_regression', 'num_selected': 35, 'n_estimators': 103, 'early_stopping_rounds': 11}. Best is trial 26 with value: 16.734624746503638.\n",
      "[I 2024-05-05 18:09:21,223] Trial 51 finished with value: 18.411663468623658 and parameters: {'lambda': 2.505344672296442e-07, 'alpha': 0.3019665877850606, 'colsample_bytree': 0.8061623333337632, 'subsample': 0.6494907006731959, 'learning_rate': 0.22899528170684988, 'max_depth': 8, 'min_child_weight': 44, 'feature_selector': 'cyclic', 'boosting': 'gblinear', 'selector': 'f_regression', 'num_selected': 81, 'n_estimators': 80, 'early_stopping_rounds': 8}. Best is trial 26 with value: 16.734624746503638.\n",
      "[I 2024-05-05 18:09:21,981] Trial 52 finished with value: 17.10422633153835 and parameters: {'lambda': 2.4435013024039802e-08, 'alpha': 4.423876446198838e-06, 'colsample_bytree': 0.7449044857368243, 'subsample': 0.6082474801481348, 'learning_rate': 0.06826072257287555, 'max_depth': 4, 'min_child_weight': 84, 'feature_selector': 'random', 'boosting': 'dart', 'selector': 'f_regression', 'num_selected': 44, 'n_estimators': 147, 'early_stopping_rounds': 11}. Best is trial 26 with value: 16.734624746503638.\n",
      "[I 2024-05-05 18:09:23,043] Trial 53 finished with value: 17.446407758045844 and parameters: {'lambda': 6.766586178208977e-08, 'alpha': 9.982348143945674e-08, 'colsample_bytree': 0.6939303941987194, 'subsample': 0.7326872663892736, 'learning_rate': 0.07396904148615636, 'max_depth': 6, 'min_child_weight': 69, 'feature_selector': 'random', 'boosting': 'dart', 'selector': 'none', 'num_selected': 59, 'n_estimators': 69, 'early_stopping_rounds': 6}. Best is trial 26 with value: 16.734624746503638.\n",
      "[I 2024-05-05 18:09:23,671] Trial 54 finished with value: 17.699628789814465 and parameters: {'lambda': 1.3461147830099216e-08, 'alpha': 2.2918474053158795e-05, 'colsample_bytree': 0.7339190764993982, 'subsample': 0.4323885920633257, 'learning_rate': 0.1592606363220621, 'max_depth': 4, 'min_child_weight': 73, 'feature_selector': 'random', 'boosting': 'dart', 'selector': 'f_regression', 'num_selected': 33, 'n_estimators': 107, 'early_stopping_rounds': 20}. Best is trial 26 with value: 16.734624746503638.\n",
      "[I 2024-05-05 18:09:24,332] Trial 55 finished with value: 17.419121892843815 and parameters: {'lambda': 1.1338513367089978e-06, 'alpha': 1.695237135105177e-08, 'colsample_bytree': 0.6440813630325526, 'subsample': 0.8050027301998008, 'learning_rate': 0.14692273683385484, 'max_depth': 5, 'min_child_weight': 72, 'feature_selector': 'random', 'boosting': 'gbtree', 'selector': 'none', 'num_selected': 102, 'n_estimators': 40, 'early_stopping_rounds': 8}. Best is trial 26 with value: 16.734624746503638.\n",
      "[I 2024-05-05 18:09:24,730] Trial 56 finished with value: 42.320992519890936 and parameters: {'lambda': 0.00038973643518741796, 'alpha': 3.9641553534186504e-07, 'colsample_bytree': 0.7110766906965232, 'subsample': 0.7655792307627901, 'learning_rate': 0.02820283477128356, 'max_depth': 2, 'min_child_weight': 94, 'feature_selector': 'random', 'boosting': 'gbtree', 'selector': 'none', 'num_selected': 132, 'n_estimators': 20, 'early_stopping_rounds': 10}. Best is trial 26 with value: 16.734624746503638.\n",
      "[I 2024-05-05 18:09:25,167] Trial 57 finished with value: 18.069069989291677 and parameters: {'lambda': 5.5789517085506375e-08, 'alpha': 2.0233221174460144e-08, 'colsample_bytree': 0.5726269803430603, 'subsample': 0.8475855413968212, 'learning_rate': 0.3524070679728847, 'max_depth': 2, 'min_child_weight': 65, 'feature_selector': 'shuffle', 'boosting': 'gbtree', 'selector': 'none', 'num_selected': 100, 'n_estimators': 20, 'early_stopping_rounds': 23}. Best is trial 26 with value: 16.734624746503638.\n",
      "[I 2024-05-05 18:09:25,839] Trial 58 finished with value: 19.625575886358735 and parameters: {'lambda': 1.949602793405814e-07, 'alpha': 5.335282734757519e-08, 'colsample_bytree': 0.8272554026331543, 'subsample': 0.8946676805287427, 'learning_rate': 0.07982231013049806, 'max_depth': 7, 'min_child_weight': 67, 'feature_selector': 'random', 'boosting': 'gbtree', 'selector': 'f_regression', 'num_selected': 111, 'n_estimators': 26, 'early_stopping_rounds': 11}. Best is trial 26 with value: 16.734624746503638.\n",
      "[I 2024-05-05 18:09:26,594] Trial 59 finished with value: 17.365125717828757 and parameters: {'lambda': 4.5572303017756226e-08, 'alpha': 0.0005431057559706954, 'colsample_bytree': 0.6914645623864147, 'subsample': 0.8482283932294741, 'learning_rate': 0.174638800254057, 'max_depth': 4, 'min_child_weight': 78, 'feature_selector': 'thrifty', 'boosting': 'dart', 'selector': 'none', 'num_selected': 39, 'n_estimators': 83, 'early_stopping_rounds': 28}. Best is trial 26 with value: 16.734624746503638.\n"
     ]
    },
    {
     "name": "stdout",
     "output_type": "stream",
     "text": [
      "TPE optimization finished in 0:00:06.632936\n",
      "Saving TPE sampler to file ./NN_search/426_convnextbase_003_998_1_1_2_X11_mean_tpe_sampler.pickle\n",
      "Optimization finished in 0:03:19.789392\n",
      "Cross-validated MSE: 18.226619487158406 for X11_mean\n",
      "Best parameters for X11_mean:  {'lambda': 1.5430235778155575e-08, 'alpha': 0.0029855762290906147, 'colsample_bytree': 0.7765525971815931, 'subsample': 0.7763679889102095, 'learning_rate': 0.1262360744430131, 'max_depth': 4, 'min_child_weight': 65, 'feature_selector': 'cyclic', 'boosting': 'gblinear', 'selector': 'f_regression', 'num_selected': 28, 'n_estimators': 148, 'early_stopping_rounds': 18}\n",
      "Train data shape without selector 182\n",
      "Time taken for crosvalidation: 0:00:09.175508\n",
      "Fitting model for X11_mean with best parameters\n",
      "Selector is f_regression with num selected 28\n"
     ]
    },
    {
     "name": "stderr",
     "output_type": "stream",
     "text": [
      "[I 2024-05-05 18:09:37,803] Using an existing study with name '426_convnextbase_003_998_1' instead of creating a new one.\n"
     ]
    },
    {
     "name": "stdout",
     "output_type": "stream",
     "text": [
      "Time taken for fitting whole data: 0:00:01.788543\n",
      "Time taken: 0:13:49.667464\n",
      "\n",
      "\n",
      "Optimizing model for X18_mean using train fold 1 and validation fold 2\n",
      "\n",
      "\n",
      "Loading gene sampler from file <_io.BufferedReader name='./NN_search/426_convnextbase_003_998_1_1_2_X18_mean_genesampler.pickle'>\n",
      "Loading QMC sampler from file <_io.BufferedReader name='./NN_search/426_convnextbase_003_998_1_1_2_X18_mean_qmc_sampler.pickle'>\n",
      "Loading TPE sampler from file <_io.BufferedReader name='./NN_search/426_convnextbase_003_998_1_1_2_X18_mean_tpe_sampler.pickle'>\n",
      "Starting optimization for X18_mean with qmc sampler\n"
     ]
    },
    {
     "name": "stderr",
     "output_type": "stream",
     "text": [
      "[I 2024-05-05 18:09:39,922] Trial 30 finished with value: 8.747147238887496 and parameters: {'lambda': 0.0031622776601683764, 'alpha': 0.0316227766016838, 'colsample_bytree': 0.45000000000000007, 'subsample': 0.85, 'learning_rate': 0.071875, 'max_depth': 17, 'min_child_weight': 94, 'feature_selector': 'random', 'boosting': 'gblinear', 'selector': 'none', 'num_selected': 80, 'n_estimators': 73, 'early_stopping_rounds': 42}. Best is trial 30 with value: 8.747147238887496.\n",
      "[I 2024-05-05 18:09:40,526] Trial 31 finished with value: 12.409154848032996 and parameters: {'lambda': 0.31622776601683833, 'alpha': 3.16227766016837e-08, 'colsample_bytree': 0.65, 'subsample': 0.25, 'learning_rate': 0.319375, 'max_depth': 12, 'min_child_weight': 19, 'feature_selector': 'greedy', 'boosting': 'gblinear', 'selector': 'f_regression', 'num_selected': 34, 'n_estimators': 23, 'early_stopping_rounds': 30}. Best is trial 30 with value: 8.747147238887496.\n",
      "[I 2024-05-05 18:09:40,858] Trial 32 finished with value: 10.811027309174923 and parameters: {'lambda': 3.162277660168375e-05, 'alpha': 0.00031622776601683783, 'colsample_bytree': 0.25, 'subsample': 0.65, 'learning_rate': 0.814375, 'max_depth': 3, 'min_child_weight': 69, 'feature_selector': 'greedy', 'boosting': 'gblinear', 'selector': 'none', 'num_selected': 125, 'n_estimators': 233, 'early_stopping_rounds': 7}. Best is trial 30 with value: 8.747147238887496.\n",
      "[I 2024-05-05 18:09:41,503] Trial 33 finished with value: 37.68716424633922 and parameters: {'lambda': 3.162277660168377e-06, 'alpha': 3.1622776601683734e-07, 'colsample_bytree': 0.35, 'subsample': 0.55, 'learning_rate': 0.938125, 'max_depth': 10, 'min_child_weight': 7, 'feature_selector': 'greedy', 'boosting': 'gblinear', 'selector': 'none', 'num_selected': 12, 'n_estimators': 13, 'early_stopping_rounds': 48}. Best is trial 30 with value: 8.747147238887496.\n",
      "[I 2024-05-05 18:09:42,280] Trial 34 finished with value: 14.395520416632674 and parameters: {'lambda': 0.0316227766016838, 'alpha': 0.0031622776601683764, 'colsample_bytree': 0.75, 'subsample': 0.15000000000000002, 'learning_rate': 0.443125, 'max_depth': 19, 'min_child_weight': 57, 'feature_selector': 'random', 'boosting': 'gbtree', 'selector': 'none', 'num_selected': 102, 'n_estimators': 130, 'early_stopping_rounds': 25}. Best is trial 30 with value: 8.747147238887496.\n",
      "[I 2024-05-05 18:09:57,828] Trial 35 finished with value: 9.869838890642509 and parameters: {'lambda': 0.00031622776601683783, 'alpha': 3.162277660168375e-05, 'colsample_bytree': 0.15000000000000002, 'subsample': 0.75, 'learning_rate': 0.195625, 'max_depth': 15, 'min_child_weight': 32, 'feature_selector': 'shuffle', 'boosting': 'gbtree', 'selector': 'mutual_info_regression', 'num_selected': 148, 'n_estimators': 418, 'early_stopping_rounds': 13}. Best is trial 30 with value: 8.747147238887496.\n",
      "[I 2024-05-05 18:09:58,295] Trial 36 finished with value: 14.574432930537721 and parameters: {'lambda': 3.16227766016837e-08, 'alpha': 0.31622776601683833, 'colsample_bytree': 0.55, 'subsample': 0.35, 'learning_rate': 0.690625, 'max_depth': 5, 'min_child_weight': 82, 'feature_selector': 'greedy', 'boosting': 'dart', 'selector': 'f_regression', 'num_selected': 57, 'n_estimators': 41, 'early_stopping_rounds': 36}. Best is trial 30 with value: 8.747147238887496.\n",
      "[I 2024-05-05 18:10:13,453] Trial 37 finished with value: 10.262618535188881 and parameters: {'lambda': 5.6234132519034806e-08, 'alpha': 5.6234132519034893e-05, 'colsample_bytree': 0.475, 'subsample': 0.625, 'learning_rate': 0.2884375, 'max_depth': 20, 'min_child_weight': 54, 'feature_selector': 'thrifty', 'boosting': 'gbtree', 'selector': 'mutual_info_regression', 'num_selected': 153, 'n_estimators': 84, 'early_stopping_rounds': 12}. Best is trial 30 with value: 8.747147238887496.\n",
      "[I 2024-05-05 18:10:14,137] Trial 38 finished with value: 526.9111694238508 and parameters: {'lambda': 0.0005623413251903486, 'alpha': 0.5623413251903484, 'colsample_bytree': 0.875, 'subsample': 0.225, 'learning_rate': 0.7834375, 'max_depth': 10, 'min_child_weight': 4, 'feature_selector': 'cyclic', 'boosting': 'gblinear', 'selector': 'f_regression', 'num_selected': 63, 'n_estimators': 865, 'early_stopping_rounds': 35}. Best is trial 30 with value: 8.747147238887496.\n",
      "[I 2024-05-05 18:10:29,197] Trial 39 finished with value: 11.012462865448796 and parameters: {'lambda': 0.056234132519034884, 'alpha': 5.623413251903487e-07, 'colsample_bytree': 0.275, 'subsample': 0.8250000000000001, 'learning_rate': 0.5359375, 'max_depth': 6, 'min_child_weight': 79, 'feature_selector': 'thrifty', 'boosting': 'gbtree', 'selector': 'mutual_info_regression', 'num_selected': 17, 'n_estimators': 270, 'early_stopping_rounds': 46}. Best is trial 30 with value: 8.747147238887496.\n"
     ]
    },
    {
     "name": "stdout",
     "output_type": "stream",
     "text": [
      "QCM optimization finished in 0:00:51.390442\n",
      "Saving QMC sampler to file ./NN_search/426_convnextbase_003_998_1_1_2_X18_mean_qmc_sampler.pickle\n",
      "Starting optimization for X18_mean with gene sampler\n"
     ]
    },
    {
     "name": "stderr",
     "output_type": "stream",
     "text": [
      "[I 2024-05-05 18:10:30,662] Trial 40 finished with value: 11.492588449979538 and parameters: {'lambda': 9.371082090029149e-07, 'alpha': 6.447379047293763e-06, 'colsample_bytree': 0.6563612751960839, 'subsample': 0.7799545295589877, 'learning_rate': 0.32838830117116735, 'max_depth': 19, 'min_child_weight': 34, 'feature_selector': 'cyclic', 'boosting': 'gblinear', 'selector': 'f_regression', 'num_selected': 124, 'n_estimators': 120, 'early_stopping_rounds': 39}. Best is trial 30 with value: 8.747147238887496.\n",
      "[I 2024-05-05 18:10:31,332] Trial 41 finished with value: 40.26296862296515 and parameters: {'lambda': 0.3361433660472676, 'alpha': 0.024856855395751207, 'colsample_bytree': 0.5557790700525106, 'subsample': 0.3087021008145894, 'learning_rate': 0.6465067144674166, 'max_depth': 19, 'min_child_weight': 8, 'feature_selector': 'shuffle', 'boosting': 'gbtree', 'selector': 'f_regression', 'num_selected': 87, 'n_estimators': 242, 'early_stopping_rounds': 16}. Best is trial 30 with value: 8.747147238887496.\n",
      "[I 2024-05-05 18:10:31,783] Trial 42 finished with value: 30.86997692017014 and parameters: {'lambda': 0.019077945795961004, 'alpha': 6.593322272697733e-08, 'colsample_bytree': 0.2715159049670347, 'subsample': 0.2568808690511327, 'learning_rate': 0.8780585529187958, 'max_depth': 9, 'min_child_weight': 27, 'feature_selector': 'thrifty', 'boosting': 'dart', 'selector': 'none', 'num_selected': 76, 'n_estimators': 14, 'early_stopping_rounds': 27}. Best is trial 30 with value: 8.747147238887496.\n",
      "[I 2024-05-05 18:10:47,025] Trial 43 finished with value: 15.327843565994007 and parameters: {'lambda': 4.3237487584062885e-06, 'alpha': 3.793393264910274e-08, 'colsample_bytree': 0.6076522789614562, 'subsample': 0.5327865767576209, 'learning_rate': 0.4807740688001739, 'max_depth': 13, 'min_child_weight': 19, 'feature_selector': 'cyclic', 'boosting': 'gbtree', 'selector': 'mutual_info_regression', 'num_selected': 27, 'n_estimators': 100, 'early_stopping_rounds': 37}. Best is trial 30 with value: 8.747147238887496.\n",
      "[I 2024-05-05 18:10:47,774] Trial 44 finished with value: 10.73240417041943 and parameters: {'lambda': 5.385933141043976e-05, 'alpha': 0.00015919961280908256, 'colsample_bytree': 0.2537885594772764, 'subsample': 0.8202649406458716, 'learning_rate': 0.48238359771582706, 'max_depth': 8, 'min_child_weight': 87, 'feature_selector': 'random', 'boosting': 'dart', 'selector': 'f_regression', 'num_selected': 15, 'n_estimators': 58, 'early_stopping_rounds': 40}. Best is trial 30 with value: 8.747147238887496.\n",
      "[I 2024-05-05 18:10:48,482] Trial 45 finished with value: 12.437958375545755 and parameters: {'lambda': 3.3485162492741635e-08, 'alpha': 0.1350089607340327, 'colsample_bytree': 0.7270268040374521, 'subsample': 0.6586923343112651, 'learning_rate': 0.7441956019746848, 'max_depth': 15, 'min_child_weight': 98, 'feature_selector': 'cyclic', 'boosting': 'gblinear', 'selector': 'none', 'num_selected': 96, 'n_estimators': 12, 'early_stopping_rounds': 25}. Best is trial 30 with value: 8.747147238887496.\n",
      "[I 2024-05-05 18:10:49,248] Trial 46 finished with value: 9.616962634828992 and parameters: {'lambda': 2.050159866361859e-07, 'alpha': 3.5589997235788795e-07, 'colsample_bytree': 0.2927685659767419, 'subsample': 0.7244198645355889, 'learning_rate': 0.19736820015442016, 'max_depth': 5, 'min_child_weight': 38, 'feature_selector': 'greedy', 'boosting': 'dart', 'selector': 'none', 'num_selected': 58, 'n_estimators': 180, 'early_stopping_rounds': 46}. Best is trial 30 with value: 8.747147238887496.\n",
      "[I 2024-05-05 18:10:49,989] Trial 47 finished with value: 15.608988492821846 and parameters: {'lambda': 7.55987046836064e-05, 'alpha': 0.013083605392212047, 'colsample_bytree': 0.4423184907118437, 'subsample': 0.6862882405885901, 'learning_rate': 0.7668714014547093, 'max_depth': 15, 'min_child_weight': 82, 'feature_selector': 'greedy', 'boosting': 'dart', 'selector': 'f_regression', 'num_selected': 166, 'n_estimators': 57, 'early_stopping_rounds': 25}. Best is trial 30 with value: 8.747147238887496.\n",
      "[I 2024-05-05 18:10:51,044] Trial 48 finished with value: 9.115021381801645 and parameters: {'lambda': 4.773589113362485e-05, 'alpha': 2.1990930895266266e-07, 'colsample_bytree': 0.6175366318633495, 'subsample': 0.7276650849593197, 'learning_rate': 0.13740253595861918, 'max_depth': 7, 'min_child_weight': 45, 'feature_selector': 'shuffle', 'boosting': 'gblinear', 'selector': 'none', 'num_selected': 94, 'n_estimators': 348, 'early_stopping_rounds': 25}. Best is trial 30 with value: 8.747147238887496.\n",
      "[I 2024-05-05 18:11:06,813] Trial 49 finished with value: 12.679111412077031 and parameters: {'lambda': 0.0007242624983564032, 'alpha': 2.0800755467327402e-05, 'colsample_bytree': 0.6266746672139316, 'subsample': 0.8067542432934652, 'learning_rate': 0.47345053466055725, 'max_depth': 17, 'min_child_weight': 54, 'feature_selector': 'random', 'boosting': 'gbtree', 'selector': 'mutual_info_regression', 'num_selected': 156, 'n_estimators': 332, 'early_stopping_rounds': 47}. Best is trial 30 with value: 8.747147238887496.\n"
     ]
    },
    {
     "name": "stdout",
     "output_type": "stream",
     "text": [
      "Gene optimization finished in 0:00:37.614607\n",
      "Saving gene sampler to file ./NN_search/426_convnextbase_003_998_1_1_2_X18_mean_genesampler.pickle\n",
      "Starting optimization for X18_mean with TPE sampler\n"
     ]
    },
    {
     "name": "stderr",
     "output_type": "stream",
     "text": [
      "[I 2024-05-05 18:11:08,274] Trial 50 finished with value: 8.773899051985813 and parameters: {'lambda': 0.00030351778454801293, 'alpha': 0.01769077114083086, 'colsample_bytree': 0.24246296442982157, 'subsample': 0.8705131873772601, 'learning_rate': 0.06416189680388838, 'max_depth': 9, 'min_child_weight': 80, 'feature_selector': 'random', 'boosting': 'gblinear', 'selector': 'none', 'num_selected': 127, 'n_estimators': 95, 'early_stopping_rounds': 43}. Best is trial 30 with value: 8.747147238887496.\n",
      "[I 2024-05-05 18:11:10,677] Trial 51 finished with value: 8.724843135504448 and parameters: {'lambda': 0.0658344823633622, 'alpha': 0.01255338645303623, 'colsample_bytree': 0.4025980908501509, 'subsample': 0.6946391173948826, 'learning_rate': 0.06119178796011024, 'max_depth': 17, 'min_child_weight': 93, 'feature_selector': 'random', 'boosting': 'gblinear', 'selector': 'none', 'num_selected': 118, 'n_estimators': 232, 'early_stopping_rounds': 35}. Best is trial 51 with value: 8.724843135504448.\n",
      "[I 2024-05-05 18:11:13,375] Trial 52 finished with value: 10.345506421564476 and parameters: {'lambda': 0.009026575503708278, 'alpha': 0.014167437117772404, 'colsample_bytree': 0.5788610351400276, 'subsample': 0.7431983228853194, 'learning_rate': 0.016324769865932336, 'max_depth': 16, 'min_child_weight': 95, 'feature_selector': 'random', 'boosting': 'gblinear', 'selector': 'none', 'num_selected': 57, 'n_estimators': 97, 'early_stopping_rounds': 45}. Best is trial 51 with value: 8.724843135504448.\n",
      "[I 2024-05-05 18:11:14,305] Trial 53 finished with value: 9.183068971554817 and parameters: {'lambda': 7.124168856598333e-05, 'alpha': 0.013555678097215033, 'colsample_bytree': 0.2107979592394023, 'subsample': 0.799601491879917, 'learning_rate': 0.1593562104071957, 'max_depth': 9, 'min_child_weight': 81, 'feature_selector': 'random', 'boosting': 'gblinear', 'selector': 'none', 'num_selected': 115, 'n_estimators': 55, 'early_stopping_rounds': 27}. Best is trial 51 with value: 8.724843135504448.\n",
      "[I 2024-05-05 18:11:15,205] Trial 54 finished with value: 8.772741204081418 and parameters: {'lambda': 0.054370688137686474, 'alpha': 2.8442525036318538e-06, 'colsample_bytree': 0.4750670734492612, 'subsample': 0.6809899622338795, 'learning_rate': 0.0907884101445153, 'max_depth': 6, 'min_child_weight': 54, 'feature_selector': 'shuffle', 'boosting': 'gblinear', 'selector': 'none', 'num_selected': 132, 'n_estimators': 439, 'early_stopping_rounds': 26}. Best is trial 51 with value: 8.724843135504448.\n",
      "[I 2024-05-05 18:11:16,941] Trial 55 finished with value: 9.138246131626461 and parameters: {'lambda': 0.07845210233002312, 'alpha': 0.049251548193823866, 'colsample_bytree': 0.28343902879673544, 'subsample': 0.5424786228509576, 'learning_rate': 0.1252364162064109, 'max_depth': 16, 'min_child_weight': 96, 'feature_selector': 'random', 'boosting': 'gblinear', 'selector': 'none', 'num_selected': 174, 'n_estimators': 667, 'early_stopping_rounds': 39}. Best is trial 51 with value: 8.724843135504448.\n",
      "[I 2024-05-05 18:11:17,631] Trial 56 finished with value: 10.402897203063807 and parameters: {'lambda': 0.0007450780986842167, 'alpha': 0.9554599627308977, 'colsample_bytree': 0.23921726419754022, 'subsample': 0.8835180061900194, 'learning_rate': 0.38915961080722056, 'max_depth': 5, 'min_child_weight': 69, 'feature_selector': 'cyclic', 'boosting': 'gblinear', 'selector': 'none', 'num_selected': 135, 'n_estimators': 95, 'early_stopping_rounds': 48}. Best is trial 51 with value: 8.724843135504448.\n",
      "[I 2024-05-05 18:11:18,474] Trial 57 finished with value: 9.268131928160987 and parameters: {'lambda': 2.8885789699266796e-05, 'alpha': 8.182582321007162e-07, 'colsample_bytree': 0.33710733001233917, 'subsample': 0.8638948799408328, 'learning_rate': 0.08494137056777826, 'max_depth': 6, 'min_child_weight': 5, 'feature_selector': 'thrifty', 'boosting': 'gblinear', 'selector': 'f_regression', 'num_selected': 47, 'n_estimators': 226, 'early_stopping_rounds': 32}. Best is trial 51 with value: 8.724843135504448.\n",
      "[I 2024-05-05 18:11:33,681] Trial 58 finished with value: 8.9688008672519 and parameters: {'lambda': 0.06558596362244976, 'alpha': 1.3568054716311029e-05, 'colsample_bytree': 0.46893765486839534, 'subsample': 0.758521823640712, 'learning_rate': 0.1259266315209776, 'max_depth': 4, 'min_child_weight': 80, 'feature_selector': 'shuffle', 'boosting': 'gblinear', 'selector': 'mutual_info_regression', 'num_selected': 137, 'n_estimators': 815, 'early_stopping_rounds': 23}. Best is trial 51 with value: 8.724843135504448.\n",
      "[I 2024-05-05 18:11:39,737] Trial 59 finished with value: 8.711501805767462 and parameters: {'lambda': 0.014675504783417191, 'alpha': 0.02073609173114297, 'colsample_bytree': 0.4965955628584916, 'subsample': 0.7733613122132487, 'learning_rate': 0.024105082134949996, 'max_depth': 20, 'min_child_weight': 79, 'feature_selector': 'cyclic', 'boosting': 'dart', 'selector': 'none', 'num_selected': 107, 'n_estimators': 268, 'early_stopping_rounds': 25}. Best is trial 59 with value: 8.711501805767462.\n"
     ]
    },
    {
     "name": "stdout",
     "output_type": "stream",
     "text": [
      "TPE optimization finished in 0:00:32.923162\n",
      "Saving TPE sampler to file ./NN_search/426_convnextbase_003_998_1_1_2_X18_mean_tpe_sampler.pickle\n",
      "Optimization finished in 0:02:01.956042\n",
      "Cross-validated MSE: 8.7034639164638 for X18_mean\n",
      "Best parameters for X18_mean:  {'lambda': 0.014675504783417191, 'alpha': 0.02073609173114297, 'colsample_bytree': 0.4965955628584916, 'subsample': 0.7733613122132487, 'learning_rate': 0.024105082134949996, 'max_depth': 20, 'min_child_weight': 79, 'feature_selector': 'cyclic', 'boosting': 'dart', 'selector': 'none', 'num_selected': 107, 'n_estimators': 268, 'early_stopping_rounds': 25}\n",
      "Train data shape without selector 182\n",
      "Time taken for crosvalidation: 0:02:42.718064\n",
      "Fitting model for X18_mean with best parameters\n",
      "None selector\n"
     ]
    },
    {
     "name": "stderr",
     "output_type": "stream",
     "text": [
      "/tmp/ipykernel_38604/3173838020.py:75: ExperimentalWarning: VSBXCrossover is experimental (supported from v3.0.0). The interface can change in the future.\n",
      "  genemachine = optuna.samplers.NSGAIISampler(crossover = optuna.samplers.nsgaii.VSBXCrossover())\n",
      "/tmp/ipykernel_38604/3173838020.py:83: ExperimentalWarning: QMCSampler is experimental (supported from v3.0.0). The interface can change in the future.\n",
      "  qmc_sampler = optuna.samplers.QMCSampler(warn_independent_sampling = False)\n",
      "/home/tobias/miniconda3/envs/tf/lib/python3.9/site-packages/optuna/samplers/_tpe/sampler.py:319: ExperimentalWarning: ``multivariate`` option is an experimental feature. The interface can change in the future.\n",
      "  warnings.warn(\n",
      "[I 2024-05-05 18:15:01,064] A new study created in RDB with name: 426_convnextbase_003_998_1\n"
     ]
    },
    {
     "name": "stdout",
     "output_type": "stream",
     "text": [
      "Time taken for fitting whole data: 0:00:38.209346\n",
      "Time taken: 0:19:12.821934\n",
      "\n",
      "\n",
      "Optimizing model for X50_mean using train fold 1 and validation fold 2\n",
      "\n",
      "\n",
      "Creating new gene sampler\n",
      "Creating new QMC sampler\n",
      "Creating new TPE sampler\n",
      "Starting optimization for X50_mean with qmc sampler\n"
     ]
    },
    {
     "name": "stderr",
     "output_type": "stream",
     "text": [
      "[I 2024-05-05 18:15:02,323] Trial 0 finished with value: 0.14785715420898068 and parameters: {'lambda': 4.327884108144229e-08, 'alpha': 0.003357026635271244, 'colsample_bytree': 0.6776516932054872, 'subsample': 0.595545008419595, 'learning_rate': 0.17130712532836093, 'max_depth': 20, 'min_child_weight': 25, 'feature_selector': 'cyclic', 'boosting': 'gbtree', 'selector': 'none', 'num_selected': 171, 'n_estimators': 11, 'early_stopping_rounds': 49}. Best is trial 0 with value: 0.14785715420898068.\n",
      "[I 2024-05-05 18:15:02,598] Trial 1 finished with value: 0.42715746215373596 and parameters: {'lambda': 0.0031330069386680264, 'alpha': 4.321875103377964e-05, 'colsample_bytree': 0.1, 'subsample': 0.1, 'learning_rate': 0.01, 'max_depth': 2, 'min_child_weight': 1, 'feature_selector': 'random', 'boosting': 'dart', 'selector': 'f_regression', 'num_selected': 1, 'n_estimators': 10, 'early_stopping_rounds': 5}. Best is trial 0 with value: 0.14785715420898068.\n",
      "[I 2024-05-05 18:15:18,086] Trial 2 finished with value: 0.19560906797703684 and parameters: {'lambda': 9.999999999999991e-05, 'alpha': 9.999999999999991e-05, 'colsample_bytree': 0.5, 'subsample': 0.5, 'learning_rate': 0.505, 'max_depth': 11, 'min_child_weight': 51, 'feature_selector': 'shuffle', 'boosting': 'gbtree', 'selector': 'mutual_info_regression', 'num_selected': 91, 'n_estimators': 97, 'early_stopping_rounds': 27}. Best is trial 0 with value: 0.14785715420898068.\n",
      "[I 2024-05-05 18:15:19,369] Trial 3 finished with value: 1.6290571228684962 and parameters: {'lambda': 0.009999999999999995, 'alpha': 9.999999999999987e-07, 'colsample_bytree': 0.30000000000000004, 'subsample': 0.30000000000000004, 'learning_rate': 0.7525, 'max_depth': 16, 'min_child_weight': 25, 'feature_selector': 'thrifty', 'boosting': 'gblinear', 'selector': 'none', 'num_selected': 136, 'n_estimators': 312, 'early_stopping_rounds': 39}. Best is trial 0 with value: 0.14785715420898068.\n",
      "[I 2024-05-05 18:15:34,645] Trial 4 finished with value: 0.12231334098932448 and parameters: {'lambda': 9.999999999999987e-07, 'alpha': 0.009999999999999995, 'colsample_bytree': 0.7000000000000001, 'subsample': 0.7000000000000001, 'learning_rate': 0.2575, 'max_depth': 6, 'min_child_weight': 75, 'feature_selector': 'shuffle', 'boosting': 'gblinear', 'selector': 'mutual_info_regression', 'num_selected': 46, 'n_estimators': 30, 'early_stopping_rounds': 16}. Best is trial 4 with value: 0.12231334098932448.\n",
      "[I 2024-05-05 18:15:49,895] Trial 5 finished with value: 0.13634319144408932 and parameters: {'lambda': 9.99999999999998e-06, 'alpha': 9.99999999999998e-06, 'colsample_bytree': 0.6, 'subsample': 0.8, 'learning_rate': 0.38125, 'max_depth': 4, 'min_child_weight': 38, 'feature_selector': 'random', 'boosting': 'dart', 'selector': 'mutual_info_regression', 'num_selected': 159, 'n_estimators': 559, 'early_stopping_rounds': 33}. Best is trial 4 with value: 0.12231334098932448.\n",
      "[I 2024-05-05 18:16:04,893] Trial 6 finished with value: 0.19986864291995765 and parameters: {'lambda': 0.0999999999999999, 'alpha': 0.0999999999999999, 'colsample_bytree': 0.2, 'subsample': 0.4, 'learning_rate': 0.87625, 'max_depth': 13, 'min_child_weight': 88, 'feature_selector': 'random', 'boosting': 'gbtree', 'selector': 'mutual_info_regression', 'num_selected': 68, 'n_estimators': 54, 'early_stopping_rounds': 10}. Best is trial 4 with value: 0.12231334098932448.\n",
      "[I 2024-05-05 18:16:20,098] Trial 7 finished with value: 0.30186031716831285 and parameters: {'lambda': 0.0010000000000000002, 'alpha': 9.999999999999994e-08, 'colsample_bytree': 0.8, 'subsample': 0.6, 'learning_rate': 0.62875, 'max_depth': 18, 'min_child_weight': 13, 'feature_selector': 'thrifty', 'boosting': 'dart', 'selector': 'mutual_info_regression', 'num_selected': 23, 'n_estimators': 17, 'early_stopping_rounds': 22}. Best is trial 4 with value: 0.12231334098932448.\n",
      "[I 2024-05-05 18:16:35,922] Trial 8 finished with value: 0.13712077339142328 and parameters: {'lambda': 9.999999999999994e-08, 'alpha': 0.0010000000000000002, 'colsample_bytree': 0.4, 'subsample': 0.2, 'learning_rate': 0.13375, 'max_depth': 9, 'min_child_weight': 63, 'feature_selector': 'thrifty', 'boosting': 'dart', 'selector': 'mutual_info_regression', 'num_selected': 114, 'n_estimators': 174, 'early_stopping_rounds': 45}. Best is trial 4 with value: 0.12231334098932448.\n",
      "[I 2024-05-05 18:16:36,621] Trial 9 finished with value: 0.20940948793146233 and parameters: {'lambda': 3.1622776601683734e-07, 'alpha': 3.162277660168377e-06, 'colsample_bytree': 0.85, 'subsample': 0.45000000000000007, 'learning_rate': 0.566875, 'max_depth': 7, 'min_child_weight': 44, 'feature_selector': 'greedy', 'boosting': 'gblinear', 'selector': 'none', 'num_selected': 170, 'n_estimators': 748, 'early_stopping_rounds': 19}. Best is trial 4 with value: 0.12231334098932448.\n"
     ]
    },
    {
     "name": "stdout",
     "output_type": "stream",
     "text": [
      "QCM optimization finished in 0:01:35.555244\n",
      "Saving QMC sampler to file ./NN_search/426_convnextbase_003_998_1_1_2_X50_mean_qmc_sampler.pickle\n",
      "Starting optimization for X50_mean with gene sampler\n"
     ]
    },
    {
     "name": "stderr",
     "output_type": "stream",
     "text": [
      "[I 2024-05-05 18:16:51,600] Trial 10 finished with value: 0.17806802395639112 and parameters: {'lambda': 0.4972331550972564, 'alpha': 1.2022609523820401e-05, 'colsample_bytree': 0.4339237836522487, 'subsample': 0.1827041380326831, 'learning_rate': 0.6854085180947131, 'max_depth': 12, 'min_child_weight': 87, 'feature_selector': 'greedy', 'boosting': 'gblinear', 'selector': 'mutual_info_regression', 'num_selected': 11, 'n_estimators': 282, 'early_stopping_rounds': 23}. Best is trial 4 with value: 0.12231334098932448.\n",
      "[I 2024-05-05 18:16:52,313] Trial 11 finished with value: 0.28634539423521826 and parameters: {'lambda': 2.691808485597488e-08, 'alpha': 1.458765048831049e-08, 'colsample_bytree': 0.10653137126147111, 'subsample': 0.21369060565374864, 'learning_rate': 0.6356079096968569, 'max_depth': 13, 'min_child_weight': 87, 'feature_selector': 'thrifty', 'boosting': 'gblinear', 'selector': 'none', 'num_selected': 129, 'n_estimators': 363, 'early_stopping_rounds': 24}. Best is trial 4 with value: 0.12231334098932448.\n",
      "[I 2024-05-05 18:17:07,288] Trial 12 finished with value: 0.47771813985910866 and parameters: {'lambda': 6.037199877980921e-07, 'alpha': 8.00544977485939e-05, 'colsample_bytree': 0.27777926461178454, 'subsample': 0.4016495860131307, 'learning_rate': 0.8269236894299192, 'max_depth': 14, 'min_child_weight': 13, 'feature_selector': 'thrifty', 'boosting': 'gblinear', 'selector': 'mutual_info_regression', 'num_selected': 33, 'n_estimators': 32, 'early_stopping_rounds': 10}. Best is trial 4 with value: 0.12231334098932448.\n",
      "[I 2024-05-05 18:17:22,436] Trial 13 finished with value: 0.13385826596724731 and parameters: {'lambda': 6.923254586427998e-06, 'alpha': 0.00016759266751181936, 'colsample_bytree': 0.5426614880103096, 'subsample': 0.7058602404652252, 'learning_rate': 0.35076576384103186, 'max_depth': 7, 'min_child_weight': 79, 'feature_selector': 'greedy', 'boosting': 'gblinear', 'selector': 'mutual_info_regression', 'num_selected': 179, 'n_estimators': 14, 'early_stopping_rounds': 14}. Best is trial 4 with value: 0.12231334098932448.\n",
      "[I 2024-05-05 18:17:24,017] Trial 14 finished with value: 0.139856789812999 and parameters: {'lambda': 0.001791468876807442, 'alpha': 1.7145474001588482e-08, 'colsample_bytree': 0.28800144330440425, 'subsample': 0.7134223437959769, 'learning_rate': 0.20317673598689043, 'max_depth': 20, 'min_child_weight': 79, 'feature_selector': 'random', 'boosting': 'gbtree', 'selector': 'f_regression', 'num_selected': 22, 'n_estimators': 993, 'early_stopping_rounds': 44}. Best is trial 4 with value: 0.12231334098932448.\n",
      "[I 2024-05-05 18:17:25,323] Trial 15 finished with value: 0.5202378434705717 and parameters: {'lambda': 0.2535145464205761, 'alpha': 1.7400862970019067e-06, 'colsample_bytree': 0.35196654008587014, 'subsample': 0.4456026254341837, 'learning_rate': 0.7906902837176721, 'max_depth': 13, 'min_child_weight': 60, 'feature_selector': 'shuffle', 'boosting': 'dart', 'selector': 'none', 'num_selected': 38, 'n_estimators': 198, 'early_stopping_rounds': 36}. Best is trial 4 with value: 0.12231334098932448.\n",
      "[I 2024-05-05 18:17:40,652] Trial 16 finished with value: 0.17466355368433203 and parameters: {'lambda': 4.5246140403133654e-07, 'alpha': 0.02095535591697311, 'colsample_bytree': 0.46396743971777676, 'subsample': 0.12229429798409229, 'learning_rate': 0.6179112200857282, 'max_depth': 12, 'min_child_weight': 82, 'feature_selector': 'cyclic', 'boosting': 'dart', 'selector': 'mutual_info_regression', 'num_selected': 85, 'n_estimators': 16, 'early_stopping_rounds': 12}. Best is trial 4 with value: 0.12231334098932448.\n",
      "[I 2024-05-05 18:17:56,643] Trial 17 finished with value: 0.3969959326921635 and parameters: {'lambda': 2.710042531088082e-06, 'alpha': 6.325244330738701e-05, 'colsample_bytree': 0.1448855173969423, 'subsample': 0.5956476429534411, 'learning_rate': 0.595957013091849, 'max_depth': 15, 'min_child_weight': 5, 'feature_selector': 'cyclic', 'boosting': 'gbtree', 'selector': 'mutual_info_regression', 'num_selected': 85, 'n_estimators': 209, 'early_stopping_rounds': 31}. Best is trial 4 with value: 0.12231334098932448.\n",
      "[I 2024-05-05 18:17:58,298] Trial 18 finished with value: 0.39630047343610186 and parameters: {'lambda': 2.1203555014893817e-08, 'alpha': 0.009921579384973097, 'colsample_bytree': 0.6334795348986203, 'subsample': 0.6947604140709529, 'learning_rate': 0.7416003922095635, 'max_depth': 16, 'min_child_weight': 24, 'feature_selector': 'greedy', 'boosting': 'gbtree', 'selector': 'none', 'num_selected': 159, 'n_estimators': 284, 'early_stopping_rounds': 27}. Best is trial 4 with value: 0.12231334098932448.\n",
      "[I 2024-05-05 18:18:13,314] Trial 19 finished with value: 0.28447441260668543 and parameters: {'lambda': 6.561851299036965e-08, 'alpha': 0.0044844318441555455, 'colsample_bytree': 0.8595556091237624, 'subsample': 0.5166139027957252, 'learning_rate': 0.8939441861230708, 'max_depth': 17, 'min_child_weight': 45, 'feature_selector': 'thrifty', 'boosting': 'gbtree', 'selector': 'mutual_info_regression', 'num_selected': 99, 'n_estimators': 10, 'early_stopping_rounds': 29}. Best is trial 4 with value: 0.12231334098932448.\n"
     ]
    },
    {
     "name": "stdout",
     "output_type": "stream",
     "text": [
      "Gene optimization finished in 0:01:36.691635\n",
      "Saving gene sampler to file ./NN_search/426_convnextbase_003_998_1_1_2_X50_mean_genesampler.pickle\n",
      "Starting optimization for X50_mean with TPE sampler\n"
     ]
    },
    {
     "name": "stderr",
     "output_type": "stream",
     "text": [
      "[I 2024-05-05 18:18:28,271] Trial 20 finished with value: 0.11978468841405948 and parameters: {'lambda': 1.0463999477086027e-06, 'alpha': 1.0409865444685902e-05, 'colsample_bytree': 0.4370989533218633, 'subsample': 0.7379718342920095, 'learning_rate': 0.2528470677312082, 'max_depth': 4, 'min_child_weight': 93, 'feature_selector': 'greedy', 'boosting': 'gbtree', 'selector': 'mutual_info_regression', 'num_selected': 150, 'n_estimators': 29, 'early_stopping_rounds': 23}. Best is trial 20 with value: 0.11978468841405948.\n",
      "[I 2024-05-05 18:18:43,326] Trial 21 finished with value: 0.12153160519081341 and parameters: {'lambda': 3.062880076168353e-07, 'alpha': 0.002346618840954737, 'colsample_bytree': 0.706987498530418, 'subsample': 0.6354504803386416, 'learning_rate': 0.23589845060837986, 'max_depth': 7, 'min_child_weight': 92, 'feature_selector': 'shuffle', 'boosting': 'gblinear', 'selector': 'mutual_info_regression', 'num_selected': 69, 'n_estimators': 62, 'early_stopping_rounds': 18}. Best is trial 20 with value: 0.11978468841405948.\n",
      "[I 2024-05-05 18:18:58,604] Trial 22 finished with value: 0.14016948245661048 and parameters: {'lambda': 2.292105104625432e-07, 'alpha': 0.013176241811767821, 'colsample_bytree': 0.6899319258442193, 'subsample': 0.4829563497119801, 'learning_rate': 0.4937706680011592, 'max_depth': 6, 'min_child_weight': 95, 'feature_selector': 'shuffle', 'boosting': 'gblinear', 'selector': 'mutual_info_regression', 'num_selected': 37, 'n_estimators': 31, 'early_stopping_rounds': 27}. Best is trial 20 with value: 0.11978468841405948.\n",
      "[I 2024-05-05 18:18:59,039] Trial 23 finished with value: 0.20988483258333127 and parameters: {'lambda': 2.052483738205334e-05, 'alpha': 2.0791193937886873e-06, 'colsample_bytree': 0.5049174209071019, 'subsample': 0.759044340358751, 'learning_rate': 0.09456626810208499, 'max_depth': 2, 'min_child_weight': 96, 'feature_selector': 'shuffle', 'boosting': 'gbtree', 'selector': 'f_regression', 'num_selected': 133, 'n_estimators': 12, 'early_stopping_rounds': 23}. Best is trial 20 with value: 0.11978468841405948.\n",
      "[I 2024-05-05 18:19:14,112] Trial 24 finished with value: 0.1359729518884812 and parameters: {'lambda': 6.057236947280742e-07, 'alpha': 1.3183567982328664e-05, 'colsample_bytree': 0.26415967094079923, 'subsample': 0.7053469696062249, 'learning_rate': 0.3964776029955307, 'max_depth': 6, 'min_child_weight': 83, 'feature_selector': 'greedy', 'boosting': 'gbtree', 'selector': 'mutual_info_regression', 'num_selected': 169, 'n_estimators': 15, 'early_stopping_rounds': 40}. Best is trial 20 with value: 0.11978468841405948.\n",
      "[I 2024-05-05 18:19:29,151] Trial 25 finished with value: 0.11503840018501724 and parameters: {'lambda': 1.1408444114319381e-07, 'alpha': 5.142462062173059e-07, 'colsample_bytree': 0.3641872045731693, 'subsample': 0.7429419102054463, 'learning_rate': 0.1663199295572259, 'max_depth': 5, 'min_child_weight': 63, 'feature_selector': 'greedy', 'boosting': 'dart', 'selector': 'mutual_info_regression', 'num_selected': 81, 'n_estimators': 61, 'early_stopping_rounds': 14}. Best is trial 25 with value: 0.11503840018501724.\n",
      "[I 2024-05-05 18:19:45,116] Trial 26 finished with value: 0.12214337721114349 and parameters: {'lambda': 1.3470640897358483e-08, 'alpha': 3.2144374764317713e-06, 'colsample_bytree': 0.6426395630488133, 'subsample': 0.6941029570974871, 'learning_rate': 0.03971841841330698, 'max_depth': 9, 'min_child_weight': 89, 'feature_selector': 'greedy', 'boosting': 'gbtree', 'selector': 'mutual_info_regression', 'num_selected': 130, 'n_estimators': 85, 'early_stopping_rounds': 23}. Best is trial 25 with value: 0.11503840018501724.\n",
      "[I 2024-05-05 18:20:00,119] Trial 27 finished with value: 0.12398953637933947 and parameters: {'lambda': 1.902666188113982e-08, 'alpha': 1.3175107265249732e-07, 'colsample_bytree': 0.2723935346975808, 'subsample': 0.7130725517894898, 'learning_rate': 0.37248736892756595, 'max_depth': 2, 'min_child_weight': 61, 'feature_selector': 'greedy', 'boosting': 'dart', 'selector': 'mutual_info_regression', 'num_selected': 143, 'n_estimators': 69, 'early_stopping_rounds': 8}. Best is trial 25 with value: 0.11503840018501724.\n",
      "[I 2024-05-05 18:20:00,979] Trial 28 finished with value: 0.12733969533316483 and parameters: {'lambda': 4.991031245845039e-08, 'alpha': 5.487041723417543e-05, 'colsample_bytree': 0.6296872666846283, 'subsample': 0.6234439396039009, 'learning_rate': 0.06845942526427846, 'max_depth': 6, 'min_child_weight': 70, 'feature_selector': 'greedy', 'boosting': 'dart', 'selector': 'none', 'num_selected': 49, 'n_estimators': 40, 'early_stopping_rounds': 7}. Best is trial 25 with value: 0.11503840018501724.\n",
      "[I 2024-05-05 18:20:15,871] Trial 29 finished with value: 0.2640852841111857 and parameters: {'lambda': 2.550025563844989e-06, 'alpha': 1.5964377964518196e-06, 'colsample_bytree': 0.3942433922091861, 'subsample': 0.8080124507510367, 'learning_rate': 0.04245748288260681, 'max_depth': 2, 'min_child_weight': 30, 'feature_selector': 'shuffle', 'boosting': 'dart', 'selector': 'mutual_info_regression', 'num_selected': 18, 'n_estimators': 17, 'early_stopping_rounds': 14}. Best is trial 25 with value: 0.11503840018501724.\n"
     ]
    },
    {
     "name": "stdout",
     "output_type": "stream",
     "text": [
      "TPE optimization finished in 0:02:02.556506\n",
      "Saving TPE sampler to file ./NN_search/426_convnextbase_003_998_1_1_2_X50_mean_tpe_sampler.pickle\n",
      "Optimization finished in 0:05:14.935817\n",
      "Cross-validated MSE: 0.13211833771455167 for X50_mean\n",
      "Best parameters for X50_mean:  {'lambda': 1.1408444114319381e-07, 'alpha': 5.142462062173059e-07, 'colsample_bytree': 0.3641872045731693, 'subsample': 0.7429419102054463, 'learning_rate': 0.1663199295572259, 'max_depth': 5, 'min_child_weight': 63, 'feature_selector': 'greedy', 'boosting': 'dart', 'selector': 'mutual_info_regression', 'num_selected': 81, 'n_estimators': 61, 'early_stopping_rounds': 14}\n",
      "Train data shape without selector 182\n",
      "Time taken for crosvalidation: 0:05:36.078275\n",
      "Fitting model for X50_mean with best parameters\n",
      "Selector is mutual_info_regression with num selected 81\n"
     ]
    },
    {
     "name": "stderr",
     "output_type": "stream",
     "text": [
      "/tmp/ipykernel_38604/3173838020.py:75: ExperimentalWarning: VSBXCrossover is experimental (supported from v3.0.0). The interface can change in the future.\n",
      "  genemachine = optuna.samplers.NSGAIISampler(crossover = optuna.samplers.nsgaii.VSBXCrossover())\n",
      "/tmp/ipykernel_38604/3173838020.py:83: ExperimentalWarning: QMCSampler is experimental (supported from v3.0.0). The interface can change in the future.\n",
      "  qmc_sampler = optuna.samplers.QMCSampler(warn_independent_sampling = False)\n",
      "/home/tobias/miniconda3/envs/tf/lib/python3.9/site-packages/optuna/samplers/_tpe/sampler.py:319: ExperimentalWarning: ``multivariate`` option is an experimental feature. The interface can change in the future.\n",
      "  warnings.warn(\n",
      "[I 2024-05-05 18:27:25,427] A new study created in RDB with name: 426_convnextbase_003_998_1\n"
     ]
    },
    {
     "name": "stdout",
     "output_type": "stream",
     "text": [
      "Time taken for fitting whole data: 0:01:33.007990\n",
      "Time taken: 0:31:37.178081\n",
      "\n",
      "\n",
      "Optimizing model for X26_mean using train fold 1 and validation fold 2\n",
      "\n",
      "\n",
      "Creating new gene sampler\n",
      "Creating new QMC sampler\n",
      "Creating new TPE sampler\n",
      "Starting optimization for X26_mean with qmc sampler\n"
     ]
    },
    {
     "name": "stderr",
     "output_type": "stream",
     "text": [
      "[I 2024-05-05 18:27:40,327] Trial 0 finished with value: 141759.78799048415 and parameters: {'lambda': 0.41545719044863394, 'alpha': 0.14660715436933877, 'colsample_bytree': 0.33428557679661824, 'subsample': 0.22285966625754627, 'learning_rate': 0.5935371319912967, 'max_depth': 6, 'min_child_weight': 9, 'feature_selector': 'cyclic', 'boosting': 'gblinear', 'selector': 'mutual_info_regression', 'num_selected': 89, 'n_estimators': 106, 'early_stopping_rounds': 42}. Best is trial 0 with value: 141759.78799048415.\n",
      "[I 2024-05-05 18:27:40,695] Trial 1 finished with value: 65266.04993754402 and parameters: {'lambda': 0.004454292321452891, 'alpha': 0.0014736943859280987, 'colsample_bytree': 0.1, 'subsample': 0.1, 'learning_rate': 0.01, 'max_depth': 2, 'min_child_weight': 1, 'feature_selector': 'greedy', 'boosting': 'dart', 'selector': 'none', 'num_selected': 1, 'n_estimators': 10, 'early_stopping_rounds': 5}. Best is trial 1 with value: 65266.04993754402.\n",
      "[I 2024-05-05 18:27:55,503] Trial 2 finished with value: 53074.029955278354 and parameters: {'lambda': 9.999999999999991e-05, 'alpha': 9.999999999999991e-05, 'colsample_bytree': 0.5, 'subsample': 0.5, 'learning_rate': 0.505, 'max_depth': 11, 'min_child_weight': 51, 'feature_selector': 'cyclic', 'boosting': 'gbtree', 'selector': 'mutual_info_regression', 'num_selected': 91, 'n_estimators': 97, 'early_stopping_rounds': 27}. Best is trial 2 with value: 53074.029955278354.\n",
      "[I 2024-05-05 18:28:10,717] Trial 3 finished with value: 146852.27283472056 and parameters: {'lambda': 0.009999999999999995, 'alpha': 9.999999999999987e-07, 'colsample_bytree': 0.30000000000000004, 'subsample': 0.30000000000000004, 'learning_rate': 0.7525, 'max_depth': 16, 'min_child_weight': 25, 'feature_selector': 'greedy', 'boosting': 'dart', 'selector': 'mutual_info_regression', 'num_selected': 136, 'n_estimators': 312, 'early_stopping_rounds': 39}. Best is trial 2 with value: 53074.029955278354.\n",
      "[I 2024-05-05 18:28:11,259] Trial 4 finished with value: 44553.95654018811 and parameters: {'lambda': 9.999999999999987e-07, 'alpha': 0.009999999999999995, 'colsample_bytree': 0.7000000000000001, 'subsample': 0.7000000000000001, 'learning_rate': 0.2575, 'max_depth': 6, 'min_child_weight': 75, 'feature_selector': 'random', 'boosting': 'dart', 'selector': 'none', 'num_selected': 46, 'n_estimators': 30, 'early_stopping_rounds': 16}. Best is trial 4 with value: 44553.95654018811.\n",
      "[I 2024-05-05 18:28:25,948] Trial 5 finished with value: 50165.36141301822 and parameters: {'lambda': 9.99999999999998e-06, 'alpha': 9.99999999999998e-06, 'colsample_bytree': 0.6, 'subsample': 0.8, 'learning_rate': 0.38125, 'max_depth': 4, 'min_child_weight': 38, 'feature_selector': 'greedy', 'boosting': 'gbtree', 'selector': 'mutual_info_regression', 'num_selected': 159, 'n_estimators': 559, 'early_stopping_rounds': 33}. Best is trial 4 with value: 44553.95654018811.\n",
      "[I 2024-05-05 18:28:26,403] Trial 6 finished with value: 54081.93837954061 and parameters: {'lambda': 0.0999999999999999, 'alpha': 0.0999999999999999, 'colsample_bytree': 0.2, 'subsample': 0.4, 'learning_rate': 0.87625, 'max_depth': 13, 'min_child_weight': 88, 'feature_selector': 'shuffle', 'boosting': 'gbtree', 'selector': 'f_regression', 'num_selected': 68, 'n_estimators': 54, 'early_stopping_rounds': 10}. Best is trial 4 with value: 44553.95654018811.\n",
      "[I 2024-05-05 18:28:27,701] Trial 7 finished with value: 75348.5052127412 and parameters: {'lambda': 0.0010000000000000002, 'alpha': 9.999999999999994e-08, 'colsample_bytree': 0.8, 'subsample': 0.6, 'learning_rate': 0.62875, 'max_depth': 18, 'min_child_weight': 13, 'feature_selector': 'cyclic', 'boosting': 'gbtree', 'selector': 'none', 'num_selected': 23, 'n_estimators': 17, 'early_stopping_rounds': 22}. Best is trial 4 with value: 44553.95654018811.\n",
      "[I 2024-05-05 18:28:29,386] Trial 8 finished with value: 46933.23409013809 and parameters: {'lambda': 9.999999999999994e-08, 'alpha': 0.0010000000000000002, 'colsample_bytree': 0.4, 'subsample': 0.2, 'learning_rate': 0.13375, 'max_depth': 9, 'min_child_weight': 63, 'feature_selector': 'random', 'boosting': 'gblinear', 'selector': 'none', 'num_selected': 114, 'n_estimators': 174, 'early_stopping_rounds': 45}. Best is trial 4 with value: 44553.95654018811.\n",
      "[I 2024-05-05 18:28:29,908] Trial 9 finished with value: 56642.16682805337 and parameters: {'lambda': 3.1622776601683734e-07, 'alpha': 3.162277660168377e-06, 'colsample_bytree': 0.85, 'subsample': 0.45000000000000007, 'learning_rate': 0.566875, 'max_depth': 7, 'min_child_weight': 44, 'feature_selector': 'thrifty', 'boosting': 'gblinear', 'selector': 'f_regression', 'num_selected': 170, 'n_estimators': 748, 'early_stopping_rounds': 19}. Best is trial 4 with value: 44553.95654018811.\n"
     ]
    },
    {
     "name": "stdout",
     "output_type": "stream",
     "text": [
      "QCM optimization finished in 0:01:04.478511\n",
      "Saving QMC sampler to file ./NN_search/426_convnextbase_003_998_1_1_2_X26_mean_qmc_sampler.pickle\n",
      "Starting optimization for X26_mean with gene sampler\n"
     ]
    },
    {
     "name": "stderr",
     "output_type": "stream",
     "text": [
      "[I 2024-05-05 18:28:30,431] Trial 10 finished with value: 83767.72491574234 and parameters: {'lambda': 0.29846832478206786, 'alpha': 0.0021269543257719146, 'colsample_bytree': 0.8046340710265917, 'subsample': 0.36400630194072203, 'learning_rate': 0.9365074624137575, 'max_depth': 19, 'min_child_weight': 39, 'feature_selector': 'greedy', 'boosting': 'gblinear', 'selector': 'f_regression', 'num_selected': 52, 'n_estimators': 17, 'early_stopping_rounds': 45}. Best is trial 4 with value: 44553.95654018811.\n",
      "[I 2024-05-05 18:28:45,359] Trial 11 finished with value: 50705.55220232113 and parameters: {'lambda': 9.748072817801005e-08, 'alpha': 1.8800492908710473e-05, 'colsample_bytree': 0.7488340570724618, 'subsample': 0.7580535153567873, 'learning_rate': 0.5127263424464967, 'max_depth': 8, 'min_child_weight': 80, 'feature_selector': 'cyclic', 'boosting': 'gbtree', 'selector': 'mutual_info_regression', 'num_selected': 114, 'n_estimators': 355, 'early_stopping_rounds': 24}. Best is trial 4 with value: 44553.95654018811.\n",
      "[I 2024-05-05 18:28:46,233] Trial 12 finished with value: 56051.76782700651 and parameters: {'lambda': 2.085001168479468e-07, 'alpha': 5.6517080514553e-08, 'colsample_bytree': 0.35210342828083074, 'subsample': 0.4620779233678083, 'learning_rate': 0.4808036183342755, 'max_depth': 16, 'min_child_weight': 59, 'feature_selector': 'thrifty', 'boosting': 'gbtree', 'selector': 'f_regression', 'num_selected': 57, 'n_estimators': 143, 'early_stopping_rounds': 36}. Best is trial 4 with value: 44553.95654018811.\n",
      "[I 2024-05-05 18:29:00,915] Trial 13 finished with value: 52109.510781204575 and parameters: {'lambda': 1.5707583741503687e-08, 'alpha': 0.09438735370610847, 'colsample_bytree': 0.17680192895219804, 'subsample': 0.37023554027863004, 'learning_rate': 0.5360877698434592, 'max_depth': 15, 'min_child_weight': 39, 'feature_selector': 'random', 'boosting': 'gblinear', 'selector': 'mutual_info_regression', 'num_selected': 110, 'n_estimators': 15, 'early_stopping_rounds': 19}. Best is trial 4 with value: 44553.95654018811.\n",
      "[I 2024-05-05 18:29:15,897] Trial 14 finished with value: 50622.78049805967 and parameters: {'lambda': 0.32043032665958715, 'alpha': 0.01236407726239537, 'colsample_bytree': 0.13417202914275814, 'subsample': 0.8946731672811191, 'learning_rate': 0.35396459872711394, 'max_depth': 12, 'min_child_weight': 9, 'feature_selector': 'cyclic', 'boosting': 'gblinear', 'selector': 'mutual_info_regression', 'num_selected': 29, 'n_estimators': 15, 'early_stopping_rounds': 33}. Best is trial 4 with value: 44553.95654018811.\n",
      "[I 2024-05-05 18:29:31,018] Trial 15 finished with value: 68954.32513876668 and parameters: {'lambda': 1.889576680913022e-05, 'alpha': 0.15652435321157657, 'colsample_bytree': 0.23361055039182999, 'subsample': 0.8574990804588326, 'learning_rate': 0.8505810732294564, 'max_depth': 15, 'min_child_weight': 44, 'feature_selector': 'shuffle', 'boosting': 'dart', 'selector': 'mutual_info_regression', 'num_selected': 123, 'n_estimators': 413, 'early_stopping_rounds': 23}. Best is trial 4 with value: 44553.95654018811.\n",
      "[I 2024-05-05 18:29:45,846] Trial 16 finished with value: 45751.19484172597 and parameters: {'lambda': 2.1840890474026506e-08, 'alpha': 0.006250154221177755, 'colsample_bytree': 0.8314148203176687, 'subsample': 0.7690130806646286, 'learning_rate': 0.21711495266820333, 'max_depth': 7, 'min_child_weight': 34, 'feature_selector': 'random', 'boosting': 'dart', 'selector': 'mutual_info_regression', 'num_selected': 94, 'n_estimators': 212, 'early_stopping_rounds': 36}. Best is trial 4 with value: 44553.95654018811.\n",
      "[I 2024-05-05 18:29:46,745] Trial 17 finished with value: 73233.84094588131 and parameters: {'lambda': 1.5473665788133604e-08, 'alpha': 0.019592533435377854, 'colsample_bytree': 0.24041396757003028, 'subsample': 0.6497563890521818, 'learning_rate': 0.5770021780070471, 'max_depth': 14, 'min_child_weight': 17, 'feature_selector': 'shuffle', 'boosting': 'dart', 'selector': 'f_regression', 'num_selected': 155, 'n_estimators': 40, 'early_stopping_rounds': 38}. Best is trial 4 with value: 44553.95654018811.\n",
      "[I 2024-05-05 18:30:01,416] Trial 18 finished with value: 47666.359050998886 and parameters: {'lambda': 0.001246367079289264, 'alpha': 6.1447805187358e-05, 'colsample_bytree': 0.42231236490989665, 'subsample': 0.2429005184769687, 'learning_rate': 0.5646889262860395, 'max_depth': 18, 'min_child_weight': 75, 'feature_selector': 'random', 'boosting': 'gblinear', 'selector': 'mutual_info_regression', 'num_selected': 46, 'n_estimators': 10, 'early_stopping_rounds': 23}. Best is trial 4 with value: 44553.95654018811.\n",
      "[I 2024-05-05 18:30:01,968] Trial 19 finished with value: 44271.758813630615 and parameters: {'lambda': 0.40532337404036833, 'alpha': 9.093636856080353e-07, 'colsample_bytree': 0.8361697042520517, 'subsample': 0.514628191783231, 'learning_rate': 0.2268261521141563, 'max_depth': 4, 'min_child_weight': 38, 'feature_selector': 'shuffle', 'boosting': 'gbtree', 'selector': 'none', 'num_selected': 149, 'n_estimators': 19, 'early_stopping_rounds': 28}. Best is trial 19 with value: 44271.758813630615.\n"
     ]
    },
    {
     "name": "stdout",
     "output_type": "stream",
     "text": [
      "Gene optimization finished in 0:01:32.059157\n",
      "Saving gene sampler to file ./NN_search/426_convnextbase_003_998_1_1_2_X26_mean_genesampler.pickle\n",
      "Starting optimization for X26_mean with TPE sampler\n"
     ]
    },
    {
     "name": "stderr",
     "output_type": "stream",
     "text": [
      "[I 2024-05-05 18:30:02,481] Trial 20 finished with value: 44555.70173047969 and parameters: {'lambda': 0.9530703238222433, 'alpha': 3.667445909914517e-05, 'colsample_bytree': 0.8732436787593901, 'subsample': 0.6773436950729914, 'learning_rate': 0.21026365034468264, 'max_depth': 3, 'min_child_weight': 78, 'feature_selector': 'shuffle', 'boosting': 'gbtree', 'selector': 'none', 'num_selected': 169, 'n_estimators': 22, 'early_stopping_rounds': 26}. Best is trial 19 with value: 44271.758813630615.\n",
      "[I 2024-05-05 18:30:17,133] Trial 21 finished with value: 47129.26796607737 and parameters: {'lambda': 0.13702077164439158, 'alpha': 7.780765694431643e-08, 'colsample_bytree': 0.8582018172282827, 'subsample': 0.4967399270749242, 'learning_rate': 0.37401210156359055, 'max_depth': 7, 'min_child_weight': 38, 'feature_selector': 'shuffle', 'boosting': 'gbtree', 'selector': 'mutual_info_regression', 'num_selected': 142, 'n_estimators': 12, 'early_stopping_rounds': 23}. Best is trial 19 with value: 44271.758813630615.\n",
      "[I 2024-05-05 18:30:18,038] Trial 22 finished with value: 43406.377232384584 and parameters: {'lambda': 0.06406141435145717, 'alpha': 5.394766767007468e-05, 'colsample_bytree': 0.7940225466372881, 'subsample': 0.7647281163676138, 'learning_rate': 0.10922388471575302, 'max_depth': 9, 'min_child_weight': 81, 'feature_selector': 'shuffle', 'boosting': 'gbtree', 'selector': 'none', 'num_selected': 135, 'n_estimators': 38, 'early_stopping_rounds': 33}. Best is trial 22 with value: 43406.377232384584.\n",
      "[I 2024-05-05 18:30:18,563] Trial 23 finished with value: 46471.75660961845 and parameters: {'lambda': 5.354335856429488e-08, 'alpha': 0.0010147824156246854, 'colsample_bytree': 0.6356636850875794, 'subsample': 0.43793000507925883, 'learning_rate': 0.38645791325362444, 'max_depth': 7, 'min_child_weight': 86, 'feature_selector': 'random', 'boosting': 'dart', 'selector': 'none', 'num_selected': 60, 'n_estimators': 37, 'early_stopping_rounds': 5}. Best is trial 22 with value: 43406.377232384584.\n",
      "[I 2024-05-05 18:30:19,010] Trial 24 finished with value: 57861.003387467485 and parameters: {'lambda': 0.00020486797870780402, 'alpha': 0.006727784556929756, 'colsample_bytree': 0.6249758600803843, 'subsample': 0.6576844347630431, 'learning_rate': 0.015815397405721243, 'max_depth': 6, 'min_child_weight': 70, 'feature_selector': 'random', 'boosting': 'dart', 'selector': 'f_regression', 'num_selected': 15, 'n_estimators': 25, 'early_stopping_rounds': 8}. Best is trial 22 with value: 43406.377232384584.\n",
      "[I 2024-05-05 18:30:19,965] Trial 25 finished with value: 45468.432806575176 and parameters: {'lambda': 0.00038688732089647913, 'alpha': 3.548962050272106e-06, 'colsample_bytree': 0.6747953090361787, 'subsample': 0.6876417324455698, 'learning_rate': 0.20550219935721079, 'max_depth': 7, 'min_child_weight': 69, 'feature_selector': 'cyclic', 'boosting': 'gblinear', 'selector': 'none', 'num_selected': 145, 'n_estimators': 69, 'early_stopping_rounds': 33}. Best is trial 22 with value: 43406.377232384584.\n",
      "[I 2024-05-05 18:30:20,310] Trial 26 finished with value: 46722.835922379534 and parameters: {'lambda': 0.12508936314826768, 'alpha': 2.863903293337617e-05, 'colsample_bytree': 0.848724664080932, 'subsample': 0.5334898951877595, 'learning_rate': 0.4205985924416727, 'max_depth': 2, 'min_child_weight': 8, 'feature_selector': 'random', 'boosting': 'gbtree', 'selector': 'none', 'num_selected': 150, 'n_estimators': 15, 'early_stopping_rounds': 34}. Best is trial 22 with value: 43406.377232384584.\n",
      "[I 2024-05-05 18:30:21,043] Trial 27 finished with value: 48017.11343985981 and parameters: {'lambda': 0.000790698569481496, 'alpha': 1.511059194173881e-07, 'colsample_bytree': 0.7980061720955536, 'subsample': 0.5210873917473678, 'learning_rate': 0.2565154687627327, 'max_depth': 6, 'min_child_weight': 46, 'feature_selector': 'thrifty', 'boosting': 'gbtree', 'selector': 'none', 'num_selected': 76, 'n_estimators': 78, 'early_stopping_rounds': 32}. Best is trial 22 with value: 43406.377232384584.\n",
      "[I 2024-05-05 18:30:21,716] Trial 28 finished with value: 45978.08574938305 and parameters: {'lambda': 0.10172521068108839, 'alpha': 0.0006734602760038276, 'colsample_bytree': 0.8826109819050172, 'subsample': 0.7826087338522341, 'learning_rate': 0.15528390607818152, 'max_depth': 15, 'min_child_weight': 99, 'feature_selector': 'shuffle', 'boosting': 'gbtree', 'selector': 'none', 'num_selected': 90, 'n_estimators': 16, 'early_stopping_rounds': 32}. Best is trial 22 with value: 43406.377232384584.\n",
      "[I 2024-05-05 18:30:22,238] Trial 29 finished with value: 53177.019402419486 and parameters: {'lambda': 8.015251260930747e-05, 'alpha': 0.0014442160016643224, 'colsample_bytree': 0.6825854628912175, 'subsample': 0.8536557653224819, 'learning_rate': 0.027125785988777518, 'max_depth': 6, 'min_child_weight': 87, 'feature_selector': 'thrifty', 'boosting': 'dart', 'selector': 'none', 'num_selected': 111, 'n_estimators': 22, 'early_stopping_rounds': 16}. Best is trial 22 with value: 43406.377232384584.\n"
     ]
    },
    {
     "name": "stdout",
     "output_type": "stream",
     "text": [
      "TPE optimization finished in 0:00:20.268989\n",
      "Saving TPE sampler to file ./NN_search/426_convnextbase_003_998_1_1_2_X26_mean_tpe_sampler.pickle\n",
      "Optimization finished in 0:02:56.946923\n",
      "Cross-validated MSE: 38855.12066830857 for X26_mean\n",
      "Best parameters for X26_mean:  {'lambda': 0.06406141435145717, 'alpha': 5.394766767007468e-05, 'colsample_bytree': 0.7940225466372881, 'subsample': 0.7647281163676138, 'learning_rate': 0.10922388471575302, 'max_depth': 9, 'min_child_weight': 81, 'feature_selector': 'shuffle', 'boosting': 'gbtree', 'selector': 'none', 'num_selected': 135, 'n_estimators': 38, 'early_stopping_rounds': 33}\n",
      "Train data shape without selector 182\n",
      "Time taken for crosvalidation: 0:00:13.799965\n",
      "Fitting model for X26_mean with best parameters\n",
      "None selector\n"
     ]
    },
    {
     "name": "stderr",
     "output_type": "stream",
     "text": [
      "/tmp/ipykernel_38604/3173838020.py:75: ExperimentalWarning: VSBXCrossover is experimental (supported from v3.0.0). The interface can change in the future.\n",
      "  genemachine = optuna.samplers.NSGAIISampler(crossover = optuna.samplers.nsgaii.VSBXCrossover())\n",
      "/tmp/ipykernel_38604/3173838020.py:83: ExperimentalWarning: QMCSampler is experimental (supported from v3.0.0). The interface can change in the future.\n",
      "  qmc_sampler = optuna.samplers.QMCSampler(warn_independent_sampling = False)\n",
      "[I 2024-05-05 18:30:38,975] A new study created in RDB with name: 426_convnextbase_003_998_1\n"
     ]
    },
    {
     "name": "stdout",
     "output_type": "stream",
     "text": [
      "Time taken for fitting whole data: 0:00:02.590558\n",
      "Time taken: 0:34:50.730684\n",
      "\n",
      "\n",
      "Optimizing model for X3112_mean using train fold 1 and validation fold 2\n",
      "\n",
      "\n",
      "Creating new gene sampler\n",
      "Creating new QMC sampler\n",
      "Loading TPE sampler from file <_io.BufferedReader name='./NN_search/426_convnextbase_003_998_1_1_2_X3112_mean_tpe_sampler.pickle'>\n",
      "Starting optimization for X3112_mean with qmc sampler\n"
     ]
    },
    {
     "name": "stderr",
     "output_type": "stream",
     "text": [
      "[I 2024-05-05 18:30:54,562] Trial 0 finished with value: 17870859.061547503 and parameters: {'lambda': 3.3672757852564163e-05, 'alpha': 0.48298839537332755, 'colsample_bytree': 0.11276003511203508, 'subsample': 0.3537851989764109, 'learning_rate': 0.65977935632663, 'max_depth': 15, 'min_child_weight': 13, 'feature_selector': 'cyclic', 'boosting': 'gblinear', 'selector': 'mutual_info_regression', 'num_selected': 125, 'n_estimators': 392, 'early_stopping_rounds': 29}. Best is trial 0 with value: 17870859.061547503.\n",
      "[I 2024-05-05 18:30:54,868] Trial 1 finished with value: 13160057.231803507 and parameters: {'lambda': 0.855224875651823, 'alpha': 0.01405722792569848, 'colsample_bytree': 0.1, 'subsample': 0.1, 'learning_rate': 0.01, 'max_depth': 2, 'min_child_weight': 1, 'feature_selector': 'shuffle', 'boosting': 'dart', 'selector': 'none', 'num_selected': 1, 'n_estimators': 10, 'early_stopping_rounds': 5}. Best is trial 1 with value: 13160057.231803507.\n",
      "[I 2024-05-05 18:30:55,635] Trial 2 finished with value: 5842279.921955846 and parameters: {'lambda': 9.999999999999991e-05, 'alpha': 9.999999999999991e-05, 'colsample_bytree': 0.5, 'subsample': 0.5, 'learning_rate': 0.505, 'max_depth': 11, 'min_child_weight': 51, 'feature_selector': 'thrifty', 'boosting': 'gbtree', 'selector': 'none', 'num_selected': 91, 'n_estimators': 97, 'early_stopping_rounds': 27}. Best is trial 2 with value: 5842279.921955846.\n",
      "[I 2024-05-05 18:30:56,568] Trial 3 finished with value: 28412059.659173686 and parameters: {'lambda': 0.009999999999999995, 'alpha': 9.999999999999987e-07, 'colsample_bytree': 0.30000000000000004, 'subsample': 0.30000000000000004, 'learning_rate': 0.7525, 'max_depth': 16, 'min_child_weight': 25, 'feature_selector': 'shuffle', 'boosting': 'gblinear', 'selector': 'f_regression', 'num_selected': 136, 'n_estimators': 312, 'early_stopping_rounds': 39}. Best is trial 2 with value: 5842279.921955846.\n",
      "[I 2024-05-05 18:30:57,161] Trial 4 finished with value: 3523285.5152512416 and parameters: {'lambda': 9.999999999999987e-07, 'alpha': 0.009999999999999995, 'colsample_bytree': 0.7000000000000001, 'subsample': 0.7000000000000001, 'learning_rate': 0.2575, 'max_depth': 6, 'min_child_weight': 75, 'feature_selector': 'greedy', 'boosting': 'dart', 'selector': 'none', 'num_selected': 46, 'n_estimators': 30, 'early_stopping_rounds': 16}. Best is trial 4 with value: 3523285.5152512416.\n",
      "[I 2024-05-05 18:30:57,667] Trial 5 finished with value: 4403871.921954 and parameters: {'lambda': 9.99999999999998e-06, 'alpha': 9.99999999999998e-06, 'colsample_bytree': 0.6, 'subsample': 0.8, 'learning_rate': 0.38125, 'max_depth': 4, 'min_child_weight': 38, 'feature_selector': 'random', 'boosting': 'dart', 'selector': 'none', 'num_selected': 159, 'n_estimators': 559, 'early_stopping_rounds': 33}. Best is trial 4 with value: 3523285.5152512416.\n",
      "[I 2024-05-05 18:30:58,096] Trial 6 finished with value: 6235856.456632205 and parameters: {'lambda': 0.0999999999999999, 'alpha': 0.0999999999999999, 'colsample_bytree': 0.2, 'subsample': 0.4, 'learning_rate': 0.87625, 'max_depth': 13, 'min_child_weight': 88, 'feature_selector': 'thrifty', 'boosting': 'gbtree', 'selector': 'f_regression', 'num_selected': 68, 'n_estimators': 54, 'early_stopping_rounds': 10}. Best is trial 4 with value: 3523285.5152512416.\n",
      "[I 2024-05-05 18:30:59,412] Trial 7 finished with value: 10193070.570423832 and parameters: {'lambda': 0.0010000000000000002, 'alpha': 9.999999999999994e-08, 'colsample_bytree': 0.8, 'subsample': 0.6, 'learning_rate': 0.62875, 'max_depth': 18, 'min_child_weight': 13, 'feature_selector': 'cyclic', 'boosting': 'gblinear', 'selector': 'none', 'num_selected': 23, 'n_estimators': 17, 'early_stopping_rounds': 22}. Best is trial 4 with value: 3523285.5152512416.\n",
      "[I 2024-05-05 18:31:15,325] Trial 8 finished with value: 3758113.557037601 and parameters: {'lambda': 9.999999999999994e-08, 'alpha': 0.0010000000000000002, 'colsample_bytree': 0.4, 'subsample': 0.2, 'learning_rate': 0.13375, 'max_depth': 9, 'min_child_weight': 63, 'feature_selector': 'shuffle', 'boosting': 'dart', 'selector': 'mutual_info_regression', 'num_selected': 114, 'n_estimators': 174, 'early_stopping_rounds': 45}. Best is trial 4 with value: 3523285.5152512416.\n",
      "[I 2024-05-05 18:31:15,898] Trial 9 finished with value: 5368494.859837342 and parameters: {'lambda': 3.1622776601683734e-07, 'alpha': 3.162277660168377e-06, 'colsample_bytree': 0.85, 'subsample': 0.45000000000000007, 'learning_rate': 0.566875, 'max_depth': 7, 'min_child_weight': 44, 'feature_selector': 'random', 'boosting': 'dart', 'selector': 'f_regression', 'num_selected': 170, 'n_estimators': 748, 'early_stopping_rounds': 19}. Best is trial 4 with value: 3523285.5152512416.\n"
     ]
    },
    {
     "name": "stdout",
     "output_type": "stream",
     "text": [
      "QCM optimization finished in 0:00:36.921843\n",
      "Saving QMC sampler to file ./NN_search/426_convnextbase_003_998_1_1_2_X3112_mean_qmc_sampler.pickle\n",
      "Starting optimization for X3112_mean with gene sampler\n"
     ]
    },
    {
     "name": "stderr",
     "output_type": "stream",
     "text": [
      "[I 2024-05-05 18:31:30,939] Trial 10 finished with value: 3414535.5461593964 and parameters: {'lambda': 2.0695938060970025e-05, 'alpha': 0.0026870821606643056, 'colsample_bytree': 0.4719519145789307, 'subsample': 0.586288312697555, 'learning_rate': 0.2186992507164754, 'max_depth': 10, 'min_child_weight': 28, 'feature_selector': 'cyclic', 'boosting': 'dart', 'selector': 'mutual_info_regression', 'num_selected': 36, 'n_estimators': 25, 'early_stopping_rounds': 14}. Best is trial 10 with value: 3414535.5461593964.\n",
      "[I 2024-05-05 18:31:31,876] Trial 11 finished with value: 5494706.401296452 and parameters: {'lambda': 0.006422704017926952, 'alpha': 8.347326274165704e-08, 'colsample_bytree': 0.2517570552102464, 'subsample': 0.42735376348664267, 'learning_rate': 0.6033776691605403, 'max_depth': 13, 'min_child_weight': 98, 'feature_selector': 'shuffle', 'boosting': 'gbtree', 'selector': 'none', 'num_selected': 117, 'n_estimators': 353, 'early_stopping_rounds': 19}. Best is trial 10 with value: 3414535.5461593964.\n",
      "[I 2024-05-05 18:31:33,804] Trial 12 finished with value: 2924214.4759506476 and parameters: {'lambda': 3.380793656543689e-05, 'alpha': 6.63414198119049e-08, 'colsample_bytree': 0.7488892925355332, 'subsample': 0.5180445842959263, 'learning_rate': 0.04497247283610099, 'max_depth': 11, 'min_child_weight': 22, 'feature_selector': 'random', 'boosting': 'dart', 'selector': 'none', 'num_selected': 100, 'n_estimators': 57, 'early_stopping_rounds': 13}. Best is trial 12 with value: 2924214.4759506476.\n",
      "[I 2024-05-05 18:31:49,293] Trial 13 finished with value: 3967074.139327595 and parameters: {'lambda': 0.018705526692146573, 'alpha': 0.2788272210794912, 'colsample_bytree': 0.3696396648697, 'subsample': 0.5118029275171233, 'learning_rate': 0.2676306150820674, 'max_depth': 18, 'min_child_weight': 44, 'feature_selector': 'cyclic', 'boosting': 'gbtree', 'selector': 'mutual_info_regression', 'num_selected': 113, 'n_estimators': 105, 'early_stopping_rounds': 29}. Best is trial 12 with value: 2924214.4759506476.\n",
      "[I 2024-05-05 18:32:04,215] Trial 14 finished with value: 3851701.964976197 and parameters: {'lambda': 5.135613806608987e-08, 'alpha': 0.006829893857910147, 'colsample_bytree': 0.23460211550312782, 'subsample': 0.896015399402399, 'learning_rate': 0.4882514558448902, 'max_depth': 20, 'min_child_weight': 48, 'feature_selector': 'random', 'boosting': 'gblinear', 'selector': 'mutual_info_regression', 'num_selected': 109, 'n_estimators': 329, 'early_stopping_rounds': 5}. Best is trial 12 with value: 2924214.4759506476.\n",
      "[I 2024-05-05 18:32:05,292] Trial 15 finished with value: 5394936.1192071065 and parameters: {'lambda': 3.338587333910426e-05, 'alpha': 0.134420024781161, 'colsample_bytree': 0.4015267171095829, 'subsample': 0.7985330294285972, 'learning_rate': 0.44920365934300677, 'max_depth': 18, 'min_child_weight': 27, 'feature_selector': 'cyclic', 'boosting': 'dart', 'selector': 'none', 'num_selected': 30, 'n_estimators': 344, 'early_stopping_rounds': 17}. Best is trial 12 with value: 2924214.4759506476.\n",
      "[I 2024-05-05 18:32:05,977] Trial 16 finished with value: 47630325.79451269 and parameters: {'lambda': 6.36913025925107e-08, 'alpha': 0.08242842229533093, 'colsample_bytree': 0.511790335468597, 'subsample': 0.10484243525136759, 'learning_rate': 0.9867684167530667, 'max_depth': 18, 'min_child_weight': 62, 'feature_selector': 'greedy', 'boosting': 'gbtree', 'selector': 'none', 'num_selected': 88, 'n_estimators': 163, 'early_stopping_rounds': 35}. Best is trial 12 with value: 2924214.4759506476.\n",
      "[I 2024-05-05 18:32:06,774] Trial 17 finished with value: 5544652.695665541 and parameters: {'lambda': 4.657807576007498e-05, 'alpha': 0.000139460631373976, 'colsample_bytree': 0.891891807438116, 'subsample': 0.7678147908939938, 'learning_rate': 0.5781479345297865, 'max_depth': 6, 'min_child_weight': 99, 'feature_selector': 'shuffle', 'boosting': 'gblinear', 'selector': 'none', 'num_selected': 63, 'n_estimators': 82, 'early_stopping_rounds': 48}. Best is trial 12 with value: 2924214.4759506476.\n",
      "[I 2024-05-05 18:32:07,496] Trial 18 finished with value: 2933926.160186652 and parameters: {'lambda': 0.06669184375511346, 'alpha': 0.6941024379032661, 'colsample_bytree': 0.4059756043468177, 'subsample': 0.6233733316589323, 'learning_rate': 0.11903089091854573, 'max_depth': 14, 'min_child_weight': 40, 'feature_selector': 'shuffle', 'boosting': 'dart', 'selector': 'f_regression', 'num_selected': 24, 'n_estimators': 34, 'early_stopping_rounds': 11}. Best is trial 12 with value: 2924214.4759506476.\n",
      "[I 2024-05-05 18:32:08,041] Trial 19 finished with value: 3940132.825340424 and parameters: {'lambda': 0.16271326477904735, 'alpha': 0.00021349368231464658, 'colsample_bytree': 0.37862626291084356, 'subsample': 0.34633871315772846, 'learning_rate': 0.34419272539474094, 'max_depth': 14, 'min_child_weight': 42, 'feature_selector': 'cyclic', 'boosting': 'gbtree', 'selector': 'none', 'num_selected': 20, 'n_estimators': 12, 'early_stopping_rounds': 26}. Best is trial 12 with value: 2924214.4759506476.\n"
     ]
    },
    {
     "name": "stdout",
     "output_type": "stream",
     "text": [
      "Gene optimization finished in 0:00:52.142819\n",
      "Saving gene sampler to file ./NN_search/426_convnextbase_003_998_1_1_2_X3112_mean_genesampler.pickle\n",
      "Starting optimization for X3112_mean with TPE sampler\n"
     ]
    },
    {
     "name": "stderr",
     "output_type": "stream",
     "text": [
      "[I 2024-05-05 18:32:08,499] Trial 20 finished with value: 3089004.2594992653 and parameters: {'lambda': 0.6377858223973664, 'alpha': 0.00536181398192638, 'colsample_bytree': 0.20129206920088138, 'subsample': 0.7480050267093725, 'learning_rate': 0.2383207222228183, 'max_depth': 6, 'min_child_weight': 53, 'feature_selector': 'random', 'boosting': 'dart', 'selector': 'f_regression', 'num_selected': 29, 'n_estimators': 24, 'early_stopping_rounds': 6}. Best is trial 12 with value: 2924214.4759506476.\n",
      "[I 2024-05-05 18:32:09,021] Trial 21 finished with value: 3245677.3499918208 and parameters: {'lambda': 0.11494929302107552, 'alpha': 0.03666030443247161, 'colsample_bytree': 0.18550612810307449, 'subsample': 0.8071802136424877, 'learning_rate': 0.23990503617817072, 'max_depth': 9, 'min_child_weight': 37, 'feature_selector': 'random', 'boosting': 'dart', 'selector': 'f_regression', 'num_selected': 42, 'n_estimators': 26, 'early_stopping_rounds': 15}. Best is trial 12 with value: 2924214.4759506476.\n",
      "[I 2024-05-05 18:32:11,975] Trial 22 finished with value: 2953258.944323372 and parameters: {'lambda': 5.52127746715024e-06, 'alpha': 4.549643193344373e-06, 'colsample_bytree': 0.8929455747809986, 'subsample': 0.7556159315167164, 'learning_rate': 0.03031371542757598, 'max_depth': 11, 'min_child_weight': 28, 'feature_selector': 'random', 'boosting': 'dart', 'selector': 'none', 'num_selected': 105, 'n_estimators': 72, 'early_stopping_rounds': 9}. Best is trial 12 with value: 2924214.4759506476.\n",
      "[I 2024-05-05 18:32:12,672] Trial 23 finished with value: 3250440.7499529077 and parameters: {'lambda': 4.264770107658799e-05, 'alpha': 9.54933034511336e-07, 'colsample_bytree': 0.840282357113841, 'subsample': 0.26065211622346984, 'learning_rate': 0.13592512458777334, 'max_depth': 10, 'min_child_weight': 29, 'feature_selector': 'random', 'boosting': 'dart', 'selector': 'none', 'num_selected': 122, 'n_estimators': 23, 'early_stopping_rounds': 15}. Best is trial 12 with value: 2924214.4759506476.\n",
      "[I 2024-05-05 18:32:13,769] Trial 24 finished with value: 4308908.746236445 and parameters: {'lambda': 5.189120897328044e-05, 'alpha': 3.0499757016670264e-05, 'colsample_bytree': 0.8083509410424193, 'subsample': 0.8158482589514278, 'learning_rate': 0.24403067489653962, 'max_depth': 10, 'min_child_weight': 10, 'feature_selector': 'random', 'boosting': 'dart', 'selector': 'none', 'num_selected': 104, 'n_estimators': 50, 'early_stopping_rounds': 16}. Best is trial 12 with value: 2924214.4759506476.\n",
      "[I 2024-05-05 18:32:14,370] Trial 25 finished with value: 3327389.28131845 and parameters: {'lambda': 0.05069869007127275, 'alpha': 0.42661001712935753, 'colsample_bytree': 0.6201636905376448, 'subsample': 0.5869784102983241, 'learning_rate': 0.11658712070698257, 'max_depth': 20, 'min_child_weight': 44, 'feature_selector': 'random', 'boosting': 'dart', 'selector': 'f_regression', 'num_selected': 49, 'n_estimators': 17, 'early_stopping_rounds': 27}. Best is trial 12 with value: 2924214.4759506476.\n",
      "[I 2024-05-05 18:32:15,170] Trial 26 finished with value: 3211463.4489784962 and parameters: {'lambda': 8.756603651240384e-07, 'alpha': 5.834780928978953e-08, 'colsample_bytree': 0.8107292931154936, 'subsample': 0.582986528807083, 'learning_rate': 0.1210862434551461, 'max_depth': 8, 'min_child_weight': 31, 'feature_selector': 'greedy', 'boosting': 'dart', 'selector': 'none', 'num_selected': 43, 'n_estimators': 409, 'early_stopping_rounds': 8}. Best is trial 12 with value: 2924214.4759506476.\n",
      "[I 2024-05-05 18:32:16,527] Trial 27 finished with value: 3769944.9681272013 and parameters: {'lambda': 0.009058870021545746, 'alpha': 0.02099652147554762, 'colsample_bytree': 0.410407613890743, 'subsample': 0.220918879163723, 'learning_rate': 0.12679742512981404, 'max_depth': 12, 'min_child_weight': 50, 'feature_selector': 'thrifty', 'boosting': 'dart', 'selector': 'f_regression', 'num_selected': 20, 'n_estimators': 241, 'early_stopping_rounds': 18}. Best is trial 12 with value: 2924214.4759506476.\n",
      "[I 2024-05-05 18:32:31,897] Trial 28 finished with value: 4780912.06474852 and parameters: {'lambda': 2.391773240720933e-06, 'alpha': 1.3691703054813448e-08, 'colsample_bytree': 0.5532364439844304, 'subsample': 0.6347232262972115, 'learning_rate': 0.25831289734598034, 'max_depth': 12, 'min_child_weight': 11, 'feature_selector': 'shuffle', 'boosting': 'dart', 'selector': 'mutual_info_regression', 'num_selected': 145, 'n_estimators': 47, 'early_stopping_rounds': 21}. Best is trial 12 with value: 2924214.4759506476.\n",
      "[I 2024-05-05 18:32:32,889] Trial 29 finished with value: 3182728.241662254 and parameters: {'lambda': 9.578565055232713e-05, 'alpha': 0.6120112095334219, 'colsample_bytree': 0.3188082171235832, 'subsample': 0.6780202964267874, 'learning_rate': 0.10721379153168484, 'max_depth': 18, 'min_child_weight': 59, 'feature_selector': 'random', 'boosting': 'dart', 'selector': 'none', 'num_selected': 33, 'n_estimators': 26, 'early_stopping_rounds': 18}. Best is trial 12 with value: 2924214.4759506476.\n"
     ]
    },
    {
     "name": "stdout",
     "output_type": "stream",
     "text": [
      "TPE optimization finished in 0:00:24.845976\n",
      "Saving TPE sampler to file ./NN_search/426_convnextbase_003_998_1_1_2_X3112_mean_tpe_sampler.pickle\n",
      "Optimization finished in 0:01:54.044254\n",
      "Cross-validated MSE: 3266541.525374479 for X3112_mean\n",
      "Best parameters for X3112_mean:  {'lambda': 3.380793656543689e-05, 'alpha': 6.63414198119049e-08, 'colsample_bytree': 0.7488892925355332, 'subsample': 0.5180445842959263, 'learning_rate': 0.04497247283610099, 'max_depth': 11, 'min_child_weight': 22, 'feature_selector': 'random', 'boosting': 'dart', 'selector': 'none', 'num_selected': 100, 'n_estimators': 57, 'early_stopping_rounds': 13}\n",
      "Train data shape without selector 182\n",
      "Time taken for crosvalidation: 0:00:38.693569\n",
      "Fitting model for X3112_mean with best parameters\n",
      "None selector\n",
      "Time taken for fitting whole data: 0:00:08.027991\n",
      "Time taken: 0:37:31.793595\n"
     ]
    }
   ],
   "source": [
    "target_columns = ['X4_mean', 'X11_mean', 'X18_mean', 'X50_mean', 'X26_mean', 'X3112_mean']\n",
    "train_fold = 1\n",
    "validation_fold = 2\n",
    "\n",
    "# Mallien kouluttaminen jokaiselle kohdemuuttujalle\n",
    "models = {}\n",
    "\n",
    "time_search_start = time.time()\n",
    "time_taken = 0\n",
    "\n",
    "while time_taken < 60:\n",
    "    for target in target_columns:    \n",
    "        print(f'\\n\\nOptimizing model for {target} using train fold {train_fold} and validation fold {validation_fold}\\n\\n')\n",
    "        models[target] = optimize_model(train_df, target, train_fold, validation_fold)\n",
    "        time_taken = time.time() - time_search_start\n",
    "        print(f'Time taken: {timedelta(seconds=time_taken)}')   "
   ]
  },
  {
   "cell_type": "code",
   "execution_count": 13,
   "metadata": {},
   "outputs": [
    {
     "name": "stderr",
     "output_type": "stream",
     "text": [
      "<>:21: SyntaxWarning: \"is not\" with a literal. Did you mean \"!=\"?\n",
      "<>:21: SyntaxWarning: \"is not\" with a literal. Did you mean \"!=\"?\n",
      "/tmp/ipykernel_38604/1696103066.py:21: SyntaxWarning: \"is not\" with a literal. Did you mean \"!=\"?\n",
      "  if best_params['selector'] is not 'none':\n",
      "[I 2024-05-05 18:46:17,865] Using an existing study with name '426_convnextbase_003_998_1' instead of creating a new one.\n"
     ]
    },
    {
     "name": "stdout",
     "output_type": "stream",
     "text": [
      "best params none\n",
      "Selector for X18_mean: none with 107 features\n"
     ]
    }
   ],
   "source": [
    "features_array = np.array(train_df['combined_features'].tolist())\n",
    "X_combined_train = np.hstack([train_df[FEATURE_COLS].values, features_array])\n",
    "\n",
    "train_pred = np.zeros((train_df.shape[0], len(target_columns)))\n",
    "\n",
    "selectors = {}\n",
    "\n",
    "for i, target in enumerate(target_columns):    \n",
    "    \n",
    "    study = optuna.create_study(direction='minimize',\n",
    "                        study_name=study_name,\n",
    "                        storage=f'sqlite:///502_xgboost_{target}.db',\n",
    "                        load_if_exists=True                            \n",
    "                            )\n",
    "    \n",
    "    best_params = study.best_trial.params\n",
    "\n",
    "    testa = best_params['selector']\n",
    "    print(f'best params {testa}' )\n",
    "\n",
    "    if best_params['selector'] != 'none':\n",
    "        if best_params['selector'] == 'f_regression':\n",
    "            print(f'Selector for {target}: {best_params[\"selector\"]} with {best_params[\"num_selected\"]} features')\n",
    "            select = SelectKBest(f_regression, k=best_params['num_selected'])\n",
    "            \n",
    "        else:\n",
    "            print(f'Selector for {target}: {best_params[\"selector\"]} with {best_params[\"num_selected\"]} features')\n",
    "            select = SelectKBest(mutual_info_regression, k=best_params['num_selected'])\n",
    "            \n",
    "        X_selected = select.fit_transform(X_combined_train, train_df[target])\n",
    "        selectors[target] = select\n",
    "\n",
    "    else:\n",
    "                 \n",
    "        X_selected = X_combined_train\n",
    "        print(f'X_selected shape {X_selected.shape}')\n",
    "        print(f'None selector in target {target}')\n",
    "        selectors[target] = None\n",
    "    \n",
    "    train_pred[:, i] = models[target].predict(X_selected)\n",
    "\n",
    "train_r2 = r2_score(train_df[target_columns], train_pred)\n",
    "print(f'Training R2: {train_r2}')"
   ]
  },
  {
   "cell_type": "code",
   "execution_count": null,
   "metadata": {},
   "outputs": [],
   "source": [
    "features_array = np.array(test_df['combined_features'].tolist())\n",
    "X_combined_test = np.hstack([test_df[FEATURE_COLS].values, features_array])\n",
    "\n",
    "test_preds = np.zeros((len(test_df), len(target_columns)))\n",
    "\n",
    "for i, target in enumerate(target_columns):\n",
    "    print(f'Predicting {target} with model {models[target]}')\n",
    "    study = optuna.create_study(direction='minimize',\n",
    "                        study_name=study_name,\n",
    "                        storage=f'sqlite:///502_xgboost_{target}_selectestii.db',\n",
    "                        load_if_exists=True                            \n",
    "                            )\n",
    "    \n",
    "    if selectors[target] is not None:\n",
    "        X_selected = selectors[target].transform(X_combined_test)\n",
    "    else:\n",
    "        X_selected = X_combined_test\n",
    "\n",
    "    test_preds[:, i] = models[target].predict(X_selected)\n",
    "     "
   ]
  },
  {
   "cell_type": "code",
   "execution_count": null,
   "metadata": {},
   "outputs": [],
   "source": [
    "target_columns = ['X4', 'X11', 'X18', 'X50', 'X26', 'X3112']\n",
    "\n",
    "test_df_copy = test_df.copy()\n",
    "submission_df = test_df_copy[['id']].copy()\n",
    "submission_df[target_columns] = test_preds"
   ]
  },
  {
   "cell_type": "code",
   "execution_count": null,
   "metadata": {},
   "outputs": [],
   "source": [
    "submission_df.describe()"
   ]
  },
  {
   "cell_type": "code",
   "execution_count": null,
   "metadata": {},
   "outputs": [],
   "source": [
    "target_columns = ['X4_mean', 'X11_mean', 'X18_mean', 'X50_mean', 'X26_mean', 'X3112_mean']\n",
    "train_df[target_columns].describe()"
   ]
  },
  {
   "cell_type": "code",
   "execution_count": null,
   "metadata": {},
   "outputs": [],
   "source": [
    "submission_df.head()"
   ]
  },
  {
   "cell_type": "code",
   "execution_count": null,
   "metadata": {},
   "outputs": [],
   "source": [
    "submission_df.to_csv('./data/submission.csv', index=False)"
   ]
  }
 ],
 "metadata": {
  "kernelspec": {
   "display_name": "tf",
   "language": "python",
   "name": "python3"
  },
  "language_info": {
   "codemirror_mode": {
    "name": "ipython",
    "version": 3
   },
   "file_extension": ".py",
   "mimetype": "text/x-python",
   "name": "python",
   "nbconvert_exporter": "python",
   "pygments_lexer": "ipython3",
   "version": "3.9.19"
  }
 },
 "nbformat": 4,
 "nbformat_minor": 2
}
