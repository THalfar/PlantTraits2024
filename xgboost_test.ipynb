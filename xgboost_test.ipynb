{
 "cells": [
  {
   "cell_type": "code",
   "execution_count": null,
   "metadata": {},
   "outputs": [],
   "source": [
    "import numpy as np\n",
    "import xgboost as xgb\n",
    "import pandas as pd\n",
    "from sklearn.metrics import r2_score, mean_squared_error\n",
    "import optuna\n",
    "import pickle\n",
    "from datetime import timedelta\n",
    "import time\n",
    "import os \n",
    "from sklearn.feature_selection import SelectKBest, f_regression, mutual_info_regression\n",
    "import gc\n",
    "import tensorflow as tf\n",
    "import matplotlib.pyplot as plt\n",
    "import seaborn as sns"
   ]
  },
  {
   "cell_type": "code",
   "execution_count": null,
   "metadata": {},
   "outputs": [],
   "source": [
    "\n",
    "tf.keras.backend.clear_session()\n",
    "gc.collect()"
   ]
  },
  {
   "cell_type": "code",
   "execution_count": null,
   "metadata": {},
   "outputs": [],
   "source": [
    "feat = pd.read_csv('./data/test.csv')\n",
    "FEATURE_COLS = feat.columns[1:].tolist()"
   ]
  },
  {
   "cell_type": "code",
   "execution_count": null,
   "metadata": {},
   "outputs": [],
   "source": [
    "study_name = '525_combined_fold_2_3'"
   ]
  },
  {
   "cell_type": "code",
   "execution_count": null,
   "metadata": {},
   "outputs": [],
   "source": [
    "\n",
    "\n",
    "pickle_file_path = f'./data/train_df.pickle'\n",
    "\n",
    "with open(pickle_file_path, 'rb') as f:\n",
    "    train_df = pickle.load(f)"
   ]
  },
  {
   "cell_type": "code",
   "execution_count": null,
   "metadata": {},
   "outputs": [],
   "source": []
  },
  {
   "cell_type": "code",
   "execution_count": null,
   "metadata": {},
   "outputs": [],
   "source": [
    "pd.set_option('display.max_rows', None)\n",
    "\n",
    "# Aseta näyttämään rajoittamaton määrä sarakkeita\n",
    "pd.set_option('display.max_columns', None)"
   ]
  },
  {
   "cell_type": "code",
   "execution_count": null,
   "metadata": {},
   "outputs": [],
   "source": [
    "train_df.head()"
   ]
  },
  {
   "cell_type": "code",
   "execution_count": null,
   "metadata": {},
   "outputs": [],
   "source": []
  },
  {
   "cell_type": "code",
   "execution_count": null,
   "metadata": {},
   "outputs": [],
   "source": [
    "print(train_df['fold'].value_counts())"
   ]
  },
  {
   "cell_type": "code",
   "execution_count": null,
   "metadata": {},
   "outputs": [],
   "source": [
    "\n",
    "\n",
    "\n",
    "def plot_data(df, columns_names):\n",
    "    plt.figure(figsize=(15, 3))\n",
    "\n",
    "    # Setting up a grid of plots with 2 columns\n",
    "    n_cols = 6\n",
    "    n_rows = len(columns_names) // n_cols + (len(columns_names) % n_cols > 0)\n",
    "\n",
    "    for i, col in enumerate(columns_names):\n",
    "    \n",
    "        plt.subplot(n_rows, n_cols, i+1)\n",
    "        sns.kdeplot(df[col], bw_adjust=0.5, fill=False, color='blue')\n",
    "        plt.title(f'Distribution of {col}')\n",
    "        plt.xlabel('Value')\n",
    "        plt.ylabel('Density')\n",
    "\n",
    "    plt.tight_layout()\n",
    "    plt.show()\n",
    "    \n"
   ]
  },
  {
   "cell_type": "code",
   "execution_count": null,
   "metadata": {},
   "outputs": [],
   "source": [
    "mean_columns = ['X4_mean', 'X11_mean', 'X18_mean', 'X50_mean', 'X26_mean', 'X3112_mean']\n",
    "\n",
    "plot_data(train_df, mean_columns)\n",
    "\n",
    "for column in mean_columns:\n",
    "    lower_quantile = train_df[column].quantile(0.01)\n",
    "    upper_quantile = train_df[column].quantile(0.975)  \n",
    "    train_df = train_df[(train_df[column] >= lower_quantile) & (train_df[column] <= upper_quantile)]\n",
    "    \n",
    "\n",
    "plot_data(train_df, mean_columns)"
   ]
  },
  {
   "cell_type": "code",
   "execution_count": null,
   "metadata": {},
   "outputs": [],
   "source": [
    "import warnings\n",
    "\n",
    "# Ohita tietyn tyyppiset varoitukset\n",
    "warnings.filterwarnings('ignore', category=UserWarning)\n",
    "\n",
    "# def get_combined_data(df):\n",
    "#     # Oletetaan, että FEATURES_COLS on jo määritelty olemassa oleville piirteille\n",
    "#     data = [df[col].values for col in FEATURE_COLS]\n",
    "#     # Lisää mallin piirteet\n",
    "#     data.append(np.vstack(df['combined_features'].values))\n",
    "#     return np.column_stack(data)\n",
    "\n",
    "def get_features_array(features_series):\n",
    "    # Muuntaa sarjan, joka sisältää taulukoita, yhdeksi 2D-taulukoksi\n",
    "    return np.array(list(features_series))\n",
    "\n",
    "def objective(trial, df, target):\n",
    "    param = {        \n",
    "        'objective': 'reg:squarederror',\n",
    "        'device' : 'cuda',\n",
    "        'lambda': trial.suggest_float('lambda', 1e-8, 1.0, log = True),\n",
    "        'alpha': trial.suggest_float('alpha', 1e-8, 1.0, log = True),\n",
    "        'colsample_bytree': trial.suggest_float('colsample_bytree', 0.1, 1.0),\n",
    "        'subsample': trial.suggest_float('subsample', 0.1, 1.0),\n",
    "        'learning_rate': trial.suggest_float('learning_rate', 0.001, 1.0, log = True),        \n",
    "        'max_depth': trial.suggest_int('max_depth', 2, 20),\n",
    "        'min_child_weight': trial.suggest_int('min_child_weight', 1, 142),\n",
    "        'feature_selector': trial.suggest_categorical('feature_selector', ['shuffle', 'greedy', 'thrifty', 'cyclic', 'random']),\n",
    "        'boosting': trial.suggest_categorical('boosting', ['gbtree', 'gblinear', 'dart'])\n",
    "\n",
    "        }\n",
    "    \n",
    "    num_total = df['all_features'].iloc[0]\n",
    "    num_total = len(num_total)\n",
    "    # print(f'num_total {num_total}')\n",
    "    \n",
    "    \n",
    "    \n",
    "    folds = [0, 1, 2, 3, 4]\n",
    "    mse_scores = []\n",
    "    r2_scores = []\n",
    "\n",
    "    for fold in folds:\n",
    "\n",
    "        \n",
    "        tf.keras.backend.clear_session()\n",
    "        gc.collect()\n",
    "\n",
    "        train_data = df[df['fold'] != fold]\n",
    "        valid_data = df[df['fold'] == fold]\n",
    "\n",
    "    \n",
    "        X_train = get_features_array(train_data['all_features'])\n",
    "        X_valid = get_features_array(valid_data['all_features'])\n",
    "        # print(f'Shape X_train {X_train.shape}')\n",
    "\n",
    "        y_train = train_data[target]\n",
    "        y_valid = valid_data[target]\n",
    "\n",
    "        # print(f'Y_train shape {y_train.shape}')\n",
    "\n",
    "        dtrain = xgb.DMatrix(X_train, label=y_train)\n",
    "        dvalid = xgb.DMatrix(X_valid, label=y_valid)\n",
    "\n",
    "        # print(f'Done creating DMatrix')\n",
    "\n",
    "        num_boost_round = trial.suggest_int('n_estimators', 10, 1420, log=True) \n",
    "        \n",
    "        watchlist = [(dtrain, 'train'), (dvalid, 'eval')]\n",
    "        # print(f'Starting training')\n",
    "        model = xgb.train(param, dtrain, num_boost_round=num_boost_round, evals=watchlist, verbose_eval=False)\n",
    "        preds = model.predict(dvalid)\n",
    "        mse = mean_squared_error(y_valid, preds)\n",
    "        r2 = r2_score(y_valid, preds)\n",
    "\n",
    "        trial.report(r2, fold)\n",
    "\n",
    "        if trial.should_prune():\n",
    "            print(f'Pruned fold {fold} with value {r2} and mse {mse}')\n",
    "            raise optuna.TrialPruned()\n",
    "\n",
    "        print(f'Fold {fold} MSE: {mse} R2: {r2}')\n",
    "        mse_scores.append(mse)\n",
    "        r2_scores.append(r2)\n",
    "    \n",
    "\n",
    "    tf.keras.backend.clear_session()\n",
    "    gc.collect()\n",
    "    \n",
    "    return np.mean(r2_scores)\n",
    "    \n",
    "\n",
    "def optimize_model(df, target, fold_train, fold_validation):\n",
    "\n",
    "    if os.path.exists(f'./NN_search/{study_name}_{fold_train}_{fold_validation}_{target}_qmc_sampler.pickle'):\n",
    "        with open(f'./NN_search/{study_name}_{fold_train}_{fold_validation}_{target}_qmc_sampler.pickle', 'rb') as f:\n",
    "            print(f'Loading QMC sampler from file {f}')\n",
    "            qmc_sampler = pickle.load(f)\n",
    "    else:\n",
    "        print(f'Creating new QMC sampler')\n",
    "        qmc_sampler = optuna.samplers.QMCSampler(warn_independent_sampling = False)\n",
    "\n",
    "    if os.path.exists(f'./NN_search/{study_name}_{fold_train}_{fold_validation}_{target}_tpe_sampler.pickle'):\n",
    "        with open(f'./NN_search/{study_name}_{fold_train}_{fold_validation}_{target}_tpe_sampler.pickle', 'rb') as f:\n",
    "            print(f'Loading TPE sampler from file {f}')\n",
    "            tpe_sampler = pickle.load(f)\n",
    "    else:\n",
    "        print(f'Creating new TPE sampler')\n",
    "        tpe_sampler = optuna.samplers.TPESampler(n_startup_trials=0, multivariate=True, warn_independent_sampling = False)\n",
    "\n",
    "    if os.path.exists(f'./NN_search/{study_name}_{fold_train}_{fold_validation}_{target}_pruner.pickle'):\n",
    "        with open(f'./NN_search/{study_name}_{fold_train}_{fold_validation}_{target}_pruner.pickle', 'rb') as f:\n",
    "            print(f'Loading pruner from file {f}')\n",
    "            pruner = pickle.load(f)\n",
    "    else:\n",
    "        print(f'Creating new pruner')\n",
    "        pruner = optuna.pruners.MedianPruner(n_startup_trials=5)\n",
    "\n",
    "    start_time = time.time()\n",
    "    study = optuna.create_study(direction='maximize',\n",
    "                            study_name=study_name,\n",
    "                            storage=f'sqlite:///525_xgboost_{target}.db',\n",
    "                            load_if_exists=True                                    \n",
    "                            )\n",
    "    \n",
    "    print(f'Starting optimization for {target} with qmc sampler')\n",
    "    random_time = time.time()\n",
    "    study.sampler = qmc_sampler\n",
    "    study.optimize(lambda trial: objective(trial, df, target), n_trials=5)\n",
    "    print(f'QCM optimization finished in {timedelta(seconds=time.time() - random_time)}')\n",
    "\n",
    "    print(f'Saving QMC sampler to file ./NN_search/{study_name}_{fold_train}_{fold_validation}_{target}_qmc_sampler.pickle')\n",
    "    with open(f'./NN_search/{study_name}_{fold_train}_{fold_validation}_{target}_qmc_sampler.pickle', 'wb') as f:\n",
    "        pickle.dump(qmc_sampler, f)\n",
    "\n",
    "    print(f'Starting optimization for {target} with TPE sampler')\n",
    "    tpe_time = time.time()\n",
    "    study.sampler = tpe_sampler\n",
    "    study.optimize(lambda trial: objective(trial, df, target), n_trials=20)\n",
    "    print(f'TPE optimization finished in {timedelta(seconds=time.time() - tpe_time)}')\n",
    "\n",
    "    print(f'Saving TPE sampler to file ./NN_search/{study_name}_{fold_train}_{fold_validation}_{target}_tpe_sampler.pickle')\n",
    "    with open(f'./NN_search/{study_name}_{fold_train}_{fold_validation}_{target}_tpe_sampler.pickle', 'wb') as f:\n",
    "        pickle.dump(tpe_sampler, f)\n",
    "\n",
    "    print(f'Saving pruner to file ./NN_search/{study_name}_{fold_train}_{fold_validation}_{target}_pruner.pickle')\n",
    "    with open(f'./NN_search/{study_name}_{fold_train}_{fold_validation}_{target}_pruner.pickle', 'wb') as f:\n",
    "        pickle.dump(pruner, f)\n",
    "\n",
    "    print(f'Optimization finished in {timedelta(seconds=time.time() - start_time)}')\n",
    "\n",
    "    \n",
    "    \n",
    "\n"
   ]
  },
  {
   "cell_type": "code",
   "execution_count": null,
   "metadata": {},
   "outputs": [],
   "source": [
    "# feature_columns = ['model_features_514_convnextlarge_maxavg_2', 'model_features_511_convnextlarge_3'] \n",
    "feature_columns = ['model_features_511_convnextlarge_3'] \n",
    "# feature_columns = ['model_features_514_convnextlarge_maxavg_2'] "
   ]
  },
  {
   "cell_type": "code",
   "execution_count": null,
   "metadata": {},
   "outputs": [],
   "source": [
    "print(f'Featu {feature_columns}')"
   ]
  },
  {
   "cell_type": "code",
   "execution_count": null,
   "metadata": {},
   "outputs": [],
   "source": [
    "def prepare_features(df, feature_columns):\n",
    "    # Yhdistää useita sarakkeita, oletetaan että jokainen arvo on listamuodossa tai pienenä NumPy-taulukkona\n",
    "    combined_features = np.hstack([np.vstack(df[col].values) for col in feature_columns])\n",
    "    # Muodosta data lista, jossa on kaikki tarvittavat feature sarakkeet\n",
    "    data = [df[col].values for col in FEATURE_COLS]\n",
    "    # Lisää combined_features listaan\n",
    "    data.append(combined_features)\n",
    "    # Muunna data NumPy-taulukoksi ja yhdistä sarakkeittain, muunna sitten lista vektoriksi jokaiselle riville\n",
    "    all_features = np.column_stack(data).tolist()\n",
    "    # Aseta tämä lista DataFrameen uutena sarakeena\n",
    "    df['all_features'] = all_features\n",
    "    return df\n"
   ]
  },
  {
   "cell_type": "code",
   "execution_count": null,
   "metadata": {},
   "outputs": [],
   "source": [
    "train_df_feat = prepare_features(train_df, feature_columns)"
   ]
  },
  {
   "cell_type": "code",
   "execution_count": null,
   "metadata": {},
   "outputs": [],
   "source": [
    "train_df.head()"
   ]
  },
  {
   "cell_type": "code",
   "execution_count": null,
   "metadata": {},
   "outputs": [],
   "source": [
    "testa = train_df_feat['all_features'].iloc[0]\n",
    "testa = np.array(testa)\n",
    "print(f'{testa.shape}')"
   ]
  },
  {
   "cell_type": "code",
   "execution_count": null,
   "metadata": {},
   "outputs": [],
   "source": [
    "testi = train_df_feat['model_features_511_convnextlarge_3'].iloc[0]\n",
    "testi = np.array(testi)\n",
    "print(f'{testi.shape}')"
   ]
  },
  {
   "cell_type": "code",
   "execution_count": null,
   "metadata": {},
   "outputs": [],
   "source": [
    "print(f'Feta len {len(FEATURE_COLS)}')"
   ]
  },
  {
   "cell_type": "code",
   "execution_count": null,
   "metadata": {},
   "outputs": [],
   "source": [
    "target_columns = ['X4_mean', 'X11_mean', 'X18_mean', 'X50_mean', 'X26_mean', 'X3112_mean']\n",
    "train_fold = 80\n",
    "validation_fold = 1\n",
    "\n",
    "time_search_start = time.time()\n",
    "time_taken = 0\n",
    "\n",
    "while time_taken < 3600 * 3:\n",
    "    for target in target_columns:    \n",
    "        print(f'\\n\\nOptimizing model for {target}\\n\\n')\n",
    "        optimize_model(train_df_feat, target, train_fold, validation_fold)\n",
    "        time_taken = time.time() - time_search_start\n",
    "        print(f'Time taken: {timedelta(seconds=time_taken)}')   "
   ]
  },
  {
   "cell_type": "code",
   "execution_count": null,
   "metadata": {},
   "outputs": [],
   "source": [
    "target_columns = ['X4_mean', 'X11_mean', 'X18_mean', 'X50_mean', 'X26_mean', 'X3112_mean']\n",
    "\n",
    "best_r2 = []\n",
    "\n",
    "train_pred = np.zeros((train_df.shape[0], len(target_columns)))\n",
    "\n",
    "selectors = {}\n",
    "models = {}\n",
    "\n",
    "for i, target in enumerate(target_columns):    \n",
    "\n",
    "    tf.keras.backend.clear_session()\n",
    "    gc.collect()\n",
    "    \n",
    "    study = optuna.create_study(direction='maximize',\n",
    "                        study_name=study_name,\n",
    "                        storage=f'sqlite:///525_xgboost_{target}.db',\n",
    "                        load_if_exists=True                            \n",
    "                            )\n",
    "    \n",
    "    best_params = study.best_trial.params\n",
    "\n",
    "    print(f'Best value {study.best_value}')\n",
    "    print(f'Best params for {target}: {best_params}')\n",
    "    print(f'Num trials {len(study.trials)}')\n",
    "\n",
    "    best_r2.append(study.best_value)\n",
    "\n",
    "\n",
    "                \n",
    "    X_selected = get_features_array(train_df_feat['all_features'])\n",
    "    \n",
    "    \n",
    "    best_params['objective'] = 'reg:squarederror'\n",
    "    best_params['device'] = 'cuda'\n",
    "\n",
    "    \n",
    "    model = xgb.XGBRegressor(**best_params)\n",
    "    model.fit(X_selected, train_df_feat[target])\n",
    "    models[target] = model\n",
    "    \n",
    "    pred = models[target].predict(X_selected)\n",
    "    r2 = r2_score(train_df[target], pred)\n",
    "    mse = mean_squared_error(train_df[target], pred)\n",
    "    print(f'Training R2 for {target}: {r2} and MSE: {mse}')\n",
    "\n",
    "    print(f'Model for {target} {models[target]}')\n",
    "\n",
    "    train_pred[:, i] = models[target].predict(X_selected)\n",
    "\n",
    "\n",
    "train_r2 = r2_score(train_df_feat[target_columns], train_pred)\n",
    "print(f'Training R2: {train_r2}')\n",
    "\n",
    "for idx, name in enumerate(target_columns):\n",
    "    print(f'Target {name} R2: {best_r2[idx]}')"
   ]
  },
  {
   "cell_type": "code",
   "execution_count": null,
   "metadata": {},
   "outputs": [],
   "source": [
    "pickle_file_path = f'./data/test_df.pickle'\n",
    "\n",
    "with open(pickle_file_path, 'rb') as f:\n",
    "    test_df = pickle.load(f)"
   ]
  },
  {
   "cell_type": "code",
   "execution_count": null,
   "metadata": {},
   "outputs": [],
   "source": [
    "del train_df \n",
    "gc.collect()"
   ]
  },
  {
   "cell_type": "code",
   "execution_count": null,
   "metadata": {},
   "outputs": [],
   "source": [
    "test_df.head()"
   ]
  },
  {
   "cell_type": "code",
   "execution_count": null,
   "metadata": {},
   "outputs": [],
   "source": [
    "test_df_feat = prepare_features(test_df, feature_columns)"
   ]
  },
  {
   "cell_type": "code",
   "execution_count": null,
   "metadata": {},
   "outputs": [],
   "source": [
    "test_df.head()"
   ]
  },
  {
   "cell_type": "code",
   "execution_count": null,
   "metadata": {},
   "outputs": [],
   "source": [
    "\n",
    "\n",
    "test_preds = np.zeros((len(test_df), len(target_columns)))\n",
    "\n",
    "for i, target in enumerate(target_columns):\n",
    "    print(f'Predicting {target} with model {models[target]}')\n",
    "  \n",
    "    X_selected = get_features_array(test_df_feat['all_features'])\n",
    "\n",
    "    test_preds[:, i] = models[target].predict(X_selected)\n",
    "     "
   ]
  },
  {
   "cell_type": "code",
   "execution_count": null,
   "metadata": {},
   "outputs": [],
   "source": [
    "target_columns = ['X4', 'X11', 'X18', 'X50', 'X26', 'X3112']\n",
    "\n",
    "test_df_copy = test_df.copy()\n",
    "submission_df = test_df_copy[['id']].copy()\n",
    "submission_df[target_columns] = test_preds"
   ]
  },
  {
   "cell_type": "code",
   "execution_count": null,
   "metadata": {},
   "outputs": [],
   "source": [
    "submission_df.describe()"
   ]
  },
  {
   "cell_type": "code",
   "execution_count": null,
   "metadata": {},
   "outputs": [],
   "source": [
    "target_columns = ['X4_mean', 'X11_mean', 'X18_mean', 'X50_mean', 'X26_mean', 'X3112_mean']\n",
    "train_df[target_columns].describe()"
   ]
  },
  {
   "cell_type": "code",
   "execution_count": null,
   "metadata": {},
   "outputs": [],
   "source": [
    "submission_df.head()"
   ]
  },
  {
   "cell_type": "code",
   "execution_count": null,
   "metadata": {},
   "outputs": [],
   "source": [
    "submission_df.to_csv('./data/submission.csv', index=False)"
   ]
  }
 ],
 "metadata": {
  "kernelspec": {
   "display_name": "tf",
   "language": "python",
   "name": "python3"
  },
  "language_info": {
   "codemirror_mode": {
    "name": "ipython",
    "version": 3
   },
   "file_extension": ".py",
   "mimetype": "text/x-python",
   "name": "python",
   "nbconvert_exporter": "python",
   "pygments_lexer": "ipython3",
   "version": "3.9.19"
  }
 },
 "nbformat": 4,
 "nbformat_minor": 2
}
